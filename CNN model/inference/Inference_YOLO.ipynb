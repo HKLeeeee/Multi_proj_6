{
 "cells": [
  {
   "cell_type": "markdown",
   "metadata": {
    "pycharm": {
     "name": "#%% md\n"
    }
   },
   "source": [
    "# Setup\n",
    "Clone YOLOv5 repo, install dependencies"
   ]
  },
  {
   "cell_type": "code",
   "execution_count": null,
   "metadata": {
    "pycharm": {
     "is_executing": true
    }
   },
   "outputs": [],
   "source": [
    "# !git clone https://github.com/ultralytics/yolov5  # clone\n",
    "# %cd yolov5\n",
    "# %pip install -qr requirements.txt  # install"
   ]
  },
  {
   "cell_type": "markdown",
   "metadata": {
    "pycharm": {
     "name": "#%% md\n"
    }
   },
   "source": [
    "# Inference Rosemary"
   ]
  },
  {
   "cell_type": "code",
   "execution_count": 10,
   "metadata": {},
   "outputs": [
    {
     "name": "stderr",
     "output_type": "stream",
     "text": [
      "Using cache found in /home/lab03/.cache/torch/hub/ultralytics_yolov5_master\n",
      "YOLOv5 🚀 2022-6-21 Python-3.8.13 torch-1.11.0+cu102 CUDA:0 (Tesla T4, 15110MiB)\n",
      "\n",
      "Fusing layers... \n",
      "YOLOv5s summary: 213 layers, 7020913 parameters, 0 gradients\n",
      "Adding AutoShape... \n",
      "Saved 2 images to \u001b[1mruns/detect/exp2\u001b[0m\n"
     ]
    },
    {
     "name": "stdout",
     "output_type": "stream",
     "text": [
      "image 1/2: 740x416 2 Rosemary Powdery Mildews\n",
      "image 2/2: 853x640 3 Rosemary Leaf Spots\n",
      "Speed: 158.6ms pre-process, 8.8ms inference, 1.1ms NMS per image at shape (2, 3, 640, 512)\n"
     ]
    }
   ],
   "source": [
    "# %pip install -qr requirements.txt\n",
    "import torch\n",
    "\n",
    "model = torch.hub.load('ultralytics/yolov5', 'custom', path='runs/train/best_rosemary.pt')\n",
    "model.names[0] = 'Rosemary'\n",
    "model.names[1] = 'Rosemary Leaf Spot'\n",
    "model.names[2] = 'Rosemary Pest Damage'\n",
    "model.names[3] = 'Rosemary Powdery Mildew'\n",
    "\n",
    "imgs = ['https://search.pstatic.net/common/?src=http%3A%2F%2Fcafefiles.naver.net%2F20160131_129%2Feunjoo782_1454218536713DxLSt_JPEG%2F20160131_141852.jpg&type=sc960_832', \n",
    "        'https://preview.redd.it/85r65puvej781.jpg?width=640&crop=smart&auto=webp&s=3b31e42cbfd52462d67c59c31fa07c2886bfcb67']\n",
    "\n",
    "results = model(imgs)\n",
    "\n",
    "results.print()\n",
    "# results.show() # or save()\n",
    "# results.save()"
   ]
  },
  {
   "cell_type": "markdown",
   "metadata": {
    "pycharm": {
     "name": "#%% md\n"
    }
   },
   "source": [
    "# Inference Geranium"
   ]
  },
  {
   "cell_type": "code",
   "execution_count": 13,
   "metadata": {
    "collapsed": true
   },
   "outputs": [
    {
     "name": "stderr",
     "output_type": "stream",
     "text": [
      "Using cache found in /home/lab03/.cache/torch/hub/ultralytics_yolov5_master\n",
      "YOLOv5 🚀 2022-6-21 Python-3.8.13 torch-1.11.0+cu102 CUDA:0 (Tesla T4, 15110MiB)\n",
      "\n",
      "Fusing layers... \n",
      "custom_YOLOv5l6 summary: 501 layers, 76634028 parameters, 0 gradients\n",
      "Adding AutoShape... \n",
      "Saved 4 images to \u001b[1mruns/detect/exp5\u001b[0m\n"
     ]
    },
    {
     "name": "stdout",
     "output_type": "stream",
     "text": [
      "image 1/4: 1280x1280 4 Geraniums, 2 Geranium Gray Molds, 2 Geranium Leaf Spots\n",
      "image 2/4: 1365x2048 3 Geranium Gray Molds\n",
      "image 3/4: 280x390 1 Geranium Gray Mold, 1 Geranium Leaf Spot, 1 Geranium Pest Damage\n",
      "image 4/4: 533x800 2 Geranium Gray Molds, 3 Geranium Pest Damages\n",
      "Speed: 956.1ms pre-process, 49.9ms inference, 1.1ms NMS per image at shape (4, 3, 640, 640)\n"
     ]
    }
   ],
   "source": [
    "model = torch.hub.load('ultralytics/yolov5', 'custom', path='runs/train/best_geranium.pt')\n",
    "\n",
    "imgs = ['https://cdn11.bigcommerce.com/s-i7i23daso6/images/stencil/1280x1280/products/7761/24128/Geranium_Grandeur_White_0008842__10053.1642174743.jpg?c=1', \n",
    "        'https://www.purduelandscapereport.org/wp-content/uploads/2020/06/Fig-3geranium-botrytis-blight.jpg', \n",
    "        'https://image.shutterstock.com/image-photo/cranesbill-geranium-leaves-turning-brown-260nw-1839800200.jpg', \n",
    "        'https://gardenerspath.com/wp-content/uploads/2020/10/Geraniums-with-Insect-Damage.jpg']\n",
    "\n",
    "results = model(imgs)\n",
    "\n",
    "results.print()\n",
    "# results.show() # or save()\n",
    "# results.save()"
   ]
  }
 ],
 "metadata": {
  "kernelspec": {
   "display_name": "Python 3 (ipykernel)",
   "language": "python",
   "name": "python3"
  },
  "language_info": {
   "codemirror_mode": {
    "name": "ipython",
    "version": 3
   },
   "file_extension": ".py",
   "mimetype": "text/x-python",
   "name": "python",
   "nbconvert_exporter": "python",
   "pygments_lexer": "ipython3",
   "version": "3.9.12"
  }
 },
 "nbformat": 4,
 "nbformat_minor": 1
}
