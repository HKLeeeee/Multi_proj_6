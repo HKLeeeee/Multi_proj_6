{
 "cells": [
  {
   "cell_type": "code",
   "execution_count": 2,
   "id": "a6de7ae3",
   "metadata": {},
   "outputs": [],
   "source": [
    "TF_ENABLE_ONEDNN_OPTS=0"
   ]
  },
  {
   "cell_type": "code",
   "execution_count": 3,
   "id": "0ba4a6aa",
   "metadata": {
    "scrolled": true
   },
   "outputs": [
    {
     "name": "stderr",
     "output_type": "stream",
     "text": [
      "/home/ubuntu/anaconda3/envs/smartpot/lib/python3.9/site-packages/tqdm/auto.py:22: TqdmWarning: IProgress not found. Please update jupyter and ipywidgets. See https://ipywidgets.readthedocs.io/en/stable/user_install.html\n",
      "  from .autonotebook import tqdm as notebook_tqdm\n"
     ]
    }
   ],
   "source": [
    "import os \n",
    "import sys\n",
    "import numpy as np\n",
    "import pandas as pd\n",
    "import matplotlib.pyplot as plt\n",
    "from glob import glob\n",
    "from tqdm.auto import tqdm\n",
    "import cv2\n",
    "\n",
    "# from tensorflow.keras.applications import Densnet\n",
    "import tensorflow as tf\n",
    "from tensorflow.keras.models import Sequential, Model\n",
    "from tensorflow.keras import layers\n",
    "import tensorflow.keras as keras\n",
    "from tensorflow.data import Dataset\n",
    "\n",
    "from tensorflow.keras.optimizers import Adam, RMSprop, Nadam, SGD\n",
    "from tensorflow.keras.callbacks import ModelCheckpoint, EarlyStopping\n",
    "\n",
    "from itertools import product\n",
    "from tensorflow.keras.preprocessing.image import ImageDataGenerator\n",
    "\n",
    "from tensorflow.keras.applications import *\n",
    "from sklearn.preprocessing import LabelEncoder"
   ]
  },
  {
   "cell_type": "code",
   "execution_count": 4,
   "id": "cbe840b9",
   "metadata": {},
   "outputs": [],
   "source": [
    "BATCH_SIZE = 20\n",
    "IMAGE_SIZE = 320"
   ]
  },
  {
   "cell_type": "code",
   "execution_count": 5,
   "id": "4054aa2a",
   "metadata": {
    "scrolled": false
   },
   "outputs": [
    {
     "data": {
      "text/html": [
       "<div>\n",
       "<style scoped>\n",
       "    .dataframe tbody tr th:only-of-type {\n",
       "        vertical-align: middle;\n",
       "    }\n",
       "\n",
       "    .dataframe tbody tr th {\n",
       "        vertical-align: top;\n",
       "    }\n",
       "\n",
       "    .dataframe thead th {\n",
       "        text-align: right;\n",
       "    }\n",
       "</style>\n",
       "<table border=\"1\" class=\"dataframe\">\n",
       "  <thead>\n",
       "    <tr style=\"text-align: right;\">\n",
       "      <th></th>\n",
       "      <th>image</th>\n",
       "      <th>date</th>\n",
       "      <th>height</th>\n",
       "      <th>width</th>\n",
       "      <th>type</th>\n",
       "      <th>disease</th>\n",
       "      <th>crop</th>\n",
       "      <th>area</th>\n",
       "      <th>grow</th>\n",
       "      <th>risk</th>\n",
       "      <th>points</th>\n",
       "    </tr>\n",
       "  </thead>\n",
       "  <tbody>\n",
       "    <tr>\n",
       "      <th>0</th>\n",
       "      <td>V006_77_0_00_04_01_13_0_b02_20201203_0000_S01_...</td>\n",
       "      <td>2020-12-03</td>\n",
       "      <td>4032</td>\n",
       "      <td>3024</td>\n",
       "      <td>0</td>\n",
       "      <td>0</td>\n",
       "      <td>4</td>\n",
       "      <td>1</td>\n",
       "      <td>13</td>\n",
       "      <td>0</td>\n",
       "      <td>[{'xtl': 1003, 'ytl': 1167, 'xbr': 2255, 'ybr'...</td>\n",
       "    </tr>\n",
       "    <tr>\n",
       "      <th>1</th>\n",
       "      <td>V006_77_0_00_04_01_13_0_b02_20201203_0001_S01_...</td>\n",
       "      <td>2020-12-03</td>\n",
       "      <td>4032</td>\n",
       "      <td>3024</td>\n",
       "      <td>0</td>\n",
       "      <td>0</td>\n",
       "      <td>4</td>\n",
       "      <td>1</td>\n",
       "      <td>13</td>\n",
       "      <td>0</td>\n",
       "      <td>[{'xtl': 600, 'ytl': 1087, 'xbr': 1628, 'ybr':...</td>\n",
       "    </tr>\n",
       "    <tr>\n",
       "      <th>2</th>\n",
       "      <td>V006_77_0_00_04_01_13_0_b02_20201203_0002_S01_...</td>\n",
       "      <td>2020-12-03</td>\n",
       "      <td>4032</td>\n",
       "      <td>3024</td>\n",
       "      <td>0</td>\n",
       "      <td>0</td>\n",
       "      <td>4</td>\n",
       "      <td>1</td>\n",
       "      <td>13</td>\n",
       "      <td>0</td>\n",
       "      <td>[{'xtl': 1003, 'ytl': 1217, 'xbr': 2503, 'ybr'...</td>\n",
       "    </tr>\n",
       "    <tr>\n",
       "      <th>3</th>\n",
       "      <td>V006_77_0_00_04_01_13_0_b02_20201203_0003_S01_...</td>\n",
       "      <td>2020-12-03</td>\n",
       "      <td>4032</td>\n",
       "      <td>3024</td>\n",
       "      <td>0</td>\n",
       "      <td>0</td>\n",
       "      <td>4</td>\n",
       "      <td>1</td>\n",
       "      <td>13</td>\n",
       "      <td>0</td>\n",
       "      <td>[{'xtl': 662, 'ytl': 1252, 'xbr': 2129, 'ybr':...</td>\n",
       "    </tr>\n",
       "    <tr>\n",
       "      <th>4</th>\n",
       "      <td>V006_77_0_00_04_01_13_0_b02_20201203_0004_S01_...</td>\n",
       "      <td>2020-12-03</td>\n",
       "      <td>4032</td>\n",
       "      <td>3024</td>\n",
       "      <td>0</td>\n",
       "      <td>0</td>\n",
       "      <td>4</td>\n",
       "      <td>1</td>\n",
       "      <td>13</td>\n",
       "      <td>0</td>\n",
       "      <td>[{'xtl': 370, 'ytl': 884, 'xbr': 1994, 'ybr': ...</td>\n",
       "    </tr>\n",
       "  </tbody>\n",
       "</table>\n",
       "</div>"
      ],
      "text/plain": [
       "                                               image        date  height  \\\n",
       "0  V006_77_0_00_04_01_13_0_b02_20201203_0000_S01_...  2020-12-03    4032   \n",
       "1  V006_77_0_00_04_01_13_0_b02_20201203_0001_S01_...  2020-12-03    4032   \n",
       "2  V006_77_0_00_04_01_13_0_b02_20201203_0002_S01_...  2020-12-03    4032   \n",
       "3  V006_77_0_00_04_01_13_0_b02_20201203_0003_S01_...  2020-12-03    4032   \n",
       "4  V006_77_0_00_04_01_13_0_b02_20201203_0004_S01_...  2020-12-03    4032   \n",
       "\n",
       "   width  type  disease  crop  area  grow  risk  \\\n",
       "0   3024     0        0     4     1    13     0   \n",
       "1   3024     0        0     4     1    13     0   \n",
       "2   3024     0        0     4     1    13     0   \n",
       "3   3024     0        0     4     1    13     0   \n",
       "4   3024     0        0     4     1    13     0   \n",
       "\n",
       "                                              points  \n",
       "0  [{'xtl': 1003, 'ytl': 1167, 'xbr': 2255, 'ybr'...  \n",
       "1  [{'xtl': 600, 'ytl': 1087, 'xbr': 1628, 'ybr':...  \n",
       "2  [{'xtl': 1003, 'ytl': 1217, 'xbr': 2503, 'ybr'...  \n",
       "3  [{'xtl': 662, 'ytl': 1252, 'xbr': 2129, 'ybr':...  \n",
       "4  [{'xtl': 370, 'ytl': 884, 'xbr': 1994, 'ybr': ...  "
      ]
     },
     "execution_count": 5,
     "metadata": {},
     "output_type": "execute_result"
    }
   ],
   "source": [
    "root_dir = '/home/lab38/images'\n",
    "sample_csv = '딸기_정상_수정본.csv'\n",
    "df = pd.read_csv(os.path.join(root_dir, sample_csv))\n",
    "df.head()"
   ]
  },
  {
   "cell_type": "code",
   "execution_count": 22,
   "id": "5ce098de",
   "metadata": {},
   "outputs": [
    {
     "data": {
      "text/html": [
       "<div>\n",
       "<style scoped>\n",
       "    .dataframe tbody tr th:only-of-type {\n",
       "        vertical-align: middle;\n",
       "    }\n",
       "\n",
       "    .dataframe tbody tr th {\n",
       "        vertical-align: top;\n",
       "    }\n",
       "\n",
       "    .dataframe thead th {\n",
       "        text-align: right;\n",
       "    }\n",
       "</style>\n",
       "<table border=\"1\" class=\"dataframe\">\n",
       "  <thead>\n",
       "    <tr style=\"text-align: right;\">\n",
       "      <th></th>\n",
       "      <th>image</th>\n",
       "      <th>disease</th>\n",
       "      <th>crop</th>\n",
       "      <th>area</th>\n",
       "      <th>grow</th>\n",
       "      <th>points</th>\n",
       "    </tr>\n",
       "  </thead>\n",
       "  <tbody>\n",
       "    <tr>\n",
       "      <th>0</th>\n",
       "      <td>/home/lab38/images/딸기_정상/V006_77_0_00_04_01_13...</td>\n",
       "      <td>0</td>\n",
       "      <td>4</td>\n",
       "      <td>0</td>\n",
       "      <td>1</td>\n",
       "      <td>[{'xtl': 1003, 'ytl': 1167, 'xbr': 2255, 'ybr'...</td>\n",
       "    </tr>\n",
       "    <tr>\n",
       "      <th>1</th>\n",
       "      <td>/home/lab38/images/딸기_정상/V006_77_0_00_04_01_13...</td>\n",
       "      <td>0</td>\n",
       "      <td>4</td>\n",
       "      <td>0</td>\n",
       "      <td>1</td>\n",
       "      <td>[{'xtl': 600, 'ytl': 1087, 'xbr': 1628, 'ybr':...</td>\n",
       "    </tr>\n",
       "    <tr>\n",
       "      <th>2</th>\n",
       "      <td>/home/lab38/images/딸기_정상/V006_77_0_00_04_01_13...</td>\n",
       "      <td>0</td>\n",
       "      <td>4</td>\n",
       "      <td>0</td>\n",
       "      <td>1</td>\n",
       "      <td>[{'xtl': 1003, 'ytl': 1217, 'xbr': 2503, 'ybr'...</td>\n",
       "    </tr>\n",
       "    <tr>\n",
       "      <th>3</th>\n",
       "      <td>/home/lab38/images/딸기_정상/V006_77_0_00_04_01_13...</td>\n",
       "      <td>0</td>\n",
       "      <td>4</td>\n",
       "      <td>0</td>\n",
       "      <td>1</td>\n",
       "      <td>[{'xtl': 662, 'ytl': 1252, 'xbr': 2129, 'ybr':...</td>\n",
       "    </tr>\n",
       "    <tr>\n",
       "      <th>4</th>\n",
       "      <td>/home/lab38/images/딸기_정상/V006_77_0_00_04_01_13...</td>\n",
       "      <td>0</td>\n",
       "      <td>4</td>\n",
       "      <td>0</td>\n",
       "      <td>1</td>\n",
       "      <td>[{'xtl': 370, 'ytl': 884, 'xbr': 1994, 'ybr': ...</td>\n",
       "    </tr>\n",
       "  </tbody>\n",
       "</table>\n",
       "</div>"
      ],
      "text/plain": [
       "                                               image  disease  crop  area  \\\n",
       "0  /home/lab38/images/딸기_정상/V006_77_0_00_04_01_13...        0     4     0   \n",
       "1  /home/lab38/images/딸기_정상/V006_77_0_00_04_01_13...        0     4     0   \n",
       "2  /home/lab38/images/딸기_정상/V006_77_0_00_04_01_13...        0     4     0   \n",
       "3  /home/lab38/images/딸기_정상/V006_77_0_00_04_01_13...        0     4     0   \n",
       "4  /home/lab38/images/딸기_정상/V006_77_0_00_04_01_13...        0     4     0   \n",
       "\n",
       "   grow                                             points  \n",
       "0     1  [{'xtl': 1003, 'ytl': 1167, 'xbr': 2255, 'ybr'...  \n",
       "1     1  [{'xtl': 600, 'ytl': 1087, 'xbr': 1628, 'ybr':...  \n",
       "2     1  [{'xtl': 1003, 'ytl': 1217, 'xbr': 2503, 'ybr'...  \n",
       "3     1  [{'xtl': 662, 'ytl': 1252, 'xbr': 2129, 'ybr':...  \n",
       "4     1  [{'xtl': 370, 'ytl': 884, 'xbr': 1994, 'ybr': ...  "
      ]
     },
     "execution_count": 22,
     "metadata": {},
     "output_type": "execute_result"
    }
   ],
   "source": [
    "df_s = df.copy()\n",
    "df_s.drop(['date', 'height', 'width', 'type', 'risk'], axis=1, inplace=True)\n",
    "df_s.head()"
   ]
  },
  {
   "cell_type": "code",
   "execution_count": 20,
   "id": "fa405f98",
   "metadata": {},
   "outputs": [
    {
     "data": {
      "text/plain": [
       "['/home/lab38/images/딸기_정상_수정본.csv']"
      ]
     },
     "execution_count": 20,
     "metadata": {},
     "output_type": "execute_result"
    }
   ],
   "source": [
    "glob('/home/lab38/images/*.csv')"
   ]
  },
  {
   "cell_type": "code",
   "execution_count": 6,
   "id": "ce1ae55f",
   "metadata": {},
   "outputs": [],
   "source": [
    "sample_img_path = os.path.join(root_dir, '딸기_정상')\n",
    "df['image'] = df['image'].map(lambda x : os.path.join(sample_img_path, x))"
   ]
  },
  {
   "cell_type": "code",
   "execution_count": 7,
   "id": "4be05f01",
   "metadata": {
    "scrolled": true
   },
   "outputs": [
    {
     "data": {
      "text/html": [
       "<div>\n",
       "<style scoped>\n",
       "    .dataframe tbody tr th:only-of-type {\n",
       "        vertical-align: middle;\n",
       "    }\n",
       "\n",
       "    .dataframe tbody tr th {\n",
       "        vertical-align: top;\n",
       "    }\n",
       "\n",
       "    .dataframe thead th {\n",
       "        text-align: right;\n",
       "    }\n",
       "</style>\n",
       "<table border=\"1\" class=\"dataframe\">\n",
       "  <thead>\n",
       "    <tr style=\"text-align: right;\">\n",
       "      <th></th>\n",
       "      <th>image</th>\n",
       "      <th>date</th>\n",
       "      <th>height</th>\n",
       "      <th>width</th>\n",
       "      <th>type</th>\n",
       "      <th>disease</th>\n",
       "      <th>crop</th>\n",
       "      <th>area</th>\n",
       "      <th>grow</th>\n",
       "      <th>risk</th>\n",
       "      <th>points</th>\n",
       "    </tr>\n",
       "  </thead>\n",
       "  <tbody>\n",
       "    <tr>\n",
       "      <th>0</th>\n",
       "      <td>/home/lab38/images/딸기_정상/V006_77_0_00_04_01_13...</td>\n",
       "      <td>2020-12-03</td>\n",
       "      <td>4032</td>\n",
       "      <td>3024</td>\n",
       "      <td>0</td>\n",
       "      <td>0</td>\n",
       "      <td>4</td>\n",
       "      <td>1</td>\n",
       "      <td>13</td>\n",
       "      <td>0</td>\n",
       "      <td>[{'xtl': 1003, 'ytl': 1167, 'xbr': 2255, 'ybr'...</td>\n",
       "    </tr>\n",
       "    <tr>\n",
       "      <th>1</th>\n",
       "      <td>/home/lab38/images/딸기_정상/V006_77_0_00_04_01_13...</td>\n",
       "      <td>2020-12-03</td>\n",
       "      <td>4032</td>\n",
       "      <td>3024</td>\n",
       "      <td>0</td>\n",
       "      <td>0</td>\n",
       "      <td>4</td>\n",
       "      <td>1</td>\n",
       "      <td>13</td>\n",
       "      <td>0</td>\n",
       "      <td>[{'xtl': 600, 'ytl': 1087, 'xbr': 1628, 'ybr':...</td>\n",
       "    </tr>\n",
       "    <tr>\n",
       "      <th>2</th>\n",
       "      <td>/home/lab38/images/딸기_정상/V006_77_0_00_04_01_13...</td>\n",
       "      <td>2020-12-03</td>\n",
       "      <td>4032</td>\n",
       "      <td>3024</td>\n",
       "      <td>0</td>\n",
       "      <td>0</td>\n",
       "      <td>4</td>\n",
       "      <td>1</td>\n",
       "      <td>13</td>\n",
       "      <td>0</td>\n",
       "      <td>[{'xtl': 1003, 'ytl': 1217, 'xbr': 2503, 'ybr'...</td>\n",
       "    </tr>\n",
       "    <tr>\n",
       "      <th>3</th>\n",
       "      <td>/home/lab38/images/딸기_정상/V006_77_0_00_04_01_13...</td>\n",
       "      <td>2020-12-03</td>\n",
       "      <td>4032</td>\n",
       "      <td>3024</td>\n",
       "      <td>0</td>\n",
       "      <td>0</td>\n",
       "      <td>4</td>\n",
       "      <td>1</td>\n",
       "      <td>13</td>\n",
       "      <td>0</td>\n",
       "      <td>[{'xtl': 662, 'ytl': 1252, 'xbr': 2129, 'ybr':...</td>\n",
       "    </tr>\n",
       "    <tr>\n",
       "      <th>4</th>\n",
       "      <td>/home/lab38/images/딸기_정상/V006_77_0_00_04_01_13...</td>\n",
       "      <td>2020-12-03</td>\n",
       "      <td>4032</td>\n",
       "      <td>3024</td>\n",
       "      <td>0</td>\n",
       "      <td>0</td>\n",
       "      <td>4</td>\n",
       "      <td>1</td>\n",
       "      <td>13</td>\n",
       "      <td>0</td>\n",
       "      <td>[{'xtl': 370, 'ytl': 884, 'xbr': 1994, 'ybr': ...</td>\n",
       "    </tr>\n",
       "  </tbody>\n",
       "</table>\n",
       "</div>"
      ],
      "text/plain": [
       "                                               image        date  height  \\\n",
       "0  /home/lab38/images/딸기_정상/V006_77_0_00_04_01_13...  2020-12-03    4032   \n",
       "1  /home/lab38/images/딸기_정상/V006_77_0_00_04_01_13...  2020-12-03    4032   \n",
       "2  /home/lab38/images/딸기_정상/V006_77_0_00_04_01_13...  2020-12-03    4032   \n",
       "3  /home/lab38/images/딸기_정상/V006_77_0_00_04_01_13...  2020-12-03    4032   \n",
       "4  /home/lab38/images/딸기_정상/V006_77_0_00_04_01_13...  2020-12-03    4032   \n",
       "\n",
       "   width  type  disease  crop  area  grow  risk  \\\n",
       "0   3024     0        0     4     1    13     0   \n",
       "1   3024     0        0     4     1    13     0   \n",
       "2   3024     0        0     4     1    13     0   \n",
       "3   3024     0        0     4     1    13     0   \n",
       "4   3024     0        0     4     1    13     0   \n",
       "\n",
       "                                              points  \n",
       "0  [{'xtl': 1003, 'ytl': 1167, 'xbr': 2255, 'ybr'...  \n",
       "1  [{'xtl': 600, 'ytl': 1087, 'xbr': 1628, 'ybr':...  \n",
       "2  [{'xtl': 1003, 'ytl': 1217, 'xbr': 2503, 'ybr'...  \n",
       "3  [{'xtl': 662, 'ytl': 1252, 'xbr': 2129, 'ybr':...  \n",
       "4  [{'xtl': 370, 'ytl': 884, 'xbr': 1994, 'ybr': ...  "
      ]
     },
     "execution_count": 7,
     "metadata": {},
     "output_type": "execute_result"
    }
   ],
   "source": [
    "df.head()"
   ]
  },
  {
   "cell_type": "markdown",
   "id": "969c6ddb",
   "metadata": {},
   "source": [
    "Scikit learn Label Encodor "
   ]
  },
  {
   "cell_type": "code",
   "execution_count": 8,
   "id": "ffd52cc6",
   "metadata": {},
   "outputs": [],
   "source": [
    "a_en = LabelEncoder()\n",
    "g_en = LabelEncoder()\n",
    "d_en = LabelEncoder()\n",
    "\n",
    "a_en.fit(df['area'])\n",
    "g_en.fit(df['grow'])\n",
    "d_en.fit(df['disease'])\n",
    "\n",
    "df['area'] = a_en.transform(df['area'])\n",
    "df['grow'] = g_en.transform(df['grow'])\n",
    "df['disease'] = d_en.transform(df['disease'])"
   ]
  },
  {
   "cell_type": "code",
   "execution_count": 9,
   "id": "b67c0405",
   "metadata": {},
   "outputs": [],
   "source": [
    "shuffled_df = df.sample(frac=1)\n",
    "# Train : Validation = 0.8 : 0.2 Split\n",
    "train_len = int(len(df)*0.8)\n",
    "\n",
    "train_df = shuffled_df[:100]\n",
    "valid_df = shuffled_df[-100:]\n",
    "\n",
    "train_img_path = train_df['image'].to_list()\n",
    "train_label = train_df['grow'].to_list()\n",
    "\n",
    "valid_img_path = valid_df['image'].to_list()\n",
    "valid_label = valid_df['grow'].to_list()"
   ]
  },
  {
   "cell_type": "markdown",
   "id": "61a6bb9e",
   "metadata": {},
   "source": [
    "### Try 1 : Custom Data Generator"
   ]
  },
  {
   "cell_type": "code",
   "execution_count": 121,
   "id": "d824ea90",
   "metadata": {},
   "outputs": [],
   "source": [
    "class CustomDataGen(tf.keras.utils.Sequence):\n",
    "    def __init__(self, df, X_col, y_col,\n",
    "                 batch_size,\n",
    "                 input_size=(224, 224, 3),\n",
    "                 shuffle=True):\n",
    "        \n",
    "        self.df = df.copy()\n",
    "        self.X_col = X_col\n",
    "        self.y_col = y_col\n",
    "        self.batch_size = batch_size\n",
    "        self.input_size = input_size\n",
    "        self.shuffle = shuffle\n",
    "        \n",
    "        self.n = len(self.df)\n",
    "        \n",
    "        self.n_cls1 = df[self.y_col['cls1']].nunique()\n",
    "#         self.cls1_en = LabelEncoder()\n",
    "#         self.cls1_en.fit(self.df[self.y_col['cls1']])\n",
    "#         self.df[self.y_col['cls1']] = self.cls1_en.transform(self.df[self.y_col['cls1']])\n",
    "        \n",
    "        self.n_cls2 = df[self.y_col['cls2']].nunique()\n",
    "#         self.cls2_en = LabelEncoder()\n",
    "#         self.cls2_en.fit(self.df[self.y_col['cls2']])\n",
    "#         self.df[self.y_col['cls2']] = self.cls2_en.transform(self.df[self.y_col['cls2']])\n",
    "        \n",
    "        self.n_cls3 = df[self.y_col['cls3']].nunique()\n",
    "#         self.cls3_en = LabelEncoder()\n",
    "#         self.cls3_en.fit(self.df[self.y_col['cls3']])\n",
    "#         self.df[self.y_col['cls3']] = self.cls3_en.transform(self.df[self.y_col['cls3']])\n",
    "#         self.n_type = df[y_col['type']].nunique()\n",
    "        print(self.n_cls1, self.n_cls2, self.n_cls3)\n",
    "    \n",
    "    def on_epoch_end(self):\n",
    "        if self.shuffle:\n",
    "            self.df = self.df.sample(frac=1).reset_index(drop=True)\n",
    "    \n",
    "    def __get_input(self, path, target_size):\n",
    "    \n",
    "#         xmin, ymin, w, h = bbox['x'], bbox['y'], bbox['width'], bbox['height']\n",
    "\n",
    "        image = tf.keras.preprocessing.image.load_img(path)\n",
    "        image = tf.keras.preprocessing.image.img_to_array(image)\n",
    "        image = image / 255.\n",
    "        image = tf.image.resize(image, (target_size[0], target_size[1])).numpy()\n",
    "        \n",
    "#         image_arr = image_arr[ymin:ymin+h, xmin:xmin+w]\n",
    "#         image_arr = tf.image.resize(image_arr,(target_size[0], target_size[1])).numpy() \n",
    "        \n",
    "        return image\n",
    "    \n",
    "    def __get_output(self, label, num_classes):\n",
    "        return label\n",
    "#         return tf.keras.utils.to_categorical(label, num_classes=num_classes)\n",
    "\n",
    "    def __get_data(self, batches):\n",
    "        # Generates data containing batch_size samples\n",
    "        path_batch = batches[self.X_col['path']]\n",
    "#         bbox_batch = batches[self.X_col['bbox']]\n",
    "        \n",
    "        cls1_batch = batches[self.y_col['cls1']]\n",
    "        cls2_batch = batches[self.y_col['cls2']]\n",
    "        cls3_batch = batches[self.y_col['cls3']]\n",
    "#         type_batch = batches[self.y_col['type']]\n",
    "\n",
    "        X_batch = np.asarray([self.__get_input(x, self.input_size) for x in path_batch])\n",
    "\n",
    "        y1_batch = np.asarray([self.__get_output(y, self.n_cls1) for y in cls1_batch])\n",
    "        y2_batch = np.asarray([self.__get_output(y, self.n_cls2) for y in cls2_batch])\n",
    "        y3_batch = np.asarray([self.__get_output(y, self.n_cls3) for y in cls3_batch])\n",
    "#         y1_batch = np.asarray([self.__get_output(y, self.n_type) for y in type_batch])\n",
    "\n",
    "        print(y1_batch.shape, y1_batch.dtype, type(y1_batch))\n",
    "        print(pd.DataFrame(y1_batch))\n",
    "        print(y2_batch.shape)\n",
    "        print(pd.DataFrame(y2_batch))\n",
    "        print(y3_batch.shape)\n",
    "        print(pd.DataFrame(y2_batch))\n",
    "        print(np.asarray([y1_batch, y2_batch, y3_batch]).shape)\n",
    "        #return X_batch, np.asarray([y1_batch, y2_batch, y3_batch])\n",
    "        return X_batch, y1_batch, y2_batch, y3_batch\n",
    "    \n",
    "    def __getitem__(self, index):\n",
    "        \n",
    "        batches = self.df[index * self.batch_size:(index + 1) * self.batch_size]\n",
    "        X, y1, y2, y3 = self.__get_data(batches)        \n",
    "        yield X, {'a':y1, 'g':y2, 'd':y3}\n",
    "    \n",
    "    def __len__(self):\n",
    "        return self.n // self.batch_size\n"
   ]
  },
  {
   "cell_type": "code",
   "execution_count": 122,
   "id": "73e499d0",
   "metadata": {},
   "outputs": [
    {
     "name": "stdout",
     "output_type": "stream",
     "text": [
      "4 1 2\n",
      "4 1 2\n"
     ]
    }
   ],
   "source": [
    "traingen = CustomDataGen(train_df,\n",
    "                        X_col = {'path':'image'},\n",
    "                        y_col = {'cls1' : 'area', 'cls2' : 'disease', 'cls3':'grow'},\n",
    "                        batch_size = 2,\n",
    "                        input_size = (IMAGE_SIZE, IMAGE_SIZE, 3))\n",
    "validgen = CustomDataGen(valid_df,\n",
    "                        X_col = {'path':'image'},\n",
    "                        y_col = {'cls1' : 'area', 'cls2' : 'disease', 'cls3':'grow'},\n",
    "                        batch_size = 2,\n",
    "                        input_size = (IMAGE_SIZE, IMAGE_SIZE, 3))"
   ]
  },
  {
   "cell_type": "markdown",
   "id": "24bc0b52",
   "metadata": {},
   "source": [
    "## Try 2 : keras ImageDataGeneraotor, flow from dataframe"
   ]
  },
  {
   "cell_type": "code",
   "execution_count": 10,
   "id": "e088cd42",
   "metadata": {},
   "outputs": [],
   "source": [
    "from tensorflow.keras.preprocessing import image\n",
    "from tensorflow.keras.preprocessing.image import ImageDataGenerator\n",
    "\n",
    "train_gen = ImageDataGenerator(rescale=1./255,\n",
    "                            rotation_range=20, # 최대 20도까지 회전\n",
    "                            width_shift_range=0.1, # 최대 x 범위안에서 좌우/상하 이동\n",
    "                            height_shift_range=0.1,\n",
    "                            zoom_range=0.2, # 확대 축소 비율,\n",
    "                            horizontal_flip=True, # 좌우반전\n",
    "                            vertical_flip=True, # 상하반전\n",
    "                            fill_mode='nearest')\n",
    "valid_gen = ImageDataGenerator(rescale= 1. /255.)"
   ]
  },
  {
   "cell_type": "code",
   "execution_count": 11,
   "id": "c805040c",
   "metadata": {
    "scrolled": true
   },
   "outputs": [
    {
     "name": "stdout",
     "output_type": "stream",
     "text": [
      "Found 100 validated image filenames.\n"
     ]
    }
   ],
   "source": [
    "train_generator = train_gen.flow_from_dataframe(train_df, \n",
    "                                               x_col='image',\n",
    "                                               y_col=['area', 'disease', 'grow'],\n",
    "                                               target_size=(IMAGE_SIZE, IMAGE_SIZE),\n",
    "                                               class_mode='multi_output',\n",
    "                                               batch_size=BATCH_SIZE)"
   ]
  },
  {
   "cell_type": "code",
   "execution_count": 12,
   "id": "695eedc1",
   "metadata": {
    "scrolled": true
   },
   "outputs": [
    {
     "name": "stdout",
     "output_type": "stream",
     "text": [
      "Found 100 validated image filenames.\n"
     ]
    }
   ],
   "source": [
    "valid_generator = valid_gen.flow_from_dataframe(valid_df,\n",
    "                                               x_col='image',\n",
    "                                               y_col=['area','disease','grow'],\n",
    "                                               target_size=(IMAGE_SIZE, IMAGE_SIZE),\n",
    "                                               class_mode='multi_output',\n",
    "                                               batch_size=BATCH_SIZE)"
   ]
  },
  {
   "cell_type": "markdown",
   "id": "cabd4d29",
   "metadata": {},
   "source": [
    "Check"
   ]
  },
  {
   "cell_type": "code",
   "execution_count": 13,
   "id": "33576263",
   "metadata": {},
   "outputs": [],
   "source": [
    "X, y = train_generator[0]"
   ]
  },
  {
   "cell_type": "code",
   "execution_count": 14,
   "id": "2ec29b8c",
   "metadata": {},
   "outputs": [
    {
     "data": {
      "text/plain": [
       "(20, 320, 320, 3)"
      ]
     },
     "execution_count": 14,
     "metadata": {},
     "output_type": "execute_result"
    }
   ],
   "source": [
    "X.shape"
   ]
  },
  {
   "cell_type": "code",
   "execution_count": 15,
   "id": "a097da9b",
   "metadata": {
    "scrolled": true
   },
   "outputs": [
    {
     "data": {
      "text/plain": [
       "[array([3, 0, 1, 2, 1, 1, 1, 1, 1, 3, 2, 2, 1, 3, 2, 2, 0, 1, 1, 1]),\n",
       " array([0, 0, 0, 0, 0, 0, 0, 0, 0, 0, 0, 0, 0, 0, 0, 0, 0, 0, 0, 0]),\n",
       " array([0, 1, 1, 0, 1, 1, 1, 1, 1, 0, 1, 0, 1, 1, 1, 0, 1, 1, 1, 1])]"
      ]
     },
     "execution_count": 15,
     "metadata": {},
     "output_type": "execute_result"
    }
   ],
   "source": [
    "y"
   ]
  },
  {
   "cell_type": "markdown",
   "id": "83a8c4de",
   "metadata": {},
   "source": [
    "---  \n",
    "# Multi Output Model"
   ]
  },
  {
   "cell_type": "code",
   "execution_count": 17,
   "id": "92190882",
   "metadata": {},
   "outputs": [
    {
     "name": "stdout",
     "output_type": "stream",
     "text": [
      "Model: \"test\"\n",
      "__________________________________________________________________________________________________\n",
      "Layer (type)                    Output Shape         Param #     Connected to                     \n",
      "==================================================================================================\n",
      "img (InputLayer)                [(None, 320, 320, 3) 0                                            \n",
      "__________________________________________________________________________________________________\n",
      "conv2d_2 (Conv2D)               (None, 318, 318, 16) 448         img[0][0]                        \n",
      "__________________________________________________________________________________________________\n",
      "conv2d_3 (Conv2D)               (None, 316, 316, 32) 4640        conv2d_2[0][0]                   \n",
      "__________________________________________________________________________________________________\n",
      "max_pooling2d_1 (MaxPooling2D)  (None, 105, 105, 32) 0           conv2d_3[0][0]                   \n",
      "__________________________________________________________________________________________________\n",
      "flatten_1 (Flatten)             (None, 352800)       0           max_pooling2d_1[0][0]            \n",
      "__________________________________________________________________________________________________\n",
      "dropout_1 (Dropout)             (None, 352800)       0           flatten_1[0][0]                  \n",
      "__________________________________________________________________________________________________\n",
      "dense_1 (Dense)                 (None, 32)           11289632    dropout_1[0][0]                  \n",
      "__________________________________________________________________________________________________\n",
      "a (Dense)                       (None, 4)            132         dense_1[0][0]                    \n",
      "__________________________________________________________________________________________________\n",
      "d (Dense)                       (None, 1)            33          dense_1[0][0]                    \n",
      "__________________________________________________________________________________________________\n",
      "g (Dense)                       (None, 2)            66          dense_1[0][0]                    \n",
      "==================================================================================================\n",
      "Total params: 11,294,951\n",
      "Trainable params: 11,294,951\n",
      "Non-trainable params: 0\n",
      "__________________________________________________________________________________________________\n"
     ]
    }
   ],
   "source": [
    "inputs = keras.Input(shape=(320, 320, 3), name=\"img\")\n",
    "x = layers.Conv2D(16, 3, activation=\"relu\")(inputs)\n",
    "x = layers.Conv2D(32, 3, activation=\"relu\")(x)\n",
    "x = layers.MaxPooling2D(3)(x)\n",
    "x = layers.Flatten()(x)\n",
    "x = layers.Dropout(0.5)(x)\n",
    "x = layers.Dense(32, activation='relu')(x)\n",
    "a_out = layers.Dense(df['area'].nunique(), name='a', activation='softmax')(x)\n",
    "g_out = layers.Dense(df['grow'].nunique(), name='g', activation='softmax')(x)\n",
    "d_out = layers.Dense(df['disease'].nunique(), name='d', activation='softmax')(x)\n",
    "model = keras.Model(inputs, [a_out, d_out, g_out], name=\"test\")\n",
    "model.summary()"
   ]
  },
  {
   "cell_type": "markdown",
   "id": "736ecc6f",
   "metadata": {},
   "source": [
    "딸기 정상 데이터 셋에는 diease 클래스 값이 0(정상) 하나만 존재해서  \n",
    "딸기 질병 데이터 셋과 합치고 모델 세부적인 값을 수정해야할 필요가 있음"
   ]
  },
  {
   "cell_type": "code",
   "execution_count": 18,
   "id": "e8d084f6",
   "metadata": {},
   "outputs": [],
   "source": [
    "model.compile(loss={ 'a' : 'sparse_categorical_crossentropy',\n",
    "                     'g' : 'sparse_categorical_crossentropy',\n",
    "                     'd' : 'sparse_categorical_crossentropy'},\n",
    "             optimizer=Adam(learning_rate=1e-4),\n",
    "              metrics=['accuracy'])"
   ]
  },
  {
   "cell_type": "code",
   "execution_count": 19,
   "id": "bc5ce105",
   "metadata": {},
   "outputs": [
    {
     "name": "stderr",
     "output_type": "stream",
     "text": [
      "2022-06-10 15:42:51.382240: I tensorflow/compiler/mlir/mlir_graph_optimization_pass.cc:116] None of the MLIR optimization passes are enabled (registered 2)\n",
      "2022-06-10 15:42:51.399726: I tensorflow/core/platform/profile_utils/cpu_utils.cc:112] CPU Frequency: 2500000000 Hz\n"
     ]
    },
    {
     "name": "stdout",
     "output_type": "stream",
     "text": [
      "5/5 [==============================] - 39s 8s/step - loss: 2.1870 - a_loss: 1.4651 - d_loss: 0.0000e+00 - g_loss: 0.7219 - a_accuracy: 0.2925 - d_accuracy: 0.0000e+00 - g_accuracy: 0.5197 - val_loss: 1.8581 - val_a_loss: 1.2733 - val_d_loss: 0.0000e+00 - val_g_loss: 0.5848 - val_a_accuracy: 0.4700 - val_d_accuracy: 0.0000e+00 - val_g_accuracy: 0.7800\n"
     ]
    },
    {
     "data": {
      "text/plain": [
       "<tensorflow.python.keras.callbacks.History at 0x7fe9ace4e610>"
      ]
     },
     "execution_count": 19,
     "metadata": {},
     "output_type": "execute_result"
    }
   ],
   "source": [
    "model.fit(train_generator,\n",
    "         validation_data=valid_generator,\n",
    "         epochs=1,\n",
    "         verbose=1,\n",
    "         steps_per_epoch = 5)"
   ]
  },
  {
   "cell_type": "markdown",
   "id": "e841aa7d",
   "metadata": {},
   "source": [
    "# 참고"
   ]
  },
  {
   "cell_type": "markdown",
   "id": "ac38963d",
   "metadata": {},
   "source": [
    "https://medium.com/analytics-vidhya/write-your-own-custom-data-generator-for-tensorflow-keras-1252b64e41c3"
   ]
  },
  {
   "cell_type": "markdown",
   "id": "8f09155d",
   "metadata": {},
   "source": [
    "https://stackoverflow.com/questions/38972380/keras-how-to-use-fit-generator-with-multiple-outputs-of-different-type"
   ]
  },
  {
   "cell_type": "markdown",
   "id": "fe2fea46",
   "metadata": {},
   "source": [
    "https://datascience.stackexchange.com/questions/74911/data-augmentation-for-multiple-output-heads-in-keras"
   ]
  },
  {
   "cell_type": "markdown",
   "id": "f89d57f0",
   "metadata": {},
   "source": [
    "https://medium.com/greendeck/keras-data-generator-for-multi-output-models-ea0408c76e8e"
   ]
  }
 ],
 "metadata": {
  "kernelspec": {
   "display_name": "Python [conda env:smartpot] *",
   "language": "python",
   "name": "conda-env-smartpot-py"
  },
  "language_info": {
   "codemirror_mode": {
    "name": "ipython",
    "version": 3
   },
   "file_extension": ".py",
   "mimetype": "text/x-python",
   "name": "python",
   "nbconvert_exporter": "python",
   "pygments_lexer": "ipython3",
   "version": "3.9.12"
  }
 },
 "nbformat": 4,
 "nbformat_minor": 5
}
