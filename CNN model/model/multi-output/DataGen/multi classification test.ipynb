{
 "cells": [
  {
   "cell_type": "code",
   "execution_count": 4,
   "id": "d943d7b5",
   "metadata": {},
   "outputs": [
    {
     "data": {
      "text/html": [
       "<iframe src=\"https://wandb.ai/hkleee/login/workspace?jupyter=true\" style=\"border:none;width:100%;height:420px;\"></iframe>"
      ],
      "text/plain": [
       "<wandb.jupyter.IFrame at 0x7f0171da8eb0>"
      ]
     },
     "metadata": {},
     "output_type": "display_data"
    }
   ],
   "source": [
    "%wandb login 5a76195fbae5605fe5784ebabce86e168ccdfb12"
   ]
  },
  {
   "cell_type": "code",
   "execution_count": 3,
   "id": "5d8cd7c8",
   "metadata": {},
   "outputs": [],
   "source": [
    "import wandb"
   ]
  },
  {
   "cell_type": "code",
   "execution_count": 1,
   "id": "007f55d6",
   "metadata": {
    "scrolled": true
   },
   "outputs": [
    {
     "name": "stderr",
     "output_type": "stream",
     "text": [
      "/home/ubuntu/anaconda3/envs/smartpot/lib/python3.9/site-packages/tqdm/auto.py:22: TqdmWarning: IProgress not found. Please update jupyter and ipywidgets. See https://ipywidgets.readthedocs.io/en/stable/user_install.html\n",
      "  from .autonotebook import tqdm as notebook_tqdm\n"
     ]
    }
   ],
   "source": [
    "import os \n",
    "import sys\n",
    "import numpy as np\n",
    "import pandas as pd\n",
    "import matplotlib.pyplot as plt\n",
    "from glob import glob\n",
    "from tqdm.auto import tqdm\n",
    "import cv2\n",
    "\n",
    "# from tensorflow.keras.applications import Densnet\n",
    "import tensorflow as tf\n",
    "from tensorflow.keras.models import Sequential, Model\n",
    "from tensorflow.keras import layers\n",
    "import tensorflow.keras as keras\n",
    "from tensorflow.data import Dataset\n",
    "\n",
    "from tensorflow.keras.optimizers import Adam, RMSprop, Nadam, SGD, Adadelta\n",
    "from tensorflow.keras.callbacks import ModelCheckpoint, EarlyStopping\n",
    "\n",
    "from itertools import product\n",
    "from tensorflow.keras.preprocessing.image import ImageDataGenerator\n",
    "\n",
    "from tensorflow.keras.applications import *\n",
    "from sklearn.preprocessing import LabelEncoder"
   ]
  },
  {
   "cell_type": "code",
   "execution_count": 18,
   "id": "0a8914b8",
   "metadata": {},
   "outputs": [],
   "source": [
    "BATCH_SIZE = 20\n",
    "IMAGE_SIZE = 320"
   ]
  },
  {
   "cell_type": "code",
   "execution_count": 2,
   "id": "59e640f2",
   "metadata": {
    "scrolled": true
   },
   "outputs": [
    {
     "data": {
      "text/html": [
       "<div>\n",
       "<style scoped>\n",
       "    .dataframe tbody tr th:only-of-type {\n",
       "        vertical-align: middle;\n",
       "    }\n",
       "\n",
       "    .dataframe tbody tr th {\n",
       "        vertical-align: top;\n",
       "    }\n",
       "\n",
       "    .dataframe thead th {\n",
       "        text-align: right;\n",
       "    }\n",
       "</style>\n",
       "<table border=\"1\" class=\"dataframe\">\n",
       "  <thead>\n",
       "    <tr style=\"text-align: right;\">\n",
       "      <th></th>\n",
       "      <th>image</th>\n",
       "      <th>date</th>\n",
       "      <th>height</th>\n",
       "      <th>width</th>\n",
       "      <th>type</th>\n",
       "      <th>disease</th>\n",
       "      <th>crop</th>\n",
       "      <th>area</th>\n",
       "      <th>grow</th>\n",
       "      <th>risk</th>\n",
       "      <th>points</th>\n",
       "    </tr>\n",
       "  </thead>\n",
       "  <tbody>\n",
       "    <tr>\n",
       "      <th>0</th>\n",
       "      <td>V006_77_0_00_04_01_13_0_b02_20201203_0000_S01_...</td>\n",
       "      <td>2020-12-03</td>\n",
       "      <td>4032</td>\n",
       "      <td>3024</td>\n",
       "      <td>0</td>\n",
       "      <td>0</td>\n",
       "      <td>4</td>\n",
       "      <td>1</td>\n",
       "      <td>13</td>\n",
       "      <td>0</td>\n",
       "      <td>[{'xtl': 1003, 'ytl': 1167, 'xbr': 2255, 'ybr'...</td>\n",
       "    </tr>\n",
       "    <tr>\n",
       "      <th>1</th>\n",
       "      <td>V006_77_0_00_04_01_13_0_b02_20201203_0001_S01_...</td>\n",
       "      <td>2020-12-03</td>\n",
       "      <td>4032</td>\n",
       "      <td>3024</td>\n",
       "      <td>0</td>\n",
       "      <td>0</td>\n",
       "      <td>4</td>\n",
       "      <td>1</td>\n",
       "      <td>13</td>\n",
       "      <td>0</td>\n",
       "      <td>[{'xtl': 600, 'ytl': 1087, 'xbr': 1628, 'ybr':...</td>\n",
       "    </tr>\n",
       "    <tr>\n",
       "      <th>2</th>\n",
       "      <td>V006_77_0_00_04_01_13_0_b02_20201203_0002_S01_...</td>\n",
       "      <td>2020-12-03</td>\n",
       "      <td>4032</td>\n",
       "      <td>3024</td>\n",
       "      <td>0</td>\n",
       "      <td>0</td>\n",
       "      <td>4</td>\n",
       "      <td>1</td>\n",
       "      <td>13</td>\n",
       "      <td>0</td>\n",
       "      <td>[{'xtl': 1003, 'ytl': 1217, 'xbr': 2503, 'ybr'...</td>\n",
       "    </tr>\n",
       "    <tr>\n",
       "      <th>3</th>\n",
       "      <td>V006_77_0_00_04_01_13_0_b02_20201203_0003_S01_...</td>\n",
       "      <td>2020-12-03</td>\n",
       "      <td>4032</td>\n",
       "      <td>3024</td>\n",
       "      <td>0</td>\n",
       "      <td>0</td>\n",
       "      <td>4</td>\n",
       "      <td>1</td>\n",
       "      <td>13</td>\n",
       "      <td>0</td>\n",
       "      <td>[{'xtl': 662, 'ytl': 1252, 'xbr': 2129, 'ybr':...</td>\n",
       "    </tr>\n",
       "    <tr>\n",
       "      <th>4</th>\n",
       "      <td>V006_77_0_00_04_01_13_0_b02_20201203_0004_S01_...</td>\n",
       "      <td>2020-12-03</td>\n",
       "      <td>4032</td>\n",
       "      <td>3024</td>\n",
       "      <td>0</td>\n",
       "      <td>0</td>\n",
       "      <td>4</td>\n",
       "      <td>1</td>\n",
       "      <td>13</td>\n",
       "      <td>0</td>\n",
       "      <td>[{'xtl': 370, 'ytl': 884, 'xbr': 1994, 'ybr': ...</td>\n",
       "    </tr>\n",
       "  </tbody>\n",
       "</table>\n",
       "</div>"
      ],
      "text/plain": [
       "                                               image        date  height  \\\n",
       "0  V006_77_0_00_04_01_13_0_b02_20201203_0000_S01_...  2020-12-03    4032   \n",
       "1  V006_77_0_00_04_01_13_0_b02_20201203_0001_S01_...  2020-12-03    4032   \n",
       "2  V006_77_0_00_04_01_13_0_b02_20201203_0002_S01_...  2020-12-03    4032   \n",
       "3  V006_77_0_00_04_01_13_0_b02_20201203_0003_S01_...  2020-12-03    4032   \n",
       "4  V006_77_0_00_04_01_13_0_b02_20201203_0004_S01_...  2020-12-03    4032   \n",
       "\n",
       "   width  type  disease  crop  area  grow  risk  \\\n",
       "0   3024     0        0     4     1    13     0   \n",
       "1   3024     0        0     4     1    13     0   \n",
       "2   3024     0        0     4     1    13     0   \n",
       "3   3024     0        0     4     1    13     0   \n",
       "4   3024     0        0     4     1    13     0   \n",
       "\n",
       "                                              points  \n",
       "0  [{'xtl': 1003, 'ytl': 1167, 'xbr': 2255, 'ybr'...  \n",
       "1  [{'xtl': 600, 'ytl': 1087, 'xbr': 1628, 'ybr':...  \n",
       "2  [{'xtl': 1003, 'ytl': 1217, 'xbr': 2503, 'ybr'...  \n",
       "3  [{'xtl': 662, 'ytl': 1252, 'xbr': 2129, 'ybr':...  \n",
       "4  [{'xtl': 370, 'ytl': 884, 'xbr': 1994, 'ybr': ...  "
      ]
     },
     "execution_count": 2,
     "metadata": {},
     "output_type": "execute_result"
    }
   ],
   "source": [
    "root_dir = '/home/lab38/images'\n",
    "sample_csv = '딸기_정상_수정본.csv'\n",
    "df = pd.read_csv(os.path.join(root_dir, sample_csv))\n",
    "df.head()"
   ]
  },
  {
   "cell_type": "markdown",
   "id": "c719880c",
   "metadata": {},
   "source": [
    "12,13... 으로 되어있는 레이블을 0,1로 바꿔줌  \n",
    "scikit learn : LabelEncoder"
   ]
  },
  {
   "cell_type": "code",
   "execution_count": 3,
   "id": "c0d72822",
   "metadata": {},
   "outputs": [
    {
     "data": {
      "text/html": [
       "<div>\n",
       "<style scoped>\n",
       "    .dataframe tbody tr th:only-of-type {\n",
       "        vertical-align: middle;\n",
       "    }\n",
       "\n",
       "    .dataframe tbody tr th {\n",
       "        vertical-align: top;\n",
       "    }\n",
       "\n",
       "    .dataframe thead th {\n",
       "        text-align: right;\n",
       "    }\n",
       "</style>\n",
       "<table border=\"1\" class=\"dataframe\">\n",
       "  <thead>\n",
       "    <tr style=\"text-align: right;\">\n",
       "      <th></th>\n",
       "      <th>image</th>\n",
       "      <th>date</th>\n",
       "      <th>height</th>\n",
       "      <th>width</th>\n",
       "      <th>type</th>\n",
       "      <th>disease</th>\n",
       "      <th>crop</th>\n",
       "      <th>area</th>\n",
       "      <th>grow</th>\n",
       "      <th>risk</th>\n",
       "      <th>points</th>\n",
       "    </tr>\n",
       "  </thead>\n",
       "  <tbody>\n",
       "    <tr>\n",
       "      <th>0</th>\n",
       "      <td>V006_77_0_00_04_01_13_0_b02_20201203_0000_S01_...</td>\n",
       "      <td>2020-12-03</td>\n",
       "      <td>4032</td>\n",
       "      <td>3024</td>\n",
       "      <td>0</td>\n",
       "      <td>0</td>\n",
       "      <td>4</td>\n",
       "      <td>0</td>\n",
       "      <td>1</td>\n",
       "      <td>0</td>\n",
       "      <td>[{'xtl': 1003, 'ytl': 1167, 'xbr': 2255, 'ybr'...</td>\n",
       "    </tr>\n",
       "    <tr>\n",
       "      <th>1</th>\n",
       "      <td>V006_77_0_00_04_01_13_0_b02_20201203_0001_S01_...</td>\n",
       "      <td>2020-12-03</td>\n",
       "      <td>4032</td>\n",
       "      <td>3024</td>\n",
       "      <td>0</td>\n",
       "      <td>0</td>\n",
       "      <td>4</td>\n",
       "      <td>0</td>\n",
       "      <td>1</td>\n",
       "      <td>0</td>\n",
       "      <td>[{'xtl': 600, 'ytl': 1087, 'xbr': 1628, 'ybr':...</td>\n",
       "    </tr>\n",
       "    <tr>\n",
       "      <th>2</th>\n",
       "      <td>V006_77_0_00_04_01_13_0_b02_20201203_0002_S01_...</td>\n",
       "      <td>2020-12-03</td>\n",
       "      <td>4032</td>\n",
       "      <td>3024</td>\n",
       "      <td>0</td>\n",
       "      <td>0</td>\n",
       "      <td>4</td>\n",
       "      <td>0</td>\n",
       "      <td>1</td>\n",
       "      <td>0</td>\n",
       "      <td>[{'xtl': 1003, 'ytl': 1217, 'xbr': 2503, 'ybr'...</td>\n",
       "    </tr>\n",
       "    <tr>\n",
       "      <th>3</th>\n",
       "      <td>V006_77_0_00_04_01_13_0_b02_20201203_0003_S01_...</td>\n",
       "      <td>2020-12-03</td>\n",
       "      <td>4032</td>\n",
       "      <td>3024</td>\n",
       "      <td>0</td>\n",
       "      <td>0</td>\n",
       "      <td>4</td>\n",
       "      <td>0</td>\n",
       "      <td>1</td>\n",
       "      <td>0</td>\n",
       "      <td>[{'xtl': 662, 'ytl': 1252, 'xbr': 2129, 'ybr':...</td>\n",
       "    </tr>\n",
       "    <tr>\n",
       "      <th>4</th>\n",
       "      <td>V006_77_0_00_04_01_13_0_b02_20201203_0004_S01_...</td>\n",
       "      <td>2020-12-03</td>\n",
       "      <td>4032</td>\n",
       "      <td>3024</td>\n",
       "      <td>0</td>\n",
       "      <td>0</td>\n",
       "      <td>4</td>\n",
       "      <td>0</td>\n",
       "      <td>1</td>\n",
       "      <td>0</td>\n",
       "      <td>[{'xtl': 370, 'ytl': 884, 'xbr': 1994, 'ybr': ...</td>\n",
       "    </tr>\n",
       "  </tbody>\n",
       "</table>\n",
       "</div>"
      ],
      "text/plain": [
       "                                               image        date  height  \\\n",
       "0  V006_77_0_00_04_01_13_0_b02_20201203_0000_S01_...  2020-12-03    4032   \n",
       "1  V006_77_0_00_04_01_13_0_b02_20201203_0001_S01_...  2020-12-03    4032   \n",
       "2  V006_77_0_00_04_01_13_0_b02_20201203_0002_S01_...  2020-12-03    4032   \n",
       "3  V006_77_0_00_04_01_13_0_b02_20201203_0003_S01_...  2020-12-03    4032   \n",
       "4  V006_77_0_00_04_01_13_0_b02_20201203_0004_S01_...  2020-12-03    4032   \n",
       "\n",
       "   width  type  disease  crop  area  grow  risk  \\\n",
       "0   3024     0        0     4     0     1     0   \n",
       "1   3024     0        0     4     0     1     0   \n",
       "2   3024     0        0     4     0     1     0   \n",
       "3   3024     0        0     4     0     1     0   \n",
       "4   3024     0        0     4     0     1     0   \n",
       "\n",
       "                                              points  \n",
       "0  [{'xtl': 1003, 'ytl': 1167, 'xbr': 2255, 'ybr'...  \n",
       "1  [{'xtl': 600, 'ytl': 1087, 'xbr': 1628, 'ybr':...  \n",
       "2  [{'xtl': 1003, 'ytl': 1217, 'xbr': 2503, 'ybr'...  \n",
       "3  [{'xtl': 662, 'ytl': 1252, 'xbr': 2129, 'ybr':...  \n",
       "4  [{'xtl': 370, 'ytl': 884, 'xbr': 1994, 'ybr': ...  "
      ]
     },
     "execution_count": 3,
     "metadata": {},
     "output_type": "execute_result"
    }
   ],
   "source": [
    "a_en = LabelEncoder()\n",
    "g_en = LabelEncoder()\n",
    "d_en = LabelEncoder()\n",
    "\n",
    "a_en.fit(df['area'])\n",
    "g_en.fit(df['grow'])\n",
    "d_en.fit(df['disease'])\n",
    "\n",
    "df['area'] = a_en.transform(df['area'])\n",
    "df['grow'] = g_en.transform(df['grow'])\n",
    "df['disease'] = d_en.transform(df['disease'])\n",
    "df.head()"
   ]
  },
  {
   "cell_type": "code",
   "execution_count": 17,
   "id": "36bbd130",
   "metadata": {},
   "outputs": [],
   "source": [
    "# df 순서 섞음\n",
    "shuffled_df = df.sample(frac=1)\n",
    "# Train : Validation = 0.8 : 0.2 Split\n",
    "train_len = int(len(df)*0.8)\n",
    "\n",
    "train_df = shuffled_df[:100]\n",
    "valid_df = shuffled_df[-100:]"
   ]
  },
  {
   "cell_type": "code",
   "execution_count": 19,
   "id": "17991448",
   "metadata": {},
   "outputs": [],
   "source": [
    "train_gen = ImageDataGenerator(rescale=1./255,\n",
    "                            rotation_range=20, # 최대 20도까지 회전\n",
    "                            width_shift_range=0.1, # 최대 x 범위안에서 좌우/상하 이동\n",
    "                            height_shift_range=0.1,\n",
    "                            zoom_range=0.2, # 확대 축소 비율,\n",
    "                            horizontal_flip=True, # 좌우반전\n",
    "                            vertical_flip=True, # 상하반전\n",
    "                            fill_mode='nearest')\n",
    "valid_gen = ImageDataGenerator(rescale= 1. /255.)"
   ]
  },
  {
   "cell_type": "code",
   "execution_count": 20,
   "id": "2f46af24",
   "metadata": {},
   "outputs": [
    {
     "name": "stdout",
     "output_type": "stream",
     "text": [
      "Found 100 validated image filenames.\n",
      "Found 100 validated image filenames.\n"
     ]
    }
   ],
   "source": [
    "img_path = os.path.join(root_dir, '딸기_정상')\n",
    "train_generator = train_gen.flow_from_dataframe(train_df, \n",
    "                                                directory=img_path,\n",
    "                                               x_col='image',\n",
    "                                               y_col='area',\n",
    "                                               target_size=(IMAGE_SIZE, IMAGE_SIZE),\n",
    "                                               class_mode='raw',\n",
    "                                               batch_size=BATCH_SIZE)\n",
    "valid_generator = valid_gen.flow_from_dataframe(valid_df,\n",
    "                                                directory=img_path,\n",
    "                                               x_col='image',\n",
    "                                               y_col='area',\n",
    "                                               target_size=(IMAGE_SIZE, IMAGE_SIZE),\n",
    "                                               class_mode='raw',\n",
    "                                               batch_size=BATCH_SIZE)"
   ]
  },
  {
   "cell_type": "markdown",
   "id": "6efb66ed",
   "metadata": {},
   "source": [
    "sample test model  \n",
    "- multi classification\n",
    "- sigle output model"
   ]
  },
  {
   "cell_type": "code",
   "execution_count": 23,
   "id": "d9632cd0",
   "metadata": {},
   "outputs": [
    {
     "name": "stdout",
     "output_type": "stream",
     "text": [
      "Model: \"test\"\n",
      "_________________________________________________________________\n",
      "Layer (type)                 Output Shape              Param #   \n",
      "=================================================================\n",
      "img (InputLayer)             [(None, 320, 320, 3)]     0         \n",
      "_________________________________________________________________\n",
      "conv2d_6 (Conv2D)            (None, 318, 318, 16)      448       \n",
      "_________________________________________________________________\n",
      "conv2d_7 (Conv2D)            (None, 316, 316, 32)      4640      \n",
      "_________________________________________________________________\n",
      "max_pooling2d_3 (MaxPooling2 (None, 105, 105, 32)      0         \n",
      "_________________________________________________________________\n",
      "flatten_3 (Flatten)          (None, 352800)            0         \n",
      "_________________________________________________________________\n",
      "dropout_4 (Dropout)          (None, 352800)            0         \n",
      "_________________________________________________________________\n",
      "dense_3 (Dense)              (None, 32)                11289632  \n",
      "_________________________________________________________________\n",
      "dropout_5 (Dropout)          (None, 32)                0         \n",
      "_________________________________________________________________\n",
      "d (Dense)                    (None, 4)                 132       \n",
      "=================================================================\n",
      "Total params: 11,294,852\n",
      "Trainable params: 11,294,852\n",
      "Non-trainable params: 0\n",
      "_________________________________________________________________\n"
     ]
    }
   ],
   "source": [
    "inputs = keras.Input(shape=(320, 320, 3), name=\"img\")\n",
    "x = layers.Conv2D(16, 3, activation=\"relu\")(inputs)\n",
    "x = layers.Conv2D(32, 3, activation=\"relu\")(x)\n",
    "x = layers.MaxPooling2D(3)(x)\n",
    "x = layers.Flatten()(x)\n",
    "x = layers.Dropout(0.5)(x)\n",
    "x = layers.Dense(32, activation='relu')(x)\n",
    "x = layers.Dropout(0.3)(x)\n",
    "d_out = layers.Dense(df['area'].nunique(), name='d', activation='softmax')(x)\n",
    "model = keras.Model(inputs, d_out, name=\"test\")\n",
    "model.summary()"
   ]
  },
  {
   "cell_type": "code",
   "execution_count": 26,
   "id": "2f01e487",
   "metadata": {},
   "outputs": [],
   "source": [
    "model.compile(loss='sparse_categorical_crossentropy', # one hot encoding 안함\n",
    "             optimizer=Adam(learning_rate=1e-4),\n",
    "              metrics=['accuracy'])"
   ]
  },
  {
   "cell_type": "code",
   "execution_count": 27,
   "id": "3ad4b7d6",
   "metadata": {},
   "outputs": [
    {
     "name": "stdout",
     "output_type": "stream",
     "text": [
      "5/5 [==============================] - 38s 8s/step - loss: 1.6478 - accuracy: 0.3178 - val_loss: 1.4016 - val_accuracy: 0.2000\n"
     ]
    },
    {
     "data": {
      "text/plain": [
       "<tensorflow.python.keras.callbacks.History at 0x7f359906e430>"
      ]
     },
     "execution_count": 27,
     "metadata": {},
     "output_type": "execute_result"
    }
   ],
   "source": [
    "model.fit(train_generator,\n",
    "         validation_data=valid_generator,\n",
    "         epochs=1,\n",
    "         verbose=1,\n",
    "         steps_per_epoch = 5) "
   ]
  }
 ],
 "metadata": {
  "kernelspec": {
   "display_name": "Python [conda env:smartpot] *",
   "language": "python",
   "name": "conda-env-smartpot-py"
  },
  "language_info": {
   "codemirror_mode": {
    "name": "ipython",
    "version": 3
   },
   "file_extension": ".py",
   "mimetype": "text/x-python",
   "name": "python",
   "nbconvert_exporter": "python",
   "pygments_lexer": "ipython3",
   "version": "3.9.12"
  }
 },
 "nbformat": 4,
 "nbformat_minor": 5
}
