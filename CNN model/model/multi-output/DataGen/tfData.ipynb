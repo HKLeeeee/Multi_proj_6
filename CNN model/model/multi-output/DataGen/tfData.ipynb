{
 "cells": [
  {
   "cell_type": "markdown",
   "id": "4a677dc2",
   "metadata": {},
   "source": [
    "https://webnautes.tistory.com/1579"
   ]
  },
  {
   "cell_type": "code",
   "execution_count": 11,
   "id": "9ab5585e",
   "metadata": {
    "scrolled": false
   },
   "outputs": [],
   "source": [
    "import tensorflow as tf\n",
    "import numpy as np\n",
    "import pandas as pd\n",
    "import os\n",
    "from sklearn.preprocessing import LabelEncoder"
   ]
  },
  {
   "cell_type": "code",
   "execution_count": 6,
   "id": "50e1ac33",
   "metadata": {},
   "outputs": [
    {
     "data": {
      "text/plain": [
       "'2.4.1'"
      ]
     },
     "execution_count": 6,
     "metadata": {},
     "output_type": "execute_result"
    }
   ],
   "source": [
    "tf.__version__"
   ]
  },
  {
   "cell_type": "code",
   "execution_count": 4,
   "id": "3835375a",
   "metadata": {},
   "outputs": [],
   "source": [
    "CUDA_VISIBLE_DEVICES=\"\""
   ]
  },
  {
   "cell_type": "code",
   "execution_count": 7,
   "id": "6aa0165c",
   "metadata": {
    "scrolled": true
   },
   "outputs": [
    {
     "data": {
      "text/html": [
       "<div>\n",
       "<style scoped>\n",
       "    .dataframe tbody tr th:only-of-type {\n",
       "        vertical-align: middle;\n",
       "    }\n",
       "\n",
       "    .dataframe tbody tr th {\n",
       "        vertical-align: top;\n",
       "    }\n",
       "\n",
       "    .dataframe thead th {\n",
       "        text-align: right;\n",
       "    }\n",
       "</style>\n",
       "<table border=\"1\" class=\"dataframe\">\n",
       "  <thead>\n",
       "    <tr style=\"text-align: right;\">\n",
       "      <th></th>\n",
       "      <th>image</th>\n",
       "      <th>date</th>\n",
       "      <th>height</th>\n",
       "      <th>width</th>\n",
       "      <th>type</th>\n",
       "      <th>disease</th>\n",
       "      <th>crop</th>\n",
       "      <th>area</th>\n",
       "      <th>grow</th>\n",
       "      <th>risk</th>\n",
       "      <th>points</th>\n",
       "    </tr>\n",
       "  </thead>\n",
       "  <tbody>\n",
       "    <tr>\n",
       "      <th>0</th>\n",
       "      <td>/home/lab38/images/딸기_정상/V006_77_0_00_04_01_13...</td>\n",
       "      <td>2020-12-03</td>\n",
       "      <td>4032</td>\n",
       "      <td>3024</td>\n",
       "      <td>0</td>\n",
       "      <td>0</td>\n",
       "      <td>4</td>\n",
       "      <td>1</td>\n",
       "      <td>13</td>\n",
       "      <td>0</td>\n",
       "      <td>[{'xtl': 1003, 'ytl': 1167, 'xbr': 2255, 'ybr'...</td>\n",
       "    </tr>\n",
       "    <tr>\n",
       "      <th>1</th>\n",
       "      <td>/home/lab38/images/딸기_정상/V006_77_0_00_04_01_13...</td>\n",
       "      <td>2020-12-03</td>\n",
       "      <td>4032</td>\n",
       "      <td>3024</td>\n",
       "      <td>0</td>\n",
       "      <td>0</td>\n",
       "      <td>4</td>\n",
       "      <td>1</td>\n",
       "      <td>13</td>\n",
       "      <td>0</td>\n",
       "      <td>[{'xtl': 600, 'ytl': 1087, 'xbr': 1628, 'ybr':...</td>\n",
       "    </tr>\n",
       "    <tr>\n",
       "      <th>2</th>\n",
       "      <td>/home/lab38/images/딸기_정상/V006_77_0_00_04_01_13...</td>\n",
       "      <td>2020-12-03</td>\n",
       "      <td>4032</td>\n",
       "      <td>3024</td>\n",
       "      <td>0</td>\n",
       "      <td>0</td>\n",
       "      <td>4</td>\n",
       "      <td>1</td>\n",
       "      <td>13</td>\n",
       "      <td>0</td>\n",
       "      <td>[{'xtl': 1003, 'ytl': 1217, 'xbr': 2503, 'ybr'...</td>\n",
       "    </tr>\n",
       "    <tr>\n",
       "      <th>3</th>\n",
       "      <td>/home/lab38/images/딸기_정상/V006_77_0_00_04_01_13...</td>\n",
       "      <td>2020-12-03</td>\n",
       "      <td>4032</td>\n",
       "      <td>3024</td>\n",
       "      <td>0</td>\n",
       "      <td>0</td>\n",
       "      <td>4</td>\n",
       "      <td>1</td>\n",
       "      <td>13</td>\n",
       "      <td>0</td>\n",
       "      <td>[{'xtl': 662, 'ytl': 1252, 'xbr': 2129, 'ybr':...</td>\n",
       "    </tr>\n",
       "    <tr>\n",
       "      <th>4</th>\n",
       "      <td>/home/lab38/images/딸기_정상/V006_77_0_00_04_01_13...</td>\n",
       "      <td>2020-12-03</td>\n",
       "      <td>4032</td>\n",
       "      <td>3024</td>\n",
       "      <td>0</td>\n",
       "      <td>0</td>\n",
       "      <td>4</td>\n",
       "      <td>1</td>\n",
       "      <td>13</td>\n",
       "      <td>0</td>\n",
       "      <td>[{'xtl': 370, 'ytl': 884, 'xbr': 1994, 'ybr': ...</td>\n",
       "    </tr>\n",
       "  </tbody>\n",
       "</table>\n",
       "</div>"
      ],
      "text/plain": [
       "                                               image        date  height  \\\n",
       "0  /home/lab38/images/딸기_정상/V006_77_0_00_04_01_13...  2020-12-03    4032   \n",
       "1  /home/lab38/images/딸기_정상/V006_77_0_00_04_01_13...  2020-12-03    4032   \n",
       "2  /home/lab38/images/딸기_정상/V006_77_0_00_04_01_13...  2020-12-03    4032   \n",
       "3  /home/lab38/images/딸기_정상/V006_77_0_00_04_01_13...  2020-12-03    4032   \n",
       "4  /home/lab38/images/딸기_정상/V006_77_0_00_04_01_13...  2020-12-03    4032   \n",
       "\n",
       "   width  type  disease  crop  area  grow  risk  \\\n",
       "0   3024     0        0     4     1    13     0   \n",
       "1   3024     0        0     4     1    13     0   \n",
       "2   3024     0        0     4     1    13     0   \n",
       "3   3024     0        0     4     1    13     0   \n",
       "4   3024     0        0     4     1    13     0   \n",
       "\n",
       "                                              points  \n",
       "0  [{'xtl': 1003, 'ytl': 1167, 'xbr': 2255, 'ybr'...  \n",
       "1  [{'xtl': 600, 'ytl': 1087, 'xbr': 1628, 'ybr':...  \n",
       "2  [{'xtl': 1003, 'ytl': 1217, 'xbr': 2503, 'ybr'...  \n",
       "3  [{'xtl': 662, 'ytl': 1252, 'xbr': 2129, 'ybr':...  \n",
       "4  [{'xtl': 370, 'ytl': 884, 'xbr': 1994, 'ybr': ...  "
      ]
     },
     "execution_count": 7,
     "metadata": {},
     "output_type": "execute_result"
    }
   ],
   "source": [
    "root_dir = '/home/lab38/images'\n",
    "sample_csv = '딸기_정상_수정본.csv'\n",
    "df = pd.read_csv(os.path.join(root_dir, sample_csv))\n",
    "sample_img_path = os.path.join(root_dir, '딸기_정상')\n",
    "df['image'] = df['image'].map(lambda x : os.path.join(sample_img_path, x))\n",
    "df.head()"
   ]
  },
  {
   "cell_type": "code",
   "execution_count": 16,
   "id": "a5c9f7fe",
   "metadata": {},
   "outputs": [],
   "source": [
    "class CustomGenerator:\n",
    "    def __init__(self, df, xcol, ycol) :\n",
    "        self.df = df.copy()\n",
    "        self.xcol = xcol\n",
    "        self.ycol = ycol\n",
    "        \n",
    "        self.n_cls = len(self.df[ycol].unique())\n",
    "        self.encoder = LabelEncoder()\n",
    "        self.encoder.fit(df[ycol])\n",
    "        self.df[self.ycol] = self.encoder.transform(self.df[self.ycol])\n",
    "        \n",
    "    def x_generator(self) :\n",
    "        for i in range(len(df)) :\n",
    "            x = tf.keras.preprocessing.image.load_img(self.df[self.xcol][i])\n",
    "            x = tf.keras.preprocessing.image.img_to_array(x)\n",
    "            x = tf.keras.preprocessing.image.smart_resize(x, (320,320))\n",
    "            x = x / 255.\n",
    "            yield x\n",
    "\n",
    "    def y_generator(self, cls) :\n",
    "        for i in range(len(df)) :\n",
    "            y = df[cls][i]\n",
    "            yield y"
   ]
  },
  {
   "cell_type": "code",
   "execution_count": 17,
   "id": "1a4c4a27",
   "metadata": {},
   "outputs": [],
   "source": [
    "gen = CustomGenerator(df, 'image', 'grow')"
   ]
  },
  {
   "cell_type": "code",
   "execution_count": null,
   "id": "29264adb",
   "metadata": {},
   "outputs": [],
   "source": [
    "def create_dataset(generator, dtype, BATCH, shuffle=False, autotune=False):\n",
    "    dataset = tf.data.Dataset.from_generator(generator, dtype)\n",
    "    dataset = dataset.repeat().batch(BATCH)\n",
    "    \n",
    "    if shuffle :\n",
    "        pass\n",
    "    if autotune :\n",
    "        pass\n",
    "    \n",
    "    return dataset"
   ]
  },
  {
   "cell_type": "code",
   "execution_count": 18,
   "id": "354c1c2a",
   "metadata": {},
   "outputs": [],
   "source": [
    "# with tf.device(\"/cpu:0\"):\n",
    "x_dataset = tf.data.Dataset.from_generator(gen.x_generator, tf.float32)\n",
    "x_dataset = x_dataset.batch(20)\n"
   ]
  },
  {
   "cell_type": "code",
   "execution_count": null,
   "id": "1af1fdcc",
   "metadata": {},
   "outputs": [],
   "source": [
    "y_dataset "
   ]
  },
  {
   "cell_type": "code",
   "execution_count": null,
   "id": "94a58442",
   "metadata": {},
   "outputs": [],
   "source": [
    "for batch, x in enumerate(x_dataset):\n",
    "    pass\n",
    "print(batch)\n",
    "print(x.shape)"
   ]
  },
  {
   "cell_type": "code",
   "execution_count": null,
   "id": "7cdb47e2",
   "metadata": {},
   "outputs": [],
   "source": []
  }
 ],
 "metadata": {
  "kernelspec": {
   "display_name": "Python [conda env:smartpot] *",
   "language": "python",
   "name": "conda-env-smartpot-py"
  },
  "language_info": {
   "codemirror_mode": {
    "name": "ipython",
    "version": 3
   },
   "file_extension": ".py",
   "mimetype": "text/x-python",
   "name": "python",
   "nbconvert_exporter": "python",
   "pygments_lexer": "ipython3",
   "version": "3.9.12"
  }
 },
 "nbformat": 4,
 "nbformat_minor": 5
}
