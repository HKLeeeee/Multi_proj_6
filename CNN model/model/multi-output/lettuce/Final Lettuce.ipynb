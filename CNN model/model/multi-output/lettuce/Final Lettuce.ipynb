{
 "cells": [
  {
   "cell_type": "code",
   "execution_count": 1,
   "id": "b709f143",
   "metadata": {
    "scrolled": true
   },
   "outputs": [],
   "source": [
    "import warnings \n",
    "warnings.filterwarnings(action='ignore')"
   ]
  },
  {
   "cell_type": "code",
   "execution_count": 2,
   "id": "78afe61c",
   "metadata": {
    "scrolled": true
   },
   "outputs": [
    {
     "name": "stderr",
     "output_type": "stream",
     "text": [
      "2022-06-27 13:56:51.539853: I tensorflow/stream_executor/platform/default/dso_loader.cc:49] Successfully opened dynamic library libcudart.so.10.1\n"
     ]
    }
   ],
   "source": [
    "import os \n",
    "import numpy as np\n",
    "import pandas as pd\n",
    "import matplotlib.pyplot as plt\n",
    "from glob import glob\n",
    "from tqdm.auto import tqdm\n",
    "import cv2\n",
    "\n",
    "# from tensorflow.keras.applications import Densnet\n",
    "import tensorflow as tf\n",
    "from tensorflow.keras.models import Sequential, Model\n",
    "from tensorflow.keras import layers\n",
    "import tensorflow.keras as keras\n",
    "from tensorflow.data import Dataset\n",
    "\n",
    "from tensorflow.keras.optimizers import Adam, RMSprop, Nadam, SGD\n",
    "from tensorflow.keras.callbacks import ModelCheckpoint, EarlyStopping\n",
    "\n",
    "from itertools import product\n",
    "from tensorflow.keras.preprocessing.image import ImageDataGenerator\n",
    "\n",
    "from tensorflow.keras.applications import *\n",
    "from sklearn.model_selection import train_test_split\n",
    "from sklearn.preprocessing import LabelEncoder\n",
    "from skmultilearn.model_selection import iterative_train_test_split"
   ]
  },
  {
   "cell_type": "code",
   "execution_count": 3,
   "id": "7db429c9",
   "metadata": {
    "scrolled": true
   },
   "outputs": [
    {
     "data": {
      "text/plain": [
       "'2.4.1'"
      ]
     },
     "execution_count": 3,
     "metadata": {},
     "output_type": "execute_result"
    }
   ],
   "source": [
    "tf.__version__"
   ]
  },
  {
   "cell_type": "markdown",
   "id": "696102fe",
   "metadata": {},
   "source": [
    "# Data Load"
   ]
  },
  {
   "cell_type": "code",
   "execution_count": 4,
   "id": "f3bfeec5",
   "metadata": {
    "scrolled": false
   },
   "outputs": [
    {
     "data": {
      "text/html": [
       "<div>\n",
       "<style scoped>\n",
       "    .dataframe tbody tr th:only-of-type {\n",
       "        vertical-align: middle;\n",
       "    }\n",
       "\n",
       "    .dataframe tbody tr th {\n",
       "        vertical-align: top;\n",
       "    }\n",
       "\n",
       "    .dataframe thead th {\n",
       "        text-align: right;\n",
       "    }\n",
       "</style>\n",
       "<table border=\"1\" class=\"dataframe\">\n",
       "  <thead>\n",
       "    <tr style=\"text-align: right;\">\n",
       "      <th></th>\n",
       "      <th>image</th>\n",
       "      <th>grow</th>\n",
       "      <th>disease</th>\n",
       "      <th>disease-grow</th>\n",
       "      <th>area</th>\n",
       "      <th>points</th>\n",
       "      <th>original</th>\n",
       "    </tr>\n",
       "  </thead>\n",
       "  <tbody>\n",
       "    <tr>\n",
       "      <th>0</th>\n",
       "      <td>/home/lab38/상추/358.jpg</td>\n",
       "      <td>1</td>\n",
       "      <td>12</td>\n",
       "      <td>12-1</td>\n",
       "      <td>NaN</td>\n",
       "      <td>NaN</td>\n",
       "      <td>NaN</td>\n",
       "    </tr>\n",
       "    <tr>\n",
       "      <th>1</th>\n",
       "      <td>/home/lab38/상추/235.jpg</td>\n",
       "      <td>1</td>\n",
       "      <td>12</td>\n",
       "      <td>12-1</td>\n",
       "      <td>NaN</td>\n",
       "      <td>NaN</td>\n",
       "      <td>NaN</td>\n",
       "    </tr>\n",
       "    <tr>\n",
       "      <th>2</th>\n",
       "      <td>/home/lab38/상추/39.jpg</td>\n",
       "      <td>0</td>\n",
       "      <td>12</td>\n",
       "      <td>12-0</td>\n",
       "      <td>NaN</td>\n",
       "      <td>NaN</td>\n",
       "      <td>NaN</td>\n",
       "    </tr>\n",
       "    <tr>\n",
       "      <th>3</th>\n",
       "      <td>/home/lab38/상추/345.jpg</td>\n",
       "      <td>1</td>\n",
       "      <td>12</td>\n",
       "      <td>12-1</td>\n",
       "      <td>NaN</td>\n",
       "      <td>NaN</td>\n",
       "      <td>NaN</td>\n",
       "    </tr>\n",
       "    <tr>\n",
       "      <th>4</th>\n",
       "      <td>/home/lab38/상추/97.jpg</td>\n",
       "      <td>1</td>\n",
       "      <td>12</td>\n",
       "      <td>12-1</td>\n",
       "      <td>NaN</td>\n",
       "      <td>NaN</td>\n",
       "      <td>NaN</td>\n",
       "    </tr>\n",
       "  </tbody>\n",
       "</table>\n",
       "</div>"
      ],
      "text/plain": [
       "                    image  grow  disease disease-grow  area points original\n",
       "0  /home/lab38/상추/358.jpg     1       12         12-1   NaN    NaN      NaN\n",
       "1  /home/lab38/상추/235.jpg     1       12         12-1   NaN    NaN      NaN\n",
       "2   /home/lab38/상추/39.jpg     0       12         12-0   NaN    NaN      NaN\n",
       "3  /home/lab38/상추/345.jpg     1       12         12-1   NaN    NaN      NaN\n",
       "4   /home/lab38/상추/97.jpg     1       12         12-1   NaN    NaN      NaN"
      ]
     },
     "execution_count": 4,
     "metadata": {},
     "output_type": "execute_result"
    }
   ],
   "source": [
    "df = pd.read_csv('/home/lab38/Multi_proj_6/data/lettu_smallsizeimg_with_pest.csv')\n",
    "df.head()"
   ]
  },
  {
   "cell_type": "code",
   "execution_count": 5,
   "id": "10892c25",
   "metadata": {
    "scrolled": true
   },
   "outputs": [
    {
     "name": "stdout",
     "output_type": "stream",
     "text": [
      "[3 0 1 2]\n",
      "[1 0]\n"
     ]
    }
   ],
   "source": [
    "# label encoding\n",
    "disease_encoder = LabelEncoder()\n",
    "disease_encoder.fit(df['disease'])\n",
    "df['disease'] = disease_encoder.transform(df['disease'])\n",
    "print(df['disease'].unique())\n",
    "\n",
    "grow_encoder = LabelEncoder()\n",
    "grow_encoder.fit(df['grow'])\n",
    "df['grow'] = grow_encoder.transform(df['grow'])\n",
    "print(df['grow'].unique())"
   ]
  },
  {
   "cell_type": "code",
   "execution_count": 6,
   "id": "3a6e0911",
   "metadata": {
    "scrolled": true
   },
   "outputs": [],
   "source": [
    "X_train, X_test, y_train, y_test = train_test_split(df['image'],\n",
    "                                                   df['disease-grow'],\n",
    "                                                   stratify=df['disease-grow'],\n",
    "                                                   test_size=0.2)"
   ]
  },
  {
   "cell_type": "code",
   "execution_count": 7,
   "id": "5cc097c7",
   "metadata": {
    "scrolled": true
   },
   "outputs": [],
   "source": [
    "train_df = df[df['image'].isin(X_train)]\n",
    "test_df = df[df['image'].isin(X_test)]"
   ]
  },
  {
   "cell_type": "code",
   "execution_count": 8,
   "id": "f981e509",
   "metadata": {
    "scrolled": true
   },
   "outputs": [],
   "source": [
    "train_gen = ImageDataGenerator(rescale=1./255,\n",
    "                            rotation_range=20, # 최대 20도까지 회전\n",
    "                            width_shift_range=0.1, # 최대 x 범위안에서 좌우/상하 이동\n",
    "                            height_shift_range=0.1,\n",
    "                            zoom_range=0.2, # 확대 축소 비율,\n",
    "                            horizontal_flip=True, # 좌우반전\n",
    "                            vertical_flip=True, # 상하반전\n",
    "                            fill_mode='nearest')\n",
    "valid_gen = ImageDataGenerator(rescale= 1. /255.)"
   ]
  },
  {
   "cell_type": "markdown",
   "id": "b0a85eac",
   "metadata": {},
   "source": [
    "# Model Top layer 학습"
   ]
  },
  {
   "cell_type": "code",
   "execution_count": 10,
   "id": "16dd4f30",
   "metadata": {
    "scrolled": true
   },
   "outputs": [
    {
     "name": "stdout",
     "output_type": "stream",
     "text": [
      "Found 4738 validated image filenames.\n",
      "Found 1185 validated image filenames.\n"
     ]
    },
    {
     "name": "stderr",
     "output_type": "stream",
     "text": [
      "2022-06-27 13:57:50.240070: I tensorflow/compiler/mlir/mlir_graph_optimization_pass.cc:116] None of the MLIR optimization passes are enabled (registered 2)\n",
      "2022-06-27 13:57:50.256938: I tensorflow/core/platform/profile_utils/cpu_utils.cc:112] CPU Frequency: 2499995000 Hz\n"
     ]
    },
    {
     "name": "stdout",
     "output_type": "stream",
     "text": [
      "Epoch 1/1000\n"
     ]
    },
    {
     "name": "stderr",
     "output_type": "stream",
     "text": [
      "2022-06-27 13:57:58.598920: I tensorflow/stream_executor/platform/default/dso_loader.cc:49] Successfully opened dynamic library libcublas.so.10\n",
      "2022-06-27 13:57:59.645422: I tensorflow/stream_executor/platform/default/dso_loader.cc:49] Successfully opened dynamic library libcudnn.so.7\n"
     ]
    },
    {
     "name": "stdout",
     "output_type": "stream",
     "text": [
      "94/94 [==============================] - 129s 1s/step - loss: 1.1925 - diease_outputs_loss: 0.9088 - grow_outputs_loss: 0.2838 - diease_outputs_accuracy: 0.6263 - grow_outputs_accuracy: 0.8829 - val_loss: 0.5584 - val_diease_outputs_loss: 0.4410 - val_grow_outputs_loss: 0.1174 - val_diease_outputs_accuracy: 0.8422 - val_grow_outputs_accuracy: 0.9654\n",
      "\n",
      "Epoch 00001: val_loss improved from inf to 0.55843, saving model to ./toplayer_lettuce.ckpt\n",
      "Epoch 2/1000\n",
      "94/94 [==============================] - 114s 1s/step - loss: 0.6129 - diease_outputs_loss: 0.4496 - grow_outputs_loss: 0.1633 - diease_outputs_accuracy: 0.8290 - grow_outputs_accuracy: 0.9427 - val_loss: 0.4463 - val_diease_outputs_loss: 0.3515 - val_grow_outputs_loss: 0.0948 - val_diease_outputs_accuracy: 0.8658 - val_grow_outputs_accuracy: 0.9679\n",
      "\n",
      "Epoch 00002: val_loss improved from 0.55843 to 0.44629, saving model to ./toplayer_lettuce.ckpt\n",
      "Epoch 3/1000\n",
      "94/94 [==============================] - 114s 1s/step - loss: 0.5043 - diease_outputs_loss: 0.3660 - grow_outputs_loss: 0.1383 - diease_outputs_accuracy: 0.8717 - grow_outputs_accuracy: 0.9551 - val_loss: 0.4459 - val_diease_outputs_loss: 0.3643 - val_grow_outputs_loss: 0.0816 - val_diease_outputs_accuracy: 0.8641 - val_grow_outputs_accuracy: 0.9738\n",
      "\n",
      "Epoch 00003: val_loss improved from 0.44629 to 0.44588, saving model to ./toplayer_lettuce.ckpt\n",
      "Epoch 4/1000\n",
      "94/94 [==============================] - 113s 1s/step - loss: 0.4802 - diease_outputs_loss: 0.3413 - grow_outputs_loss: 0.1389 - diease_outputs_accuracy: 0.8684 - grow_outputs_accuracy: 0.9497 - val_loss: 0.3975 - val_diease_outputs_loss: 0.3198 - val_grow_outputs_loss: 0.0778 - val_diease_outputs_accuracy: 0.8852 - val_grow_outputs_accuracy: 0.9781\n",
      "\n",
      "Epoch 00004: val_loss improved from 0.44588 to 0.39755, saving model to ./toplayer_lettuce.ckpt\n",
      "Epoch 5/1000\n",
      "94/94 [==============================] - 113s 1s/step - loss: 0.4130 - diease_outputs_loss: 0.3045 - grow_outputs_loss: 0.1085 - diease_outputs_accuracy: 0.8883 - grow_outputs_accuracy: 0.9645 - val_loss: 0.3419 - val_diease_outputs_loss: 0.2690 - val_grow_outputs_loss: 0.0729 - val_diease_outputs_accuracy: 0.8996 - val_grow_outputs_accuracy: 0.9781\n",
      "\n",
      "Epoch 00005: val_loss improved from 0.39755 to 0.34191, saving model to ./toplayer_lettuce.ckpt\n",
      "Epoch 6/1000\n",
      "94/94 [==============================] - 114s 1s/step - loss: 0.4220 - diease_outputs_loss: 0.3039 - grow_outputs_loss: 0.1181 - diease_outputs_accuracy: 0.8882 - grow_outputs_accuracy: 0.9614 - val_loss: 0.3676 - val_diease_outputs_loss: 0.2854 - val_grow_outputs_loss: 0.0822 - val_diease_outputs_accuracy: 0.9004 - val_grow_outputs_accuracy: 0.9705\n",
      "\n",
      "Epoch 00006: val_loss did not improve from 0.34191\n",
      "Epoch 7/1000\n",
      "94/94 [==============================] - 113s 1s/step - loss: 0.3837 - diease_outputs_loss: 0.2793 - grow_outputs_loss: 0.1044 - diease_outputs_accuracy: 0.9010 - grow_outputs_accuracy: 0.9653 - val_loss: 0.4538 - val_diease_outputs_loss: 0.3881 - val_grow_outputs_loss: 0.0656 - val_diease_outputs_accuracy: 0.8439 - val_grow_outputs_accuracy: 0.9806\n",
      "\n",
      "Epoch 00007: val_loss did not improve from 0.34191\n",
      "Epoch 8/1000\n",
      "94/94 [==============================] - 114s 1s/step - loss: 0.3864 - diease_outputs_loss: 0.2885 - grow_outputs_loss: 0.0979 - diease_outputs_accuracy: 0.8969 - grow_outputs_accuracy: 0.9669 - val_loss: 0.3148 - val_diease_outputs_loss: 0.2505 - val_grow_outputs_loss: 0.0643 - val_diease_outputs_accuracy: 0.9105 - val_grow_outputs_accuracy: 0.9781\n",
      "\n",
      "Epoch 00008: val_loss improved from 0.34191 to 0.31481, saving model to ./toplayer_lettuce.ckpt\n",
      "Epoch 9/1000\n",
      "94/94 [==============================] - 114s 1s/step - loss: 0.3665 - diease_outputs_loss: 0.2707 - grow_outputs_loss: 0.0957 - diease_outputs_accuracy: 0.9016 - grow_outputs_accuracy: 0.9682 - val_loss: 0.3230 - val_diease_outputs_loss: 0.2401 - val_grow_outputs_loss: 0.0830 - val_diease_outputs_accuracy: 0.9131 - val_grow_outputs_accuracy: 0.9696\n",
      "\n",
      "Epoch 00009: val_loss did not improve from 0.31481\n",
      "Epoch 10/1000\n",
      "94/94 [==============================] - 114s 1s/step - loss: 0.3217 - diease_outputs_loss: 0.2342 - grow_outputs_loss: 0.0875 - diease_outputs_accuracy: 0.9141 - grow_outputs_accuracy: 0.9687 - val_loss: 0.2979 - val_diease_outputs_loss: 0.2210 - val_grow_outputs_loss: 0.0768 - val_diease_outputs_accuracy: 0.9207 - val_grow_outputs_accuracy: 0.9806\n",
      "\n",
      "Epoch 00010: val_loss improved from 0.31481 to 0.29786, saving model to ./toplayer_lettuce.ckpt\n",
      "Epoch 11/1000\n",
      "94/94 [==============================] - 114s 1s/step - loss: 0.3341 - diease_outputs_loss: 0.2500 - grow_outputs_loss: 0.0841 - diease_outputs_accuracy: 0.9123 - grow_outputs_accuracy: 0.9691 - val_loss: 0.2755 - val_diease_outputs_loss: 0.2142 - val_grow_outputs_loss: 0.0613 - val_diease_outputs_accuracy: 0.9249 - val_grow_outputs_accuracy: 0.9806\n",
      "\n",
      "Epoch 00011: val_loss improved from 0.29786 to 0.27552, saving model to ./toplayer_lettuce.ckpt\n",
      "Epoch 12/1000\n",
      "94/94 [==============================] - 114s 1s/step - loss: 0.3182 - diease_outputs_loss: 0.2377 - grow_outputs_loss: 0.0805 - diease_outputs_accuracy: 0.9131 - grow_outputs_accuracy: 0.9728 - val_loss: 0.2900 - val_diease_outputs_loss: 0.2326 - val_grow_outputs_loss: 0.0573 - val_diease_outputs_accuracy: 0.9224 - val_grow_outputs_accuracy: 0.9823\n",
      "\n",
      "Epoch 00012: val_loss did not improve from 0.27552\n",
      "Epoch 13/1000\n",
      "94/94 [==============================] - 114s 1s/step - loss: 0.3217 - diease_outputs_loss: 0.2407 - grow_outputs_loss: 0.0810 - diease_outputs_accuracy: 0.9021 - grow_outputs_accuracy: 0.9733 - val_loss: 0.2876 - val_diease_outputs_loss: 0.2137 - val_grow_outputs_loss: 0.0738 - val_diease_outputs_accuracy: 0.9257 - val_grow_outputs_accuracy: 0.9789\n",
      "\n",
      "Epoch 00013: val_loss did not improve from 0.27552\n",
      "Epoch 14/1000\n",
      "94/94 [==============================] - 114s 1s/step - loss: 0.2987 - diease_outputs_loss: 0.2261 - grow_outputs_loss: 0.0726 - diease_outputs_accuracy: 0.9209 - grow_outputs_accuracy: 0.9758 - val_loss: 0.2861 - val_diease_outputs_loss: 0.2229 - val_grow_outputs_loss: 0.0632 - val_diease_outputs_accuracy: 0.9249 - val_grow_outputs_accuracy: 0.9781\n",
      "\n",
      "Epoch 00014: val_loss did not improve from 0.27552\n",
      "Epoch 15/1000\n",
      "94/94 [==============================] - 113s 1s/step - loss: 0.3275 - diease_outputs_loss: 0.2362 - grow_outputs_loss: 0.0912 - diease_outputs_accuracy: 0.9108 - grow_outputs_accuracy: 0.9723 - val_loss: 0.2765 - val_diease_outputs_loss: 0.2147 - val_grow_outputs_loss: 0.0617 - val_diease_outputs_accuracy: 0.9181 - val_grow_outputs_accuracy: 0.9764\n",
      "\n",
      "Epoch 00015: val_loss did not improve from 0.27552\n",
      "Epoch 16/1000\n",
      "94/94 [==============================] - 113s 1s/step - loss: 0.3009 - diease_outputs_loss: 0.2254 - grow_outputs_loss: 0.0756 - diease_outputs_accuracy: 0.9181 - grow_outputs_accuracy: 0.9744 - val_loss: 0.2587 - val_diease_outputs_loss: 0.2059 - val_grow_outputs_loss: 0.0528 - val_diease_outputs_accuracy: 0.9241 - val_grow_outputs_accuracy: 0.9840\n",
      "\n",
      "Epoch 00016: val_loss improved from 0.27552 to 0.25871, saving model to ./toplayer_lettuce.ckpt\n",
      "Epoch 17/1000\n",
      "94/94 [==============================] - 113s 1s/step - loss: 0.3220 - diease_outputs_loss: 0.2428 - grow_outputs_loss: 0.0792 - diease_outputs_accuracy: 0.9146 - grow_outputs_accuracy: 0.9719 - val_loss: 0.2719 - val_diease_outputs_loss: 0.2143 - val_grow_outputs_loss: 0.0575 - val_diease_outputs_accuracy: 0.9232 - val_grow_outputs_accuracy: 0.9840\n",
      "\n",
      "Epoch 00017: val_loss did not improve from 0.25871\n",
      "Epoch 18/1000\n",
      "94/94 [==============================] - 113s 1s/step - loss: 0.3075 - diease_outputs_loss: 0.2346 - grow_outputs_loss: 0.0729 - diease_outputs_accuracy: 0.9114 - grow_outputs_accuracy: 0.9783 - val_loss: 0.2786 - val_diease_outputs_loss: 0.2293 - val_grow_outputs_loss: 0.0493 - val_diease_outputs_accuracy: 0.9105 - val_grow_outputs_accuracy: 0.9890\n",
      "\n",
      "Epoch 00018: val_loss did not improve from 0.25871\n",
      "Epoch 19/1000\n",
      "94/94 [==============================] - 114s 1s/step - loss: 0.3117 - diease_outputs_loss: 0.2312 - grow_outputs_loss: 0.0806 - diease_outputs_accuracy: 0.9180 - grow_outputs_accuracy: 0.9782 - val_loss: 0.2584 - val_diease_outputs_loss: 0.2093 - val_grow_outputs_loss: 0.0491 - val_diease_outputs_accuracy: 0.9215 - val_grow_outputs_accuracy: 0.9865\n"
     ]
    },
    {
     "name": "stdout",
     "output_type": "stream",
     "text": [
      "\n",
      "Epoch 00019: val_loss improved from 0.25871 to 0.25838, saving model to ./toplayer_lettuce.ckpt\n",
      "Epoch 20/1000\n",
      "94/94 [==============================] - 113s 1s/step - loss: 0.2956 - diease_outputs_loss: 0.2162 - grow_outputs_loss: 0.0794 - diease_outputs_accuracy: 0.9214 - grow_outputs_accuracy: 0.9752 - val_loss: 0.2811 - val_diease_outputs_loss: 0.2255 - val_grow_outputs_loss: 0.0557 - val_diease_outputs_accuracy: 0.9207 - val_grow_outputs_accuracy: 0.9797\n",
      "\n",
      "Epoch 00020: val_loss did not improve from 0.25838\n",
      "Epoch 21/1000\n",
      "94/94 [==============================] - 113s 1s/step - loss: 0.2991 - diease_outputs_loss: 0.2249 - grow_outputs_loss: 0.0743 - diease_outputs_accuracy: 0.9185 - grow_outputs_accuracy: 0.9750 - val_loss: 0.2614 - val_diease_outputs_loss: 0.2112 - val_grow_outputs_loss: 0.0503 - val_diease_outputs_accuracy: 0.9173 - val_grow_outputs_accuracy: 0.9873\n",
      "\n",
      "Epoch 00021: val_loss did not improve from 0.25838\n",
      "Epoch 22/1000\n",
      "94/94 [==============================] - 114s 1s/step - loss: 0.2877 - diease_outputs_loss: 0.2156 - grow_outputs_loss: 0.0721 - diease_outputs_accuracy: 0.9192 - grow_outputs_accuracy: 0.9756 - val_loss: 0.2569 - val_diease_outputs_loss: 0.2019 - val_grow_outputs_loss: 0.0549 - val_diease_outputs_accuracy: 0.9300 - val_grow_outputs_accuracy: 0.9814\n",
      "\n",
      "Epoch 00022: val_loss improved from 0.25838 to 0.25686, saving model to ./toplayer_lettuce.ckpt\n",
      "Epoch 23/1000\n",
      "94/94 [==============================] - 114s 1s/step - loss: 0.2765 - diease_outputs_loss: 0.2097 - grow_outputs_loss: 0.0669 - diease_outputs_accuracy: 0.9241 - grow_outputs_accuracy: 0.9760 - val_loss: 0.2542 - val_diease_outputs_loss: 0.2065 - val_grow_outputs_loss: 0.0476 - val_diease_outputs_accuracy: 0.9241 - val_grow_outputs_accuracy: 0.9857\n",
      "\n",
      "Epoch 00023: val_loss improved from 0.25686 to 0.25417, saving model to ./toplayer_lettuce.ckpt\n",
      "Epoch 24/1000\n",
      "94/94 [==============================] - 114s 1s/step - loss: 0.2636 - diease_outputs_loss: 0.1926 - grow_outputs_loss: 0.0710 - diease_outputs_accuracy: 0.9260 - grow_outputs_accuracy: 0.9763 - val_loss: 0.2409 - val_diease_outputs_loss: 0.1943 - val_grow_outputs_loss: 0.0466 - val_diease_outputs_accuracy: 0.9316 - val_grow_outputs_accuracy: 0.9873\n",
      "\n",
      "Epoch 00024: val_loss improved from 0.25417 to 0.24094, saving model to ./toplayer_lettuce.ckpt\n",
      "Epoch 25/1000\n",
      "94/94 [==============================] - 113s 1s/step - loss: 0.3089 - diease_outputs_loss: 0.2295 - grow_outputs_loss: 0.0793 - diease_outputs_accuracy: 0.9140 - grow_outputs_accuracy: 0.9725 - val_loss: 0.2304 - val_diease_outputs_loss: 0.1830 - val_grow_outputs_loss: 0.0474 - val_diease_outputs_accuracy: 0.9316 - val_grow_outputs_accuracy: 0.9857\n",
      "\n",
      "Epoch 00025: val_loss improved from 0.24094 to 0.23037, saving model to ./toplayer_lettuce.ckpt\n",
      "Epoch 26/1000\n",
      "94/94 [==============================] - 114s 1s/step - loss: 0.2631 - diease_outputs_loss: 0.1921 - grow_outputs_loss: 0.0710 - diease_outputs_accuracy: 0.9264 - grow_outputs_accuracy: 0.9765 - val_loss: 0.2283 - val_diease_outputs_loss: 0.1825 - val_grow_outputs_loss: 0.0458 - val_diease_outputs_accuracy: 0.9325 - val_grow_outputs_accuracy: 0.9857\n",
      "\n",
      "Epoch 00026: val_loss improved from 0.23037 to 0.22826, saving model to ./toplayer_lettuce.ckpt\n",
      "Epoch 27/1000\n",
      "94/94 [==============================] - 114s 1s/step - loss: 0.2664 - diease_outputs_loss: 0.2062 - grow_outputs_loss: 0.0602 - diease_outputs_accuracy: 0.9268 - grow_outputs_accuracy: 0.9782 - val_loss: 0.2463 - val_diease_outputs_loss: 0.1922 - val_grow_outputs_loss: 0.0541 - val_diease_outputs_accuracy: 0.9283 - val_grow_outputs_accuracy: 0.9840\n",
      "\n",
      "Epoch 00027: val_loss did not improve from 0.22826\n",
      "Epoch 28/1000\n",
      "94/94 [==============================] - 114s 1s/step - loss: 0.2750 - diease_outputs_loss: 0.2091 - grow_outputs_loss: 0.0659 - diease_outputs_accuracy: 0.9263 - grow_outputs_accuracy: 0.9779 - val_loss: 0.2521 - val_diease_outputs_loss: 0.2047 - val_grow_outputs_loss: 0.0474 - val_diease_outputs_accuracy: 0.9215 - val_grow_outputs_accuracy: 0.9857\n",
      "\n",
      "Epoch 00028: val_loss did not improve from 0.22826\n",
      "Epoch 29/1000\n",
      "94/94 [==============================] - 114s 1s/step - loss: 0.2908 - diease_outputs_loss: 0.2189 - grow_outputs_loss: 0.0719 - diease_outputs_accuracy: 0.9170 - grow_outputs_accuracy: 0.9745 - val_loss: 0.2631 - val_diease_outputs_loss: 0.2175 - val_grow_outputs_loss: 0.0456 - val_diease_outputs_accuracy: 0.9232 - val_grow_outputs_accuracy: 0.9865\n",
      "\n",
      "Epoch 00029: val_loss did not improve from 0.22826\n",
      "Epoch 30/1000\n",
      "94/94 [==============================] - 114s 1s/step - loss: 0.2698 - diease_outputs_loss: 0.1980 - grow_outputs_loss: 0.0718 - diease_outputs_accuracy: 0.9306 - grow_outputs_accuracy: 0.9748 - val_loss: 0.2252 - val_diease_outputs_loss: 0.1808 - val_grow_outputs_loss: 0.0444 - val_diease_outputs_accuracy: 0.9308 - val_grow_outputs_accuracy: 0.9865\n",
      "\n",
      "Epoch 00030: val_loss improved from 0.22826 to 0.22522, saving model to ./toplayer_lettuce.ckpt\n",
      "Epoch 31/1000\n",
      "94/94 [==============================] - 114s 1s/step - loss: 0.2839 - diease_outputs_loss: 0.2146 - grow_outputs_loss: 0.0692 - diease_outputs_accuracy: 0.9171 - grow_outputs_accuracy: 0.9755 - val_loss: 0.2428 - val_diease_outputs_loss: 0.1976 - val_grow_outputs_loss: 0.0453 - val_diease_outputs_accuracy: 0.9283 - val_grow_outputs_accuracy: 0.9857\n",
      "\n",
      "Epoch 00031: val_loss did not improve from 0.22522\n",
      "Epoch 32/1000\n",
      "94/94 [==============================] - 114s 1s/step - loss: 0.2552 - diease_outputs_loss: 0.1985 - grow_outputs_loss: 0.0567 - diease_outputs_accuracy: 0.9287 - grow_outputs_accuracy: 0.9807 - val_loss: 0.2310 - val_diease_outputs_loss: 0.1763 - val_grow_outputs_loss: 0.0547 - val_diease_outputs_accuracy: 0.9342 - val_grow_outputs_accuracy: 0.9823\n",
      "\n",
      "Epoch 00032: val_loss did not improve from 0.22522\n",
      "Epoch 33/1000\n",
      "94/94 [==============================] - 114s 1s/step - loss: 0.2685 - diease_outputs_loss: 0.2009 - grow_outputs_loss: 0.0676 - diease_outputs_accuracy: 0.9218 - grow_outputs_accuracy: 0.9774 - val_loss: 0.2296 - val_diease_outputs_loss: 0.1796 - val_grow_outputs_loss: 0.0499 - val_diease_outputs_accuracy: 0.9350 - val_grow_outputs_accuracy: 0.9831\n",
      "\n",
      "Epoch 00033: val_loss did not improve from 0.22522\n",
      "Epoch 34/1000\n",
      "94/94 [==============================] - 114s 1s/step - loss: 0.2737 - diease_outputs_loss: 0.2036 - grow_outputs_loss: 0.0702 - diease_outputs_accuracy: 0.9270 - grow_outputs_accuracy: 0.9766 - val_loss: 0.2318 - val_diease_outputs_loss: 0.1874 - val_grow_outputs_loss: 0.0444 - val_diease_outputs_accuracy: 0.9291 - val_grow_outputs_accuracy: 0.9857\n",
      "\n",
      "Epoch 00034: val_loss did not improve from 0.22522\n",
      "Epoch 35/1000\n",
      "94/94 [==============================] - 114s 1s/step - loss: 0.2680 - diease_outputs_loss: 0.2088 - grow_outputs_loss: 0.0593 - diease_outputs_accuracy: 0.9254 - grow_outputs_accuracy: 0.9785 - val_loss: 0.2185 - val_diease_outputs_loss: 0.1750 - val_grow_outputs_loss: 0.0436 - val_diease_outputs_accuracy: 0.9308 - val_grow_outputs_accuracy: 0.9848\n",
      "\n",
      "Epoch 00035: val_loss improved from 0.22522 to 0.21853, saving model to ./toplayer_lettuce.ckpt\n",
      "Epoch 36/1000\n",
      "94/94 [==============================] - 114s 1s/step - loss: 0.2537 - diease_outputs_loss: 0.1929 - grow_outputs_loss: 0.0609 - diease_outputs_accuracy: 0.9294 - grow_outputs_accuracy: 0.9775 - val_loss: 0.2245 - val_diease_outputs_loss: 0.1800 - val_grow_outputs_loss: 0.0445 - val_diease_outputs_accuracy: 0.9359 - val_grow_outputs_accuracy: 0.9848\n",
      "\n",
      "Epoch 00036: val_loss did not improve from 0.21853\n",
      "Epoch 37/1000\n",
      "94/94 [==============================] - 114s 1s/step - loss: 0.2506 - diease_outputs_loss: 0.1813 - grow_outputs_loss: 0.0693 - diease_outputs_accuracy: 0.9332 - grow_outputs_accuracy: 0.9726 - val_loss: 0.2182 - val_diease_outputs_loss: 0.1767 - val_grow_outputs_loss: 0.0415 - val_diease_outputs_accuracy: 0.9333 - val_grow_outputs_accuracy: 0.9857\n",
      "\n",
      "Epoch 00037: val_loss improved from 0.21853 to 0.21820, saving model to ./toplayer_lettuce.ckpt\n",
      "Epoch 38/1000\n",
      "94/94 [==============================] - 114s 1s/step - loss: 0.2452 - diease_outputs_loss: 0.1888 - grow_outputs_loss: 0.0564 - diease_outputs_accuracy: 0.9304 - grow_outputs_accuracy: 0.9813 - val_loss: 0.2321 - val_diease_outputs_loss: 0.1857 - val_grow_outputs_loss: 0.0464 - val_diease_outputs_accuracy: 0.9350 - val_grow_outputs_accuracy: 0.9865\n"
     ]
    },
    {
     "name": "stdout",
     "output_type": "stream",
     "text": [
      "\n",
      "Epoch 00038: val_loss did not improve from 0.21820\n",
      "Epoch 39/1000\n",
      "94/94 [==============================] - 114s 1s/step - loss: 0.2604 - diease_outputs_loss: 0.1909 - grow_outputs_loss: 0.0695 - diease_outputs_accuracy: 0.9337 - grow_outputs_accuracy: 0.9749 - val_loss: 0.2393 - val_diease_outputs_loss: 0.1874 - val_grow_outputs_loss: 0.0519 - val_diease_outputs_accuracy: 0.9291 - val_grow_outputs_accuracy: 0.9823\n",
      "\n",
      "Epoch 00039: val_loss did not improve from 0.21820\n",
      "Epoch 40/1000\n",
      "94/94 [==============================] - 114s 1s/step - loss: 0.2473 - diease_outputs_loss: 0.1806 - grow_outputs_loss: 0.0667 - diease_outputs_accuracy: 0.9294 - grow_outputs_accuracy: 0.9775 - val_loss: 0.2170 - val_diease_outputs_loss: 0.1752 - val_grow_outputs_loss: 0.0418 - val_diease_outputs_accuracy: 0.9392 - val_grow_outputs_accuracy: 0.9848\n",
      "\n",
      "Epoch 00040: val_loss improved from 0.21820 to 0.21703, saving model to ./toplayer_lettuce.ckpt\n",
      "Epoch 41/1000\n",
      "94/94 [==============================] - 114s 1s/step - loss: 0.2539 - diease_outputs_loss: 0.1858 - grow_outputs_loss: 0.0680 - diease_outputs_accuracy: 0.9265 - grow_outputs_accuracy: 0.9764 - val_loss: 0.2174 - val_diease_outputs_loss: 0.1744 - val_grow_outputs_loss: 0.0429 - val_diease_outputs_accuracy: 0.9359 - val_grow_outputs_accuracy: 0.9890\n",
      "\n",
      "Epoch 00041: val_loss did not improve from 0.21703\n",
      "Epoch 42/1000\n",
      "94/94 [==============================] - 114s 1s/step - loss: 0.2378 - diease_outputs_loss: 0.1788 - grow_outputs_loss: 0.0590 - diease_outputs_accuracy: 0.9344 - grow_outputs_accuracy: 0.9798 - val_loss: 0.2028 - val_diease_outputs_loss: 0.1640 - val_grow_outputs_loss: 0.0388 - val_diease_outputs_accuracy: 0.9376 - val_grow_outputs_accuracy: 0.9873\n",
      "\n",
      "Epoch 00042: val_loss improved from 0.21703 to 0.20278, saving model to ./toplayer_lettuce.ckpt\n",
      "Epoch 43/1000\n",
      "94/94 [==============================] - 114s 1s/step - loss: 0.2313 - diease_outputs_loss: 0.1737 - grow_outputs_loss: 0.0577 - diease_outputs_accuracy: 0.9384 - grow_outputs_accuracy: 0.9802 - val_loss: 0.2127 - val_diease_outputs_loss: 0.1752 - val_grow_outputs_loss: 0.0374 - val_diease_outputs_accuracy: 0.9350 - val_grow_outputs_accuracy: 0.9873\n",
      "\n",
      "Epoch 00043: val_loss did not improve from 0.20278\n",
      "Epoch 44/1000\n",
      "94/94 [==============================] - 114s 1s/step - loss: 0.2488 - diease_outputs_loss: 0.1903 - grow_outputs_loss: 0.0584 - diease_outputs_accuracy: 0.9299 - grow_outputs_accuracy: 0.9808 - val_loss: 0.2138 - val_diease_outputs_loss: 0.1686 - val_grow_outputs_loss: 0.0452 - val_diease_outputs_accuracy: 0.9342 - val_grow_outputs_accuracy: 0.9848\n",
      "\n",
      "Epoch 00044: val_loss did not improve from 0.20278\n",
      "Epoch 45/1000\n",
      "94/94 [==============================] - 114s 1s/step - loss: 0.2543 - diease_outputs_loss: 0.1905 - grow_outputs_loss: 0.0638 - diease_outputs_accuracy: 0.9259 - grow_outputs_accuracy: 0.9779 - val_loss: 0.2200 - val_diease_outputs_loss: 0.1775 - val_grow_outputs_loss: 0.0426 - val_diease_outputs_accuracy: 0.9316 - val_grow_outputs_accuracy: 0.9848\n",
      "\n",
      "Epoch 00045: val_loss did not improve from 0.20278\n",
      "Epoch 46/1000\n",
      "94/94 [==============================] - 115s 1s/step - loss: 0.2367 - diease_outputs_loss: 0.1834 - grow_outputs_loss: 0.0532 - diease_outputs_accuracy: 0.9354 - grow_outputs_accuracy: 0.9835 - val_loss: 0.1991 - val_diease_outputs_loss: 0.1605 - val_grow_outputs_loss: 0.0386 - val_diease_outputs_accuracy: 0.9418 - val_grow_outputs_accuracy: 0.9873\n",
      "\n",
      "Epoch 00046: val_loss improved from 0.20278 to 0.19915, saving model to ./toplayer_lettuce.ckpt\n",
      "Epoch 47/1000\n",
      "94/94 [==============================] - 114s 1s/step - loss: 0.2338 - diease_outputs_loss: 0.1775 - grow_outputs_loss: 0.0563 - diease_outputs_accuracy: 0.9343 - grow_outputs_accuracy: 0.9799 - val_loss: 0.1986 - val_diease_outputs_loss: 0.1587 - val_grow_outputs_loss: 0.0400 - val_diease_outputs_accuracy: 0.9409 - val_grow_outputs_accuracy: 0.9840\n",
      "\n",
      "Epoch 00047: val_loss improved from 0.19915 to 0.19863, saving model to ./toplayer_lettuce.ckpt\n",
      "Epoch 00047: early stopping\n"
     ]
    }
   ],
   "source": [
    "IMAGE_SIZE=320\n",
    "BATCH_SIZE = 50\n",
    "EPOCHS = 1000\n",
    "DROPOUT = 0.2\n",
    "LEARNING_RATE = 1e-3\n",
    "ACTIVATION = 'relu'\n",
    "OPTIMIZER = 'rmsprop'\n",
    "DENSE = 32\n",
    "\n",
    "train_generator = train_gen.flow_from_dataframe(train_df, \n",
    "                                           x_col='image',\n",
    "                                           y_col=['disease', 'grow'],\n",
    "                                           target_size=(IMAGE_SIZE, IMAGE_SIZE),\n",
    "                                           class_mode='multi_output',\n",
    "                                           batch_size=BATCH_SIZE)\n",
    "valid_generator = valid_gen.flow_from_dataframe(test_df,\n",
    "                                           x_col='image',\n",
    "                                           y_col=['disease','grow'],\n",
    "                                           target_size=(IMAGE_SIZE, IMAGE_SIZE),\n",
    "                                           class_mode='multi_output',\n",
    "                                           batch_size=BATCH_SIZE)\n",
    "\n",
    "MODEL_IMAGE_SIZE = 299\n",
    "base_model = inception_resnet_v2.InceptionResNetV2(\n",
    "    weights='imagenet',\n",
    "    include_top = False,\n",
    "    input_shape = (MODEL_IMAGE_SIZE, MODEL_IMAGE_SIZE,3)\n",
    ")\n",
    "base_model.trainable = False\n",
    "\n",
    "# resizing model\n",
    "input_data = layers.Input((IMAGE_SIZE, IMAGE_SIZE, 3))\n",
    "x = tf.keras.layers.experimental.preprocessing.Resizing(MODEL_IMAGE_SIZE, MODEL_IMAGE_SIZE)(input_data)\n",
    "resizing = Model(inputs=input_data, outputs=x, name='resize')\n",
    "\n",
    "# model\n",
    "inputs = layers.Input(shape=(IMAGE_SIZE, IMAGE_SIZE, 3))\n",
    "x = resizing(inputs)\n",
    "x = base_model(x, training=False)\n",
    "x = layers.GlobalAveragePooling2D()(x)\n",
    "x = layers.Dropout(DROPOUT)(x)\n",
    "backbone_out = layers.Dense(DENSE, activation=ACTIVATION)(x)\n",
    "\n",
    "disease_outputs = layers.Dense(df['disease'].nunique(), activation='softmax',\n",
    "                        name = 'diease_outputs')(backbone_out)\n",
    "grow_outputs = layers.Dense(1, activation='sigmoid',\n",
    "                    name = 'grow_outputs')(backbone_out)\n",
    "\n",
    "model = Model(inputs=inputs, \n",
    "              outputs=[disease_outputs, grow_outputs],\n",
    "              name='strawberry')  \n",
    "\n",
    "es = EarlyStopping(monitor='loss',\n",
    "                   mode='auto',\n",
    "                  patience=5,\n",
    "                  verbose=1)\n",
    "\n",
    "ckpt_path = './graph_toplayer.ckpt'\n",
    "checkpointer = ModelCheckpoint(filepath=ckpt_path,\n",
    "                              monitor='val_loss',\n",
    "                              save_weights_only = True,\n",
    "                              save_best_only= True,\n",
    "                              verbose=1)\n",
    "\n",
    "optimizer = RMSprop(learning_rate=LEARNING_RATE)\n",
    "\n",
    "es = EarlyStopping(monitor='loss',\n",
    "                   mode='auto',\n",
    "                  patience=5,\n",
    "                  verbose=1)\n",
    "\n",
    "ckpt_path = './toplayer_lettuce.ckpt'\n",
    "checkpointer = ModelCheckpoint(filepath=ckpt_path,\n",
    "                              monitor='val_loss',\n",
    "                              save_weights_only = True,\n",
    "                              save_best_only= True,\n",
    "                              verbose=1)\n",
    "\n",
    "model.compile(loss={\n",
    "              'diease_outputs' : 'sparse_categorical_crossentropy',\n",
    "              'grow_outputs' : 'binary_crossentropy'\n",
    "              },\n",
    "              optimizer=optimizer,\n",
    "              metrics=['accuracy'])    \n",
    "\n",
    "history = model.fit(train_generator,\n",
    "                      validation_data=valid_generator,\n",
    "                      verbose=1,\n",
    "                      epochs=EPOCHS,\n",
    "                      callbacks=[es, checkpointer],\n",
    "                      steps_per_epoch=len(train_df)//BATCH_SIZE)"
   ]
  },
  {
   "cell_type": "code",
   "execution_count": 11,
   "id": "17ab1dff",
   "metadata": {},
   "outputs": [],
   "source": [
    "train_loss = history.history['loss']\n",
    "valid_loss = history.history['val_loss']\n",
    "grow_acc = history.history['grow_outputs_accuracy']\n",
    "val_grow_acc = history.history['val_grow_outputs_accuracy']\n",
    "disease_acc = history.history['diease_outputs_accuracy']\n",
    "val_disease_acc = history.history['val_diease_outputs_accuracy']"
   ]
  },
  {
   "cell_type": "code",
   "execution_count": 12,
   "id": "6b9f7d68",
   "metadata": {},
   "outputs": [],
   "source": [
    "log = pd.DataFrame(history.history)\n",
    "log.to_csv('./top layer history.csv', index=False)"
   ]
  },
  {
   "cell_type": "markdown",
   "id": "18efe002",
   "metadata": {},
   "source": [
    "# Fine Tuning"
   ]
  },
  {
   "cell_type": "code",
   "execution_count": 13,
   "id": "299008b1",
   "metadata": {
    "scrolled": true
   },
   "outputs": [],
   "source": [
    "start = len(history.history['loss'])\n",
    "IMAGE_SIZE = 320\n",
    "FREEZE_RATE = 0.9"
   ]
  },
  {
   "cell_type": "code",
   "execution_count": 14,
   "id": "c5ce8832",
   "metadata": {
    "scrolled": true
   },
   "outputs": [
    {
     "name": "stdout",
     "output_type": "stream",
     "text": [
      "Epoch 48/1000\n",
      "94/94 [==============================] - 127s 1s/step - loss: 0.2775 - diease_outputs_loss: 0.2245 - grow_outputs_loss: 0.0531 - diease_outputs_accuracy: 0.9165 - grow_outputs_accuracy: 0.9818 - val_loss: 0.1646 - val_diease_outputs_loss: 0.1294 - val_grow_outputs_loss: 0.0351 - val_diease_outputs_accuracy: 0.9561 - val_grow_outputs_accuracy: 0.9848\n",
      "\n",
      "Epoch 00048: val_loss improved from inf to 0.16455, saving model to ./graph_finetune.ckpt\n",
      "Epoch 49/1000\n",
      "94/94 [==============================] - 115s 1s/step - loss: 0.1777 - diease_outputs_loss: 0.1367 - grow_outputs_loss: 0.0410 - diease_outputs_accuracy: 0.9537 - grow_outputs_accuracy: 0.9874 - val_loss: 0.1495 - val_diease_outputs_loss: 0.1156 - val_grow_outputs_loss: 0.0339 - val_diease_outputs_accuracy: 0.9527 - val_grow_outputs_accuracy: 0.9873\n",
      "\n",
      "Epoch 00049: val_loss improved from 0.16455 to 0.14950, saving model to ./graph_finetune.ckpt\n",
      "Epoch 50/1000\n",
      "94/94 [==============================] - 115s 1s/step - loss: 0.1388 - diease_outputs_loss: 0.1076 - grow_outputs_loss: 0.0312 - diease_outputs_accuracy: 0.9631 - grow_outputs_accuracy: 0.9886 - val_loss: 0.1271 - val_diease_outputs_loss: 0.1024 - val_grow_outputs_loss: 0.0247 - val_diease_outputs_accuracy: 0.9696 - val_grow_outputs_accuracy: 0.9916\n",
      "\n",
      "Epoch 00050: val_loss improved from 0.14950 to 0.12707, saving model to ./graph_finetune.ckpt\n",
      "Epoch 51/1000\n",
      "94/94 [==============================] - 115s 1s/step - loss: 0.1145 - diease_outputs_loss: 0.0915 - grow_outputs_loss: 0.0230 - diease_outputs_accuracy: 0.9699 - grow_outputs_accuracy: 0.9928 - val_loss: 0.1351 - val_diease_outputs_loss: 0.1093 - val_grow_outputs_loss: 0.0257 - val_diease_outputs_accuracy: 0.9688 - val_grow_outputs_accuracy: 0.9873\n",
      "\n",
      "Epoch 00051: val_loss did not improve from 0.12707\n",
      "Epoch 52/1000\n",
      "94/94 [==============================] - 115s 1s/step - loss: 0.0916 - diease_outputs_loss: 0.0705 - grow_outputs_loss: 0.0211 - diease_outputs_accuracy: 0.9754 - grow_outputs_accuracy: 0.9928 - val_loss: 0.1367 - val_diease_outputs_loss: 0.1130 - val_grow_outputs_loss: 0.0237 - val_diease_outputs_accuracy: 0.9603 - val_grow_outputs_accuracy: 0.9924\n",
      "\n",
      "Epoch 00052: val_loss did not improve from 0.12707\n",
      "Epoch 53/1000\n",
      "94/94 [==============================] - 115s 1s/step - loss: 0.0951 - diease_outputs_loss: 0.0804 - grow_outputs_loss: 0.0147 - diease_outputs_accuracy: 0.9718 - grow_outputs_accuracy: 0.9964 - val_loss: 0.1497 - val_diease_outputs_loss: 0.1272 - val_grow_outputs_loss: 0.0226 - val_diease_outputs_accuracy: 0.9603 - val_grow_outputs_accuracy: 0.9924\n",
      "\n",
      "Epoch 00053: val_loss did not improve from 0.12707\n",
      "Epoch 54/1000\n",
      "94/94 [==============================] - 115s 1s/step - loss: 0.0892 - diease_outputs_loss: 0.0737 - grow_outputs_loss: 0.0155 - diease_outputs_accuracy: 0.9777 - grow_outputs_accuracy: 0.9943 - val_loss: 0.1174 - val_diease_outputs_loss: 0.0931 - val_grow_outputs_loss: 0.0243 - val_diease_outputs_accuracy: 0.9713 - val_grow_outputs_accuracy: 0.9924\n",
      "\n",
      "Epoch 00054: val_loss improved from 0.12707 to 0.11737, saving model to ./graph_finetune.ckpt\n",
      "Epoch 55/1000\n",
      "94/94 [==============================] - 115s 1s/step - loss: 0.0640 - diease_outputs_loss: 0.0560 - grow_outputs_loss: 0.0080 - diease_outputs_accuracy: 0.9790 - grow_outputs_accuracy: 0.9977 - val_loss: 0.1160 - val_diease_outputs_loss: 0.0949 - val_grow_outputs_loss: 0.0211 - val_diease_outputs_accuracy: 0.9679 - val_grow_outputs_accuracy: 0.9949\n",
      "\n",
      "Epoch 00055: val_loss improved from 0.11737 to 0.11602, saving model to ./graph_finetune.ckpt\n",
      "Epoch 56/1000\n",
      "94/94 [==============================] - 115s 1s/step - loss: 0.0670 - diease_outputs_loss: 0.0528 - grow_outputs_loss: 0.0143 - diease_outputs_accuracy: 0.9828 - grow_outputs_accuracy: 0.9950 - val_loss: 0.1140 - val_diease_outputs_loss: 0.0919 - val_grow_outputs_loss: 0.0221 - val_diease_outputs_accuracy: 0.9688 - val_grow_outputs_accuracy: 0.9916\n",
      "\n",
      "Epoch 00056: val_loss improved from 0.11602 to 0.11400, saving model to ./graph_finetune.ckpt\n",
      "Epoch 57/1000\n",
      "94/94 [==============================] - 114s 1s/step - loss: 0.0574 - diease_outputs_loss: 0.0481 - grow_outputs_loss: 0.0093 - diease_outputs_accuracy: 0.9840 - grow_outputs_accuracy: 0.9953 - val_loss: 0.1312 - val_diease_outputs_loss: 0.0920 - val_grow_outputs_loss: 0.0392 - val_diease_outputs_accuracy: 0.9730 - val_grow_outputs_accuracy: 0.9924\n",
      "\n",
      "Epoch 00057: val_loss did not improve from 0.11400\n",
      "Epoch 58/1000\n",
      "94/94 [==============================] - 114s 1s/step - loss: 0.0490 - diease_outputs_loss: 0.0382 - grow_outputs_loss: 0.0108 - diease_outputs_accuracy: 0.9866 - grow_outputs_accuracy: 0.9957 - val_loss: 0.1318 - val_diease_outputs_loss: 0.1082 - val_grow_outputs_loss: 0.0236 - val_diease_outputs_accuracy: 0.9696 - val_grow_outputs_accuracy: 0.9924\n",
      "\n",
      "Epoch 00058: val_loss did not improve from 0.11400\n",
      "Epoch 59/1000\n",
      "94/94 [==============================] - 115s 1s/step - loss: 0.0413 - diease_outputs_loss: 0.0355 - grow_outputs_loss: 0.0058 - diease_outputs_accuracy: 0.9859 - grow_outputs_accuracy: 0.9985 - val_loss: 0.1577 - val_diease_outputs_loss: 0.1344 - val_grow_outputs_loss: 0.0232 - val_diease_outputs_accuracy: 0.9679 - val_grow_outputs_accuracy: 0.9932\n",
      "\n",
      "Epoch 00059: val_loss did not improve from 0.11400\n",
      "Epoch 60/1000\n",
      "94/94 [==============================] - 115s 1s/step - loss: 0.0487 - diease_outputs_loss: 0.0312 - grow_outputs_loss: 0.0175 - diease_outputs_accuracy: 0.9892 - grow_outputs_accuracy: 0.9928 - val_loss: 0.2051 - val_diease_outputs_loss: 0.1579 - val_grow_outputs_loss: 0.0472 - val_diease_outputs_accuracy: 0.9595 - val_grow_outputs_accuracy: 0.9840\n",
      "\n",
      "Epoch 00060: val_loss did not improve from 0.11400\n",
      "Epoch 61/1000\n",
      "94/94 [==============================] - 115s 1s/step - loss: 0.0528 - diease_outputs_loss: 0.0471 - grow_outputs_loss: 0.0057 - diease_outputs_accuracy: 0.9847 - grow_outputs_accuracy: 0.9985 - val_loss: 0.1376 - val_diease_outputs_loss: 0.1087 - val_grow_outputs_loss: 0.0289 - val_diease_outputs_accuracy: 0.9738 - val_grow_outputs_accuracy: 0.9890\n",
      "\n",
      "Epoch 00061: val_loss did not improve from 0.11400\n",
      "Epoch 62/1000\n",
      "94/94 [==============================] - 115s 1s/step - loss: 0.0415 - diease_outputs_loss: 0.0360 - grow_outputs_loss: 0.0055 - diease_outputs_accuracy: 0.9857 - grow_outputs_accuracy: 0.9991 - val_loss: 0.1194 - val_diease_outputs_loss: 0.0934 - val_grow_outputs_loss: 0.0260 - val_diease_outputs_accuracy: 0.9730 - val_grow_outputs_accuracy: 0.9924\n",
      "\n",
      "Epoch 00062: val_loss did not improve from 0.11400\n",
      "Epoch 63/1000\n",
      "94/94 [==============================] - 116s 1s/step - loss: 0.0362 - diease_outputs_loss: 0.0282 - grow_outputs_loss: 0.0080 - diease_outputs_accuracy: 0.9912 - grow_outputs_accuracy: 0.9966 - val_loss: 0.1179 - val_diease_outputs_loss: 0.0883 - val_grow_outputs_loss: 0.0296 - val_diease_outputs_accuracy: 0.9781 - val_grow_outputs_accuracy: 0.9924\n",
      "\n",
      "Epoch 00063: val_loss did not improve from 0.11400\n",
      "Epoch 64/1000\n",
      "94/94 [==============================] - 115s 1s/step - loss: 0.0317 - diease_outputs_loss: 0.0223 - grow_outputs_loss: 0.0094 - diease_outputs_accuracy: 0.9922 - grow_outputs_accuracy: 0.9979 - val_loss: 0.1898 - val_diease_outputs_loss: 0.1682 - val_grow_outputs_loss: 0.0216 - val_diease_outputs_accuracy: 0.9561 - val_grow_outputs_accuracy: 0.9924\n",
      "\n",
      "Epoch 00064: val_loss did not improve from 0.11400\n",
      "Epoch 65/1000\n",
      "94/94 [==============================] - 115s 1s/step - loss: 0.0372 - diease_outputs_loss: 0.0338 - grow_outputs_loss: 0.0035 - diease_outputs_accuracy: 0.9859 - grow_outputs_accuracy: 0.9999 - val_loss: 0.1258 - val_diease_outputs_loss: 0.0970 - val_grow_outputs_loss: 0.0288 - val_diease_outputs_accuracy: 0.9747 - val_grow_outputs_accuracy: 0.9907\n",
      "\n",
      "Epoch 00065: val_loss did not improve from 0.11400\n",
      "Epoch 66/1000\n",
      "94/94 [==============================] - 114s 1s/step - loss: 0.0261 - diease_outputs_loss: 0.0210 - grow_outputs_loss: 0.0051 - diease_outputs_accuracy: 0.9933 - grow_outputs_accuracy: 0.9991 - val_loss: 0.1744 - val_diease_outputs_loss: 0.1476 - val_grow_outputs_loss: 0.0268 - val_diease_outputs_accuracy: 0.9646 - val_grow_outputs_accuracy: 0.9916\n",
      "\n",
      "Epoch 00066: val_loss did not improve from 0.11400\n",
      "Epoch 67/1000\n"
     ]
    },
    {
     "name": "stdout",
     "output_type": "stream",
     "text": [
      "94/94 [==============================] - 115s 1s/step - loss: 0.0242 - diease_outputs_loss: 0.0206 - grow_outputs_loss: 0.0036 - diease_outputs_accuracy: 0.9920 - grow_outputs_accuracy: 0.9987 - val_loss: 0.1364 - val_diease_outputs_loss: 0.1127 - val_grow_outputs_loss: 0.0237 - val_diease_outputs_accuracy: 0.9772 - val_grow_outputs_accuracy: 0.9932\n",
      "\n",
      "Epoch 00067: val_loss did not improve from 0.11400\n",
      "Epoch 68/1000\n",
      "94/94 [==============================] - 114s 1s/step - loss: 0.0302 - diease_outputs_loss: 0.0261 - grow_outputs_loss: 0.0041 - diease_outputs_accuracy: 0.9916 - grow_outputs_accuracy: 0.9987 - val_loss: 0.1714 - val_diease_outputs_loss: 0.1123 - val_grow_outputs_loss: 0.0591 - val_diease_outputs_accuracy: 0.9755 - val_grow_outputs_accuracy: 0.9848\n",
      "\n",
      "Epoch 00068: val_loss did not improve from 0.11400\n",
      "Epoch 69/1000\n",
      "94/94 [==============================] - 114s 1s/step - loss: 0.0271 - diease_outputs_loss: 0.0237 - grow_outputs_loss: 0.0034 - diease_outputs_accuracy: 0.9889 - grow_outputs_accuracy: 0.9991 - val_loss: 0.1201 - val_diease_outputs_loss: 0.0972 - val_grow_outputs_loss: 0.0228 - val_diease_outputs_accuracy: 0.9772 - val_grow_outputs_accuracy: 0.9924\n",
      "\n",
      "Epoch 00069: val_loss did not improve from 0.11400\n",
      "Epoch 70/1000\n",
      "94/94 [==============================] - 115s 1s/step - loss: 0.0168 - diease_outputs_loss: 0.0148 - grow_outputs_loss: 0.0021 - diease_outputs_accuracy: 0.9943 - grow_outputs_accuracy: 0.9999 - val_loss: 0.1197 - val_diease_outputs_loss: 0.0979 - val_grow_outputs_loss: 0.0219 - val_diease_outputs_accuracy: 0.9772 - val_grow_outputs_accuracy: 0.9941\n",
      "\n",
      "Epoch 00070: val_loss did not improve from 0.11400\n",
      "Epoch 71/1000\n",
      "94/94 [==============================] - 115s 1s/step - loss: 0.0321 - diease_outputs_loss: 0.0284 - grow_outputs_loss: 0.0037 - diease_outputs_accuracy: 0.9906 - grow_outputs_accuracy: 0.9993 - val_loss: 0.1356 - val_diease_outputs_loss: 0.1132 - val_grow_outputs_loss: 0.0223 - val_diease_outputs_accuracy: 0.9764 - val_grow_outputs_accuracy: 0.9949\n",
      "\n",
      "Epoch 00071: val_loss did not improve from 0.11400\n",
      "Epoch 72/1000\n",
      "94/94 [==============================] - 114s 1s/step - loss: 0.0261 - diease_outputs_loss: 0.0204 - grow_outputs_loss: 0.0057 - diease_outputs_accuracy: 0.9955 - grow_outputs_accuracy: 0.9980 - val_loss: 0.1580 - val_diease_outputs_loss: 0.1311 - val_grow_outputs_loss: 0.0269 - val_diease_outputs_accuracy: 0.9654 - val_grow_outputs_accuracy: 0.9941\n",
      "\n",
      "Epoch 00072: val_loss did not improve from 0.11400\n",
      "Epoch 00072: early stopping\n"
     ]
    }
   ],
   "source": [
    "############### 동결 해제 ###################\n",
    "base_model.trainable=True\n",
    "fine_tune_at = int(len(base_model.layers) * FREEZE_RATE)\n",
    "for layer in base_model.layers[:fine_tune_at] :\n",
    "    layer.trainable = False  \n",
    "    \n",
    "    \n",
    "model.compile(optimizer=Adam(LEARNING_RATE/10),  ## compile\n",
    "              loss={\n",
    "                  'diease_outputs' : 'sparse_categorical_crossentropy',\n",
    "                  'grow_outputs' : 'binary_crossentropy'\n",
    "                },\n",
    "                metrics=['accuracy'])\n",
    "\n",
    "\n",
    "ckpt_path_ = './graph_finetune.ckpt'\n",
    "checkpointer= ModelCheckpoint(filepath=ckpt_path_,\n",
    "                          monitor='val_loss',\n",
    "                          save_weights_only = True,\n",
    "                          save_best_only= True,\n",
    "                          verbose=1)\n",
    "## finetuning\n",
    "history_fine = model.fit(train_generator,\n",
    "                          validation_data=valid_generator,\n",
    "                          verbose=1,\n",
    "                          epochs=EPOCHS,\n",
    "                          initial_epoch = start,\n",
    "                          callbacks=[es, checkpointer],  # model save at wandb\n",
    "                          steps_per_epoch=len(train_df)//BATCH_SIZE)"
   ]
  },
  {
   "cell_type": "code",
   "execution_count": 15,
   "id": "97fd9d9f",
   "metadata": {
    "scrolled": true
   },
   "outputs": [],
   "source": [
    "train_loss += history_fine.history['loss']\n",
    "valid_loss += history_fine.history['val_loss']\n",
    "grow_acc += history_fine.history['grow_outputs_accuracy']\n",
    "val_grow_acc += history_fine.history['val_grow_outputs_accuracy']\n",
    "disease_acc += history_fine.history['diease_outputs_accuracy']\n",
    "val_disease_acc += history_fine.history['val_diease_outputs_accuracy']"
   ]
  },
  {
   "cell_type": "code",
   "execution_count": 16,
   "id": "2fbe3ac7",
   "metadata": {},
   "outputs": [],
   "source": [
    "log = pd.DataFrame(history_fine.history)\n",
    "log.to_csv('./finetuning history.csv', index=False)"
   ]
  },
  {
   "cell_type": "code",
   "execution_count": 17,
   "id": "4cb0c4dd",
   "metadata": {},
   "outputs": [
    {
     "data": {
      "image/png": "[encoded data removed]",
      "text/plain": [
       "<Figure size 720x864 with 3 Axes>"
      ]
     },
     "metadata": {
      "needs_background": "light"
     },
     "output_type": "display_data"
    }
   ],
   "source": [
    "fig = plt.figure(figsize=(10,12))\n",
    "ax1 = fig.add_subplot(3,1,1)\n",
    "ax1.plot(train_loss, label='Training Loss')\n",
    "ax1.plot(valid_loss, label='Validation Loss')\n",
    "ax1.legend(loc='best')\n",
    "plt.plot([start,start],\n",
    "          plt.ylim(), label='Start Fine Tuning')\n",
    "ax1.set_title('Loss')\n",
    "\n",
    "ax2 = fig.add_subplot(3,1,2)\n",
    "ax2.plot(grow_acc, label='grow accuracy')\n",
    "ax2.plot(val_grow_acc, label='val grow accuracy')\n",
    "ax2.legend(loc='best')\n",
    "plt.plot([start,start],\n",
    "          plt.ylim(), label='Start Fine Tuning')\n",
    "ax2.set_title('grow accuracy')\n",
    "\n",
    "ax3 = fig.add_subplot(3,1,3)\n",
    "ax3.plot(disease_acc, label='disease accuracy')\n",
    "ax3.plot(val_disease_acc, label='val disease accuracy')\n",
    "ax3.legend(loc='best')\n",
    "plt.plot([start,start],\n",
    "          plt.ylim(), label='Start Fine Tuning')\n",
    "ax3.set_title('disease accuracy')\n",
    "\n",
    "plt.savefig('./graph1.png')\n",
    "plt.show()"
   ]
  },
  {
   "cell_type": "code",
   "execution_count": null,
   "id": "acedac24",
   "metadata": {},
   "outputs": [],
   "source": []
  }
 ],
 "metadata": {
  "kernelspec": {
   "display_name": "Python [conda env:smartpot]",
   "language": "python",
   "name": "conda-env-smartpot-py"
  },
  "language_info": {
   "codemirror_mode": {
    "name": "ipython",
    "version": 3
   },
   "file_extension": ".py",
   "mimetype": "text/x-python",
   "name": "python",
   "nbconvert_exporter": "python",
   "pygments_lexer": "ipython3",
   "version": "3.9.12"
  }
 },
 "nbformat": 4,
 "nbformat_minor": 5
}
