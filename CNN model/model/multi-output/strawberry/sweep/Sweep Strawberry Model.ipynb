{
 "cells": [
  {
   "cell_type": "code",
   "execution_count": 1,
   "id": "b709f143",
   "metadata": {},
   "outputs": [],
   "source": [
    "import warnings \n",
    "warnings.filterwarnings(action='ignore')"
   ]
  },
  {
   "cell_type": "code",
   "execution_count": 2,
   "id": "78afe61c",
   "metadata": {},
   "outputs": [
    {
     "name": "stderr",
     "output_type": "stream",
     "text": [
      "2022-06-19 19:20:06.267887: I tensorflow/stream_executor/platform/default/dso_loader.cc:49] Successfully opened dynamic library libcudart.so.10.1\n"
     ]
    }
   ],
   "source": [
    "import os \n",
    "import numpy as np\n",
    "import pandas as pd\n",
    "import matplotlib.pyplot as plt\n",
    "from glob import glob\n",
    "from tqdm.auto import tqdm\n",
    "import cv2\n",
    "\n",
    "# from tensorflow.keras.applications import Densnet\n",
    "import tensorflow as tf\n",
    "from tensorflow.keras.models import Sequential, Model\n",
    "from tensorflow.keras import layers\n",
    "import tensorflow.keras as keras\n",
    "from tensorflow.data import Dataset\n",
    "\n",
    "from tensorflow.keras.optimizers import Adam, RMSprop, Nadam, SGD\n",
    "from tensorflow.keras.callbacks import ModelCheckpoint, EarlyStopping\n",
    "\n",
    "from itertools import product\n",
    "from tensorflow.keras.preprocessing.image import ImageDataGenerator\n",
    "\n",
    "from tensorflow.keras.applications import *\n",
    "from sklearn.model_selection import train_test_split\n",
    "from sklearn.preprocessing import LabelEncoder\n",
    "from skmultilearn.model_selection import iterative_train_test_split\n",
    "from wandb.keras import WandbCallback\n",
    "import wandb"
   ]
  },
  {
   "cell_type": "code",
   "execution_count": 3,
   "id": "7db429c9",
   "metadata": {
    "scrolled": true
   },
   "outputs": [
    {
     "data": {
      "text/plain": [
       "'2.4.1'"
      ]
     },
     "execution_count": 3,
     "metadata": {},
     "output_type": "execute_result"
    }
   ],
   "source": [
    "tf.__version__"
   ]
  },
  {
   "cell_type": "code",
   "execution_count": 4,
   "id": "a67ef6e7",
   "metadata": {},
   "outputs": [],
   "source": [
    "sweep_config = {\n",
    "    'method': 'random', #grid, random\n",
    "    'metric': {\n",
    "      'name': 'val_loss',\n",
    "      'goal': 'minimize'   \n",
    "    },\n",
    "    'parameters': {\n",
    "        'pretrain_net': {\n",
    "            'values': ['inception', 'resnet']\n",
    "        },\n",
    "        'batch_size': {\n",
    "            'values': [20, 50]\n",
    "        },\n",
    "        'dropout': {\n",
    "            'values': [0.2, 0.5]\n",
    "        },\n",
    "        'dense': {\n",
    "            'values': [32, 256, 1024]\n",
    "        },\n",
    "        'learning_rate': {\n",
    "            'values': [1e-2, 1e-3, 1e-4, 3e-5]\n",
    "        },\n",
    "        'optimizer': {\n",
    "            'values': ['adam', 'sgd', 'rmsprop']\n",
    "        },\n",
    "        'activation': {\n",
    "            'values': ['relu', 'elu', 'selu', 'softmax']\n",
    "        }\n",
    "    }\n",
    "}"
   ]
  },
  {
   "cell_type": "code",
   "execution_count": 5,
   "id": "601ce2c4",
   "metadata": {},
   "outputs": [],
   "source": [
    "IMAGE_SIZE = 320"
   ]
  },
  {
   "cell_type": "code",
   "execution_count": 6,
   "id": "f3bfeec5",
   "metadata": {},
   "outputs": [
    {
     "data": {
      "text/html": [
       "<div>\n",
       "<style scoped>\n",
       "    .dataframe tbody tr th:only-of-type {\n",
       "        vertical-align: middle;\n",
       "    }\n",
       "\n",
       "    .dataframe tbody tr th {\n",
       "        vertical-align: top;\n",
       "    }\n",
       "\n",
       "    .dataframe thead th {\n",
       "        text-align: right;\n",
       "    }\n",
       "</style>\n",
       "<table border=\"1\" class=\"dataframe\">\n",
       "  <thead>\n",
       "    <tr style=\"text-align: right;\">\n",
       "      <th></th>\n",
       "      <th>image</th>\n",
       "      <th>grow</th>\n",
       "      <th>disease</th>\n",
       "      <th>area</th>\n",
       "      <th>points</th>\n",
       "      <th>original</th>\n",
       "      <th>disease-grow</th>\n",
       "    </tr>\n",
       "  </thead>\n",
       "  <tbody>\n",
       "    <tr>\n",
       "      <th>0</th>\n",
       "      <td>/home/lab38/딸기/Strawberry Pest Damage_3.jpg</td>\n",
       "      <td>5</td>\n",
       "      <td>11</td>\n",
       "      <td>NaN</td>\n",
       "      <td>NaN</td>\n",
       "      <td>NaN</td>\n",
       "      <td>11-5</td>\n",
       "    </tr>\n",
       "    <tr>\n",
       "      <th>1</th>\n",
       "      <td>/home/lab38/딸기/Strawberry Pest Damage_727.jpg</td>\n",
       "      <td>2</td>\n",
       "      <td>11</td>\n",
       "      <td>NaN</td>\n",
       "      <td>NaN</td>\n",
       "      <td>NaN</td>\n",
       "      <td>11-2</td>\n",
       "    </tr>\n",
       "    <tr>\n",
       "      <th>2</th>\n",
       "      <td>/home/lab38/딸기/Strawberry Pest Damage_487.jpg</td>\n",
       "      <td>5</td>\n",
       "      <td>11</td>\n",
       "      <td>NaN</td>\n",
       "      <td>NaN</td>\n",
       "      <td>NaN</td>\n",
       "      <td>11-5</td>\n",
       "    </tr>\n",
       "    <tr>\n",
       "      <th>3</th>\n",
       "      <td>/home/lab38/딸기/Strawberry Pest Damage_124.jpg</td>\n",
       "      <td>5</td>\n",
       "      <td>11</td>\n",
       "      <td>NaN</td>\n",
       "      <td>NaN</td>\n",
       "      <td>NaN</td>\n",
       "      <td>11-5</td>\n",
       "    </tr>\n",
       "    <tr>\n",
       "      <th>4</th>\n",
       "      <td>/home/lab38/딸기/Strawberry Pest Damage_70.jpg</td>\n",
       "      <td>5</td>\n",
       "      <td>11</td>\n",
       "      <td>NaN</td>\n",
       "      <td>NaN</td>\n",
       "      <td>NaN</td>\n",
       "      <td>11-5</td>\n",
       "    </tr>\n",
       "  </tbody>\n",
       "</table>\n",
       "</div>"
      ],
      "text/plain": [
       "                                           image  grow  disease  area points  \\\n",
       "0    /home/lab38/딸기/Strawberry Pest Damage_3.jpg     5       11   NaN    NaN   \n",
       "1  /home/lab38/딸기/Strawberry Pest Damage_727.jpg     2       11   NaN    NaN   \n",
       "2  /home/lab38/딸기/Strawberry Pest Damage_487.jpg     5       11   NaN    NaN   \n",
       "3  /home/lab38/딸기/Strawberry Pest Damage_124.jpg     5       11   NaN    NaN   \n",
       "4   /home/lab38/딸기/Strawberry Pest Damage_70.jpg     5       11   NaN    NaN   \n",
       "\n",
       "  original disease-grow  \n",
       "0      NaN         11-5  \n",
       "1      NaN         11-2  \n",
       "2      NaN         11-5  \n",
       "3      NaN         11-5  \n",
       "4      NaN         11-5  "
      ]
     },
     "execution_count": 6,
     "metadata": {},
     "output_type": "execute_result"
    }
   ],
   "source": [
    "df = pd.read_csv('/home/lab38/Multi_proj_6/data/straw_smallsizeimg_with_pest.csv')\n",
    "df.head()"
   ]
  },
  {
   "cell_type": "code",
   "execution_count": 7,
   "id": "10892c25",
   "metadata": {},
   "outputs": [
    {
     "name": "stdout",
     "output_type": "stream",
     "text": [
      "[3 0 1 2]\n",
      "[4 1 3 0 2]\n"
     ]
    }
   ],
   "source": [
    "# label encoding\n",
    "disease_encoder = LabelEncoder()\n",
    "disease_encoder.fit(df['disease'])\n",
    "df['disease'] = disease_encoder.transform(df['disease'])\n",
    "print(df['disease'].unique())\n",
    "\n",
    "grow_encoder = LabelEncoder()\n",
    "grow_encoder.fit(df['grow'])\n",
    "df['grow'] = grow_encoder.transform(df['grow'])\n",
    "print(df['grow'].unique())"
   ]
  },
  {
   "cell_type": "code",
   "execution_count": 8,
   "id": "c2baac10",
   "metadata": {},
   "outputs": [],
   "source": [
    "shuffled_df = df.sample(frac=1)"
   ]
  },
  {
   "cell_type": "code",
   "execution_count": 9,
   "id": "3a6e0911",
   "metadata": {},
   "outputs": [],
   "source": [
    "X_train, X_test, y_train, y_test = train_test_split(df['image'],\n",
    "                                                   df['disease-grow'],\n",
    "                                                   stratify=df['disease-grow'],\n",
    "                                                   test_size=0.2)"
   ]
  },
  {
   "cell_type": "code",
   "execution_count": 10,
   "id": "5cc097c7",
   "metadata": {},
   "outputs": [],
   "source": [
    "train_df = df[df['image'].isin(X_train)]\n",
    "test_df = df[df['image'].isin(X_test)]"
   ]
  },
  {
   "cell_type": "code",
   "execution_count": 11,
   "id": "7aafd140",
   "metadata": {},
   "outputs": [
    {
     "name": "stdout",
     "output_type": "stream",
     "text": [
      "[3 0 1 2]\n",
      "[4 1 3 2 0]\n",
      "[3 0 1 2]\n",
      "[3 0 1 4 2]\n"
     ]
    }
   ],
   "source": [
    "print(train_df['disease'].unique())\n",
    "print(train_df['grow'].unique())\n",
    "print(test_df['disease'].unique())\n",
    "print(test_df['grow'].unique())"
   ]
  },
  {
   "cell_type": "code",
   "execution_count": 12,
   "id": "f981e509",
   "metadata": {},
   "outputs": [],
   "source": [
    "train_gen = ImageDataGenerator(rescale=1./255,\n",
    "                            rotation_range=20, # 최대 20도까지 회전\n",
    "                            width_shift_range=0.1, # 최대 x 범위안에서 좌우/상하 이동\n",
    "                            height_shift_range=0.1,\n",
    "                            zoom_range=0.2, # 확대 축소 비율,\n",
    "                            horizontal_flip=True, # 좌우반전\n",
    "                            vertical_flip=True, # 상하반전\n",
    "                            fill_mode='nearest')\n",
    "valid_gen = ImageDataGenerator(rescale= 1. /255.)"
   ]
  },
  {
   "cell_type": "code",
   "execution_count": 13,
   "id": "bcd43442",
   "metadata": {},
   "outputs": [],
   "source": [
    "def train() :\n",
    "    wandb.init()\n",
    "    tf.keras.backend.clear_session()\n",
    "    config_defaults = {\n",
    "        'pretrain_net': 'inception',\n",
    "        'epochs' : 10,\n",
    "        'batch_size': 50,\n",
    "        'dropout' : 0.5,\n",
    "        'learning_rate' : 1e-3,\n",
    "        'activation': 'relu',\n",
    "        'optimizer': 'adam'\n",
    "    }\n",
    "    \n",
    "    wandb.init(config=config_defaults)\n",
    "    config = wandb.config\n",
    "    \n",
    "    train_generator = train_gen.flow_from_dataframe(train_df, \n",
    "                                               x_col='image',\n",
    "                                               y_col=['disease', 'grow'],\n",
    "                                               target_size=(IMAGE_SIZE, IMAGE_SIZE),\n",
    "                                               class_mode='multi_output',\n",
    "                                               batch_size=config.batch_size)\n",
    "    valid_generator = valid_gen.flow_from_dataframe(test_df,\n",
    "                                               x_col='image',\n",
    "                                               y_col=['disease','grow'],\n",
    "                                               target_size=(IMAGE_SIZE, IMAGE_SIZE),\n",
    "                                               class_mode='multi_output',\n",
    "                                               batch_size=config.batch_size)\n",
    "    if config.pretrain_net == 'inception' :\n",
    "        MODEL_IMAGE_SIZE = 299\n",
    "        base_model = inception_resnet_v2.InceptionResNetV2(\n",
    "            weights='imagenet',\n",
    "            include_top = False,\n",
    "            input_shape = (MODEL_IMAGE_SIZE, MODEL_IMAGE_SIZE,3)\n",
    "        )\n",
    "    elif config.pretrain_net == 'resnet' :\n",
    "        MODEL_IMAGE_SIZE = 224\n",
    "        base_model= resnet50.ResNet50(\n",
    "              weights='imagenet',\n",
    "              include_top=False,\n",
    "              input_shape = (MODEL_IMAGE_SIZE, MODEL_IMAGE_SIZE,3)\n",
    "             )\n",
    "    base_model.trainable = False \n",
    "\n",
    "    \n",
    "    # resizing model\n",
    "    input_data = layers.Input((IMAGE_SIZE, IMAGE_SIZE, 3))\n",
    "    x = tf.keras.layers.experimental.preprocessing.Resizing(MODEL_IMAGE_SIZE, MODEL_IMAGE_SIZE)(input_data)\n",
    "    resizing = Model(inputs=input_data, outputs=x, name='resize')\n",
    "   \n",
    "    # model\n",
    "    inputs = layers.Input(shape=(IMAGE_SIZE, IMAGE_SIZE, 3))\n",
    "    x = resizing(inputs)\n",
    "    x = base_model(x, training=False)\n",
    "    x = layers.GlobalAveragePooling2D()(x)\n",
    "    x = layers.Dropout(config.dropout)(x)\n",
    "    backbone_out = layers.Dense(config.dense, activation=config.activation)(x)\n",
    "\n",
    "    disease_outputs = layers.Dense(df['disease'].nunique(), activation='softmax',\n",
    "                            name = 'diease_outputs')(backbone_out)\n",
    "    grow_outputs = layers.Dense(df['grow'].nunique(), activation='softmax',\n",
    "                        name = 'grow_outputs')(backbone_out)\n",
    "\n",
    "    model = Model(inputs=inputs, \n",
    "                  outputs=[disease_outputs, grow_outputs],\n",
    "                  name='strawberry')    \n",
    "    if config.optimizer=='sgd':\n",
    "        optimizer = SGD(learning_rate=config.learning_rate)\n",
    "    elif config.optimizer=='rmsprop':\n",
    "        optimizer = RMSprop(learning_rate=config.learning_rate)\n",
    "    elif config.optimizer=='adam':\n",
    "        optimizer = Adam(learning_rate=config.learning_rate)\n",
    "\n",
    "    model.compile(loss={\n",
    "                  'diease_outputs' : 'sparse_categorical_crossentropy',\n",
    "                  'grow_outputs' : 'sparse_categorical_crossentropy'\n",
    "                  },\n",
    "                  optimizer=optimizer,\n",
    "                  metrics=['accuracy'])    \n",
    "    \n",
    "    _ = model.fit(train_generator,\n",
    "          validation_data=valid_generator,\n",
    "          verbose=1,\n",
    "          epochs=config.epochs,\n",
    "          callbacks=[WandbCallback()],\n",
    "          steps_per_epoch=len(train_df)//config.batch_size)\n"
   ]
  },
  {
   "cell_type": "code",
   "execution_count": 14,
   "id": "2120051f",
   "metadata": {
    "scrolled": true
   },
   "outputs": [
    {
     "name": "stderr",
     "output_type": "stream",
     "text": [
      "Failed to detect the name of this notebook, you can set it manually with the WANDB_NOTEBOOK_NAME environment variable to enable code saving.\n"
     ]
    },
    {
     "name": "stdout",
     "output_type": "stream",
     "text": [
      "Create sweep with ID: p0s861p4\n",
      "Sweep URL: https://wandb.ai/hkleee/strawberry/sweeps/p0s861p4\n"
     ]
    }
   ],
   "source": [
    "sweep_id = wandb.sweep(sweep_config, project='strawberry')"
   ]
  },
  {
   "cell_type": "code",
   "execution_count": null,
   "id": "2e867810",
   "metadata": {},
   "outputs": [
    {
     "name": "stderr",
     "output_type": "stream",
     "text": [
      "\u001b[34m\u001b[1mwandb\u001b[0m: Agent Starting Run: kra07bbi with config:\n",
      "\u001b[34m\u001b[1mwandb\u001b[0m: \tactivation: elu\n",
      "\u001b[34m\u001b[1mwandb\u001b[0m: \tbatch_size: 50\n",
      "\u001b[34m\u001b[1mwandb\u001b[0m: \tdense: 32\n",
      "\u001b[34m\u001b[1mwandb\u001b[0m: \tdropout: 0.2\n",
      "\u001b[34m\u001b[1mwandb\u001b[0m: \tlearning_rate: 3e-05\n",
      "\u001b[34m\u001b[1mwandb\u001b[0m: \toptimizer: sgd\n",
      "\u001b[34m\u001b[1mwandb\u001b[0m: \tpretrain_net: inception\n",
      "Failed to detect the name of this notebook, you can set it manually with the WANDB_NOTEBOOK_NAME environment variable to enable code saving.\n",
      "\u001b[34m\u001b[1mwandb\u001b[0m: Currently logged in as: \u001b[33mhkleee\u001b[0m. Use \u001b[1m`wandb login --relogin`\u001b[0m to force relogin\n"
     ]
    },
    {
     "data": {
      "text/html": [
       "Tracking run with wandb version 0.12.18"
      ],
      "text/plain": [
       "<IPython.core.display.HTML object>"
      ]
     },
     "metadata": {},
     "output_type": "display_data"
    },
    {
     "data": {
      "text/html": [
       "Run data is saved locally in <code>/home/lab38/Multi_proj_6/model/multi-output/strawberry/sweep/wandb/run-20220619_192012-kra07bbi</code>"
      ],
      "text/plain": [
       "<IPython.core.display.HTML object>"
      ]
     },
     "metadata": {},
     "output_type": "display_data"
    },
    {
     "data": {
      "text/html": [
       "Syncing run <strong><a href=\"https://wandb.ai/hkleee/strawberry/runs/kra07bbi\" target=\"_blank\">copper-sweep-62</a></strong> to <a href=\"https://wandb.ai/hkleee/strawberry\" target=\"_blank\">Weights & Biases</a> (<a href=\"https://wandb.me/run\" target=\"_blank\">docs</a>)<br/>Sweep page:  <a href=\"https://wandb.ai/hkleee/strawberry/sweeps/natutesf\" target=\"_blank\">https://wandb.ai/hkleee/strawberry/sweeps/natutesf</a>"
      ],
      "text/plain": [
       "<IPython.core.display.HTML object>"
      ]
     },
     "metadata": {},
     "output_type": "display_data"
    },
    {
     "data": {
      "text/html": [
       "Finishing last run (ID:kra07bbi) before initializing another..."
      ],
      "text/plain": [
       "<IPython.core.display.HTML object>"
      ]
     },
     "metadata": {},
     "output_type": "display_data"
    },
    {
     "data": {
      "text/html": [
       "Waiting for W&B process to finish... <strong style=\"color:green\">(success).</strong>"
      ],
      "text/plain": [
       "<IPython.core.display.HTML object>"
      ]
     },
     "metadata": {},
     "output_type": "display_data"
    },
    {
     "data": {
      "text/html": [
       "Synced <strong style=\"color:#cdcd00\">copper-sweep-62</strong>: <a href=\"https://wandb.ai/hkleee/strawberry/runs/kra07bbi\" target=\"_blank\">https://wandb.ai/hkleee/strawberry/runs/kra07bbi</a><br/>Synced 5 W&B file(s), 0 media file(s), 0 artifact file(s) and 0 other file(s)"
      ],
      "text/plain": [
       "<IPython.core.display.HTML object>"
      ]
     },
     "metadata": {},
     "output_type": "display_data"
    },
    {
     "data": {
      "text/html": [
       "Find logs at: <code>./wandb/run-20220619_192012-kra07bbi/logs</code>"
      ],
      "text/plain": [
       "<IPython.core.display.HTML object>"
      ]
     },
     "metadata": {},
     "output_type": "display_data"
    },
    {
     "data": {
      "text/html": [
       "Successfully finished last run (ID:kra07bbi). Initializing new run:<br/>"
      ],
      "text/plain": [
       "<IPython.core.display.HTML object>"
      ]
     },
     "metadata": {},
     "output_type": "display_data"
    },
    {
     "data": {
      "text/html": [
       "Tracking run with wandb version 0.12.18"
      ],
      "text/plain": [
       "<IPython.core.display.HTML object>"
      ]
     },
     "metadata": {},
     "output_type": "display_data"
    },
    {
     "data": {
      "text/html": [
       "Run data is saved locally in <code>/home/lab38/Multi_proj_6/model/multi-output/strawberry/sweep/wandb/run-20220619_192017-kra07bbi</code>"
      ],
      "text/plain": [
       "<IPython.core.display.HTML object>"
      ]
     },
     "metadata": {},
     "output_type": "display_data"
    },
    {
     "data": {
      "text/html": [
       "Syncing run <strong><a href=\"https://wandb.ai/hkleee/strawberry/runs/kra07bbi\" target=\"_blank\">copper-sweep-62</a></strong> to <a href=\"https://wandb.ai/hkleee/strawberry\" target=\"_blank\">Weights & Biases</a> (<a href=\"https://wandb.me/run\" target=\"_blank\">docs</a>)<br/>Sweep page:  <a href=\"https://wandb.ai/hkleee/strawberry/sweeps/natutesf\" target=\"_blank\">https://wandb.ai/hkleee/strawberry/sweeps/natutesf</a>"
      ],
      "text/plain": [
       "<IPython.core.display.HTML object>"
      ]
     },
     "metadata": {},
     "output_type": "display_data"
    },
    {
     "name": "stdout",
     "output_type": "stream",
     "text": [
      "Found 13437 validated image filenames.\n",
      "Found 3360 validated image filenames.\n"
     ]
    },
    {
     "name": "stderr",
     "output_type": "stream",
     "text": [
      "2022-06-19 19:20:26.396456: I tensorflow/compiler/jit/xla_cpu_device.cc:41] Not creating XLA devices, tf_xla_enable_xla_devices not set\n",
      "2022-06-19 19:20:26.397593: I tensorflow/stream_executor/platform/default/dso_loader.cc:49] Successfully opened dynamic library libcuda.so.1\n",
      "2022-06-19 19:20:26.440791: I tensorflow/stream_executor/cuda/cuda_gpu_executor.cc:941] successful NUMA node read from SysFS had negative value (-1), but there must be at least one NUMA node, so returning NUMA node zero\n",
      "2022-06-19 19:20:26.441449: I tensorflow/core/common_runtime/gpu/gpu_device.cc:1720] Found device 0 with properties: \n",
      "pciBusID: 0000:00:1e.0 name: Tesla T4 computeCapability: 7.5\n",
      "coreClock: 1.59GHz coreCount: 40 deviceMemorySize: 14.75GiB deviceMemoryBandwidth: 298.08GiB/s\n",
      "2022-06-19 19:20:26.441503: I tensorflow/stream_executor/platform/default/dso_loader.cc:49] Successfully opened dynamic library libcudart.so.10.1\n",
      "2022-06-19 19:20:26.517781: I tensorflow/stream_executor/platform/default/dso_loader.cc:49] Successfully opened dynamic library libcublas.so.10\n",
      "2022-06-19 19:20:26.517928: I tensorflow/stream_executor/platform/default/dso_loader.cc:49] Successfully opened dynamic library libcublasLt.so.10\n",
      "2022-06-19 19:20:26.557900: I tensorflow/stream_executor/platform/default/dso_loader.cc:49] Successfully opened dynamic library libcufft.so.10\n",
      "2022-06-19 19:20:26.567659: I tensorflow/stream_executor/platform/default/dso_loader.cc:49] Successfully opened dynamic library libcurand.so.10\n",
      "2022-06-19 19:20:26.649305: I tensorflow/stream_executor/platform/default/dso_loader.cc:49] Successfully opened dynamic library libcusolver.so.10\n",
      "2022-06-19 19:20:26.659186: I tensorflow/stream_executor/platform/default/dso_loader.cc:49] Successfully opened dynamic library libcusparse.so.10\n",
      "2022-06-19 19:20:26.806749: I tensorflow/stream_executor/platform/default/dso_loader.cc:49] Successfully opened dynamic library libcudnn.so.7\n",
      "2022-06-19 19:20:26.807002: I tensorflow/stream_executor/cuda/cuda_gpu_executor.cc:941] successful NUMA node read from SysFS had negative value (-1), but there must be at least one NUMA node, so returning NUMA node zero\n",
      "2022-06-19 19:20:26.807700: I tensorflow/stream_executor/cuda/cuda_gpu_executor.cc:941] successful NUMA node read from SysFS had negative value (-1), but there must be at least one NUMA node, so returning NUMA node zero\n",
      "2022-06-19 19:20:26.808239: I tensorflow/core/common_runtime/gpu/gpu_device.cc:1862] Adding visible gpu devices: 0\n",
      "2022-06-19 19:20:26.809382: I tensorflow/core/platform/cpu_feature_guard.cc:142] This TensorFlow binary is optimized with oneAPI Deep Neural Network Library (oneDNN) to use the following CPU instructions in performance-critical operations:  SSE4.1 SSE4.2 AVX AVX2 AVX512F FMA\n",
      "To enable them in other operations, rebuild TensorFlow with the appropriate compiler flags.\n",
      "2022-06-19 19:20:26.809619: I tensorflow/compiler/jit/xla_gpu_device.cc:99] Not creating XLA devices, tf_xla_enable_xla_devices not set\n",
      "2022-06-19 19:20:26.809782: I tensorflow/stream_executor/cuda/cuda_gpu_executor.cc:941] successful NUMA node read from SysFS had negative value (-1), but there must be at least one NUMA node, so returning NUMA node zero\n",
      "2022-06-19 19:20:26.810375: I tensorflow/core/common_runtime/gpu/gpu_device.cc:1720] Found device 0 with properties: \n",
      "pciBusID: 0000:00:1e.0 name: Tesla T4 computeCapability: 7.5\n",
      "coreClock: 1.59GHz coreCount: 40 deviceMemorySize: 14.75GiB deviceMemoryBandwidth: 298.08GiB/s\n",
      "2022-06-19 19:20:26.810438: I tensorflow/stream_executor/platform/default/dso_loader.cc:49] Successfully opened dynamic library libcudart.so.10.1\n",
      "2022-06-19 19:20:26.810466: I tensorflow/stream_executor/platform/default/dso_loader.cc:49] Successfully opened dynamic library libcublas.so.10\n",
      "2022-06-19 19:20:26.810482: I tensorflow/stream_executor/platform/default/dso_loader.cc:49] Successfully opened dynamic library libcublasLt.so.10\n",
      "2022-06-19 19:20:26.810497: I tensorflow/stream_executor/platform/default/dso_loader.cc:49] Successfully opened dynamic library libcufft.so.10\n",
      "2022-06-19 19:20:26.810512: I tensorflow/stream_executor/platform/default/dso_loader.cc:49] Successfully opened dynamic library libcurand.so.10\n",
      "2022-06-19 19:20:26.810527: I tensorflow/stream_executor/platform/default/dso_loader.cc:49] Successfully opened dynamic library libcusolver.so.10\n",
      "2022-06-19 19:20:26.810543: I tensorflow/stream_executor/platform/default/dso_loader.cc:49] Successfully opened dynamic library libcusparse.so.10\n",
      "2022-06-19 19:20:26.810558: I tensorflow/stream_executor/platform/default/dso_loader.cc:49] Successfully opened dynamic library libcudnn.so.7\n",
      "2022-06-19 19:20:26.810622: I tensorflow/stream_executor/cuda/cuda_gpu_executor.cc:941] successful NUMA node read from SysFS had negative value (-1), but there must be at least one NUMA node, so returning NUMA node zero\n",
      "2022-06-19 19:20:26.811205: I tensorflow/stream_executor/cuda/cuda_gpu_executor.cc:941] successful NUMA node read from SysFS had negative value (-1), but there must be at least one NUMA node, so returning NUMA node zero\n",
      "2022-06-19 19:20:26.811733: I tensorflow/core/common_runtime/gpu/gpu_device.cc:1862] Adding visible gpu devices: 0\n",
      "2022-06-19 19:20:26.812806: I tensorflow/stream_executor/platform/default/dso_loader.cc:49] Successfully opened dynamic library libcudart.so.10.1\n",
      "2022-06-19 19:20:28.717386: I tensorflow/core/common_runtime/gpu/gpu_device.cc:1261] Device interconnect StreamExecutor with strength 1 edge matrix:\n",
      "2022-06-19 19:20:28.717419: I tensorflow/core/common_runtime/gpu/gpu_device.cc:1267]      0 \n",
      "2022-06-19 19:20:28.717425: I tensorflow/core/common_runtime/gpu/gpu_device.cc:1280] 0:   N \n",
      "2022-06-19 19:20:28.718477: I tensorflow/stream_executor/cuda/cuda_gpu_executor.cc:941] successful NUMA node read from SysFS had negative value (-1), but there must be at least one NUMA node, so returning NUMA node zero\n",
      "2022-06-19 19:20:28.719115: I tensorflow/stream_executor/cuda/cuda_gpu_executor.cc:941] successful NUMA node read from SysFS had negative value (-1), but there must be at least one NUMA node, so returning NUMA node zero\n",
      "2022-06-19 19:20:28.719707: I tensorflow/stream_executor/cuda/cuda_gpu_executor.cc:941] successful NUMA node read from SysFS had negative value (-1), but there must be at least one NUMA node, so returning NUMA node zero\n",
      "2022-06-19 19:20:28.720242: I tensorflow/core/common_runtime/gpu/gpu_device.cc:1406] Created TensorFlow device (/job:localhost/replica:0/task:0/device:GPU:0 with 13970 MB memory) -> physical GPU (device: 0, name: Tesla T4, pci bus id: 0000:00:1e.0, compute capability: 7.5)\n",
      "\u001b[34m\u001b[1mwandb\u001b[0m: \u001b[33mWARNING\u001b[0m The save_model argument by default saves the model in the HDF5 format that cannot save custom objects like subclassed models and custom layers. This behavior will be deprecated in a future release in favor of the SavedModel format. Meanwhile, the HDF5 model is saved as W&B files and the SavedModel as W&B Artifacts.\n",
      "2022-06-19 19:20:36.114288: I tensorflow/compiler/mlir/mlir_graph_optimization_pass.cc:116] None of the MLIR optimization passes are enabled (registered 2)\n",
      "2022-06-19 19:20:36.134127: I tensorflow/core/platform/profile_utils/cpu_utils.cc:112] CPU Frequency: 2499995000 Hz\n"
     ]
    },
    {
     "name": "stdout",
     "output_type": "stream",
     "text": [
      "Epoch 1/10\n"
     ]
    },
    {
     "name": "stderr",
     "output_type": "stream",
     "text": [
      "2022-06-19 19:20:43.842360: I tensorflow/stream_executor/platform/default/dso_loader.cc:49] Successfully opened dynamic library libcublas.so.10\n",
      "2022-06-19 19:20:44.897975: I tensorflow/stream_executor/platform/default/dso_loader.cc:49] Successfully opened dynamic library libcudnn.so.7\n"
     ]
    },
    {
     "name": "stdout",
     "output_type": "stream",
     "text": [
      "268/268 [==============================] - 343s 1s/step - loss: 3.9291 - diease_outputs_loss: 2.1484 - grow_outputs_loss: 1.7807 - diease_outputs_accuracy: 0.0608 - grow_outputs_accuracy: 0.1476 - val_loss: 3.1718 - val_diease_outputs_loss: 1.6032 - val_grow_outputs_loss: 1.5686 - val_diease_outputs_accuracy: 0.1813 - val_grow_outputs_accuracy: 0.2045\n",
      "Epoch 2/10\n",
      "268/268 [==============================] - 325s 1s/step - loss: 3.1377 - diease_outputs_loss: 1.5758 - grow_outputs_loss: 1.5619 - diease_outputs_accuracy: 0.2165 - grow_outputs_accuracy: 0.2690 - val_loss: 2.8185 - val_diease_outputs_loss: 1.3730 - val_grow_outputs_loss: 1.4456 - val_diease_outputs_accuracy: 0.2375 - val_grow_outputs_accuracy: 0.3083\n",
      "Epoch 3/10\n",
      "268/268 [==============================] - 320s 1s/step - loss: 2.8640 - diease_outputs_loss: 1.3760 - grow_outputs_loss: 1.4880 - diease_outputs_accuracy: 0.3097 - grow_outputs_accuracy: 0.3249 - val_loss: 2.6687 - val_diease_outputs_loss: 1.2787 - val_grow_outputs_loss: 1.3900 - val_diease_outputs_accuracy: 0.2967 - val_grow_outputs_accuracy: 0.3839\n",
      "Epoch 4/10\n",
      "268/268 [==============================] - 320s 1s/step - loss: 2.7421 - diease_outputs_loss: 1.3012 - grow_outputs_loss: 1.4408 - diease_outputs_accuracy: 0.3509 - grow_outputs_accuracy: 0.3469 - val_loss: 2.5891 - val_diease_outputs_loss: 1.2300 - val_grow_outputs_loss: 1.3591 - val_diease_outputs_accuracy: 0.3649 - val_grow_outputs_accuracy: 0.4354\n",
      "Epoch 5/10\n",
      "268/268 [==============================] - 323s 1s/step - loss: 2.6568 - diease_outputs_loss: 1.2482 - grow_outputs_loss: 1.4086 - diease_outputs_accuracy: 0.3942 - grow_outputs_accuracy: 0.3899 - val_loss: 2.5352 - val_diease_outputs_loss: 1.1975 - val_grow_outputs_loss: 1.3377 - val_diease_outputs_accuracy: 0.4182 - val_grow_outputs_accuracy: 0.4548\n",
      "Epoch 6/10\n",
      "268/268 [==============================] - 317s 1s/step - loss: 2.6243 - diease_outputs_loss: 1.2216 - grow_outputs_loss: 1.4027 - diease_outputs_accuracy: 0.4058 - grow_outputs_accuracy: 0.4003 - val_loss: 2.4934 - val_diease_outputs_loss: 1.1724 - val_grow_outputs_loss: 1.3210 - val_diease_outputs_accuracy: 0.4470 - val_grow_outputs_accuracy: 0.4667\n",
      "Epoch 7/10\n",
      "268/268 [==============================] - 317s 1s/step - loss: 2.5803 - diease_outputs_loss: 1.1995 - grow_outputs_loss: 1.3808 - diease_outputs_accuracy: 0.4153 - grow_outputs_accuracy: 0.4080 - val_loss: 2.4583 - val_diease_outputs_loss: 1.1513 - val_grow_outputs_loss: 1.3070 - val_diease_outputs_accuracy: 0.4685 - val_grow_outputs_accuracy: 0.4771\n",
      "Epoch 8/10\n",
      "268/268 [==============================] - 317s 1s/step - loss: 2.5441 - diease_outputs_loss: 1.1795 - grow_outputs_loss: 1.3646 - diease_outputs_accuracy: 0.4326 - grow_outputs_accuracy: 0.4314 - val_loss: 2.4278 - val_diease_outputs_loss: 1.1331 - val_grow_outputs_loss: 1.2947 - val_diease_outputs_accuracy: 0.4833 - val_grow_outputs_accuracy: 0.4818\n",
      "Epoch 9/10\n",
      "268/268 [==============================] - 318s 1s/step - loss: 2.5145 - diease_outputs_loss: 1.1663 - grow_outputs_loss: 1.3482 - diease_outputs_accuracy: 0.4347 - grow_outputs_accuracy: 0.4334 - val_loss: 2.4003 - val_diease_outputs_loss: 1.1166 - val_grow_outputs_loss: 1.2837 - val_diease_outputs_accuracy: 0.4946 - val_grow_outputs_accuracy: 0.4884\n",
      "Epoch 10/10\n",
      "268/268 [==============================] - 318s 1s/step - loss: 2.4927 - diease_outputs_loss: 1.1429 - grow_outputs_loss: 1.3497 - diease_outputs_accuracy: 0.4471 - grow_outputs_accuracy: 0.4402 - val_loss: 2.3750 - val_diease_outputs_loss: 1.1014 - val_grow_outputs_loss: 1.2736 - val_diease_outputs_accuracy: 0.5042 - val_grow_outputs_accuracy: 0.4884\n"
     ]
    },
    {
     "data": {
      "text/html": [
       "Waiting for W&B process to finish... <strong style=\"color:green\">(success).</strong>"
      ],
      "text/plain": [
       "<IPython.core.display.HTML object>"
      ]
     },
     "metadata": {},
     "output_type": "display_data"
    },
    {
     "data": {
      "text/html": [
       "<style>\n",
       "    table.wandb td:nth-child(1) { padding: 0 10px; text-align: left ; width: auto;} td:nth-child(2) {text-align: left ; width: 100%}\n",
       "    .wandb-row { display: flex; flex-direction: row; flex-wrap: wrap; justify-content: flex-start; width: 100% }\n",
       "    .wandb-col { display: flex; flex-direction: column; flex-basis: 100%; flex: 1; padding: 10px; }\n",
       "    </style>\n",
       "<div class=\"wandb-row\"><div class=\"wandb-col\"><h3>Run history:</h3><br/><table class=\"wandb\"><tr><td>diease_outputs_accuracy</td><td>▁▄▅▆▇▇████</td></tr><tr><td>diease_outputs_loss</td><td>█▄▃▂▂▂▁▁▁▁</td></tr><tr><td>epoch</td><td>▁▂▃▃▄▅▆▆▇█</td></tr><tr><td>grow_outputs_accuracy</td><td>▁▄▅▆▇▇▇███</td></tr><tr><td>grow_outputs_loss</td><td>█▅▃▃▂▂▂▁▁▁</td></tr><tr><td>loss</td><td>█▄▃▂▂▂▂▁▁▁</td></tr><tr><td>val_diease_outputs_accuracy</td><td>▁▂▄▅▆▇▇███</td></tr><tr><td>val_diease_outputs_loss</td><td>█▅▃▃▂▂▂▁▁▁</td></tr><tr><td>val_grow_outputs_accuracy</td><td>▁▄▅▇▇▇████</td></tr><tr><td>val_grow_outputs_loss</td><td>█▅▄▃▃▂▂▁▁▁</td></tr><tr><td>val_loss</td><td>█▅▄▃▂▂▂▁▁▁</td></tr></table><br/></div><div class=\"wandb-col\"><h3>Run summary:</h3><br/><table class=\"wandb\"><tr><td>best_epoch</td><td>9</td></tr><tr><td>best_val_loss</td><td>2.37505</td></tr><tr><td>diease_outputs_accuracy</td><td>0.44536</td></tr><tr><td>diease_outputs_loss</td><td>1.14477</td></tr><tr><td>epoch</td><td>9</td></tr><tr><td>grow_outputs_accuracy</td><td>0.44117</td></tr><tr><td>grow_outputs_loss</td><td>1.3457</td></tr><tr><td>loss</td><td>2.49047</td></tr><tr><td>val_diease_outputs_accuracy</td><td>0.50417</td></tr><tr><td>val_diease_outputs_loss</td><td>1.10143</td></tr><tr><td>val_grow_outputs_accuracy</td><td>0.48839</td></tr><tr><td>val_grow_outputs_loss</td><td>1.27362</td></tr><tr><td>val_loss</td><td>2.37505</td></tr></table><br/></div></div>"
      ],
      "text/plain": [
       "<IPython.core.display.HTML object>"
      ]
     },
     "metadata": {},
     "output_type": "display_data"
    },
    {
     "data": {
      "text/html": [
       "Synced <strong style=\"color:#cdcd00\">copper-sweep-62</strong>: <a href=\"https://wandb.ai/hkleee/strawberry/runs/kra07bbi\" target=\"_blank\">https://wandb.ai/hkleee/strawberry/runs/kra07bbi</a><br/>Synced 6 W&B file(s), 1 media file(s), 0 artifact file(s) and 1 other file(s)"
      ],
      "text/plain": [
       "<IPython.core.display.HTML object>"
      ]
     },
     "metadata": {},
     "output_type": "display_data"
    },
    {
     "data": {
      "text/html": [
       "Find logs at: <code>./wandb/run-20220619_192017-kra07bbi/logs</code>"
      ],
      "text/plain": [
       "<IPython.core.display.HTML object>"
      ]
     },
     "metadata": {},
     "output_type": "display_data"
    },
    {
     "name": "stderr",
     "output_type": "stream",
     "text": [
      "\u001b[34m\u001b[1mwandb\u001b[0m: Agent Starting Run: sxrohti5 with config:\n",
      "\u001b[34m\u001b[1mwandb\u001b[0m: \tactivation: softmax\n",
      "\u001b[34m\u001b[1mwandb\u001b[0m: \tbatch_size: 50\n",
      "\u001b[34m\u001b[1mwandb\u001b[0m: \tdense: 32\n",
      "\u001b[34m\u001b[1mwandb\u001b[0m: \tdropout: 0.2\n",
      "\u001b[34m\u001b[1mwandb\u001b[0m: \tlearning_rate: 3e-05\n",
      "\u001b[34m\u001b[1mwandb\u001b[0m: \toptimizer: sgd\n",
      "\u001b[34m\u001b[1mwandb\u001b[0m: \tpretrain_net: resnet\n",
      "Failed to detect the name of this notebook, you can set it manually with the WANDB_NOTEBOOK_NAME environment variable to enable code saving.\n"
     ]
    },
    {
     "data": {
      "text/html": [
       "Tracking run with wandb version 0.12.18"
      ],
      "text/plain": [
       "<IPython.core.display.HTML object>"
      ]
     },
     "metadata": {},
     "output_type": "display_data"
    },
    {
     "data": {
      "text/html": [
       "Run data is saved locally in <code>/home/lab38/Multi_proj_6/model/multi-output/strawberry/sweep/wandb/run-20220619_201441-sxrohti5</code>"
      ],
      "text/plain": [
       "<IPython.core.display.HTML object>"
      ]
     },
     "metadata": {},
     "output_type": "display_data"
    },
    {
     "data": {
      "text/html": [
       "Syncing run <strong><a href=\"https://wandb.ai/hkleee/strawberry/runs/sxrohti5\" target=\"_blank\">pretty-sweep-63</a></strong> to <a href=\"https://wandb.ai/hkleee/strawberry\" target=\"_blank\">Weights & Biases</a> (<a href=\"https://wandb.me/run\" target=\"_blank\">docs</a>)<br/>Sweep page:  <a href=\"https://wandb.ai/hkleee/strawberry/sweeps/natutesf\" target=\"_blank\">https://wandb.ai/hkleee/strawberry/sweeps/natutesf</a>"
      ],
      "text/plain": [
       "<IPython.core.display.HTML object>"
      ]
     },
     "metadata": {},
     "output_type": "display_data"
    },
    {
     "data": {
      "text/html": [
       "Finishing last run (ID:sxrohti5) before initializing another..."
      ],
      "text/plain": [
       "<IPython.core.display.HTML object>"
      ]
     },
     "metadata": {},
     "output_type": "display_data"
    },
    {
     "data": {
      "text/html": [
       "Waiting for W&B process to finish... <strong style=\"color:green\">(success).</strong>"
      ],
      "text/plain": [
       "<IPython.core.display.HTML object>"
      ]
     },
     "metadata": {},
     "output_type": "display_data"
    },
    {
     "data": {
      "text/html": [
       "Synced <strong style=\"color:#cdcd00\">pretty-sweep-63</strong>: <a href=\"https://wandb.ai/hkleee/strawberry/runs/sxrohti5\" target=\"_blank\">https://wandb.ai/hkleee/strawberry/runs/sxrohti5</a><br/>Synced 5 W&B file(s), 0 media file(s), 0 artifact file(s) and 0 other file(s)"
      ],
      "text/plain": [
       "<IPython.core.display.HTML object>"
      ]
     },
     "metadata": {},
     "output_type": "display_data"
    },
    {
     "data": {
      "text/html": [
       "Find logs at: <code>./wandb/run-20220619_201441-sxrohti5/logs</code>"
      ],
      "text/plain": [
       "<IPython.core.display.HTML object>"
      ]
     },
     "metadata": {},
     "output_type": "display_data"
    },
    {
     "data": {
      "text/html": [
       "Successfully finished last run (ID:sxrohti5). Initializing new run:<br/>"
      ],
      "text/plain": [
       "<IPython.core.display.HTML object>"
      ]
     },
     "metadata": {},
     "output_type": "display_data"
    },
    {
     "data": {
      "text/html": [
       "Tracking run with wandb version 0.12.18"
      ],
      "text/plain": [
       "<IPython.core.display.HTML object>"
      ]
     },
     "metadata": {},
     "output_type": "display_data"
    },
    {
     "data": {
      "text/html": [
       "Run data is saved locally in <code>/home/lab38/Multi_proj_6/model/multi-output/strawberry/sweep/wandb/run-20220619_201446-sxrohti5</code>"
      ],
      "text/plain": [
       "<IPython.core.display.HTML object>"
      ]
     },
     "metadata": {},
     "output_type": "display_data"
    },
    {
     "data": {
      "text/html": [
       "Syncing run <strong><a href=\"https://wandb.ai/hkleee/strawberry/runs/sxrohti5\" target=\"_blank\">pretty-sweep-63</a></strong> to <a href=\"https://wandb.ai/hkleee/strawberry\" target=\"_blank\">Weights & Biases</a> (<a href=\"https://wandb.me/run\" target=\"_blank\">docs</a>)<br/>Sweep page:  <a href=\"https://wandb.ai/hkleee/strawberry/sweeps/natutesf\" target=\"_blank\">https://wandb.ai/hkleee/strawberry/sweeps/natutesf</a>"
      ],
      "text/plain": [
       "<IPython.core.display.HTML object>"
      ]
     },
     "metadata": {},
     "output_type": "display_data"
    },
    {
     "name": "stdout",
     "output_type": "stream",
     "text": [
      "Found 13437 validated image filenames.\n",
      "Found 3360 validated image filenames.\n",
      "Epoch 1/10\n",
      "268/268 [==============================] - 301s 1s/step - loss: 3.0234 - diease_outputs_loss: 1.3962 - grow_outputs_loss: 1.6272 - diease_outputs_accuracy: 0.2641 - grow_outputs_accuracy: 0.1278 - val_loss: 3.0198 - val_diease_outputs_loss: 1.3936 - val_grow_outputs_loss: 1.6262 - val_diease_outputs_accuracy: 0.2658 - val_grow_outputs_accuracy: 0.1443\n",
      "Epoch 2/10\n",
      "268/268 [==============================] - 298s 1s/step - loss: 3.0203 - diease_outputs_loss: 1.3942 - grow_outputs_loss: 1.6261 - diease_outputs_accuracy: 0.2735 - grow_outputs_accuracy: 0.1299 - val_loss: 3.0166 - val_diease_outputs_loss: 1.3911 - val_grow_outputs_loss: 1.6255 - val_diease_outputs_accuracy: 0.2658 - val_grow_outputs_accuracy: 0.1298\n",
      "Epoch 3/10\n",
      "268/268 [==============================] - 299s 1s/step - loss: 3.0181 - diease_outputs_loss: 1.3916 - grow_outputs_loss: 1.6265 - diease_outputs_accuracy: 0.2904 - grow_outputs_accuracy: 0.1226 - val_loss: 3.0133 - val_diease_outputs_loss: 1.3885 - val_grow_outputs_loss: 1.6249 - val_diease_outputs_accuracy: 0.2661 - val_grow_outputs_accuracy: 0.1098\n",
      "Epoch 4/10\n",
      "268/268 [==============================] - 301s 1s/step - loss: 3.0122 - diease_outputs_loss: 1.3875 - grow_outputs_loss: 1.6248 - diease_outputs_accuracy: 0.3168 - grow_outputs_accuracy: 0.1239 - val_loss: 3.0100 - val_diease_outputs_loss: 1.3858 - val_grow_outputs_loss: 1.6242 - val_diease_outputs_accuracy: 0.2827 - val_grow_outputs_accuracy: 0.0923\n",
      "Epoch 5/10\n",
      "268/268 [==============================] - 302s 1s/step - loss: 3.0100 - diease_outputs_loss: 1.3856 - grow_outputs_loss: 1.6244 - diease_outputs_accuracy: 0.3249 - grow_outputs_accuracy: 0.1281 - val_loss: 3.0066 - val_diease_outputs_loss: 1.3831 - val_grow_outputs_loss: 1.6236 - val_diease_outputs_accuracy: 0.3357 - val_grow_outputs_accuracy: 0.0732\n",
      "Epoch 6/10\n",
      "268/268 [==============================] - 302s 1s/step - loss: 3.0057 - diease_outputs_loss: 1.3829 - grow_outputs_loss: 1.6228 - diease_outputs_accuracy: 0.3416 - grow_outputs_accuracy: 0.1301 - val_loss: 3.0032 - val_diease_outputs_loss: 1.3803 - val_grow_outputs_loss: 1.6229 - val_diease_outputs_accuracy: 0.3812 - val_grow_outputs_accuracy: 0.0607\n",
      "Epoch 7/10\n",
      "268/268 [==============================] - 303s 1s/step - loss: 3.0038 - diease_outputs_loss: 1.3809 - grow_outputs_loss: 1.6230 - diease_outputs_accuracy: 0.3594 - grow_outputs_accuracy: 0.1245 - val_loss: 2.9996 - val_diease_outputs_loss: 1.3774 - val_grow_outputs_loss: 1.6223 - val_diease_outputs_accuracy: 0.4205 - val_grow_outputs_accuracy: 0.0583\n",
      "Epoch 8/10\n",
      "268/268 [==============================] - 298s 1s/step - loss: 2.9996 - diease_outputs_loss: 1.3773 - grow_outputs_loss: 1.6223 - diease_outputs_accuracy: 0.3702 - grow_outputs_accuracy: 0.1205 - val_loss: 2.9960 - val_diease_outputs_loss: 1.3744 - val_grow_outputs_loss: 1.6216 - val_diease_outputs_accuracy: 0.4372 - val_grow_outputs_accuracy: 0.0580\n",
      "Epoch 9/10\n",
      "268/268 [==============================] - 297s 1s/step - loss: 2.9950 - diease_outputs_loss: 1.3738 - grow_outputs_loss: 1.6213 - diease_outputs_accuracy: 0.3844 - grow_outputs_accuracy: 0.1216 - val_loss: 2.9924 - val_diease_outputs_loss: 1.3714 - val_grow_outputs_loss: 1.6210 - val_diease_outputs_accuracy: 0.4387 - val_grow_outputs_accuracy: 0.0580\n",
      "Epoch 10/10\n",
      "268/268 [==============================] - 298s 1s/step - loss: 2.9924 - diease_outputs_loss: 1.3714 - grow_outputs_loss: 1.6210 - diease_outputs_accuracy: 0.4009 - grow_outputs_accuracy: 0.1270 - val_loss: 2.9886 - val_diease_outputs_loss: 1.3683 - val_grow_outputs_loss: 1.6204 - val_diease_outputs_accuracy: 0.4387 - val_grow_outputs_accuracy: 0.0571\n"
     ]
    },
    {
     "data": {
      "text/html": [
       "Waiting for W&B process to finish... <strong style=\"color:green\">(success).</strong>"
      ],
      "text/plain": [
       "<IPython.core.display.HTML object>"
      ]
     },
     "metadata": {},
     "output_type": "display_data"
    },
    {
     "data": {
      "text/html": [
       "<style>\n",
       "    table.wandb td:nth-child(1) { padding: 0 10px; text-align: left ; width: auto;} td:nth-child(2) {text-align: left ; width: 100%}\n",
       "    .wandb-row { display: flex; flex-direction: row; flex-wrap: wrap; justify-content: flex-start; width: 100% }\n",
       "    .wandb-col { display: flex; flex-direction: column; flex-basis: 100%; flex: 1; padding: 10px; }\n",
       "    </style>\n",
       "<div class=\"wandb-row\"><div class=\"wandb-col\"><h3>Run history:</h3><br/><table class=\"wandb\"><tr><td>diease_outputs_accuracy</td><td>▁▂▃▃▄▅▆▆▇█</td></tr><tr><td>diease_outputs_loss</td><td>█▇▇▆▅▄▄▃▂▁</td></tr><tr><td>epoch</td><td>▁▂▃▃▄▅▆▆▇█</td></tr><tr><td>grow_outputs_accuracy</td><td>██▅▃▇▅▅▅▁▂</td></tr><tr><td>grow_outputs_loss</td><td>█▇▇▆▅▄▃▂▁▁</td></tr><tr><td>loss</td><td>█▇▇▆▅▄▃▃▂▁</td></tr><tr><td>val_diease_outputs_accuracy</td><td>▁▁▁▂▄▆▇███</td></tr><tr><td>val_diease_outputs_loss</td><td>█▇▇▆▅▄▄▃▂▁</td></tr><tr><td>val_grow_outputs_accuracy</td><td>█▇▅▄▂▁▁▁▁▁</td></tr><tr><td>val_grow_outputs_loss</td><td>█▇▆▆▅▄▃▃▂▁</td></tr><tr><td>val_loss</td><td>█▇▇▆▅▄▃▃▂▁</td></tr></table><br/></div><div class=\"wandb-col\"><h3>Run summary:</h3><br/><table class=\"wandb\"><tr><td>best_epoch</td><td>9</td></tr><tr><td>best_val_loss</td><td>2.98863</td></tr><tr><td>diease_outputs_accuracy</td><td>0.39889</td></tr><tr><td>diease_outputs_loss</td><td>1.37097</td></tr><tr><td>epoch</td><td>9</td></tr><tr><td>grow_outputs_accuracy</td><td>0.12056</td></tr><tr><td>grow_outputs_loss</td><td>1.62119</td></tr><tr><td>loss</td><td>2.99217</td></tr><tr><td>val_diease_outputs_accuracy</td><td>0.43869</td></tr><tr><td>val_diease_outputs_loss</td><td>1.36827</td></tr><tr><td>val_grow_outputs_accuracy</td><td>0.05714</td></tr><tr><td>val_grow_outputs_loss</td><td>1.62036</td></tr><tr><td>val_loss</td><td>2.98863</td></tr></table><br/></div></div>"
      ],
      "text/plain": [
       "<IPython.core.display.HTML object>"
      ]
     },
     "metadata": {},
     "output_type": "display_data"
    },
    {
     "data": {
      "text/html": [
       "Synced <strong style=\"color:#cdcd00\">pretty-sweep-63</strong>: <a href=\"https://wandb.ai/hkleee/strawberry/runs/sxrohti5\" target=\"_blank\">https://wandb.ai/hkleee/strawberry/runs/sxrohti5</a><br/>Synced 6 W&B file(s), 1 media file(s), 0 artifact file(s) and 1 other file(s)"
      ],
      "text/plain": [
       "<IPython.core.display.HTML object>"
      ]
     },
     "metadata": {},
     "output_type": "display_data"
    },
    {
     "data": {
      "text/html": [
       "Find logs at: <code>./wandb/run-20220619_201446-sxrohti5/logs</code>"
      ],
      "text/plain": [
       "<IPython.core.display.HTML object>"
      ]
     },
     "metadata": {},
     "output_type": "display_data"
    },
    {
     "name": "stderr",
     "output_type": "stream",
     "text": [
      "\u001b[34m\u001b[1mwandb\u001b[0m: Agent Starting Run: m8oxkhz3 with config:\n",
      "\u001b[34m\u001b[1mwandb\u001b[0m: \tactivation: elu\n",
      "\u001b[34m\u001b[1mwandb\u001b[0m: \tbatch_size: 20\n",
      "\u001b[34m\u001b[1mwandb\u001b[0m: \tdense: 1024\n",
      "\u001b[34m\u001b[1mwandb\u001b[0m: \tdropout: 0.2\n",
      "\u001b[34m\u001b[1mwandb\u001b[0m: \tlearning_rate: 0.001\n",
      "\u001b[34m\u001b[1mwandb\u001b[0m: \toptimizer: sgd\n",
      "\u001b[34m\u001b[1mwandb\u001b[0m: \tpretrain_net: inception\n",
      "Failed to detect the name of this notebook, you can set it manually with the WANDB_NOTEBOOK_NAME environment variable to enable code saving.\n"
     ]
    },
    {
     "data": {
      "text/html": [
       "Tracking run with wandb version 0.12.18"
      ],
      "text/plain": [
       "<IPython.core.display.HTML object>"
      ]
     },
     "metadata": {},
     "output_type": "display_data"
    },
    {
     "data": {
      "text/html": [
       "Run data is saved locally in <code>/home/lab38/Multi_proj_6/model/multi-output/strawberry/sweep/wandb/run-20220619_210513-m8oxkhz3</code>"
      ],
      "text/plain": [
       "<IPython.core.display.HTML object>"
      ]
     },
     "metadata": {},
     "output_type": "display_data"
    },
    {
     "data": {
      "text/html": [
       "Syncing run <strong><a href=\"https://wandb.ai/hkleee/strawberry/runs/m8oxkhz3\" target=\"_blank\">dandy-sweep-64</a></strong> to <a href=\"https://wandb.ai/hkleee/strawberry\" target=\"_blank\">Weights & Biases</a> (<a href=\"https://wandb.me/run\" target=\"_blank\">docs</a>)<br/>Sweep page:  <a href=\"https://wandb.ai/hkleee/strawberry/sweeps/natutesf\" target=\"_blank\">https://wandb.ai/hkleee/strawberry/sweeps/natutesf</a>"
      ],
      "text/plain": [
       "<IPython.core.display.HTML object>"
      ]
     },
     "metadata": {},
     "output_type": "display_data"
    },
    {
     "data": {
      "text/html": [
       "Finishing last run (ID:m8oxkhz3) before initializing another..."
      ],
      "text/plain": [
       "<IPython.core.display.HTML object>"
      ]
     },
     "metadata": {},
     "output_type": "display_data"
    },
    {
     "data": {
      "text/html": [
       "Waiting for W&B process to finish... <strong style=\"color:green\">(success).</strong>"
      ],
      "text/plain": [
       "<IPython.core.display.HTML object>"
      ]
     },
     "metadata": {},
     "output_type": "display_data"
    },
    {
     "data": {
      "text/html": [
       "Synced <strong style=\"color:#cdcd00\">dandy-sweep-64</strong>: <a href=\"https://wandb.ai/hkleee/strawberry/runs/m8oxkhz3\" target=\"_blank\">https://wandb.ai/hkleee/strawberry/runs/m8oxkhz3</a><br/>Synced 5 W&B file(s), 0 media file(s), 0 artifact file(s) and 0 other file(s)"
      ],
      "text/plain": [
       "<IPython.core.display.HTML object>"
      ]
     },
     "metadata": {},
     "output_type": "display_data"
    },
    {
     "data": {
      "text/html": [
       "Find logs at: <code>./wandb/run-20220619_210513-m8oxkhz3/logs</code>"
      ],
      "text/plain": [
       "<IPython.core.display.HTML object>"
      ]
     },
     "metadata": {},
     "output_type": "display_data"
    },
    {
     "data": {
      "text/html": [
       "Successfully finished last run (ID:m8oxkhz3). Initializing new run:<br/>"
      ],
      "text/plain": [
       "<IPython.core.display.HTML object>"
      ]
     },
     "metadata": {},
     "output_type": "display_data"
    },
    {
     "data": {
      "text/html": [
       "Tracking run with wandb version 0.12.18"
      ],
      "text/plain": [
       "<IPython.core.display.HTML object>"
      ]
     },
     "metadata": {},
     "output_type": "display_data"
    },
    {
     "data": {
      "text/html": [
       "Run data is saved locally in <code>/home/lab38/Multi_proj_6/model/multi-output/strawberry/sweep/wandb/run-20220619_210517-m8oxkhz3</code>"
      ],
      "text/plain": [
       "<IPython.core.display.HTML object>"
      ]
     },
     "metadata": {},
     "output_type": "display_data"
    },
    {
     "data": {
      "text/html": [
       "Syncing run <strong><a href=\"https://wandb.ai/hkleee/strawberry/runs/m8oxkhz3\" target=\"_blank\">dandy-sweep-64</a></strong> to <a href=\"https://wandb.ai/hkleee/strawberry\" target=\"_blank\">Weights & Biases</a> (<a href=\"https://wandb.me/run\" target=\"_blank\">docs</a>)<br/>Sweep page:  <a href=\"https://wandb.ai/hkleee/strawberry/sweeps/natutesf\" target=\"_blank\">https://wandb.ai/hkleee/strawberry/sweeps/natutesf</a>"
      ],
      "text/plain": [
       "<IPython.core.display.HTML object>"
      ]
     },
     "metadata": {},
     "output_type": "display_data"
    },
    {
     "name": "stdout",
     "output_type": "stream",
     "text": [
      "Found 13437 validated image filenames.\n",
      "Found 3360 validated image filenames.\n",
      "Epoch 1/10\n",
      "671/671 [==============================] - 326s 473ms/step - loss: 2.2837 - diease_outputs_loss: 0.9925 - grow_outputs_loss: 1.2912 - diease_outputs_accuracy: 0.5718 - grow_outputs_accuracy: 0.4477 - val_loss: 1.6294 - val_diease_outputs_loss: 0.6822 - val_grow_outputs_loss: 0.9473 - val_diease_outputs_accuracy: 0.7589 - val_grow_outputs_accuracy: 0.6223\n",
      "Epoch 2/10\n",
      "671/671 [==============================] - 313s 467ms/step - loss: 1.6591 - diease_outputs_loss: 0.7103 - grow_outputs_loss: 0.9487 - diease_outputs_accuracy: 0.7289 - grow_outputs_accuracy: 0.6090 - val_loss: 1.4771 - val_diease_outputs_loss: 0.5976 - val_grow_outputs_loss: 0.8796 - val_diease_outputs_accuracy: 0.7887 - val_grow_outputs_accuracy: 0.6271\n",
      "Epoch 3/10\n",
      "671/671 [==============================] - 317s 472ms/step - loss: 1.5188 - diease_outputs_loss: 0.6304 - grow_outputs_loss: 0.8884 - diease_outputs_accuracy: 0.7653 - grow_outputs_accuracy: 0.6235 - val_loss: 1.4006 - val_diease_outputs_loss: 0.5568 - val_grow_outputs_loss: 0.8438 - val_diease_outputs_accuracy: 0.7964 - val_grow_outputs_accuracy: 0.6601\n",
      "Epoch 4/10\n",
      "671/671 [==============================] - 319s 475ms/step - loss: 1.4467 - diease_outputs_loss: 0.5867 - grow_outputs_loss: 0.8600 - diease_outputs_accuracy: 0.7800 - grow_outputs_accuracy: 0.6399 - val_loss: 1.3312 - val_diease_outputs_loss: 0.5208 - val_grow_outputs_loss: 0.8104 - val_diease_outputs_accuracy: 0.8140 - val_grow_outputs_accuracy: 0.6640\n",
      "Epoch 5/10\n",
      "671/671 [==============================] - 319s 475ms/step - loss: 1.4090 - diease_outputs_loss: 0.5679 - grow_outputs_loss: 0.8412 - diease_outputs_accuracy: 0.7869 - grow_outputs_accuracy: 0.6446 - val_loss: 1.3045 - val_diease_outputs_loss: 0.4991 - val_grow_outputs_loss: 0.8054 - val_diease_outputs_accuracy: 0.8190 - val_grow_outputs_accuracy: 0.6533\n",
      "Epoch 6/10\n",
      "671/671 [==============================] - 320s 477ms/step - loss: 1.3676 - diease_outputs_loss: 0.5387 - grow_outputs_loss: 0.8289 - diease_outputs_accuracy: 0.7949 - grow_outputs_accuracy: 0.6498 - val_loss: 1.2679 - val_diease_outputs_loss: 0.4805 - val_grow_outputs_loss: 0.7874 - val_diease_outputs_accuracy: 0.8259 - val_grow_outputs_accuracy: 0.6708\n",
      "Epoch 7/10\n",
      "671/671 [==============================] - 318s 473ms/step - loss: 1.3380 - diease_outputs_loss: 0.5193 - grow_outputs_loss: 0.8188 - diease_outputs_accuracy: 0.8073 - grow_outputs_accuracy: 0.6602 - val_loss: 1.2382 - val_diease_outputs_loss: 0.4635 - val_grow_outputs_loss: 0.7747 - val_diease_outputs_accuracy: 0.8292 - val_grow_outputs_accuracy: 0.6812\n",
      "Epoch 8/10\n",
      "671/671 [==============================] - 313s 466ms/step - loss: 1.3074 - diease_outputs_loss: 0.5085 - grow_outputs_loss: 0.7989 - diease_outputs_accuracy: 0.8144 - grow_outputs_accuracy: 0.6730 - val_loss: 1.2134 - val_diease_outputs_loss: 0.4498 - val_grow_outputs_loss: 0.7636 - val_diease_outputs_accuracy: 0.8381 - val_grow_outputs_accuracy: 0.6881\n",
      "Epoch 9/10\n",
      "671/671 [==============================] - 319s 475ms/step - loss: 1.2750 - diease_outputs_loss: 0.4835 - grow_outputs_loss: 0.7915 - diease_outputs_accuracy: 0.8211 - grow_outputs_accuracy: 0.6714 - val_loss: 1.1963 - val_diease_outputs_loss: 0.4380 - val_grow_outputs_loss: 0.7583 - val_diease_outputs_accuracy: 0.8432 - val_grow_outputs_accuracy: 0.6815\n",
      "Epoch 10/10\n",
      "671/671 [==============================] - ETA: 0s - loss: 1.2739 - diease_outputs_loss: 0.4850 - grow_outputs_loss: 0.7889 - diease_outputs_accuracy: 0.8164 - grow_outputs_accuracy: 0.6670"
     ]
    }
   ],
   "source": [
    "wandb.agent('natutesf', train)"
   ]
  },
  {
   "cell_type": "code",
   "execution_count": null,
   "id": "95d174df",
   "metadata": {},
   "outputs": [],
   "source": [
    "# MLOPs"
   ]
  }
 ],
 "metadata": {
  "kernelspec": {
   "display_name": "Python [conda env:smartpot]",
   "language": "python",
   "name": "conda-env-smartpot-py"
  },
  "language_info": {
   "codemirror_mode": {
    "name": "ipython",
    "version": 3
   },
   "file_extension": ".py",
   "mimetype": "text/x-python",
   "name": "python",
   "nbconvert_exporter": "python",
   "pygments_lexer": "ipython3",
   "version": "3.9.12"
  }
 },
 "nbformat": 4,
 "nbformat_minor": 5
}
