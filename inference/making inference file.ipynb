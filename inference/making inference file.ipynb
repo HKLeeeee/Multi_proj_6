{
 "cells": [
  {
   "cell_type": "code",
   "execution_count": 1,
   "id": "dd956ac2",
   "metadata": {},
   "outputs": [],
   "source": [
    "import cv2\n",
    "import numpy as np\n",
    "import urllib.request as req\n",
    "import tensorflow as tf\n",
    "\n",
    "STRAWBERRY = 'strawberry'\n",
    "LETTUCE = 'lettuce'\n",
    "ROSEMARY = 'rosemary'\n",
    "GERANIUM = 'geranium'\n",
    "\n",
    "strawberry_dict = {\n",
    "    'disease' : ['정상', '잿빛곰팡이병', '흰가루병', '해충'],\n",
    "    'grow': ['1단계', '2단계', '3단계', '4단계', '5단계']\n",
    "}\n",
    "lettuce_dict = {\n",
    "    'disease': ['정상', '균핵병', '노균병'],\n",
    "    'grow': ['1단계', '2단계']\n",
    "}\n",
    "rosemary_dict = {\n",
    "    'disease': ['정상', '흰가루병', '점무늬병', '해충']\n",
    "}\n",
    "geranium_dict = {\n",
    "    'disease': ['정상', '갈색무늬병', '잿빛곰팡이병', '해충']\n",
    "}\n",
    "\n",
    "code_to_str = {\n",
    "        STRAWBERRY : strawberry_dict, \n",
    "        LETTUCE: lettuce_dict, \n",
    "        ROSEMARY: rosemary_dict, \n",
    "        GERANIUM: geranium_dict}\n",
    "\n",
    "def read_image_from_url(url, input_size = None) :\n",
    "    resp = req.urlopen(url)\n",
    "    image = np.asarray(bytearray(resp.read()), dtype='uint8')\n",
    "    image = cv2.imdecode(image, cv2.IMREAD_COLOR)\n",
    "    image = cv2.cvtColor(image, cv2.COLOR_BGR2RGB)\n",
    "    if input_size is not None :\n",
    "        image = cv2.resize(image, (input_size, input_size))\n",
    "    return image / 255.\n",
    "\n",
    "def load_plant_model(plant : str):\n",
    "    if plant ==  STRAWBERRY :\n",
    "        model = tf.keras.models.load_model('./strawberry_multi_output.h5')\n",
    "    elif plant == LETTUCE :\n",
    "        model = tf.keras.models.load_model('./lettuce_multi_output.h5')\n",
    "    return model\n",
    "\n",
    "def inference(url, plant:str) :\n",
    "    model = load_plant_model(plant)\n",
    "    if plant == STRAWBERRY or plant == LETTUCE :\n",
    "        image = read_image_from_url(url, 320)\n",
    "        image = np.array([image])\n",
    "        disease, grow = model.predict(image)\n",
    "        disease = np.argmax(disease[0])\n",
    "        grow = np.argmax(grow[0])    \n",
    "        return {'disease' : code_to_str[plant]['disease'][disease],\n",
    "               'grow' : code_to_str[plant]['grow'][grow]}\n",
    "    \n",
    "    elif plant == ROSEMARY or plant == GERANIUM :\n",
    "        image = read_image_from_url(url)\n",
    "        image = np.array([image])\n",
    "        disease = model.predict(image)\n",
    "        disease = np.argmax(disease[0])\n",
    "        return {'disease': code_to_str[plant]['disease'][disease]}"
   ]
  },
  {
   "cell_type": "code",
   "execution_count": 3,
   "id": "cc7e9c3f",
   "metadata": {},
   "outputs": [
    {
     "name": "stdout",
     "output_type": "stream",
     "text": [
      "https://t1.daumcdn.net/cfile/tistory/99F53D335981A0221C\n"
     ]
    },
    {
     "name": "stderr",
     "output_type": "stream",
     "text": [
      "2022-06-19 00:34:55.452960: I tensorflow/compiler/mlir/mlir_graph_optimization_pass.cc:116] None of the MLIR optimization passes are enabled (registered 2)\n",
      "2022-06-19 00:34:55.471677: I tensorflow/core/platform/profile_utils/cpu_utils.cc:112] CPU Frequency: 2499995000 Hz\n"
     ]
    },
    {
     "name": "stdout",
     "output_type": "stream",
     "text": [
      "CPU times: user 13.6 s, sys: 1.15 s, total: 14.8 s\n",
      "Wall time: 15.7 s\n"
     ]
    },
    {
     "data": {
      "text/plain": [
       "{'disease': '잿빛곰팡이병', 'grow': '2단계'}"
      ]
     },
     "execution_count": 3,
     "metadata": {},
     "output_type": "execute_result"
    }
   ],
   "source": [
    "%%time\n",
    "url = input()\n",
    "inference(url, 'strawberry')"
   ]
  },
  {
   "cell_type": "code",
   "execution_count": null,
   "id": "d5eb125d",
   "metadata": {},
   "outputs": [],
   "source": []
  }
 ],
 "metadata": {
  "kernelspec": {
   "display_name": "Python [conda env:why] *",
   "language": "python",
   "name": "conda-env-why-py"
  },
  "language_info": {
   "codemirror_mode": {
    "name": "ipython",
    "version": 3
   },
   "file_extension": ".py",
   "mimetype": "text/x-python",
   "name": "python",
   "nbconvert_exporter": "python",
   "pygments_lexer": "ipython3",
   "version": "3.9.12"
  }
 },
 "nbformat": 4,
 "nbformat_minor": 5
}
