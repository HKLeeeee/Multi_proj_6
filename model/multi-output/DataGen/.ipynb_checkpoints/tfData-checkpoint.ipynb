{
 "cells": [
  {
   "cell_type": "markdown",
   "id": "e2ca36e9",
   "metadata": {},
   "source": [
    "https://webnautes.tistory.com/1579"
   ]
  },
  {
   "cell_type": "code",
   "execution_count": null,
   "id": "c6b3d9a6",
   "metadata": {},
   "outputs": [],
   "source": []
  }
 ],
 "metadata": {
  "kernelspec": {
   "display_name": "Python [conda env:smartpot] *",
   "language": "python",
   "name": "conda-env-smartpot-py"
  },
  "language_info": {
   "codemirror_mode": {
    "name": "ipython",
    "version": 3
   },
   "file_extension": ".py",
   "mimetype": "text/x-python",
   "name": "python",
   "nbconvert_exporter": "python",
   "pygments_lexer": "ipython3",
   "version": "3.9.12"
  }
 },
 "nbformat": 4,
 "nbformat_minor": 5
}
