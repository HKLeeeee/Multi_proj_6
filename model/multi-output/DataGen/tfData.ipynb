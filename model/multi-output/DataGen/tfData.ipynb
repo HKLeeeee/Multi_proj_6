{
 "cells": [
  {
   "cell_type": "markdown",
   "id": "4a677dc2",
   "metadata": {},
   "source": [
    "https://webnautes.tistory.com/1579"
   ]
  },
  {
   "cell_type": "code",
   "execution_count": 1,
   "id": "9ab5585e",
   "metadata": {
    "scrolled": true
   },
   "outputs": [],
   "source": [
    "import tensorflow as tf\n",
    "import numpy as np\n",
    "import pandas as pd\n",
    "import os"
   ]
  },
  {
   "cell_type": "code",
   "execution_count": 3,
   "id": "50e1ac33",
   "metadata": {},
   "outputs": [
    {
     "ename": "AttributeError",
     "evalue": "module 'tensorflow' has no attribute '__version__'",
     "output_type": "error",
     "traceback": [
      "\u001b[0;31m---------------------------------------------------------------------------\u001b[0m",
      "\u001b[0;31mAttributeError\u001b[0m                            Traceback (most recent call last)",
      "Input \u001b[0;32mIn [3]\u001b[0m, in \u001b[0;36m<cell line: 1>\u001b[0;34m()\u001b[0m\n\u001b[0;32m----> 1\u001b[0m \u001b[43mtf\u001b[49m\u001b[38;5;241;43m.\u001b[39;49m\u001b[43m__version__\u001b[49m()\n",
      "\u001b[0;31mAttributeError\u001b[0m: module 'tensorflow' has no attribute '__version__'"
     ]
    }
   ],
   "source": [
    "tf.__version__()"
   ]
  },
  {
   "cell_type": "code",
   "execution_count": 2,
   "id": "6aa0165c",
   "metadata": {
    "scrolled": true
   },
   "outputs": [
    {
     "data": {
      "text/html": [
       "<div>\n",
       "<style scoped>\n",
       "    .dataframe tbody tr th:only-of-type {\n",
       "        vertical-align: middle;\n",
       "    }\n",
       "\n",
       "    .dataframe tbody tr th {\n",
       "        vertical-align: top;\n",
       "    }\n",
       "\n",
       "    .dataframe thead th {\n",
       "        text-align: right;\n",
       "    }\n",
       "</style>\n",
       "<table border=\"1\" class=\"dataframe\">\n",
       "  <thead>\n",
       "    <tr style=\"text-align: right;\">\n",
       "      <th></th>\n",
       "      <th>image</th>\n",
       "      <th>date</th>\n",
       "      <th>height</th>\n",
       "      <th>width</th>\n",
       "      <th>type</th>\n",
       "      <th>disease</th>\n",
       "      <th>crop</th>\n",
       "      <th>area</th>\n",
       "      <th>grow</th>\n",
       "      <th>risk</th>\n",
       "      <th>points</th>\n",
       "    </tr>\n",
       "  </thead>\n",
       "  <tbody>\n",
       "    <tr>\n",
       "      <th>0</th>\n",
       "      <td>/home/lab38/images/딸기_정상/V006_77_0_00_04_01_13...</td>\n",
       "      <td>2020-12-03</td>\n",
       "      <td>4032</td>\n",
       "      <td>3024</td>\n",
       "      <td>0</td>\n",
       "      <td>0</td>\n",
       "      <td>4</td>\n",
       "      <td>1</td>\n",
       "      <td>13</td>\n",
       "      <td>0</td>\n",
       "      <td>[{'xtl': 1003, 'ytl': 1167, 'xbr': 2255, 'ybr'...</td>\n",
       "    </tr>\n",
       "    <tr>\n",
       "      <th>1</th>\n",
       "      <td>/home/lab38/images/딸기_정상/V006_77_0_00_04_01_13...</td>\n",
       "      <td>2020-12-03</td>\n",
       "      <td>4032</td>\n",
       "      <td>3024</td>\n",
       "      <td>0</td>\n",
       "      <td>0</td>\n",
       "      <td>4</td>\n",
       "      <td>1</td>\n",
       "      <td>13</td>\n",
       "      <td>0</td>\n",
       "      <td>[{'xtl': 600, 'ytl': 1087, 'xbr': 1628, 'ybr':...</td>\n",
       "    </tr>\n",
       "    <tr>\n",
       "      <th>2</th>\n",
       "      <td>/home/lab38/images/딸기_정상/V006_77_0_00_04_01_13...</td>\n",
       "      <td>2020-12-03</td>\n",
       "      <td>4032</td>\n",
       "      <td>3024</td>\n",
       "      <td>0</td>\n",
       "      <td>0</td>\n",
       "      <td>4</td>\n",
       "      <td>1</td>\n",
       "      <td>13</td>\n",
       "      <td>0</td>\n",
       "      <td>[{'xtl': 1003, 'ytl': 1217, 'xbr': 2503, 'ybr'...</td>\n",
       "    </tr>\n",
       "    <tr>\n",
       "      <th>3</th>\n",
       "      <td>/home/lab38/images/딸기_정상/V006_77_0_00_04_01_13...</td>\n",
       "      <td>2020-12-03</td>\n",
       "      <td>4032</td>\n",
       "      <td>3024</td>\n",
       "      <td>0</td>\n",
       "      <td>0</td>\n",
       "      <td>4</td>\n",
       "      <td>1</td>\n",
       "      <td>13</td>\n",
       "      <td>0</td>\n",
       "      <td>[{'xtl': 662, 'ytl': 1252, 'xbr': 2129, 'ybr':...</td>\n",
       "    </tr>\n",
       "    <tr>\n",
       "      <th>4</th>\n",
       "      <td>/home/lab38/images/딸기_정상/V006_77_0_00_04_01_13...</td>\n",
       "      <td>2020-12-03</td>\n",
       "      <td>4032</td>\n",
       "      <td>3024</td>\n",
       "      <td>0</td>\n",
       "      <td>0</td>\n",
       "      <td>4</td>\n",
       "      <td>1</td>\n",
       "      <td>13</td>\n",
       "      <td>0</td>\n",
       "      <td>[{'xtl': 370, 'ytl': 884, 'xbr': 1994, 'ybr': ...</td>\n",
       "    </tr>\n",
       "  </tbody>\n",
       "</table>\n",
       "</div>"
      ],
      "text/plain": [
       "                                               image        date  height  \\\n",
       "0  /home/lab38/images/딸기_정상/V006_77_0_00_04_01_13...  2020-12-03    4032   \n",
       "1  /home/lab38/images/딸기_정상/V006_77_0_00_04_01_13...  2020-12-03    4032   \n",
       "2  /home/lab38/images/딸기_정상/V006_77_0_00_04_01_13...  2020-12-03    4032   \n",
       "3  /home/lab38/images/딸기_정상/V006_77_0_00_04_01_13...  2020-12-03    4032   \n",
       "4  /home/lab38/images/딸기_정상/V006_77_0_00_04_01_13...  2020-12-03    4032   \n",
       "\n",
       "   width  type  disease  crop  area  grow  risk  \\\n",
       "0   3024     0        0     4     1    13     0   \n",
       "1   3024     0        0     4     1    13     0   \n",
       "2   3024     0        0     4     1    13     0   \n",
       "3   3024     0        0     4     1    13     0   \n",
       "4   3024     0        0     4     1    13     0   \n",
       "\n",
       "                                              points  \n",
       "0  [{'xtl': 1003, 'ytl': 1167, 'xbr': 2255, 'ybr'...  \n",
       "1  [{'xtl': 600, 'ytl': 1087, 'xbr': 1628, 'ybr':...  \n",
       "2  [{'xtl': 1003, 'ytl': 1217, 'xbr': 2503, 'ybr'...  \n",
       "3  [{'xtl': 662, 'ytl': 1252, 'xbr': 2129, 'ybr':...  \n",
       "4  [{'xtl': 370, 'ytl': 884, 'xbr': 1994, 'ybr': ...  "
      ]
     },
     "execution_count": 2,
     "metadata": {},
     "output_type": "execute_result"
    }
   ],
   "source": [
    "root_dir = '/home/lab38/images'\n",
    "sample_csv = '딸기_정상_수정본.csv'\n",
    "df = pd.read_csv(os.path.join(root_dir, sample_csv))\n",
    "sample_img_path = os.path.join(root_dir, '딸기_정상')\n",
    "df['image'] = df['image'].map(lambda x : os.path.join(sample_img_path, x))\n",
    "df.head()"
   ]
  },
  {
   "cell_type": "code",
   "execution_count": 3,
   "id": "a5c9f7fe",
   "metadata": {},
   "outputs": [],
   "source": [
    "def x_generator() :\n",
    "    for i in range(len(df)) :\n",
    "        x = tf.keras.preprocessing.image.load_img(df['image'][i])\n",
    "        x = tf.keras.preprocessing.image.img_to_array(x)\n",
    "        yield x"
   ]
  },
  {
   "cell_type": "code",
   "execution_count": 4,
   "id": "3835375a",
   "metadata": {},
   "outputs": [],
   "source": [
    "CUDA_VISIBLE_DEVICES=\"\""
   ]
  },
  {
   "cell_type": "code",
   "execution_count": 5,
   "id": "354c1c2a",
   "metadata": {},
   "outputs": [
    {
     "ename": "AttributeError",
     "evalue": "module 'tensorflow' has no attribute 'data'",
     "output_type": "error",
     "traceback": [
      "\u001b[0;31m---------------------------------------------------------------------------\u001b[0m",
      "\u001b[0;31mAttributeError\u001b[0m                            Traceback (most recent call last)",
      "Input \u001b[0;32mIn [5]\u001b[0m, in \u001b[0;36m<cell line: 2>\u001b[0;34m()\u001b[0m\n\u001b[1;32m      1\u001b[0m \u001b[38;5;66;03m# with tf.device(\"/cpu:0\"):\u001b[39;00m\n\u001b[0;32m----> 2\u001b[0m x_dataset \u001b[38;5;241m=\u001b[39m \u001b[43mtf\u001b[49m\u001b[38;5;241;43m.\u001b[39;49m\u001b[43mdata\u001b[49m\u001b[38;5;241m.\u001b[39mDataset\u001b[38;5;241m.\u001b[39mfrom_generator(x_generator, tf\u001b[38;5;241m.\u001b[39mfloat32)\n\u001b[1;32m      3\u001b[0m x_dataset \u001b[38;5;241m=\u001b[39m x_dataset\u001b[38;5;241m.\u001b[39mbatch(\u001b[38;5;241m20\u001b[39m)\n",
      "\u001b[0;31mAttributeError\u001b[0m: module 'tensorflow' has no attribute 'data'"
     ]
    }
   ],
   "source": [
    "# with tf.device(\"/cpu:0\"):\n",
    "x_dataset = tf.data.Dataset.from_generator(x_generator, tf.float32)\n",
    "x_dataset = x_dataset.batch(20)\n"
   ]
  },
  {
   "cell_type": "code",
   "execution_count": 6,
   "id": "a2aaab1b",
   "metadata": {},
   "outputs": [
    {
     "ename": "AttributeError",
     "evalue": "module 'tensorflow' has no attribute 'data'",
     "output_type": "error",
     "traceback": [
      "\u001b[0;31m---------------------------------------------------------------------------\u001b[0m",
      "\u001b[0;31mAttributeError\u001b[0m                            Traceback (most recent call last)",
      "Input \u001b[0;32mIn [6]\u001b[0m, in \u001b[0;36m<cell line: 1>\u001b[0;34m()\u001b[0m\n\u001b[0;32m----> 1\u001b[0m dataset \u001b[38;5;241m=\u001b[39m \u001b[43mtf\u001b[49m\u001b[38;5;241;43m.\u001b[39;49m\u001b[43mdata\u001b[49m\u001b[38;5;241m.\u001b[39mDataset\u001b[38;5;241m.\u001b[39mfrom_tensor_slices([\u001b[38;5;241m1\u001b[39m, \u001b[38;5;241m2\u001b[39m, \u001b[38;5;241m3\u001b[39m])\n\u001b[1;32m      2\u001b[0m \u001b[38;5;28;01mfor\u001b[39;00m element \u001b[38;5;129;01min\u001b[39;00m dataset:\n\u001b[1;32m      3\u001b[0m     \u001b[38;5;28mprint\u001b[39m(element)\n",
      "\u001b[0;31mAttributeError\u001b[0m: module 'tensorflow' has no attribute 'data'"
     ]
    }
   ],
   "source": [
    "dataset = tf.data.Dataset.from_tensor_slices([1, 2, 3])\n",
    "for element in dataset:\n",
    "    print(element)"
   ]
  },
  {
   "cell_type": "code",
   "execution_count": null,
   "id": "94a58442",
   "metadata": {},
   "outputs": [],
   "source": [
    "for batch, x in enumerate(x_dataset):\n",
    "    pass\n",
    "print(batch)\n",
    "print(x.shape)"
   ]
  },
  {
   "cell_type": "code",
   "execution_count": null,
   "id": "7cdb47e2",
   "metadata": {},
   "outputs": [],
   "source": []
  }
 ],
 "metadata": {
  "kernelspec": {
   "display_name": "Python [conda env:smartpot] *",
   "language": "python",
   "name": "conda-env-smartpot-py"
  },
  "language_info": {
   "codemirror_mode": {
    "name": "ipython",
    "version": 3
   },
   "file_extension": ".py",
   "mimetype": "text/x-python",
   "name": "python",
   "nbconvert_exporter": "python",
   "pygments_lexer": "ipython3",
   "version": "3.9.12"
  }
 },
 "nbformat": 4,
 "nbformat_minor": 5
}
