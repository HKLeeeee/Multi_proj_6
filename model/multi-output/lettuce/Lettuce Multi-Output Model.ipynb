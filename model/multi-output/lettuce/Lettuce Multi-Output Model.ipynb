{
 "cells": [
  {
   "cell_type": "code",
   "execution_count": 1,
   "id": "b709f143",
   "metadata": {},
   "outputs": [],
   "source": [
    "import warnings \n",
    "warnings.filterwarnings(action='ignore')"
   ]
  },
  {
   "cell_type": "code",
   "execution_count": 2,
   "id": "78afe61c",
   "metadata": {},
   "outputs": [
    {
     "name": "stderr",
     "output_type": "stream",
     "text": [
      "/home/ubuntu/anaconda3/envs/smartpot/lib/python3.9/site-packages/tqdm/auto.py:22: TqdmWarning: IProgress not found. Please update jupyter and ipywidgets. See https://ipywidgets.readthedocs.io/en/stable/user_install.html\n",
      "  from .autonotebook import tqdm as notebook_tqdm\n",
      "2022-06-21 16:27:36.156630: I tensorflow/stream_executor/platform/default/dso_loader.cc:49] Successfully opened dynamic library libcudart.so.10.1\n"
     ]
    }
   ],
   "source": [
    "import os \n",
    "import numpy as np\n",
    "import pandas as pd\n",
    "import matplotlib.pyplot as plt\n",
    "from glob import glob\n",
    "from tqdm.auto import tqdm\n",
    "import cv2\n",
    "\n",
    "# from tensorflow.keras.applications import Densnet\n",
    "import tensorflow as tf\n",
    "from tensorflow.keras.models import Sequential, Model\n",
    "from tensorflow.keras import layers\n",
    "import tensorflow.keras as keras\n",
    "from tensorflow.data import Dataset\n",
    "\n",
    "from tensorflow.keras.optimizers import Adam, RMSprop, Nadam, SGD\n",
    "from tensorflow.keras.callbacks import ModelCheckpoint, EarlyStopping\n",
    "\n",
    "from itertools import product\n",
    "from tensorflow.keras.preprocessing.image import ImageDataGenerator\n",
    "\n",
    "from tensorflow.keras.applications import *\n",
    "from sklearn.model_selection import train_test_split\n",
    "from sklearn.preprocessing import LabelEncoder\n",
    "from skmultilearn.model_selection import iterative_train_test_split"
   ]
  },
  {
   "cell_type": "code",
   "execution_count": 3,
   "id": "7db429c9",
   "metadata": {},
   "outputs": [
    {
     "data": {
      "text/plain": [
       "'2.4.1'"
      ]
     },
     "execution_count": 3,
     "metadata": {},
     "output_type": "execute_result"
    }
   ],
   "source": [
    "tf.__version__"
   ]
  },
  {
   "cell_type": "code",
   "execution_count": 1,
   "id": "601ce2c4",
   "metadata": {},
   "outputs": [],
   "source": [
    "sweep_config = {\n",
    "    'method': 'random', #grid, random\n",
    "    'metric': {\n",
    "      'name': 'val_loss',\n",
    "      'goal': 'minimize'   \n",
    "    },\n",
    "    'parameters': {\n",
    "        'freeze_rate':[0, 0.2, 0.5, 0.9]\n",
    "    }\n",
    "}\n",
    "IMAGE_SIZE=320"
   ]
  },
  {
   "cell_type": "markdown",
   "id": "696102fe",
   "metadata": {},
   "source": [
    "# Data Load"
   ]
  },
  {
   "cell_type": "code",
   "execution_count": 3,
   "id": "f3bfeec5",
   "metadata": {},
   "outputs": [
    {
     "data": {
      "text/html": [
       "<div>\n",
       "<style scoped>\n",
       "    .dataframe tbody tr th:only-of-type {\n",
       "        vertical-align: middle;\n",
       "    }\n",
       "\n",
       "    .dataframe tbody tr th {\n",
       "        vertical-align: top;\n",
       "    }\n",
       "\n",
       "    .dataframe thead th {\n",
       "        text-align: right;\n",
       "    }\n",
       "</style>\n",
       "<table border=\"1\" class=\"dataframe\">\n",
       "  <thead>\n",
       "    <tr style=\"text-align: right;\">\n",
       "      <th></th>\n",
       "      <th>image</th>\n",
       "      <th>grow</th>\n",
       "      <th>disease</th>\n",
       "      <th>disease-grow</th>\n",
       "      <th>area</th>\n",
       "      <th>points</th>\n",
       "      <th>original</th>\n",
       "    </tr>\n",
       "  </thead>\n",
       "  <tbody>\n",
       "    <tr>\n",
       "      <th>0</th>\n",
       "      <td>/home/lab38/상추/358.jpg</td>\n",
       "      <td>1</td>\n",
       "      <td>12</td>\n",
       "      <td>12-1</td>\n",
       "      <td>NaN</td>\n",
       "      <td>NaN</td>\n",
       "      <td>NaN</td>\n",
       "    </tr>\n",
       "    <tr>\n",
       "      <th>1</th>\n",
       "      <td>/home/lab38/상추/235.jpg</td>\n",
       "      <td>1</td>\n",
       "      <td>12</td>\n",
       "      <td>12-1</td>\n",
       "      <td>NaN</td>\n",
       "      <td>NaN</td>\n",
       "      <td>NaN</td>\n",
       "    </tr>\n",
       "    <tr>\n",
       "      <th>2</th>\n",
       "      <td>/home/lab38/상추/39.jpg</td>\n",
       "      <td>0</td>\n",
       "      <td>12</td>\n",
       "      <td>12-0</td>\n",
       "      <td>NaN</td>\n",
       "      <td>NaN</td>\n",
       "      <td>NaN</td>\n",
       "    </tr>\n",
       "    <tr>\n",
       "      <th>3</th>\n",
       "      <td>/home/lab38/상추/345.jpg</td>\n",
       "      <td>1</td>\n",
       "      <td>12</td>\n",
       "      <td>12-1</td>\n",
       "      <td>NaN</td>\n",
       "      <td>NaN</td>\n",
       "      <td>NaN</td>\n",
       "    </tr>\n",
       "    <tr>\n",
       "      <th>4</th>\n",
       "      <td>/home/lab38/상추/97.jpg</td>\n",
       "      <td>1</td>\n",
       "      <td>12</td>\n",
       "      <td>12-1</td>\n",
       "      <td>NaN</td>\n",
       "      <td>NaN</td>\n",
       "      <td>NaN</td>\n",
       "    </tr>\n",
       "  </tbody>\n",
       "</table>\n",
       "</div>"
      ],
      "text/plain": [
       "                    image  grow  disease disease-grow  area points original\n",
       "0  /home/lab38/상추/358.jpg     1       12         12-1   NaN    NaN      NaN\n",
       "1  /home/lab38/상추/235.jpg     1       12         12-1   NaN    NaN      NaN\n",
       "2   /home/lab38/상추/39.jpg     0       12         12-0   NaN    NaN      NaN\n",
       "3  /home/lab38/상추/345.jpg     1       12         12-1   NaN    NaN      NaN\n",
       "4   /home/lab38/상추/97.jpg     1       12         12-1   NaN    NaN      NaN"
      ]
     },
     "execution_count": 3,
     "metadata": {},
     "output_type": "execute_result"
    }
   ],
   "source": [
    "df = pd.read_csv('/home/lab38/Multi_proj_6/data/lettu_smallsizeimg_with_pest.csv')\n",
    "df.head()"
   ]
  },
  {
   "cell_type": "code",
   "execution_count": 6,
   "id": "10892c25",
   "metadata": {},
   "outputs": [
    {
     "name": "stdout",
     "output_type": "stream",
     "text": [
      "[0 1 2]\n",
      "[0 1]\n"
     ]
    }
   ],
   "source": [
    "# label encoding\n",
    "disease_encoder = LabelEncoder()\n",
    "disease_encoder.fit(df['disease'])\n",
    "df['disease'] = disease_encoder.transform(df['disease'])\n",
    "print(df['disease'].unique())\n",
    "\n",
    "grow_encoder = LabelEncoder()\n",
    "grow_encoder.fit(df['grow'])\n",
    "df['grow'] = grow_encoder.transform(df['grow'])\n",
    "print(df['grow'].unique())"
   ]
  },
  {
   "cell_type": "code",
   "execution_count": 7,
   "id": "c2baac10",
   "metadata": {},
   "outputs": [],
   "source": [
    "shuffled_df = df.sample(frac=1)"
   ]
  },
  {
   "cell_type": "code",
   "execution_count": null,
   "id": "b66c5966",
   "metadata": {},
   "outputs": [],
   "source": [
    "X_train, X_test, y_train, y_test = train_test_split(df['image'],\n",
    "                                                   df['disease-grow'],\n",
    "                                                   stratify=df['disease-grow'],\n",
    "                                                   test_size=0.2)"
   ]
  },
  {
   "cell_type": "code",
   "execution_count": null,
   "id": "855e9c07",
   "metadata": {},
   "outputs": [],
   "source": [
    "train_df = df[df['image'].isin(X_train)]\n",
    "test_df = df[df['image'].isin(X_test)]"
   ]
  },
  {
   "cell_type": "code",
   "execution_count": null,
   "id": "09053375",
   "metadata": {},
   "outputs": [],
   "source": [
    "print(train_df['disease'].unique())\n",
    "print(train_df['grow'].unique())\n",
    "print(test_df['disease'].unique())\n",
    "print(test_df['grow'].unique())"
   ]
  },
  {
   "cell_type": "code",
   "execution_count": 11,
   "id": "f981e509",
   "metadata": {},
   "outputs": [],
   "source": [
    "train_gen = ImageDataGenerator(rescale=1./255,\n",
    "                            rotation_range=20, # 최대 20도까지 회전\n",
    "                            width_shift_range=0.1, # 최대 x 범위안에서 좌우/상하 이동\n",
    "                            height_shift_range=0.1,\n",
    "                            zoom_range=0.2, # 확대 축소 비율,\n",
    "                            horizontal_flip=True, # 좌우반전\n",
    "                            vertical_flip=True, # 상하반전\n",
    "                            fill_mode='nearest')\n",
    "valid_gen = ImageDataGenerator(rescale= 1. /255.)"
   ]
  },
  {
   "cell_type": "markdown",
   "id": "b0a85eac",
   "metadata": {},
   "source": [
    "# Model"
   ]
  },
  {
   "cell_type": "code",
   "execution_count": null,
   "id": "b3e7435f",
   "metadata": {},
   "outputs": [],
   "source": [
    "config_default = {\n",
    "    'pretrain_net': 'inception',\n",
    "    'epochs' : 1000,\n",
    "    'batch_size': 20,\n",
    "    'dropout' : 0.2,\n",
    "    'learning_rate' : 1e-3,\n",
    "    'activation': 'elu',\n",
    "    'optimizer': 'adam',\n",
    "    'dense': 32,\n",
    "}\n",
    "wandb.init(project='strawberry',\n",
    "          config=config_default)\n",
    "config = wandb.config\n",
    "\n",
    "train_generator = train_gen.flow_from_dataframe(train_df, \n",
    "                                           x_col='image',\n",
    "                                           y_col=['disease', 'grow'],\n",
    "                                           target_size=(IMAGE_SIZE, IMAGE_SIZE),\n",
    "                                           class_mode='multi_output',\n",
    "                                           batch_size=config.batch_size)\n",
    "valid_generator = valid_gen.flow_from_dataframe(test_df,\n",
    "                                           x_col='image',\n",
    "                                           y_col=['disease','grow'],\n",
    "                                           target_size=(IMAGE_SIZE, IMAGE_SIZE),\n",
    "                                           class_mode='multi_output',\n",
    "                                           batch_size=config.batch_size)\n",
    "\n",
    "if config.pretrain_net == 'inception' :\n",
    "    MODEL_IMAGE_SIZE = 299\n",
    "    base_model = inception_resnet_v2.InceptionResNetV2(\n",
    "        weights='imagenet',\n",
    "        include_top = False,\n",
    "        input_shape = (MODEL_IMAGE_SIZE, MODEL_IMAGE_SIZE,3)\n",
    "    )\n",
    "elif config.pretrain_net == 'resnet' :\n",
    "    MODEL_IMAGE_SIZE = 224\n",
    "    base_model= resnet50.ResNet50(\n",
    "          weights='imagenet',\n",
    "          include_top=False,\n",
    "          input_shape = (MODEL_IMAGE_SIZE, MODEL_IMAGE_SIZE,3)\n",
    "         )\n",
    "base_model.trainable = False \n",
    "\n",
    "# resizing model\n",
    "input_data = layers.Input((IMAGE_SIZE, IMAGE_SIZE, 3))\n",
    "x = tf.keras.layers.experimental.preprocessing.Resizing(MODEL_IMAGE_SIZE, MODEL_IMAGE_SIZE)(input_data)\n",
    "resizing = Model(inputs=input_data, outputs=x, name='resize')\n",
    "\n",
    "# model\n",
    "inputs = layers.Input(shape=(IMAGE_SIZE, IMAGE_SIZE, 3))\n",
    "x = resizing(inputs)\n",
    "x = base_model(x, training=False)\n",
    "x = layers.GlobalAveragePooling2D()(x)\n",
    "x = layers.Dropout(config.dropout)(x)\n",
    "backbone_out = layers.Dense(config.dense, activation=config.activation)(x)\n",
    "\n",
    "disease_outputs = layers.Dense(df['disease'].nunique(), activation='softmax',\n",
    "                        name = 'diease_outputs')(backbone_out)\n",
    "grow_outputs = layers.Dense(1, activation='sigmoid',\n",
    "                    name = 'grow_outputs')(backbone_out)\n",
    "\n",
    "model = Model(inputs=inputs, \n",
    "              outputs=[disease_outputs, grow_outputs],\n",
    "              name='lettuce') \n",
    "\n",
    "if config.optimizer=='sgd':\n",
    "    optimizer = SGD(learning_rate=config.learning_rate)\n",
    "elif config.optimizer=='rmsprop':\n",
    "    optimizer = RMSprop(learning_rate=config.learning_rate)\n",
    "elif config.optimizer=='adam':\n",
    "    optimizer = Adam(learning_rate=config.learning_rate)\n",
    "\n",
    "es = EarlyStopping(monitor='loss',\n",
    "                   mode='auto',\n",
    "                  patience=5,\n",
    "                  verbose=1)\n",
    "\n",
    "ckpt_path = './toplayer_lettuce.ckpt'\n",
    "checkpointer = ModelCheckpoint(filepath=ckpt_path,\n",
    "                              monitor='val_loss',\n",
    "                              save_weights_only = True,\n",
    "                              save_best_only= True,\n",
    "                              verbose=1)\n",
    "    \n",
    "model.compile(loss={\n",
    "                  'diease_outputs' : 'sparse_categorical_crossentropy',\n",
    "                  'grow_outputs' : 'binary_crossentropy'\n",
    "              },\n",
    "              optimizer=optimizer,\n",
    "              metrics=['accuracy'])\n",
    "\n",
    "history = model.fit(train_generator,\n",
    "      validation_data=valid_generator,\n",
    "      verbose=1,\n",
    "      epochs=config.epochs,\n",
    "      callbacks=[es, checkpointer],\n",
    "      steps_per_epoch=len(train_df)//config.batch_size)"
   ]
  },
  {
   "cell_type": "markdown",
   "id": "ac7a2701",
   "metadata": {},
   "source": [
    "# Sweep\n",
    "finetuning freezing rate"
   ]
  },
  {
   "cell_type": "code",
   "execution_count": null,
   "id": "f01c7487",
   "metadata": {},
   "outputs": [],
   "source": [
    "def finetune() :\n",
    "    model.load_weights=ckpt_path\n",
    "    config_default = {\n",
    "        'pretrain_net': 'inception',\n",
    "        'epochs' : 1000,\n",
    "        'batch_size': 20,\n",
    "        'dropout' : 0.2,\n",
    "        'learning_rate' : 1e-3,\n",
    "        'activation': 'elu',\n",
    "        'optimizer': 'adam',\n",
    "        'dense': 32,\n",
    "        'freeze_rate' : 0.3\n",
    "    }\n",
    "    wandb.init(config=config_defaults)\n",
    "    config = wandb.config\n",
    "    \n",
    "    base_model.trainable=True\n",
    "    fine_tune_at = int(len(base_model.layers) * config.freeze_rate)\n",
    "    for layer in base_model.layers[:fine_tune_at] :\n",
    "        layer.trainable = False \n",
    "        \n",
    "    if config.optimizer=='sgd':\n",
    "        optimizer = SGD(learning_rate=config.learning_rate)\n",
    "    elif config.optimizer=='rmsprop':\n",
    "        optimizer = RMSprop(learning_rate=config.learning_rate)\n",
    "    elif config.optimizer=='adam':\n",
    "        optimizer = Adam(learning_rate=config.learning_rate)  \n",
    "        \n",
    "    model.compile(loss={\n",
    "                  'diease_outputs' : 'sparse_categorical_crossentropy',\n",
    "                  'grow_outputs' : 'binary_crossentropy'\n",
    "               },\n",
    "                optimizer=optimizer,\n",
    "                metrics=['accuracy'])\n",
    "    \n",
    "    history_fine = model.fit(train_generator,\n",
    "                              validation_data=valid_generator,\n",
    "                              verbose=1,\n",
    "                              epochs=config.epochs,\n",
    "                              callbacks=[es, WandbCallbacks()],\n",
    "                              steps_per_epoch=len(train_df)//config.batch_size)    "
   ]
  },
  {
   "cell_type": "code",
   "execution_count": null,
   "id": "0506cb76",
   "metadata": {},
   "outputs": [],
   "source": [
    "sweep_id = wandb.sweep(sweep_config, project='lettuce')"
   ]
  },
  {
   "cell_type": "code",
   "execution_count": null,
   "id": "0e95ea99",
   "metadata": {},
   "outputs": [],
   "source": [
    "wandb.agent(sweep_id, train)"
   ]
  }
 ],
 "metadata": {
  "kernelspec": {
   "display_name": "Python [conda env:smartpot]",
   "language": "python",
   "name": "conda-env-smartpot-py"
  },
  "language_info": {
   "codemirror_mode": {
    "name": "ipython",
    "version": 3
   },
   "file_extension": ".py",
   "mimetype": "text/x-python",
   "name": "python",
   "nbconvert_exporter": "python",
   "pygments_lexer": "ipython3",
   "version": "3.9.12"
  }
 },
 "nbformat": 4,
 "nbformat_minor": 5
}
