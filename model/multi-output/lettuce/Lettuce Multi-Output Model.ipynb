{
 "cells": [
  {
   "cell_type": "code",
   "execution_count": 1,
   "id": "b709f143",
   "metadata": {},
   "outputs": [],
   "source": [
    "import warnings \n",
    "warnings.filterwarnings(action='ignore')"
   ]
  },
  {
   "cell_type": "code",
   "execution_count": 2,
   "id": "78afe61c",
   "metadata": {},
   "outputs": [
    {
     "name": "stderr",
     "output_type": "stream",
     "text": [
      "2022-06-14 17:09:52.743268: I tensorflow/stream_executor/platform/default/dso_loader.cc:49] Successfully opened dynamic library libcudart.so.10.1\n"
     ]
    }
   ],
   "source": [
    "import os \n",
    "import numpy as np\n",
    "import pandas as pd\n",
    "import matplotlib.pyplot as plt\n",
    "from glob import glob\n",
    "from tqdm.auto import tqdm\n",
    "import cv2\n",
    "\n",
    "# from tensorflow.keras.applications import Densnet\n",
    "import tensorflow as tf\n",
    "from tensorflow.keras.models import Sequential, Model\n",
    "from tensorflow.keras import layers\n",
    "import tensorflow.keras as keras\n",
    "from tensorflow.data import Dataset\n",
    "\n",
    "from tensorflow.keras.optimizers import Adam, RMSprop, Nadam, SGD\n",
    "from tensorflow.keras.callbacks import ModelCheckpoint, EarlyStopping\n",
    "\n",
    "from itertools import product\n",
    "from tensorflow.keras.preprocessing.image import ImageDataGenerator\n",
    "\n",
    "from tensorflow.keras.applications import *\n",
    "from sklearn.model_selection import train_test_split\n",
    "from sklearn.preprocessing import LabelEncoder\n",
    "from skmultilearn.model_selection import iterative_train_test_split\n",
    "# from wandb.keras import WandbCallback\n",
    "# import wandb\n",
    "# wandb.init(project='smartpot',\n",
    "#           config = {\n",
    "#                     'learning_rate': 1e-4,\n",
    "#                     'epochs': 10,\n",
    "#                     'batch_size': 30,\n",
    "#                     'drop_out' : 0.5,\n",
    "#                     'dense' : 1024\n",
    "#                 })\n",
    "\n",
    "# config = wandb.config"
   ]
  },
  {
   "cell_type": "code",
   "execution_count": 3,
   "id": "7db429c9",
   "metadata": {},
   "outputs": [
    {
     "data": {
      "text/plain": [
       "'2.4.1'"
      ]
     },
     "execution_count": 3,
     "metadata": {},
     "output_type": "execute_result"
    }
   ],
   "source": [
    "tf.__version__"
   ]
  },
  {
   "cell_type": "code",
   "execution_count": 4,
   "id": "601ce2c4",
   "metadata": {},
   "outputs": [],
   "source": [
    "IMAGE_SIZE = 320\n",
    "MODEL_IMAGE_SIZE = 224\n",
    "BATCH_SIZE = 50 #################################"
   ]
  },
  {
   "cell_type": "markdown",
   "id": "696102fe",
   "metadata": {},
   "source": [
    "# Data Load"
   ]
  },
  {
   "cell_type": "code",
   "execution_count": 5,
   "id": "f3bfeec5",
   "metadata": {},
   "outputs": [
    {
     "data": {
      "text/html": [
       "<div>\n",
       "<style scoped>\n",
       "    .dataframe tbody tr th:only-of-type {\n",
       "        vertical-align: middle;\n",
       "    }\n",
       "\n",
       "    .dataframe tbody tr th {\n",
       "        vertical-align: top;\n",
       "    }\n",
       "\n",
       "    .dataframe thead th {\n",
       "        text-align: right;\n",
       "    }\n",
       "</style>\n",
       "<table border=\"1\" class=\"dataframe\">\n",
       "  <thead>\n",
       "    <tr style=\"text-align: right;\">\n",
       "      <th></th>\n",
       "      <th>image</th>\n",
       "      <th>disease</th>\n",
       "      <th>area</th>\n",
       "      <th>grow</th>\n",
       "      <th>points</th>\n",
       "      <th>original</th>\n",
       "      <th>disease-grow</th>\n",
       "    </tr>\n",
       "  </thead>\n",
       "  <tbody>\n",
       "    <tr>\n",
       "      <th>0</th>\n",
       "      <td>/home/lab38/images/상추_정상/V006_77_0_00_05_03_11...</td>\n",
       "      <td>0</td>\n",
       "      <td>3</td>\n",
       "      <td>11</td>\n",
       "      <td>[{'xtl': 2034, 'ytl': 1153, 'xbr': 2436, 'ybr'...</td>\n",
       "      <td>NaN</td>\n",
       "      <td>0-11</td>\n",
       "    </tr>\n",
       "    <tr>\n",
       "      <th>1</th>\n",
       "      <td>/home/lab38/images/상추_정상/V006_77_0_00_05_03_11...</td>\n",
       "      <td>0</td>\n",
       "      <td>3</td>\n",
       "      <td>11</td>\n",
       "      <td>[{'xtl': 1513, 'ytl': 676, 'xbr': 2325, 'ybr':...</td>\n",
       "      <td>NaN</td>\n",
       "      <td>0-11</td>\n",
       "    </tr>\n",
       "    <tr>\n",
       "      <th>2</th>\n",
       "      <td>/home/lab38/images/상추_정상/V006_77_0_00_05_03_11...</td>\n",
       "      <td>0</td>\n",
       "      <td>3</td>\n",
       "      <td>11</td>\n",
       "      <td>[{'xtl': 1438, 'ytl': 1142, 'xbr': 2442, 'ybr'...</td>\n",
       "      <td>NaN</td>\n",
       "      <td>0-11</td>\n",
       "    </tr>\n",
       "    <tr>\n",
       "      <th>3</th>\n",
       "      <td>/home/lab38/images/상추_정상/V006_77_0_00_05_03_11...</td>\n",
       "      <td>0</td>\n",
       "      <td>3</td>\n",
       "      <td>11</td>\n",
       "      <td>[{'xtl': 2269, 'ytl': 1515, 'xbr': 2991, 'ybr'...</td>\n",
       "      <td>NaN</td>\n",
       "      <td>0-11</td>\n",
       "    </tr>\n",
       "    <tr>\n",
       "      <th>4</th>\n",
       "      <td>/home/lab38/images/상추_정상/V006_77_0_00_05_03_11...</td>\n",
       "      <td>0</td>\n",
       "      <td>3</td>\n",
       "      <td>11</td>\n",
       "      <td>[{'xtl': 480, 'ytl': 170, 'xbr': 1790, 'ybr': ...</td>\n",
       "      <td>NaN</td>\n",
       "      <td>0-11</td>\n",
       "    </tr>\n",
       "  </tbody>\n",
       "</table>\n",
       "</div>"
      ],
      "text/plain": [
       "                                               image  disease  area  grow  \\\n",
       "0  /home/lab38/images/상추_정상/V006_77_0_00_05_03_11...        0     3    11   \n",
       "1  /home/lab38/images/상추_정상/V006_77_0_00_05_03_11...        0     3    11   \n",
       "2  /home/lab38/images/상추_정상/V006_77_0_00_05_03_11...        0     3    11   \n",
       "3  /home/lab38/images/상추_정상/V006_77_0_00_05_03_11...        0     3    11   \n",
       "4  /home/lab38/images/상추_정상/V006_77_0_00_05_03_11...        0     3    11   \n",
       "\n",
       "                                              points original disease-grow  \n",
       "0  [{'xtl': 2034, 'ytl': 1153, 'xbr': 2436, 'ybr'...      NaN         0-11  \n",
       "1  [{'xtl': 1513, 'ytl': 676, 'xbr': 2325, 'ybr':...      NaN         0-11  \n",
       "2  [{'xtl': 1438, 'ytl': 1142, 'xbr': 2442, 'ybr'...      NaN         0-11  \n",
       "3  [{'xtl': 2269, 'ytl': 1515, 'xbr': 2991, 'ybr'...      NaN         0-11  \n",
       "4  [{'xtl': 480, 'ytl': 170, 'xbr': 1790, 'ybr': ...      NaN         0-11  "
      ]
     },
     "execution_count": 5,
     "metadata": {},
     "output_type": "execute_result"
    }
   ],
   "source": [
    "df = pd.read_csv('../../../data/small_down_sampled_lettuce.csv')\n",
    "df.head()"
   ]
  },
  {
   "cell_type": "code",
   "execution_count": 6,
   "id": "10892c25",
   "metadata": {},
   "outputs": [
    {
     "name": "stdout",
     "output_type": "stream",
     "text": [
      "[0 1 2]\n",
      "[0 1]\n"
     ]
    }
   ],
   "source": [
    "# label encoding\n",
    "disease_encoder = LabelEncoder()\n",
    "disease_encoder.fit(df['disease'])\n",
    "df['disease'] = disease_encoder.transform(df['disease'])\n",
    "print(df['disease'].unique())\n",
    "\n",
    "grow_encoder = LabelEncoder()\n",
    "grow_encoder.fit(df['grow'])\n",
    "df['grow'] = grow_encoder.transform(df['grow'])\n",
    "print(df['grow'].unique())"
   ]
  },
  {
   "cell_type": "code",
   "execution_count": 7,
   "id": "c2baac10",
   "metadata": {},
   "outputs": [],
   "source": [
    "shuffled_df = df.sample(frac=1)"
   ]
  },
  {
   "cell_type": "code",
   "execution_count": 8,
   "id": "274574c7",
   "metadata": {},
   "outputs": [
    {
     "name": "stdout",
     "output_type": "stream",
     "text": [
      "CPU times: user 193 ms, sys: 11.1 ms, total: 204 ms\n",
      "Wall time: 174 ms\n"
     ]
    }
   ],
   "source": [
    "%%time\n",
    "X = df['image'].to_numpy().reshape(-1,1)\n",
    "Y = df[['disease', 'grow']].to_numpy()\n",
    "X_train, y_train, X_test, y_test = iterative_train_test_split(X,Y,test_size=0.20)"
   ]
  },
  {
   "cell_type": "code",
   "execution_count": 9,
   "id": "60b196ec",
   "metadata": {
    "scrolled": true
   },
   "outputs": [
    {
     "name": "stdout",
     "output_type": "stream",
     "text": [
      "2605\n"
     ]
    },
    {
     "data": {
      "text/html": [
       "<div>\n",
       "<style scoped>\n",
       "    .dataframe tbody tr th:only-of-type {\n",
       "        vertical-align: middle;\n",
       "    }\n",
       "\n",
       "    .dataframe tbody tr th {\n",
       "        vertical-align: top;\n",
       "    }\n",
       "\n",
       "    .dataframe thead th {\n",
       "        text-align: right;\n",
       "    }\n",
       "</style>\n",
       "<table border=\"1\" class=\"dataframe\">\n",
       "  <thead>\n",
       "    <tr style=\"text-align: right;\">\n",
       "      <th></th>\n",
       "      <th>image</th>\n",
       "      <th>disease</th>\n",
       "      <th>grow</th>\n",
       "    </tr>\n",
       "  </thead>\n",
       "  <tbody>\n",
       "    <tr>\n",
       "      <th>0</th>\n",
       "      <td>/home/lab38/images/상추_정상/V006_77_0_00_05_03_11...</td>\n",
       "      <td>0</td>\n",
       "      <td>1</td>\n",
       "    </tr>\n",
       "    <tr>\n",
       "      <th>1</th>\n",
       "      <td>/home/lab38/images/상추_정상/V006_77_0_00_05_03_11...</td>\n",
       "      <td>0</td>\n",
       "      <td>1</td>\n",
       "    </tr>\n",
       "    <tr>\n",
       "      <th>2</th>\n",
       "      <td>/home/lab38/images/상추_정상/V006_77_0_00_05_03_11...</td>\n",
       "      <td>0</td>\n",
       "      <td>1</td>\n",
       "    </tr>\n",
       "    <tr>\n",
       "      <th>3</th>\n",
       "      <td>/home/lab38/images/상추_정상/V006_77_0_00_05_03_11...</td>\n",
       "      <td>0</td>\n",
       "      <td>1</td>\n",
       "    </tr>\n",
       "    <tr>\n",
       "      <th>4</th>\n",
       "      <td>/home/lab38/images/상추_정상/V006_77_0_00_05_03_11...</td>\n",
       "      <td>0</td>\n",
       "      <td>1</td>\n",
       "    </tr>\n",
       "  </tbody>\n",
       "</table>\n",
       "</div>"
      ],
      "text/plain": [
       "                                               image  disease  grow\n",
       "0  /home/lab38/images/상추_정상/V006_77_0_00_05_03_11...        0     1\n",
       "1  /home/lab38/images/상추_정상/V006_77_0_00_05_03_11...        0     1\n",
       "2  /home/lab38/images/상추_정상/V006_77_0_00_05_03_11...        0     1\n",
       "3  /home/lab38/images/상추_정상/V006_77_0_00_05_03_11...        0     1\n",
       "4  /home/lab38/images/상추_정상/V006_77_0_00_05_03_11...        0     1"
      ]
     },
     "execution_count": 9,
     "metadata": {},
     "output_type": "execute_result"
    }
   ],
   "source": [
    "X_train = X_train.reshape(1,-1)\n",
    "y_train = y_train.reshape(2,-1)\n",
    "train_df = pd.DataFrame({'image':X_train[0, :],\n",
    "                         'disease' : y_train[0,:],\n",
    "                         'grow':y_train[1,:]})\n",
    "print(len(train_df))\n",
    "train_df.head()"
   ]
  },
  {
   "cell_type": "code",
   "execution_count": 10,
   "id": "3eb47cb4",
   "metadata": {},
   "outputs": [
    {
     "name": "stdout",
     "output_type": "stream",
     "text": [
      "652\n"
     ]
    },
    {
     "data": {
      "text/html": [
       "<div>\n",
       "<style scoped>\n",
       "    .dataframe tbody tr th:only-of-type {\n",
       "        vertical-align: middle;\n",
       "    }\n",
       "\n",
       "    .dataframe tbody tr th {\n",
       "        vertical-align: top;\n",
       "    }\n",
       "\n",
       "    .dataframe thead th {\n",
       "        text-align: right;\n",
       "    }\n",
       "</style>\n",
       "<table border=\"1\" class=\"dataframe\">\n",
       "  <thead>\n",
       "    <tr style=\"text-align: right;\">\n",
       "      <th></th>\n",
       "      <th>image</th>\n",
       "      <th>disease</th>\n",
       "      <th>grow</th>\n",
       "    </tr>\n",
       "  </thead>\n",
       "  <tbody>\n",
       "    <tr>\n",
       "      <th>0</th>\n",
       "      <td>/home/lab38/images/상추_정상/V006_77_0_00_05_03_11...</td>\n",
       "      <td>0</td>\n",
       "      <td>1</td>\n",
       "    </tr>\n",
       "    <tr>\n",
       "      <th>1</th>\n",
       "      <td>/home/lab38/images/상추_정상/V006_77_0_00_05_03_11...</td>\n",
       "      <td>0</td>\n",
       "      <td>1</td>\n",
       "    </tr>\n",
       "    <tr>\n",
       "      <th>2</th>\n",
       "      <td>/home/lab38/images/상추_정상/V006_77_0_00_05_03_11...</td>\n",
       "      <td>0</td>\n",
       "      <td>1</td>\n",
       "    </tr>\n",
       "    <tr>\n",
       "      <th>3</th>\n",
       "      <td>/home/lab38/images/상추_정상/V006_77_0_00_05_03_11...</td>\n",
       "      <td>0</td>\n",
       "      <td>1</td>\n",
       "    </tr>\n",
       "    <tr>\n",
       "      <th>4</th>\n",
       "      <td>/home/lab38/images/상추_정상/V006_77_0_00_05_03_11...</td>\n",
       "      <td>0</td>\n",
       "      <td>1</td>\n",
       "    </tr>\n",
       "  </tbody>\n",
       "</table>\n",
       "</div>"
      ],
      "text/plain": [
       "                                               image  disease  grow\n",
       "0  /home/lab38/images/상추_정상/V006_77_0_00_05_03_11...        0     1\n",
       "1  /home/lab38/images/상추_정상/V006_77_0_00_05_03_11...        0     1\n",
       "2  /home/lab38/images/상추_정상/V006_77_0_00_05_03_11...        0     1\n",
       "3  /home/lab38/images/상추_정상/V006_77_0_00_05_03_11...        0     1\n",
       "4  /home/lab38/images/상추_정상/V006_77_0_00_05_03_11...        0     1"
      ]
     },
     "execution_count": 10,
     "metadata": {},
     "output_type": "execute_result"
    }
   ],
   "source": [
    "X_test = X_test.reshape(1,-1)\n",
    "y_test = y_test.reshape(2,-1)\n",
    "test_df = pd.DataFrame({'image':X_test[0, :],\n",
    "                         'disease' : y_test[0,:],\n",
    "                         'grow':y_test[1,:]})\n",
    "print(len(test_df))\n",
    "test_df.head()"
   ]
  },
  {
   "cell_type": "code",
   "execution_count": 11,
   "id": "f981e509",
   "metadata": {},
   "outputs": [],
   "source": [
    "train_gen = ImageDataGenerator(rescale=1./255,\n",
    "                            rotation_range=20, # 최대 20도까지 회전\n",
    "                            width_shift_range=0.1, # 최대 x 범위안에서 좌우/상하 이동\n",
    "                            height_shift_range=0.1,\n",
    "                            zoom_range=0.2, # 확대 축소 비율,\n",
    "                            horizontal_flip=True, # 좌우반전\n",
    "                            vertical_flip=True, # 상하반전\n",
    "                            fill_mode='nearest')\n",
    "valid_gen = ImageDataGenerator(rescale= 1. /255.)"
   ]
  },
  {
   "cell_type": "code",
   "execution_count": 12,
   "id": "cd63722a",
   "metadata": {
    "scrolled": true
   },
   "outputs": [
    {
     "name": "stdout",
     "output_type": "stream",
     "text": [
      "Found 2605 validated image filenames.\n",
      "Found 652 validated image filenames.\n"
     ]
    }
   ],
   "source": [
    "train_generator = train_gen.flow_from_dataframe(train_df, \n",
    "                                               x_col='image',\n",
    "                                               y_col=['disease', 'grow'],\n",
    "                                               target_size=(IMAGE_SIZE, IMAGE_SIZE),\n",
    "                                               class_mode='multi_output',\n",
    "                                               batch_size=BATCH_SIZE)\n",
    "valid_generator = valid_gen.flow_from_dataframe(test_df,\n",
    "                                               x_col='image',\n",
    "                                               y_col=['disease','grow'],\n",
    "                                               target_size=(IMAGE_SIZE, IMAGE_SIZE),\n",
    "                                               class_mode='multi_output',\n",
    "                                               batch_size=BATCH_SIZE)"
   ]
  },
  {
   "cell_type": "markdown",
   "id": "b0a85eac",
   "metadata": {},
   "source": [
    "# Model"
   ]
  },
  {
   "cell_type": "code",
   "execution_count": 13,
   "id": "3a1d2c1c",
   "metadata": {},
   "outputs": [],
   "source": [
    "tf.keras.backend.clear_session()"
   ]
  },
  {
   "cell_type": "code",
   "execution_count": 14,
   "id": "f888f0bc",
   "metadata": {
    "scrolled": true
   },
   "outputs": [
    {
     "name": "stderr",
     "output_type": "stream",
     "text": [
      "2022-06-14 17:09:54.366507: I tensorflow/compiler/jit/xla_cpu_device.cc:41] Not creating XLA devices, tf_xla_enable_xla_devices not set\n",
      "2022-06-14 17:09:54.367601: I tensorflow/stream_executor/platform/default/dso_loader.cc:49] Successfully opened dynamic library libcuda.so.1\n",
      "2022-06-14 17:09:54.446876: I tensorflow/stream_executor/cuda/cuda_gpu_executor.cc:941] successful NUMA node read from SysFS had negative value (-1), but there must be at least one NUMA node, so returning NUMA node zero\n",
      "2022-06-14 17:09:54.447515: I tensorflow/core/common_runtime/gpu/gpu_device.cc:1720] Found device 0 with properties: \n",
      "pciBusID: 0000:00:1e.0 name: Tesla T4 computeCapability: 7.5\n",
      "coreClock: 1.59GHz coreCount: 40 deviceMemorySize: 14.75GiB deviceMemoryBandwidth: 298.08GiB/s\n",
      "2022-06-14 17:09:54.447567: I tensorflow/stream_executor/platform/default/dso_loader.cc:49] Successfully opened dynamic library libcudart.so.10.1\n",
      "2022-06-14 17:09:54.449149: I tensorflow/stream_executor/platform/default/dso_loader.cc:49] Successfully opened dynamic library libcublas.so.10\n",
      "2022-06-14 17:09:54.449234: I tensorflow/stream_executor/platform/default/dso_loader.cc:49] Successfully opened dynamic library libcublasLt.so.10\n",
      "2022-06-14 17:09:54.450693: I tensorflow/stream_executor/platform/default/dso_loader.cc:49] Successfully opened dynamic library libcufft.so.10\n",
      "2022-06-14 17:09:54.450992: I tensorflow/stream_executor/platform/default/dso_loader.cc:49] Successfully opened dynamic library libcurand.so.10\n",
      "2022-06-14 17:09:54.452480: I tensorflow/stream_executor/platform/default/dso_loader.cc:49] Successfully opened dynamic library libcusolver.so.10\n",
      "2022-06-14 17:09:54.453238: I tensorflow/stream_executor/platform/default/dso_loader.cc:49] Successfully opened dynamic library libcusparse.so.10\n",
      "2022-06-14 17:09:54.457172: I tensorflow/stream_executor/platform/default/dso_loader.cc:49] Successfully opened dynamic library libcudnn.so.7\n",
      "2022-06-14 17:09:54.457362: I tensorflow/stream_executor/cuda/cuda_gpu_executor.cc:941] successful NUMA node read from SysFS had negative value (-1), but there must be at least one NUMA node, so returning NUMA node zero\n",
      "2022-06-14 17:09:54.458016: I tensorflow/stream_executor/cuda/cuda_gpu_executor.cc:941] successful NUMA node read from SysFS had negative value (-1), but there must be at least one NUMA node, so returning NUMA node zero\n",
      "2022-06-14 17:09:54.458548: I tensorflow/core/common_runtime/gpu/gpu_device.cc:1862] Adding visible gpu devices: 0\n",
      "2022-06-14 17:09:54.459011: I tensorflow/core/platform/cpu_feature_guard.cc:142] This TensorFlow binary is optimized with oneAPI Deep Neural Network Library (oneDNN) to use the following CPU instructions in performance-critical operations:  SSE4.1 SSE4.2 AVX AVX2 AVX512F FMA\n",
      "To enable them in other operations, rebuild TensorFlow with the appropriate compiler flags.\n",
      "2022-06-14 17:09:54.459238: I tensorflow/compiler/jit/xla_gpu_device.cc:99] Not creating XLA devices, tf_xla_enable_xla_devices not set\n",
      "2022-06-14 17:09:54.459369: I tensorflow/stream_executor/cuda/cuda_gpu_executor.cc:941] successful NUMA node read from SysFS had negative value (-1), but there must be at least one NUMA node, so returning NUMA node zero\n",
      "2022-06-14 17:09:54.459952: I tensorflow/core/common_runtime/gpu/gpu_device.cc:1720] Found device 0 with properties: \n",
      "pciBusID: 0000:00:1e.0 name: Tesla T4 computeCapability: 7.5\n",
      "coreClock: 1.59GHz coreCount: 40 deviceMemorySize: 14.75GiB deviceMemoryBandwidth: 298.08GiB/s\n",
      "2022-06-14 17:09:54.459994: I tensorflow/stream_executor/platform/default/dso_loader.cc:49] Successfully opened dynamic library libcudart.so.10.1\n",
      "2022-06-14 17:09:54.460016: I tensorflow/stream_executor/platform/default/dso_loader.cc:49] Successfully opened dynamic library libcublas.so.10\n",
      "2022-06-14 17:09:54.460032: I tensorflow/stream_executor/platform/default/dso_loader.cc:49] Successfully opened dynamic library libcublasLt.so.10\n",
      "2022-06-14 17:09:54.460047: I tensorflow/stream_executor/platform/default/dso_loader.cc:49] Successfully opened dynamic library libcufft.so.10\n",
      "2022-06-14 17:09:54.460062: I tensorflow/stream_executor/platform/default/dso_loader.cc:49] Successfully opened dynamic library libcurand.so.10\n",
      "2022-06-14 17:09:54.460076: I tensorflow/stream_executor/platform/default/dso_loader.cc:49] Successfully opened dynamic library libcusolver.so.10\n",
      "2022-06-14 17:09:54.460093: I tensorflow/stream_executor/platform/default/dso_loader.cc:49] Successfully opened dynamic library libcusparse.so.10\n",
      "2022-06-14 17:09:54.460108: I tensorflow/stream_executor/platform/default/dso_loader.cc:49] Successfully opened dynamic library libcudnn.so.7\n",
      "2022-06-14 17:09:54.460173: I tensorflow/stream_executor/cuda/cuda_gpu_executor.cc:941] successful NUMA node read from SysFS had negative value (-1), but there must be at least one NUMA node, so returning NUMA node zero\n",
      "2022-06-14 17:09:54.460752: I tensorflow/stream_executor/cuda/cuda_gpu_executor.cc:941] successful NUMA node read from SysFS had negative value (-1), but there must be at least one NUMA node, so returning NUMA node zero\n",
      "2022-06-14 17:09:54.461289: I tensorflow/core/common_runtime/gpu/gpu_device.cc:1862] Adding visible gpu devices: 0\n",
      "2022-06-14 17:09:54.461331: I tensorflow/stream_executor/platform/default/dso_loader.cc:49] Successfully opened dynamic library libcudart.so.10.1\n",
      "2022-06-14 17:09:55.106680: I tensorflow/core/common_runtime/gpu/gpu_device.cc:1261] Device interconnect StreamExecutor with strength 1 edge matrix:\n",
      "2022-06-14 17:09:55.106718: I tensorflow/core/common_runtime/gpu/gpu_device.cc:1267]      0 \n",
      "2022-06-14 17:09:55.106724: I tensorflow/core/common_runtime/gpu/gpu_device.cc:1280] 0:   N \n",
      "2022-06-14 17:09:55.106997: I tensorflow/stream_executor/cuda/cuda_gpu_executor.cc:941] successful NUMA node read from SysFS had negative value (-1), but there must be at least one NUMA node, so returning NUMA node zero\n",
      "2022-06-14 17:09:55.107701: I tensorflow/stream_executor/cuda/cuda_gpu_executor.cc:941] successful NUMA node read from SysFS had negative value (-1), but there must be at least one NUMA node, so returning NUMA node zero\n",
      "2022-06-14 17:09:55.108297: I tensorflow/stream_executor/cuda/cuda_gpu_executor.cc:941] successful NUMA node read from SysFS had negative value (-1), but there must be at least one NUMA node, so returning NUMA node zero\n",
      "2022-06-14 17:09:55.108862: I tensorflow/core/common_runtime/gpu/gpu_device.cc:1406] Created TensorFlow device (/job:localhost/replica:0/task:0/device:GPU:0 with 13970 MB memory) -> physical GPU (device: 0, name: Tesla T4, pci bus id: 0000:00:1e.0, compute capability: 7.5)\n"
     ]
    }
   ],
   "source": [
    "with tf.device(\"/cpu:0\"):\n",
    "    base_model= resnet50.ResNet50(\n",
    "          weights='imagenet',\n",
    "          include_top=False,\n",
    "         )\n",
    "\n",
    "\n",
    "    base_model.trainable = False "
   ]
  },
  {
   "cell_type": "code",
   "execution_count": 15,
   "id": "45f26f23",
   "metadata": {},
   "outputs": [],
   "source": [
    "input_data = layers.Input((IMAGE_SIZE, IMAGE_SIZE, 3))\n",
    "x = tf.keras.layers.experimental.preprocessing.Resizing(MODEL_IMAGE_SIZE, MODEL_IMAGE_SIZE)(input_data)\n",
    "resizing = Model(inputs=input_data, outputs=x, name='resize')"
   ]
  },
  {
   "cell_type": "code",
   "execution_count": 21,
   "id": "0e2737a0",
   "metadata": {},
   "outputs": [],
   "source": [
    "with tf.device(\"/cpu:0\"):\n",
    "    inputs = layers.Input(shape=(IMAGE_SIZE, IMAGE_SIZE, 3))\n",
    "    x = resizing(inputs)\n",
    "    x = base_model(x, training=False)\n",
    "    x = layers.GlobalAveragePooling2D()(x)\n",
    "    x = layers.Dropout(0.5)(x)\n",
    "    backbone_out = layers.Dense(1024, activation='softmax')(x)\n",
    "\n",
    "    disease_outputs = layers.Dense(df['disease'].nunique(), activation='softmax',\n",
    "                            name = 'diease_outputs')(backbone_out)\n",
    "    grow_outputs = layers.Dense(1, activation='sigmoid',\n",
    "                        name = 'grow_outputs')(backbone_out)\n",
    "\n",
    "    model = Model(inputs=inputs, \n",
    "                  outputs=[disease_outputs, grow_outputs],\n",
    "                  name='lettuce')"
   ]
  },
  {
   "cell_type": "code",
   "execution_count": 22,
   "id": "850dc41e",
   "metadata": {},
   "outputs": [
    {
     "name": "stdout",
     "output_type": "stream",
     "text": [
      "Model: \"lettuce\"\n",
      "__________________________________________________________________________________________________\n",
      "Layer (type)                    Output Shape         Param #     Connected to                     \n",
      "==================================================================================================\n",
      "input_4 (InputLayer)            [(None, 320, 320, 3) 0                                            \n",
      "__________________________________________________________________________________________________\n",
      "resize (Functional)             (None, 224, 224, 3)  0           input_4[0][0]                    \n",
      "__________________________________________________________________________________________________\n",
      "resnet50 (Functional)           (None, None, None, 2 23587712    resize[1][0]                     \n",
      "__________________________________________________________________________________________________\n",
      "global_average_pooling2d_1 (Glo (None, 2048)         0           resnet50[1][0]                   \n",
      "__________________________________________________________________________________________________\n",
      "dropout_1 (Dropout)             (None, 2048)         0           global_average_pooling2d_1[0][0] \n",
      "__________________________________________________________________________________________________\n",
      "dense_1 (Dense)                 (None, 1024)         2098176     dropout_1[0][0]                  \n",
      "__________________________________________________________________________________________________\n",
      "diease_outputs (Dense)          (None, 3)            3075        dense_1[0][0]                    \n",
      "__________________________________________________________________________________________________\n",
      "grow_outputs (Dense)            (None, 1)            1025        dense_1[0][0]                    \n",
      "==================================================================================================\n",
      "Total params: 25,689,988\n",
      "Trainable params: 2,102,276\n",
      "Non-trainable params: 23,587,712\n",
      "__________________________________________________________________________________________________\n"
     ]
    }
   ],
   "source": [
    "model.summary()"
   ]
  },
  {
   "cell_type": "code",
   "execution_count": 18,
   "id": "d9655fc3",
   "metadata": {
    "scrolled": true
   },
   "outputs": [
    {
     "data": {
      "image/png": "[encoded data removed]",
      "text/plain": [
       "<IPython.core.display.Image object>"
      ]
     },
     "execution_count": 18,
     "metadata": {},
     "output_type": "execute_result"
    }
   ],
   "source": [
    "#keras.utils.plot_model(model, show_shapes=True)"
   ]
  },
  {
   "cell_type": "code",
   "execution_count": 23,
   "id": "73e13043",
   "metadata": {},
   "outputs": [],
   "source": [
    "model.compile(loss={\n",
    "                  'diease_outputs' : 'sparse_categorical_crossentropy',\n",
    "                  'grow_outputs' : 'binary_crossentropy'\n",
    "              },\n",
    "              optimizer=Adam(learning_rate=1e-4),\n",
    "              metrics=['accuracy']) # 필요시 f1 score metrics custom"
   ]
  },
  {
   "cell_type": "code",
   "execution_count": null,
   "id": "d9d9053d",
   "metadata": {
    "scrolled": false
   },
   "outputs": [
    {
     "name": "stdout",
     "output_type": "stream",
     "text": [
      "Epoch 1/10\n",
      "52/52 [==============================] - 570s 11s/step - loss: 1.7775 - diease_outputs_loss: 1.0939 - grow_outputs_loss: 0.6836 - diease_outputs_accuracy: 0.6428 - grow_outputs_accuracy: 0.6944 - val_loss: 1.7530 - val_diease_outputs_loss: 1.0803 - val_grow_outputs_loss: 0.6728 - val_diease_outputs_accuracy: 0.7393 - val_grow_outputs_accuracy: 1.0000\n",
      "Epoch 2/10\n",
      "52/52 [==============================] - 534s 10s/step - loss: 1.7314 - diease_outputs_loss: 1.0760 - grow_outputs_loss: 0.6553 - diease_outputs_accuracy: 0.7402 - grow_outputs_accuracy: 0.7179 - val_loss: 1.7208 - val_diease_outputs_loss: 1.0617 - val_grow_outputs_loss: 0.6590 - val_diease_outputs_accuracy: 0.7393 - val_grow_outputs_accuracy: 1.0000\n",
      "Epoch 3/10\n",
      "52/52 [==============================] - 527s 10s/step - loss: 1.6918 - diease_outputs_loss: 1.0570 - grow_outputs_loss: 0.6348 - diease_outputs_accuracy: 0.7419 - grow_outputs_accuracy: 0.7124 - val_loss: 1.6905 - val_diease_outputs_loss: 1.0429 - val_grow_outputs_loss: 0.6476 - val_diease_outputs_accuracy: 0.7393 - val_grow_outputs_accuracy: 1.0000\n",
      "Epoch 4/10\n",
      "30/52 [================>.............] - ETA: 3:08 - loss: 1.6617 - diease_outputs_loss: 1.0428 - grow_outputs_loss: 0.6189 - diease_outputs_accuracy: 0.7207 - grow_outputs_accuracy: 0.7138"
     ]
    }
   ],
   "source": [
    "model.fit(train_generator,\n",
    "      validation_data=valid_generator,\n",
    "      verbose=1,\n",
    "      epochs=10,\n",
    "      steps_per_epoch=len(train_df)//BATCH_SIZE)"
   ]
  },
  {
   "cell_type": "code",
   "execution_count": null,
   "id": "42b20c44",
   "metadata": {},
   "outputs": [],
   "source": []
  }
 ],
 "metadata": {
  "kernelspec": {
   "display_name": "Python [conda env:smartpot] *",
   "language": "python",
   "name": "conda-env-smartpot-py"
  },
  "language_info": {
   "codemirror_mode": {
    "name": "ipython",
    "version": 3
   },
   "file_extension": ".py",
   "mimetype": "text/x-python",
   "name": "python",
   "nbconvert_exporter": "python",
   "pygments_lexer": "ipython3",
   "version": "3.9.12"
  }
 },
 "nbformat": 4,
 "nbformat_minor": 5
}
