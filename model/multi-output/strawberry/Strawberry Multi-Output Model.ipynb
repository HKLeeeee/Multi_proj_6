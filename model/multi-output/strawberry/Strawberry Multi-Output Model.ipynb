{
 "cells": [
  {
   "cell_type": "code",
   "execution_count": 1,
   "id": "b709f143",
   "metadata": {},
   "outputs": [],
   "source": [
    "import warnings \n",
    "warnings.filterwarnings(action='ignore')"
   ]
  },
  {
   "cell_type": "code",
   "execution_count": 2,
   "id": "78afe61c",
   "metadata": {},
   "outputs": [
    {
     "name": "stderr",
     "output_type": "stream",
     "text": [
      "2022-06-21 22:08:28.123417: I tensorflow/stream_executor/platform/default/dso_loader.cc:49] Successfully opened dynamic library libcudart.so.10.1\n"
     ]
    }
   ],
   "source": [
    "import os \n",
    "import numpy as np\n",
    "import pandas as pd\n",
    "import matplotlib.pyplot as plt\n",
    "from glob import glob\n",
    "from tqdm.auto import tqdm\n",
    "import cv2\n",
    "\n",
    "# from tensorflow.keras.applications import Densnet\n",
    "import tensorflow as tf\n",
    "from tensorflow.keras.models import Sequential, Model\n",
    "from tensorflow.keras import layers\n",
    "import tensorflow.keras as keras\n",
    "from tensorflow.data import Dataset\n",
    "\n",
    "from tensorflow.keras.optimizers import Adam, RMSprop, Nadam, SGD\n",
    "from tensorflow.keras.callbacks import ModelCheckpoint, EarlyStopping\n",
    "\n",
    "from itertools import product\n",
    "from tensorflow.keras.preprocessing.image import ImageDataGenerator\n",
    "\n",
    "from tensorflow.keras.applications import *\n",
    "from sklearn.model_selection import train_test_split\n",
    "from sklearn.preprocessing import LabelEncoder\n",
    "from skmultilearn.model_selection import iterative_train_test_split\n",
    "from wandb.keras import WandbCallback\n",
    "import wandb"
   ]
  },
  {
   "cell_type": "code",
   "execution_count": 3,
   "id": "7db429c9",
   "metadata": {},
   "outputs": [
    {
     "data": {
      "text/plain": [
       "'2.4.1'"
      ]
     },
     "execution_count": 3,
     "metadata": {},
     "output_type": "execute_result"
    }
   ],
   "source": [
    "tf.__version__"
   ]
  },
  {
   "cell_type": "markdown",
   "id": "696102fe",
   "metadata": {},
   "source": [
    "# Data Load"
   ]
  },
  {
   "cell_type": "code",
   "execution_count": 4,
   "id": "f3bfeec5",
   "metadata": {
    "scrolled": true
   },
   "outputs": [
    {
     "data": {
      "text/html": [
       "<div>\n",
       "<style scoped>\n",
       "    .dataframe tbody tr th:only-of-type {\n",
       "        vertical-align: middle;\n",
       "    }\n",
       "\n",
       "    .dataframe tbody tr th {\n",
       "        vertical-align: top;\n",
       "    }\n",
       "\n",
       "    .dataframe thead th {\n",
       "        text-align: right;\n",
       "    }\n",
       "</style>\n",
       "<table border=\"1\" class=\"dataframe\">\n",
       "  <thead>\n",
       "    <tr style=\"text-align: right;\">\n",
       "      <th></th>\n",
       "      <th>image</th>\n",
       "      <th>grow</th>\n",
       "      <th>disease</th>\n",
       "      <th>area</th>\n",
       "      <th>points</th>\n",
       "      <th>original</th>\n",
       "      <th>disease-grow</th>\n",
       "    </tr>\n",
       "  </thead>\n",
       "  <tbody>\n",
       "    <tr>\n",
       "      <th>0</th>\n",
       "      <td>/home/lab38/딸기/Strawberry Pest Damage_3.jpg</td>\n",
       "      <td>5</td>\n",
       "      <td>11</td>\n",
       "      <td>NaN</td>\n",
       "      <td>NaN</td>\n",
       "      <td>NaN</td>\n",
       "      <td>11-5</td>\n",
       "    </tr>\n",
       "    <tr>\n",
       "      <th>1</th>\n",
       "      <td>/home/lab38/딸기/Strawberry Pest Damage_727.jpg</td>\n",
       "      <td>2</td>\n",
       "      <td>11</td>\n",
       "      <td>NaN</td>\n",
       "      <td>NaN</td>\n",
       "      <td>NaN</td>\n",
       "      <td>11-2</td>\n",
       "    </tr>\n",
       "    <tr>\n",
       "      <th>2</th>\n",
       "      <td>/home/lab38/딸기/Strawberry Pest Damage_487.jpg</td>\n",
       "      <td>5</td>\n",
       "      <td>11</td>\n",
       "      <td>NaN</td>\n",
       "      <td>NaN</td>\n",
       "      <td>NaN</td>\n",
       "      <td>11-5</td>\n",
       "    </tr>\n",
       "    <tr>\n",
       "      <th>3</th>\n",
       "      <td>/home/lab38/딸기/Strawberry Pest Damage_124.jpg</td>\n",
       "      <td>5</td>\n",
       "      <td>11</td>\n",
       "      <td>NaN</td>\n",
       "      <td>NaN</td>\n",
       "      <td>NaN</td>\n",
       "      <td>11-5</td>\n",
       "    </tr>\n",
       "    <tr>\n",
       "      <th>4</th>\n",
       "      <td>/home/lab38/딸기/Strawberry Pest Damage_70.jpg</td>\n",
       "      <td>5</td>\n",
       "      <td>11</td>\n",
       "      <td>NaN</td>\n",
       "      <td>NaN</td>\n",
       "      <td>NaN</td>\n",
       "      <td>11-5</td>\n",
       "    </tr>\n",
       "  </tbody>\n",
       "</table>\n",
       "</div>"
      ],
      "text/plain": [
       "                                           image  grow  disease  area points  \\\n",
       "0    /home/lab38/딸기/Strawberry Pest Damage_3.jpg     5       11   NaN    NaN   \n",
       "1  /home/lab38/딸기/Strawberry Pest Damage_727.jpg     2       11   NaN    NaN   \n",
       "2  /home/lab38/딸기/Strawberry Pest Damage_487.jpg     5       11   NaN    NaN   \n",
       "3  /home/lab38/딸기/Strawberry Pest Damage_124.jpg     5       11   NaN    NaN   \n",
       "4   /home/lab38/딸기/Strawberry Pest Damage_70.jpg     5       11   NaN    NaN   \n",
       "\n",
       "  original disease-grow  \n",
       "0      NaN         11-5  \n",
       "1      NaN         11-2  \n",
       "2      NaN         11-5  \n",
       "3      NaN         11-5  \n",
       "4      NaN         11-5  "
      ]
     },
     "execution_count": 4,
     "metadata": {},
     "output_type": "execute_result"
    }
   ],
   "source": [
    "df = pd.read_csv('/home/lab38/Multi_proj_6/data/straw_smallsizeimg_with_pest.csv')\n",
    "df.head()"
   ]
  },
  {
   "cell_type": "code",
   "execution_count": 5,
   "id": "10892c25",
   "metadata": {},
   "outputs": [
    {
     "name": "stdout",
     "output_type": "stream",
     "text": [
      "[3 0 1 2]\n",
      "[4 1 3 0 2]\n"
     ]
    }
   ],
   "source": [
    "# label encoding\n",
    "disease_encoder = LabelEncoder()\n",
    "disease_encoder.fit(df['disease'])\n",
    "df['disease'] = disease_encoder.transform(df['disease'])\n",
    "print(df['disease'].unique())\n",
    "\n",
    "grow_encoder = LabelEncoder()\n",
    "grow_encoder.fit(df['grow'])\n",
    "df['grow'] = grow_encoder.transform(df['grow'])\n",
    "print(df['grow'].unique())"
   ]
  },
  {
   "cell_type": "code",
   "execution_count": 6,
   "id": "c2baac10",
   "metadata": {},
   "outputs": [],
   "source": [
    "shuffled_df = df.sample(frac=1)"
   ]
  },
  {
   "cell_type": "code",
   "execution_count": 7,
   "id": "3a6e0911",
   "metadata": {},
   "outputs": [],
   "source": [
    "X_train, X_test, y_train, y_test = train_test_split(df['image'],\n",
    "                                                   df['disease-grow'],\n",
    "                                                   stratify=df['disease-grow'],\n",
    "                                                   test_size=0.2)"
   ]
  },
  {
   "cell_type": "code",
   "execution_count": 8,
   "id": "5cc097c7",
   "metadata": {},
   "outputs": [],
   "source": [
    "train_df = df[df['image'].isin(X_train)]\n",
    "test_df = df[df['image'].isin(X_test)]"
   ]
  },
  {
   "cell_type": "code",
   "execution_count": 9,
   "id": "7aafd140",
   "metadata": {},
   "outputs": [
    {
     "name": "stdout",
     "output_type": "stream",
     "text": [
      "[3 0 1 2]\n",
      "[4 1 3 0 2]\n",
      "[3 0 1 2]\n",
      "[4 1 0 3 2]\n"
     ]
    }
   ],
   "source": [
    "print(train_df['disease'].unique())\n",
    "print(train_df['grow'].unique())\n",
    "print(test_df['disease'].unique())\n",
    "print(test_df['grow'].unique())"
   ]
  },
  {
   "cell_type": "code",
   "execution_count": 10,
   "id": "f981e509",
   "metadata": {},
   "outputs": [],
   "source": [
    "train_gen = ImageDataGenerator(rescale=1./255,\n",
    "                            rotation_range=20, # 최대 20도까지 회전\n",
    "                            width_shift_range=0.1, # 최대 x 범위안에서 좌우/상하 이동\n",
    "                            height_shift_range=0.1,\n",
    "                            zoom_range=0.2, # 확대 축소 비율,\n",
    "                            horizontal_flip=True, # 좌우반전\n",
    "                            vertical_flip=True, # 상하반전\n",
    "                            fill_mode='nearest')\n",
    "valid_gen = ImageDataGenerator(rescale= 1. /255.)"
   ]
  },
  {
   "cell_type": "markdown",
   "id": "b0a85eac",
   "metadata": {},
   "source": [
    "# Model Top layer 학습"
   ]
  },
  {
   "cell_type": "code",
   "execution_count": 11,
   "id": "3a1d2c1c",
   "metadata": {},
   "outputs": [
    {
     "name": "stderr",
     "output_type": "stream",
     "text": [
      "Failed to detect the name of this notebook, you can set it manually with the WANDB_NOTEBOOK_NAME environment variable to enable code saving.\n",
      "\u001b[34m\u001b[1mwandb\u001b[0m: Currently logged in as: \u001b[33mhkleee\u001b[0m. Use \u001b[1m`wandb login --relogin`\u001b[0m to force relogin\n"
     ]
    },
    {
     "data": {
      "text/html": [
       "Tracking run with wandb version 0.12.18"
      ],
      "text/plain": [
       "<IPython.core.display.HTML object>"
      ]
     },
     "metadata": {},
     "output_type": "display_data"
    },
    {
     "data": {
      "text/html": [
       "Run data is saved locally in <code>/home/lab38/Multi_proj_6/model/multi-output/strawberry/wandb/run-20220621_205042-3tn02v80</code>"
      ],
      "text/plain": [
       "<IPython.core.display.HTML object>"
      ]
     },
     "metadata": {},
     "output_type": "display_data"
    },
    {
     "data": {
      "text/html": [
       "Syncing run <strong><a href=\"https://wandb.ai/hkleee/strawberry/runs/3tn02v80\" target=\"_blank\">exalted-flower-96</a></strong> to <a href=\"https://wandb.ai/hkleee/strawberry\" target=\"_blank\">Weights & Biases</a> (<a href=\"https://wandb.me/run\" target=\"_blank\">docs</a>)<br/>"
      ],
      "text/plain": [
       "<IPython.core.display.HTML object>"
      ]
     },
     "metadata": {},
     "output_type": "display_data"
    },
    {
     "name": "stderr",
     "output_type": "stream",
     "text": [
      "\n",
      "KeyboardInterrupt\n",
      "\n"
     ]
    }
   ],
   "source": [
    "config_default = {\n",
    "    'pretrain_net': 'inception',\n",
    "    'epochs' : 1000,\n",
    "    'batch_size': 20,\n",
    "    'dropout' : 0.2,\n",
    "    'learning_rate' : 1e-3,\n",
    "    'activation': 'elu',\n",
    "    'optimizer': 'adam',\n",
    "    'dense': 32,\n",
    "}\n",
    "wandb.init(project='strawberry',\n",
    "          config=config_default)\n",
    "config = wandb.config\n",
    "\n",
    "train_generator = train_gen.flow_from_dataframe(train_df, \n",
    "                                           x_col='image',\n",
    "                                           y_col=['disease', 'grow'],\n",
    "                                           target_size=(IMAGE_SIZE, IMAGE_SIZE),\n",
    "                                           class_mode='multi_output',\n",
    "                                           batch_size=config.batch_size)\n",
    "valid_generator = valid_gen.flow_from_dataframe(test_df,\n",
    "                                           x_col='image',\n",
    "                                           y_col=['disease','grow'],\n",
    "                                           target_size=(IMAGE_SIZE, IMAGE_SIZE),\n",
    "                                           class_mode='multi_output',\n",
    "                                           batch_size=config.batch_size)\n",
    "\n",
    "if config.pretrain_net == 'inception' :\n",
    "    MODEL_IMAGE_SIZE = 299\n",
    "    base_model = inception_resnet_v2.InceptionResNetV2(\n",
    "        weights='imagenet',\n",
    "        include_top = False,\n",
    "        input_shape = (MODEL_IMAGE_SIZE, MODEL_IMAGE_SIZE,3)\n",
    "    )\n",
    "base_model.trainable = False \n",
    "\n",
    "# resizing model\n",
    "input_data = layers.Input((IMAGE_SIZE, IMAGE_SIZE, 3))\n",
    "x = tf.keras.layers.experimental.preprocessing.Resizing(MODEL_IMAGE_SIZE, MODEL_IMAGE_SIZE)(input_data)\n",
    "resizing = Model(inputs=input_data, outputs=x, name='resize')\n",
    "\n",
    "# model\n",
    "inputs = layers.Input(shape=(IMAGE_SIZE, IMAGE_SIZE, 3))\n",
    "x = resizing(inputs)\n",
    "x = base_model(x, training=False)\n",
    "x = layers.GlobalAveragePooling2D()(x)\n",
    "x = layers.Dropout(config.dropout)(x)\n",
    "backbone_out = layers.Dense(config.dense, activation=config.activation)(x)\n",
    "\n",
    "disease_outputs = layers.Dense(df['disease'].nunique(), activation='softmax',\n",
    "                        name = 'diease_outputs')(backbone_out)\n",
    "grow_outputs = layers.Dense(df['grow'].nunique(), activation='softmax',\n",
    "                    name = 'grow_outputs')(backbone_out)\n",
    "\n",
    "model = Model(inputs=inputs, \n",
    "              outputs=[disease_outputs, grow_outputs],\n",
    "              name='strawberry')   \n",
    "\n",
    "if config.optimizer=='adam':\n",
    "    optimizer = Adam(learning_rate=config.learning_rate)\n",
    "\n",
    "es = EarlyStopping(monitor='loss',\n",
    "                   mode='auto',\n",
    "                  patience=5,\n",
    "                  verbose=1)\n",
    "\n",
    "ckpt_path = './toplayer_strawberry.ckpt'\n",
    "checkpointer = ModelCheckpoint(filepath=ckpt_path,\n",
    "                              monitor='val_loss',\n",
    "                              save_weights_only = True,\n",
    "                              save_best_only= True,\n",
    "                              verbose=1)\n",
    "\n",
    "model.compile(loss={\n",
    "              'diease_outputs' : 'sparse_categorical_crossentropy',\n",
    "              'grow_outputs' : 'sparse_categorical_crossentropy'\n",
    "              },\n",
    "              optimizer=optimizer,\n",
    "              metrics=['accuracy'])    \n",
    "\n",
    "model.load_weights(ckpt_path)\n",
    "history = model.fit(train_generator,\n",
    "      validation_data=valid_generator,\n",
    "      verbose=1,\n",
    "      epochs=config.epochs,\n",
    "      initial_epoch=6,\n",
    "      callbacks=[es, checkpointer],\n",
    "      steps_per_epoch=len(train_df)//config.batch_size)"
   ]
  },
  {
   "cell_type": "markdown",
   "id": "e47789fc",
   "metadata": {},
   "source": [
    "42에서 early stopping"
   ]
  },
  {
   "cell_type": "markdown",
   "id": "18efe002",
   "metadata": {},
   "source": [
    "# Fine Tuning\n",
    "### Sweep\n",
    "finetuning freezing rate"
   ]
  },
  {
   "cell_type": "code",
   "execution_count": 11,
   "id": "299008b1",
   "metadata": {},
   "outputs": [],
   "source": [
    "start = 42\n",
    "IMAGE_SIZE=320"
   ]
  },
  {
   "cell_type": "code",
   "execution_count": 12,
   "id": "c5ce8832",
   "metadata": {},
   "outputs": [],
   "source": [
    "def finetune():\n",
    "    config_default = {\n",
    "        'pretrain_net': 'inception',\n",
    "        'epochs' : 1000,\n",
    "        'batch_size': 20,\n",
    "        'dropout' : 0.2,\n",
    "        'learning_rate' : 1e-3,\n",
    "        'activation': 'elu',\n",
    "        'optimizer': 'adam',\n",
    "        'dense': 32,\n",
    "        'freeze_rate' : 0.3\n",
    "    }\n",
    "    wandb.init(config=config_default, project='strawberry')\n",
    "    config = wandb.config\n",
    "    # generator load\n",
    "    train_generator = train_gen.flow_from_dataframe(train_df, \n",
    "                                           x_col='image',\n",
    "                                           y_col=['disease', 'grow'],\n",
    "                                           target_size=(IMAGE_SIZE, IMAGE_SIZE),\n",
    "                                           class_mode='multi_output',\n",
    "                                           batch_size=config.batch_size)\n",
    "    valid_generator = valid_gen.flow_from_dataframe(test_df,\n",
    "                                               x_col='image',\n",
    "                                               y_col=['disease','grow'],\n",
    "                                               target_size=(IMAGE_SIZE, IMAGE_SIZE),\n",
    "                                               class_mode='multi_output',\n",
    "                                               batch_size=config.batch_size)\n",
    "    \n",
    "    ############################ model 구성 #################################\n",
    "    if config.pretrain_net == 'inception' :\n",
    "        MODEL_IMAGE_SIZE = 299\n",
    "        base_model = inception_resnet_v2.InceptionResNetV2(\n",
    "            weights='imagenet',\n",
    "            include_top = False,\n",
    "            input_shape = (MODEL_IMAGE_SIZE, MODEL_IMAGE_SIZE,3)\n",
    "        )\n",
    "    # resizing model\n",
    "    input_data = layers.Input((IMAGE_SIZE, IMAGE_SIZE, 3))\n",
    "    x = tf.keras.layers.experimental.preprocessing.Resizing(MODEL_IMAGE_SIZE, MODEL_IMAGE_SIZE)(input_data)\n",
    "    resizing = Model(inputs=input_data, outputs=x, name='resize')\n",
    "\n",
    "    # model\n",
    "    inputs = layers.Input(shape=(IMAGE_SIZE, IMAGE_SIZE, 3))\n",
    "    x = resizing(inputs)\n",
    "    x = base_model(x, training=False)\n",
    "    x = layers.GlobalAveragePooling2D()(x)\n",
    "    x = layers.Dropout(config.dropout)(x)\n",
    "    backbone_out = layers.Dense(config.dense, activation=config.activation)(x)\n",
    "\n",
    "    disease_outputs = layers.Dense(df['disease'].nunique(), activation='softmax',\n",
    "                            name = 'diease_outputs')(backbone_out)\n",
    "    grow_outputs = layers.Dense(df['grow'].nunique(), activation='softmax',\n",
    "                        name = 'grow_outputs')(backbone_out)\n",
    "\n",
    "    model = Model(inputs=inputs, \n",
    "                  outputs=[disease_outputs, grow_outputs],\n",
    "                  name='strawberry')   \n",
    "    ###########################################################################3\n",
    "    \n",
    "    ####### top layer weight & bias loading ######\n",
    "    try :\n",
    "        ckpt_path = './toplayer_strawberry.ckpt'\n",
    "        model.load_weights=ckpt_path\n",
    "    except :\n",
    "        print('fail to load weights')\n",
    "        \n",
    "    ############### 동결 해제 ###################\n",
    "    base_model.trainable=True\n",
    "    fine_tune_at = int(len(base_model.layers) * config.freeze_rate)\n",
    "    for layer in base_model.layers[:fine_tune_at] :\n",
    "        layer.trainable = False  \n",
    "    model.compile(optimizer=Adam(config.learning_rate/10),  ## compile\n",
    "                  loss={\n",
    "                      'diease_outputs' : 'sparse_categorical_crossentropy',\n",
    "                      'grow_outputs' : 'sparse_categorical_crossentropy'\n",
    "                    },\n",
    "                    metrics=['accuracy'])\n",
    "    \n",
    "    es = EarlyStopping(monitor='loss',\n",
    "                   mode='auto',\n",
    "                  patience=5,\n",
    "                  verbose=1)\n",
    "    \n",
    "    ## finetuning\n",
    "    history_fine = model.fit(train_generator,\n",
    "                              validation_data=valid_generator,\n",
    "                              verbose=1,\n",
    "                              epochs=config.epochs,\n",
    "                              initial_epoch = start,\n",
    "                              callbacks=[es, WandbCallback()],  # model save at wandb\n",
    "                              steps_per_epoch=len(train_df)//config.batch_size)\n",
    "    "
   ]
  },
  {
   "cell_type": "code",
   "execution_count": 13,
   "id": "ede2e359",
   "metadata": {},
   "outputs": [],
   "source": [
    "sweep_config = {\n",
    "    'method': 'random', #grid, random\n",
    "    'metric': {\n",
    "      'name': 'val_loss',\n",
    "      'goal': 'minimize'   \n",
    "    },\n",
    "    'parameters': {\n",
    "        'freeze_rate': {\n",
    "            'values': [0, 0.2, 0.5, 0.9]\n",
    "        }\n",
    "    }\n",
    "}"
   ]
  },
  {
   "cell_type": "code",
   "execution_count": 14,
   "id": "42b20c44",
   "metadata": {
    "scrolled": true
   },
   "outputs": [
    {
     "name": "stderr",
     "output_type": "stream",
     "text": [
      "Failed to detect the name of this notebook, you can set it manually with the WANDB_NOTEBOOK_NAME environment variable to enable code saving.\n"
     ]
    },
    {
     "name": "stdout",
     "output_type": "stream",
     "text": [
      "Create sweep with ID: qvycddps\n",
      "Sweep URL: https://wandb.ai/hkleee/strawberry/sweeps/qvycddps\n"
     ]
    }
   ],
   "source": [
    "sweep_id = wandb.sweep(sweep_config, project='strawberry')"
   ]
  },
  {
   "cell_type": "code",
   "execution_count": null,
   "id": "798ced5a",
   "metadata": {},
   "outputs": [
    {
     "name": "stderr",
     "output_type": "stream",
     "text": [
      "\u001b[34m\u001b[1mwandb\u001b[0m: Agent Starting Run: ktaacbzj with config:\n",
      "\u001b[34m\u001b[1mwandb\u001b[0m: \tfreeze_rate: 0.2\n",
      "Failed to detect the name of this notebook, you can set it manually with the WANDB_NOTEBOOK_NAME environment variable to enable code saving.\n",
      "\u001b[34m\u001b[1mwandb\u001b[0m: Currently logged in as: \u001b[33mhkleee\u001b[0m. Use \u001b[1m`wandb login --relogin`\u001b[0m to force relogin\n",
      "\u001b[34m\u001b[1mwandb\u001b[0m: \u001b[33mWARNING\u001b[0m Ignored wandb.init() arg project when running a sweep.\n"
     ]
    },
    {
     "data": {
      "text/html": [
       "Tracking run with wandb version 0.12.18"
      ],
      "text/plain": [
       "<IPython.core.display.HTML object>"
      ]
     },
     "metadata": {},
     "output_type": "display_data"
    },
    {
     "data": {
      "text/html": [
       "Run data is saved locally in <code>/home/lab38/Multi_proj_6/model/multi-output/strawberry/wandb/run-20220621_220903-ktaacbzj</code>"
      ],
      "text/plain": [
       "<IPython.core.display.HTML object>"
      ]
     },
     "metadata": {},
     "output_type": "display_data"
    },
    {
     "data": {
      "text/html": [
       "Syncing run <strong><a href=\"https://wandb.ai/hkleee/strawberry/runs/ktaacbzj\" target=\"_blank\">happy-sweep-1</a></strong> to <a href=\"https://wandb.ai/hkleee/strawberry\" target=\"_blank\">Weights & Biases</a> (<a href=\"https://wandb.me/run\" target=\"_blank\">docs</a>)<br/>Sweep page:  <a href=\"https://wandb.ai/hkleee/strawberry/sweeps/qvycddps\" target=\"_blank\">https://wandb.ai/hkleee/strawberry/sweeps/qvycddps</a>"
      ],
      "text/plain": [
       "<IPython.core.display.HTML object>"
      ]
     },
     "metadata": {},
     "output_type": "display_data"
    },
    {
     "name": "stdout",
     "output_type": "stream",
     "text": [
      "Found 13437 validated image filenames.\n",
      "Found 3360 validated image filenames.\n"
     ]
    },
    {
     "name": "stderr",
     "output_type": "stream",
     "text": [
      "2022-06-21 22:09:09.112541: I tensorflow/compiler/jit/xla_cpu_device.cc:41] Not creating XLA devices, tf_xla_enable_xla_devices not set\n",
      "2022-06-21 22:09:09.113701: I tensorflow/stream_executor/platform/default/dso_loader.cc:49] Successfully opened dynamic library libcuda.so.1\n",
      "2022-06-21 22:09:09.158747: I tensorflow/stream_executor/cuda/cuda_gpu_executor.cc:941] successful NUMA node read from SysFS had negative value (-1), but there must be at least one NUMA node, so returning NUMA node zero\n",
      "2022-06-21 22:09:09.159400: I tensorflow/core/common_runtime/gpu/gpu_device.cc:1720] Found device 0 with properties: \n",
      "pciBusID: 0000:00:1e.0 name: Tesla T4 computeCapability: 7.5\n",
      "coreClock: 1.59GHz coreCount: 40 deviceMemorySize: 14.75GiB deviceMemoryBandwidth: 298.08GiB/s\n",
      "2022-06-21 22:09:09.159449: I tensorflow/stream_executor/platform/default/dso_loader.cc:49] Successfully opened dynamic library libcudart.so.10.1\n",
      "2022-06-21 22:09:09.239932: I tensorflow/stream_executor/platform/default/dso_loader.cc:49] Successfully opened dynamic library libcublas.so.10\n",
      "2022-06-21 22:09:09.240092: I tensorflow/stream_executor/platform/default/dso_loader.cc:49] Successfully opened dynamic library libcublasLt.so.10\n",
      "2022-06-21 22:09:09.282091: I tensorflow/stream_executor/platform/default/dso_loader.cc:49] Successfully opened dynamic library libcufft.so.10\n",
      "2022-06-21 22:09:09.291954: I tensorflow/stream_executor/platform/default/dso_loader.cc:49] Successfully opened dynamic library libcurand.so.10\n",
      "2022-06-21 22:09:09.369251: I tensorflow/stream_executor/platform/default/dso_loader.cc:49] Successfully opened dynamic library libcusolver.so.10\n",
      "2022-06-21 22:09:09.379157: I tensorflow/stream_executor/platform/default/dso_loader.cc:49] Successfully opened dynamic library libcusparse.so.10\n",
      "2022-06-21 22:09:09.521807: I tensorflow/stream_executor/platform/default/dso_loader.cc:49] Successfully opened dynamic library libcudnn.so.7\n",
      "2022-06-21 22:09:09.522068: I tensorflow/stream_executor/cuda/cuda_gpu_executor.cc:941] successful NUMA node read from SysFS had negative value (-1), but there must be at least one NUMA node, so returning NUMA node zero\n",
      "2022-06-21 22:09:09.522782: I tensorflow/stream_executor/cuda/cuda_gpu_executor.cc:941] successful NUMA node read from SysFS had negative value (-1), but there must be at least one NUMA node, so returning NUMA node zero\n",
      "2022-06-21 22:09:09.523321: I tensorflow/core/common_runtime/gpu/gpu_device.cc:1862] Adding visible gpu devices: 0\n",
      "2022-06-21 22:09:09.524442: I tensorflow/core/platform/cpu_feature_guard.cc:142] This TensorFlow binary is optimized with oneAPI Deep Neural Network Library (oneDNN) to use the following CPU instructions in performance-critical operations:  SSE4.1 SSE4.2 AVX AVX2 AVX512F FMA\n",
      "To enable them in other operations, rebuild TensorFlow with the appropriate compiler flags.\n",
      "2022-06-21 22:09:09.524678: I tensorflow/compiler/jit/xla_gpu_device.cc:99] Not creating XLA devices, tf_xla_enable_xla_devices not set\n",
      "2022-06-21 22:09:09.524845: I tensorflow/stream_executor/cuda/cuda_gpu_executor.cc:941] successful NUMA node read from SysFS had negative value (-1), but there must be at least one NUMA node, so returning NUMA node zero\n",
      "2022-06-21 22:09:09.525417: I tensorflow/core/common_runtime/gpu/gpu_device.cc:1720] Found device 0 with properties: \n",
      "pciBusID: 0000:00:1e.0 name: Tesla T4 computeCapability: 7.5\n",
      "coreClock: 1.59GHz coreCount: 40 deviceMemorySize: 14.75GiB deviceMemoryBandwidth: 298.08GiB/s\n",
      "2022-06-21 22:09:09.525479: I tensorflow/stream_executor/platform/default/dso_loader.cc:49] Successfully opened dynamic library libcudart.so.10.1\n",
      "2022-06-21 22:09:09.525508: I tensorflow/stream_executor/platform/default/dso_loader.cc:49] Successfully opened dynamic library libcublas.so.10\n",
      "2022-06-21 22:09:09.525524: I tensorflow/stream_executor/platform/default/dso_loader.cc:49] Successfully opened dynamic library libcublasLt.so.10\n",
      "2022-06-21 22:09:09.525539: I tensorflow/stream_executor/platform/default/dso_loader.cc:49] Successfully opened dynamic library libcufft.so.10\n",
      "2022-06-21 22:09:09.525554: I tensorflow/stream_executor/platform/default/dso_loader.cc:49] Successfully opened dynamic library libcurand.so.10\n",
      "2022-06-21 22:09:09.525568: I tensorflow/stream_executor/platform/default/dso_loader.cc:49] Successfully opened dynamic library libcusolver.so.10\n",
      "2022-06-21 22:09:09.525585: I tensorflow/stream_executor/platform/default/dso_loader.cc:49] Successfully opened dynamic library libcusparse.so.10\n",
      "2022-06-21 22:09:09.525600: I tensorflow/stream_executor/platform/default/dso_loader.cc:49] Successfully opened dynamic library libcudnn.so.7\n",
      "2022-06-21 22:09:09.525666: I tensorflow/stream_executor/cuda/cuda_gpu_executor.cc:941] successful NUMA node read from SysFS had negative value (-1), but there must be at least one NUMA node, so returning NUMA node zero\n",
      "2022-06-21 22:09:09.526267: I tensorflow/stream_executor/cuda/cuda_gpu_executor.cc:941] successful NUMA node read from SysFS had negative value (-1), but there must be at least one NUMA node, so returning NUMA node zero\n",
      "2022-06-21 22:09:09.526793: I tensorflow/core/common_runtime/gpu/gpu_device.cc:1862] Adding visible gpu devices: 0\n",
      "2022-06-21 22:09:09.528027: I tensorflow/stream_executor/platform/default/dso_loader.cc:49] Successfully opened dynamic library libcudart.so.10.1\n",
      "2022-06-21 22:09:11.508263: I tensorflow/core/common_runtime/gpu/gpu_device.cc:1261] Device interconnect StreamExecutor with strength 1 edge matrix:\n",
      "2022-06-21 22:09:11.508295: I tensorflow/core/common_runtime/gpu/gpu_device.cc:1267]      0 \n",
      "2022-06-21 22:09:11.508303: I tensorflow/core/common_runtime/gpu/gpu_device.cc:1280] 0:   N \n",
      "2022-06-21 22:09:11.509435: I tensorflow/stream_executor/cuda/cuda_gpu_executor.cc:941] successful NUMA node read from SysFS had negative value (-1), but there must be at least one NUMA node, so returning NUMA node zero\n",
      "2022-06-21 22:09:11.510105: I tensorflow/stream_executor/cuda/cuda_gpu_executor.cc:941] successful NUMA node read from SysFS had negative value (-1), but there must be at least one NUMA node, so returning NUMA node zero\n",
      "2022-06-21 22:09:11.510674: I tensorflow/stream_executor/cuda/cuda_gpu_executor.cc:941] successful NUMA node read from SysFS had negative value (-1), but there must be at least one NUMA node, so returning NUMA node zero\n",
      "2022-06-21 22:09:11.511205: I tensorflow/core/common_runtime/gpu/gpu_device.cc:1406] Created TensorFlow device (/job:localhost/replica:0/task:0/device:GPU:0 with 13970 MB memory) -> physical GPU (device: 0, name: Tesla T4, pci bus id: 0000:00:1e.0, compute capability: 7.5)\n",
      "\u001b[34m\u001b[1mwandb\u001b[0m: \u001b[33mWARNING\u001b[0m The save_model argument by default saves the model in the HDF5 format that cannot save custom objects like subclassed models and custom layers. This behavior will be deprecated in a future release in favor of the SavedModel format. Meanwhile, the HDF5 model is saved as W&B files and the SavedModel as W&B Artifacts.\n",
      "2022-06-21 22:09:18.403399: I tensorflow/compiler/mlir/mlir_graph_optimization_pass.cc:116] None of the MLIR optimization passes are enabled (registered 2)\n",
      "2022-06-21 22:09:18.424284: I tensorflow/core/platform/profile_utils/cpu_utils.cc:112] CPU Frequency: 2499995000 Hz\n"
     ]
    },
    {
     "name": "stdout",
     "output_type": "stream",
     "text": [
      "Epoch 43/1000\n"
     ]
    },
    {
     "name": "stderr",
     "output_type": "stream",
     "text": [
      "2022-06-21 22:09:31.870922: I tensorflow/stream_executor/platform/default/dso_loader.cc:49] Successfully opened dynamic library libcublas.so.10\n",
      "2022-06-21 22:09:32.587693: I tensorflow/stream_executor/platform/default/dso_loader.cc:49] Successfully opened dynamic library libcudnn.so.7\n"
     ]
    },
    {
     "name": "stdout",
     "output_type": "stream",
     "text": [
      "671/671 [==============================] - 433s 618ms/step - loss: 1.2726 - diease_outputs_loss: 0.4769 - grow_outputs_loss: 0.7957 - diease_outputs_accuracy: 0.8212 - grow_outputs_accuracy: 0.6669 - val_loss: 0.7805 - val_diease_outputs_loss: 0.2546 - val_grow_outputs_loss: 0.5258 - val_diease_outputs_accuracy: 0.9104 - val_grow_outputs_accuracy: 0.7896\n",
      "Epoch 44/1000\n",
      "643/671 [===========================>..] - ETA: 15s - loss: 0.6472 - diease_outputs_loss: 0.1590 - grow_outputs_loss: 0.4882 - diease_outputs_accuracy: 0.9445 - grow_outputs_accuracy: 0.8033"
     ]
    }
   ],
   "source": [
    "wandb.agent(sweep_id, finetune)"
   ]
  },
  {
   "cell_type": "code",
   "execution_count": null,
   "id": "f707f10e",
   "metadata": {},
   "outputs": [],
   "source": []
  }
 ],
 "metadata": {
  "kernelspec": {
   "display_name": "Python [conda env:smartpot]",
   "language": "python",
   "name": "conda-env-smartpot-py"
  },
  "language_info": {
   "codemirror_mode": {
    "name": "ipython",
    "version": 3
   },
   "file_extension": ".py",
   "mimetype": "text/x-python",
   "name": "python",
   "nbconvert_exporter": "python",
   "pygments_lexer": "ipython3",
   "version": "3.9.12"
  }
 },
 "nbformat": 4,
 "nbformat_minor": 5
}
