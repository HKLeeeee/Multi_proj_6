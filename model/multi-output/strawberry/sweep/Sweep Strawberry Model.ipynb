{
 "cells": [
  {
   "cell_type": "code",
   "execution_count": 1,
   "id": "b709f143",
   "metadata": {},
   "outputs": [],
   "source": [
    "import warnings \n",
    "warnings.filterwarnings(action='ignore')"
   ]
  },
  {
   "cell_type": "code",
   "execution_count": 2,
   "id": "78afe61c",
   "metadata": {},
   "outputs": [
    {
     "name": "stderr",
     "output_type": "stream",
     "text": [
      "2022-06-18 22:04:00.090322: I tensorflow/stream_executor/platform/default/dso_loader.cc:49] Successfully opened dynamic library libcudart.so.10.1\n"
     ]
    }
   ],
   "source": [
    "import os \n",
    "import numpy as np\n",
    "import pandas as pd\n",
    "import matplotlib.pyplot as plt\n",
    "from glob import glob\n",
    "from tqdm.auto import tqdm\n",
    "import cv2\n",
    "\n",
    "# from tensorflow.keras.applications import Densnet\n",
    "import tensorflow as tf\n",
    "from tensorflow.keras.models import Sequential, Model\n",
    "from tensorflow.keras import layers\n",
    "import tensorflow.keras as keras\n",
    "from tensorflow.data import Dataset\n",
    "\n",
    "from tensorflow.keras.optimizers import Adam, RMSprop, Nadam, SGD\n",
    "from tensorflow.keras.callbacks import ModelCheckpoint, EarlyStopping\n",
    "\n",
    "from itertools import product\n",
    "from tensorflow.keras.preprocessing.image import ImageDataGenerator\n",
    "\n",
    "from tensorflow.keras.applications import *\n",
    "from sklearn.model_selection import train_test_split\n",
    "from sklearn.preprocessing import LabelEncoder\n",
    "from skmultilearn.model_selection import iterative_train_test_split\n",
    "from wandb.keras import WandbCallback\n",
    "import wandb"
   ]
  },
  {
   "cell_type": "code",
   "execution_count": 3,
   "id": "7db429c9",
   "metadata": {
    "scrolled": true
   },
   "outputs": [
    {
     "data": {
      "text/plain": [
       "'2.4.1'"
      ]
     },
     "execution_count": 3,
     "metadata": {},
     "output_type": "execute_result"
    }
   ],
   "source": [
    "tf.__version__"
   ]
  },
  {
   "cell_type": "code",
   "execution_count": 4,
   "id": "a67ef6e7",
   "metadata": {},
   "outputs": [],
   "source": [
    "sweep_config = {\n",
    "    'method': 'random', #grid, random\n",
    "    'metric': {\n",
    "      'name': 'val_loss',\n",
    "      'goal': 'minimize'   \n",
    "    },\n",
    "    'parameters': {\n",
    "        'pretrain_net': {\n",
    "            'values': ['inception', 'resnet']\n",
    "        },\n",
    "        'batch_size': {\n",
    "            'values': [20, 50]\n",
    "        },\n",
    "        'dropout': {\n",
    "            'values': [0.2, 0.5]\n",
    "        },\n",
    "        'dense': {\n",
    "            'values': [32, 256, 1024]\n",
    "        },\n",
    "        'learning_rate': {\n",
    "            'values': [1e-2, 1e-3, 1e-4, 3e-5]\n",
    "        },\n",
    "        'optimizer': {\n",
    "            'values': ['adam', 'sgd', 'rmsprop']\n",
    "        },\n",
    "        'activation': {\n",
    "            'values': ['relu', 'elu', 'selu', 'softmax']\n",
    "        }\n",
    "    }\n",
    "}"
   ]
  },
  {
   "cell_type": "code",
   "execution_count": 5,
   "id": "601ce2c4",
   "metadata": {},
   "outputs": [],
   "source": [
    "IMAGE_SIZE = 320"
   ]
  },
  {
   "cell_type": "code",
   "execution_count": 6,
   "id": "f3bfeec5",
   "metadata": {},
   "outputs": [
    {
     "data": {
      "text/html": [
       "<div>\n",
       "<style scoped>\n",
       "    .dataframe tbody tr th:only-of-type {\n",
       "        vertical-align: middle;\n",
       "    }\n",
       "\n",
       "    .dataframe tbody tr th {\n",
       "        vertical-align: top;\n",
       "    }\n",
       "\n",
       "    .dataframe thead th {\n",
       "        text-align: right;\n",
       "    }\n",
       "</style>\n",
       "<table border=\"1\" class=\"dataframe\">\n",
       "  <thead>\n",
       "    <tr style=\"text-align: right;\">\n",
       "      <th></th>\n",
       "      <th>image</th>\n",
       "      <th>grow</th>\n",
       "      <th>disease</th>\n",
       "      <th>area</th>\n",
       "      <th>points</th>\n",
       "      <th>original</th>\n",
       "      <th>disease-grow</th>\n",
       "    </tr>\n",
       "  </thead>\n",
       "  <tbody>\n",
       "    <tr>\n",
       "      <th>0</th>\n",
       "      <td>/home/lab38/딸기/Strawberry Pest Damage_3.jpg</td>\n",
       "      <td>5</td>\n",
       "      <td>11</td>\n",
       "      <td>NaN</td>\n",
       "      <td>NaN</td>\n",
       "      <td>NaN</td>\n",
       "      <td>11-5</td>\n",
       "    </tr>\n",
       "    <tr>\n",
       "      <th>1</th>\n",
       "      <td>/home/lab38/딸기/Strawberry Pest Damage_727.jpg</td>\n",
       "      <td>2</td>\n",
       "      <td>11</td>\n",
       "      <td>NaN</td>\n",
       "      <td>NaN</td>\n",
       "      <td>NaN</td>\n",
       "      <td>11-2</td>\n",
       "    </tr>\n",
       "    <tr>\n",
       "      <th>2</th>\n",
       "      <td>/home/lab38/딸기/Strawberry Pest Damage_487.jpg</td>\n",
       "      <td>5</td>\n",
       "      <td>11</td>\n",
       "      <td>NaN</td>\n",
       "      <td>NaN</td>\n",
       "      <td>NaN</td>\n",
       "      <td>11-5</td>\n",
       "    </tr>\n",
       "    <tr>\n",
       "      <th>3</th>\n",
       "      <td>/home/lab38/딸기/Strawberry Pest Damage_124.jpg</td>\n",
       "      <td>5</td>\n",
       "      <td>11</td>\n",
       "      <td>NaN</td>\n",
       "      <td>NaN</td>\n",
       "      <td>NaN</td>\n",
       "      <td>11-5</td>\n",
       "    </tr>\n",
       "    <tr>\n",
       "      <th>4</th>\n",
       "      <td>/home/lab38/딸기/Strawberry Pest Damage_70.jpg</td>\n",
       "      <td>5</td>\n",
       "      <td>11</td>\n",
       "      <td>NaN</td>\n",
       "      <td>NaN</td>\n",
       "      <td>NaN</td>\n",
       "      <td>11-5</td>\n",
       "    </tr>\n",
       "  </tbody>\n",
       "</table>\n",
       "</div>"
      ],
      "text/plain": [
       "                                           image  grow  disease  area points  \\\n",
       "0    /home/lab38/딸기/Strawberry Pest Damage_3.jpg     5       11   NaN    NaN   \n",
       "1  /home/lab38/딸기/Strawberry Pest Damage_727.jpg     2       11   NaN    NaN   \n",
       "2  /home/lab38/딸기/Strawberry Pest Damage_487.jpg     5       11   NaN    NaN   \n",
       "3  /home/lab38/딸기/Strawberry Pest Damage_124.jpg     5       11   NaN    NaN   \n",
       "4   /home/lab38/딸기/Strawberry Pest Damage_70.jpg     5       11   NaN    NaN   \n",
       "\n",
       "  original disease-grow  \n",
       "0      NaN         11-5  \n",
       "1      NaN         11-2  \n",
       "2      NaN         11-5  \n",
       "3      NaN         11-5  \n",
       "4      NaN         11-5  "
      ]
     },
     "execution_count": 6,
     "metadata": {},
     "output_type": "execute_result"
    }
   ],
   "source": [
    "df = pd.read_csv('/home/lab38/Multi_proj_6/data/straw_smallsizeimg_with_pest.csv')\n",
    "df.head()"
   ]
  },
  {
   "cell_type": "code",
   "execution_count": 7,
   "id": "10892c25",
   "metadata": {},
   "outputs": [
    {
     "name": "stdout",
     "output_type": "stream",
     "text": [
      "[3 0 1 2]\n",
      "[4 1 3 0 2]\n"
     ]
    }
   ],
   "source": [
    "# label encoding\n",
    "disease_encoder = LabelEncoder()\n",
    "disease_encoder.fit(df['disease'])\n",
    "df['disease'] = disease_encoder.transform(df['disease'])\n",
    "print(df['disease'].unique())\n",
    "\n",
    "grow_encoder = LabelEncoder()\n",
    "grow_encoder.fit(df['grow'])\n",
    "df['grow'] = grow_encoder.transform(df['grow'])\n",
    "print(df['grow'].unique())"
   ]
  },
  {
   "cell_type": "code",
   "execution_count": 8,
   "id": "c2baac10",
   "metadata": {},
   "outputs": [],
   "source": [
    "shuffled_df = df.sample(frac=1)"
   ]
  },
  {
   "cell_type": "code",
   "execution_count": 9,
   "id": "3a6e0911",
   "metadata": {},
   "outputs": [],
   "source": [
    "X_train, X_test, y_train, y_test = train_test_split(df['image'],\n",
    "                                                   df['disease-grow'],\n",
    "                                                   stratify=df['disease-grow'],\n",
    "                                                   test_size=0.2)"
   ]
  },
  {
   "cell_type": "code",
   "execution_count": 10,
   "id": "5cc097c7",
   "metadata": {},
   "outputs": [],
   "source": [
    "train_df = df[df['image'].isin(X_train)]\n",
    "test_df = df[df['image'].isin(X_test)]"
   ]
  },
  {
   "cell_type": "code",
   "execution_count": 11,
   "id": "7aafd140",
   "metadata": {},
   "outputs": [
    {
     "name": "stdout",
     "output_type": "stream",
     "text": [
      "[3 0 1 2]\n",
      "[4 1 3 0 2]\n",
      "[3 0 1 2]\n",
      "[1 4 3 0 2]\n"
     ]
    }
   ],
   "source": [
    "print(train_df['disease'].unique())\n",
    "print(train_df['grow'].unique())\n",
    "print(test_df['disease'].unique())\n",
    "print(test_df['grow'].unique())"
   ]
  },
  {
   "cell_type": "code",
   "execution_count": 12,
   "id": "f981e509",
   "metadata": {},
   "outputs": [],
   "source": [
    "train_gen = ImageDataGenerator(rescale=1./255,\n",
    "                            rotation_range=20, # 최대 20도까지 회전\n",
    "                            width_shift_range=0.1, # 최대 x 범위안에서 좌우/상하 이동\n",
    "                            height_shift_range=0.1,\n",
    "                            zoom_range=0.2, # 확대 축소 비율,\n",
    "                            horizontal_flip=True, # 좌우반전\n",
    "                            vertical_flip=True, # 상하반전\n",
    "                            fill_mode='nearest')\n",
    "valid_gen = ImageDataGenerator(rescale= 1. /255.)"
   ]
  },
  {
   "cell_type": "code",
   "execution_count": 13,
   "id": "bcd43442",
   "metadata": {},
   "outputs": [],
   "source": [
    "def train() :\n",
    "    wandb.init()\n",
    "    tf.keras.backend.clear_session()\n",
    "    config_defaults = {\n",
    "        'pretrain_net': 'inception',\n",
    "        'epochs' : 10,\n",
    "        'batch_size': 50,\n",
    "        'dropout' : 0.5,\n",
    "        'learning_rate' : 1e-3,\n",
    "        'activation': 'relu',\n",
    "        'optimizer': 'adam'\n",
    "    }\n",
    "    \n",
    "    wandb.init(config=config_defaults)\n",
    "    config = wandb.config\n",
    "    \n",
    "    train_generator = train_gen.flow_from_dataframe(train_df, \n",
    "                                               x_col='image',\n",
    "                                               y_col=['disease', 'grow'],\n",
    "                                               target_size=(IMAGE_SIZE, IMAGE_SIZE),\n",
    "                                               class_mode='multi_output',\n",
    "                                               batch_size=config.batch_size)\n",
    "    valid_generator = valid_gen.flow_from_dataframe(test_df,\n",
    "                                               x_col='image',\n",
    "                                               y_col=['disease','grow'],\n",
    "                                               target_size=(IMAGE_SIZE, IMAGE_SIZE),\n",
    "                                               class_mode='multi_output',\n",
    "                                               batch_size=config.batch_size)\n",
    "    if config.pretrain_net == 'inception' :\n",
    "        MODEL_IMAGE_SIZE = 299\n",
    "        base_model = inception_resnet_v2.InceptionResNetV2(\n",
    "            weights='imagenet',\n",
    "            include_top = False,\n",
    "            input_shape = (MODEL_IMAGE_SIZE, MODEL_IMAGE_SIZE,3)\n",
    "        )\n",
    "    elif config.pretrain_net == 'resnet' :\n",
    "        MODEL_IMAGE_SIZE = 224\n",
    "        base_model= resnet50.ResNet50(\n",
    "              weights='imagenet',\n",
    "              include_top=False,\n",
    "              input_shape = (MODEL_IMAGE_SIZE, MODEL_IMAGE_SIZE,3)\n",
    "             )\n",
    "    base_model.trainable = False \n",
    "\n",
    "    \n",
    "    # resizing model\n",
    "    input_data = layers.Input((IMAGE_SIZE, IMAGE_SIZE, 3))\n",
    "    x = tf.keras.layers.experimental.preprocessing.Resizing(MODEL_IMAGE_SIZE, MODEL_IMAGE_SIZE)(input_data)\n",
    "    resizing = Model(inputs=input_data, outputs=x, name='resize')\n",
    "   \n",
    "    # model\n",
    "    inputs = layers.Input(shape=(IMAGE_SIZE, IMAGE_SIZE, 3))\n",
    "    x = resizing(inputs)\n",
    "    x = base_model(x, training=False)\n",
    "    x = layers.GlobalAveragePooling2D()(x)\n",
    "    x = layers.Dropout(config.dropout)(x)\n",
    "    backbone_out = layers.Dense(config.dense, activation=config.activation)(x)\n",
    "\n",
    "    disease_outputs = layers.Dense(df['disease'].nunique(), activation='softmax',\n",
    "                            name = 'diease_outputs')(backbone_out)\n",
    "    grow_outputs = layers.Dense(df['grow'].nunique(), activation='softmax',\n",
    "                        name = 'grow_outputs')(backbone_out)\n",
    "\n",
    "    model = Model(inputs=inputs, \n",
    "                  outputs=[disease_outputs, grow_outputs],\n",
    "                  name='strawberry')    \n",
    "    if config.optimizer=='sgd':\n",
    "        optimizer = SGD(learning_rate=config.learning_rate)\n",
    "    elif config.optimizer=='rmsprop':\n",
    "        optimizer = RMSprop(learning_rate=config.learning_rate)\n",
    "    elif config.optimizer=='adam':\n",
    "        optimizer = Adam(learning_rate=config.learning_rate)\n",
    "\n",
    "    model.compile(loss={\n",
    "                  'diease_outputs' : 'sparse_categorical_crossentropy',\n",
    "                  'grow_outputs' : 'sparse_categorical_crossentropy'\n",
    "                  },\n",
    "                  optimizer=optimizer,\n",
    "                  metrics=['accuracy'])    \n",
    "    \n",
    "    _ = model.fit(train_generator,\n",
    "          validation_data=valid_generator,\n",
    "          verbose=1,\n",
    "          epochs=config.epochs,\n",
    "          callbacks=[WandbCallback()],\n",
    "          steps_per_epoch=len(train_df)//config.batch_size)\n"
   ]
  },
  {
   "cell_type": "code",
   "execution_count": 14,
   "id": "2120051f",
   "metadata": {
    "scrolled": true
   },
   "outputs": [
    {
     "name": "stderr",
     "output_type": "stream",
     "text": [
      "Failed to detect the name of this notebook, you can set it manually with the WANDB_NOTEBOOK_NAME environment variable to enable code saving.\n"
     ]
    },
    {
     "name": "stdout",
     "output_type": "stream",
     "text": [
      "Create sweep with ID: y71b563r\n",
      "Sweep URL: https://wandb.ai/hkleee/strawberry/sweeps/y71b563r\n"
     ]
    }
   ],
   "source": [
    "sweep_id = wandb.sweep(sweep_config, project='strawberry')"
   ]
  },
  {
   "cell_type": "code",
   "execution_count": null,
   "id": "42b20c44",
   "metadata": {
    "collapsed": true
   },
   "outputs": [
    {
     "name": "stderr",
     "output_type": "stream",
     "text": [
      "\u001b[34m\u001b[1mwandb\u001b[0m: Agent Starting Run: 0cdnlkdd with config:\n",
      "\u001b[34m\u001b[1mwandb\u001b[0m: \tactivation: softmax\n",
      "\u001b[34m\u001b[1mwandb\u001b[0m: \tbatch_size: 50\n",
      "\u001b[34m\u001b[1mwandb\u001b[0m: \tdense: 256\n",
      "\u001b[34m\u001b[1mwandb\u001b[0m: \tdropout: 0.5\n",
      "\u001b[34m\u001b[1mwandb\u001b[0m: \tlearning_rate: 0.0001\n",
      "\u001b[34m\u001b[1mwandb\u001b[0m: \toptimizer: rmsprop\n",
      "\u001b[34m\u001b[1mwandb\u001b[0m: \tpretrain_net: inception\n",
      "Failed to detect the name of this notebook, you can set it manually with the WANDB_NOTEBOOK_NAME environment variable to enable code saving.\n",
      "\u001b[34m\u001b[1mwandb\u001b[0m: Currently logged in as: \u001b[33mhkleee\u001b[0m. Use \u001b[1m`wandb login --relogin`\u001b[0m to force relogin\n"
     ]
    },
    {
     "data": {
      "text/html": [
       "Tracking run with wandb version 0.12.18"
      ],
      "text/plain": [
       "<IPython.core.display.HTML object>"
      ]
     },
     "metadata": {},
     "output_type": "display_data"
    },
    {
     "data": {
      "text/html": [
       "Run data is saved locally in <code>/home/lab38/Multi_proj_6/model/multi-output/strawberry/sweep/wandb/run-20220617_132453-0cdnlkdd</code>"
      ],
      "text/plain": [
       "<IPython.core.display.HTML object>"
      ]
     },
     "metadata": {},
     "output_type": "display_data"
    },
    {
     "data": {
      "text/html": [
       "Syncing run <strong><a href=\"https://wandb.ai/hkleee/strawberry/runs/0cdnlkdd\" target=\"_blank\">stellar-sweep-1</a></strong> to <a href=\"https://wandb.ai/hkleee/strawberry\" target=\"_blank\">Weights & Biases</a> (<a href=\"https://wandb.me/run\" target=\"_blank\">docs</a>)<br/>Sweep page:  <a href=\"https://wandb.ai/hkleee/strawberry/sweeps/natutesf\" target=\"_blank\">https://wandb.ai/hkleee/strawberry/sweeps/natutesf</a>"
      ],
      "text/plain": [
       "<IPython.core.display.HTML object>"
      ]
     },
     "metadata": {},
     "output_type": "display_data"
    },
    {
     "data": {
      "text/html": [
       "Finishing last run (ID:0cdnlkdd) before initializing another..."
      ],
      "text/plain": [
       "<IPython.core.display.HTML object>"
      ]
     },
     "metadata": {},
     "output_type": "display_data"
    },
    {
     "data": {
      "text/html": [
       "Waiting for W&B process to finish... <strong style=\"color:green\">(success).</strong>"
      ],
      "text/plain": [
       "<IPython.core.display.HTML object>"
      ]
     },
     "metadata": {},
     "output_type": "display_data"
    },
    {
     "data": {
      "text/html": [
       "Synced <strong style=\"color:#cdcd00\">stellar-sweep-1</strong>: <a href=\"https://wandb.ai/hkleee/strawberry/runs/0cdnlkdd\" target=\"_blank\">https://wandb.ai/hkleee/strawberry/runs/0cdnlkdd</a><br/>Synced 5 W&B file(s), 0 media file(s), 0 artifact file(s) and 0 other file(s)"
      ],
      "text/plain": [
       "<IPython.core.display.HTML object>"
      ]
     },
     "metadata": {},
     "output_type": "display_data"
    },
    {
     "data": {
      "text/html": [
       "Find logs at: <code>./wandb/run-20220617_132453-0cdnlkdd/logs</code>"
      ],
      "text/plain": [
       "<IPython.core.display.HTML object>"
      ]
     },
     "metadata": {},
     "output_type": "display_data"
    },
    {
     "data": {
      "text/html": [
       "Successfully finished last run (ID:0cdnlkdd). Initializing new run:<br/>"
      ],
      "text/plain": [
       "<IPython.core.display.HTML object>"
      ]
     },
     "metadata": {},
     "output_type": "display_data"
    },
    {
     "data": {
      "text/html": [
       "Tracking run with wandb version 0.12.18"
      ],
      "text/plain": [
       "<IPython.core.display.HTML object>"
      ]
     },
     "metadata": {},
     "output_type": "display_data"
    },
    {
     "data": {
      "text/html": [
       "Run data is saved locally in <code>/home/lab38/Multi_proj_6/model/multi-output/strawberry/sweep/wandb/run-20220617_132458-0cdnlkdd</code>"
      ],
      "text/plain": [
       "<IPython.core.display.HTML object>"
      ]
     },
     "metadata": {},
     "output_type": "display_data"
    },
    {
     "data": {
      "text/html": [
       "Syncing run <strong><a href=\"https://wandb.ai/hkleee/strawberry/runs/0cdnlkdd\" target=\"_blank\">stellar-sweep-1</a></strong> to <a href=\"https://wandb.ai/hkleee/strawberry\" target=\"_blank\">Weights & Biases</a> (<a href=\"https://wandb.me/run\" target=\"_blank\">docs</a>)<br/>Sweep page:  <a href=\"https://wandb.ai/hkleee/strawberry/sweeps/natutesf\" target=\"_blank\">https://wandb.ai/hkleee/strawberry/sweeps/natutesf</a>"
      ],
      "text/plain": [
       "<IPython.core.display.HTML object>"
      ]
     },
     "metadata": {},
     "output_type": "display_data"
    },
    {
     "name": "stdout",
     "output_type": "stream",
     "text": [
      "Found 13437 validated image filenames.\n",
      "Found 3360 validated image filenames.\n"
     ]
    },
    {
     "name": "stderr",
     "output_type": "stream",
     "text": [
      "2022-06-17 13:25:07.158490: I tensorflow/compiler/jit/xla_cpu_device.cc:41] Not creating XLA devices, tf_xla_enable_xla_devices not set\n",
      "2022-06-17 13:25:07.159642: I tensorflow/stream_executor/platform/default/dso_loader.cc:49] Successfully opened dynamic library libcuda.so.1\n",
      "2022-06-17 13:25:07.203184: I tensorflow/stream_executor/cuda/cuda_gpu_executor.cc:941] successful NUMA node read from SysFS had negative value (-1), but there must be at least one NUMA node, so returning NUMA node zero\n",
      "2022-06-17 13:25:07.203841: I tensorflow/core/common_runtime/gpu/gpu_device.cc:1720] Found device 0 with properties: \n",
      "pciBusID: 0000:00:1e.0 name: Tesla T4 computeCapability: 7.5\n",
      "coreClock: 1.59GHz coreCount: 40 deviceMemorySize: 14.75GiB deviceMemoryBandwidth: 298.08GiB/s\n",
      "2022-06-17 13:25:07.203895: I tensorflow/stream_executor/platform/default/dso_loader.cc:49] Successfully opened dynamic library libcudart.so.10.1\n",
      "2022-06-17 13:25:07.283430: I tensorflow/stream_executor/platform/default/dso_loader.cc:49] Successfully opened dynamic library libcublas.so.10\n",
      "2022-06-17 13:25:07.283581: I tensorflow/stream_executor/platform/default/dso_loader.cc:49] Successfully opened dynamic library libcublasLt.so.10\n",
      "2022-06-17 13:25:07.330049: I tensorflow/stream_executor/platform/default/dso_loader.cc:49] Successfully opened dynamic library libcufft.so.10\n",
      "2022-06-17 13:25:07.342548: I tensorflow/stream_executor/platform/default/dso_loader.cc:49] Successfully opened dynamic library libcurand.so.10\n",
      "2022-06-17 13:25:07.424308: I tensorflow/stream_executor/platform/default/dso_loader.cc:49] Successfully opened dynamic library libcusolver.so.10\n",
      "2022-06-17 13:25:07.435777: I tensorflow/stream_executor/platform/default/dso_loader.cc:49] Successfully opened dynamic library libcusparse.so.10\n",
      "2022-06-17 13:25:07.580246: I tensorflow/stream_executor/platform/default/dso_loader.cc:49] Successfully opened dynamic library libcudnn.so.7\n",
      "2022-06-17 13:25:07.580512: I tensorflow/stream_executor/cuda/cuda_gpu_executor.cc:941] successful NUMA node read from SysFS had negative value (-1), but there must be at least one NUMA node, so returning NUMA node zero\n",
      "2022-06-17 13:25:07.581212: I tensorflow/stream_executor/cuda/cuda_gpu_executor.cc:941] successful NUMA node read from SysFS had negative value (-1), but there must be at least one NUMA node, so returning NUMA node zero\n",
      "2022-06-17 13:25:07.581761: I tensorflow/core/common_runtime/gpu/gpu_device.cc:1862] Adding visible gpu devices: 0\n",
      "2022-06-17 13:25:07.582378: I tensorflow/core/platform/cpu_feature_guard.cc:142] This TensorFlow binary is optimized with oneAPI Deep Neural Network Library (oneDNN) to use the following CPU instructions in performance-critical operations:  SSE4.1 SSE4.2 AVX AVX2 AVX512F FMA\n",
      "To enable them in other operations, rebuild TensorFlow with the appropriate compiler flags.\n",
      "2022-06-17 13:25:07.582615: I tensorflow/compiler/jit/xla_gpu_device.cc:99] Not creating XLA devices, tf_xla_enable_xla_devices not set\n",
      "2022-06-17 13:25:07.582804: I tensorflow/stream_executor/cuda/cuda_gpu_executor.cc:941] successful NUMA node read from SysFS had negative value (-1), but there must be at least one NUMA node, so returning NUMA node zero\n",
      "2022-06-17 13:25:07.583382: I tensorflow/core/common_runtime/gpu/gpu_device.cc:1720] Found device 0 with properties: \n",
      "pciBusID: 0000:00:1e.0 name: Tesla T4 computeCapability: 7.5\n",
      "coreClock: 1.59GHz coreCount: 40 deviceMemorySize: 14.75GiB deviceMemoryBandwidth: 298.08GiB/s\n",
      "2022-06-17 13:25:07.583446: I tensorflow/stream_executor/platform/default/dso_loader.cc:49] Successfully opened dynamic library libcudart.so.10.1\n",
      "2022-06-17 13:25:07.583475: I tensorflow/stream_executor/platform/default/dso_loader.cc:49] Successfully opened dynamic library libcublas.so.10\n",
      "2022-06-17 13:25:07.583491: I tensorflow/stream_executor/platform/default/dso_loader.cc:49] Successfully opened dynamic library libcublasLt.so.10\n",
      "2022-06-17 13:25:07.583506: I tensorflow/stream_executor/platform/default/dso_loader.cc:49] Successfully opened dynamic library libcufft.so.10\n",
      "2022-06-17 13:25:07.583522: I tensorflow/stream_executor/platform/default/dso_loader.cc:49] Successfully opened dynamic library libcurand.so.10\n",
      "2022-06-17 13:25:07.583537: I tensorflow/stream_executor/platform/default/dso_loader.cc:49] Successfully opened dynamic library libcusolver.so.10\n",
      "2022-06-17 13:25:07.583555: I tensorflow/stream_executor/platform/default/dso_loader.cc:49] Successfully opened dynamic library libcusparse.so.10\n",
      "2022-06-17 13:25:07.583570: I tensorflow/stream_executor/platform/default/dso_loader.cc:49] Successfully opened dynamic library libcudnn.so.7\n",
      "2022-06-17 13:25:07.583642: I tensorflow/stream_executor/cuda/cuda_gpu_executor.cc:941] successful NUMA node read from SysFS had negative value (-1), but there must be at least one NUMA node, so returning NUMA node zero\n",
      "2022-06-17 13:25:07.584257: I tensorflow/stream_executor/cuda/cuda_gpu_executor.cc:941] successful NUMA node read from SysFS had negative value (-1), but there must be at least one NUMA node, so returning NUMA node zero\n",
      "2022-06-17 13:25:07.584795: I tensorflow/core/common_runtime/gpu/gpu_device.cc:1862] Adding visible gpu devices: 0\n",
      "2022-06-17 13:25:07.585768: I tensorflow/stream_executor/platform/default/dso_loader.cc:49] Successfully opened dynamic library libcudart.so.10.1\n",
      "2022-06-17 13:25:09.564717: I tensorflow/core/common_runtime/gpu/gpu_device.cc:1261] Device interconnect StreamExecutor with strength 1 edge matrix:\n",
      "2022-06-17 13:25:09.564751: I tensorflow/core/common_runtime/gpu/gpu_device.cc:1267]      0 \n",
      "2022-06-17 13:25:09.564757: I tensorflow/core/common_runtime/gpu/gpu_device.cc:1280] 0:   N \n",
      "2022-06-17 13:25:09.565836: I tensorflow/stream_executor/cuda/cuda_gpu_executor.cc:941] successful NUMA node read from SysFS had negative value (-1), but there must be at least one NUMA node, so returning NUMA node zero\n",
      "2022-06-17 13:25:09.566479: I tensorflow/stream_executor/cuda/cuda_gpu_executor.cc:941] successful NUMA node read from SysFS had negative value (-1), but there must be at least one NUMA node, so returning NUMA node zero\n",
      "2022-06-17 13:25:09.567046: I tensorflow/stream_executor/cuda/cuda_gpu_executor.cc:941] successful NUMA node read from SysFS had negative value (-1), but there must be at least one NUMA node, so returning NUMA node zero\n",
      "2022-06-17 13:25:09.567597: I tensorflow/core/common_runtime/gpu/gpu_device.cc:1406] Created TensorFlow device (/job:localhost/replica:0/task:0/device:GPU:0 with 13970 MB memory) -> physical GPU (device: 0, name: Tesla T4, pci bus id: 0000:00:1e.0, compute capability: 7.5)\n",
      "\u001b[34m\u001b[1mwandb\u001b[0m: \u001b[33mWARNING\u001b[0m The save_model argument by default saves the model in the HDF5 format that cannot save custom objects like subclassed models and custom layers. This behavior will be deprecated in a future release in favor of the SavedModel format. Meanwhile, the HDF5 model is saved as W&B files and the SavedModel as W&B Artifacts.\n",
      "2022-06-17 13:25:16.888776: I tensorflow/compiler/mlir/mlir_graph_optimization_pass.cc:116] None of the MLIR optimization passes are enabled (registered 2)\n",
      "2022-06-17 13:25:16.912346: I tensorflow/core/platform/profile_utils/cpu_utils.cc:112] CPU Frequency: 2499995000 Hz\n"
     ]
    },
    {
     "name": "stdout",
     "output_type": "stream",
     "text": [
      "Epoch 1/10\n"
     ]
    },
    {
     "name": "stderr",
     "output_type": "stream",
     "text": [
      "2022-06-17 13:25:24.922408: I tensorflow/stream_executor/platform/default/dso_loader.cc:49] Successfully opened dynamic library libcublas.so.10\n",
      "2022-06-17 13:25:25.980256: I tensorflow/stream_executor/platform/default/dso_loader.cc:49] Successfully opened dynamic library libcudnn.so.7\n"
     ]
    },
    {
     "name": "stdout",
     "output_type": "stream",
     "text": [
      "268/268 [==============================] - 337s 1s/step - loss: 2.9444 - diease_outputs_loss: 1.3566 - grow_outputs_loss: 1.5879 - diease_outputs_accuracy: 0.4125 - grow_outputs_accuracy: 0.3352 - val_loss: 2.8629 - val_diease_outputs_loss: 1.3134 - val_grow_outputs_loss: 1.5495 - val_diease_outputs_accuracy: 0.4824 - val_grow_outputs_accuracy: 0.4604\n",
      "Epoch 2/10\n",
      "268/268 [==============================] - 322s 1s/step - loss: 2.8445 - diease_outputs_loss: 1.2999 - grow_outputs_loss: 1.5447 - diease_outputs_accuracy: 0.5100 - grow_outputs_accuracy: 0.4558 - val_loss: 2.7856 - val_diease_outputs_loss: 1.2699 - val_grow_outputs_loss: 1.5157 - val_diease_outputs_accuracy: 0.5155 - val_grow_outputs_accuracy: 0.5146\n",
      "Epoch 3/10\n",
      "268/268 [==============================] - 320s 1s/step - loss: 2.7731 - diease_outputs_loss: 1.2602 - grow_outputs_loss: 1.5129 - diease_outputs_accuracy: 0.5317 - grow_outputs_accuracy: 0.5091 - val_loss: 2.7256 - val_diease_outputs_loss: 1.2390 - val_grow_outputs_loss: 1.4866 - val_diease_outputs_accuracy: 0.5628 - val_grow_outputs_accuracy: 0.5527\n",
      "Epoch 4/10\n",
      "268/268 [==============================] - 321s 1s/step - loss: 2.7135 - diease_outputs_loss: 1.2306 - grow_outputs_loss: 1.4829 - diease_outputs_accuracy: 0.6211 - grow_outputs_accuracy: 0.5494 - val_loss: 2.6704 - val_diease_outputs_loss: 1.2099 - val_grow_outputs_loss: 1.4604 - val_diease_outputs_accuracy: 0.6387 - val_grow_outputs_accuracy: 0.5673\n",
      "Epoch 5/10\n",
      "268/268 [==============================] - 318s 1s/step - loss: 2.6622 - diease_outputs_loss: 1.2037 - grow_outputs_loss: 1.4585 - diease_outputs_accuracy: 0.6396 - grow_outputs_accuracy: 0.5651 - val_loss: 2.6194 - val_diease_outputs_loss: 1.1835 - val_grow_outputs_loss: 1.4358 - val_diease_outputs_accuracy: 0.6390 - val_grow_outputs_accuracy: 0.5807\n",
      "Epoch 6/10\n",
      "268/268 [==============================] - 320s 1s/step - loss: 2.6099 - diease_outputs_loss: 1.1753 - grow_outputs_loss: 1.4347 - diease_outputs_accuracy: 0.6530 - grow_outputs_accuracy: 0.5771 - val_loss: 2.5713 - val_diease_outputs_loss: 1.1593 - val_grow_outputs_loss: 1.4121 - val_diease_outputs_accuracy: 0.6390 - val_grow_outputs_accuracy: 0.5839\n",
      "Epoch 7/10\n",
      "268/268 [==============================] - 320s 1s/step - loss: 2.5567 - diease_outputs_loss: 1.1511 - grow_outputs_loss: 1.4056 - diease_outputs_accuracy: 0.6442 - grow_outputs_accuracy: 0.5970 - val_loss: 2.5239 - val_diease_outputs_loss: 1.1350 - val_grow_outputs_loss: 1.3889 - val_diease_outputs_accuracy: 0.6384 - val_grow_outputs_accuracy: 0.5949\n",
      "Epoch 8/10\n",
      "268/268 [==============================] - 319s 1s/step - loss: 2.5152 - diease_outputs_loss: 1.1288 - grow_outputs_loss: 1.3864 - diease_outputs_accuracy: 0.6406 - grow_outputs_accuracy: 0.5970 - val_loss: 2.4786 - val_diease_outputs_loss: 1.1117 - val_grow_outputs_loss: 1.3668 - val_diease_outputs_accuracy: 0.6455 - val_grow_outputs_accuracy: 0.5973\n",
      "Epoch 9/10\n",
      "268/268 [==============================] - 321s 1s/step - loss: 2.4733 - diease_outputs_loss: 1.1092 - grow_outputs_loss: 1.3641 - diease_outputs_accuracy: 0.6383 - grow_outputs_accuracy: 0.5909 - val_loss: 2.4344 - val_diease_outputs_loss: 1.0885 - val_grow_outputs_loss: 1.3459 - val_diease_outputs_accuracy: 0.6488 - val_grow_outputs_accuracy: 0.6006\n",
      "Epoch 10/10\n",
      "268/268 [==============================] - 318s 1s/step - loss: 2.4336 - diease_outputs_loss: 1.0872 - grow_outputs_loss: 1.3463 - diease_outputs_accuracy: 0.6436 - grow_outputs_accuracy: 0.5920 - val_loss: 2.3939 - val_diease_outputs_loss: 1.0676 - val_grow_outputs_loss: 1.3263 - val_diease_outputs_accuracy: 0.6548 - val_grow_outputs_accuracy: 0.6018\n"
     ]
    },
    {
     "data": {
      "text/html": [
       "Waiting for W&B process to finish... <strong style=\"color:green\">(success).</strong>"
      ],
      "text/plain": [
       "<IPython.core.display.HTML object>"
      ]
     },
     "metadata": {},
     "output_type": "display_data"
    },
    {
     "data": {
      "text/html": [
       "<style>\n",
       "    table.wandb td:nth-child(1) { padding: 0 10px; text-align: left ; width: auto;} td:nth-child(2) {text-align: left ; width: 100%}\n",
       "    .wandb-row { display: flex; flex-direction: row; flex-wrap: wrap; justify-content: flex-start; width: 100% }\n",
       "    .wandb-col { display: flex; flex-direction: column; flex-basis: 100%; flex: 1; padding: 10px; }\n",
       "    </style>\n",
       "<div class=\"wandb-row\"><div class=\"wandb-col\"><h3>Run history:</h3><br/><table class=\"wandb\"><tr><td>diease_outputs_accuracy</td><td>▁▃▄▇██████</td></tr><tr><td>diease_outputs_loss</td><td>█▇▆▅▄▃▃▂▂▁</td></tr><tr><td>epoch</td><td>▁▂▃▃▄▅▆▆▇█</td></tr><tr><td>grow_outputs_accuracy</td><td>▁▄▆▇▇▇████</td></tr><tr><td>grow_outputs_loss</td><td>█▇▆▅▄▄▃▂▂▁</td></tr><tr><td>loss</td><td>█▇▆▅▄▄▃▂▂▁</td></tr><tr><td>val_diease_outputs_accuracy</td><td>▁▂▄▇▇▇▇███</td></tr><tr><td>val_diease_outputs_loss</td><td>█▇▆▅▄▄▃▂▂▁</td></tr><tr><td>val_grow_outputs_accuracy</td><td>▁▄▆▆▇▇████</td></tr><tr><td>val_grow_outputs_loss</td><td>█▇▆▅▄▄▃▂▂▁</td></tr><tr><td>val_loss</td><td>█▇▆▅▄▄▃▂▂▁</td></tr></table><br/></div><div class=\"wandb-col\"><h3>Run summary:</h3><br/><table class=\"wandb\"><tr><td>best_epoch</td><td>9</td></tr><tr><td>best_val_loss</td><td>2.39391</td></tr><tr><td>diease_outputs_accuracy</td><td>0.64794</td></tr><tr><td>diease_outputs_loss</td><td>1.07953</td></tr><tr><td>epoch</td><td>9</td></tr><tr><td>grow_outputs_accuracy</td><td>0.59759</td></tr><tr><td>grow_outputs_loss</td><td>1.33964</td></tr><tr><td>loss</td><td>2.41917</td></tr><tr><td>val_diease_outputs_accuracy</td><td>0.65476</td></tr><tr><td>val_diease_outputs_loss</td><td>1.06765</td></tr><tr><td>val_grow_outputs_accuracy</td><td>0.60179</td></tr><tr><td>val_grow_outputs_loss</td><td>1.32626</td></tr><tr><td>val_loss</td><td>2.39391</td></tr></table><br/></div></div>"
      ],
      "text/plain": [
       "<IPython.core.display.HTML object>"
      ]
     },
     "metadata": {},
     "output_type": "display_data"
    },
    {
     "data": {
      "text/html": [
       "Synced <strong style=\"color:#cdcd00\">stellar-sweep-1</strong>: <a href=\"https://wandb.ai/hkleee/strawberry/runs/0cdnlkdd\" target=\"_blank\">https://wandb.ai/hkleee/strawberry/runs/0cdnlkdd</a><br/>Synced 6 W&B file(s), 1 media file(s), 0 artifact file(s) and 1 other file(s)"
      ],
      "text/plain": [
       "<IPython.core.display.HTML object>"
      ]
     },
     "metadata": {},
     "output_type": "display_data"
    },
    {
     "data": {
      "text/html": [
       "Find logs at: <code>./wandb/run-20220617_132458-0cdnlkdd/logs</code>"
      ],
      "text/plain": [
       "<IPython.core.display.HTML object>"
      ]
     },
     "metadata": {},
     "output_type": "display_data"
    },
    {
     "name": "stderr",
     "output_type": "stream",
     "text": [
      "\u001b[34m\u001b[1mwandb\u001b[0m: Agent Starting Run: akyhqmfo with config:\n",
      "\u001b[34m\u001b[1mwandb\u001b[0m: \tactivation: relu\n",
      "\u001b[34m\u001b[1mwandb\u001b[0m: \tbatch_size: 50\n",
      "\u001b[34m\u001b[1mwandb\u001b[0m: \tdense: 1024\n",
      "\u001b[34m\u001b[1mwandb\u001b[0m: \tdropout: 0.2\n",
      "\u001b[34m\u001b[1mwandb\u001b[0m: \tlearning_rate: 0.01\n",
      "\u001b[34m\u001b[1mwandb\u001b[0m: \toptimizer: rmsprop\n",
      "\u001b[34m\u001b[1mwandb\u001b[0m: \tpretrain_net: inception\n",
      "Failed to detect the name of this notebook, you can set it manually with the WANDB_NOTEBOOK_NAME environment variable to enable code saving.\n"
     ]
    },
    {
     "data": {
      "text/html": [
       "Tracking run with wandb version 0.12.18"
      ],
      "text/plain": [
       "<IPython.core.display.HTML object>"
      ]
     },
     "metadata": {},
     "output_type": "display_data"
    },
    {
     "data": {
      "text/html": [
       "Run data is saved locally in <code>/home/lab38/Multi_proj_6/model/multi-output/strawberry/sweep/wandb/run-20220617_141919-akyhqmfo</code>"
      ],
      "text/plain": [
       "<IPython.core.display.HTML object>"
      ]
     },
     "metadata": {},
     "output_type": "display_data"
    },
    {
     "data": {
      "text/html": [
       "Syncing run <strong><a href=\"https://wandb.ai/hkleee/strawberry/runs/akyhqmfo\" target=\"_blank\">likely-sweep-2</a></strong> to <a href=\"https://wandb.ai/hkleee/strawberry\" target=\"_blank\">Weights & Biases</a> (<a href=\"https://wandb.me/run\" target=\"_blank\">docs</a>)<br/>Sweep page:  <a href=\"https://wandb.ai/hkleee/strawberry/sweeps/natutesf\" target=\"_blank\">https://wandb.ai/hkleee/strawberry/sweeps/natutesf</a>"
      ],
      "text/plain": [
       "<IPython.core.display.HTML object>"
      ]
     },
     "metadata": {},
     "output_type": "display_data"
    },
    {
     "data": {
      "text/html": [
       "Finishing last run (ID:akyhqmfo) before initializing another..."
      ],
      "text/plain": [
       "<IPython.core.display.HTML object>"
      ]
     },
     "metadata": {},
     "output_type": "display_data"
    },
    {
     "data": {
      "text/html": [
       "Waiting for W&B process to finish... <strong style=\"color:green\">(success).</strong>"
      ],
      "text/plain": [
       "<IPython.core.display.HTML object>"
      ]
     },
     "metadata": {},
     "output_type": "display_data"
    },
    {
     "data": {
      "text/html": [
       "Synced <strong style=\"color:#cdcd00\">likely-sweep-2</strong>: <a href=\"https://wandb.ai/hkleee/strawberry/runs/akyhqmfo\" target=\"_blank\">https://wandb.ai/hkleee/strawberry/runs/akyhqmfo</a><br/>Synced 5 W&B file(s), 0 media file(s), 0 artifact file(s) and 0 other file(s)"
      ],
      "text/plain": [
       "<IPython.core.display.HTML object>"
      ]
     },
     "metadata": {},
     "output_type": "display_data"
    },
    {
     "data": {
      "text/html": [
       "Find logs at: <code>./wandb/run-20220617_141919-akyhqmfo/logs</code>"
      ],
      "text/plain": [
       "<IPython.core.display.HTML object>"
      ]
     },
     "metadata": {},
     "output_type": "display_data"
    },
    {
     "data": {
      "text/html": [
       "Successfully finished last run (ID:akyhqmfo). Initializing new run:<br/>"
      ],
      "text/plain": [
       "<IPython.core.display.HTML object>"
      ]
     },
     "metadata": {},
     "output_type": "display_data"
    },
    {
     "data": {
      "text/html": [
       "Tracking run with wandb version 0.12.18"
      ],
      "text/plain": [
       "<IPython.core.display.HTML object>"
      ]
     },
     "metadata": {},
     "output_type": "display_data"
    },
    {
     "data": {
      "text/html": [
       "Run data is saved locally in <code>/home/lab38/Multi_proj_6/model/multi-output/strawberry/sweep/wandb/run-20220617_141923-akyhqmfo</code>"
      ],
      "text/plain": [
       "<IPython.core.display.HTML object>"
      ]
     },
     "metadata": {},
     "output_type": "display_data"
    },
    {
     "data": {
      "text/html": [
       "Syncing run <strong><a href=\"https://wandb.ai/hkleee/strawberry/runs/akyhqmfo\" target=\"_blank\">likely-sweep-2</a></strong> to <a href=\"https://wandb.ai/hkleee/strawberry\" target=\"_blank\">Weights & Biases</a> (<a href=\"https://wandb.me/run\" target=\"_blank\">docs</a>)<br/>Sweep page:  <a href=\"https://wandb.ai/hkleee/strawberry/sweeps/natutesf\" target=\"_blank\">https://wandb.ai/hkleee/strawberry/sweeps/natutesf</a>"
      ],
      "text/plain": [
       "<IPython.core.display.HTML object>"
      ]
     },
     "metadata": {},
     "output_type": "display_data"
    },
    {
     "name": "stdout",
     "output_type": "stream",
     "text": [
      "Found 13437 validated image filenames.\n",
      "Found 3360 validated image filenames.\n",
      "Epoch 1/10\n",
      "268/268 [==============================] - 330s 1s/step - loss: 17.7861 - diease_outputs_loss: 9.2821 - grow_outputs_loss: 8.5039 - diease_outputs_accuracy: 0.5704 - grow_outputs_accuracy: 0.4649 - val_loss: 1.5026 - val_diease_outputs_loss: 0.6480 - val_grow_outputs_loss: 0.8545 - val_diease_outputs_accuracy: 0.7631 - val_grow_outputs_accuracy: 0.6381\n",
      "Epoch 2/10\n",
      "268/268 [==============================] - 322s 1s/step - loss: 1.4587 - diease_outputs_loss: 0.5776 - grow_outputs_loss: 0.8811 - diease_outputs_accuracy: 0.7782 - grow_outputs_accuracy: 0.6182 - val_loss: 1.4511 - val_diease_outputs_loss: 0.6079 - val_grow_outputs_loss: 0.8432 - val_diease_outputs_accuracy: 0.7765 - val_grow_outputs_accuracy: 0.6190\n",
      "Epoch 3/10\n",
      "268/268 [==============================] - 321s 1s/step - loss: 1.3205 - diease_outputs_loss: 0.4955 - grow_outputs_loss: 0.8250 - diease_outputs_accuracy: 0.8154 - grow_outputs_accuracy: 0.6464 - val_loss: 1.1351 - val_diease_outputs_loss: 0.4013 - val_grow_outputs_loss: 0.7338 - val_diease_outputs_accuracy: 0.8482 - val_grow_outputs_accuracy: 0.6464\n",
      "Epoch 4/10\n",
      "268/268 [==============================] - 320s 1s/step - loss: 1.2482 - diease_outputs_loss: 0.4375 - grow_outputs_loss: 0.8108 - diease_outputs_accuracy: 0.8353 - grow_outputs_accuracy: 0.6495 - val_loss: 1.1700 - val_diease_outputs_loss: 0.4478 - val_grow_outputs_loss: 0.7222 - val_diease_outputs_accuracy: 0.8568 - val_grow_outputs_accuracy: 0.6735\n",
      "Epoch 5/10\n",
      "268/268 [==============================] - 320s 1s/step - loss: 1.2115 - diease_outputs_loss: 0.4237 - grow_outputs_loss: 0.7878 - diease_outputs_accuracy: 0.8400 - grow_outputs_accuracy: 0.6588 - val_loss: 1.0177 - val_diease_outputs_loss: 0.3247 - val_grow_outputs_loss: 0.6930 - val_diease_outputs_accuracy: 0.8717 - val_grow_outputs_accuracy: 0.6887\n",
      "Epoch 6/10\n",
      "268/268 [==============================] - 321s 1s/step - loss: 1.1614 - diease_outputs_loss: 0.3974 - grow_outputs_loss: 0.7640 - diease_outputs_accuracy: 0.8505 - grow_outputs_accuracy: 0.6764 - val_loss: 1.1540 - val_diease_outputs_loss: 0.3984 - val_grow_outputs_loss: 0.7556 - val_diease_outputs_accuracy: 0.8515 - val_grow_outputs_accuracy: 0.6792\n",
      "Epoch 7/10\n",
      "268/268 [==============================] - 321s 1s/step - loss: 1.1498 - diease_outputs_loss: 0.3940 - grow_outputs_loss: 0.7558 - diease_outputs_accuracy: 0.8506 - grow_outputs_accuracy: 0.6633 - val_loss: 1.0408 - val_diease_outputs_loss: 0.3142 - val_grow_outputs_loss: 0.7266 - val_diease_outputs_accuracy: 0.8815 - val_grow_outputs_accuracy: 0.6750\n",
      "Epoch 8/10\n",
      "268/268 [==============================] - 320s 1s/step - loss: 1.1533 - diease_outputs_loss: 0.3979 - grow_outputs_loss: 0.7555 - diease_outputs_accuracy: 0.8539 - grow_outputs_accuracy: 0.6774 - val_loss: 0.9994 - val_diease_outputs_loss: 0.2953 - val_grow_outputs_loss: 0.7041 - val_diease_outputs_accuracy: 0.8848 - val_grow_outputs_accuracy: 0.6685\n",
      "Epoch 9/10\n",
      "268/268 [==============================] - 319s 1s/step - loss: 1.1686 - diease_outputs_loss: 0.3797 - grow_outputs_loss: 0.7890 - diease_outputs_accuracy: 0.8596 - grow_outputs_accuracy: 0.6718 - val_loss: 1.0456 - val_diease_outputs_loss: 0.3253 - val_grow_outputs_loss: 0.7203 - val_diease_outputs_accuracy: 0.8813 - val_grow_outputs_accuracy: 0.7012\n",
      "Epoch 10/10\n",
      "268/268 [==============================] - 320s 1s/step - loss: 1.1378 - diease_outputs_loss: 0.3889 - grow_outputs_loss: 0.7489 - diease_outputs_accuracy: 0.8614 - grow_outputs_accuracy: 0.6813 - val_loss: 1.0824 - val_diease_outputs_loss: 0.3427 - val_grow_outputs_loss: 0.7397 - val_diease_outputs_accuracy: 0.8818 - val_grow_outputs_accuracy: 0.6798\n"
     ]
    },
    {
     "data": {
      "text/html": [
       "Waiting for W&B process to finish... <strong style=\"color:green\">(success).</strong>"
      ],
      "text/plain": [
       "<IPython.core.display.HTML object>"
      ]
     },
     "metadata": {},
     "output_type": "display_data"
    },
    {
     "data": {
      "text/html": [
       "<style>\n",
       "    table.wandb td:nth-child(1) { padding: 0 10px; text-align: left ; width: auto;} td:nth-child(2) {text-align: left ; width: 100%}\n",
       "    .wandb-row { display: flex; flex-direction: row; flex-wrap: wrap; justify-content: flex-start; width: 100% }\n",
       "    .wandb-col { display: flex; flex-direction: column; flex-basis: 100%; flex: 1; padding: 10px; }\n",
       "    </style>\n",
       "<div class=\"wandb-row\"><div class=\"wandb-col\"><h3>Run history:</h3><br/><table class=\"wandb\"><tr><td>diease_outputs_accuracy</td><td>▁▆▇▇▇▇████</td></tr><tr><td>diease_outputs_loss</td><td>█▂▁▁▁▁▁▁▁▁</td></tr><tr><td>epoch</td><td>▁▂▃▃▄▅▆▆▇█</td></tr><tr><td>grow_outputs_accuracy</td><td>▁▅▆▇▇█▇███</td></tr><tr><td>grow_outputs_loss</td><td>█▁▁▁▁▁▁▁▁▁</td></tr><tr><td>loss</td><td>█▁▁▁▁▁▁▁▁▁</td></tr><tr><td>val_diease_outputs_accuracy</td><td>▁▂▆▆▇▆████</td></tr><tr><td>val_diease_outputs_loss</td><td>█▇▃▄▂▃▁▁▂▂</td></tr><tr><td>val_grow_outputs_accuracy</td><td>▃▁▃▆▇▆▆▅█▆</td></tr><tr><td>val_grow_outputs_loss</td><td>██▃▂▁▄▂▁▂▃</td></tr><tr><td>val_loss</td><td>█▇▃▃▁▃▂▁▂▂</td></tr></table><br/></div><div class=\"wandb-col\"><h3>Run summary:</h3><br/><table class=\"wandb\"><tr><td>best_epoch</td><td>7</td></tr><tr><td>best_val_loss</td><td>0.99942</td></tr><tr><td>diease_outputs_accuracy</td><td>0.86367</td></tr><tr><td>diease_outputs_loss</td><td>0.37615</td></tr><tr><td>epoch</td><td>9</td></tr><tr><td>grow_outputs_accuracy</td><td>0.68126</td></tr><tr><td>grow_outputs_loss</td><td>0.74684</td></tr><tr><td>loss</td><td>1.12299</td></tr><tr><td>val_diease_outputs_accuracy</td><td>0.88185</td></tr><tr><td>val_diease_outputs_loss</td><td>0.34271</td></tr><tr><td>val_grow_outputs_accuracy</td><td>0.67976</td></tr><tr><td>val_grow_outputs_loss</td><td>0.73969</td></tr><tr><td>val_loss</td><td>1.0824</td></tr></table><br/></div></div>"
      ],
      "text/plain": [
       "<IPython.core.display.HTML object>"
      ]
     },
     "metadata": {},
     "output_type": "display_data"
    },
    {
     "data": {
      "text/html": [
       "Synced <strong style=\"color:#cdcd00\">likely-sweep-2</strong>: <a href=\"https://wandb.ai/hkleee/strawberry/runs/akyhqmfo\" target=\"_blank\">https://wandb.ai/hkleee/strawberry/runs/akyhqmfo</a><br/>Synced 6 W&B file(s), 1 media file(s), 0 artifact file(s) and 1 other file(s)"
      ],
      "text/plain": [
       "<IPython.core.display.HTML object>"
      ]
     },
     "metadata": {},
     "output_type": "display_data"
    },
    {
     "data": {
      "text/html": [
       "Find logs at: <code>./wandb/run-20220617_141923-akyhqmfo/logs</code>"
      ],
      "text/plain": [
       "<IPython.core.display.HTML object>"
      ]
     },
     "metadata": {},
     "output_type": "display_data"
    },
    {
     "name": "stderr",
     "output_type": "stream",
     "text": [
      "\u001b[34m\u001b[1mwandb\u001b[0m: Agent Starting Run: samo6pol with config:\n",
      "\u001b[34m\u001b[1mwandb\u001b[0m: \tactivation: relu\n",
      "\u001b[34m\u001b[1mwandb\u001b[0m: \tbatch_size: 50\n",
      "\u001b[34m\u001b[1mwandb\u001b[0m: \tdense: 32\n",
      "\u001b[34m\u001b[1mwandb\u001b[0m: \tdropout: 0.2\n",
      "\u001b[34m\u001b[1mwandb\u001b[0m: \tlearning_rate: 0.0001\n",
      "\u001b[34m\u001b[1mwandb\u001b[0m: \toptimizer: adam\n",
      "\u001b[34m\u001b[1mwandb\u001b[0m: \tpretrain_net: inception\n",
      "Failed to detect the name of this notebook, you can set it manually with the WANDB_NOTEBOOK_NAME environment variable to enable code saving.\n"
     ]
    },
    {
     "data": {
      "text/html": [
       "Tracking run with wandb version 0.12.18"
      ],
      "text/plain": [
       "<IPython.core.display.HTML object>"
      ]
     },
     "metadata": {},
     "output_type": "display_data"
    },
    {
     "data": {
      "text/html": [
       "Run data is saved locally in <code>/home/lab38/Multi_proj_6/model/multi-output/strawberry/sweep/wandb/run-20220617_151335-samo6pol</code>"
      ],
      "text/plain": [
       "<IPython.core.display.HTML object>"
      ]
     },
     "metadata": {},
     "output_type": "display_data"
    },
    {
     "data": {
      "text/html": [
       "Syncing run <strong><a href=\"https://wandb.ai/hkleee/strawberry/runs/samo6pol\" target=\"_blank\">effortless-sweep-3</a></strong> to <a href=\"https://wandb.ai/hkleee/strawberry\" target=\"_blank\">Weights & Biases</a> (<a href=\"https://wandb.me/run\" target=\"_blank\">docs</a>)<br/>Sweep page:  <a href=\"https://wandb.ai/hkleee/strawberry/sweeps/natutesf\" target=\"_blank\">https://wandb.ai/hkleee/strawberry/sweeps/natutesf</a>"
      ],
      "text/plain": [
       "<IPython.core.display.HTML object>"
      ]
     },
     "metadata": {},
     "output_type": "display_data"
    },
    {
     "data": {
      "text/html": [
       "Finishing last run (ID:samo6pol) before initializing another..."
      ],
      "text/plain": [
       "<IPython.core.display.HTML object>"
      ]
     },
     "metadata": {},
     "output_type": "display_data"
    },
    {
     "data": {
      "text/html": [
       "Waiting for W&B process to finish... <strong style=\"color:green\">(success).</strong>"
      ],
      "text/plain": [
       "<IPython.core.display.HTML object>"
      ]
     },
     "metadata": {},
     "output_type": "display_data"
    },
    {
     "data": {
      "text/html": [
       "Synced <strong style=\"color:#cdcd00\">effortless-sweep-3</strong>: <a href=\"https://wandb.ai/hkleee/strawberry/runs/samo6pol\" target=\"_blank\">https://wandb.ai/hkleee/strawberry/runs/samo6pol</a><br/>Synced 5 W&B file(s), 0 media file(s), 0 artifact file(s) and 0 other file(s)"
      ],
      "text/plain": [
       "<IPython.core.display.HTML object>"
      ]
     },
     "metadata": {},
     "output_type": "display_data"
    },
    {
     "data": {
      "text/html": [
       "Find logs at: <code>./wandb/run-20220617_151335-samo6pol/logs</code>"
      ],
      "text/plain": [
       "<IPython.core.display.HTML object>"
      ]
     },
     "metadata": {},
     "output_type": "display_data"
    },
    {
     "data": {
      "text/html": [
       "Successfully finished last run (ID:samo6pol). Initializing new run:<br/>"
      ],
      "text/plain": [
       "<IPython.core.display.HTML object>"
      ]
     },
     "metadata": {},
     "output_type": "display_data"
    },
    {
     "data": {
      "text/html": [
       "Tracking run with wandb version 0.12.18"
      ],
      "text/plain": [
       "<IPython.core.display.HTML object>"
      ]
     },
     "metadata": {},
     "output_type": "display_data"
    },
    {
     "data": {
      "text/html": [
       "Run data is saved locally in <code>/home/lab38/Multi_proj_6/model/multi-output/strawberry/sweep/wandb/run-20220617_151339-samo6pol</code>"
      ],
      "text/plain": [
       "<IPython.core.display.HTML object>"
      ]
     },
     "metadata": {},
     "output_type": "display_data"
    },
    {
     "data": {
      "text/html": [
       "Syncing run <strong><a href=\"https://wandb.ai/hkleee/strawberry/runs/samo6pol\" target=\"_blank\">effortless-sweep-3</a></strong> to <a href=\"https://wandb.ai/hkleee/strawberry\" target=\"_blank\">Weights & Biases</a> (<a href=\"https://wandb.me/run\" target=\"_blank\">docs</a>)<br/>Sweep page:  <a href=\"https://wandb.ai/hkleee/strawberry/sweeps/natutesf\" target=\"_blank\">https://wandb.ai/hkleee/strawberry/sweeps/natutesf</a>"
      ],
      "text/plain": [
       "<IPython.core.display.HTML object>"
      ]
     },
     "metadata": {},
     "output_type": "display_data"
    },
    {
     "name": "stdout",
     "output_type": "stream",
     "text": [
      "Found 13437 validated image filenames.\n",
      "Found 3360 validated image filenames.\n",
      "Epoch 1/10\n",
      "268/268 [==============================] - 330s 1s/step - loss: 2.5687 - diease_outputs_loss: 1.1443 - grow_outputs_loss: 1.4244 - diease_outputs_accuracy: 0.4565 - grow_outputs_accuracy: 0.4005 - val_loss: 1.7780 - val_diease_outputs_loss: 0.7441 - val_grow_outputs_loss: 1.0339 - val_diease_outputs_accuracy: 0.7324 - val_grow_outputs_accuracy: 0.5935\n",
      "Epoch 2/10\n",
      "268/268 [==============================] - 321s 1s/step - loss: 1.7357 - diease_outputs_loss: 0.7248 - grow_outputs_loss: 1.0109 - diease_outputs_accuracy: 0.7295 - grow_outputs_accuracy: 0.5864 - val_loss: 1.5431 - val_diease_outputs_loss: 0.6335 - val_grow_outputs_loss: 0.9096 - val_diease_outputs_accuracy: 0.7664 - val_grow_outputs_accuracy: 0.6292\n",
      "Epoch 3/10\n",
      "268/268 [==============================] - 321s 1s/step - loss: 1.5274 - diease_outputs_loss: 0.6219 - grow_outputs_loss: 0.9056 - diease_outputs_accuracy: 0.7704 - grow_outputs_accuracy: 0.6265 - val_loss: 1.4291 - val_diease_outputs_loss: 0.5706 - val_grow_outputs_loss: 0.8586 - val_diease_outputs_accuracy: 0.7917 - val_grow_outputs_accuracy: 0.6405\n",
      "Epoch 4/10\n",
      "268/268 [==============================] - 319s 1s/step - loss: 1.4441 - diease_outputs_loss: 0.5754 - grow_outputs_loss: 0.8687 - diease_outputs_accuracy: 0.7829 - grow_outputs_accuracy: 0.6365 - val_loss: 1.3572 - val_diease_outputs_loss: 0.5279 - val_grow_outputs_loss: 0.8293 - val_diease_outputs_accuracy: 0.8104 - val_grow_outputs_accuracy: 0.6533\n",
      "Epoch 5/10\n",
      "268/268 [==============================] - 320s 1s/step - loss: 1.3595 - diease_outputs_loss: 0.5337 - grow_outputs_loss: 0.8258 - diease_outputs_accuracy: 0.8006 - grow_outputs_accuracy: 0.6549 - val_loss: 1.3003 - val_diease_outputs_loss: 0.5024 - val_grow_outputs_loss: 0.7979 - val_diease_outputs_accuracy: 0.8173 - val_grow_outputs_accuracy: 0.6574\n",
      "Epoch 6/10\n",
      "268/268 [==============================] - 316s 1s/step - loss: 1.3214 - diease_outputs_loss: 0.5167 - grow_outputs_loss: 0.8046 - diease_outputs_accuracy: 0.8072 - grow_outputs_accuracy: 0.6606 - val_loss: 1.2554 - val_diease_outputs_loss: 0.4730 - val_grow_outputs_loss: 0.7824 - val_diease_outputs_accuracy: 0.8307 - val_grow_outputs_accuracy: 0.6649\n",
      "Epoch 7/10\n",
      "268/268 [==============================] - 316s 1s/step - loss: 1.2675 - diease_outputs_loss: 0.4862 - grow_outputs_loss: 0.7813 - diease_outputs_accuracy: 0.8177 - grow_outputs_accuracy: 0.6737 - val_loss: 1.2310 - val_diease_outputs_loss: 0.4631 - val_grow_outputs_loss: 0.7679 - val_diease_outputs_accuracy: 0.8307 - val_grow_outputs_accuracy: 0.6723\n",
      "Epoch 8/10\n",
      "268/268 [==============================] - 316s 1s/step - loss: 1.2515 - diease_outputs_loss: 0.4725 - grow_outputs_loss: 0.7790 - diease_outputs_accuracy: 0.8278 - grow_outputs_accuracy: 0.6751 - val_loss: 1.1945 - val_diease_outputs_loss: 0.4406 - val_grow_outputs_loss: 0.7540 - val_diease_outputs_accuracy: 0.8414 - val_grow_outputs_accuracy: 0.6750\n",
      "Epoch 9/10\n",
      "268/268 [==============================] - 315s 1s/step - loss: 1.2226 - diease_outputs_loss: 0.4586 - grow_outputs_loss: 0.7639 - diease_outputs_accuracy: 0.8290 - grow_outputs_accuracy: 0.6954 - val_loss: 1.1628 - val_diease_outputs_loss: 0.4247 - val_grow_outputs_loss: 0.7382 - val_diease_outputs_accuracy: 0.8449 - val_grow_outputs_accuracy: 0.6857\n",
      "Epoch 10/10\n",
      "268/268 [==============================] - 318s 1s/step - loss: 1.2075 - diease_outputs_loss: 0.4483 - grow_outputs_loss: 0.7592 - diease_outputs_accuracy: 0.8303 - grow_outputs_accuracy: 0.6924 - val_loss: 1.1397 - val_diease_outputs_loss: 0.4127 - val_grow_outputs_loss: 0.7270 - val_diease_outputs_accuracy: 0.8512 - val_grow_outputs_accuracy: 0.6920\n"
     ]
    },
    {
     "data": {
      "text/html": [
       "Waiting for W&B process to finish... <strong style=\"color:green\">(success).</strong>"
      ],
      "text/plain": [
       "<IPython.core.display.HTML object>"
      ]
     },
     "metadata": {},
     "output_type": "display_data"
    },
    {
     "data": {
      "text/html": [
       "<style>\n",
       "    table.wandb td:nth-child(1) { padding: 0 10px; text-align: left ; width: auto;} td:nth-child(2) {text-align: left ; width: 100%}\n",
       "    .wandb-row { display: flex; flex-direction: row; flex-wrap: wrap; justify-content: flex-start; width: 100% }\n",
       "    .wandb-col { display: flex; flex-direction: column; flex-basis: 100%; flex: 1; padding: 10px; }\n",
       "    </style>\n",
       "<div class=\"wandb-row\"><div class=\"wandb-col\"><h3>Run history:</h3><br/><table class=\"wandb\"><tr><td>diease_outputs_accuracy</td><td>▁▅▆▇▇▇████</td></tr><tr><td>diease_outputs_loss</td><td>█▄▃▃▂▂▂▁▁▁</td></tr><tr><td>epoch</td><td>▁▂▃▃▄▅▆▆▇█</td></tr><tr><td>grow_outputs_accuracy</td><td>▁▅▆▆▇▇▇███</td></tr><tr><td>grow_outputs_loss</td><td>█▄▃▂▂▂▁▁▁▁</td></tr><tr><td>loss</td><td>█▄▃▂▂▂▁▁▁▁</td></tr><tr><td>val_diease_outputs_accuracy</td><td>▁▃▄▆▆▇▇▇██</td></tr><tr><td>val_diease_outputs_loss</td><td>█▆▄▃▃▂▂▂▁▁</td></tr><tr><td>val_grow_outputs_accuracy</td><td>▁▄▄▅▆▆▇▇██</td></tr><tr><td>val_grow_outputs_loss</td><td>█▅▄▃▃▂▂▂▁▁</td></tr><tr><td>val_loss</td><td>█▅▄▃▃▂▂▂▁▁</td></tr></table><br/></div><div class=\"wandb-col\"><h3>Run summary:</h3><br/><table class=\"wandb\"><tr><td>best_epoch</td><td>9</td></tr><tr><td>best_val_loss</td><td>1.13969</td></tr><tr><td>diease_outputs_accuracy</td><td>0.83043</td></tr><tr><td>diease_outputs_loss</td><td>0.44859</td></tr><tr><td>epoch</td><td>9</td></tr><tr><td>grow_outputs_accuracy</td><td>0.68746</td></tr><tr><td>grow_outputs_loss</td><td>0.75848</td></tr><tr><td>loss</td><td>1.20707</td></tr><tr><td>val_diease_outputs_accuracy</td><td>0.85119</td></tr><tr><td>val_diease_outputs_loss</td><td>0.41271</td></tr><tr><td>val_grow_outputs_accuracy</td><td>0.69196</td></tr><tr><td>val_grow_outputs_loss</td><td>0.72698</td></tr><tr><td>val_loss</td><td>1.13969</td></tr></table><br/></div></div>"
      ],
      "text/plain": [
       "<IPython.core.display.HTML object>"
      ]
     },
     "metadata": {},
     "output_type": "display_data"
    },
    {
     "data": {
      "text/html": [
       "Synced <strong style=\"color:#cdcd00\">effortless-sweep-3</strong>: <a href=\"https://wandb.ai/hkleee/strawberry/runs/samo6pol\" target=\"_blank\">https://wandb.ai/hkleee/strawberry/runs/samo6pol</a><br/>Synced 6 W&B file(s), 1 media file(s), 0 artifact file(s) and 1 other file(s)"
      ],
      "text/plain": [
       "<IPython.core.display.HTML object>"
      ]
     },
     "metadata": {},
     "output_type": "display_data"
    },
    {
     "data": {
      "text/html": [
       "Find logs at: <code>./wandb/run-20220617_151339-samo6pol/logs</code>"
      ],
      "text/plain": [
       "<IPython.core.display.HTML object>"
      ]
     },
     "metadata": {},
     "output_type": "display_data"
    },
    {
     "name": "stderr",
     "output_type": "stream",
     "text": [
      "\u001b[34m\u001b[1mwandb\u001b[0m: Agent Starting Run: bwubt7b9 with config:\n",
      "\u001b[34m\u001b[1mwandb\u001b[0m: \tactivation: relu\n",
      "\u001b[34m\u001b[1mwandb\u001b[0m: \tbatch_size: 20\n",
      "\u001b[34m\u001b[1mwandb\u001b[0m: \tdense: 32\n",
      "\u001b[34m\u001b[1mwandb\u001b[0m: \tdropout: 0.5\n",
      "\u001b[34m\u001b[1mwandb\u001b[0m: \tlearning_rate: 3e-05\n",
      "\u001b[34m\u001b[1mwandb\u001b[0m: \toptimizer: rmsprop\n",
      "\u001b[34m\u001b[1mwandb\u001b[0m: \tpretrain_net: resnet\n",
      "Failed to detect the name of this notebook, you can set it manually with the WANDB_NOTEBOOK_NAME environment variable to enable code saving.\n"
     ]
    },
    {
     "data": {
      "text/html": [
       "Tracking run with wandb version 0.12.18"
      ],
      "text/plain": [
       "<IPython.core.display.HTML object>"
      ]
     },
     "metadata": {},
     "output_type": "display_data"
    },
    {
     "data": {
      "text/html": [
       "Run data is saved locally in <code>/home/lab38/Multi_proj_6/model/multi-output/strawberry/sweep/wandb/run-20220617_160738-bwubt7b9</code>"
      ],
      "text/plain": [
       "<IPython.core.display.HTML object>"
      ]
     },
     "metadata": {},
     "output_type": "display_data"
    },
    {
     "data": {
      "text/html": [
       "Syncing run <strong><a href=\"https://wandb.ai/hkleee/strawberry/runs/bwubt7b9\" target=\"_blank\">pious-sweep-4</a></strong> to <a href=\"https://wandb.ai/hkleee/strawberry\" target=\"_blank\">Weights & Biases</a> (<a href=\"https://wandb.me/run\" target=\"_blank\">docs</a>)<br/>Sweep page:  <a href=\"https://wandb.ai/hkleee/strawberry/sweeps/natutesf\" target=\"_blank\">https://wandb.ai/hkleee/strawberry/sweeps/natutesf</a>"
      ],
      "text/plain": [
       "<IPython.core.display.HTML object>"
      ]
     },
     "metadata": {},
     "output_type": "display_data"
    },
    {
     "data": {
      "text/html": [
       "Finishing last run (ID:bwubt7b9) before initializing another..."
      ],
      "text/plain": [
       "<IPython.core.display.HTML object>"
      ]
     },
     "metadata": {},
     "output_type": "display_data"
    },
    {
     "data": {
      "text/html": [
       "Waiting for W&B process to finish... <strong style=\"color:green\">(success).</strong>"
      ],
      "text/plain": [
       "<IPython.core.display.HTML object>"
      ]
     },
     "metadata": {},
     "output_type": "display_data"
    },
    {
     "data": {
      "text/html": [
       "Synced <strong style=\"color:#cdcd00\">pious-sweep-4</strong>: <a href=\"https://wandb.ai/hkleee/strawberry/runs/bwubt7b9\" target=\"_blank\">https://wandb.ai/hkleee/strawberry/runs/bwubt7b9</a><br/>Synced 5 W&B file(s), 0 media file(s), 0 artifact file(s) and 0 other file(s)"
      ],
      "text/plain": [
       "<IPython.core.display.HTML object>"
      ]
     },
     "metadata": {},
     "output_type": "display_data"
    },
    {
     "data": {
      "text/html": [
       "Find logs at: <code>./wandb/run-20220617_160738-bwubt7b9/logs</code>"
      ],
      "text/plain": [
       "<IPython.core.display.HTML object>"
      ]
     },
     "metadata": {},
     "output_type": "display_data"
    },
    {
     "data": {
      "text/html": [
       "Successfully finished last run (ID:bwubt7b9). Initializing new run:<br/>"
      ],
      "text/plain": [
       "<IPython.core.display.HTML object>"
      ]
     },
     "metadata": {},
     "output_type": "display_data"
    },
    {
     "data": {
      "text/html": [
       "Tracking run with wandb version 0.12.18"
      ],
      "text/plain": [
       "<IPython.core.display.HTML object>"
      ]
     },
     "metadata": {},
     "output_type": "display_data"
    },
    {
     "data": {
      "text/html": [
       "Run data is saved locally in <code>/home/lab38/Multi_proj_6/model/multi-output/strawberry/sweep/wandb/run-20220617_160742-bwubt7b9</code>"
      ],
      "text/plain": [
       "<IPython.core.display.HTML object>"
      ]
     },
     "metadata": {},
     "output_type": "display_data"
    },
    {
     "data": {
      "text/html": [
       "Syncing run <strong><a href=\"https://wandb.ai/hkleee/strawberry/runs/bwubt7b9\" target=\"_blank\">pious-sweep-4</a></strong> to <a href=\"https://wandb.ai/hkleee/strawberry\" target=\"_blank\">Weights & Biases</a> (<a href=\"https://wandb.me/run\" target=\"_blank\">docs</a>)<br/>Sweep page:  <a href=\"https://wandb.ai/hkleee/strawberry/sweeps/natutesf\" target=\"_blank\">https://wandb.ai/hkleee/strawberry/sweeps/natutesf</a>"
      ],
      "text/plain": [
       "<IPython.core.display.HTML object>"
      ]
     },
     "metadata": {},
     "output_type": "display_data"
    },
    {
     "name": "stdout",
     "output_type": "stream",
     "text": [
      "Found 13437 validated image filenames.\n",
      "Found 3360 validated image filenames.\n",
      "Epoch 1/10\n",
      "671/671 [==============================] - 290s 428ms/step - loss: 3.3830 - diease_outputs_loss: 1.5532 - grow_outputs_loss: 1.8297 - diease_outputs_accuracy: 0.2935 - grow_outputs_accuracy: 0.2158 - val_loss: 2.7155 - val_diease_outputs_loss: 1.1569 - val_grow_outputs_loss: 1.5585 - val_diease_outputs_accuracy: 0.4387 - val_grow_outputs_accuracy: 0.1908\n",
      "Epoch 2/10\n",
      "671/671 [==============================] - 285s 425ms/step - loss: 2.7525 - diease_outputs_loss: 1.1870 - grow_outputs_loss: 1.5655 - diease_outputs_accuracy: 0.4064 - grow_outputs_accuracy: 0.2777 - val_loss: 2.6326 - val_diease_outputs_loss: 1.1250 - val_grow_outputs_loss: 1.5076 - val_diease_outputs_accuracy: 0.4387 - val_grow_outputs_accuracy: 0.3336\n",
      "Epoch 3/10\n",
      "671/671 [==============================] - 285s 424ms/step - loss: 2.6845 - diease_outputs_loss: 1.1534 - grow_outputs_loss: 1.5311 - diease_outputs_accuracy: 0.4114 - grow_outputs_accuracy: 0.3094 - val_loss: 2.6119 - val_diease_outputs_loss: 1.1192 - val_grow_outputs_loss: 1.4927 - val_diease_outputs_accuracy: 0.4387 - val_grow_outputs_accuracy: 0.3336\n",
      "Epoch 4/10\n",
      "671/671 [==============================] - 285s 424ms/step - loss: 2.6509 - diease_outputs_loss: 1.1403 - grow_outputs_loss: 1.5105 - diease_outputs_accuracy: 0.4106 - grow_outputs_accuracy: 0.3175 - val_loss: 2.6009 - val_diease_outputs_loss: 1.1166 - val_grow_outputs_loss: 1.4843 - val_diease_outputs_accuracy: 0.4387 - val_grow_outputs_accuracy: 0.3336\n",
      "Epoch 5/10\n",
      "671/671 [==============================] - 287s 427ms/step - loss: 2.6501 - diease_outputs_loss: 1.1402 - grow_outputs_loss: 1.5099 - diease_outputs_accuracy: 0.4225 - grow_outputs_accuracy: 0.3278 - val_loss: 2.5921 - val_diease_outputs_loss: 1.1142 - val_grow_outputs_loss: 1.4779 - val_diease_outputs_accuracy: 0.4387 - val_grow_outputs_accuracy: 0.3336\n",
      "Epoch 6/10\n",
      "671/671 [==============================] - 286s 427ms/step - loss: 2.6251 - diease_outputs_loss: 1.1242 - grow_outputs_loss: 1.5008 - diease_outputs_accuracy: 0.4277 - grow_outputs_accuracy: 0.3314 - val_loss: 2.5832 - val_diease_outputs_loss: 1.1118 - val_grow_outputs_loss: 1.4714 - val_diease_outputs_accuracy: 0.4387 - val_grow_outputs_accuracy: 0.3336\n",
      "Epoch 7/10\n",
      "671/671 [==============================] - 285s 424ms/step - loss: 2.6183 - diease_outputs_loss: 1.1260 - grow_outputs_loss: 1.4922 - diease_outputs_accuracy: 0.4367 - grow_outputs_accuracy: 0.3390 - val_loss: 2.5770 - val_diease_outputs_loss: 1.1116 - val_grow_outputs_loss: 1.4654 - val_diease_outputs_accuracy: 0.4387 - val_grow_outputs_accuracy: 0.3339\n",
      "Epoch 8/10\n",
      "671/671 [==============================] - 285s 424ms/step - loss: 2.6021 - diease_outputs_loss: 1.1188 - grow_outputs_loss: 1.4833 - diease_outputs_accuracy: 0.4381 - grow_outputs_accuracy: 0.3357 - val_loss: 2.5709 - val_diease_outputs_loss: 1.1096 - val_grow_outputs_loss: 1.4613 - val_diease_outputs_accuracy: 0.4387 - val_grow_outputs_accuracy: 0.3348\n",
      "Epoch 9/10\n",
      "671/671 [==============================] - 285s 424ms/step - loss: 2.6038 - diease_outputs_loss: 1.1246 - grow_outputs_loss: 1.4792 - diease_outputs_accuracy: 0.4316 - grow_outputs_accuracy: 0.3413 - val_loss: 2.5675 - val_diease_outputs_loss: 1.1082 - val_grow_outputs_loss: 1.4593 - val_diease_outputs_accuracy: 0.4387 - val_grow_outputs_accuracy: 0.3360\n",
      "Epoch 10/10\n",
      "671/671 [==============================] - 285s 424ms/step - loss: 2.5973 - diease_outputs_loss: 1.1285 - grow_outputs_loss: 1.4688 - diease_outputs_accuracy: 0.4308 - grow_outputs_accuracy: 0.3560 - val_loss: 2.5595 - val_diease_outputs_loss: 1.1062 - val_grow_outputs_loss: 1.4533 - val_diease_outputs_accuracy: 0.4387 - val_grow_outputs_accuracy: 0.3756\n"
     ]
    },
    {
     "data": {
      "text/html": [
       "Waiting for W&B process to finish... <strong style=\"color:green\">(success).</strong>"
      ],
      "text/plain": [
       "<IPython.core.display.HTML object>"
      ]
     },
     "metadata": {},
     "output_type": "display_data"
    },
    {
     "data": {
      "text/html": [
       "<style>\n",
       "    table.wandb td:nth-child(1) { padding: 0 10px; text-align: left ; width: auto;} td:nth-child(2) {text-align: left ; width: 100%}\n",
       "    .wandb-row { display: flex; flex-direction: row; flex-wrap: wrap; justify-content: flex-start; width: 100% }\n",
       "    .wandb-col { display: flex; flex-direction: column; flex-basis: 100%; flex: 1; padding: 10px; }\n",
       "    </style>\n",
       "<div class=\"wandb-row\"><div class=\"wandb-col\"><h3>Run history:</h3><br/><table class=\"wandb\"><tr><td>diease_outputs_accuracy</td><td>▁▅▆▇▇█████</td></tr><tr><td>diease_outputs_loss</td><td>█▂▂▁▁▁▁▁▁▁</td></tr><tr><td>epoch</td><td>▁▂▃▃▄▅▆▆▇█</td></tr><tr><td>grow_outputs_accuracy</td><td>▁▄▆▆▇▇▇▇██</td></tr><tr><td>grow_outputs_loss</td><td>█▃▂▂▂▂▁▁▁▁</td></tr><tr><td>loss</td><td>█▃▂▂▂▁▁▁▁▁</td></tr><tr><td>val_diease_outputs_accuracy</td><td>▁▁▁▁▁▁▁▁▁▁</td></tr><tr><td>val_diease_outputs_loss</td><td>█▄▃▂▂▂▂▁▁▁</td></tr><tr><td>val_grow_outputs_accuracy</td><td>▁▆▆▆▆▆▆▆▇█</td></tr><tr><td>val_grow_outputs_loss</td><td>█▅▄▃▃▂▂▂▁▁</td></tr><tr><td>val_loss</td><td>█▄▃▃▂▂▂▂▁▁</td></tr></table><br/></div><div class=\"wandb-col\"><h3>Run summary:</h3><br/><table class=\"wandb\"><tr><td>best_epoch</td><td>9</td></tr><tr><td>best_val_loss</td><td>2.55951</td></tr><tr><td>diease_outputs_accuracy</td><td>0.43594</td></tr><tr><td>diease_outputs_loss</td><td>1.12117</td></tr><tr><td>epoch</td><td>9</td></tr><tr><td>grow_outputs_accuracy</td><td>0.34531</td></tr><tr><td>grow_outputs_loss</td><td>1.47558</td></tr><tr><td>loss</td><td>2.59675</td></tr><tr><td>val_diease_outputs_accuracy</td><td>0.43869</td></tr><tr><td>val_diease_outputs_loss</td><td>1.10616</td></tr><tr><td>val_grow_outputs_accuracy</td><td>0.3756</td></tr><tr><td>val_grow_outputs_loss</td><td>1.45335</td></tr><tr><td>val_loss</td><td>2.55951</td></tr></table><br/></div></div>"
      ],
      "text/plain": [
       "<IPython.core.display.HTML object>"
      ]
     },
     "metadata": {},
     "output_type": "display_data"
    },
    {
     "data": {
      "text/html": [
       "Synced <strong style=\"color:#cdcd00\">pious-sweep-4</strong>: <a href=\"https://wandb.ai/hkleee/strawberry/runs/bwubt7b9\" target=\"_blank\">https://wandb.ai/hkleee/strawberry/runs/bwubt7b9</a><br/>Synced 6 W&B file(s), 1 media file(s), 0 artifact file(s) and 1 other file(s)"
      ],
      "text/plain": [
       "<IPython.core.display.HTML object>"
      ]
     },
     "metadata": {},
     "output_type": "display_data"
    },
    {
     "data": {
      "text/html": [
       "Find logs at: <code>./wandb/run-20220617_160742-bwubt7b9/logs</code>"
      ],
      "text/plain": [
       "<IPython.core.display.HTML object>"
      ]
     },
     "metadata": {},
     "output_type": "display_data"
    },
    {
     "name": "stderr",
     "output_type": "stream",
     "text": [
      "\u001b[34m\u001b[1mwandb\u001b[0m: Agent Starting Run: r0t8izdi with config:\n",
      "\u001b[34m\u001b[1mwandb\u001b[0m: \tactivation: relu\n",
      "\u001b[34m\u001b[1mwandb\u001b[0m: \tbatch_size: 50\n",
      "\u001b[34m\u001b[1mwandb\u001b[0m: \tdense: 256\n",
      "\u001b[34m\u001b[1mwandb\u001b[0m: \tdropout: 0.2\n",
      "\u001b[34m\u001b[1mwandb\u001b[0m: \tlearning_rate: 0.001\n",
      "\u001b[34m\u001b[1mwandb\u001b[0m: \toptimizer: sgd\n",
      "\u001b[34m\u001b[1mwandb\u001b[0m: \tpretrain_net: resnet\n",
      "Failed to detect the name of this notebook, you can set it manually with the WANDB_NOTEBOOK_NAME environment variable to enable code saving.\n"
     ]
    },
    {
     "data": {
      "text/html": [
       "Tracking run with wandb version 0.12.18"
      ],
      "text/plain": [
       "<IPython.core.display.HTML object>"
      ]
     },
     "metadata": {},
     "output_type": "display_data"
    },
    {
     "data": {
      "text/html": [
       "Run data is saved locally in <code>/home/lab38/Multi_proj_6/model/multi-output/strawberry/sweep/wandb/run-20220617_165549-r0t8izdi</code>"
      ],
      "text/plain": [
       "<IPython.core.display.HTML object>"
      ]
     },
     "metadata": {},
     "output_type": "display_data"
    },
    {
     "data": {
      "text/html": [
       "Syncing run <strong><a href=\"https://wandb.ai/hkleee/strawberry/runs/r0t8izdi\" target=\"_blank\">good-sweep-5</a></strong> to <a href=\"https://wandb.ai/hkleee/strawberry\" target=\"_blank\">Weights & Biases</a> (<a href=\"https://wandb.me/run\" target=\"_blank\">docs</a>)<br/>Sweep page:  <a href=\"https://wandb.ai/hkleee/strawberry/sweeps/natutesf\" target=\"_blank\">https://wandb.ai/hkleee/strawberry/sweeps/natutesf</a>"
      ],
      "text/plain": [
       "<IPython.core.display.HTML object>"
      ]
     },
     "metadata": {},
     "output_type": "display_data"
    },
    {
     "data": {
      "text/html": [
       "Finishing last run (ID:r0t8izdi) before initializing another..."
      ],
      "text/plain": [
       "<IPython.core.display.HTML object>"
      ]
     },
     "metadata": {},
     "output_type": "display_data"
    },
    {
     "data": {
      "text/html": [
       "Waiting for W&B process to finish... <strong style=\"color:green\">(success).</strong>"
      ],
      "text/plain": [
       "<IPython.core.display.HTML object>"
      ]
     },
     "metadata": {},
     "output_type": "display_data"
    },
    {
     "data": {
      "text/html": [
       "Synced <strong style=\"color:#cdcd00\">good-sweep-5</strong>: <a href=\"https://wandb.ai/hkleee/strawberry/runs/r0t8izdi\" target=\"_blank\">https://wandb.ai/hkleee/strawberry/runs/r0t8izdi</a><br/>Synced 5 W&B file(s), 0 media file(s), 0 artifact file(s) and 0 other file(s)"
      ],
      "text/plain": [
       "<IPython.core.display.HTML object>"
      ]
     },
     "metadata": {},
     "output_type": "display_data"
    },
    {
     "data": {
      "text/html": [
       "Find logs at: <code>./wandb/run-20220617_165549-r0t8izdi/logs</code>"
      ],
      "text/plain": [
       "<IPython.core.display.HTML object>"
      ]
     },
     "metadata": {},
     "output_type": "display_data"
    },
    {
     "data": {
      "text/html": [
       "Successfully finished last run (ID:r0t8izdi). Initializing new run:<br/>"
      ],
      "text/plain": [
       "<IPython.core.display.HTML object>"
      ]
     },
     "metadata": {},
     "output_type": "display_data"
    },
    {
     "data": {
      "text/html": [
       "Tracking run with wandb version 0.12.18"
      ],
      "text/plain": [
       "<IPython.core.display.HTML object>"
      ]
     },
     "metadata": {},
     "output_type": "display_data"
    },
    {
     "data": {
      "text/html": [
       "Run data is saved locally in <code>/home/lab38/Multi_proj_6/model/multi-output/strawberry/sweep/wandb/run-20220617_165554-r0t8izdi</code>"
      ],
      "text/plain": [
       "<IPython.core.display.HTML object>"
      ]
     },
     "metadata": {},
     "output_type": "display_data"
    },
    {
     "data": {
      "text/html": [
       "Syncing run <strong><a href=\"https://wandb.ai/hkleee/strawberry/runs/r0t8izdi\" target=\"_blank\">good-sweep-5</a></strong> to <a href=\"https://wandb.ai/hkleee/strawberry\" target=\"_blank\">Weights & Biases</a> (<a href=\"https://wandb.me/run\" target=\"_blank\">docs</a>)<br/>Sweep page:  <a href=\"https://wandb.ai/hkleee/strawberry/sweeps/natutesf\" target=\"_blank\">https://wandb.ai/hkleee/strawberry/sweeps/natutesf</a>"
      ],
      "text/plain": [
       "<IPython.core.display.HTML object>"
      ]
     },
     "metadata": {},
     "output_type": "display_data"
    },
    {
     "name": "stdout",
     "output_type": "stream",
     "text": [
      "Found 13437 validated image filenames.\n",
      "Found 3360 validated image filenames.\n",
      "Epoch 1/10\n",
      "268/268 [==============================] - 303s 1s/step - loss: 2.8280 - diease_outputs_loss: 1.2212 - grow_outputs_loss: 1.6069 - diease_outputs_accuracy: 0.3993 - grow_outputs_accuracy: 0.2892 - val_loss: 2.6200 - val_diease_outputs_loss: 1.1255 - val_grow_outputs_loss: 1.4945 - val_diease_outputs_accuracy: 0.4387 - val_grow_outputs_accuracy: 0.3336\n",
      "Epoch 2/10\n",
      "268/268 [==============================] - 299s 1s/step - loss: 2.6533 - diease_outputs_loss: 1.1367 - grow_outputs_loss: 1.5166 - diease_outputs_accuracy: 0.4220 - grow_outputs_accuracy: 0.3185 - val_loss: 2.6061 - val_diease_outputs_loss: 1.1173 - val_grow_outputs_loss: 1.4888 - val_diease_outputs_accuracy: 0.4387 - val_grow_outputs_accuracy: 0.3336\n",
      "Epoch 3/10\n",
      "268/268 [==============================] - 299s 1s/step - loss: 2.6319 - diease_outputs_loss: 1.1271 - grow_outputs_loss: 1.5048 - diease_outputs_accuracy: 0.4339 - grow_outputs_accuracy: 0.3210 - val_loss: 2.6077 - val_diease_outputs_loss: 1.1205 - val_grow_outputs_loss: 1.4871 - val_diease_outputs_accuracy: 0.4387 - val_grow_outputs_accuracy: 0.3336\n",
      "Epoch 4/10\n",
      "268/268 [==============================] - 300s 1s/step - loss: 2.6322 - diease_outputs_loss: 1.1298 - grow_outputs_loss: 1.5024 - diease_outputs_accuracy: 0.4304 - grow_outputs_accuracy: 0.3219 - val_loss: 2.5937 - val_diease_outputs_loss: 1.1144 - val_grow_outputs_loss: 1.4793 - val_diease_outputs_accuracy: 0.4387 - val_grow_outputs_accuracy: 0.3336\n",
      "Epoch 5/10\n",
      "268/268 [==============================] - 300s 1s/step - loss: 2.6331 - diease_outputs_loss: 1.1313 - grow_outputs_loss: 1.5018 - diease_outputs_accuracy: 0.4358 - grow_outputs_accuracy: 0.3286 - val_loss: 2.6047 - val_diease_outputs_loss: 1.1216 - val_grow_outputs_loss: 1.4832 - val_diease_outputs_accuracy: 0.4387 - val_grow_outputs_accuracy: 0.3363\n",
      "Epoch 6/10\n",
      "268/268 [==============================] - 300s 1s/step - loss: 2.6156 - diease_outputs_loss: 1.1245 - grow_outputs_loss: 1.4911 - diease_outputs_accuracy: 0.4315 - grow_outputs_accuracy: 0.3330 - val_loss: 2.5865 - val_diease_outputs_loss: 1.1123 - val_grow_outputs_loss: 1.4743 - val_diease_outputs_accuracy: 0.4387 - val_grow_outputs_accuracy: 0.3360\n",
      "Epoch 7/10\n",
      "268/268 [==============================] - 300s 1s/step - loss: 2.6033 - diease_outputs_loss: 1.1172 - grow_outputs_loss: 1.4860 - diease_outputs_accuracy: 0.4383 - grow_outputs_accuracy: 0.3312 - val_loss: 2.5801 - val_diease_outputs_loss: 1.1097 - val_grow_outputs_loss: 1.4704 - val_diease_outputs_accuracy: 0.4387 - val_grow_outputs_accuracy: 0.3363\n",
      "Epoch 8/10\n",
      "268/268 [==============================] - 301s 1s/step - loss: 2.6006 - diease_outputs_loss: 1.1204 - grow_outputs_loss: 1.4802 - diease_outputs_accuracy: 0.4416 - grow_outputs_accuracy: 0.3329 - val_loss: 2.5799 - val_diease_outputs_loss: 1.1139 - val_grow_outputs_loss: 1.4659 - val_diease_outputs_accuracy: 0.4387 - val_grow_outputs_accuracy: 0.3363\n",
      "Epoch 9/10\n",
      "268/268 [==============================] - 304s 1s/step - loss: 2.5938 - diease_outputs_loss: 1.1119 - grow_outputs_loss: 1.4819 - diease_outputs_accuracy: 0.4396 - grow_outputs_accuracy: 0.3396 - val_loss: 2.5645 - val_diease_outputs_loss: 1.1050 - val_grow_outputs_loss: 1.4596 - val_diease_outputs_accuracy: 0.4387 - val_grow_outputs_accuracy: 0.3336\n",
      "Epoch 10/10\n",
      "268/268 [==============================] - 301s 1s/step - loss: 2.5801 - diease_outputs_loss: 1.1030 - grow_outputs_loss: 1.4771 - diease_outputs_accuracy: 0.4430 - grow_outputs_accuracy: 0.3385 - val_loss: 2.5716 - val_diease_outputs_loss: 1.1060 - val_grow_outputs_loss: 1.4656 - val_diease_outputs_accuracy: 0.4467 - val_grow_outputs_accuracy: 0.3330\n"
     ]
    },
    {
     "data": {
      "text/html": [
       "Waiting for W&B process to finish... <strong style=\"color:green\">(success).</strong>"
      ],
      "text/plain": [
       "<IPython.core.display.HTML object>"
      ]
     },
     "metadata": {},
     "output_type": "display_data"
    },
    {
     "data": {
      "text/html": [
       "<style>\n",
       "    table.wandb td:nth-child(1) { padding: 0 10px; text-align: left ; width: auto;} td:nth-child(2) {text-align: left ; width: 100%}\n",
       "    .wandb-row { display: flex; flex-direction: row; flex-wrap: wrap; justify-content: flex-start; width: 100% }\n",
       "    .wandb-col { display: flex; flex-direction: column; flex-basis: 100%; flex: 1; padding: 10px; }\n",
       "    </style>\n",
       "<div class=\"wandb-row\"><div class=\"wandb-col\"><h3>Run history:</h3><br/><table class=\"wandb\"><tr><td>diease_outputs_accuracy</td><td>▁▅▆▇▇▇█▇██</td></tr><tr><td>diease_outputs_loss</td><td>█▄▃▃▂▂▂▂▁▁</td></tr><tr><td>epoch</td><td>▁▂▃▃▄▅▆▆▇█</td></tr><tr><td>grow_outputs_accuracy</td><td>▁▅▆▅▆▇▇▆██</td></tr><tr><td>grow_outputs_loss</td><td>█▅▄▄▃▂▂▂▁▁</td></tr><tr><td>loss</td><td>█▄▃▃▃▂▂▂▁▁</td></tr><tr><td>val_diease_outputs_accuracy</td><td>▁▁▁▁▁▁▁▁▁█</td></tr><tr><td>val_diease_outputs_loss</td><td>█▅▆▄▇▃▃▄▁▁</td></tr><tr><td>val_grow_outputs_accuracy</td><td>▂▂▂▂█▇██▂▁</td></tr><tr><td>val_grow_outputs_loss</td><td>█▇▇▅▆▄▃▂▁▂</td></tr><tr><td>val_loss</td><td>█▆▆▅▆▄▃▃▁▂</td></tr></table><br/></div><div class=\"wandb-col\"><h3>Run summary:</h3><br/><table class=\"wandb\"><tr><td>best_epoch</td><td>8</td></tr><tr><td>best_val_loss</td><td>2.56453</td></tr><tr><td>diease_outputs_accuracy</td><td>0.43819</td></tr><tr><td>diease_outputs_loss</td><td>1.11316</td></tr><tr><td>epoch</td><td>9</td></tr><tr><td>grow_outputs_accuracy</td><td>0.33787</td></tr><tr><td>grow_outputs_loss</td><td>1.47778</td></tr><tr><td>loss</td><td>2.59094</td></tr><tr><td>val_diease_outputs_accuracy</td><td>0.44673</td></tr><tr><td>val_diease_outputs_loss</td><td>1.10597</td></tr><tr><td>val_grow_outputs_accuracy</td><td>0.33304</td></tr><tr><td>val_grow_outputs_loss</td><td>1.46562</td></tr><tr><td>val_loss</td><td>2.57159</td></tr></table><br/></div></div>"
      ],
      "text/plain": [
       "<IPython.core.display.HTML object>"
      ]
     },
     "metadata": {},
     "output_type": "display_data"
    },
    {
     "data": {
      "text/html": [
       "Synced <strong style=\"color:#cdcd00\">good-sweep-5</strong>: <a href=\"https://wandb.ai/hkleee/strawberry/runs/r0t8izdi\" target=\"_blank\">https://wandb.ai/hkleee/strawberry/runs/r0t8izdi</a><br/>Synced 6 W&B file(s), 1 media file(s), 0 artifact file(s) and 1 other file(s)"
      ],
      "text/plain": [
       "<IPython.core.display.HTML object>"
      ]
     },
     "metadata": {},
     "output_type": "display_data"
    },
    {
     "data": {
      "text/html": [
       "Find logs at: <code>./wandb/run-20220617_165554-r0t8izdi/logs</code>"
      ],
      "text/plain": [
       "<IPython.core.display.HTML object>"
      ]
     },
     "metadata": {},
     "output_type": "display_data"
    },
    {
     "name": "stderr",
     "output_type": "stream",
     "text": [
      "\u001b[34m\u001b[1mwandb\u001b[0m: Sweep Agent: Waiting for job.\n",
      "\u001b[34m\u001b[1mwandb\u001b[0m: Job received.\n",
      "\u001b[34m\u001b[1mwandb\u001b[0m: Agent Starting Run: 3xwmfswn with config:\n",
      "\u001b[34m\u001b[1mwandb\u001b[0m: \tactivation: elu\n",
      "\u001b[34m\u001b[1mwandb\u001b[0m: \tbatch_size: 50\n",
      "\u001b[34m\u001b[1mwandb\u001b[0m: \tdense: 1024\n",
      "\u001b[34m\u001b[1mwandb\u001b[0m: \tdropout: 0.5\n",
      "\u001b[34m\u001b[1mwandb\u001b[0m: \tlearning_rate: 3e-05\n",
      "\u001b[34m\u001b[1mwandb\u001b[0m: \toptimizer: sgd\n",
      "\u001b[34m\u001b[1mwandb\u001b[0m: \tpretrain_net: resnet\n",
      "Failed to detect the name of this notebook, you can set it manually with the WANDB_NOTEBOOK_NAME environment variable to enable code saving.\n"
     ]
    },
    {
     "data": {
      "text/html": [
       "Tracking run with wandb version 0.12.18"
      ],
      "text/plain": [
       "<IPython.core.display.HTML object>"
      ]
     },
     "metadata": {},
     "output_type": "display_data"
    },
    {
     "data": {
      "text/html": [
       "Run data is saved locally in <code>/home/lab38/Multi_proj_6/model/multi-output/strawberry/sweep/wandb/run-20220617_174636-3xwmfswn</code>"
      ],
      "text/plain": [
       "<IPython.core.display.HTML object>"
      ]
     },
     "metadata": {},
     "output_type": "display_data"
    },
    {
     "data": {
      "text/html": [
       "Syncing run <strong><a href=\"https://wandb.ai/hkleee/strawberry/runs/3xwmfswn\" target=\"_blank\">polar-sweep-6</a></strong> to <a href=\"https://wandb.ai/hkleee/strawberry\" target=\"_blank\">Weights & Biases</a> (<a href=\"https://wandb.me/run\" target=\"_blank\">docs</a>)<br/>Sweep page:  <a href=\"https://wandb.ai/hkleee/strawberry/sweeps/natutesf\" target=\"_blank\">https://wandb.ai/hkleee/strawberry/sweeps/natutesf</a>"
      ],
      "text/plain": [
       "<IPython.core.display.HTML object>"
      ]
     },
     "metadata": {},
     "output_type": "display_data"
    },
    {
     "data": {
      "text/html": [
       "Finishing last run (ID:3xwmfswn) before initializing another..."
      ],
      "text/plain": [
       "<IPython.core.display.HTML object>"
      ]
     },
     "metadata": {},
     "output_type": "display_data"
    },
    {
     "data": {
      "text/html": [
       "Waiting for W&B process to finish... <strong style=\"color:green\">(success).</strong>"
      ],
      "text/plain": [
       "<IPython.core.display.HTML object>"
      ]
     },
     "metadata": {},
     "output_type": "display_data"
    },
    {
     "data": {
      "text/html": [
       "Synced <strong style=\"color:#cdcd00\">polar-sweep-6</strong>: <a href=\"https://wandb.ai/hkleee/strawberry/runs/3xwmfswn\" target=\"_blank\">https://wandb.ai/hkleee/strawberry/runs/3xwmfswn</a><br/>Synced 5 W&B file(s), 0 media file(s), 0 artifact file(s) and 0 other file(s)"
      ],
      "text/plain": [
       "<IPython.core.display.HTML object>"
      ]
     },
     "metadata": {},
     "output_type": "display_data"
    },
    {
     "data": {
      "text/html": [
       "Find logs at: <code>./wandb/run-20220617_174636-3xwmfswn/logs</code>"
      ],
      "text/plain": [
       "<IPython.core.display.HTML object>"
      ]
     },
     "metadata": {},
     "output_type": "display_data"
    },
    {
     "data": {
      "text/html": [
       "Successfully finished last run (ID:3xwmfswn). Initializing new run:<br/>"
      ],
      "text/plain": [
       "<IPython.core.display.HTML object>"
      ]
     },
     "metadata": {},
     "output_type": "display_data"
    },
    {
     "data": {
      "text/html": [
       "Tracking run with wandb version 0.12.18"
      ],
      "text/plain": [
       "<IPython.core.display.HTML object>"
      ]
     },
     "metadata": {},
     "output_type": "display_data"
    },
    {
     "data": {
      "text/html": [
       "Run data is saved locally in <code>/home/lab38/Multi_proj_6/model/multi-output/strawberry/sweep/wandb/run-20220617_174640-3xwmfswn</code>"
      ],
      "text/plain": [
       "<IPython.core.display.HTML object>"
      ]
     },
     "metadata": {},
     "output_type": "display_data"
    },
    {
     "data": {
      "text/html": [
       "Syncing run <strong><a href=\"https://wandb.ai/hkleee/strawberry/runs/3xwmfswn\" target=\"_blank\">polar-sweep-6</a></strong> to <a href=\"https://wandb.ai/hkleee/strawberry\" target=\"_blank\">Weights & Biases</a> (<a href=\"https://wandb.me/run\" target=\"_blank\">docs</a>)<br/>Sweep page:  <a href=\"https://wandb.ai/hkleee/strawberry/sweeps/natutesf\" target=\"_blank\">https://wandb.ai/hkleee/strawberry/sweeps/natutesf</a>"
      ],
      "text/plain": [
       "<IPython.core.display.HTML object>"
      ]
     },
     "metadata": {},
     "output_type": "display_data"
    },
    {
     "name": "stdout",
     "output_type": "stream",
     "text": [
      "Found 13437 validated image filenames.\n",
      "Found 3360 validated image filenames.\n",
      "Epoch 1/10\n",
      "268/268 [==============================] - 307s 1s/step - loss: 3.4999 - diease_outputs_loss: 1.4932 - grow_outputs_loss: 2.0066 - diease_outputs_accuracy: 0.2656 - grow_outputs_accuracy: 0.1735 - val_loss: 2.6659 - val_diease_outputs_loss: 1.1331 - val_grow_outputs_loss: 1.5328 - val_diease_outputs_accuracy: 0.4387 - val_grow_outputs_accuracy: 0.2176\n",
      "Epoch 2/10\n",
      "268/268 [==============================] - 300s 1s/step - loss: 2.9253 - diease_outputs_loss: 1.2328 - grow_outputs_loss: 1.6925 - diease_outputs_accuracy: 0.3776 - grow_outputs_accuracy: 0.2635 - val_loss: 2.6387 - val_diease_outputs_loss: 1.1220 - val_grow_outputs_loss: 1.5167 - val_diease_outputs_accuracy: 0.4390 - val_grow_outputs_accuracy: 0.2625\n",
      "Epoch 3/10\n",
      "268/268 [==============================] - 300s 1s/step - loss: 2.8518 - diease_outputs_loss: 1.2068 - grow_outputs_loss: 1.6450 - diease_outputs_accuracy: 0.3789 - grow_outputs_accuracy: 0.2762 - val_loss: 2.6340 - val_diease_outputs_loss: 1.1176 - val_grow_outputs_loss: 1.5164 - val_diease_outputs_accuracy: 0.4387 - val_grow_outputs_accuracy: 0.2557\n",
      "Epoch 4/10\n",
      "268/268 [==============================] - 300s 1s/step - loss: 2.8224 - diease_outputs_loss: 1.1913 - grow_outputs_loss: 1.6311 - diease_outputs_accuracy: 0.3764 - grow_outputs_accuracy: 0.2662 - val_loss: 2.6346 - val_diease_outputs_loss: 1.1176 - val_grow_outputs_loss: 1.5169 - val_diease_outputs_accuracy: 0.4390 - val_grow_outputs_accuracy: 0.2497\n",
      "Epoch 5/10\n",
      "268/268 [==============================] - 301s 1s/step - loss: 2.7851 - diease_outputs_loss: 1.1755 - grow_outputs_loss: 1.6097 - diease_outputs_accuracy: 0.3882 - grow_outputs_accuracy: 0.2752 - val_loss: 2.6334 - val_diease_outputs_loss: 1.1169 - val_grow_outputs_loss: 1.5165 - val_diease_outputs_accuracy: 0.4390 - val_grow_outputs_accuracy: 0.2518\n",
      "Epoch 6/10\n",
      "268/268 [==============================] - 301s 1s/step - loss: 2.7816 - diease_outputs_loss: 1.1773 - grow_outputs_loss: 1.6043 - diease_outputs_accuracy: 0.3916 - grow_outputs_accuracy: 0.2817 - val_loss: 2.6323 - val_diease_outputs_loss: 1.1164 - val_grow_outputs_loss: 1.5159 - val_diease_outputs_accuracy: 0.4393 - val_grow_outputs_accuracy: 0.2702\n",
      "Epoch 7/10\n",
      "268/268 [==============================] - 300s 1s/step - loss: 2.7538 - diease_outputs_loss: 1.1748 - grow_outputs_loss: 1.5791 - diease_outputs_accuracy: 0.3885 - grow_outputs_accuracy: 0.2907 - val_loss: 2.6315 - val_diease_outputs_loss: 1.1160 - val_grow_outputs_loss: 1.5155 - val_diease_outputs_accuracy: 0.4393 - val_grow_outputs_accuracy: 0.2795\n",
      "Epoch 8/10\n",
      "268/268 [==============================] - 301s 1s/step - loss: 2.7572 - diease_outputs_loss: 1.1648 - grow_outputs_loss: 1.5923 - diease_outputs_accuracy: 0.3874 - grow_outputs_accuracy: 0.2808 - val_loss: 2.6326 - val_diease_outputs_loss: 1.1164 - val_grow_outputs_loss: 1.5162 - val_diease_outputs_accuracy: 0.4390 - val_grow_outputs_accuracy: 0.2786\n",
      "Epoch 9/10\n",
      "165/268 [=================>............] - ETA: 1:50 - loss: 2.7379 - diease_outputs_loss: 1.1604 - grow_outputs_loss: 1.5775 - diease_outputs_accuracy: 0.3896 - grow_outputs_accuracy: 0.2842"
     ]
    }
   ],
   "source": [
    "#wandb.agent(sweep_id, train)"
   ]
  },
  {
   "cell_type": "code",
   "execution_count": null,
   "id": "b9433e97",
   "metadata": {
    "collapsed": true
   },
   "outputs": [
    {
     "name": "stderr",
     "output_type": "stream",
     "text": [
      "\u001b[34m\u001b[1mwandb\u001b[0m: Agent Starting Run: zosqg6hl with config:\n",
      "\u001b[34m\u001b[1mwandb\u001b[0m: \tactivation: softmax\n",
      "\u001b[34m\u001b[1mwandb\u001b[0m: \tbatch_size: 20\n",
      "\u001b[34m\u001b[1mwandb\u001b[0m: \tdense: 32\n",
      "\u001b[34m\u001b[1mwandb\u001b[0m: \tdropout: 0.5\n",
      "\u001b[34m\u001b[1mwandb\u001b[0m: \tlearning_rate: 3e-05\n",
      "\u001b[34m\u001b[1mwandb\u001b[0m: \toptimizer: rmsprop\n",
      "\u001b[34m\u001b[1mwandb\u001b[0m: \tpretrain_net: resnet\n",
      "Failed to detect the name of this notebook, you can set it manually with the WANDB_NOTEBOOK_NAME environment variable to enable code saving.\n",
      "\u001b[34m\u001b[1mwandb\u001b[0m: Currently logged in as: \u001b[33mhkleee\u001b[0m. Use \u001b[1m`wandb login --relogin`\u001b[0m to force relogin\n"
     ]
    },
    {
     "data": {
      "text/html": [
       "Tracking run with wandb version 0.12.18"
      ],
      "text/plain": [
       "<IPython.core.display.HTML object>"
      ]
     },
     "metadata": {},
     "output_type": "display_data"
    },
    {
     "data": {
      "text/html": [
       "Run data is saved locally in <code>/home/lab38/Multi_proj_6/model/multi-output/strawberry/sweep/wandb/run-20220617_183516-zosqg6hl</code>"
      ],
      "text/plain": [
       "<IPython.core.display.HTML object>"
      ]
     },
     "metadata": {},
     "output_type": "display_data"
    },
    {
     "data": {
      "text/html": [
       "Syncing run <strong><a href=\"https://wandb.ai/hkleee/strawberry/runs/zosqg6hl\" target=\"_blank\">hopeful-sweep-7</a></strong> to <a href=\"https://wandb.ai/hkleee/strawberry\" target=\"_blank\">Weights & Biases</a> (<a href=\"https://wandb.me/run\" target=\"_blank\">docs</a>)<br/>Sweep page:  <a href=\"https://wandb.ai/hkleee/strawberry/sweeps/natutesf\" target=\"_blank\">https://wandb.ai/hkleee/strawberry/sweeps/natutesf</a>"
      ],
      "text/plain": [
       "<IPython.core.display.HTML object>"
      ]
     },
     "metadata": {},
     "output_type": "display_data"
    },
    {
     "data": {
      "text/html": [
       "Finishing last run (ID:zosqg6hl) before initializing another..."
      ],
      "text/plain": [
       "<IPython.core.display.HTML object>"
      ]
     },
     "metadata": {},
     "output_type": "display_data"
    },
    {
     "data": {
      "text/html": [
       "Waiting for W&B process to finish... <strong style=\"color:green\">(success).</strong>"
      ],
      "text/plain": [
       "<IPython.core.display.HTML object>"
      ]
     },
     "metadata": {},
     "output_type": "display_data"
    },
    {
     "data": {
      "text/html": [
       "Synced <strong style=\"color:#cdcd00\">hopeful-sweep-7</strong>: <a href=\"https://wandb.ai/hkleee/strawberry/runs/zosqg6hl\" target=\"_blank\">https://wandb.ai/hkleee/strawberry/runs/zosqg6hl</a><br/>Synced 5 W&B file(s), 0 media file(s), 0 artifact file(s) and 0 other file(s)"
      ],
      "text/plain": [
       "<IPython.core.display.HTML object>"
      ]
     },
     "metadata": {},
     "output_type": "display_data"
    },
    {
     "data": {
      "text/html": [
       "Find logs at: <code>./wandb/run-20220617_183516-zosqg6hl/logs</code>"
      ],
      "text/plain": [
       "<IPython.core.display.HTML object>"
      ]
     },
     "metadata": {},
     "output_type": "display_data"
    },
    {
     "data": {
      "text/html": [
       "Successfully finished last run (ID:zosqg6hl). Initializing new run:<br/>"
      ],
      "text/plain": [
       "<IPython.core.display.HTML object>"
      ]
     },
     "metadata": {},
     "output_type": "display_data"
    },
    {
     "data": {
      "text/html": [
       "Tracking run with wandb version 0.12.18"
      ],
      "text/plain": [
       "<IPython.core.display.HTML object>"
      ]
     },
     "metadata": {},
     "output_type": "display_data"
    },
    {
     "data": {
      "text/html": [
       "Run data is saved locally in <code>/home/lab38/Multi_proj_6/model/multi-output/strawberry/sweep/wandb/run-20220617_183520-zosqg6hl</code>"
      ],
      "text/plain": [
       "<IPython.core.display.HTML object>"
      ]
     },
     "metadata": {},
     "output_type": "display_data"
    },
    {
     "data": {
      "text/html": [
       "Syncing run <strong><a href=\"https://wandb.ai/hkleee/strawberry/runs/zosqg6hl\" target=\"_blank\">hopeful-sweep-7</a></strong> to <a href=\"https://wandb.ai/hkleee/strawberry\" target=\"_blank\">Weights & Biases</a> (<a href=\"https://wandb.me/run\" target=\"_blank\">docs</a>)<br/>Sweep page:  <a href=\"https://wandb.ai/hkleee/strawberry/sweeps/natutesf\" target=\"_blank\">https://wandb.ai/hkleee/strawberry/sweeps/natutesf</a>"
      ],
      "text/plain": [
       "<IPython.core.display.HTML object>"
      ]
     },
     "metadata": {},
     "output_type": "display_data"
    },
    {
     "name": "stdout",
     "output_type": "stream",
     "text": [
      "Found 13437 validated image filenames.\n",
      "Found 3360 validated image filenames.\n"
     ]
    },
    {
     "name": "stderr",
     "output_type": "stream",
     "text": [
      "2022-06-17 18:35:30.847553: I tensorflow/compiler/jit/xla_cpu_device.cc:41] Not creating XLA devices, tf_xla_enable_xla_devices not set\n",
      "2022-06-17 18:35:30.848671: I tensorflow/stream_executor/platform/default/dso_loader.cc:49] Successfully opened dynamic library libcuda.so.1\n",
      "2022-06-17 18:35:30.893248: I tensorflow/stream_executor/cuda/cuda_gpu_executor.cc:941] successful NUMA node read from SysFS had negative value (-1), but there must be at least one NUMA node, so returning NUMA node zero\n",
      "2022-06-17 18:35:30.893901: I tensorflow/core/common_runtime/gpu/gpu_device.cc:1720] Found device 0 with properties: \n",
      "pciBusID: 0000:00:1e.0 name: Tesla T4 computeCapability: 7.5\n",
      "coreClock: 1.59GHz coreCount: 40 deviceMemorySize: 14.75GiB deviceMemoryBandwidth: 298.08GiB/s\n",
      "2022-06-17 18:35:30.893956: I tensorflow/stream_executor/platform/default/dso_loader.cc:49] Successfully opened dynamic library libcudart.so.10.1\n",
      "2022-06-17 18:35:30.983316: I tensorflow/stream_executor/platform/default/dso_loader.cc:49] Successfully opened dynamic library libcublas.so.10\n",
      "2022-06-17 18:35:30.983464: I tensorflow/stream_executor/platform/default/dso_loader.cc:49] Successfully opened dynamic library libcublasLt.so.10\n",
      "2022-06-17 18:35:31.031298: I tensorflow/stream_executor/platform/default/dso_loader.cc:49] Successfully opened dynamic library libcufft.so.10\n",
      "2022-06-17 18:35:31.043695: I tensorflow/stream_executor/platform/default/dso_loader.cc:49] Successfully opened dynamic library libcurand.so.10\n",
      "2022-06-17 18:35:31.127038: I tensorflow/stream_executor/platform/default/dso_loader.cc:49] Successfully opened dynamic library libcusolver.so.10\n",
      "2022-06-17 18:35:31.139118: I tensorflow/stream_executor/platform/default/dso_loader.cc:49] Successfully opened dynamic library libcusparse.so.10\n",
      "2022-06-17 18:35:31.282494: I tensorflow/stream_executor/platform/default/dso_loader.cc:49] Successfully opened dynamic library libcudnn.so.7\n",
      "2022-06-17 18:35:31.282742: I tensorflow/stream_executor/cuda/cuda_gpu_executor.cc:941] successful NUMA node read from SysFS had negative value (-1), but there must be at least one NUMA node, so returning NUMA node zero\n",
      "2022-06-17 18:35:31.283411: I tensorflow/stream_executor/cuda/cuda_gpu_executor.cc:941] successful NUMA node read from SysFS had negative value (-1), but there must be at least one NUMA node, so returning NUMA node zero\n",
      "2022-06-17 18:35:31.283950: I tensorflow/core/common_runtime/gpu/gpu_device.cc:1862] Adding visible gpu devices: 0\n",
      "2022-06-17 18:35:31.285043: I tensorflow/core/platform/cpu_feature_guard.cc:142] This TensorFlow binary is optimized with oneAPI Deep Neural Network Library (oneDNN) to use the following CPU instructions in performance-critical operations:  SSE4.1 SSE4.2 AVX AVX2 AVX512F FMA\n",
      "To enable them in other operations, rebuild TensorFlow with the appropriate compiler flags.\n",
      "2022-06-17 18:35:31.285279: I tensorflow/compiler/jit/xla_gpu_device.cc:99] Not creating XLA devices, tf_xla_enable_xla_devices not set\n",
      "2022-06-17 18:35:31.285466: I tensorflow/stream_executor/cuda/cuda_gpu_executor.cc:941] successful NUMA node read from SysFS had negative value (-1), but there must be at least one NUMA node, so returning NUMA node zero\n",
      "2022-06-17 18:35:31.286040: I tensorflow/core/common_runtime/gpu/gpu_device.cc:1720] Found device 0 with properties: \n",
      "pciBusID: 0000:00:1e.0 name: Tesla T4 computeCapability: 7.5\n",
      "coreClock: 1.59GHz coreCount: 40 deviceMemorySize: 14.75GiB deviceMemoryBandwidth: 298.08GiB/s\n",
      "2022-06-17 18:35:31.286106: I tensorflow/stream_executor/platform/default/dso_loader.cc:49] Successfully opened dynamic library libcudart.so.10.1\n",
      "2022-06-17 18:35:31.286136: I tensorflow/stream_executor/platform/default/dso_loader.cc:49] Successfully opened dynamic library libcublas.so.10\n",
      "2022-06-17 18:35:31.286151: I tensorflow/stream_executor/platform/default/dso_loader.cc:49] Successfully opened dynamic library libcublasLt.so.10\n",
      "2022-06-17 18:35:31.286166: I tensorflow/stream_executor/platform/default/dso_loader.cc:49] Successfully opened dynamic library libcufft.so.10\n",
      "2022-06-17 18:35:31.286181: I tensorflow/stream_executor/platform/default/dso_loader.cc:49] Successfully opened dynamic library libcurand.so.10\n",
      "2022-06-17 18:35:31.286196: I tensorflow/stream_executor/platform/default/dso_loader.cc:49] Successfully opened dynamic library libcusolver.so.10\n",
      "2022-06-17 18:35:31.286212: I tensorflow/stream_executor/platform/default/dso_loader.cc:49] Successfully opened dynamic library libcusparse.so.10\n",
      "2022-06-17 18:35:31.286227: I tensorflow/stream_executor/platform/default/dso_loader.cc:49] Successfully opened dynamic library libcudnn.so.7\n",
      "2022-06-17 18:35:31.286299: I tensorflow/stream_executor/cuda/cuda_gpu_executor.cc:941] successful NUMA node read from SysFS had negative value (-1), but there must be at least one NUMA node, so returning NUMA node zero\n",
      "2022-06-17 18:35:31.286924: I tensorflow/stream_executor/cuda/cuda_gpu_executor.cc:941] successful NUMA node read from SysFS had negative value (-1), but there must be at least one NUMA node, so returning NUMA node zero\n",
      "2022-06-17 18:35:31.287454: I tensorflow/core/common_runtime/gpu/gpu_device.cc:1862] Adding visible gpu devices: 0\n",
      "2022-06-17 18:35:31.288314: I tensorflow/stream_executor/platform/default/dso_loader.cc:49] Successfully opened dynamic library libcudart.so.10.1\n",
      "2022-06-17 18:35:33.259503: I tensorflow/core/common_runtime/gpu/gpu_device.cc:1261] Device interconnect StreamExecutor with strength 1 edge matrix:\n",
      "2022-06-17 18:35:33.259533: I tensorflow/core/common_runtime/gpu/gpu_device.cc:1267]      0 \n",
      "2022-06-17 18:35:33.259539: I tensorflow/core/common_runtime/gpu/gpu_device.cc:1280] 0:   N \n",
      "2022-06-17 18:35:33.260824: I tensorflow/stream_executor/cuda/cuda_gpu_executor.cc:941] successful NUMA node read from SysFS had negative value (-1), but there must be at least one NUMA node, so returning NUMA node zero\n",
      "2022-06-17 18:35:33.261496: I tensorflow/stream_executor/cuda/cuda_gpu_executor.cc:941] successful NUMA node read from SysFS had negative value (-1), but there must be at least one NUMA node, so returning NUMA node zero\n",
      "2022-06-17 18:35:33.262094: I tensorflow/stream_executor/cuda/cuda_gpu_executor.cc:941] successful NUMA node read from SysFS had negative value (-1), but there must be at least one NUMA node, so returning NUMA node zero\n",
      "2022-06-17 18:35:33.262646: I tensorflow/core/common_runtime/gpu/gpu_device.cc:1406] Created TensorFlow device (/job:localhost/replica:0/task:0/device:GPU:0 with 13970 MB memory) -> physical GPU (device: 0, name: Tesla T4, pci bus id: 0000:00:1e.0, compute capability: 7.5)\n",
      "\u001b[34m\u001b[1mwandb\u001b[0m: \u001b[33mWARNING\u001b[0m The save_model argument by default saves the model in the HDF5 format that cannot save custom objects like subclassed models and custom layers. This behavior will be deprecated in a future release in favor of the SavedModel format. Meanwhile, the HDF5 model is saved as W&B files and the SavedModel as W&B Artifacts.\n",
      "2022-06-17 18:35:35.971327: I tensorflow/compiler/mlir/mlir_graph_optimization_pass.cc:116] None of the MLIR optimization passes are enabled (registered 2)\n",
      "2022-06-17 18:35:35.994502: I tensorflow/core/platform/profile_utils/cpu_utils.cc:112] CPU Frequency: 2499995000 Hz\n"
     ]
    },
    {
     "name": "stdout",
     "output_type": "stream",
     "text": [
      "Epoch 1/10\n"
     ]
    },
    {
     "name": "stderr",
     "output_type": "stream",
     "text": [
      "2022-06-17 18:35:38.584660: I tensorflow/stream_executor/platform/default/dso_loader.cc:49] Successfully opened dynamic library libcublas.so.10\n",
      "2022-06-17 18:35:39.207826: I tensorflow/stream_executor/platform/default/dso_loader.cc:49] Successfully opened dynamic library libcudnn.so.7\n"
     ]
    },
    {
     "name": "stdout",
     "output_type": "stream",
     "text": [
      "671/671 [==============================] - 293s 428ms/step - loss: 2.9372 - diease_outputs_loss: 1.3471 - grow_outputs_loss: 1.5901 - diease_outputs_accuracy: 0.3725 - grow_outputs_accuracy: 0.2298 - val_loss: 2.8439 - val_diease_outputs_loss: 1.2803 - val_grow_outputs_loss: 1.5636 - val_diease_outputs_accuracy: 0.4387 - val_grow_outputs_accuracy: 0.3336\n",
      "Epoch 2/10\n",
      "671/671 [==============================] - 279s 416ms/step - loss: 2.8385 - diease_outputs_loss: 1.2746 - grow_outputs_loss: 1.5640 - diease_outputs_accuracy: 0.4398 - grow_outputs_accuracy: 0.2787 - val_loss: 2.8133 - val_diease_outputs_loss: 1.2504 - val_grow_outputs_loss: 1.5629 - val_diease_outputs_accuracy: 0.4387 - val_grow_outputs_accuracy: 0.2283\n",
      "Epoch 3/10\n",
      "671/671 [==============================] - 279s 415ms/step - loss: 2.8086 - diease_outputs_loss: 1.2499 - grow_outputs_loss: 1.5588 - diease_outputs_accuracy: 0.4453 - grow_outputs_accuracy: 0.2727 - val_loss: 2.7967 - val_diease_outputs_loss: 1.2389 - val_grow_outputs_loss: 1.5578 - val_diease_outputs_accuracy: 0.4387 - val_grow_outputs_accuracy: 0.3324\n",
      "Epoch 4/10\n",
      "671/671 [==============================] - 278s 414ms/step - loss: 2.7947 - diease_outputs_loss: 1.2393 - grow_outputs_loss: 1.5554 - diease_outputs_accuracy: 0.4393 - grow_outputs_accuracy: 0.2748 - val_loss: 2.7821 - val_diease_outputs_loss: 1.2301 - val_grow_outputs_loss: 1.5520 - val_diease_outputs_accuracy: 0.4387 - val_grow_outputs_accuracy: 0.3336\n",
      "Epoch 5/10\n",
      "671/671 [==============================] - 278s 415ms/step - loss: 2.7795 - diease_outputs_loss: 1.2306 - grow_outputs_loss: 1.5489 - diease_outputs_accuracy: 0.4417 - grow_outputs_accuracy: 0.3336 - val_loss: 2.7687 - val_diease_outputs_loss: 1.2224 - val_grow_outputs_loss: 1.5463 - val_diease_outputs_accuracy: 0.4387 - val_grow_outputs_accuracy: 0.3336\n",
      "Epoch 6/10\n",
      "671/671 [==============================] - 279s 415ms/step - loss: 2.7652 - diease_outputs_loss: 1.2221 - grow_outputs_loss: 1.5431 - diease_outputs_accuracy: 0.4438 - grow_outputs_accuracy: 0.3377 - val_loss: 2.7564 - val_diease_outputs_loss: 1.2151 - val_grow_outputs_loss: 1.5413 - val_diease_outputs_accuracy: 0.4387 - val_grow_outputs_accuracy: 0.3336\n",
      "Epoch 7/10\n",
      "671/671 [==============================] - 278s 415ms/step - loss: 2.7532 - diease_outputs_loss: 1.2146 - grow_outputs_loss: 1.5386 - diease_outputs_accuracy: 0.4422 - grow_outputs_accuracy: 0.3348 - val_loss: 2.7451 - val_diease_outputs_loss: 1.2081 - val_grow_outputs_loss: 1.5370 - val_diease_outputs_accuracy: 0.4387 - val_grow_outputs_accuracy: 0.3336\n",
      "Epoch 8/10\n",
      "671/671 [==============================] - 278s 414ms/step - loss: 2.7410 - diease_outputs_loss: 1.2095 - grow_outputs_loss: 1.5315 - diease_outputs_accuracy: 0.4385 - grow_outputs_accuracy: 0.3379 - val_loss: 2.7347 - val_diease_outputs_loss: 1.2018 - val_grow_outputs_loss: 1.5330 - val_diease_outputs_accuracy: 0.4387 - val_grow_outputs_accuracy: 0.3336\n",
      "Epoch 9/10\n",
      "671/671 [==============================] - 278s 415ms/step - loss: 2.7282 - diease_outputs_loss: 1.2005 - grow_outputs_loss: 1.5277 - diease_outputs_accuracy: 0.4431 - grow_outputs_accuracy: 0.3394 - val_loss: 2.7251 - val_diease_outputs_loss: 1.1962 - val_grow_outputs_loss: 1.5289 - val_diease_outputs_accuracy: 0.4387 - val_grow_outputs_accuracy: 0.3336\n",
      "Epoch 10/10\n",
      "671/671 [==============================] - 278s 414ms/step - loss: 2.7184 - diease_outputs_loss: 1.1918 - grow_outputs_loss: 1.5266 - diease_outputs_accuracy: 0.4503 - grow_outputs_accuracy: 0.3326 - val_loss: 2.7158 - val_diease_outputs_loss: 1.1914 - val_grow_outputs_loss: 1.5244 - val_diease_outputs_accuracy: 0.4387 - val_grow_outputs_accuracy: 0.3336\n"
     ]
    },
    {
     "data": {
      "text/html": [
       "Waiting for W&B process to finish... <strong style=\"color:green\">(success).</strong>"
      ],
      "text/plain": [
       "<IPython.core.display.HTML object>"
      ]
     },
     "metadata": {},
     "output_type": "display_data"
    },
    {
     "data": {
      "text/html": [
       "<style>\n",
       "    table.wandb td:nth-child(1) { padding: 0 10px; text-align: left ; width: auto;} td:nth-child(2) {text-align: left ; width: 100%}\n",
       "    .wandb-row { display: flex; flex-direction: row; flex-wrap: wrap; justify-content: flex-start; width: 100% }\n",
       "    .wandb-col { display: flex; flex-direction: column; flex-basis: 100%; flex: 1; padding: 10px; }\n",
       "    </style>\n",
       "<div class=\"wandb-row\"><div class=\"wandb-col\"><h3>Run history:</h3><br/><table class=\"wandb\"><tr><td>diease_outputs_accuracy</td><td>▁▇████████</td></tr><tr><td>diease_outputs_loss</td><td>█▅▄▃▃▂▂▂▁▁</td></tr><tr><td>epoch</td><td>▁▂▃▃▄▅▆▆▇█</td></tr><tr><td>grow_outputs_accuracy</td><td>▁▂▂▄██████</td></tr><tr><td>grow_outputs_loss</td><td>█▆▅▅▄▃▃▂▂▁</td></tr><tr><td>loss</td><td>█▅▄▄▃▃▂▂▁▁</td></tr><tr><td>val_diease_outputs_accuracy</td><td>▁▁▁▁▁▁▁▁▁▁</td></tr><tr><td>val_diease_outputs_loss</td><td>█▆▅▄▃▃▂▂▁▁</td></tr><tr><td>val_grow_outputs_accuracy</td><td>█▁████████</td></tr><tr><td>val_grow_outputs_loss</td><td>██▇▆▅▄▃▃▂▁</td></tr><tr><td>val_loss</td><td>█▆▅▅▄▃▃▂▂▁</td></tr></table><br/></div><div class=\"wandb-col\"><h3>Run summary:</h3><br/><table class=\"wandb\"><tr><td>best_epoch</td><td>9</td></tr><tr><td>best_val_loss</td><td>2.71581</td></tr><tr><td>diease_outputs_accuracy</td><td>0.43929</td></tr><tr><td>diease_outputs_loss</td><td>1.19488</td></tr><tr><td>epoch</td><td>9</td></tr><tr><td>grow_outputs_accuracy</td><td>0.33316</td></tr><tr><td>grow_outputs_loss</td><td>1.52612</td></tr><tr><td>loss</td><td>2.721</td></tr><tr><td>val_diease_outputs_accuracy</td><td>0.43869</td></tr><tr><td>val_diease_outputs_loss</td><td>1.19138</td></tr><tr><td>val_grow_outputs_accuracy</td><td>0.33363</td></tr><tr><td>val_grow_outputs_loss</td><td>1.52443</td></tr><tr><td>val_loss</td><td>2.71581</td></tr></table><br/></div></div>"
      ],
      "text/plain": [
       "<IPython.core.display.HTML object>"
      ]
     },
     "metadata": {},
     "output_type": "display_data"
    },
    {
     "data": {
      "text/html": [
       "Synced <strong style=\"color:#cdcd00\">hopeful-sweep-7</strong>: <a href=\"https://wandb.ai/hkleee/strawberry/runs/zosqg6hl\" target=\"_blank\">https://wandb.ai/hkleee/strawberry/runs/zosqg6hl</a><br/>Synced 6 W&B file(s), 1 media file(s), 0 artifact file(s) and 1 other file(s)"
      ],
      "text/plain": [
       "<IPython.core.display.HTML object>"
      ]
     },
     "metadata": {},
     "output_type": "display_data"
    },
    {
     "data": {
      "text/html": [
       "Find logs at: <code>./wandb/run-20220617_183520-zosqg6hl/logs</code>"
      ],
      "text/plain": [
       "<IPython.core.display.HTML object>"
      ]
     },
     "metadata": {},
     "output_type": "display_data"
    },
    {
     "name": "stderr",
     "output_type": "stream",
     "text": [
      "\u001b[34m\u001b[1mwandb\u001b[0m: Agent Starting Run: tgkceu3r with config:\n",
      "\u001b[34m\u001b[1mwandb\u001b[0m: \tactivation: softmax\n",
      "\u001b[34m\u001b[1mwandb\u001b[0m: \tbatch_size: 50\n",
      "\u001b[34m\u001b[1mwandb\u001b[0m: \tdense: 1024\n",
      "\u001b[34m\u001b[1mwandb\u001b[0m: \tdropout: 0.2\n",
      "\u001b[34m\u001b[1mwandb\u001b[0m: \tlearning_rate: 0.01\n",
      "\u001b[34m\u001b[1mwandb\u001b[0m: \toptimizer: rmsprop\n",
      "\u001b[34m\u001b[1mwandb\u001b[0m: \tpretrain_net: inception\n",
      "Failed to detect the name of this notebook, you can set it manually with the WANDB_NOTEBOOK_NAME environment variable to enable code saving.\n"
     ]
    },
    {
     "data": {
      "text/html": [
       "Tracking run with wandb version 0.12.18"
      ],
      "text/plain": [
       "<IPython.core.display.HTML object>"
      ]
     },
     "metadata": {},
     "output_type": "display_data"
    },
    {
     "data": {
      "text/html": [
       "Run data is saved locally in <code>/home/lab38/Multi_proj_6/model/multi-output/strawberry/sweep/wandb/run-20220617_192229-tgkceu3r</code>"
      ],
      "text/plain": [
       "<IPython.core.display.HTML object>"
      ]
     },
     "metadata": {},
     "output_type": "display_data"
    },
    {
     "data": {
      "text/html": [
       "Syncing run <strong><a href=\"https://wandb.ai/hkleee/strawberry/runs/tgkceu3r\" target=\"_blank\">cerulean-sweep-8</a></strong> to <a href=\"https://wandb.ai/hkleee/strawberry\" target=\"_blank\">Weights & Biases</a> (<a href=\"https://wandb.me/run\" target=\"_blank\">docs</a>)<br/>Sweep page:  <a href=\"https://wandb.ai/hkleee/strawberry/sweeps/natutesf\" target=\"_blank\">https://wandb.ai/hkleee/strawberry/sweeps/natutesf</a>"
      ],
      "text/plain": [
       "<IPython.core.display.HTML object>"
      ]
     },
     "metadata": {},
     "output_type": "display_data"
    },
    {
     "data": {
      "text/html": [
       "Finishing last run (ID:tgkceu3r) before initializing another..."
      ],
      "text/plain": [
       "<IPython.core.display.HTML object>"
      ]
     },
     "metadata": {},
     "output_type": "display_data"
    },
    {
     "data": {
      "text/html": [
       "Waiting for W&B process to finish... <strong style=\"color:green\">(success).</strong>"
      ],
      "text/plain": [
       "<IPython.core.display.HTML object>"
      ]
     },
     "metadata": {},
     "output_type": "display_data"
    },
    {
     "data": {
      "text/html": [
       "Synced <strong style=\"color:#cdcd00\">cerulean-sweep-8</strong>: <a href=\"https://wandb.ai/hkleee/strawberry/runs/tgkceu3r\" target=\"_blank\">https://wandb.ai/hkleee/strawberry/runs/tgkceu3r</a><br/>Synced 5 W&B file(s), 0 media file(s), 0 artifact file(s) and 0 other file(s)"
      ],
      "text/plain": [
       "<IPython.core.display.HTML object>"
      ]
     },
     "metadata": {},
     "output_type": "display_data"
    },
    {
     "data": {
      "text/html": [
       "Find logs at: <code>./wandb/run-20220617_192229-tgkceu3r/logs</code>"
      ],
      "text/plain": [
       "<IPython.core.display.HTML object>"
      ]
     },
     "metadata": {},
     "output_type": "display_data"
    },
    {
     "data": {
      "text/html": [
       "Successfully finished last run (ID:tgkceu3r). Initializing new run:<br/>"
      ],
      "text/plain": [
       "<IPython.core.display.HTML object>"
      ]
     },
     "metadata": {},
     "output_type": "display_data"
    },
    {
     "data": {
      "text/html": [
       "Tracking run with wandb version 0.12.18"
      ],
      "text/plain": [
       "<IPython.core.display.HTML object>"
      ]
     },
     "metadata": {},
     "output_type": "display_data"
    },
    {
     "data": {
      "text/html": [
       "Run data is saved locally in <code>/home/lab38/Multi_proj_6/model/multi-output/strawberry/sweep/wandb/run-20220617_192233-tgkceu3r</code>"
      ],
      "text/plain": [
       "<IPython.core.display.HTML object>"
      ]
     },
     "metadata": {},
     "output_type": "display_data"
    },
    {
     "data": {
      "text/html": [
       "Syncing run <strong><a href=\"https://wandb.ai/hkleee/strawberry/runs/tgkceu3r\" target=\"_blank\">cerulean-sweep-8</a></strong> to <a href=\"https://wandb.ai/hkleee/strawberry\" target=\"_blank\">Weights & Biases</a> (<a href=\"https://wandb.me/run\" target=\"_blank\">docs</a>)<br/>Sweep page:  <a href=\"https://wandb.ai/hkleee/strawberry/sweeps/natutesf\" target=\"_blank\">https://wandb.ai/hkleee/strawberry/sweeps/natutesf</a>"
      ],
      "text/plain": [
       "<IPython.core.display.HTML object>"
      ]
     },
     "metadata": {},
     "output_type": "display_data"
    },
    {
     "name": "stdout",
     "output_type": "stream",
     "text": [
      "Found 13437 validated image filenames.\n",
      "Found 3360 validated image filenames.\n",
      "Epoch 1/10\n",
      "268/268 [==============================] - 333s 1s/step - loss: 2.5285 - diease_outputs_loss: 1.1533 - grow_outputs_loss: 1.3751 - diease_outputs_accuracy: 0.4326 - grow_outputs_accuracy: 0.4235 - val_loss: 2.1565 - val_diease_outputs_loss: 0.9955 - val_grow_outputs_loss: 1.1609 - val_diease_outputs_accuracy: 0.5003 - val_grow_outputs_accuracy: 0.5333\n",
      "Epoch 2/10\n",
      "268/268 [==============================] - 319s 1s/step - loss: 2.1672 - diease_outputs_loss: 0.9957 - grow_outputs_loss: 1.1715 - diease_outputs_accuracy: 0.4926 - grow_outputs_accuracy: 0.5321 - val_loss: 2.2383 - val_diease_outputs_loss: 1.0076 - val_grow_outputs_loss: 1.2308 - val_diease_outputs_accuracy: 0.4747 - val_grow_outputs_accuracy: 0.5104\n",
      "Epoch 3/10\n",
      "268/268 [==============================] - 321s 1s/step - loss: 2.0866 - diease_outputs_loss: 0.9674 - grow_outputs_loss: 1.1192 - diease_outputs_accuracy: 0.5335 - grow_outputs_accuracy: 0.5753 - val_loss: 1.9330 - val_diease_outputs_loss: 0.9077 - val_grow_outputs_loss: 1.0253 - val_diease_outputs_accuracy: 0.5774 - val_grow_outputs_accuracy: 0.6149\n",
      "Epoch 4/10\n",
      "268/268 [==============================] - 319s 1s/step - loss: 1.9747 - diease_outputs_loss: 0.9314 - grow_outputs_loss: 1.0433 - diease_outputs_accuracy: 0.5571 - grow_outputs_accuracy: 0.6155 - val_loss: 1.9454 - val_diease_outputs_loss: 0.9171 - val_grow_outputs_loss: 1.0282 - val_diease_outputs_accuracy: 0.5753 - val_grow_outputs_accuracy: 0.6161\n",
      "Epoch 5/10\n",
      "268/268 [==============================] - 320s 1s/step - loss: 1.9753 - diease_outputs_loss: 0.9208 - grow_outputs_loss: 1.0545 - diease_outputs_accuracy: 0.5594 - grow_outputs_accuracy: 0.6075 - val_loss: 1.9316 - val_diease_outputs_loss: 0.9172 - val_grow_outputs_loss: 1.0144 - val_diease_outputs_accuracy: 0.5744 - val_grow_outputs_accuracy: 0.6199\n",
      "Epoch 6/10\n",
      "268/268 [==============================] - 321s 1s/step - loss: 1.9561 - diease_outputs_loss: 0.9185 - grow_outputs_loss: 1.0375 - diease_outputs_accuracy: 0.5671 - grow_outputs_accuracy: 0.6169 - val_loss: 1.8874 - val_diease_outputs_loss: 0.8946 - val_grow_outputs_loss: 0.9928 - val_diease_outputs_accuracy: 0.5830 - val_grow_outputs_accuracy: 0.6265\n",
      "Epoch 7/10\n",
      "268/268 [==============================] - 321s 1s/step - loss: 1.9466 - diease_outputs_loss: 0.9152 - grow_outputs_loss: 1.0314 - diease_outputs_accuracy: 0.5686 - grow_outputs_accuracy: 0.6176 - val_loss: 1.9290 - val_diease_outputs_loss: 0.9040 - val_grow_outputs_loss: 1.0250 - val_diease_outputs_accuracy: 0.5741 - val_grow_outputs_accuracy: 0.6211\n",
      "Epoch 8/10\n",
      "268/268 [==============================] - 321s 1s/step - loss: 1.9711 - diease_outputs_loss: 0.9119 - grow_outputs_loss: 1.0592 - diease_outputs_accuracy: 0.5739 - grow_outputs_accuracy: 0.6071 - val_loss: 1.9992 - val_diease_outputs_loss: 0.9423 - val_grow_outputs_loss: 1.0569 - val_diease_outputs_accuracy: 0.5676 - val_grow_outputs_accuracy: 0.6074\n",
      "Epoch 9/10\n",
      "268/268 [==============================] - 319s 1s/step - loss: 1.9251 - diease_outputs_loss: 0.8987 - grow_outputs_loss: 1.0264 - diease_outputs_accuracy: 0.5748 - grow_outputs_accuracy: 0.6175 - val_loss: 1.9104 - val_diease_outputs_loss: 0.8992 - val_grow_outputs_loss: 1.0112 - val_diease_outputs_accuracy: 0.5815 - val_grow_outputs_accuracy: 0.6205\n",
      "Epoch 10/10\n",
      "268/268 [==============================] - 320s 1s/step - loss: 1.9352 - diease_outputs_loss: 0.8996 - grow_outputs_loss: 1.0356 - diease_outputs_accuracy: 0.5786 - grow_outputs_accuracy: 0.6126 - val_loss: 1.8901 - val_diease_outputs_loss: 0.8891 - val_grow_outputs_loss: 1.0010 - val_diease_outputs_accuracy: 0.5836 - val_grow_outputs_accuracy: 0.6286\n"
     ]
    },
    {
     "data": {
      "text/html": [
       "Waiting for W&B process to finish... <strong style=\"color:green\">(success).</strong>"
      ],
      "text/plain": [
       "<IPython.core.display.HTML object>"
      ]
     },
     "metadata": {},
     "output_type": "display_data"
    },
    {
     "data": {
      "text/html": [
       "<style>\n",
       "    table.wandb td:nth-child(1) { padding: 0 10px; text-align: left ; width: auto;} td:nth-child(2) {text-align: left ; width: 100%}\n",
       "    .wandb-row { display: flex; flex-direction: row; flex-wrap: wrap; justify-content: flex-start; width: 100% }\n",
       "    .wandb-col { display: flex; flex-direction: column; flex-basis: 100%; flex: 1; padding: 10px; }\n",
       "    </style>\n",
       "<div class=\"wandb-row\"><div class=\"wandb-col\"><h3>Run history:</h3><br/><table class=\"wandb\"><tr><td>diease_outputs_accuracy</td><td>▁▃▆▇██████</td></tr><tr><td>diease_outputs_loss</td><td>█▅▃▂▂▁▁▁▁▁</td></tr><tr><td>epoch</td><td>▁▂▃▃▄▅▆▆▇█</td></tr><tr><td>grow_outputs_accuracy</td><td>▁▃▇███████</td></tr><tr><td>grow_outputs_loss</td><td>█▅▃▁▁▁▁▁▁▁</td></tr><tr><td>loss</td><td>█▅▃▁▁▁▁▁▁▁</td></tr><tr><td>val_diease_outputs_accuracy</td><td>▃▁█▇▇█▇▇██</td></tr><tr><td>val_diease_outputs_loss</td><td>▇█▂▃▃▁▂▄▂▁</td></tr><tr><td>val_grow_outputs_accuracy</td><td>▂▁▇▇▇██▇██</td></tr><tr><td>val_grow_outputs_loss</td><td>▆█▂▂▂▁▂▃▂▁</td></tr><tr><td>val_loss</td><td>▆█▂▂▂▁▂▃▁▁</td></tr></table><br/></div><div class=\"wandb-col\"><h3>Run summary:</h3><br/><table class=\"wandb\"><tr><td>best_epoch</td><td>5</td></tr><tr><td>best_val_loss</td><td>1.88739</td></tr><tr><td>diease_outputs_accuracy</td><td>0.57093</td></tr><tr><td>diease_outputs_loss</td><td>0.90943</td></tr><tr><td>epoch</td><td>9</td></tr><tr><td>grow_outputs_accuracy</td><td>0.61044</td></tr><tr><td>grow_outputs_loss</td><td>1.04255</td></tr><tr><td>loss</td><td>1.95198</td></tr><tr><td>val_diease_outputs_accuracy</td><td>0.58363</td></tr><tr><td>val_diease_outputs_loss</td><td>0.88913</td></tr><tr><td>val_grow_outputs_accuracy</td><td>0.62857</td></tr><tr><td>val_grow_outputs_loss</td><td>1.00098</td></tr><tr><td>val_loss</td><td>1.89011</td></tr></table><br/></div></div>"
      ],
      "text/plain": [
       "<IPython.core.display.HTML object>"
      ]
     },
     "metadata": {},
     "output_type": "display_data"
    },
    {
     "data": {
      "text/html": [
       "Synced <strong style=\"color:#cdcd00\">cerulean-sweep-8</strong>: <a href=\"https://wandb.ai/hkleee/strawberry/runs/tgkceu3r\" target=\"_blank\">https://wandb.ai/hkleee/strawberry/runs/tgkceu3r</a><br/>Synced 6 W&B file(s), 1 media file(s), 0 artifact file(s) and 1 other file(s)"
      ],
      "text/plain": [
       "<IPython.core.display.HTML object>"
      ]
     },
     "metadata": {},
     "output_type": "display_data"
    },
    {
     "data": {
      "text/html": [
       "Find logs at: <code>./wandb/run-20220617_192233-tgkceu3r/logs</code>"
      ],
      "text/plain": [
       "<IPython.core.display.HTML object>"
      ]
     },
     "metadata": {},
     "output_type": "display_data"
    },
    {
     "name": "stderr",
     "output_type": "stream",
     "text": [
      "\u001b[34m\u001b[1mwandb\u001b[0m: Agent Starting Run: o9vqfwlc with config:\n",
      "\u001b[34m\u001b[1mwandb\u001b[0m: \tactivation: relu\n",
      "\u001b[34m\u001b[1mwandb\u001b[0m: \tbatch_size: 20\n",
      "\u001b[34m\u001b[1mwandb\u001b[0m: \tdense: 1024\n",
      "\u001b[34m\u001b[1mwandb\u001b[0m: \tdropout: 0.5\n",
      "\u001b[34m\u001b[1mwandb\u001b[0m: \tlearning_rate: 0.0001\n",
      "\u001b[34m\u001b[1mwandb\u001b[0m: \toptimizer: adam\n",
      "\u001b[34m\u001b[1mwandb\u001b[0m: \tpretrain_net: inception\n",
      "Failed to detect the name of this notebook, you can set it manually with the WANDB_NOTEBOOK_NAME environment variable to enable code saving.\n"
     ]
    },
    {
     "data": {
      "text/html": [
       "Tracking run with wandb version 0.12.18"
      ],
      "text/plain": [
       "<IPython.core.display.HTML object>"
      ]
     },
     "metadata": {},
     "output_type": "display_data"
    },
    {
     "data": {
      "text/html": [
       "Run data is saved locally in <code>/home/lab38/Multi_proj_6/model/multi-output/strawberry/sweep/wandb/run-20220617_201648-o9vqfwlc</code>"
      ],
      "text/plain": [
       "<IPython.core.display.HTML object>"
      ]
     },
     "metadata": {},
     "output_type": "display_data"
    },
    {
     "data": {
      "text/html": [
       "Syncing run <strong><a href=\"https://wandb.ai/hkleee/strawberry/runs/o9vqfwlc\" target=\"_blank\">clear-sweep-9</a></strong> to <a href=\"https://wandb.ai/hkleee/strawberry\" target=\"_blank\">Weights & Biases</a> (<a href=\"https://wandb.me/run\" target=\"_blank\">docs</a>)<br/>Sweep page:  <a href=\"https://wandb.ai/hkleee/strawberry/sweeps/natutesf\" target=\"_blank\">https://wandb.ai/hkleee/strawberry/sweeps/natutesf</a>"
      ],
      "text/plain": [
       "<IPython.core.display.HTML object>"
      ]
     },
     "metadata": {},
     "output_type": "display_data"
    },
    {
     "data": {
      "text/html": [
       "Finishing last run (ID:o9vqfwlc) before initializing another..."
      ],
      "text/plain": [
       "<IPython.core.display.HTML object>"
      ]
     },
     "metadata": {},
     "output_type": "display_data"
    },
    {
     "data": {
      "text/html": [
       "Waiting for W&B process to finish... <strong style=\"color:green\">(success).</strong>"
      ],
      "text/plain": [
       "<IPython.core.display.HTML object>"
      ]
     },
     "metadata": {},
     "output_type": "display_data"
    },
    {
     "data": {
      "text/html": [
       "Synced <strong style=\"color:#cdcd00\">clear-sweep-9</strong>: <a href=\"https://wandb.ai/hkleee/strawberry/runs/o9vqfwlc\" target=\"_blank\">https://wandb.ai/hkleee/strawberry/runs/o9vqfwlc</a><br/>Synced 5 W&B file(s), 0 media file(s), 0 artifact file(s) and 0 other file(s)"
      ],
      "text/plain": [
       "<IPython.core.display.HTML object>"
      ]
     },
     "metadata": {},
     "output_type": "display_data"
    },
    {
     "data": {
      "text/html": [
       "Find logs at: <code>./wandb/run-20220617_201648-o9vqfwlc/logs</code>"
      ],
      "text/plain": [
       "<IPython.core.display.HTML object>"
      ]
     },
     "metadata": {},
     "output_type": "display_data"
    },
    {
     "data": {
      "text/html": [
       "Successfully finished last run (ID:o9vqfwlc). Initializing new run:<br/>"
      ],
      "text/plain": [
       "<IPython.core.display.HTML object>"
      ]
     },
     "metadata": {},
     "output_type": "display_data"
    },
    {
     "data": {
      "text/html": [
       "Tracking run with wandb version 0.12.18"
      ],
      "text/plain": [
       "<IPython.core.display.HTML object>"
      ]
     },
     "metadata": {},
     "output_type": "display_data"
    },
    {
     "data": {
      "text/html": [
       "Run data is saved locally in <code>/home/lab38/Multi_proj_6/model/multi-output/strawberry/sweep/wandb/run-20220617_201652-o9vqfwlc</code>"
      ],
      "text/plain": [
       "<IPython.core.display.HTML object>"
      ]
     },
     "metadata": {},
     "output_type": "display_data"
    },
    {
     "data": {
      "text/html": [
       "Syncing run <strong><a href=\"https://wandb.ai/hkleee/strawberry/runs/o9vqfwlc\" target=\"_blank\">clear-sweep-9</a></strong> to <a href=\"https://wandb.ai/hkleee/strawberry\" target=\"_blank\">Weights & Biases</a> (<a href=\"https://wandb.me/run\" target=\"_blank\">docs</a>)<br/>Sweep page:  <a href=\"https://wandb.ai/hkleee/strawberry/sweeps/natutesf\" target=\"_blank\">https://wandb.ai/hkleee/strawberry/sweeps/natutesf</a>"
      ],
      "text/plain": [
       "<IPython.core.display.HTML object>"
      ]
     },
     "metadata": {},
     "output_type": "display_data"
    },
    {
     "name": "stdout",
     "output_type": "stream",
     "text": [
      "Found 13437 validated image filenames.\n",
      "Found 3360 validated image filenames.\n",
      "Epoch 1/10\n",
      "671/671 [==============================] - 320s 464ms/step - loss: 1.9489 - diease_outputs_loss: 0.8469 - grow_outputs_loss: 1.1020 - diease_outputs_accuracy: 0.6475 - grow_outputs_accuracy: 0.5374 - val_loss: 1.2642 - val_diease_outputs_loss: 0.4850 - val_grow_outputs_loss: 0.7793 - val_diease_outputs_accuracy: 0.8202 - val_grow_outputs_accuracy: 0.6756\n",
      "Epoch 2/10\n",
      "671/671 [==============================] - 306s 457ms/step - loss: 1.4511 - diease_outputs_loss: 0.5775 - grow_outputs_loss: 0.8736 - diease_outputs_accuracy: 0.7765 - grow_outputs_accuracy: 0.6348 - val_loss: 1.1621 - val_diease_outputs_loss: 0.4223 - val_grow_outputs_loss: 0.7398 - val_diease_outputs_accuracy: 0.8509 - val_grow_outputs_accuracy: 0.6792\n",
      "Epoch 3/10\n",
      "671/671 [==============================] - 308s 459ms/step - loss: 1.3144 - diease_outputs_loss: 0.5024 - grow_outputs_loss: 0.8120 - diease_outputs_accuracy: 0.8051 - grow_outputs_accuracy: 0.6642 - val_loss: 1.1018 - val_diease_outputs_loss: 0.3905 - val_grow_outputs_loss: 0.7113 - val_diease_outputs_accuracy: 0.8595 - val_grow_outputs_accuracy: 0.6949\n",
      "Epoch 4/10\n",
      "671/671 [==============================] - 306s 456ms/step - loss: 1.2991 - diease_outputs_loss: 0.4956 - grow_outputs_loss: 0.8035 - diease_outputs_accuracy: 0.8088 - grow_outputs_accuracy: 0.6672 - val_loss: 1.0564 - val_diease_outputs_loss: 0.3732 - val_grow_outputs_loss: 0.6832 - val_diease_outputs_accuracy: 0.8604 - val_grow_outputs_accuracy: 0.7170\n",
      "Epoch 5/10\n",
      "671/671 [==============================] - 306s 456ms/step - loss: 1.2266 - diease_outputs_loss: 0.4609 - grow_outputs_loss: 0.7658 - diease_outputs_accuracy: 0.8188 - grow_outputs_accuracy: 0.6844 - val_loss: 1.0368 - val_diease_outputs_loss: 0.3576 - val_grow_outputs_loss: 0.6792 - val_diease_outputs_accuracy: 0.8690 - val_grow_outputs_accuracy: 0.7182\n",
      "Epoch 6/10\n",
      "671/671 [==============================] - 307s 457ms/step - loss: 1.2095 - diease_outputs_loss: 0.4473 - grow_outputs_loss: 0.7622 - diease_outputs_accuracy: 0.8280 - grow_outputs_accuracy: 0.6819 - val_loss: 1.0034 - val_diease_outputs_loss: 0.3395 - val_grow_outputs_loss: 0.6639 - val_diease_outputs_accuracy: 0.8738 - val_grow_outputs_accuracy: 0.7256\n",
      "Epoch 7/10\n",
      "671/671 [==============================] - 307s 457ms/step - loss: 1.1733 - diease_outputs_loss: 0.4269 - grow_outputs_loss: 0.7464 - diease_outputs_accuracy: 0.8361 - grow_outputs_accuracy: 0.6878 - val_loss: 0.9828 - val_diease_outputs_loss: 0.3231 - val_grow_outputs_loss: 0.6597 - val_diease_outputs_accuracy: 0.8804 - val_grow_outputs_accuracy: 0.7214\n",
      "Epoch 8/10\n",
      "671/671 [==============================] - 307s 457ms/step - loss: 1.1604 - diease_outputs_loss: 0.4216 - grow_outputs_loss: 0.7388 - diease_outputs_accuracy: 0.8365 - grow_outputs_accuracy: 0.6876 - val_loss: 0.9705 - val_diease_outputs_loss: 0.3296 - val_grow_outputs_loss: 0.6409 - val_diease_outputs_accuracy: 0.8804 - val_grow_outputs_accuracy: 0.7452\n",
      "Epoch 9/10\n",
      "671/671 [==============================] - 307s 458ms/step - loss: 1.1397 - diease_outputs_loss: 0.4121 - grow_outputs_loss: 0.7277 - diease_outputs_accuracy: 0.8412 - grow_outputs_accuracy: 0.6922 - val_loss: 0.9534 - val_diease_outputs_loss: 0.3146 - val_grow_outputs_loss: 0.6388 - val_diease_outputs_accuracy: 0.8869 - val_grow_outputs_accuracy: 0.7440\n",
      "Epoch 10/10\n",
      "671/671 [==============================] - 306s 456ms/step - loss: 1.1222 - diease_outputs_loss: 0.3940 - grow_outputs_loss: 0.7282 - diease_outputs_accuracy: 0.8512 - grow_outputs_accuracy: 0.6990 - val_loss: 0.9649 - val_diease_outputs_loss: 0.3297 - val_grow_outputs_loss: 0.6353 - val_diease_outputs_accuracy: 0.8827 - val_grow_outputs_accuracy: 0.7408\n"
     ]
    },
    {
     "data": {
      "text/html": [
       "Waiting for W&B process to finish... <strong style=\"color:green\">(success).</strong>"
      ],
      "text/plain": [
       "<IPython.core.display.HTML object>"
      ]
     },
     "metadata": {},
     "output_type": "display_data"
    },
    {
     "data": {
      "text/html": [
       "<style>\n",
       "    table.wandb td:nth-child(1) { padding: 0 10px; text-align: left ; width: auto;} td:nth-child(2) {text-align: left ; width: 100%}\n",
       "    .wandb-row { display: flex; flex-direction: row; flex-wrap: wrap; justify-content: flex-start; width: 100% }\n",
       "    .wandb-col { display: flex; flex-direction: column; flex-basis: 100%; flex: 1; padding: 10px; }\n",
       "    </style>\n",
       "<div class=\"wandb-row\"><div class=\"wandb-col\"><h3>Run history:</h3><br/><table class=\"wandb\"><tr><td>diease_outputs_accuracy</td><td>▁▄▆▆▆▇▇▇▇█</td></tr><tr><td>diease_outputs_loss</td><td>█▅▃▃▃▂▂▂▁▁</td></tr><tr><td>epoch</td><td>▁▂▃▃▄▅▆▆▇█</td></tr><tr><td>grow_outputs_accuracy</td><td>▁▄▆▆▇▇▇▇▇█</td></tr><tr><td>grow_outputs_loss</td><td>█▅▃▃▂▂▂▁▁▁</td></tr><tr><td>loss</td><td>█▅▃▃▂▂▂▂▁▁</td></tr><tr><td>val_diease_outputs_accuracy</td><td>▁▄▅▅▆▇▇▇██</td></tr><tr><td>val_diease_outputs_loss</td><td>█▅▄▃▃▂▁▂▁▂</td></tr><tr><td>val_grow_outputs_accuracy</td><td>▁▁▃▅▅▆▆███</td></tr><tr><td>val_grow_outputs_loss</td><td>█▆▅▃▃▂▂▁▁▁</td></tr><tr><td>val_loss</td><td>█▆▄▃▃▂▂▁▁▁</td></tr></table><br/></div><div class=\"wandb-col\"><h3>Run summary:</h3><br/><table class=\"wandb\"><tr><td>best_epoch</td><td>8</td></tr><tr><td>best_val_loss</td><td>0.95342</td></tr><tr><td>diease_outputs_accuracy</td><td>0.85421</td></tr><tr><td>diease_outputs_loss</td><td>0.3886</td></tr><tr><td>epoch</td><td>9</td></tr><tr><td>grow_outputs_accuracy</td><td>0.70038</td></tr><tr><td>grow_outputs_loss</td><td>0.72185</td></tr><tr><td>loss</td><td>1.11044</td></tr><tr><td>val_diease_outputs_accuracy</td><td>0.88274</td></tr><tr><td>val_diease_outputs_loss</td><td>0.32969</td></tr><tr><td>val_grow_outputs_accuracy</td><td>0.74077</td></tr><tr><td>val_grow_outputs_loss</td><td>0.63525</td></tr><tr><td>val_loss</td><td>0.96494</td></tr></table><br/></div></div>"
      ],
      "text/plain": [
       "<IPython.core.display.HTML object>"
      ]
     },
     "metadata": {},
     "output_type": "display_data"
    },
    {
     "data": {
      "text/html": [
       "Synced <strong style=\"color:#cdcd00\">clear-sweep-9</strong>: <a href=\"https://wandb.ai/hkleee/strawberry/runs/o9vqfwlc\" target=\"_blank\">https://wandb.ai/hkleee/strawberry/runs/o9vqfwlc</a><br/>Synced 6 W&B file(s), 1 media file(s), 0 artifact file(s) and 1 other file(s)"
      ],
      "text/plain": [
       "<IPython.core.display.HTML object>"
      ]
     },
     "metadata": {},
     "output_type": "display_data"
    },
    {
     "data": {
      "text/html": [
       "Find logs at: <code>./wandb/run-20220617_201652-o9vqfwlc/logs</code>"
      ],
      "text/plain": [
       "<IPython.core.display.HTML object>"
      ]
     },
     "metadata": {},
     "output_type": "display_data"
    },
    {
     "name": "stderr",
     "output_type": "stream",
     "text": [
      "\u001b[34m\u001b[1mwandb\u001b[0m: Agent Starting Run: h3tniy57 with config:\n",
      "\u001b[34m\u001b[1mwandb\u001b[0m: \tactivation: relu\n",
      "\u001b[34m\u001b[1mwandb\u001b[0m: \tbatch_size: 20\n",
      "\u001b[34m\u001b[1mwandb\u001b[0m: \tdense: 32\n",
      "\u001b[34m\u001b[1mwandb\u001b[0m: \tdropout: 0.5\n",
      "\u001b[34m\u001b[1mwandb\u001b[0m: \tlearning_rate: 0.01\n",
      "\u001b[34m\u001b[1mwandb\u001b[0m: \toptimizer: sgd\n",
      "\u001b[34m\u001b[1mwandb\u001b[0m: \tpretrain_net: inception\n",
      "Failed to detect the name of this notebook, you can set it manually with the WANDB_NOTEBOOK_NAME environment variable to enable code saving.\n"
     ]
    },
    {
     "data": {
      "text/html": [
       "Tracking run with wandb version 0.12.18"
      ],
      "text/plain": [
       "<IPython.core.display.HTML object>"
      ]
     },
     "metadata": {},
     "output_type": "display_data"
    },
    {
     "data": {
      "text/html": [
       "Run data is saved locally in <code>/home/lab38/Multi_proj_6/model/multi-output/strawberry/sweep/wandb/run-20220617_210856-h3tniy57</code>"
      ],
      "text/plain": [
       "<IPython.core.display.HTML object>"
      ]
     },
     "metadata": {},
     "output_type": "display_data"
    },
    {
     "data": {
      "text/html": [
       "Syncing run <strong><a href=\"https://wandb.ai/hkleee/strawberry/runs/h3tniy57\" target=\"_blank\">sleek-sweep-10</a></strong> to <a href=\"https://wandb.ai/hkleee/strawberry\" target=\"_blank\">Weights & Biases</a> (<a href=\"https://wandb.me/run\" target=\"_blank\">docs</a>)<br/>Sweep page:  <a href=\"https://wandb.ai/hkleee/strawberry/sweeps/natutesf\" target=\"_blank\">https://wandb.ai/hkleee/strawberry/sweeps/natutesf</a>"
      ],
      "text/plain": [
       "<IPython.core.display.HTML object>"
      ]
     },
     "metadata": {},
     "output_type": "display_data"
    },
    {
     "data": {
      "text/html": [
       "Finishing last run (ID:h3tniy57) before initializing another..."
      ],
      "text/plain": [
       "<IPython.core.display.HTML object>"
      ]
     },
     "metadata": {},
     "output_type": "display_data"
    },
    {
     "data": {
      "text/html": [
       "Waiting for W&B process to finish... <strong style=\"color:green\">(success).</strong>"
      ],
      "text/plain": [
       "<IPython.core.display.HTML object>"
      ]
     },
     "metadata": {},
     "output_type": "display_data"
    },
    {
     "data": {
      "text/html": [
       "Synced <strong style=\"color:#cdcd00\">sleek-sweep-10</strong>: <a href=\"https://wandb.ai/hkleee/strawberry/runs/h3tniy57\" target=\"_blank\">https://wandb.ai/hkleee/strawberry/runs/h3tniy57</a><br/>Synced 5 W&B file(s), 0 media file(s), 0 artifact file(s) and 0 other file(s)"
      ],
      "text/plain": [
       "<IPython.core.display.HTML object>"
      ]
     },
     "metadata": {},
     "output_type": "display_data"
    },
    {
     "data": {
      "text/html": [
       "Find logs at: <code>./wandb/run-20220617_210856-h3tniy57/logs</code>"
      ],
      "text/plain": [
       "<IPython.core.display.HTML object>"
      ]
     },
     "metadata": {},
     "output_type": "display_data"
    },
    {
     "data": {
      "text/html": [
       "Successfully finished last run (ID:h3tniy57). Initializing new run:<br/>"
      ],
      "text/plain": [
       "<IPython.core.display.HTML object>"
      ]
     },
     "metadata": {},
     "output_type": "display_data"
    },
    {
     "data": {
      "text/html": [
       "Tracking run with wandb version 0.12.18"
      ],
      "text/plain": [
       "<IPython.core.display.HTML object>"
      ]
     },
     "metadata": {},
     "output_type": "display_data"
    },
    {
     "data": {
      "text/html": [
       "Run data is saved locally in <code>/home/lab38/Multi_proj_6/model/multi-output/strawberry/sweep/wandb/run-20220617_210900-h3tniy57</code>"
      ],
      "text/plain": [
       "<IPython.core.display.HTML object>"
      ]
     },
     "metadata": {},
     "output_type": "display_data"
    },
    {
     "data": {
      "text/html": [
       "Syncing run <strong><a href=\"https://wandb.ai/hkleee/strawberry/runs/h3tniy57\" target=\"_blank\">sleek-sweep-10</a></strong> to <a href=\"https://wandb.ai/hkleee/strawberry\" target=\"_blank\">Weights & Biases</a> (<a href=\"https://wandb.me/run\" target=\"_blank\">docs</a>)<br/>Sweep page:  <a href=\"https://wandb.ai/hkleee/strawberry/sweeps/natutesf\" target=\"_blank\">https://wandb.ai/hkleee/strawberry/sweeps/natutesf</a>"
      ],
      "text/plain": [
       "<IPython.core.display.HTML object>"
      ]
     },
     "metadata": {},
     "output_type": "display_data"
    },
    {
     "name": "stdout",
     "output_type": "stream",
     "text": [
      "Found 13437 validated image filenames.\n",
      "Found 3360 validated image filenames.\n",
      "Epoch 1/10\n",
      "671/671 [==============================] - 318s 462ms/step - loss: 2.1285 - diease_outputs_loss: 0.9271 - grow_outputs_loss: 1.2014 - diease_outputs_accuracy: 0.6005 - grow_outputs_accuracy: 0.4926 - val_loss: 1.4409 - val_diease_outputs_loss: 0.5708 - val_grow_outputs_loss: 0.8701 - val_diease_outputs_accuracy: 0.7878 - val_grow_outputs_accuracy: 0.6452\n",
      "Epoch 2/10\n",
      "671/671 [==============================] - 308s 458ms/step - loss: 1.5601 - diease_outputs_loss: 0.6329 - grow_outputs_loss: 0.9273 - diease_outputs_accuracy: 0.7478 - grow_outputs_accuracy: 0.6046 - val_loss: 1.3919 - val_diease_outputs_loss: 0.5211 - val_grow_outputs_loss: 0.8708 - val_diease_outputs_accuracy: 0.7952 - val_grow_outputs_accuracy: 0.6220\n",
      "Epoch 3/10\n",
      "671/671 [==============================] - 305s 454ms/step - loss: 1.4475 - diease_outputs_loss: 0.5799 - grow_outputs_loss: 0.8675 - diease_outputs_accuracy: 0.7699 - grow_outputs_accuracy: 0.6344 - val_loss: 1.2662 - val_diease_outputs_loss: 0.4671 - val_grow_outputs_loss: 0.7991 - val_diease_outputs_accuracy: 0.8220 - val_grow_outputs_accuracy: 0.6652\n",
      "Epoch 4/10\n",
      "671/671 [==============================] - 309s 461ms/step - loss: 1.3949 - diease_outputs_loss: 0.5534 - grow_outputs_loss: 0.8415 - diease_outputs_accuracy: 0.7847 - grow_outputs_accuracy: 0.6369 - val_loss: 1.1965 - val_diease_outputs_loss: 0.4262 - val_grow_outputs_loss: 0.7703 - val_diease_outputs_accuracy: 0.8360 - val_grow_outputs_accuracy: 0.6509\n",
      "Epoch 5/10\n",
      "671/671 [==============================] - 307s 458ms/step - loss: 1.3479 - diease_outputs_loss: 0.5213 - grow_outputs_loss: 0.8266 - diease_outputs_accuracy: 0.7953 - grow_outputs_accuracy: 0.6449 - val_loss: 1.1757 - val_diease_outputs_loss: 0.4325 - val_grow_outputs_loss: 0.7432 - val_diease_outputs_accuracy: 0.8268 - val_grow_outputs_accuracy: 0.6792\n",
      "Epoch 6/10\n",
      "671/671 [==============================] - 308s 459ms/step - loss: 1.3110 - diease_outputs_loss: 0.5013 - grow_outputs_loss: 0.8098 - diease_outputs_accuracy: 0.8075 - grow_outputs_accuracy: 0.6577 - val_loss: 1.1305 - val_diease_outputs_loss: 0.3998 - val_grow_outputs_loss: 0.7306 - val_diease_outputs_accuracy: 0.8458 - val_grow_outputs_accuracy: 0.6973\n",
      "Epoch 7/10\n",
      "671/671 [==============================] - 311s 463ms/step - loss: 1.2977 - diease_outputs_loss: 0.4979 - grow_outputs_loss: 0.7998 - diease_outputs_accuracy: 0.8074 - grow_outputs_accuracy: 0.6540 - val_loss: 1.1182 - val_diease_outputs_loss: 0.3824 - val_grow_outputs_loss: 0.7357 - val_diease_outputs_accuracy: 0.8491 - val_grow_outputs_accuracy: 0.6997\n",
      "Epoch 8/10\n",
      "671/671 [==============================] - 311s 463ms/step - loss: 1.2770 - diease_outputs_loss: 0.4867 - grow_outputs_loss: 0.7903 - diease_outputs_accuracy: 0.8143 - grow_outputs_accuracy: 0.6612 - val_loss: 1.1124 - val_diease_outputs_loss: 0.3855 - val_grow_outputs_loss: 0.7269 - val_diease_outputs_accuracy: 0.8536 - val_grow_outputs_accuracy: 0.6836\n",
      "Epoch 9/10\n",
      "671/671 [==============================] - 310s 462ms/step - loss: 1.2418 - diease_outputs_loss: 0.4546 - grow_outputs_loss: 0.7872 - diease_outputs_accuracy: 0.8228 - grow_outputs_accuracy: 0.6672 - val_loss: 1.0588 - val_diease_outputs_loss: 0.3556 - val_grow_outputs_loss: 0.7032 - val_diease_outputs_accuracy: 0.8631 - val_grow_outputs_accuracy: 0.6985\n",
      "Epoch 10/10\n",
      "612/671 [==========================>...] - ETA: 23s - loss: 1.2203 - diease_outputs_loss: 0.4500 - grow_outputs_loss: 0.7702 - diease_outputs_accuracy: 0.8268 - grow_outputs_accuracy: 0.6749"
     ]
    }
   ],
   "source": [
    "#wandb.agent('natutesf', train)"
   ]
  },
  {
   "cell_type": "code",
   "execution_count": null,
   "id": "0f58692d",
   "metadata": {
    "collapsed": true
   },
   "outputs": [
    {
     "name": "stderr",
     "output_type": "stream",
     "text": [
      "\u001b[34m\u001b[1mwandb\u001b[0m: Agent Starting Run: jkckd3xb with config:\n",
      "\u001b[34m\u001b[1mwandb\u001b[0m: \tactivation: selu\n",
      "\u001b[34m\u001b[1mwandb\u001b[0m: \tbatch_size: 20\n",
      "\u001b[34m\u001b[1mwandb\u001b[0m: \tdense: 32\n",
      "\u001b[34m\u001b[1mwandb\u001b[0m: \tdropout: 0.2\n",
      "\u001b[34m\u001b[1mwandb\u001b[0m: \tlearning_rate: 3e-05\n",
      "\u001b[34m\u001b[1mwandb\u001b[0m: \toptimizer: rmsprop\n",
      "\u001b[34m\u001b[1mwandb\u001b[0m: \tpretrain_net: inception\n",
      "Failed to detect the name of this notebook, you can set it manually with the WANDB_NOTEBOOK_NAME environment variable to enable code saving.\n",
      "\u001b[34m\u001b[1mwandb\u001b[0m: Currently logged in as: \u001b[33mhkleee\u001b[0m. Use \u001b[1m`wandb login --relogin`\u001b[0m to force relogin\n"
     ]
    },
    {
     "data": {
      "text/html": [
       "Tracking run with wandb version 0.12.18"
      ],
      "text/plain": [
       "<IPython.core.display.HTML object>"
      ]
     },
     "metadata": {},
     "output_type": "display_data"
    },
    {
     "data": {
      "text/html": [
       "Run data is saved locally in <code>/home/lab38/Multi_proj_6/model/multi-output/strawberry/sweep/wandb/run-20220617_221256-jkckd3xb</code>"
      ],
      "text/plain": [
       "<IPython.core.display.HTML object>"
      ]
     },
     "metadata": {},
     "output_type": "display_data"
    },
    {
     "data": {
      "text/html": [
       "Syncing run <strong><a href=\"https://wandb.ai/hkleee/strawberry/runs/jkckd3xb\" target=\"_blank\">avid-sweep-11</a></strong> to <a href=\"https://wandb.ai/hkleee/strawberry\" target=\"_blank\">Weights & Biases</a> (<a href=\"https://wandb.me/run\" target=\"_blank\">docs</a>)<br/>Sweep page:  <a href=\"https://wandb.ai/hkleee/strawberry/sweeps/natutesf\" target=\"_blank\">https://wandb.ai/hkleee/strawberry/sweeps/natutesf</a>"
      ],
      "text/plain": [
       "<IPython.core.display.HTML object>"
      ]
     },
     "metadata": {},
     "output_type": "display_data"
    },
    {
     "data": {
      "text/html": [
       "Finishing last run (ID:jkckd3xb) before initializing another..."
      ],
      "text/plain": [
       "<IPython.core.display.HTML object>"
      ]
     },
     "metadata": {},
     "output_type": "display_data"
    },
    {
     "data": {
      "text/html": [
       "Waiting for W&B process to finish... <strong style=\"color:green\">(success).</strong>"
      ],
      "text/plain": [
       "<IPython.core.display.HTML object>"
      ]
     },
     "metadata": {},
     "output_type": "display_data"
    },
    {
     "data": {
      "text/html": [
       "Synced <strong style=\"color:#cdcd00\">avid-sweep-11</strong>: <a href=\"https://wandb.ai/hkleee/strawberry/runs/jkckd3xb\" target=\"_blank\">https://wandb.ai/hkleee/strawberry/runs/jkckd3xb</a><br/>Synced 5 W&B file(s), 0 media file(s), 0 artifact file(s) and 0 other file(s)"
      ],
      "text/plain": [
       "<IPython.core.display.HTML object>"
      ]
     },
     "metadata": {},
     "output_type": "display_data"
    },
    {
     "data": {
      "text/html": [
       "Find logs at: <code>./wandb/run-20220617_221256-jkckd3xb/logs</code>"
      ],
      "text/plain": [
       "<IPython.core.display.HTML object>"
      ]
     },
     "metadata": {},
     "output_type": "display_data"
    },
    {
     "data": {
      "text/html": [
       "Successfully finished last run (ID:jkckd3xb). Initializing new run:<br/>"
      ],
      "text/plain": [
       "<IPython.core.display.HTML object>"
      ]
     },
     "metadata": {},
     "output_type": "display_data"
    },
    {
     "data": {
      "text/html": [
       "Tracking run with wandb version 0.12.18"
      ],
      "text/plain": [
       "<IPython.core.display.HTML object>"
      ]
     },
     "metadata": {},
     "output_type": "display_data"
    },
    {
     "data": {
      "text/html": [
       "Run data is saved locally in <code>/home/lab38/Multi_proj_6/model/multi-output/strawberry/sweep/wandb/run-20220617_221300-jkckd3xb</code>"
      ],
      "text/plain": [
       "<IPython.core.display.HTML object>"
      ]
     },
     "metadata": {},
     "output_type": "display_data"
    },
    {
     "data": {
      "text/html": [
       "Syncing run <strong><a href=\"https://wandb.ai/hkleee/strawberry/runs/jkckd3xb\" target=\"_blank\">avid-sweep-11</a></strong> to <a href=\"https://wandb.ai/hkleee/strawberry\" target=\"_blank\">Weights & Biases</a> (<a href=\"https://wandb.me/run\" target=\"_blank\">docs</a>)<br/>Sweep page:  <a href=\"https://wandb.ai/hkleee/strawberry/sweeps/natutesf\" target=\"_blank\">https://wandb.ai/hkleee/strawberry/sweeps/natutesf</a>"
      ],
      "text/plain": [
       "<IPython.core.display.HTML object>"
      ]
     },
     "metadata": {},
     "output_type": "display_data"
    },
    {
     "name": "stdout",
     "output_type": "stream",
     "text": [
      "Found 13437 validated image filenames.\n",
      "Found 3360 validated image filenames.\n"
     ]
    },
    {
     "name": "stderr",
     "output_type": "stream",
     "text": [
      "2022-06-17 22:13:09.847772: I tensorflow/compiler/jit/xla_cpu_device.cc:41] Not creating XLA devices, tf_xla_enable_xla_devices not set\n",
      "2022-06-17 22:13:09.848918: I tensorflow/stream_executor/platform/default/dso_loader.cc:49] Successfully opened dynamic library libcuda.so.1\n",
      "2022-06-17 22:13:09.895292: I tensorflow/stream_executor/cuda/cuda_gpu_executor.cc:941] successful NUMA node read from SysFS had negative value (-1), but there must be at least one NUMA node, so returning NUMA node zero\n",
      "2022-06-17 22:13:09.895940: I tensorflow/core/common_runtime/gpu/gpu_device.cc:1720] Found device 0 with properties: \n",
      "pciBusID: 0000:00:1e.0 name: Tesla T4 computeCapability: 7.5\n",
      "coreClock: 1.59GHz coreCount: 40 deviceMemorySize: 14.75GiB deviceMemoryBandwidth: 298.08GiB/s\n",
      "2022-06-17 22:13:09.895996: I tensorflow/stream_executor/platform/default/dso_loader.cc:49] Successfully opened dynamic library libcudart.so.10.1\n",
      "2022-06-17 22:13:09.976835: I tensorflow/stream_executor/platform/default/dso_loader.cc:49] Successfully opened dynamic library libcublas.so.10\n",
      "2022-06-17 22:13:09.976922: I tensorflow/stream_executor/platform/default/dso_loader.cc:49] Successfully opened dynamic library libcublasLt.so.10\n",
      "2022-06-17 22:13:10.018064: I tensorflow/stream_executor/platform/default/dso_loader.cc:49] Successfully opened dynamic library libcufft.so.10\n",
      "2022-06-17 22:13:10.028953: I tensorflow/stream_executor/platform/default/dso_loader.cc:49] Successfully opened dynamic library libcurand.so.10\n",
      "2022-06-17 22:13:10.107713: I tensorflow/stream_executor/platform/default/dso_loader.cc:49] Successfully opened dynamic library libcusolver.so.10\n",
      "2022-06-17 22:13:10.118221: I tensorflow/stream_executor/platform/default/dso_loader.cc:49] Successfully opened dynamic library libcusparse.so.10\n",
      "2022-06-17 22:13:10.254165: I tensorflow/stream_executor/platform/default/dso_loader.cc:49] Successfully opened dynamic library libcudnn.so.7\n",
      "2022-06-17 22:13:10.254339: I tensorflow/stream_executor/cuda/cuda_gpu_executor.cc:941] successful NUMA node read from SysFS had negative value (-1), but there must be at least one NUMA node, so returning NUMA node zero\n",
      "2022-06-17 22:13:10.255012: I tensorflow/stream_executor/cuda/cuda_gpu_executor.cc:941] successful NUMA node read from SysFS had negative value (-1), but there must be at least one NUMA node, so returning NUMA node zero\n",
      "2022-06-17 22:13:10.255560: I tensorflow/core/common_runtime/gpu/gpu_device.cc:1862] Adding visible gpu devices: 0\n",
      "2022-06-17 22:13:10.256678: I tensorflow/core/platform/cpu_feature_guard.cc:142] This TensorFlow binary is optimized with oneAPI Deep Neural Network Library (oneDNN) to use the following CPU instructions in performance-critical operations:  SSE4.1 SSE4.2 AVX AVX2 AVX512F FMA\n",
      "To enable them in other operations, rebuild TensorFlow with the appropriate compiler flags.\n",
      "2022-06-17 22:13:10.256893: I tensorflow/compiler/jit/xla_gpu_device.cc:99] Not creating XLA devices, tf_xla_enable_xla_devices not set\n",
      "2022-06-17 22:13:10.257023: I tensorflow/stream_executor/cuda/cuda_gpu_executor.cc:941] successful NUMA node read from SysFS had negative value (-1), but there must be at least one NUMA node, so returning NUMA node zero\n",
      "2022-06-17 22:13:10.257588: I tensorflow/core/common_runtime/gpu/gpu_device.cc:1720] Found device 0 with properties: \n",
      "pciBusID: 0000:00:1e.0 name: Tesla T4 computeCapability: 7.5\n",
      "coreClock: 1.59GHz coreCount: 40 deviceMemorySize: 14.75GiB deviceMemoryBandwidth: 298.08GiB/s\n",
      "2022-06-17 22:13:10.257627: I tensorflow/stream_executor/platform/default/dso_loader.cc:49] Successfully opened dynamic library libcudart.so.10.1\n",
      "2022-06-17 22:13:10.257649: I tensorflow/stream_executor/platform/default/dso_loader.cc:49] Successfully opened dynamic library libcublas.so.10\n",
      "2022-06-17 22:13:10.257664: I tensorflow/stream_executor/platform/default/dso_loader.cc:49] Successfully opened dynamic library libcublasLt.so.10\n",
      "2022-06-17 22:13:10.257679: I tensorflow/stream_executor/platform/default/dso_loader.cc:49] Successfully opened dynamic library libcufft.so.10\n",
      "2022-06-17 22:13:10.257694: I tensorflow/stream_executor/platform/default/dso_loader.cc:49] Successfully opened dynamic library libcurand.so.10\n",
      "2022-06-17 22:13:10.257709: I tensorflow/stream_executor/platform/default/dso_loader.cc:49] Successfully opened dynamic library libcusolver.so.10\n",
      "2022-06-17 22:13:10.257726: I tensorflow/stream_executor/platform/default/dso_loader.cc:49] Successfully opened dynamic library libcusparse.so.10\n",
      "2022-06-17 22:13:10.257741: I tensorflow/stream_executor/platform/default/dso_loader.cc:49] Successfully opened dynamic library libcudnn.so.7\n",
      "2022-06-17 22:13:10.257808: I tensorflow/stream_executor/cuda/cuda_gpu_executor.cc:941] successful NUMA node read from SysFS had negative value (-1), but there must be at least one NUMA node, so returning NUMA node zero\n",
      "2022-06-17 22:13:10.258390: I tensorflow/stream_executor/cuda/cuda_gpu_executor.cc:941] successful NUMA node read from SysFS had negative value (-1), but there must be at least one NUMA node, so returning NUMA node zero\n",
      "2022-06-17 22:13:10.258915: I tensorflow/core/common_runtime/gpu/gpu_device.cc:1862] Adding visible gpu devices: 0\n",
      "2022-06-17 22:13:10.259765: I tensorflow/stream_executor/platform/default/dso_loader.cc:49] Successfully opened dynamic library libcudart.so.10.1\n",
      "2022-06-17 22:13:12.238145: I tensorflow/core/common_runtime/gpu/gpu_device.cc:1261] Device interconnect StreamExecutor with strength 1 edge matrix:\n",
      "2022-06-17 22:13:12.238176: I tensorflow/core/common_runtime/gpu/gpu_device.cc:1267]      0 \n",
      "2022-06-17 22:13:12.238183: I tensorflow/core/common_runtime/gpu/gpu_device.cc:1280] 0:   N \n",
      "2022-06-17 22:13:12.239219: I tensorflow/stream_executor/cuda/cuda_gpu_executor.cc:941] successful NUMA node read from SysFS had negative value (-1), but there must be at least one NUMA node, so returning NUMA node zero\n",
      "2022-06-17 22:13:12.239897: I tensorflow/stream_executor/cuda/cuda_gpu_executor.cc:941] successful NUMA node read from SysFS had negative value (-1), but there must be at least one NUMA node, so returning NUMA node zero\n",
      "2022-06-17 22:13:12.240501: I tensorflow/stream_executor/cuda/cuda_gpu_executor.cc:941] successful NUMA node read from SysFS had negative value (-1), but there must be at least one NUMA node, so returning NUMA node zero\n",
      "2022-06-17 22:13:12.241051: I tensorflow/core/common_runtime/gpu/gpu_device.cc:1406] Created TensorFlow device (/job:localhost/replica:0/task:0/device:GPU:0 with 13970 MB memory) -> physical GPU (device: 0, name: Tesla T4, pci bus id: 0000:00:1e.0, compute capability: 7.5)\n",
      "\u001b[34m\u001b[1mwandb\u001b[0m: \u001b[33mWARNING\u001b[0m The save_model argument by default saves the model in the HDF5 format that cannot save custom objects like subclassed models and custom layers. This behavior will be deprecated in a future release in favor of the SavedModel format. Meanwhile, the HDF5 model is saved as W&B files and the SavedModel as W&B Artifacts.\n",
      "2022-06-17 22:13:18.925156: I tensorflow/compiler/mlir/mlir_graph_optimization_pass.cc:116] None of the MLIR optimization passes are enabled (registered 2)\n",
      "2022-06-17 22:13:18.948584: I tensorflow/core/platform/profile_utils/cpu_utils.cc:112] CPU Frequency: 2499995000 Hz\n"
     ]
    },
    {
     "name": "stdout",
     "output_type": "stream",
     "text": [
      "Epoch 1/10\n"
     ]
    },
    {
     "name": "stderr",
     "output_type": "stream",
     "text": [
      "2022-06-17 22:13:26.443949: I tensorflow/stream_executor/platform/default/dso_loader.cc:49] Successfully opened dynamic library libcublas.so.10\n",
      "2022-06-17 22:13:27.100518: I tensorflow/stream_executor/platform/default/dso_loader.cc:49] Successfully opened dynamic library libcudnn.so.7\n"
     ]
    },
    {
     "name": "stdout",
     "output_type": "stream",
     "text": [
      "671/671 [==============================] - 324s 466ms/step - loss: 2.5272 - diease_outputs_loss: 1.0777 - grow_outputs_loss: 1.4495 - diease_outputs_accuracy: 0.5138 - grow_outputs_accuracy: 0.3787 - val_loss: 1.7878 - val_diease_outputs_loss: 0.7550 - val_grow_outputs_loss: 1.0328 - val_diease_outputs_accuracy: 0.7259 - val_grow_outputs_accuracy: 0.5586\n",
      "Epoch 2/10\n",
      "671/671 [==============================] - 302s 450ms/step - loss: 1.8799 - diease_outputs_loss: 0.7976 - grow_outputs_loss: 1.0823 - diease_outputs_accuracy: 0.6898 - grow_outputs_accuracy: 0.5333 - val_loss: 1.5716 - val_diease_outputs_loss: 0.6554 - val_grow_outputs_loss: 0.9162 - val_diease_outputs_accuracy: 0.7604 - val_grow_outputs_accuracy: 0.6164\n",
      "Epoch 3/10\n",
      "671/671 [==============================] - 305s 455ms/step - loss: 1.6590 - diease_outputs_loss: 0.6952 - grow_outputs_loss: 0.9638 - diease_outputs_accuracy: 0.7324 - grow_outputs_accuracy: 0.5962 - val_loss: 1.4667 - val_diease_outputs_loss: 0.5947 - val_grow_outputs_loss: 0.8719 - val_diease_outputs_accuracy: 0.7795 - val_grow_outputs_accuracy: 0.6259\n",
      "Epoch 4/10\n",
      "671/671 [==============================] - 303s 451ms/step - loss: 1.5455 - diease_outputs_loss: 0.6407 - grow_outputs_loss: 0.9047 - diease_outputs_accuracy: 0.7511 - grow_outputs_accuracy: 0.6176 - val_loss: 1.4005 - val_diease_outputs_loss: 0.5551 - val_grow_outputs_loss: 0.8454 - val_diease_outputs_accuracy: 0.7935 - val_grow_outputs_accuracy: 0.6393\n",
      "Epoch 5/10\n",
      "671/671 [==============================] - 301s 448ms/step - loss: 1.4893 - diease_outputs_loss: 0.6088 - grow_outputs_loss: 0.8805 - diease_outputs_accuracy: 0.7700 - grow_outputs_accuracy: 0.6357 - val_loss: 1.3461 - val_diease_outputs_loss: 0.5265 - val_grow_outputs_loss: 0.8196 - val_diease_outputs_accuracy: 0.8057 - val_grow_outputs_accuracy: 0.6455\n",
      "Epoch 6/10\n",
      "671/671 [==============================] - 304s 453ms/step - loss: 1.4209 - diease_outputs_loss: 0.5704 - grow_outputs_loss: 0.8504 - diease_outputs_accuracy: 0.7844 - grow_outputs_accuracy: 0.6446 - val_loss: 1.3103 - val_diease_outputs_loss: 0.5034 - val_grow_outputs_loss: 0.8069 - val_diease_outputs_accuracy: 0.8122 - val_grow_outputs_accuracy: 0.6548\n",
      "Epoch 7/10\n",
      "671/671 [==============================] - 301s 449ms/step - loss: 1.3815 - diease_outputs_loss: 0.5409 - grow_outputs_loss: 0.8406 - diease_outputs_accuracy: 0.7951 - grow_outputs_accuracy: 0.6447 - val_loss: 1.2766 - val_diease_outputs_loss: 0.4840 - val_grow_outputs_loss: 0.7926 - val_diease_outputs_accuracy: 0.8188 - val_grow_outputs_accuracy: 0.6589\n",
      "Epoch 8/10\n",
      "671/671 [==============================] - 300s 448ms/step - loss: 1.3611 - diease_outputs_loss: 0.5436 - grow_outputs_loss: 0.8175 - diease_outputs_accuracy: 0.7922 - grow_outputs_accuracy: 0.6613 - val_loss: 1.2537 - val_diease_outputs_loss: 0.4741 - val_grow_outputs_loss: 0.7795 - val_diease_outputs_accuracy: 0.8229 - val_grow_outputs_accuracy: 0.6655\n",
      "Epoch 9/10\n",
      "671/671 [==============================] - 302s 450ms/step - loss: 1.3220 - diease_outputs_loss: 0.5134 - grow_outputs_loss: 0.8086 - diease_outputs_accuracy: 0.8065 - grow_outputs_accuracy: 0.6639 - val_loss: 1.2238 - val_diease_outputs_loss: 0.4572 - val_grow_outputs_loss: 0.7666 - val_diease_outputs_accuracy: 0.8271 - val_grow_outputs_accuracy: 0.6753\n",
      "Epoch 10/10\n",
      "671/671 [==============================] - 300s 447ms/step - loss: 1.3006 - diease_outputs_loss: 0.4968 - grow_outputs_loss: 0.8038 - diease_outputs_accuracy: 0.8118 - grow_outputs_accuracy: 0.6654 - val_loss: 1.2061 - val_diease_outputs_loss: 0.4456 - val_grow_outputs_loss: 0.7605 - val_diease_outputs_accuracy: 0.8330 - val_grow_outputs_accuracy: 0.6774\n"
     ]
    },
    {
     "data": {
      "text/html": [
       "Waiting for W&B process to finish... <strong style=\"color:green\">(success).</strong>"
      ],
      "text/plain": [
       "<IPython.core.display.HTML object>"
      ]
     },
     "metadata": {},
     "output_type": "display_data"
    },
    {
     "data": {
      "text/html": [
       "<style>\n",
       "    table.wandb td:nth-child(1) { padding: 0 10px; text-align: left ; width: auto;} td:nth-child(2) {text-align: left ; width: 100%}\n",
       "    .wandb-row { display: flex; flex-direction: row; flex-wrap: wrap; justify-content: flex-start; width: 100% }\n",
       "    .wandb-col { display: flex; flex-direction: column; flex-basis: 100%; flex: 1; padding: 10px; }\n",
       "    </style>\n",
       "<div class=\"wandb-row\"><div class=\"wandb-col\"><h3>Run history:</h3><br/><table class=\"wandb\"><tr><td>diease_outputs_accuracy</td><td>▁▅▆▆▇▇▇███</td></tr><tr><td>diease_outputs_loss</td><td>█▅▄▃▃▂▂▁▁▁</td></tr><tr><td>epoch</td><td>▁▂▃▃▄▅▆▆▇█</td></tr><tr><td>grow_outputs_accuracy</td><td>▁▅▆▆▇▇▇███</td></tr><tr><td>grow_outputs_loss</td><td>█▄▃▂▂▂▁▁▁▁</td></tr><tr><td>loss</td><td>█▅▃▃▂▂▂▁▁▁</td></tr><tr><td>val_diease_outputs_accuracy</td><td>▁▃▅▅▆▇▇▇██</td></tr><tr><td>val_diease_outputs_loss</td><td>█▆▄▃▃▂▂▂▁▁</td></tr><tr><td>val_grow_outputs_accuracy</td><td>▁▄▅▆▆▇▇▇██</td></tr><tr><td>val_grow_outputs_loss</td><td>█▅▄▃▃▂▂▁▁▁</td></tr><tr><td>val_loss</td><td>█▅▄▃▃▂▂▂▁▁</td></tr></table><br/></div><div class=\"wandb-col\"><h3>Run summary:</h3><br/><table class=\"wandb\"><tr><td>best_epoch</td><td>9</td></tr><tr><td>best_val_loss</td><td>1.2061</td></tr><tr><td>diease_outputs_accuracy</td><td>0.81158</td></tr><tr><td>diease_outputs_loss</td><td>0.49815</td></tr><tr><td>epoch</td><td>9</td></tr><tr><td>grow_outputs_accuracy</td><td>0.66341</td></tr><tr><td>grow_outputs_loss</td><td>0.79924</td></tr><tr><td>loss</td><td>1.29739</td></tr><tr><td>val_diease_outputs_accuracy</td><td>0.83304</td></tr><tr><td>val_diease_outputs_loss</td><td>0.44557</td></tr><tr><td>val_grow_outputs_accuracy</td><td>0.67738</td></tr><tr><td>val_grow_outputs_loss</td><td>0.76053</td></tr><tr><td>val_loss</td><td>1.2061</td></tr></table><br/></div></div>"
      ],
      "text/plain": [
       "<IPython.core.display.HTML object>"
      ]
     },
     "metadata": {},
     "output_type": "display_data"
    },
    {
     "data": {
      "text/html": [
       "Synced <strong style=\"color:#cdcd00\">avid-sweep-11</strong>: <a href=\"https://wandb.ai/hkleee/strawberry/runs/jkckd3xb\" target=\"_blank\">https://wandb.ai/hkleee/strawberry/runs/jkckd3xb</a><br/>Synced 6 W&B file(s), 1 media file(s), 0 artifact file(s) and 1 other file(s)"
      ],
      "text/plain": [
       "<IPython.core.display.HTML object>"
      ]
     },
     "metadata": {},
     "output_type": "display_data"
    },
    {
     "data": {
      "text/html": [
       "Find logs at: <code>./wandb/run-20220617_221300-jkckd3xb/logs</code>"
      ],
      "text/plain": [
       "<IPython.core.display.HTML object>"
      ]
     },
     "metadata": {},
     "output_type": "display_data"
    },
    {
     "name": "stderr",
     "output_type": "stream",
     "text": [
      "\u001b[34m\u001b[1mwandb\u001b[0m: Agent Starting Run: h45ob5ha with config:\n",
      "\u001b[34m\u001b[1mwandb\u001b[0m: \tactivation: selu\n",
      "\u001b[34m\u001b[1mwandb\u001b[0m: \tbatch_size: 20\n",
      "\u001b[34m\u001b[1mwandb\u001b[0m: \tdense: 32\n",
      "\u001b[34m\u001b[1mwandb\u001b[0m: \tdropout: 0.5\n",
      "\u001b[34m\u001b[1mwandb\u001b[0m: \tlearning_rate: 3e-05\n",
      "\u001b[34m\u001b[1mwandb\u001b[0m: \toptimizer: rmsprop\n",
      "\u001b[34m\u001b[1mwandb\u001b[0m: \tpretrain_net: resnet\n",
      "Failed to detect the name of this notebook, you can set it manually with the WANDB_NOTEBOOK_NAME environment variable to enable code saving.\n"
     ]
    },
    {
     "data": {
      "text/html": [
       "Tracking run with wandb version 0.12.18"
      ],
      "text/plain": [
       "<IPython.core.display.HTML object>"
      ]
     },
     "metadata": {},
     "output_type": "display_data"
    },
    {
     "data": {
      "text/html": [
       "Run data is saved locally in <code>/home/lab38/Multi_proj_6/model/multi-output/strawberry/sweep/wandb/run-20220617_230434-h45ob5ha</code>"
      ],
      "text/plain": [
       "<IPython.core.display.HTML object>"
      ]
     },
     "metadata": {},
     "output_type": "display_data"
    },
    {
     "data": {
      "text/html": [
       "Syncing run <strong><a href=\"https://wandb.ai/hkleee/strawberry/runs/h45ob5ha\" target=\"_blank\">different-sweep-12</a></strong> to <a href=\"https://wandb.ai/hkleee/strawberry\" target=\"_blank\">Weights & Biases</a> (<a href=\"https://wandb.me/run\" target=\"_blank\">docs</a>)<br/>Sweep page:  <a href=\"https://wandb.ai/hkleee/strawberry/sweeps/natutesf\" target=\"_blank\">https://wandb.ai/hkleee/strawberry/sweeps/natutesf</a>"
      ],
      "text/plain": [
       "<IPython.core.display.HTML object>"
      ]
     },
     "metadata": {},
     "output_type": "display_data"
    },
    {
     "data": {
      "text/html": [
       "Finishing last run (ID:h45ob5ha) before initializing another..."
      ],
      "text/plain": [
       "<IPython.core.display.HTML object>"
      ]
     },
     "metadata": {},
     "output_type": "display_data"
    },
    {
     "data": {
      "text/html": [
       "Waiting for W&B process to finish... <strong style=\"color:green\">(success).</strong>"
      ],
      "text/plain": [
       "<IPython.core.display.HTML object>"
      ]
     },
     "metadata": {},
     "output_type": "display_data"
    },
    {
     "data": {
      "text/html": [
       "Synced <strong style=\"color:#cdcd00\">different-sweep-12</strong>: <a href=\"https://wandb.ai/hkleee/strawberry/runs/h45ob5ha\" target=\"_blank\">https://wandb.ai/hkleee/strawberry/runs/h45ob5ha</a><br/>Synced 5 W&B file(s), 0 media file(s), 0 artifact file(s) and 0 other file(s)"
      ],
      "text/plain": [
       "<IPython.core.display.HTML object>"
      ]
     },
     "metadata": {},
     "output_type": "display_data"
    },
    {
     "data": {
      "text/html": [
       "Find logs at: <code>./wandb/run-20220617_230434-h45ob5ha/logs</code>"
      ],
      "text/plain": [
       "<IPython.core.display.HTML object>"
      ]
     },
     "metadata": {},
     "output_type": "display_data"
    },
    {
     "data": {
      "text/html": [
       "Successfully finished last run (ID:h45ob5ha). Initializing new run:<br/>"
      ],
      "text/plain": [
       "<IPython.core.display.HTML object>"
      ]
     },
     "metadata": {},
     "output_type": "display_data"
    },
    {
     "data": {
      "text/html": [
       "Tracking run with wandb version 0.12.18"
      ],
      "text/plain": [
       "<IPython.core.display.HTML object>"
      ]
     },
     "metadata": {},
     "output_type": "display_data"
    },
    {
     "data": {
      "text/html": [
       "Run data is saved locally in <code>/home/lab38/Multi_proj_6/model/multi-output/strawberry/sweep/wandb/run-20220617_230438-h45ob5ha</code>"
      ],
      "text/plain": [
       "<IPython.core.display.HTML object>"
      ]
     },
     "metadata": {},
     "output_type": "display_data"
    },
    {
     "data": {
      "text/html": [
       "Syncing run <strong><a href=\"https://wandb.ai/hkleee/strawberry/runs/h45ob5ha\" target=\"_blank\">different-sweep-12</a></strong> to <a href=\"https://wandb.ai/hkleee/strawberry\" target=\"_blank\">Weights & Biases</a> (<a href=\"https://wandb.me/run\" target=\"_blank\">docs</a>)<br/>Sweep page:  <a href=\"https://wandb.ai/hkleee/strawberry/sweeps/natutesf\" target=\"_blank\">https://wandb.ai/hkleee/strawberry/sweeps/natutesf</a>"
      ],
      "text/plain": [
       "<IPython.core.display.HTML object>"
      ]
     },
     "metadata": {},
     "output_type": "display_data"
    },
    {
     "name": "stdout",
     "output_type": "stream",
     "text": [
      "Found 13437 validated image filenames.\n",
      "Found 3360 validated image filenames.\n",
      "Epoch 1/10\n",
      "671/671 [==============================] - 277s 408ms/step - loss: 3.9281 - diease_outputs_loss: 1.8088 - grow_outputs_loss: 2.1194 - diease_outputs_accuracy: 0.3120 - grow_outputs_accuracy: 0.2389 - val_loss: 2.6130 - val_diease_outputs_loss: 1.1164 - val_grow_outputs_loss: 1.4966 - val_diease_outputs_accuracy: 0.4387 - val_grow_outputs_accuracy: 0.3673\n",
      "Epoch 2/10\n",
      "671/671 [==============================] - 273s 407ms/step - loss: 2.9244 - diease_outputs_loss: 1.2500 - grow_outputs_loss: 1.6744 - diease_outputs_accuracy: 0.3885 - grow_outputs_accuracy: 0.2689 - val_loss: 2.5762 - val_diease_outputs_loss: 1.1115 - val_grow_outputs_loss: 1.4647 - val_diease_outputs_accuracy: 0.4384 - val_grow_outputs_accuracy: 0.3884\n",
      "Epoch 3/10\n",
      "671/671 [==============================] - 274s 409ms/step - loss: 2.7531 - diease_outputs_loss: 1.1829 - grow_outputs_loss: 1.5701 - diease_outputs_accuracy: 0.3979 - grow_outputs_accuracy: 0.2998 - val_loss: 2.5469 - val_diease_outputs_loss: 1.1010 - val_grow_outputs_loss: 1.4460 - val_diease_outputs_accuracy: 0.4381 - val_grow_outputs_accuracy: 0.3878\n",
      "Epoch 4/10\n",
      "671/671 [==============================] - 274s 408ms/step - loss: 2.6759 - diease_outputs_loss: 1.1507 - grow_outputs_loss: 1.5252 - diease_outputs_accuracy: 0.4152 - grow_outputs_accuracy: 0.3219 - val_loss: 2.5373 - val_diease_outputs_loss: 1.0991 - val_grow_outputs_loss: 1.4382 - val_diease_outputs_accuracy: 0.4402 - val_grow_outputs_accuracy: 0.3408\n",
      "Epoch 5/10\n",
      "671/671 [==============================] - 273s 407ms/step - loss: 2.6274 - diease_outputs_loss: 1.1372 - grow_outputs_loss: 1.4902 - diease_outputs_accuracy: 0.4116 - grow_outputs_accuracy: 0.3307 - val_loss: 2.5114 - val_diease_outputs_loss: 1.0906 - val_grow_outputs_loss: 1.4208 - val_diease_outputs_accuracy: 0.4408 - val_grow_outputs_accuracy: 0.3881\n",
      "Epoch 6/10\n",
      "671/671 [==============================] - 274s 408ms/step - loss: 2.6034 - diease_outputs_loss: 1.1270 - grow_outputs_loss: 1.4763 - diease_outputs_accuracy: 0.4163 - grow_outputs_accuracy: 0.3433 - val_loss: 2.4967 - val_diease_outputs_loss: 1.0913 - val_grow_outputs_loss: 1.4054 - val_diease_outputs_accuracy: 0.4402 - val_grow_outputs_accuracy: 0.4330\n",
      "Epoch 7/10\n",
      "671/671 [==============================] - 273s 407ms/step - loss: 2.5827 - diease_outputs_loss: 1.1143 - grow_outputs_loss: 1.4684 - diease_outputs_accuracy: 0.4342 - grow_outputs_accuracy: 0.3408 - val_loss: 2.4748 - val_diease_outputs_loss: 1.0778 - val_grow_outputs_loss: 1.3970 - val_diease_outputs_accuracy: 0.4402 - val_grow_outputs_accuracy: 0.4318\n",
      "Epoch 8/10\n",
      "671/671 [==============================] - 273s 407ms/step - loss: 2.5519 - diease_outputs_loss: 1.1064 - grow_outputs_loss: 1.4455 - diease_outputs_accuracy: 0.4309 - grow_outputs_accuracy: 0.3666 - val_loss: 2.4741 - val_diease_outputs_loss: 1.0820 - val_grow_outputs_loss: 1.3920 - val_diease_outputs_accuracy: 0.4423 - val_grow_outputs_accuracy: 0.4226\n",
      "Epoch 9/10\n",
      "671/671 [==============================] - 274s 409ms/step - loss: 2.5436 - diease_outputs_loss: 1.1093 - grow_outputs_loss: 1.4343 - diease_outputs_accuracy: 0.4407 - grow_outputs_accuracy: 0.3710 - val_loss: 2.4527 - val_diease_outputs_loss: 1.0705 - val_grow_outputs_loss: 1.3823 - val_diease_outputs_accuracy: 0.4417 - val_grow_outputs_accuracy: 0.4527\n",
      "Epoch 10/10\n",
      "671/671 [==============================] - 274s 408ms/step - loss: 2.5163 - diease_outputs_loss: 1.0899 - grow_outputs_loss: 1.4264 - diease_outputs_accuracy: 0.4456 - grow_outputs_accuracy: 0.3811 - val_loss: 2.4418 - val_diease_outputs_loss: 1.0696 - val_grow_outputs_loss: 1.3722 - val_diease_outputs_accuracy: 0.4405 - val_grow_outputs_accuracy: 0.4432\n"
     ]
    },
    {
     "data": {
      "text/html": [
       "Waiting for W&B process to finish... <strong style=\"color:green\">(success).</strong>"
      ],
      "text/plain": [
       "<IPython.core.display.HTML object>"
      ]
     },
     "metadata": {},
     "output_type": "display_data"
    },
    {
     "data": {
      "text/html": [
       "<style>\n",
       "    table.wandb td:nth-child(1) { padding: 0 10px; text-align: left ; width: auto;} td:nth-child(2) {text-align: left ; width: 100%}\n",
       "    .wandb-row { display: flex; flex-direction: row; flex-wrap: wrap; justify-content: flex-start; width: 100% }\n",
       "    .wandb-col { display: flex; flex-direction: column; flex-basis: 100%; flex: 1; padding: 10px; }\n",
       "    </style>\n",
       "<div class=\"wandb-row\"><div class=\"wandb-col\"><h3>Run history:</h3><br/><table class=\"wandb\"><tr><td>diease_outputs_accuracy</td><td>▁▄▅▆▆▆▇▇██</td></tr><tr><td>diease_outputs_loss</td><td>█▃▂▂▂▁▁▁▁▁</td></tr><tr><td>epoch</td><td>▁▂▃▃▄▅▆▆▇█</td></tr><tr><td>grow_outputs_accuracy</td><td>▁▃▄▅▆▆▆▇██</td></tr><tr><td>grow_outputs_loss</td><td>█▄▃▂▂▂▁▁▁▁</td></tr><tr><td>loss</td><td>█▄▃▂▂▂▁▁▁▁</td></tr><tr><td>val_diease_outputs_accuracy</td><td>▂▁▁▅▆▅▅█▇▅</td></tr><tr><td>val_diease_outputs_loss</td><td>█▇▆▅▄▄▂▃▁▁</td></tr><tr><td>val_grow_outputs_accuracy</td><td>▃▄▄▁▄▇▇▆█▇</td></tr><tr><td>val_grow_outputs_loss</td><td>█▆▅▅▄▃▂▂▂▁</td></tr><tr><td>val_loss</td><td>█▆▅▅▄▃▂▂▁▁</td></tr></table><br/></div><div class=\"wandb-col\"><h3>Run summary:</h3><br/><table class=\"wandb\"><tr><td>best_epoch</td><td>9</td></tr><tr><td>best_val_loss</td><td>2.44183</td></tr><tr><td>diease_outputs_accuracy</td><td>0.446</td></tr><tr><td>diease_outputs_loss</td><td>1.0953</td></tr><tr><td>epoch</td><td>9</td></tr><tr><td>grow_outputs_accuracy</td><td>0.37833</td></tr><tr><td>grow_outputs_loss</td><td>1.42909</td></tr><tr><td>loss</td><td>2.52438</td></tr><tr><td>val_diease_outputs_accuracy</td><td>0.44048</td></tr><tr><td>val_diease_outputs_loss</td><td>1.06965</td></tr><tr><td>val_grow_outputs_accuracy</td><td>0.44315</td></tr><tr><td>val_grow_outputs_loss</td><td>1.37218</td></tr><tr><td>val_loss</td><td>2.44183</td></tr></table><br/></div></div>"
      ],
      "text/plain": [
       "<IPython.core.display.HTML object>"
      ]
     },
     "metadata": {},
     "output_type": "display_data"
    },
    {
     "data": {
      "text/html": [
       "Synced <strong style=\"color:#cdcd00\">different-sweep-12</strong>: <a href=\"https://wandb.ai/hkleee/strawberry/runs/h45ob5ha\" target=\"_blank\">https://wandb.ai/hkleee/strawberry/runs/h45ob5ha</a><br/>Synced 6 W&B file(s), 1 media file(s), 0 artifact file(s) and 1 other file(s)"
      ],
      "text/plain": [
       "<IPython.core.display.HTML object>"
      ]
     },
     "metadata": {},
     "output_type": "display_data"
    },
    {
     "data": {
      "text/html": [
       "Find logs at: <code>./wandb/run-20220617_230438-h45ob5ha/logs</code>"
      ],
      "text/plain": [
       "<IPython.core.display.HTML object>"
      ]
     },
     "metadata": {},
     "output_type": "display_data"
    },
    {
     "name": "stderr",
     "output_type": "stream",
     "text": [
      "\u001b[34m\u001b[1mwandb\u001b[0m: Sweep Agent: Waiting for job.\n",
      "\u001b[34m\u001b[1mwandb\u001b[0m: Job received.\n",
      "\u001b[34m\u001b[1mwandb\u001b[0m: Agent Starting Run: 9wca2erb with config:\n",
      "\u001b[34m\u001b[1mwandb\u001b[0m: \tactivation: elu\n",
      "\u001b[34m\u001b[1mwandb\u001b[0m: \tbatch_size: 50\n",
      "\u001b[34m\u001b[1mwandb\u001b[0m: \tdense: 256\n",
      "\u001b[34m\u001b[1mwandb\u001b[0m: \tdropout: 0.2\n",
      "\u001b[34m\u001b[1mwandb\u001b[0m: \tlearning_rate: 3e-05\n",
      "\u001b[34m\u001b[1mwandb\u001b[0m: \toptimizer: rmsprop\n",
      "\u001b[34m\u001b[1mwandb\u001b[0m: \tpretrain_net: resnet\n",
      "Failed to detect the name of this notebook, you can set it manually with the WANDB_NOTEBOOK_NAME environment variable to enable code saving.\n"
     ]
    },
    {
     "data": {
      "text/html": [
       "Tracking run with wandb version 0.12.18"
      ],
      "text/plain": [
       "<IPython.core.display.HTML object>"
      ]
     },
     "metadata": {},
     "output_type": "display_data"
    },
    {
     "data": {
      "text/html": [
       "Run data is saved locally in <code>/home/lab38/Multi_proj_6/model/multi-output/strawberry/sweep/wandb/run-20220617_235055-9wca2erb</code>"
      ],
      "text/plain": [
       "<IPython.core.display.HTML object>"
      ]
     },
     "metadata": {},
     "output_type": "display_data"
    },
    {
     "data": {
      "text/html": [
       "Syncing run <strong><a href=\"https://wandb.ai/hkleee/strawberry/runs/9wca2erb\" target=\"_blank\">clear-sweep-13</a></strong> to <a href=\"https://wandb.ai/hkleee/strawberry\" target=\"_blank\">Weights & Biases</a> (<a href=\"https://wandb.me/run\" target=\"_blank\">docs</a>)<br/>Sweep page:  <a href=\"https://wandb.ai/hkleee/strawberry/sweeps/natutesf\" target=\"_blank\">https://wandb.ai/hkleee/strawberry/sweeps/natutesf</a>"
      ],
      "text/plain": [
       "<IPython.core.display.HTML object>"
      ]
     },
     "metadata": {},
     "output_type": "display_data"
    },
    {
     "data": {
      "text/html": [
       "Finishing last run (ID:9wca2erb) before initializing another..."
      ],
      "text/plain": [
       "<IPython.core.display.HTML object>"
      ]
     },
     "metadata": {},
     "output_type": "display_data"
    },
    {
     "data": {
      "text/html": [
       "Waiting for W&B process to finish... <strong style=\"color:green\">(success).</strong>"
      ],
      "text/plain": [
       "<IPython.core.display.HTML object>"
      ]
     },
     "metadata": {},
     "output_type": "display_data"
    },
    {
     "data": {
      "text/html": [
       "Synced <strong style=\"color:#cdcd00\">clear-sweep-13</strong>: <a href=\"https://wandb.ai/hkleee/strawberry/runs/9wca2erb\" target=\"_blank\">https://wandb.ai/hkleee/strawberry/runs/9wca2erb</a><br/>Synced 5 W&B file(s), 0 media file(s), 0 artifact file(s) and 0 other file(s)"
      ],
      "text/plain": [
       "<IPython.core.display.HTML object>"
      ]
     },
     "metadata": {},
     "output_type": "display_data"
    },
    {
     "data": {
      "text/html": [
       "Find logs at: <code>./wandb/run-20220617_235055-9wca2erb/logs</code>"
      ],
      "text/plain": [
       "<IPython.core.display.HTML object>"
      ]
     },
     "metadata": {},
     "output_type": "display_data"
    },
    {
     "data": {
      "text/html": [
       "Successfully finished last run (ID:9wca2erb). Initializing new run:<br/>"
      ],
      "text/plain": [
       "<IPython.core.display.HTML object>"
      ]
     },
     "metadata": {},
     "output_type": "display_data"
    },
    {
     "data": {
      "text/html": [
       "Tracking run with wandb version 0.12.18"
      ],
      "text/plain": [
       "<IPython.core.display.HTML object>"
      ]
     },
     "metadata": {},
     "output_type": "display_data"
    },
    {
     "data": {
      "text/html": [
       "Run data is saved locally in <code>/home/lab38/Multi_proj_6/model/multi-output/strawberry/sweep/wandb/run-20220617_235059-9wca2erb</code>"
      ],
      "text/plain": [
       "<IPython.core.display.HTML object>"
      ]
     },
     "metadata": {},
     "output_type": "display_data"
    },
    {
     "data": {
      "text/html": [
       "Syncing run <strong><a href=\"https://wandb.ai/hkleee/strawberry/runs/9wca2erb\" target=\"_blank\">clear-sweep-13</a></strong> to <a href=\"https://wandb.ai/hkleee/strawberry\" target=\"_blank\">Weights & Biases</a> (<a href=\"https://wandb.me/run\" target=\"_blank\">docs</a>)<br/>Sweep page:  <a href=\"https://wandb.ai/hkleee/strawberry/sweeps/natutesf\" target=\"_blank\">https://wandb.ai/hkleee/strawberry/sweeps/natutesf</a>"
      ],
      "text/plain": [
       "<IPython.core.display.HTML object>"
      ]
     },
     "metadata": {},
     "output_type": "display_data"
    },
    {
     "name": "stdout",
     "output_type": "stream",
     "text": [
      "Found 13437 validated image filenames.\n",
      "Found 3360 validated image filenames.\n",
      "Epoch 1/10\n",
      "268/268 [==============================] - 300s 1s/step - loss: 2.8687 - diease_outputs_loss: 1.2752 - grow_outputs_loss: 1.5935 - diease_outputs_accuracy: 0.3535 - grow_outputs_accuracy: 0.2944 - val_loss: 2.5694 - val_diease_outputs_loss: 1.1025 - val_grow_outputs_loss: 1.4669 - val_diease_outputs_accuracy: 0.4387 - val_grow_outputs_accuracy: 0.3354\n",
      "Epoch 2/10\n",
      "268/268 [==============================] - 294s 1s/step - loss: 2.6347 - diease_outputs_loss: 1.1391 - grow_outputs_loss: 1.4956 - diease_outputs_accuracy: 0.4180 - grow_outputs_accuracy: 0.3354 - val_loss: 2.5259 - val_diease_outputs_loss: 1.0909 - val_grow_outputs_loss: 1.4350 - val_diease_outputs_accuracy: 0.4387 - val_grow_outputs_accuracy: 0.3378\n",
      "Epoch 3/10\n",
      "268/268 [==============================] - 297s 1s/step - loss: 2.5686 - diease_outputs_loss: 1.1041 - grow_outputs_loss: 1.4645 - diease_outputs_accuracy: 0.4412 - grow_outputs_accuracy: 0.3468 - val_loss: 2.4991 - val_diease_outputs_loss: 1.0804 - val_grow_outputs_loss: 1.4187 - val_diease_outputs_accuracy: 0.4622 - val_grow_outputs_accuracy: 0.4598\n",
      "Epoch 4/10\n",
      "268/268 [==============================] - 298s 1s/step - loss: 2.5420 - diease_outputs_loss: 1.1015 - grow_outputs_loss: 1.4405 - diease_outputs_accuracy: 0.4423 - grow_outputs_accuracy: 0.3693 - val_loss: 2.4775 - val_diease_outputs_loss: 1.0740 - val_grow_outputs_loss: 1.4035 - val_diease_outputs_accuracy: 0.4402 - val_grow_outputs_accuracy: 0.4384\n",
      "Epoch 5/10\n",
      "268/268 [==============================] - 298s 1s/step - loss: 2.5006 - diease_outputs_loss: 1.0810 - grow_outputs_loss: 1.4196 - diease_outputs_accuracy: 0.4538 - grow_outputs_accuracy: 0.3877 - val_loss: 2.4455 - val_diease_outputs_loss: 1.0614 - val_grow_outputs_loss: 1.3841 - val_diease_outputs_accuracy: 0.4509 - val_grow_outputs_accuracy: 0.4476\n",
      "Epoch 6/10\n",
      "268/268 [==============================] - 299s 1s/step - loss: 2.4823 - diease_outputs_loss: 1.0757 - grow_outputs_loss: 1.4065 - diease_outputs_accuracy: 0.4579 - grow_outputs_accuracy: 0.3941 - val_loss: 2.4300 - val_diease_outputs_loss: 1.0548 - val_grow_outputs_loss: 1.3752 - val_diease_outputs_accuracy: 0.4643 - val_grow_outputs_accuracy: 0.4598\n",
      "Epoch 7/10\n",
      "268/268 [==============================] - 296s 1s/step - loss: 2.4571 - diease_outputs_loss: 1.0684 - grow_outputs_loss: 1.3887 - diease_outputs_accuracy: 0.4692 - grow_outputs_accuracy: 0.4127 - val_loss: 2.4140 - val_diease_outputs_loss: 1.0466 - val_grow_outputs_loss: 1.3674 - val_diease_outputs_accuracy: 0.4640 - val_grow_outputs_accuracy: 0.4685\n",
      "Epoch 8/10\n",
      "268/268 [==============================] - 295s 1s/step - loss: 2.4577 - diease_outputs_loss: 1.0691 - grow_outputs_loss: 1.3886 - diease_outputs_accuracy: 0.4669 - grow_outputs_accuracy: 0.4083 - val_loss: 2.4074 - val_diease_outputs_loss: 1.0448 - val_grow_outputs_loss: 1.3626 - val_diease_outputs_accuracy: 0.4664 - val_grow_outputs_accuracy: 0.4536\n",
      "Epoch 9/10\n",
      "268/268 [==============================] - 298s 1s/step - loss: 2.4424 - diease_outputs_loss: 1.0606 - grow_outputs_loss: 1.3818 - diease_outputs_accuracy: 0.4766 - grow_outputs_accuracy: 0.4171 - val_loss: 2.3788 - val_diease_outputs_loss: 1.0356 - val_grow_outputs_loss: 1.3432 - val_diease_outputs_accuracy: 0.4908 - val_grow_outputs_accuracy: 0.4756\n",
      "Epoch 10/10\n",
      "268/268 [==============================] - 296s 1s/step - loss: 2.4257 - diease_outputs_loss: 1.0544 - grow_outputs_loss: 1.3713 - diease_outputs_accuracy: 0.4783 - grow_outputs_accuracy: 0.4283 - val_loss: 2.3666 - val_diease_outputs_loss: 1.0327 - val_grow_outputs_loss: 1.3339 - val_diease_outputs_accuracy: 0.5229 - val_grow_outputs_accuracy: 0.4988\n"
     ]
    },
    {
     "data": {
      "text/html": [
       "Waiting for W&B process to finish... <strong style=\"color:green\">(success).</strong>"
      ],
      "text/plain": [
       "<IPython.core.display.HTML object>"
      ]
     },
     "metadata": {},
     "output_type": "display_data"
    },
    {
     "data": {
      "text/html": [
       "<style>\n",
       "    table.wandb td:nth-child(1) { padding: 0 10px; text-align: left ; width: auto;} td:nth-child(2) {text-align: left ; width: 100%}\n",
       "    .wandb-row { display: flex; flex-direction: row; flex-wrap: wrap; justify-content: flex-start; width: 100% }\n",
       "    .wandb-col { display: flex; flex-direction: column; flex-basis: 100%; flex: 1; padding: 10px; }\n",
       "    </style>\n",
       "<div class=\"wandb-row\"><div class=\"wandb-col\"><h3>Run history:</h3><br/><table class=\"wandb\"><tr><td>diease_outputs_accuracy</td><td>▁▄▅▅▆▇▇▇▇█</td></tr><tr><td>diease_outputs_loss</td><td>█▅▄▃▂▂▂▂▁▁</td></tr><tr><td>epoch</td><td>▁▂▃▃▄▅▆▆▇█</td></tr><tr><td>grow_outputs_accuracy</td><td>▁▂▄▅▆▆▇▇██</td></tr><tr><td>grow_outputs_loss</td><td>█▆▄▃▃▂▂▂▁▁</td></tr><tr><td>loss</td><td>█▅▄▃▃▂▂▂▁▁</td></tr><tr><td>val_diease_outputs_accuracy</td><td>▁▁▃▁▂▃▃▃▅█</td></tr><tr><td>val_diease_outputs_loss</td><td>█▇▆▅▄▃▂▂▁▁</td></tr><tr><td>val_grow_outputs_accuracy</td><td>▁▁▆▅▆▆▇▆▇█</td></tr><tr><td>val_grow_outputs_loss</td><td>█▆▅▅▄▃▃▃▁▁</td></tr><tr><td>val_loss</td><td>█▆▆▅▄▃▃▂▁▁</td></tr></table><br/></div><div class=\"wandb-col\"><h3>Run summary:</h3><br/><table class=\"wandb\"><tr><td>best_epoch</td><td>9</td></tr><tr><td>best_val_loss</td><td>2.36661</td></tr><tr><td>diease_outputs_accuracy</td><td>0.47897</td></tr><tr><td>diease_outputs_loss</td><td>1.05352</td></tr><tr><td>epoch</td><td>9</td></tr><tr><td>grow_outputs_accuracy</td><td>0.42743</td></tr><tr><td>grow_outputs_loss</td><td>1.37194</td></tr><tr><td>loss</td><td>2.42546</td></tr><tr><td>val_diease_outputs_accuracy</td><td>0.52292</td></tr><tr><td>val_diease_outputs_loss</td><td>1.03267</td></tr><tr><td>val_grow_outputs_accuracy</td><td>0.49881</td></tr><tr><td>val_grow_outputs_loss</td><td>1.33393</td></tr><tr><td>val_loss</td><td>2.36661</td></tr></table><br/></div></div>"
      ],
      "text/plain": [
       "<IPython.core.display.HTML object>"
      ]
     },
     "metadata": {},
     "output_type": "display_data"
    },
    {
     "data": {
      "text/html": [
       "Synced <strong style=\"color:#cdcd00\">clear-sweep-13</strong>: <a href=\"https://wandb.ai/hkleee/strawberry/runs/9wca2erb\" target=\"_blank\">https://wandb.ai/hkleee/strawberry/runs/9wca2erb</a><br/>Synced 6 W&B file(s), 1 media file(s), 0 artifact file(s) and 1 other file(s)"
      ],
      "text/plain": [
       "<IPython.core.display.HTML object>"
      ]
     },
     "metadata": {},
     "output_type": "display_data"
    },
    {
     "data": {
      "text/html": [
       "Find logs at: <code>./wandb/run-20220617_235059-9wca2erb/logs</code>"
      ],
      "text/plain": [
       "<IPython.core.display.HTML object>"
      ]
     },
     "metadata": {},
     "output_type": "display_data"
    },
    {
     "name": "stderr",
     "output_type": "stream",
     "text": [
      "\u001b[34m\u001b[1mwandb\u001b[0m: Agent Starting Run: 4hj0xi5o with config:\n",
      "\u001b[34m\u001b[1mwandb\u001b[0m: \tactivation: elu\n",
      "\u001b[34m\u001b[1mwandb\u001b[0m: \tbatch_size: 50\n",
      "\u001b[34m\u001b[1mwandb\u001b[0m: \tdense: 1024\n",
      "\u001b[34m\u001b[1mwandb\u001b[0m: \tdropout: 0.5\n",
      "\u001b[34m\u001b[1mwandb\u001b[0m: \tlearning_rate: 0.0001\n",
      "\u001b[34m\u001b[1mwandb\u001b[0m: \toptimizer: adam\n",
      "\u001b[34m\u001b[1mwandb\u001b[0m: \tpretrain_net: resnet\n",
      "Failed to detect the name of this notebook, you can set it manually with the WANDB_NOTEBOOK_NAME environment variable to enable code saving.\n"
     ]
    },
    {
     "data": {
      "text/html": [
       "Tracking run with wandb version 0.12.18"
      ],
      "text/plain": [
       "<IPython.core.display.HTML object>"
      ]
     },
     "metadata": {},
     "output_type": "display_data"
    },
    {
     "data": {
      "text/html": [
       "Run data is saved locally in <code>/home/lab38/Multi_proj_6/model/multi-output/strawberry/sweep/wandb/run-20220618_004103-4hj0xi5o</code>"
      ],
      "text/plain": [
       "<IPython.core.display.HTML object>"
      ]
     },
     "metadata": {},
     "output_type": "display_data"
    },
    {
     "data": {
      "text/html": [
       "Syncing run <strong><a href=\"https://wandb.ai/hkleee/strawberry/runs/4hj0xi5o\" target=\"_blank\">crimson-sweep-14</a></strong> to <a href=\"https://wandb.ai/hkleee/strawberry\" target=\"_blank\">Weights & Biases</a> (<a href=\"https://wandb.me/run\" target=\"_blank\">docs</a>)<br/>Sweep page:  <a href=\"https://wandb.ai/hkleee/strawberry/sweeps/natutesf\" target=\"_blank\">https://wandb.ai/hkleee/strawberry/sweeps/natutesf</a>"
      ],
      "text/plain": [
       "<IPython.core.display.HTML object>"
      ]
     },
     "metadata": {},
     "output_type": "display_data"
    },
    {
     "data": {
      "text/html": [
       "Finishing last run (ID:4hj0xi5o) before initializing another..."
      ],
      "text/plain": [
       "<IPython.core.display.HTML object>"
      ]
     },
     "metadata": {},
     "output_type": "display_data"
    },
    {
     "data": {
      "text/html": [
       "Waiting for W&B process to finish... <strong style=\"color:green\">(success).</strong>"
      ],
      "text/plain": [
       "<IPython.core.display.HTML object>"
      ]
     },
     "metadata": {},
     "output_type": "display_data"
    },
    {
     "data": {
      "text/html": [
       "Synced <strong style=\"color:#cdcd00\">crimson-sweep-14</strong>: <a href=\"https://wandb.ai/hkleee/strawberry/runs/4hj0xi5o\" target=\"_blank\">https://wandb.ai/hkleee/strawberry/runs/4hj0xi5o</a><br/>Synced 5 W&B file(s), 0 media file(s), 0 artifact file(s) and 0 other file(s)"
      ],
      "text/plain": [
       "<IPython.core.display.HTML object>"
      ]
     },
     "metadata": {},
     "output_type": "display_data"
    },
    {
     "data": {
      "text/html": [
       "Find logs at: <code>./wandb/run-20220618_004103-4hj0xi5o/logs</code>"
      ],
      "text/plain": [
       "<IPython.core.display.HTML object>"
      ]
     },
     "metadata": {},
     "output_type": "display_data"
    },
    {
     "data": {
      "text/html": [
       "Successfully finished last run (ID:4hj0xi5o). Initializing new run:<br/>"
      ],
      "text/plain": [
       "<IPython.core.display.HTML object>"
      ]
     },
     "metadata": {},
     "output_type": "display_data"
    },
    {
     "data": {
      "text/html": [
       "Tracking run with wandb version 0.12.18"
      ],
      "text/plain": [
       "<IPython.core.display.HTML object>"
      ]
     },
     "metadata": {},
     "output_type": "display_data"
    },
    {
     "data": {
      "text/html": [
       "Run data is saved locally in <code>/home/lab38/Multi_proj_6/model/multi-output/strawberry/sweep/wandb/run-20220618_004107-4hj0xi5o</code>"
      ],
      "text/plain": [
       "<IPython.core.display.HTML object>"
      ]
     },
     "metadata": {},
     "output_type": "display_data"
    },
    {
     "data": {
      "text/html": [
       "Syncing run <strong><a href=\"https://wandb.ai/hkleee/strawberry/runs/4hj0xi5o\" target=\"_blank\">crimson-sweep-14</a></strong> to <a href=\"https://wandb.ai/hkleee/strawberry\" target=\"_blank\">Weights & Biases</a> (<a href=\"https://wandb.me/run\" target=\"_blank\">docs</a>)<br/>Sweep page:  <a href=\"https://wandb.ai/hkleee/strawberry/sweeps/natutesf\" target=\"_blank\">https://wandb.ai/hkleee/strawberry/sweeps/natutesf</a>"
      ],
      "text/plain": [
       "<IPython.core.display.HTML object>"
      ]
     },
     "metadata": {},
     "output_type": "display_data"
    },
    {
     "name": "stdout",
     "output_type": "stream",
     "text": [
      "Found 13437 validated image filenames.\n",
      "Found 3360 validated image filenames.\n",
      "Epoch 1/10\n",
      "268/268 [==============================] - 296s 1s/step - loss: 2.8774 - diease_outputs_loss: 1.2433 - grow_outputs_loss: 1.6341 - diease_outputs_accuracy: 0.3803 - grow_outputs_accuracy: 0.2988 - val_loss: 2.5410 - val_diease_outputs_loss: 1.0954 - val_grow_outputs_loss: 1.4456 - val_diease_outputs_accuracy: 0.4399 - val_grow_outputs_accuracy: 0.3369\n",
      "Epoch 2/10\n",
      "268/268 [==============================] - 293s 1s/step - loss: 2.5457 - diease_outputs_loss: 1.1054 - grow_outputs_loss: 1.4403 - diease_outputs_accuracy: 0.4408 - grow_outputs_accuracy: 0.3624 - val_loss: 2.4444 - val_diease_outputs_loss: 1.0776 - val_grow_outputs_loss: 1.3668 - val_diease_outputs_accuracy: 0.4589 - val_grow_outputs_accuracy: 0.4491\n",
      "Epoch 3/10\n",
      "268/268 [==============================] - 295s 1s/step - loss: 2.4844 - diease_outputs_loss: 1.0854 - grow_outputs_loss: 1.3989 - diease_outputs_accuracy: 0.4432 - grow_outputs_accuracy: 0.3917 - val_loss: 2.3737 - val_diease_outputs_loss: 1.0420 - val_grow_outputs_loss: 1.3316 - val_diease_outputs_accuracy: 0.4863 - val_grow_outputs_accuracy: 0.4857\n",
      "Epoch 4/10\n",
      "268/268 [==============================] - 295s 1s/step - loss: 2.4647 - diease_outputs_loss: 1.0748 - grow_outputs_loss: 1.3899 - diease_outputs_accuracy: 0.4620 - grow_outputs_accuracy: 0.4052 - val_loss: 2.3385 - val_diease_outputs_loss: 1.0274 - val_grow_outputs_loss: 1.3111 - val_diease_outputs_accuracy: 0.4741 - val_grow_outputs_accuracy: 0.4426\n",
      "Epoch 5/10\n",
      "268/268 [==============================] - 295s 1s/step - loss: 2.4351 - diease_outputs_loss: 1.0672 - grow_outputs_loss: 1.3679 - diease_outputs_accuracy: 0.4645 - grow_outputs_accuracy: 0.4164 - val_loss: 2.3055 - val_diease_outputs_loss: 1.0106 - val_grow_outputs_loss: 1.2949 - val_diease_outputs_accuracy: 0.5042 - val_grow_outputs_accuracy: 0.5024\n",
      "Epoch 6/10\n",
      "268/268 [==============================] - 295s 1s/step - loss: 2.4241 - diease_outputs_loss: 1.0606 - grow_outputs_loss: 1.3634 - diease_outputs_accuracy: 0.4742 - grow_outputs_accuracy: 0.4240 - val_loss: 2.3395 - val_diease_outputs_loss: 1.0623 - val_grow_outputs_loss: 1.2772 - val_diease_outputs_accuracy: 0.4435 - val_grow_outputs_accuracy: 0.5030\n",
      "Epoch 7/10\n",
      "268/268 [==============================] - 292s 1s/step - loss: 2.3945 - diease_outputs_loss: 1.0431 - grow_outputs_loss: 1.3514 - diease_outputs_accuracy: 0.4968 - grow_outputs_accuracy: 0.4272 - val_loss: 2.3087 - val_diease_outputs_loss: 1.0007 - val_grow_outputs_loss: 1.3080 - val_diease_outputs_accuracy: 0.4976 - val_grow_outputs_accuracy: 0.4565\n",
      "Epoch 8/10\n",
      "268/268 [==============================] - 292s 1s/step - loss: 2.3766 - diease_outputs_loss: 1.0436 - grow_outputs_loss: 1.3330 - diease_outputs_accuracy: 0.4813 - grow_outputs_accuracy: 0.4401 - val_loss: 2.2559 - val_diease_outputs_loss: 0.9992 - val_grow_outputs_loss: 1.2567 - val_diease_outputs_accuracy: 0.4940 - val_grow_outputs_accuracy: 0.5077\n",
      "Epoch 9/10\n",
      "268/268 [==============================] - 291s 1s/step - loss: 2.3752 - diease_outputs_loss: 1.0411 - grow_outputs_loss: 1.3342 - diease_outputs_accuracy: 0.4911 - grow_outputs_accuracy: 0.4385 - val_loss: 2.2460 - val_diease_outputs_loss: 0.9965 - val_grow_outputs_loss: 1.2494 - val_diease_outputs_accuracy: 0.5051 - val_grow_outputs_accuracy: 0.5083\n",
      "Epoch 10/10\n",
      "268/268 [==============================] - 294s 1s/step - loss: 2.3829 - diease_outputs_loss: 1.0461 - grow_outputs_loss: 1.3368 - diease_outputs_accuracy: 0.4800 - grow_outputs_accuracy: 0.4423 - val_loss: 2.2416 - val_diease_outputs_loss: 0.9910 - val_grow_outputs_loss: 1.2506 - val_diease_outputs_accuracy: 0.4938 - val_grow_outputs_accuracy: 0.5042\n"
     ]
    },
    {
     "data": {
      "text/html": [
       "Waiting for W&B process to finish... <strong style=\"color:green\">(success).</strong>"
      ],
      "text/plain": [
       "<IPython.core.display.HTML object>"
      ]
     },
     "metadata": {},
     "output_type": "display_data"
    },
    {
     "data": {
      "text/html": [
       "<style>\n",
       "    table.wandb td:nth-child(1) { padding: 0 10px; text-align: left ; width: auto;} td:nth-child(2) {text-align: left ; width: 100%}\n",
       "    .wandb-row { display: flex; flex-direction: row; flex-wrap: wrap; justify-content: flex-start; width: 100% }\n",
       "    .wandb-col { display: flex; flex-direction: column; flex-basis: 100%; flex: 1; padding: 10px; }\n",
       "    </style>\n",
       "<div class=\"wandb-row\"><div class=\"wandb-col\"><h3>Run history:</h3><br/><table class=\"wandb\"><tr><td>diease_outputs_accuracy</td><td>▁▄▅▆▆▇█▇██</td></tr><tr><td>diease_outputs_loss</td><td>█▄▃▃▂▂▁▁▁▁</td></tr><tr><td>epoch</td><td>▁▂▃▃▄▅▆▆▇█</td></tr><tr><td>grow_outputs_accuracy</td><td>▁▄▅▆▇▇▇███</td></tr><tr><td>grow_outputs_loss</td><td>█▅▃▃▂▂▂▁▁▁</td></tr><tr><td>loss</td><td>█▅▃▃▂▂▂▁▁▁</td></tr><tr><td>val_diease_outputs_accuracy</td><td>▁▃▆▅█▁▇▇█▇</td></tr><tr><td>val_diease_outputs_loss</td><td>█▇▄▃▂▆▂▂▁▁</td></tr><tr><td>val_grow_outputs_accuracy</td><td>▁▆▇▅██▆███</td></tr><tr><td>val_grow_outputs_loss</td><td>█▅▄▃▃▂▃▁▁▁</td></tr><tr><td>val_loss</td><td>█▆▄▃▂▃▃▁▁▁</td></tr></table><br/></div><div class=\"wandb-col\"><h3>Run summary:</h3><br/><table class=\"wandb\"><tr><td>best_epoch</td><td>9</td></tr><tr><td>best_val_loss</td><td>2.2416</td></tr><tr><td>diease_outputs_accuracy</td><td>0.48913</td></tr><tr><td>diease_outputs_loss</td><td>1.03952</td></tr><tr><td>epoch</td><td>9</td></tr><tr><td>grow_outputs_accuracy</td><td>0.43916</td></tr><tr><td>grow_outputs_loss</td><td>1.33272</td></tr><tr><td>loss</td><td>2.37224</td></tr><tr><td>val_diease_outputs_accuracy</td><td>0.49375</td></tr><tr><td>val_diease_outputs_loss</td><td>0.991</td></tr><tr><td>val_grow_outputs_accuracy</td><td>0.50417</td></tr><tr><td>val_grow_outputs_loss</td><td>1.2506</td></tr><tr><td>val_loss</td><td>2.2416</td></tr></table><br/></div></div>"
      ],
      "text/plain": [
       "<IPython.core.display.HTML object>"
      ]
     },
     "metadata": {},
     "output_type": "display_data"
    },
    {
     "data": {
      "text/html": [
       "Synced <strong style=\"color:#cdcd00\">crimson-sweep-14</strong>: <a href=\"https://wandb.ai/hkleee/strawberry/runs/4hj0xi5o\" target=\"_blank\">https://wandb.ai/hkleee/strawberry/runs/4hj0xi5o</a><br/>Synced 6 W&B file(s), 1 media file(s), 0 artifact file(s) and 1 other file(s)"
      ],
      "text/plain": [
       "<IPython.core.display.HTML object>"
      ]
     },
     "metadata": {},
     "output_type": "display_data"
    },
    {
     "data": {
      "text/html": [
       "Find logs at: <code>./wandb/run-20220618_004107-4hj0xi5o/logs</code>"
      ],
      "text/plain": [
       "<IPython.core.display.HTML object>"
      ]
     },
     "metadata": {},
     "output_type": "display_data"
    },
    {
     "name": "stderr",
     "output_type": "stream",
     "text": [
      "\u001b[34m\u001b[1mwandb\u001b[0m: Agent Starting Run: pin2f72t with config:\n",
      "\u001b[34m\u001b[1mwandb\u001b[0m: \tactivation: elu\n",
      "\u001b[34m\u001b[1mwandb\u001b[0m: \tbatch_size: 20\n",
      "\u001b[34m\u001b[1mwandb\u001b[0m: \tdense: 1024\n",
      "\u001b[34m\u001b[1mwandb\u001b[0m: \tdropout: 0.5\n",
      "\u001b[34m\u001b[1mwandb\u001b[0m: \tlearning_rate: 0.01\n",
      "\u001b[34m\u001b[1mwandb\u001b[0m: \toptimizer: rmsprop\n",
      "\u001b[34m\u001b[1mwandb\u001b[0m: \tpretrain_net: resnet\n",
      "Failed to detect the name of this notebook, you can set it manually with the WANDB_NOTEBOOK_NAME environment variable to enable code saving.\n"
     ]
    },
    {
     "data": {
      "text/html": [
       "Tracking run with wandb version 0.12.18"
      ],
      "text/plain": [
       "<IPython.core.display.HTML object>"
      ]
     },
     "metadata": {},
     "output_type": "display_data"
    },
    {
     "data": {
      "text/html": [
       "Run data is saved locally in <code>/home/lab38/Multi_proj_6/model/multi-output/strawberry/sweep/wandb/run-20220618_013031-pin2f72t</code>"
      ],
      "text/plain": [
       "<IPython.core.display.HTML object>"
      ]
     },
     "metadata": {},
     "output_type": "display_data"
    },
    {
     "data": {
      "text/html": [
       "Syncing run <strong><a href=\"https://wandb.ai/hkleee/strawberry/runs/pin2f72t\" target=\"_blank\">ethereal-sweep-15</a></strong> to <a href=\"https://wandb.ai/hkleee/strawberry\" target=\"_blank\">Weights & Biases</a> (<a href=\"https://wandb.me/run\" target=\"_blank\">docs</a>)<br/>Sweep page:  <a href=\"https://wandb.ai/hkleee/strawberry/sweeps/natutesf\" target=\"_blank\">https://wandb.ai/hkleee/strawberry/sweeps/natutesf</a>"
      ],
      "text/plain": [
       "<IPython.core.display.HTML object>"
      ]
     },
     "metadata": {},
     "output_type": "display_data"
    },
    {
     "data": {
      "text/html": [
       "Finishing last run (ID:pin2f72t) before initializing another..."
      ],
      "text/plain": [
       "<IPython.core.display.HTML object>"
      ]
     },
     "metadata": {},
     "output_type": "display_data"
    },
    {
     "data": {
      "text/html": [
       "Waiting for W&B process to finish... <strong style=\"color:green\">(success).</strong>"
      ],
      "text/plain": [
       "<IPython.core.display.HTML object>"
      ]
     },
     "metadata": {},
     "output_type": "display_data"
    },
    {
     "data": {
      "text/html": [
       "Synced <strong style=\"color:#cdcd00\">ethereal-sweep-15</strong>: <a href=\"https://wandb.ai/hkleee/strawberry/runs/pin2f72t\" target=\"_blank\">https://wandb.ai/hkleee/strawberry/runs/pin2f72t</a><br/>Synced 5 W&B file(s), 0 media file(s), 0 artifact file(s) and 0 other file(s)"
      ],
      "text/plain": [
       "<IPython.core.display.HTML object>"
      ]
     },
     "metadata": {},
     "output_type": "display_data"
    },
    {
     "data": {
      "text/html": [
       "Find logs at: <code>./wandb/run-20220618_013031-pin2f72t/logs</code>"
      ],
      "text/plain": [
       "<IPython.core.display.HTML object>"
      ]
     },
     "metadata": {},
     "output_type": "display_data"
    },
    {
     "data": {
      "text/html": [
       "Successfully finished last run (ID:pin2f72t). Initializing new run:<br/>"
      ],
      "text/plain": [
       "<IPython.core.display.HTML object>"
      ]
     },
     "metadata": {},
     "output_type": "display_data"
    },
    {
     "data": {
      "text/html": [
       "Tracking run with wandb version 0.12.18"
      ],
      "text/plain": [
       "<IPython.core.display.HTML object>"
      ]
     },
     "metadata": {},
     "output_type": "display_data"
    },
    {
     "data": {
      "text/html": [
       "Run data is saved locally in <code>/home/lab38/Multi_proj_6/model/multi-output/strawberry/sweep/wandb/run-20220618_013035-pin2f72t</code>"
      ],
      "text/plain": [
       "<IPython.core.display.HTML object>"
      ]
     },
     "metadata": {},
     "output_type": "display_data"
    },
    {
     "data": {
      "text/html": [
       "Syncing run <strong><a href=\"https://wandb.ai/hkleee/strawberry/runs/pin2f72t\" target=\"_blank\">ethereal-sweep-15</a></strong> to <a href=\"https://wandb.ai/hkleee/strawberry\" target=\"_blank\">Weights & Biases</a> (<a href=\"https://wandb.me/run\" target=\"_blank\">docs</a>)<br/>Sweep page:  <a href=\"https://wandb.ai/hkleee/strawberry/sweeps/natutesf\" target=\"_blank\">https://wandb.ai/hkleee/strawberry/sweeps/natutesf</a>"
      ],
      "text/plain": [
       "<IPython.core.display.HTML object>"
      ]
     },
     "metadata": {},
     "output_type": "display_data"
    },
    {
     "name": "stdout",
     "output_type": "stream",
     "text": [
      "Found 13437 validated image filenames.\n",
      "Found 3360 validated image filenames.\n",
      "Epoch 1/10\n",
      "671/671 [==============================] - 278s 410ms/step - loss: 20.2509 - diease_outputs_loss: 8.8778 - grow_outputs_loss: 11.3732 - diease_outputs_accuracy: 0.3411 - grow_outputs_accuracy: 0.2348 - val_loss: 9.6806 - val_diease_outputs_loss: 4.3298 - val_grow_outputs_loss: 5.3508 - val_diease_outputs_accuracy: 0.2789 - val_grow_outputs_accuracy: 0.1917\n",
      "Epoch 2/10\n",
      "671/671 [==============================] - 271s 404ms/step - loss: 12.1166 - diease_outputs_loss: 5.5022 - grow_outputs_loss: 6.6144 - diease_outputs_accuracy: 0.3433 - grow_outputs_accuracy: 0.2615 - val_loss: 14.5523 - val_diease_outputs_loss: 5.8892 - val_grow_outputs_loss: 8.6632 - val_diease_outputs_accuracy: 0.2696 - val_grow_outputs_accuracy: 0.2557\n",
      "Epoch 3/10\n",
      "671/671 [==============================] - 272s 405ms/step - loss: 12.1783 - diease_outputs_loss: 5.4795 - grow_outputs_loss: 6.6988 - diease_outputs_accuracy: 0.3548 - grow_outputs_accuracy: 0.2624 - val_loss: 13.9905 - val_diease_outputs_loss: 4.4732 - val_grow_outputs_loss: 9.5174 - val_diease_outputs_accuracy: 0.2658 - val_grow_outputs_accuracy: 0.2714\n",
      "Epoch 4/10\n",
      "671/671 [==============================] - 273s 407ms/step - loss: 12.1998 - diease_outputs_loss: 5.5511 - grow_outputs_loss: 6.6486 - diease_outputs_accuracy: 0.3602 - grow_outputs_accuracy: 0.2640 - val_loss: 9.2177 - val_diease_outputs_loss: 4.3941 - val_grow_outputs_loss: 4.8237 - val_diease_outputs_accuracy: 0.2833 - val_grow_outputs_accuracy: 0.2896\n",
      "Epoch 5/10\n",
      "671/671 [==============================] - 276s 411ms/step - loss: 12.5628 - diease_outputs_loss: 5.7708 - grow_outputs_loss: 6.7920 - diease_outputs_accuracy: 0.3505 - grow_outputs_accuracy: 0.2767 - val_loss: 8.4110 - val_diease_outputs_loss: 4.6670 - val_grow_outputs_loss: 3.7440 - val_diease_outputs_accuracy: 0.2658 - val_grow_outputs_accuracy: 0.3458\n",
      "Epoch 6/10\n",
      "671/671 [==============================] - 280s 418ms/step - loss: 12.4106 - diease_outputs_loss: 5.6241 - grow_outputs_loss: 6.7865 - diease_outputs_accuracy: 0.3776 - grow_outputs_accuracy: 0.2746 - val_loss: 10.7160 - val_diease_outputs_loss: 4.1166 - val_grow_outputs_loss: 6.5994 - val_diease_outputs_accuracy: 0.4387 - val_grow_outputs_accuracy: 0.1917\n",
      "Epoch 7/10\n",
      "257/671 [==========>...................] - ETA: 2:45 - loss: 12.5310 - diease_outputs_loss: 5.8490 - grow_outputs_loss: 6.6819 - diease_outputs_accuracy: 0.3412 - grow_outputs_accuracy: 0.2822"
     ]
    }
   ],
   "source": [
    "#wandb.agent('natutesf', train)"
   ]
  },
  {
   "cell_type": "code",
   "execution_count": null,
   "id": "5cf15bb6",
   "metadata": {
    "collapsed": true
   },
   "outputs": [
    {
     "name": "stderr",
     "output_type": "stream",
     "text": [
      "\u001b[34m\u001b[1mwandb\u001b[0m: Agent Starting Run: 2cdut50y with config:\n",
      "\u001b[34m\u001b[1mwandb\u001b[0m: \tactivation: selu\n",
      "\u001b[34m\u001b[1mwandb\u001b[0m: \tbatch_size: 20\n",
      "\u001b[34m\u001b[1mwandb\u001b[0m: \tdense: 1024\n",
      "\u001b[34m\u001b[1mwandb\u001b[0m: \tdropout: 0.5\n",
      "\u001b[34m\u001b[1mwandb\u001b[0m: \tlearning_rate: 0.01\n",
      "\u001b[34m\u001b[1mwandb\u001b[0m: \toptimizer: rmsprop\n",
      "\u001b[34m\u001b[1mwandb\u001b[0m: \tpretrain_net: inception\n",
      "Failed to detect the name of this notebook, you can set it manually with the WANDB_NOTEBOOK_NAME environment variable to enable code saving.\n",
      "\u001b[34m\u001b[1mwandb\u001b[0m: Currently logged in as: \u001b[33mhkleee\u001b[0m. Use \u001b[1m`wandb login --relogin`\u001b[0m to force relogin\n"
     ]
    },
    {
     "data": {
      "text/html": [
       "Tracking run with wandb version 0.12.18"
      ],
      "text/plain": [
       "<IPython.core.display.HTML object>"
      ]
     },
     "metadata": {},
     "output_type": "display_data"
    },
    {
     "data": {
      "text/html": [
       "Run data is saved locally in <code>/home/lab38/Multi_proj_6/model/multi-output/strawberry/sweep/wandb/run-20220618_020329-2cdut50y</code>"
      ],
      "text/plain": [
       "<IPython.core.display.HTML object>"
      ]
     },
     "metadata": {},
     "output_type": "display_data"
    },
    {
     "data": {
      "text/html": [
       "Syncing run <strong><a href=\"https://wandb.ai/hkleee/strawberry/runs/2cdut50y\" target=\"_blank\">super-sweep-16</a></strong> to <a href=\"https://wandb.ai/hkleee/strawberry\" target=\"_blank\">Weights & Biases</a> (<a href=\"https://wandb.me/run\" target=\"_blank\">docs</a>)<br/>Sweep page:  <a href=\"https://wandb.ai/hkleee/strawberry/sweeps/natutesf\" target=\"_blank\">https://wandb.ai/hkleee/strawberry/sweeps/natutesf</a>"
      ],
      "text/plain": [
       "<IPython.core.display.HTML object>"
      ]
     },
     "metadata": {},
     "output_type": "display_data"
    },
    {
     "data": {
      "text/html": [
       "Finishing last run (ID:2cdut50y) before initializing another..."
      ],
      "text/plain": [
       "<IPython.core.display.HTML object>"
      ]
     },
     "metadata": {},
     "output_type": "display_data"
    },
    {
     "data": {
      "text/html": [
       "Waiting for W&B process to finish... <strong style=\"color:green\">(success).</strong>"
      ],
      "text/plain": [
       "<IPython.core.display.HTML object>"
      ]
     },
     "metadata": {},
     "output_type": "display_data"
    },
    {
     "data": {
      "text/html": [
       "Synced <strong style=\"color:#cdcd00\">super-sweep-16</strong>: <a href=\"https://wandb.ai/hkleee/strawberry/runs/2cdut50y\" target=\"_blank\">https://wandb.ai/hkleee/strawberry/runs/2cdut50y</a><br/>Synced 5 W&B file(s), 0 media file(s), 0 artifact file(s) and 0 other file(s)"
      ],
      "text/plain": [
       "<IPython.core.display.HTML object>"
      ]
     },
     "metadata": {},
     "output_type": "display_data"
    },
    {
     "data": {
      "text/html": [
       "Find logs at: <code>./wandb/run-20220618_020329-2cdut50y/logs</code>"
      ],
      "text/plain": [
       "<IPython.core.display.HTML object>"
      ]
     },
     "metadata": {},
     "output_type": "display_data"
    },
    {
     "data": {
      "text/html": [
       "Successfully finished last run (ID:2cdut50y). Initializing new run:<br/>"
      ],
      "text/plain": [
       "<IPython.core.display.HTML object>"
      ]
     },
     "metadata": {},
     "output_type": "display_data"
    },
    {
     "data": {
      "text/html": [
       "Tracking run with wandb version 0.12.18"
      ],
      "text/plain": [
       "<IPython.core.display.HTML object>"
      ]
     },
     "metadata": {},
     "output_type": "display_data"
    },
    {
     "data": {
      "text/html": [
       "Run data is saved locally in <code>/home/lab38/Multi_proj_6/model/multi-output/strawberry/sweep/wandb/run-20220618_020333-2cdut50y</code>"
      ],
      "text/plain": [
       "<IPython.core.display.HTML object>"
      ]
     },
     "metadata": {},
     "output_type": "display_data"
    },
    {
     "data": {
      "text/html": [
       "Syncing run <strong><a href=\"https://wandb.ai/hkleee/strawberry/runs/2cdut50y\" target=\"_blank\">super-sweep-16</a></strong> to <a href=\"https://wandb.ai/hkleee/strawberry\" target=\"_blank\">Weights & Biases</a> (<a href=\"https://wandb.me/run\" target=\"_blank\">docs</a>)<br/>Sweep page:  <a href=\"https://wandb.ai/hkleee/strawberry/sweeps/natutesf\" target=\"_blank\">https://wandb.ai/hkleee/strawberry/sweeps/natutesf</a>"
      ],
      "text/plain": [
       "<IPython.core.display.HTML object>"
      ]
     },
     "metadata": {},
     "output_type": "display_data"
    },
    {
     "name": "stdout",
     "output_type": "stream",
     "text": [
      "Found 13437 validated image filenames.\n",
      "Found 3360 validated image filenames.\n"
     ]
    },
    {
     "name": "stderr",
     "output_type": "stream",
     "text": [
      "2022-06-18 02:03:43.231999: I tensorflow/compiler/jit/xla_cpu_device.cc:41] Not creating XLA devices, tf_xla_enable_xla_devices not set\n",
      "2022-06-18 02:03:43.233210: I tensorflow/stream_executor/platform/default/dso_loader.cc:49] Successfully opened dynamic library libcuda.so.1\n",
      "2022-06-18 02:03:43.278758: I tensorflow/stream_executor/cuda/cuda_gpu_executor.cc:941] successful NUMA node read from SysFS had negative value (-1), but there must be at least one NUMA node, so returning NUMA node zero\n",
      "2022-06-18 02:03:43.279434: I tensorflow/core/common_runtime/gpu/gpu_device.cc:1720] Found device 0 with properties: \n",
      "pciBusID: 0000:00:1e.0 name: Tesla T4 computeCapability: 7.5\n",
      "coreClock: 1.59GHz coreCount: 40 deviceMemorySize: 14.75GiB deviceMemoryBandwidth: 298.08GiB/s\n",
      "2022-06-18 02:03:43.279481: I tensorflow/stream_executor/platform/default/dso_loader.cc:49] Successfully opened dynamic library libcudart.so.10.1\n",
      "2022-06-18 02:03:43.360683: I tensorflow/stream_executor/platform/default/dso_loader.cc:49] Successfully opened dynamic library libcublas.so.10\n",
      "2022-06-18 02:03:43.360829: I tensorflow/stream_executor/platform/default/dso_loader.cc:49] Successfully opened dynamic library libcublasLt.so.10\n",
      "2022-06-18 02:03:43.403571: I tensorflow/stream_executor/platform/default/dso_loader.cc:49] Successfully opened dynamic library libcufft.so.10\n",
      "2022-06-18 02:03:43.414756: I tensorflow/stream_executor/platform/default/dso_loader.cc:49] Successfully opened dynamic library libcurand.so.10\n",
      "2022-06-18 02:03:43.495848: I tensorflow/stream_executor/platform/default/dso_loader.cc:49] Successfully opened dynamic library libcusolver.so.10\n",
      "2022-06-18 02:03:43.506196: I tensorflow/stream_executor/platform/default/dso_loader.cc:49] Successfully opened dynamic library libcusparse.so.10\n",
      "2022-06-18 02:03:43.640189: I tensorflow/stream_executor/platform/default/dso_loader.cc:49] Successfully opened dynamic library libcudnn.so.7\n",
      "2022-06-18 02:03:43.640464: I tensorflow/stream_executor/cuda/cuda_gpu_executor.cc:941] successful NUMA node read from SysFS had negative value (-1), but there must be at least one NUMA node, so returning NUMA node zero\n",
      "2022-06-18 02:03:43.641161: I tensorflow/stream_executor/cuda/cuda_gpu_executor.cc:941] successful NUMA node read from SysFS had negative value (-1), but there must be at least one NUMA node, so returning NUMA node zero\n",
      "2022-06-18 02:03:43.641696: I tensorflow/core/common_runtime/gpu/gpu_device.cc:1862] Adding visible gpu devices: 0\n",
      "2022-06-18 02:03:43.642863: I tensorflow/core/platform/cpu_feature_guard.cc:142] This TensorFlow binary is optimized with oneAPI Deep Neural Network Library (oneDNN) to use the following CPU instructions in performance-critical operations:  SSE4.1 SSE4.2 AVX AVX2 AVX512F FMA\n",
      "To enable them in other operations, rebuild TensorFlow with the appropriate compiler flags.\n",
      "2022-06-18 02:03:43.643126: I tensorflow/compiler/jit/xla_gpu_device.cc:99] Not creating XLA devices, tf_xla_enable_xla_devices not set\n",
      "2022-06-18 02:03:43.643322: I tensorflow/stream_executor/cuda/cuda_gpu_executor.cc:941] successful NUMA node read from SysFS had negative value (-1), but there must be at least one NUMA node, so returning NUMA node zero\n",
      "2022-06-18 02:03:43.643903: I tensorflow/core/common_runtime/gpu/gpu_device.cc:1720] Found device 0 with properties: \n",
      "pciBusID: 0000:00:1e.0 name: Tesla T4 computeCapability: 7.5\n",
      "coreClock: 1.59GHz coreCount: 40 deviceMemorySize: 14.75GiB deviceMemoryBandwidth: 298.08GiB/s\n",
      "2022-06-18 02:03:43.643972: I tensorflow/stream_executor/platform/default/dso_loader.cc:49] Successfully opened dynamic library libcudart.so.10.1\n",
      "2022-06-18 02:03:43.644004: I tensorflow/stream_executor/platform/default/dso_loader.cc:49] Successfully opened dynamic library libcublas.so.10\n",
      "2022-06-18 02:03:43.644020: I tensorflow/stream_executor/platform/default/dso_loader.cc:49] Successfully opened dynamic library libcublasLt.so.10\n",
      "2022-06-18 02:03:43.644035: I tensorflow/stream_executor/platform/default/dso_loader.cc:49] Successfully opened dynamic library libcufft.so.10\n",
      "2022-06-18 02:03:43.644050: I tensorflow/stream_executor/platform/default/dso_loader.cc:49] Successfully opened dynamic library libcurand.so.10\n",
      "2022-06-18 02:03:43.644065: I tensorflow/stream_executor/platform/default/dso_loader.cc:49] Successfully opened dynamic library libcusolver.so.10\n",
      "2022-06-18 02:03:43.644082: I tensorflow/stream_executor/platform/default/dso_loader.cc:49] Successfully opened dynamic library libcusparse.so.10\n",
      "2022-06-18 02:03:43.644097: I tensorflow/stream_executor/platform/default/dso_loader.cc:49] Successfully opened dynamic library libcudnn.so.7\n",
      "2022-06-18 02:03:43.644177: I tensorflow/stream_executor/cuda/cuda_gpu_executor.cc:941] successful NUMA node read from SysFS had negative value (-1), but there must be at least one NUMA node, so returning NUMA node zero\n",
      "2022-06-18 02:03:43.644765: I tensorflow/stream_executor/cuda/cuda_gpu_executor.cc:941] successful NUMA node read from SysFS had negative value (-1), but there must be at least one NUMA node, so returning NUMA node zero\n",
      "2022-06-18 02:03:43.645294: I tensorflow/core/common_runtime/gpu/gpu_device.cc:1862] Adding visible gpu devices: 0\n",
      "2022-06-18 02:03:43.646211: I tensorflow/stream_executor/platform/default/dso_loader.cc:49] Successfully opened dynamic library libcudart.so.10.1\n",
      "2022-06-18 02:03:45.614047: I tensorflow/core/common_runtime/gpu/gpu_device.cc:1261] Device interconnect StreamExecutor with strength 1 edge matrix:\n",
      "2022-06-18 02:03:45.614080: I tensorflow/core/common_runtime/gpu/gpu_device.cc:1267]      0 \n",
      "2022-06-18 02:03:45.614086: I tensorflow/core/common_runtime/gpu/gpu_device.cc:1280] 0:   N \n",
      "2022-06-18 02:03:45.615169: I tensorflow/stream_executor/cuda/cuda_gpu_executor.cc:941] successful NUMA node read from SysFS had negative value (-1), but there must be at least one NUMA node, so returning NUMA node zero\n",
      "2022-06-18 02:03:45.615825: I tensorflow/stream_executor/cuda/cuda_gpu_executor.cc:941] successful NUMA node read from SysFS had negative value (-1), but there must be at least one NUMA node, so returning NUMA node zero\n",
      "2022-06-18 02:03:45.616411: I tensorflow/stream_executor/cuda/cuda_gpu_executor.cc:941] successful NUMA node read from SysFS had negative value (-1), but there must be at least one NUMA node, so returning NUMA node zero\n",
      "2022-06-18 02:03:45.616947: I tensorflow/core/common_runtime/gpu/gpu_device.cc:1406] Created TensorFlow device (/job:localhost/replica:0/task:0/device:GPU:0 with 13970 MB memory) -> physical GPU (device: 0, name: Tesla T4, pci bus id: 0000:00:1e.0, compute capability: 7.5)\n",
      "\u001b[34m\u001b[1mwandb\u001b[0m: \u001b[33mWARNING\u001b[0m The save_model argument by default saves the model in the HDF5 format that cannot save custom objects like subclassed models and custom layers. This behavior will be deprecated in a future release in favor of the SavedModel format. Meanwhile, the HDF5 model is saved as W&B files and the SavedModel as W&B Artifacts.\n",
      "2022-06-18 02:03:52.377694: I tensorflow/compiler/mlir/mlir_graph_optimization_pass.cc:116] None of the MLIR optimization passes are enabled (registered 2)\n",
      "2022-06-18 02:03:52.399069: I tensorflow/core/platform/profile_utils/cpu_utils.cc:112] CPU Frequency: 2499995000 Hz\n"
     ]
    },
    {
     "name": "stdout",
     "output_type": "stream",
     "text": [
      "Epoch 1/10\n"
     ]
    },
    {
     "name": "stderr",
     "output_type": "stream",
     "text": [
      "2022-06-18 02:04:00.327750: I tensorflow/stream_executor/platform/default/dso_loader.cc:49] Successfully opened dynamic library libcublas.so.10\n",
      "2022-06-18 02:04:00.952906: I tensorflow/stream_executor/platform/default/dso_loader.cc:49] Successfully opened dynamic library libcudnn.so.7\n"
     ]
    },
    {
     "name": "stdout",
     "output_type": "stream",
     "text": [
      "671/671 [==============================] - 337s 485ms/step - loss: 30.1805 - diease_outputs_loss: 13.8033 - grow_outputs_loss: 16.3772 - diease_outputs_accuracy: 0.5107 - grow_outputs_accuracy: 0.4157 - val_loss: 9.0278 - val_diease_outputs_loss: 2.2888 - val_grow_outputs_loss: 6.7390 - val_diease_outputs_accuracy: 0.7693 - val_grow_outputs_accuracy: 0.5193\n",
      "Epoch 2/10\n",
      "671/671 [==============================] - 312s 465ms/step - loss: 15.2219 - diease_outputs_loss: 6.1548 - grow_outputs_loss: 9.0671 - diease_outputs_accuracy: 0.6770 - grow_outputs_accuracy: 0.5231 - val_loss: 12.5959 - val_diease_outputs_loss: 2.4038 - val_grow_outputs_loss: 10.1920 - val_diease_outputs_accuracy: 0.7616 - val_grow_outputs_accuracy: 0.4872\n",
      "Epoch 3/10\n",
      "671/671 [==============================] - 315s 470ms/step - loss: 13.8936 - diease_outputs_loss: 5.4179 - grow_outputs_loss: 8.4757 - diease_outputs_accuracy: 0.7203 - grow_outputs_accuracy: 0.5463 - val_loss: 10.7007 - val_diease_outputs_loss: 2.2338 - val_grow_outputs_loss: 8.4669 - val_diease_outputs_accuracy: 0.8610 - val_grow_outputs_accuracy: 0.5920\n",
      "Epoch 4/10\n",
      "671/671 [==============================] - 315s 469ms/step - loss: 13.1189 - diease_outputs_loss: 4.9490 - grow_outputs_loss: 8.1699 - diease_outputs_accuracy: 0.7401 - grow_outputs_accuracy: 0.5593 - val_loss: 16.4204 - val_diease_outputs_loss: 5.4897 - val_grow_outputs_loss: 10.9307 - val_diease_outputs_accuracy: 0.7283 - val_grow_outputs_accuracy: 0.5786\n",
      "Epoch 5/10\n",
      "671/671 [==============================] - 311s 464ms/step - loss: 13.0631 - diease_outputs_loss: 5.0671 - grow_outputs_loss: 7.9960 - diease_outputs_accuracy: 0.7434 - grow_outputs_accuracy: 0.5693 - val_loss: 11.1139 - val_diease_outputs_loss: 6.0993 - val_grow_outputs_loss: 5.0146 - val_diease_outputs_accuracy: 0.7530 - val_grow_outputs_accuracy: 0.6232\n",
      "Epoch 6/10\n",
      "671/671 [==============================] - 311s 463ms/step - loss: 12.5654 - diease_outputs_loss: 4.7215 - grow_outputs_loss: 7.8439 - diease_outputs_accuracy: 0.7556 - grow_outputs_accuracy: 0.5765 - val_loss: 14.0491 - val_diease_outputs_loss: 3.8130 - val_grow_outputs_loss: 10.2362 - val_diease_outputs_accuracy: 0.7170 - val_grow_outputs_accuracy: 0.5744\n",
      "Epoch 7/10\n",
      "671/671 [==============================] - 308s 459ms/step - loss: 12.6210 - diease_outputs_loss: 4.8285 - grow_outputs_loss: 7.7925 - diease_outputs_accuracy: 0.7500 - grow_outputs_accuracy: 0.5838 - val_loss: 10.1208 - val_diease_outputs_loss: 1.9054 - val_grow_outputs_loss: 8.2154 - val_diease_outputs_accuracy: 0.8765 - val_grow_outputs_accuracy: 0.6083\n",
      "Epoch 8/10\n",
      "671/671 [==============================] - 309s 461ms/step - loss: 12.3597 - diease_outputs_loss: 4.3742 - grow_outputs_loss: 7.9855 - diease_outputs_accuracy: 0.7786 - grow_outputs_accuracy: 0.5754 - val_loss: 9.7134 - val_diease_outputs_loss: 2.8237 - val_grow_outputs_loss: 6.8896 - val_diease_outputs_accuracy: 0.8512 - val_grow_outputs_accuracy: 0.5813\n",
      "Epoch 9/10\n",
      "671/671 [==============================] - 309s 460ms/step - loss: 12.0757 - diease_outputs_loss: 4.5267 - grow_outputs_loss: 7.5490 - diease_outputs_accuracy: 0.7681 - grow_outputs_accuracy: 0.5963 - val_loss: 10.8935 - val_diease_outputs_loss: 4.0916 - val_grow_outputs_loss: 6.8019 - val_diease_outputs_accuracy: 0.7994 - val_grow_outputs_accuracy: 0.5899\n",
      "Epoch 10/10\n",
      "671/671 [==============================] - 308s 459ms/step - loss: 11.8743 - diease_outputs_loss: 4.4810 - grow_outputs_loss: 7.3933 - diease_outputs_accuracy: 0.7793 - grow_outputs_accuracy: 0.5957 - val_loss: 14.3547 - val_diease_outputs_loss: 3.7576 - val_grow_outputs_loss: 10.5971 - val_diease_outputs_accuracy: 0.8211 - val_grow_outputs_accuracy: 0.5256\n"
     ]
    },
    {
     "data": {
      "text/html": [
       "Waiting for W&B process to finish... <strong style=\"color:green\">(success).</strong>"
      ],
      "text/plain": [
       "<IPython.core.display.HTML object>"
      ]
     },
     "metadata": {},
     "output_type": "display_data"
    },
    {
     "data": {
      "text/html": [
       "<style>\n",
       "    table.wandb td:nth-child(1) { padding: 0 10px; text-align: left ; width: auto;} td:nth-child(2) {text-align: left ; width: 100%}\n",
       "    .wandb-row { display: flex; flex-direction: row; flex-wrap: wrap; justify-content: flex-start; width: 100% }\n",
       "    .wandb-col { display: flex; flex-direction: column; flex-basis: 100%; flex: 1; padding: 10px; }\n",
       "    </style>\n",
       "<div class=\"wandb-row\"><div class=\"wandb-col\"><h3>Run history:</h3><br/><table class=\"wandb\"><tr><td>diease_outputs_accuracy</td><td>▁▅▆▇▇▇▇███</td></tr><tr><td>diease_outputs_loss</td><td>█▃▃▂▂▂▁▁▁▁</td></tr><tr><td>epoch</td><td>▁▂▃▃▄▅▆▆▇█</td></tr><tr><td>grow_outputs_accuracy</td><td>▁▅▆▆▇▇█▇██</td></tr><tr><td>grow_outputs_loss</td><td>█▃▃▂▂▂▁▁▁▁</td></tr><tr><td>loss</td><td>█▃▃▂▂▂▁▁▁▁</td></tr><tr><td>val_diease_outputs_accuracy</td><td>▃▃▇▁▃▁█▇▅▆</td></tr><tr><td>val_diease_outputs_loss</td><td>▂▂▂▇█▄▁▃▅▄</td></tr><tr><td>val_grow_outputs_accuracy</td><td>▃▁▆▆█▅▇▆▆▃</td></tr><tr><td>val_grow_outputs_loss</td><td>▃▇▅█▁▇▅▃▃█</td></tr><tr><td>val_loss</td><td>▁▄▃█▃▆▂▂▃▆</td></tr></table><br/></div><div class=\"wandb-col\"><h3>Run summary:</h3><br/><table class=\"wandb\"><tr><td>best_epoch</td><td>0</td></tr><tr><td>best_val_loss</td><td>9.02785</td></tr><tr><td>diease_outputs_accuracy</td><td>0.77842</td></tr><tr><td>diease_outputs_loss</td><td>4.43184</td></tr><tr><td>epoch</td><td>9</td></tr><tr><td>grow_outputs_accuracy</td><td>0.59171</td></tr><tr><td>grow_outputs_loss</td><td>7.57007</td></tr><tr><td>loss</td><td>12.00191</td></tr><tr><td>val_diease_outputs_accuracy</td><td>0.82113</td></tr><tr><td>val_diease_outputs_loss</td><td>3.75757</td></tr><tr><td>val_grow_outputs_accuracy</td><td>0.5256</td></tr><tr><td>val_grow_outputs_loss</td><td>10.59711</td></tr><tr><td>val_loss</td><td>14.35468</td></tr></table><br/></div></div>"
      ],
      "text/plain": [
       "<IPython.core.display.HTML object>"
      ]
     },
     "metadata": {},
     "output_type": "display_data"
    },
    {
     "data": {
      "text/html": [
       "Synced <strong style=\"color:#cdcd00\">super-sweep-16</strong>: <a href=\"https://wandb.ai/hkleee/strawberry/runs/2cdut50y\" target=\"_blank\">https://wandb.ai/hkleee/strawberry/runs/2cdut50y</a><br/>Synced 6 W&B file(s), 1 media file(s), 0 artifact file(s) and 1 other file(s)"
      ],
      "text/plain": [
       "<IPython.core.display.HTML object>"
      ]
     },
     "metadata": {},
     "output_type": "display_data"
    },
    {
     "data": {
      "text/html": [
       "Find logs at: <code>./wandb/run-20220618_020333-2cdut50y/logs</code>"
      ],
      "text/plain": [
       "<IPython.core.display.HTML object>"
      ]
     },
     "metadata": {},
     "output_type": "display_data"
    },
    {
     "name": "stderr",
     "output_type": "stream",
     "text": [
      "\u001b[34m\u001b[1mwandb\u001b[0m: Agent Starting Run: xur827di with config:\n",
      "\u001b[34m\u001b[1mwandb\u001b[0m: \tactivation: relu\n",
      "\u001b[34m\u001b[1mwandb\u001b[0m: \tbatch_size: 20\n",
      "\u001b[34m\u001b[1mwandb\u001b[0m: \tdense: 256\n",
      "\u001b[34m\u001b[1mwandb\u001b[0m: \tdropout: 0.5\n",
      "\u001b[34m\u001b[1mwandb\u001b[0m: \tlearning_rate: 0.01\n",
      "\u001b[34m\u001b[1mwandb\u001b[0m: \toptimizer: sgd\n",
      "\u001b[34m\u001b[1mwandb\u001b[0m: \tpretrain_net: inception\n",
      "Failed to detect the name of this notebook, you can set it manually with the WANDB_NOTEBOOK_NAME environment variable to enable code saving.\n"
     ]
    },
    {
     "data": {
      "text/html": [
       "Tracking run with wandb version 0.12.18"
      ],
      "text/plain": [
       "<IPython.core.display.HTML object>"
      ]
     },
     "metadata": {},
     "output_type": "display_data"
    },
    {
     "data": {
      "text/html": [
       "Run data is saved locally in <code>/home/lab38/Multi_proj_6/model/multi-output/strawberry/sweep/wandb/run-20220618_025626-xur827di</code>"
      ],
      "text/plain": [
       "<IPython.core.display.HTML object>"
      ]
     },
     "metadata": {},
     "output_type": "display_data"
    },
    {
     "data": {
      "text/html": [
       "Syncing run <strong><a href=\"https://wandb.ai/hkleee/strawberry/runs/xur827di\" target=\"_blank\">sage-sweep-17</a></strong> to <a href=\"https://wandb.ai/hkleee/strawberry\" target=\"_blank\">Weights & Biases</a> (<a href=\"https://wandb.me/run\" target=\"_blank\">docs</a>)<br/>Sweep page:  <a href=\"https://wandb.ai/hkleee/strawberry/sweeps/natutesf\" target=\"_blank\">https://wandb.ai/hkleee/strawberry/sweeps/natutesf</a>"
      ],
      "text/plain": [
       "<IPython.core.display.HTML object>"
      ]
     },
     "metadata": {},
     "output_type": "display_data"
    },
    {
     "data": {
      "text/html": [
       "Finishing last run (ID:xur827di) before initializing another..."
      ],
      "text/plain": [
       "<IPython.core.display.HTML object>"
      ]
     },
     "metadata": {},
     "output_type": "display_data"
    },
    {
     "data": {
      "text/html": [
       "Waiting for W&B process to finish... <strong style=\"color:green\">(success).</strong>"
      ],
      "text/plain": [
       "<IPython.core.display.HTML object>"
      ]
     },
     "metadata": {},
     "output_type": "display_data"
    },
    {
     "data": {
      "text/html": [
       "Synced <strong style=\"color:#cdcd00\">sage-sweep-17</strong>: <a href=\"https://wandb.ai/hkleee/strawberry/runs/xur827di\" target=\"_blank\">https://wandb.ai/hkleee/strawberry/runs/xur827di</a><br/>Synced 5 W&B file(s), 0 media file(s), 0 artifact file(s) and 0 other file(s)"
      ],
      "text/plain": [
       "<IPython.core.display.HTML object>"
      ]
     },
     "metadata": {},
     "output_type": "display_data"
    },
    {
     "data": {
      "text/html": [
       "Find logs at: <code>./wandb/run-20220618_025626-xur827di/logs</code>"
      ],
      "text/plain": [
       "<IPython.core.display.HTML object>"
      ]
     },
     "metadata": {},
     "output_type": "display_data"
    },
    {
     "data": {
      "text/html": [
       "Successfully finished last run (ID:xur827di). Initializing new run:<br/>"
      ],
      "text/plain": [
       "<IPython.core.display.HTML object>"
      ]
     },
     "metadata": {},
     "output_type": "display_data"
    },
    {
     "data": {
      "text/html": [
       "Tracking run with wandb version 0.12.18"
      ],
      "text/plain": [
       "<IPython.core.display.HTML object>"
      ]
     },
     "metadata": {},
     "output_type": "display_data"
    },
    {
     "data": {
      "text/html": [
       "Run data is saved locally in <code>/home/lab38/Multi_proj_6/model/multi-output/strawberry/sweep/wandb/run-20220618_025630-xur827di</code>"
      ],
      "text/plain": [
       "<IPython.core.display.HTML object>"
      ]
     },
     "metadata": {},
     "output_type": "display_data"
    },
    {
     "data": {
      "text/html": [
       "Syncing run <strong><a href=\"https://wandb.ai/hkleee/strawberry/runs/xur827di\" target=\"_blank\">sage-sweep-17</a></strong> to <a href=\"https://wandb.ai/hkleee/strawberry\" target=\"_blank\">Weights & Biases</a> (<a href=\"https://wandb.me/run\" target=\"_blank\">docs</a>)<br/>Sweep page:  <a href=\"https://wandb.ai/hkleee/strawberry/sweeps/natutesf\" target=\"_blank\">https://wandb.ai/hkleee/strawberry/sweeps/natutesf</a>"
      ],
      "text/plain": [
       "<IPython.core.display.HTML object>"
      ]
     },
     "metadata": {},
     "output_type": "display_data"
    },
    {
     "name": "stdout",
     "output_type": "stream",
     "text": [
      "Found 13437 validated image filenames.\n",
      "Found 3360 validated image filenames.\n",
      "Epoch 1/10\n",
      "671/671 [==============================] - 319s 464ms/step - loss: 2.0694 - diease_outputs_loss: 0.8966 - grow_outputs_loss: 1.1728 - diease_outputs_accuracy: 0.6154 - grow_outputs_accuracy: 0.5028 - val_loss: 1.3813 - val_diease_outputs_loss: 0.5563 - val_grow_outputs_loss: 0.8250 - val_diease_outputs_accuracy: 0.7860 - val_grow_outputs_accuracy: 0.6554\n",
      "Epoch 2/10\n",
      "671/671 [==============================] - 312s 464ms/step - loss: 1.5142 - diease_outputs_loss: 0.6197 - grow_outputs_loss: 0.8945 - diease_outputs_accuracy: 0.7531 - grow_outputs_accuracy: 0.6205 - val_loss: 1.2681 - val_diease_outputs_loss: 0.4846 - val_grow_outputs_loss: 0.7835 - val_diease_outputs_accuracy: 0.8179 - val_grow_outputs_accuracy: 0.6655\n",
      "Epoch 3/10\n",
      "671/671 [==============================] - 308s 459ms/step - loss: 1.4291 - diease_outputs_loss: 0.5687 - grow_outputs_loss: 0.8604 - diease_outputs_accuracy: 0.7781 - grow_outputs_accuracy: 0.6348 - val_loss: 1.2142 - val_diease_outputs_loss: 0.4448 - val_grow_outputs_loss: 0.7695 - val_diease_outputs_accuracy: 0.8440 - val_grow_outputs_accuracy: 0.6842\n",
      "Epoch 4/10\n",
      "671/671 [==============================] - 309s 460ms/step - loss: 1.3580 - diease_outputs_loss: 0.5365 - grow_outputs_loss: 0.8215 - diease_outputs_accuracy: 0.7909 - grow_outputs_accuracy: 0.6449 - val_loss: 1.2022 - val_diease_outputs_loss: 0.4430 - val_grow_outputs_loss: 0.7592 - val_diease_outputs_accuracy: 0.8366 - val_grow_outputs_accuracy: 0.6723\n",
      "Epoch 5/10\n",
      "671/671 [==============================] - 309s 461ms/step - loss: 1.3207 - diease_outputs_loss: 0.5097 - grow_outputs_loss: 0.8109 - diease_outputs_accuracy: 0.7993 - grow_outputs_accuracy: 0.6559 - val_loss: 1.1595 - val_diease_outputs_loss: 0.4258 - val_grow_outputs_loss: 0.7337 - val_diease_outputs_accuracy: 0.8345 - val_grow_outputs_accuracy: 0.6878\n",
      "Epoch 6/10\n",
      "671/671 [==============================] - 309s 460ms/step - loss: 1.3085 - diease_outputs_loss: 0.4959 - grow_outputs_loss: 0.8127 - diease_outputs_accuracy: 0.8081 - grow_outputs_accuracy: 0.6556 - val_loss: 1.0669 - val_diease_outputs_loss: 0.3684 - val_grow_outputs_loss: 0.6985 - val_diease_outputs_accuracy: 0.8685 - val_grow_outputs_accuracy: 0.7009\n",
      "Epoch 7/10\n",
      "671/671 [==============================] - 308s 459ms/step - loss: 1.2447 - diease_outputs_loss: 0.4643 - grow_outputs_loss: 0.7803 - diease_outputs_accuracy: 0.8151 - grow_outputs_accuracy: 0.6651 - val_loss: 1.0714 - val_diease_outputs_loss: 0.3627 - val_grow_outputs_loss: 0.7087 - val_diease_outputs_accuracy: 0.8631 - val_grow_outputs_accuracy: 0.6869\n",
      "Epoch 8/10\n",
      "671/671 [==============================] - 309s 461ms/step - loss: 1.2338 - diease_outputs_loss: 0.4595 - grow_outputs_loss: 0.7743 - diease_outputs_accuracy: 0.8198 - grow_outputs_accuracy: 0.6738 - val_loss: 1.0493 - val_diease_outputs_loss: 0.3644 - val_grow_outputs_loss: 0.6848 - val_diease_outputs_accuracy: 0.8652 - val_grow_outputs_accuracy: 0.7033\n",
      "Epoch 9/10\n",
      "671/671 [==============================] - 312s 464ms/step - loss: 1.2229 - diease_outputs_loss: 0.4595 - grow_outputs_loss: 0.7634 - diease_outputs_accuracy: 0.8207 - grow_outputs_accuracy: 0.6689 - val_loss: 1.0710 - val_diease_outputs_loss: 0.3831 - val_grow_outputs_loss: 0.6880 - val_diease_outputs_accuracy: 0.8571 - val_grow_outputs_accuracy: 0.7063\n",
      "Epoch 10/10\n",
      "671/671 [==============================] - 309s 460ms/step - loss: 1.1921 - diease_outputs_loss: 0.4359 - grow_outputs_loss: 0.7561 - diease_outputs_accuracy: 0.8254 - grow_outputs_accuracy: 0.6829 - val_loss: 1.0094 - val_diease_outputs_loss: 0.3315 - val_grow_outputs_loss: 0.6779 - val_diease_outputs_accuracy: 0.8777 - val_grow_outputs_accuracy: 0.7173\n"
     ]
    },
    {
     "data": {
      "text/html": [
       "Waiting for W&B process to finish... <strong style=\"color:green\">(success).</strong>"
      ],
      "text/plain": [
       "<IPython.core.display.HTML object>"
      ]
     },
     "metadata": {},
     "output_type": "display_data"
    },
    {
     "data": {
      "text/html": [
       "<style>\n",
       "    table.wandb td:nth-child(1) { padding: 0 10px; text-align: left ; width: auto;} td:nth-child(2) {text-align: left ; width: 100%}\n",
       "    .wandb-row { display: flex; flex-direction: row; flex-wrap: wrap; justify-content: flex-start; width: 100% }\n",
       "    .wandb-col { display: flex; flex-direction: column; flex-basis: 100%; flex: 1; padding: 10px; }\n",
       "    </style>\n",
       "<div class=\"wandb-row\"><div class=\"wandb-col\"><h3>Run history:</h3><br/><table class=\"wandb\"><tr><td>diease_outputs_accuracy</td><td>▁▅▆▆▇▇▇███</td></tr><tr><td>diease_outputs_loss</td><td>█▅▄▃▃▂▂▂▂▁</td></tr><tr><td>epoch</td><td>▁▂▃▃▄▅▆▆▇█</td></tr><tr><td>grow_outputs_accuracy</td><td>▁▅▅▆▇▇▇█▇█</td></tr><tr><td>grow_outputs_loss</td><td>█▄▃▃▂▂▂▁▁▁</td></tr><tr><td>loss</td><td>█▅▄▃▂▂▂▂▁▁</td></tr><tr><td>val_diease_outputs_accuracy</td><td>▁▃▅▅▅▇▇▇▆█</td></tr><tr><td>val_diease_outputs_loss</td><td>█▆▅▄▄▂▂▂▃▁</td></tr><tr><td>val_grow_outputs_accuracy</td><td>▁▂▄▃▅▆▅▆▇█</td></tr><tr><td>val_grow_outputs_loss</td><td>█▆▅▅▄▂▂▁▁▁</td></tr><tr><td>val_loss</td><td>█▆▅▅▄▂▂▂▂▁</td></tr></table><br/></div><div class=\"wandb-col\"><h3>Run summary:</h3><br/><table class=\"wandb\"><tr><td>best_epoch</td><td>9</td></tr><tr><td>best_val_loss</td><td>1.0094</td></tr><tr><td>diease_outputs_accuracy</td><td>0.82992</td></tr><tr><td>diease_outputs_loss</td><td>0.43218</td></tr><tr><td>epoch</td><td>9</td></tr><tr><td>grow_outputs_accuracy</td><td>0.68316</td></tr><tr><td>grow_outputs_loss</td><td>0.75013</td></tr><tr><td>loss</td><td>1.18231</td></tr><tr><td>val_diease_outputs_accuracy</td><td>0.87768</td></tr><tr><td>val_diease_outputs_loss</td><td>0.33153</td></tr><tr><td>val_grow_outputs_accuracy</td><td>0.71726</td></tr><tr><td>val_grow_outputs_loss</td><td>0.67786</td></tr><tr><td>val_loss</td><td>1.0094</td></tr></table><br/></div></div>"
      ],
      "text/plain": [
       "<IPython.core.display.HTML object>"
      ]
     },
     "metadata": {},
     "output_type": "display_data"
    },
    {
     "data": {
      "text/html": [
       "Synced <strong style=\"color:#cdcd00\">sage-sweep-17</strong>: <a href=\"https://wandb.ai/hkleee/strawberry/runs/xur827di\" target=\"_blank\">https://wandb.ai/hkleee/strawberry/runs/xur827di</a><br/>Synced 6 W&B file(s), 1 media file(s), 0 artifact file(s) and 1 other file(s)"
      ],
      "text/plain": [
       "<IPython.core.display.HTML object>"
      ]
     },
     "metadata": {},
     "output_type": "display_data"
    },
    {
     "data": {
      "text/html": [
       "Find logs at: <code>./wandb/run-20220618_025630-xur827di/logs</code>"
      ],
      "text/plain": [
       "<IPython.core.display.HTML object>"
      ]
     },
     "metadata": {},
     "output_type": "display_data"
    },
    {
     "name": "stderr",
     "output_type": "stream",
     "text": [
      "\u001b[34m\u001b[1mwandb\u001b[0m: Agent Starting Run: xbsxxhym with config:\n",
      "\u001b[34m\u001b[1mwandb\u001b[0m: \tactivation: relu\n",
      "\u001b[34m\u001b[1mwandb\u001b[0m: \tbatch_size: 20\n",
      "\u001b[34m\u001b[1mwandb\u001b[0m: \tdense: 1024\n",
      "\u001b[34m\u001b[1mwandb\u001b[0m: \tdropout: 0.5\n",
      "\u001b[34m\u001b[1mwandb\u001b[0m: \tlearning_rate: 0.01\n",
      "\u001b[34m\u001b[1mwandb\u001b[0m: \toptimizer: sgd\n",
      "\u001b[34m\u001b[1mwandb\u001b[0m: \tpretrain_net: inception\n",
      "Failed to detect the name of this notebook, you can set it manually with the WANDB_NOTEBOOK_NAME environment variable to enable code saving.\n"
     ]
    },
    {
     "data": {
      "text/html": [
       "Tracking run with wandb version 0.12.18"
      ],
      "text/plain": [
       "<IPython.core.display.HTML object>"
      ]
     },
     "metadata": {},
     "output_type": "display_data"
    },
    {
     "data": {
      "text/html": [
       "Run data is saved locally in <code>/home/lab38/Multi_proj_6/model/multi-output/strawberry/sweep/wandb/run-20220618_034853-xbsxxhym</code>"
      ],
      "text/plain": [
       "<IPython.core.display.HTML object>"
      ]
     },
     "metadata": {},
     "output_type": "display_data"
    },
    {
     "data": {
      "text/html": [
       "Syncing run <strong><a href=\"https://wandb.ai/hkleee/strawberry/runs/xbsxxhym\" target=\"_blank\">hopeful-sweep-18</a></strong> to <a href=\"https://wandb.ai/hkleee/strawberry\" target=\"_blank\">Weights & Biases</a> (<a href=\"https://wandb.me/run\" target=\"_blank\">docs</a>)<br/>Sweep page:  <a href=\"https://wandb.ai/hkleee/strawberry/sweeps/natutesf\" target=\"_blank\">https://wandb.ai/hkleee/strawberry/sweeps/natutesf</a>"
      ],
      "text/plain": [
       "<IPython.core.display.HTML object>"
      ]
     },
     "metadata": {},
     "output_type": "display_data"
    },
    {
     "data": {
      "text/html": [
       "Finishing last run (ID:xbsxxhym) before initializing another..."
      ],
      "text/plain": [
       "<IPython.core.display.HTML object>"
      ]
     },
     "metadata": {},
     "output_type": "display_data"
    },
    {
     "data": {
      "text/html": [
       "Waiting for W&B process to finish... <strong style=\"color:green\">(success).</strong>"
      ],
      "text/plain": [
       "<IPython.core.display.HTML object>"
      ]
     },
     "metadata": {},
     "output_type": "display_data"
    },
    {
     "data": {
      "text/html": [
       "Synced <strong style=\"color:#cdcd00\">hopeful-sweep-18</strong>: <a href=\"https://wandb.ai/hkleee/strawberry/runs/xbsxxhym\" target=\"_blank\">https://wandb.ai/hkleee/strawberry/runs/xbsxxhym</a><br/>Synced 5 W&B file(s), 0 media file(s), 0 artifact file(s) and 0 other file(s)"
      ],
      "text/plain": [
       "<IPython.core.display.HTML object>"
      ]
     },
     "metadata": {},
     "output_type": "display_data"
    },
    {
     "data": {
      "text/html": [
       "Find logs at: <code>./wandb/run-20220618_034853-xbsxxhym/logs</code>"
      ],
      "text/plain": [
       "<IPython.core.display.HTML object>"
      ]
     },
     "metadata": {},
     "output_type": "display_data"
    },
    {
     "data": {
      "text/html": [
       "Successfully finished last run (ID:xbsxxhym). Initializing new run:<br/>"
      ],
      "text/plain": [
       "<IPython.core.display.HTML object>"
      ]
     },
     "metadata": {},
     "output_type": "display_data"
    },
    {
     "data": {
      "text/html": [
       "Tracking run with wandb version 0.12.18"
      ],
      "text/plain": [
       "<IPython.core.display.HTML object>"
      ]
     },
     "metadata": {},
     "output_type": "display_data"
    },
    {
     "data": {
      "text/html": [
       "Run data is saved locally in <code>/home/lab38/Multi_proj_6/model/multi-output/strawberry/sweep/wandb/run-20220618_034857-xbsxxhym</code>"
      ],
      "text/plain": [
       "<IPython.core.display.HTML object>"
      ]
     },
     "metadata": {},
     "output_type": "display_data"
    },
    {
     "data": {
      "text/html": [
       "Syncing run <strong><a href=\"https://wandb.ai/hkleee/strawberry/runs/xbsxxhym\" target=\"_blank\">hopeful-sweep-18</a></strong> to <a href=\"https://wandb.ai/hkleee/strawberry\" target=\"_blank\">Weights & Biases</a> (<a href=\"https://wandb.me/run\" target=\"_blank\">docs</a>)<br/>Sweep page:  <a href=\"https://wandb.ai/hkleee/strawberry/sweeps/natutesf\" target=\"_blank\">https://wandb.ai/hkleee/strawberry/sweeps/natutesf</a>"
      ],
      "text/plain": [
       "<IPython.core.display.HTML object>"
      ]
     },
     "metadata": {},
     "output_type": "display_data"
    },
    {
     "name": "stdout",
     "output_type": "stream",
     "text": [
      "Found 13437 validated image filenames.\n",
      "Found 3360 validated image filenames.\n",
      "Epoch 1/10\n",
      "671/671 [==============================] - 322s 468ms/step - loss: 2.0052 - diease_outputs_loss: 0.8723 - grow_outputs_loss: 1.1329 - diease_outputs_accuracy: 0.6305 - grow_outputs_accuracy: 0.5206 - val_loss: 1.3771 - val_diease_outputs_loss: 0.5701 - val_grow_outputs_loss: 0.8070 - val_diease_outputs_accuracy: 0.7783 - val_grow_outputs_accuracy: 0.6592\n",
      "Epoch 2/10\n",
      "671/671 [==============================] - 309s 460ms/step - loss: 1.5024 - diease_outputs_loss: 0.6192 - grow_outputs_loss: 0.8832 - diease_outputs_accuracy: 0.7603 - grow_outputs_accuracy: 0.6268 - val_loss: 1.2287 - val_diease_outputs_loss: 0.4669 - val_grow_outputs_loss: 0.7618 - val_diease_outputs_accuracy: 0.8262 - val_grow_outputs_accuracy: 0.6762\n",
      "Epoch 3/10\n",
      "671/671 [==============================] - 310s 462ms/step - loss: 1.3974 - diease_outputs_loss: 0.5535 - grow_outputs_loss: 0.8439 - diease_outputs_accuracy: 0.7861 - grow_outputs_accuracy: 0.6489 - val_loss: 1.2079 - val_diease_outputs_loss: 0.4659 - val_grow_outputs_loss: 0.7421 - val_diease_outputs_accuracy: 0.8274 - val_grow_outputs_accuracy: 0.6798\n",
      "Epoch 4/10\n",
      "671/671 [==============================] - 312s 465ms/step - loss: 1.3413 - diease_outputs_loss: 0.5253 - grow_outputs_loss: 0.8160 - diease_outputs_accuracy: 0.7949 - grow_outputs_accuracy: 0.6538 - val_loss: 1.1403 - val_diease_outputs_loss: 0.4168 - val_grow_outputs_loss: 0.7235 - val_diease_outputs_accuracy: 0.8402 - val_grow_outputs_accuracy: 0.6896\n",
      "Epoch 5/10\n",
      "671/671 [==============================] - 313s 466ms/step - loss: 1.3153 - diease_outputs_loss: 0.5041 - grow_outputs_loss: 0.8111 - diease_outputs_accuracy: 0.8044 - grow_outputs_accuracy: 0.6568 - val_loss: 1.1062 - val_diease_outputs_loss: 0.3867 - val_grow_outputs_loss: 0.7195 - val_diease_outputs_accuracy: 0.8518 - val_grow_outputs_accuracy: 0.6911\n",
      "Epoch 6/10\n",
      "671/671 [==============================] - 312s 464ms/step - loss: 1.2686 - diease_outputs_loss: 0.4840 - grow_outputs_loss: 0.7846 - diease_outputs_accuracy: 0.8111 - grow_outputs_accuracy: 0.6744 - val_loss: 1.0677 - val_diease_outputs_loss: 0.3740 - val_grow_outputs_loss: 0.6937 - val_diease_outputs_accuracy: 0.8628 - val_grow_outputs_accuracy: 0.7193\n",
      "Epoch 7/10\n",
      "671/671 [==============================] - 310s 461ms/step - loss: 1.2557 - diease_outputs_loss: 0.4691 - grow_outputs_loss: 0.7865 - diease_outputs_accuracy: 0.8154 - grow_outputs_accuracy: 0.6675 - val_loss: 1.0781 - val_diease_outputs_loss: 0.3894 - val_grow_outputs_loss: 0.6888 - val_diease_outputs_accuracy: 0.8601 - val_grow_outputs_accuracy: 0.7128\n",
      "Epoch 8/10\n",
      "671/671 [==============================] - 311s 463ms/step - loss: 1.2232 - diease_outputs_loss: 0.4535 - grow_outputs_loss: 0.7696 - diease_outputs_accuracy: 0.8197 - grow_outputs_accuracy: 0.6744 - val_loss: 1.0565 - val_diease_outputs_loss: 0.3681 - val_grow_outputs_loss: 0.6885 - val_diease_outputs_accuracy: 0.8601 - val_grow_outputs_accuracy: 0.7098\n",
      "Epoch 9/10\n",
      "671/671 [==============================] - 305s 455ms/step - loss: 1.2007 - diease_outputs_loss: 0.4426 - grow_outputs_loss: 0.7580 - diease_outputs_accuracy: 0.8297 - grow_outputs_accuracy: 0.6837 - val_loss: 1.0202 - val_diease_outputs_loss: 0.3474 - val_grow_outputs_loss: 0.6727 - val_diease_outputs_accuracy: 0.8714 - val_grow_outputs_accuracy: 0.7232\n",
      "Epoch 10/10\n",
      "671/671 [==============================] - 312s 464ms/step - loss: 1.1870 - diease_outputs_loss: 0.4414 - grow_outputs_loss: 0.7457 - diease_outputs_accuracy: 0.8271 - grow_outputs_accuracy: 0.6861 - val_loss: 1.0360 - val_diease_outputs_loss: 0.3215 - val_grow_outputs_loss: 0.7145 - val_diease_outputs_accuracy: 0.8827 - val_grow_outputs_accuracy: 0.6997\n"
     ]
    },
    {
     "data": {
      "text/html": [
       "Waiting for W&B process to finish... <strong style=\"color:green\">(success).</strong>"
      ],
      "text/plain": [
       "<IPython.core.display.HTML object>"
      ]
     },
     "metadata": {},
     "output_type": "display_data"
    },
    {
     "data": {
      "text/html": [
       "<style>\n",
       "    table.wandb td:nth-child(1) { padding: 0 10px; text-align: left ; width: auto;} td:nth-child(2) {text-align: left ; width: 100%}\n",
       "    .wandb-row { display: flex; flex-direction: row; flex-wrap: wrap; justify-content: flex-start; width: 100% }\n",
       "    .wandb-col { display: flex; flex-direction: column; flex-basis: 100%; flex: 1; padding: 10px; }\n",
       "    </style>\n",
       "<div class=\"wandb-row\"><div class=\"wandb-col\"><h3>Run history:</h3><br/><table class=\"wandb\"><tr><td>diease_outputs_accuracy</td><td>▁▅▆▆▇▇▇███</td></tr><tr><td>diease_outputs_loss</td><td>█▅▄▃▃▂▂▂▁▁</td></tr><tr><td>epoch</td><td>▁▂▃▃▄▅▆▆▇█</td></tr><tr><td>grow_outputs_accuracy</td><td>▁▄▆▆▆▇▇███</td></tr><tr><td>grow_outputs_loss</td><td>█▄▃▃▂▂▂▁▁▁</td></tr><tr><td>loss</td><td>█▅▄▃▃▂▂▁▁▁</td></tr><tr><td>val_diease_outputs_accuracy</td><td>▁▄▄▅▆▇▆▆▇█</td></tr><tr><td>val_diease_outputs_loss</td><td>█▅▅▄▃▂▃▂▂▁</td></tr><tr><td>val_grow_outputs_accuracy</td><td>▁▃▃▄▄█▇▇█▅</td></tr><tr><td>val_grow_outputs_loss</td><td>█▆▅▄▃▂▂▂▁▃</td></tr><tr><td>val_loss</td><td>█▅▅▃▃▂▂▂▁▁</td></tr></table><br/></div><div class=\"wandb-col\"><h3>Run summary:</h3><br/><table class=\"wandb\"><tr><td>best_epoch</td><td>8</td></tr><tr><td>best_val_loss</td><td>1.02016</td></tr><tr><td>diease_outputs_accuracy</td><td>0.83223</td></tr><tr><td>diease_outputs_loss</td><td>0.42626</td></tr><tr><td>epoch</td><td>9</td></tr><tr><td>grow_outputs_accuracy</td><td>0.681</td></tr><tr><td>grow_outputs_loss</td><td>0.75248</td></tr><tr><td>loss</td><td>1.17873</td></tr><tr><td>val_diease_outputs_accuracy</td><td>0.88274</td></tr><tr><td>val_diease_outputs_loss</td><td>0.32146</td></tr><tr><td>val_grow_outputs_accuracy</td><td>0.6997</td></tr><tr><td>val_grow_outputs_loss</td><td>0.7145</td></tr><tr><td>val_loss</td><td>1.03595</td></tr></table><br/></div></div>"
      ],
      "text/plain": [
       "<IPython.core.display.HTML object>"
      ]
     },
     "metadata": {},
     "output_type": "display_data"
    },
    {
     "data": {
      "text/html": [
       "Synced <strong style=\"color:#cdcd00\">hopeful-sweep-18</strong>: <a href=\"https://wandb.ai/hkleee/strawberry/runs/xbsxxhym\" target=\"_blank\">https://wandb.ai/hkleee/strawberry/runs/xbsxxhym</a><br/>Synced 6 W&B file(s), 1 media file(s), 0 artifact file(s) and 1 other file(s)"
      ],
      "text/plain": [
       "<IPython.core.display.HTML object>"
      ]
     },
     "metadata": {},
     "output_type": "display_data"
    },
    {
     "data": {
      "text/html": [
       "Find logs at: <code>./wandb/run-20220618_034857-xbsxxhym/logs</code>"
      ],
      "text/plain": [
       "<IPython.core.display.HTML object>"
      ]
     },
     "metadata": {},
     "output_type": "display_data"
    },
    {
     "name": "stderr",
     "output_type": "stream",
     "text": [
      "\u001b[34m\u001b[1mwandb\u001b[0m: Agent Starting Run: k15dfmg9 with config:\n",
      "\u001b[34m\u001b[1mwandb\u001b[0m: \tactivation: relu\n",
      "\u001b[34m\u001b[1mwandb\u001b[0m: \tbatch_size: 50\n",
      "\u001b[34m\u001b[1mwandb\u001b[0m: \tdense: 1024\n",
      "\u001b[34m\u001b[1mwandb\u001b[0m: \tdropout: 0.5\n",
      "\u001b[34m\u001b[1mwandb\u001b[0m: \tlearning_rate: 3e-05\n",
      "\u001b[34m\u001b[1mwandb\u001b[0m: \toptimizer: sgd\n",
      "\u001b[34m\u001b[1mwandb\u001b[0m: \tpretrain_net: resnet\n",
      "Failed to detect the name of this notebook, you can set it manually with the WANDB_NOTEBOOK_NAME environment variable to enable code saving.\n"
     ]
    },
    {
     "data": {
      "text/html": [
       "Tracking run with wandb version 0.12.18"
      ],
      "text/plain": [
       "<IPython.core.display.HTML object>"
      ]
     },
     "metadata": {},
     "output_type": "display_data"
    },
    {
     "data": {
      "text/html": [
       "Run data is saved locally in <code>/home/lab38/Multi_proj_6/model/multi-output/strawberry/sweep/wandb/run-20220618_044131-k15dfmg9</code>"
      ],
      "text/plain": [
       "<IPython.core.display.HTML object>"
      ]
     },
     "metadata": {},
     "output_type": "display_data"
    },
    {
     "data": {
      "text/html": [
       "Syncing run <strong><a href=\"https://wandb.ai/hkleee/strawberry/runs/k15dfmg9\" target=\"_blank\">driven-sweep-19</a></strong> to <a href=\"https://wandb.ai/hkleee/strawberry\" target=\"_blank\">Weights & Biases</a> (<a href=\"https://wandb.me/run\" target=\"_blank\">docs</a>)<br/>Sweep page:  <a href=\"https://wandb.ai/hkleee/strawberry/sweeps/natutesf\" target=\"_blank\">https://wandb.ai/hkleee/strawberry/sweeps/natutesf</a>"
      ],
      "text/plain": [
       "<IPython.core.display.HTML object>"
      ]
     },
     "metadata": {},
     "output_type": "display_data"
    },
    {
     "data": {
      "text/html": [
       "Finishing last run (ID:k15dfmg9) before initializing another..."
      ],
      "text/plain": [
       "<IPython.core.display.HTML object>"
      ]
     },
     "metadata": {},
     "output_type": "display_data"
    },
    {
     "data": {
      "text/html": [
       "Waiting for W&B process to finish... <strong style=\"color:green\">(success).</strong>"
      ],
      "text/plain": [
       "<IPython.core.display.HTML object>"
      ]
     },
     "metadata": {},
     "output_type": "display_data"
    },
    {
     "data": {
      "text/html": [
       "Synced <strong style=\"color:#cdcd00\">driven-sweep-19</strong>: <a href=\"https://wandb.ai/hkleee/strawberry/runs/k15dfmg9\" target=\"_blank\">https://wandb.ai/hkleee/strawberry/runs/k15dfmg9</a><br/>Synced 5 W&B file(s), 0 media file(s), 0 artifact file(s) and 0 other file(s)"
      ],
      "text/plain": [
       "<IPython.core.display.HTML object>"
      ]
     },
     "metadata": {},
     "output_type": "display_data"
    },
    {
     "data": {
      "text/html": [
       "Find logs at: <code>./wandb/run-20220618_044131-k15dfmg9/logs</code>"
      ],
      "text/plain": [
       "<IPython.core.display.HTML object>"
      ]
     },
     "metadata": {},
     "output_type": "display_data"
    },
    {
     "data": {
      "text/html": [
       "Successfully finished last run (ID:k15dfmg9). Initializing new run:<br/>"
      ],
      "text/plain": [
       "<IPython.core.display.HTML object>"
      ]
     },
     "metadata": {},
     "output_type": "display_data"
    },
    {
     "data": {
      "text/html": [
       "Tracking run with wandb version 0.12.18"
      ],
      "text/plain": [
       "<IPython.core.display.HTML object>"
      ]
     },
     "metadata": {},
     "output_type": "display_data"
    },
    {
     "data": {
      "text/html": [
       "Run data is saved locally in <code>/home/lab38/Multi_proj_6/model/multi-output/strawberry/sweep/wandb/run-20220618_044136-k15dfmg9</code>"
      ],
      "text/plain": [
       "<IPython.core.display.HTML object>"
      ]
     },
     "metadata": {},
     "output_type": "display_data"
    },
    {
     "data": {
      "text/html": [
       "Syncing run <strong><a href=\"https://wandb.ai/hkleee/strawberry/runs/k15dfmg9\" target=\"_blank\">driven-sweep-19</a></strong> to <a href=\"https://wandb.ai/hkleee/strawberry\" target=\"_blank\">Weights & Biases</a> (<a href=\"https://wandb.me/run\" target=\"_blank\">docs</a>)<br/>Sweep page:  <a href=\"https://wandb.ai/hkleee/strawberry/sweeps/natutesf\" target=\"_blank\">https://wandb.ai/hkleee/strawberry/sweeps/natutesf</a>"
      ],
      "text/plain": [
       "<IPython.core.display.HTML object>"
      ]
     },
     "metadata": {},
     "output_type": "display_data"
    },
    {
     "name": "stdout",
     "output_type": "stream",
     "text": [
      "Found 13437 validated image filenames.\n",
      "Found 3360 validated image filenames.\n",
      "Epoch 1/10\n",
      "268/268 [==============================] - 301s 1s/step - loss: 3.5050 - diease_outputs_loss: 1.7895 - grow_outputs_loss: 1.7155 - diease_outputs_accuracy: 0.2180 - grow_outputs_accuracy: 0.2920 - val_loss: 2.7408 - val_diease_outputs_loss: 1.2012 - val_grow_outputs_loss: 1.5396 - val_diease_outputs_accuracy: 0.4387 - val_grow_outputs_accuracy: 0.2655\n",
      "Epoch 2/10\n",
      "268/268 [==============================] - 297s 1s/step - loss: 2.9486 - diease_outputs_loss: 1.3240 - grow_outputs_loss: 1.6246 - diease_outputs_accuracy: 0.3674 - grow_outputs_accuracy: 0.2749 - val_loss: 2.6673 - val_diease_outputs_loss: 1.1442 - val_grow_outputs_loss: 1.5232 - val_diease_outputs_accuracy: 0.4387 - val_grow_outputs_accuracy: 0.3220\n",
      "Epoch 3/10\n",
      "268/268 [==============================] - 297s 1s/step - loss: 2.8665 - diease_outputs_loss: 1.2627 - grow_outputs_loss: 1.6037 - diease_outputs_accuracy: 0.3708 - grow_outputs_accuracy: 0.2781 - val_loss: 2.6508 - val_diease_outputs_loss: 1.1308 - val_grow_outputs_loss: 1.5199 - val_diease_outputs_accuracy: 0.4387 - val_grow_outputs_accuracy: 0.3363\n",
      "Epoch 4/10\n",
      "268/268 [==============================] - 298s 1s/step - loss: 2.8161 - diease_outputs_loss: 1.2281 - grow_outputs_loss: 1.5880 - diease_outputs_accuracy: 0.3792 - grow_outputs_accuracy: 0.2815 - val_loss: 2.6422 - val_diease_outputs_loss: 1.1260 - val_grow_outputs_loss: 1.5163 - val_diease_outputs_accuracy: 0.4387 - val_grow_outputs_accuracy: 0.3339\n",
      "Epoch 5/10\n",
      "268/268 [==============================] - 298s 1s/step - loss: 2.7852 - diease_outputs_loss: 1.2076 - grow_outputs_loss: 1.5776 - diease_outputs_accuracy: 0.3828 - grow_outputs_accuracy: 0.2858 - val_loss: 2.6397 - val_diease_outputs_loss: 1.1235 - val_grow_outputs_loss: 1.5163 - val_diease_outputs_accuracy: 0.4387 - val_grow_outputs_accuracy: 0.3351\n",
      "Epoch 6/10\n",
      "268/268 [==============================] - 298s 1s/step - loss: 2.7828 - diease_outputs_loss: 1.2066 - grow_outputs_loss: 1.5762 - diease_outputs_accuracy: 0.3822 - grow_outputs_accuracy: 0.2797 - val_loss: 2.6365 - val_diease_outputs_loss: 1.1222 - val_grow_outputs_loss: 1.5142 - val_diease_outputs_accuracy: 0.4387 - val_grow_outputs_accuracy: 0.3366\n",
      "Epoch 7/10\n",
      "268/268 [==============================] - 297s 1s/step - loss: 2.7615 - diease_outputs_loss: 1.1925 - grow_outputs_loss: 1.5690 - diease_outputs_accuracy: 0.3757 - grow_outputs_accuracy: 0.2848 - val_loss: 2.6371 - val_diease_outputs_loss: 1.1216 - val_grow_outputs_loss: 1.5154 - val_diease_outputs_accuracy: 0.4387 - val_grow_outputs_accuracy: 0.3381\n",
      "Epoch 8/10\n",
      "268/268 [==============================] - 297s 1s/step - loss: 2.7701 - diease_outputs_loss: 1.1919 - grow_outputs_loss: 1.5782 - diease_outputs_accuracy: 0.3874 - grow_outputs_accuracy: 0.2898 - val_loss: 2.6342 - val_diease_outputs_loss: 1.1205 - val_grow_outputs_loss: 1.5137 - val_diease_outputs_accuracy: 0.4387 - val_grow_outputs_accuracy: 0.3315\n",
      "Epoch 9/10\n",
      "268/268 [==============================] - 296s 1s/step - loss: 2.7565 - diease_outputs_loss: 1.1870 - grow_outputs_loss: 1.5695 - diease_outputs_accuracy: 0.3883 - grow_outputs_accuracy: 0.2924 - val_loss: 2.6325 - val_diease_outputs_loss: 1.1198 - val_grow_outputs_loss: 1.5128 - val_diease_outputs_accuracy: 0.4387 - val_grow_outputs_accuracy: 0.3321\n",
      "Epoch 10/10\n",
      "268/268 [==============================] - 297s 1s/step - loss: 2.7387 - diease_outputs_loss: 1.1806 - grow_outputs_loss: 1.5581 - diease_outputs_accuracy: 0.3933 - grow_outputs_accuracy: 0.2911 - val_loss: 2.6325 - val_diease_outputs_loss: 1.1195 - val_grow_outputs_loss: 1.5130 - val_diease_outputs_accuracy: 0.4387 - val_grow_outputs_accuracy: 0.3351\n"
     ]
    },
    {
     "data": {
      "text/html": [
       "Waiting for W&B process to finish... <strong style=\"color:green\">(success).</strong>"
      ],
      "text/plain": [
       "<IPython.core.display.HTML object>"
      ]
     },
     "metadata": {},
     "output_type": "display_data"
    },
    {
     "data": {
      "text/html": [
       "<style>\n",
       "    table.wandb td:nth-child(1) { padding: 0 10px; text-align: left ; width: auto;} td:nth-child(2) {text-align: left ; width: 100%}\n",
       "    .wandb-row { display: flex; flex-direction: row; flex-wrap: wrap; justify-content: flex-start; width: 100% }\n",
       "    .wandb-col { display: flex; flex-direction: column; flex-basis: 100%; flex: 1; padding: 10px; }\n",
       "    </style>\n",
       "<div class=\"wandb-row\"><div class=\"wandb-col\"><h3>Run history:</h3><br/><table class=\"wandb\"><tr><td>diease_outputs_accuracy</td><td>▁▆▇▇█▇▇███</td></tr><tr><td>diease_outputs_loss</td><td>█▃▂▂▁▁▁▁▁▁</td></tr><tr><td>epoch</td><td>▁▂▃▃▄▅▆▆▇█</td></tr><tr><td>grow_outputs_accuracy</td><td>▃▁▂▃▅▅▇▆▇█</td></tr><tr><td>grow_outputs_loss</td><td>█▄▃▃▂▂▁▂▁▁</td></tr><tr><td>loss</td><td>█▃▂▂▂▁▁▁▁▁</td></tr><tr><td>val_diease_outputs_accuracy</td><td>▁▁▁▁▁▁▁▁▁▁</td></tr><tr><td>val_diease_outputs_loss</td><td>█▃▂▂▁▁▁▁▁▁</td></tr><tr><td>val_grow_outputs_accuracy</td><td>▁▆█████▇▇█</td></tr><tr><td>val_grow_outputs_loss</td><td>█▄▃▂▂▁▂▁▁▁</td></tr><tr><td>val_loss</td><td>█▃▂▂▁▁▁▁▁▁</td></tr></table><br/></div><div class=\"wandb-col\"><h3>Run summary:</h3><br/><table class=\"wandb\"><tr><td>best_epoch</td><td>9</td></tr><tr><td>best_val_loss</td><td>2.63246</td></tr><tr><td>diease_outputs_accuracy</td><td>0.38956</td></tr><tr><td>diease_outputs_loss</td><td>1.18048</td></tr><tr><td>epoch</td><td>9</td></tr><tr><td>grow_outputs_accuracy</td><td>0.2929</td></tr><tr><td>grow_outputs_loss</td><td>1.55959</td></tr><tr><td>loss</td><td>2.74006</td></tr><tr><td>val_diease_outputs_accuracy</td><td>0.43869</td></tr><tr><td>val_diease_outputs_loss</td><td>1.11946</td></tr><tr><td>val_grow_outputs_accuracy</td><td>0.33512</td></tr><tr><td>val_grow_outputs_loss</td><td>1.51301</td></tr><tr><td>val_loss</td><td>2.63246</td></tr></table><br/></div></div>"
      ],
      "text/plain": [
       "<IPython.core.display.HTML object>"
      ]
     },
     "metadata": {},
     "output_type": "display_data"
    },
    {
     "data": {
      "text/html": [
       "Synced <strong style=\"color:#cdcd00\">driven-sweep-19</strong>: <a href=\"https://wandb.ai/hkleee/strawberry/runs/k15dfmg9\" target=\"_blank\">https://wandb.ai/hkleee/strawberry/runs/k15dfmg9</a><br/>Synced 6 W&B file(s), 1 media file(s), 0 artifact file(s) and 1 other file(s)"
      ],
      "text/plain": [
       "<IPython.core.display.HTML object>"
      ]
     },
     "metadata": {},
     "output_type": "display_data"
    },
    {
     "data": {
      "text/html": [
       "Find logs at: <code>./wandb/run-20220618_044136-k15dfmg9/logs</code>"
      ],
      "text/plain": [
       "<IPython.core.display.HTML object>"
      ]
     },
     "metadata": {},
     "output_type": "display_data"
    },
    {
     "name": "stderr",
     "output_type": "stream",
     "text": [
      "\u001b[34m\u001b[1mwandb\u001b[0m: Agent Starting Run: mk0riqhh with config:\n",
      "\u001b[34m\u001b[1mwandb\u001b[0m: \tactivation: selu\n",
      "\u001b[34m\u001b[1mwandb\u001b[0m: \tbatch_size: 20\n",
      "\u001b[34m\u001b[1mwandb\u001b[0m: \tdense: 32\n",
      "\u001b[34m\u001b[1mwandb\u001b[0m: \tdropout: 0.5\n",
      "\u001b[34m\u001b[1mwandb\u001b[0m: \tlearning_rate: 0.001\n",
      "\u001b[34m\u001b[1mwandb\u001b[0m: \toptimizer: sgd\n",
      "\u001b[34m\u001b[1mwandb\u001b[0m: \tpretrain_net: inception\n",
      "Failed to detect the name of this notebook, you can set it manually with the WANDB_NOTEBOOK_NAME environment variable to enable code saving.\n"
     ]
    },
    {
     "data": {
      "text/html": [
       "Tracking run with wandb version 0.12.18"
      ],
      "text/plain": [
       "<IPython.core.display.HTML object>"
      ]
     },
     "metadata": {},
     "output_type": "display_data"
    },
    {
     "data": {
      "text/html": [
       "Run data is saved locally in <code>/home/lab38/Multi_proj_6/model/multi-output/strawberry/sweep/wandb/run-20220618_053140-mk0riqhh</code>"
      ],
      "text/plain": [
       "<IPython.core.display.HTML object>"
      ]
     },
     "metadata": {},
     "output_type": "display_data"
    },
    {
     "data": {
      "text/html": [
       "Syncing run <strong><a href=\"https://wandb.ai/hkleee/strawberry/runs/mk0riqhh\" target=\"_blank\">avid-sweep-20</a></strong> to <a href=\"https://wandb.ai/hkleee/strawberry\" target=\"_blank\">Weights & Biases</a> (<a href=\"https://wandb.me/run\" target=\"_blank\">docs</a>)<br/>Sweep page:  <a href=\"https://wandb.ai/hkleee/strawberry/sweeps/natutesf\" target=\"_blank\">https://wandb.ai/hkleee/strawberry/sweeps/natutesf</a>"
      ],
      "text/plain": [
       "<IPython.core.display.HTML object>"
      ]
     },
     "metadata": {},
     "output_type": "display_data"
    },
    {
     "data": {
      "text/html": [
       "Finishing last run (ID:mk0riqhh) before initializing another..."
      ],
      "text/plain": [
       "<IPython.core.display.HTML object>"
      ]
     },
     "metadata": {},
     "output_type": "display_data"
    },
    {
     "data": {
      "text/html": [
       "Waiting for W&B process to finish... <strong style=\"color:green\">(success).</strong>"
      ],
      "text/plain": [
       "<IPython.core.display.HTML object>"
      ]
     },
     "metadata": {},
     "output_type": "display_data"
    },
    {
     "data": {
      "text/html": [
       "Synced <strong style=\"color:#cdcd00\">avid-sweep-20</strong>: <a href=\"https://wandb.ai/hkleee/strawberry/runs/mk0riqhh\" target=\"_blank\">https://wandb.ai/hkleee/strawberry/runs/mk0riqhh</a><br/>Synced 5 W&B file(s), 0 media file(s), 0 artifact file(s) and 0 other file(s)"
      ],
      "text/plain": [
       "<IPython.core.display.HTML object>"
      ]
     },
     "metadata": {},
     "output_type": "display_data"
    },
    {
     "data": {
      "text/html": [
       "Find logs at: <code>./wandb/run-20220618_053140-mk0riqhh/logs</code>"
      ],
      "text/plain": [
       "<IPython.core.display.HTML object>"
      ]
     },
     "metadata": {},
     "output_type": "display_data"
    },
    {
     "data": {
      "text/html": [
       "Successfully finished last run (ID:mk0riqhh). Initializing new run:<br/>"
      ],
      "text/plain": [
       "<IPython.core.display.HTML object>"
      ]
     },
     "metadata": {},
     "output_type": "display_data"
    },
    {
     "data": {
      "text/html": [
       "Tracking run with wandb version 0.12.18"
      ],
      "text/plain": [
       "<IPython.core.display.HTML object>"
      ]
     },
     "metadata": {},
     "output_type": "display_data"
    },
    {
     "data": {
      "text/html": [
       "Run data is saved locally in <code>/home/lab38/Multi_proj_6/model/multi-output/strawberry/sweep/wandb/run-20220618_053144-mk0riqhh</code>"
      ],
      "text/plain": [
       "<IPython.core.display.HTML object>"
      ]
     },
     "metadata": {},
     "output_type": "display_data"
    },
    {
     "data": {
      "text/html": [
       "Syncing run <strong><a href=\"https://wandb.ai/hkleee/strawberry/runs/mk0riqhh\" target=\"_blank\">avid-sweep-20</a></strong> to <a href=\"https://wandb.ai/hkleee/strawberry\" target=\"_blank\">Weights & Biases</a> (<a href=\"https://wandb.me/run\" target=\"_blank\">docs</a>)<br/>Sweep page:  <a href=\"https://wandb.ai/hkleee/strawberry/sweeps/natutesf\" target=\"_blank\">https://wandb.ai/hkleee/strawberry/sweeps/natutesf</a>"
      ],
      "text/plain": [
       "<IPython.core.display.HTML object>"
      ]
     },
     "metadata": {},
     "output_type": "display_data"
    },
    {
     "name": "stdout",
     "output_type": "stream",
     "text": [
      "Found 13437 validated image filenames.\n",
      "Found 3360 validated image filenames.\n",
      "Epoch 1/10\n",
      "671/671 [==============================] - 322s 467ms/step - loss: 2.7718 - diease_outputs_loss: 1.2333 - grow_outputs_loss: 1.5385 - diease_outputs_accuracy: 0.4847 - grow_outputs_accuracy: 0.3609 - val_loss: 1.7761 - val_diease_outputs_loss: 0.7441 - val_grow_outputs_loss: 1.0320 - val_diease_outputs_accuracy: 0.7095 - val_grow_outputs_accuracy: 0.5726\n",
      "Epoch 2/10\n",
      "671/671 [==============================] - 311s 463ms/step - loss: 1.9931 - diease_outputs_loss: 0.8486 - grow_outputs_loss: 1.1445 - diease_outputs_accuracy: 0.6539 - grow_outputs_accuracy: 0.5147 - val_loss: 1.5995 - val_diease_outputs_loss: 0.6659 - val_grow_outputs_loss: 0.9336 - val_diease_outputs_accuracy: 0.7449 - val_grow_outputs_accuracy: 0.6196\n",
      "Epoch 3/10\n",
      "671/671 [==============================] - 311s 463ms/step - loss: 1.7836 - diease_outputs_loss: 0.7414 - grow_outputs_loss: 1.0422 - diease_outputs_accuracy: 0.7051 - grow_outputs_accuracy: 0.5596 - val_loss: 1.5197 - val_diease_outputs_loss: 0.6281 - val_grow_outputs_loss: 0.8916 - val_diease_outputs_accuracy: 0.7679 - val_grow_outputs_accuracy: 0.6327\n",
      "Epoch 4/10\n",
      "671/671 [==============================] - 314s 467ms/step - loss: 1.7022 - diease_outputs_loss: 0.7085 - grow_outputs_loss: 0.9937 - diease_outputs_accuracy: 0.7178 - grow_outputs_accuracy: 0.5864 - val_loss: 1.4564 - val_diease_outputs_loss: 0.5936 - val_grow_outputs_loss: 0.8628 - val_diease_outputs_accuracy: 0.7830 - val_grow_outputs_accuracy: 0.6405\n",
      "Epoch 5/10\n",
      "671/671 [==============================] - 314s 468ms/step - loss: 1.6503 - diease_outputs_loss: 0.6881 - grow_outputs_loss: 0.9622 - diease_outputs_accuracy: 0.7275 - grow_outputs_accuracy: 0.5985 - val_loss: 1.4242 - val_diease_outputs_loss: 0.5727 - val_grow_outputs_loss: 0.8516 - val_diease_outputs_accuracy: 0.7887 - val_grow_outputs_accuracy: 0.6429\n",
      "Epoch 6/10\n",
      "671/671 [==============================] - 315s 469ms/step - loss: 1.5918 - diease_outputs_loss: 0.6586 - grow_outputs_loss: 0.9333 - diease_outputs_accuracy: 0.7394 - grow_outputs_accuracy: 0.6077 - val_loss: 1.3944 - val_diease_outputs_loss: 0.5563 - val_grow_outputs_loss: 0.8381 - val_diease_outputs_accuracy: 0.7991 - val_grow_outputs_accuracy: 0.6488\n",
      "Epoch 7/10\n",
      "671/671 [==============================] - 315s 469ms/step - loss: 1.5748 - diease_outputs_loss: 0.6435 - grow_outputs_loss: 0.9313 - diease_outputs_accuracy: 0.7474 - grow_outputs_accuracy: 0.6013 - val_loss: 1.3694 - val_diease_outputs_loss: 0.5422 - val_grow_outputs_loss: 0.8273 - val_diease_outputs_accuracy: 0.8060 - val_grow_outputs_accuracy: 0.6500\n",
      "Epoch 8/10\n",
      "671/671 [==============================] - 311s 463ms/step - loss: 1.5299 - diease_outputs_loss: 0.6169 - grow_outputs_loss: 0.9130 - diease_outputs_accuracy: 0.7583 - grow_outputs_accuracy: 0.6123 - val_loss: 1.3500 - val_diease_outputs_loss: 0.5297 - val_grow_outputs_loss: 0.8203 - val_diease_outputs_accuracy: 0.8101 - val_grow_outputs_accuracy: 0.6533\n",
      "Epoch 9/10\n",
      "671/671 [==============================] - 312s 465ms/step - loss: 1.5060 - diease_outputs_loss: 0.6019 - grow_outputs_loss: 0.9041 - diease_outputs_accuracy: 0.7632 - grow_outputs_accuracy: 0.6131 - val_loss: 1.3252 - val_diease_outputs_loss: 0.5185 - val_grow_outputs_loss: 0.8067 - val_diease_outputs_accuracy: 0.8149 - val_grow_outputs_accuracy: 0.6565\n",
      "Epoch 10/10\n",
      "671/671 [==============================] - 311s 464ms/step - loss: 1.5031 - diease_outputs_loss: 0.6086 - grow_outputs_loss: 0.8945 - diease_outputs_accuracy: 0.7647 - grow_outputs_accuracy: 0.6212 - val_loss: 1.3224 - val_diease_outputs_loss: 0.5157 - val_grow_outputs_loss: 0.8066 - val_diease_outputs_accuracy: 0.8185 - val_grow_outputs_accuracy: 0.6604\n"
     ]
    },
    {
     "data": {
      "text/html": [
       "Waiting for W&B process to finish... <strong style=\"color:green\">(success).</strong>"
      ],
      "text/plain": [
       "<IPython.core.display.HTML object>"
      ]
     },
     "metadata": {},
     "output_type": "display_data"
    },
    {
     "data": {
      "text/html": [
       "<style>\n",
       "    table.wandb td:nth-child(1) { padding: 0 10px; text-align: left ; width: auto;} td:nth-child(2) {text-align: left ; width: 100%}\n",
       "    .wandb-row { display: flex; flex-direction: row; flex-wrap: wrap; justify-content: flex-start; width: 100% }\n",
       "    .wandb-col { display: flex; flex-direction: column; flex-basis: 100%; flex: 1; padding: 10px; }\n",
       "    </style>\n",
       "<div class=\"wandb-row\"><div class=\"wandb-col\"><h3>Run history:</h3><br/><table class=\"wandb\"><tr><td>diease_outputs_accuracy</td><td>▁▅▆▇▇▇████</td></tr><tr><td>diease_outputs_loss</td><td>█▄▃▃▂▂▁▁▁▁</td></tr><tr><td>epoch</td><td>▁▂▃▃▄▅▆▆▇█</td></tr><tr><td>grow_outputs_accuracy</td><td>▁▅▆▇▇▇▇███</td></tr><tr><td>grow_outputs_loss</td><td>█▄▃▂▂▂▁▁▁▁</td></tr><tr><td>loss</td><td>█▄▃▃▂▂▁▁▁▁</td></tr><tr><td>val_diease_outputs_accuracy</td><td>▁▃▅▆▆▇▇▇██</td></tr><tr><td>val_diease_outputs_loss</td><td>█▆▄▃▃▂▂▁▁▁</td></tr><tr><td>val_grow_outputs_accuracy</td><td>▁▅▆▆▇▇▇▇██</td></tr><tr><td>val_grow_outputs_loss</td><td>█▅▄▃▂▂▂▁▁▁</td></tr><tr><td>val_loss</td><td>█▅▄▃▃▂▂▁▁▁</td></tr></table><br/></div><div class=\"wandb-col\"><h3>Run summary:</h3><br/><table class=\"wandb\"><tr><td>best_epoch</td><td>9</td></tr><tr><td>best_val_loss</td><td>1.32237</td></tr><tr><td>diease_outputs_accuracy</td><td>0.76381</td></tr><tr><td>diease_outputs_loss</td><td>0.6062</td></tr><tr><td>epoch</td><td>9</td></tr><tr><td>grow_outputs_accuracy</td><td>0.62533</td></tr><tr><td>grow_outputs_loss</td><td>0.88672</td></tr><tr><td>loss</td><td>1.49292</td></tr><tr><td>val_diease_outputs_accuracy</td><td>0.81845</td></tr><tr><td>val_diease_outputs_loss</td><td>0.51574</td></tr><tr><td>val_grow_outputs_accuracy</td><td>0.66042</td></tr><tr><td>val_grow_outputs_loss</td><td>0.80663</td></tr><tr><td>val_loss</td><td>1.32237</td></tr></table><br/></div></div>"
      ],
      "text/plain": [
       "<IPython.core.display.HTML object>"
      ]
     },
     "metadata": {},
     "output_type": "display_data"
    },
    {
     "data": {
      "text/html": [
       "Synced <strong style=\"color:#cdcd00\">avid-sweep-20</strong>: <a href=\"https://wandb.ai/hkleee/strawberry/runs/mk0riqhh\" target=\"_blank\">https://wandb.ai/hkleee/strawberry/runs/mk0riqhh</a><br/>Synced 6 W&B file(s), 1 media file(s), 0 artifact file(s) and 1 other file(s)"
      ],
      "text/plain": [
       "<IPython.core.display.HTML object>"
      ]
     },
     "metadata": {},
     "output_type": "display_data"
    },
    {
     "data": {
      "text/html": [
       "Find logs at: <code>./wandb/run-20220618_053144-mk0riqhh/logs</code>"
      ],
      "text/plain": [
       "<IPython.core.display.HTML object>"
      ]
     },
     "metadata": {},
     "output_type": "display_data"
    },
    {
     "name": "stderr",
     "output_type": "stream",
     "text": [
      "\u001b[34m\u001b[1mwandb\u001b[0m: Agent Starting Run: 5cknzwzm with config:\n",
      "\u001b[34m\u001b[1mwandb\u001b[0m: \tactivation: relu\n",
      "\u001b[34m\u001b[1mwandb\u001b[0m: \tbatch_size: 20\n",
      "\u001b[34m\u001b[1mwandb\u001b[0m: \tdense: 1024\n",
      "\u001b[34m\u001b[1mwandb\u001b[0m: \tdropout: 0.2\n",
      "\u001b[34m\u001b[1mwandb\u001b[0m: \tlearning_rate: 0.0001\n",
      "\u001b[34m\u001b[1mwandb\u001b[0m: \toptimizer: sgd\n",
      "\u001b[34m\u001b[1mwandb\u001b[0m: \tpretrain_net: inception\n",
      "Failed to detect the name of this notebook, you can set it manually with the WANDB_NOTEBOOK_NAME environment variable to enable code saving.\n"
     ]
    },
    {
     "data": {
      "text/html": [
       "Tracking run with wandb version 0.12.18"
      ],
      "text/plain": [
       "<IPython.core.display.HTML object>"
      ]
     },
     "metadata": {},
     "output_type": "display_data"
    },
    {
     "data": {
      "text/html": [
       "Run data is saved locally in <code>/home/lab38/Multi_proj_6/model/multi-output/strawberry/sweep/wandb/run-20220618_062443-5cknzwzm</code>"
      ],
      "text/plain": [
       "<IPython.core.display.HTML object>"
      ]
     },
     "metadata": {},
     "output_type": "display_data"
    },
    {
     "data": {
      "text/html": [
       "Syncing run <strong><a href=\"https://wandb.ai/hkleee/strawberry/runs/5cknzwzm\" target=\"_blank\">happy-sweep-21</a></strong> to <a href=\"https://wandb.ai/hkleee/strawberry\" target=\"_blank\">Weights & Biases</a> (<a href=\"https://wandb.me/run\" target=\"_blank\">docs</a>)<br/>Sweep page:  <a href=\"https://wandb.ai/hkleee/strawberry/sweeps/natutesf\" target=\"_blank\">https://wandb.ai/hkleee/strawberry/sweeps/natutesf</a>"
      ],
      "text/plain": [
       "<IPython.core.display.HTML object>"
      ]
     },
     "metadata": {},
     "output_type": "display_data"
    },
    {
     "data": {
      "text/html": [
       "Finishing last run (ID:5cknzwzm) before initializing another..."
      ],
      "text/plain": [
       "<IPython.core.display.HTML object>"
      ]
     },
     "metadata": {},
     "output_type": "display_data"
    },
    {
     "data": {
      "text/html": [
       "Waiting for W&B process to finish... <strong style=\"color:green\">(success).</strong>"
      ],
      "text/plain": [
       "<IPython.core.display.HTML object>"
      ]
     },
     "metadata": {},
     "output_type": "display_data"
    },
    {
     "data": {
      "text/html": [
       "Synced <strong style=\"color:#cdcd00\">happy-sweep-21</strong>: <a href=\"https://wandb.ai/hkleee/strawberry/runs/5cknzwzm\" target=\"_blank\">https://wandb.ai/hkleee/strawberry/runs/5cknzwzm</a><br/>Synced 5 W&B file(s), 0 media file(s), 0 artifact file(s) and 0 other file(s)"
      ],
      "text/plain": [
       "<IPython.core.display.HTML object>"
      ]
     },
     "metadata": {},
     "output_type": "display_data"
    },
    {
     "data": {
      "text/html": [
       "Find logs at: <code>./wandb/run-20220618_062443-5cknzwzm/logs</code>"
      ],
      "text/plain": [
       "<IPython.core.display.HTML object>"
      ]
     },
     "metadata": {},
     "output_type": "display_data"
    },
    {
     "data": {
      "text/html": [
       "Successfully finished last run (ID:5cknzwzm). Initializing new run:<br/>"
      ],
      "text/plain": [
       "<IPython.core.display.HTML object>"
      ]
     },
     "metadata": {},
     "output_type": "display_data"
    },
    {
     "data": {
      "text/html": [
       "Tracking run with wandb version 0.12.18"
      ],
      "text/plain": [
       "<IPython.core.display.HTML object>"
      ]
     },
     "metadata": {},
     "output_type": "display_data"
    },
    {
     "data": {
      "text/html": [
       "Run data is saved locally in <code>/home/lab38/Multi_proj_6/model/multi-output/strawberry/sweep/wandb/run-20220618_062447-5cknzwzm</code>"
      ],
      "text/plain": [
       "<IPython.core.display.HTML object>"
      ]
     },
     "metadata": {},
     "output_type": "display_data"
    },
    {
     "data": {
      "text/html": [
       "Syncing run <strong><a href=\"https://wandb.ai/hkleee/strawberry/runs/5cknzwzm\" target=\"_blank\">happy-sweep-21</a></strong> to <a href=\"https://wandb.ai/hkleee/strawberry\" target=\"_blank\">Weights & Biases</a> (<a href=\"https://wandb.me/run\" target=\"_blank\">docs</a>)<br/>Sweep page:  <a href=\"https://wandb.ai/hkleee/strawberry/sweeps/natutesf\" target=\"_blank\">https://wandb.ai/hkleee/strawberry/sweeps/natutesf</a>"
      ],
      "text/plain": [
       "<IPython.core.display.HTML object>"
      ]
     },
     "metadata": {},
     "output_type": "display_data"
    },
    {
     "name": "stdout",
     "output_type": "stream",
     "text": [
      "Found 13437 validated image filenames.\n",
      "Found 3360 validated image filenames.\n",
      "Epoch 1/10\n",
      "671/671 [==============================] - 326s 473ms/step - loss: 2.8409 - diease_outputs_loss: 1.2859 - grow_outputs_loss: 1.5550 - diease_outputs_accuracy: 0.3120 - grow_outputs_accuracy: 0.2784 - val_loss: 2.4718 - val_diease_outputs_loss: 1.1141 - val_grow_outputs_loss: 1.3577 - val_diease_outputs_accuracy: 0.4717 - val_grow_outputs_accuracy: 0.4786\n",
      "Epoch 2/10\n",
      "671/671 [==============================] - 316s 471ms/step - loss: 2.4885 - diease_outputs_loss: 1.1167 - grow_outputs_loss: 1.3718 - diease_outputs_accuracy: 0.4629 - grow_outputs_accuracy: 0.4418 - val_loss: 2.2491 - val_diease_outputs_loss: 1.0074 - val_grow_outputs_loss: 1.2416 - val_diease_outputs_accuracy: 0.5789 - val_grow_outputs_accuracy: 0.5101\n",
      "Epoch 3/10\n",
      "671/671 [==============================] - 312s 465ms/step - loss: 2.2987 - diease_outputs_loss: 1.0252 - grow_outputs_loss: 1.2735 - diease_outputs_accuracy: 0.5538 - grow_outputs_accuracy: 0.4929 - val_loss: 2.1088 - val_diease_outputs_loss: 0.9389 - val_grow_outputs_loss: 1.1699 - val_diease_outputs_accuracy: 0.6277 - val_grow_outputs_accuracy: 0.5411\n",
      "Epoch 4/10\n",
      "671/671 [==============================] - 312s 465ms/step - loss: 2.1645 - diease_outputs_loss: 0.9580 - grow_outputs_loss: 1.2065 - diease_outputs_accuracy: 0.5981 - grow_outputs_accuracy: 0.5207 - val_loss: 2.0103 - val_diease_outputs_loss: 0.8894 - val_grow_outputs_loss: 1.1210 - val_diease_outputs_accuracy: 0.6631 - val_grow_outputs_accuracy: 0.5622\n",
      "Epoch 5/10\n",
      "671/671 [==============================] - 313s 466ms/step - loss: 2.0695 - diease_outputs_loss: 0.9154 - grow_outputs_loss: 1.1541 - diease_outputs_accuracy: 0.6288 - grow_outputs_accuracy: 0.5510 - val_loss: 1.9311 - val_diease_outputs_loss: 0.8506 - val_grow_outputs_loss: 1.0804 - val_diease_outputs_accuracy: 0.6821 - val_grow_outputs_accuracy: 0.5815\n",
      "Epoch 6/10\n",
      "671/671 [==============================] - 309s 461ms/step - loss: 1.9943 - diease_outputs_loss: 0.8732 - grow_outputs_loss: 1.1211 - diease_outputs_accuracy: 0.6624 - grow_outputs_accuracy: 0.5581 - val_loss: 1.8742 - val_diease_outputs_loss: 0.8217 - val_grow_outputs_loss: 1.0525 - val_diease_outputs_accuracy: 0.6943 - val_grow_outputs_accuracy: 0.5923\n",
      "Epoch 7/10\n",
      "671/671 [==============================] - 312s 465ms/step - loss: 1.9417 - diease_outputs_loss: 0.8487 - grow_outputs_loss: 1.0930 - diease_outputs_accuracy: 0.6745 - grow_outputs_accuracy: 0.5708 - val_loss: 1.8269 - val_diease_outputs_loss: 0.7977 - val_grow_outputs_loss: 1.0292 - val_diease_outputs_accuracy: 0.7021 - val_grow_outputs_accuracy: 0.5988\n",
      "Epoch 8/10\n",
      "671/671 [==============================] - 312s 465ms/step - loss: 1.8862 - diease_outputs_loss: 0.8203 - grow_outputs_loss: 1.0658 - diease_outputs_accuracy: 0.6917 - grow_outputs_accuracy: 0.5776 - val_loss: 1.7868 - val_diease_outputs_loss: 0.7773 - val_grow_outputs_loss: 1.0095 - val_diease_outputs_accuracy: 0.7107 - val_grow_outputs_accuracy: 0.6015\n",
      "Epoch 9/10\n",
      "671/671 [==============================] - 311s 464ms/step - loss: 1.8458 - diease_outputs_loss: 0.7977 - grow_outputs_loss: 1.0481 - diease_outputs_accuracy: 0.6935 - grow_outputs_accuracy: 0.5814 - val_loss: 1.7524 - val_diease_outputs_loss: 0.7596 - val_grow_outputs_loss: 0.9928 - val_diease_outputs_accuracy: 0.7190 - val_grow_outputs_accuracy: 0.6051\n",
      "Epoch 10/10\n",
      "671/671 [==============================] - 313s 467ms/step - loss: 1.8194 - diease_outputs_loss: 0.7896 - grow_outputs_loss: 1.0298 - diease_outputs_accuracy: 0.7072 - grow_outputs_accuracy: 0.5799 - val_loss: 1.7269 - val_diease_outputs_loss: 0.7470 - val_grow_outputs_loss: 0.9799 - val_diease_outputs_accuracy: 0.7176 - val_grow_outputs_accuracy: 0.6068\n"
     ]
    },
    {
     "data": {
      "text/html": [
       "Waiting for W&B process to finish... <strong style=\"color:green\">(success).</strong>"
      ],
      "text/plain": [
       "<IPython.core.display.HTML object>"
      ]
     },
     "metadata": {},
     "output_type": "display_data"
    },
    {
     "data": {
      "text/html": [
       "<style>\n",
       "    table.wandb td:nth-child(1) { padding: 0 10px; text-align: left ; width: auto;} td:nth-child(2) {text-align: left ; width: 100%}\n",
       "    .wandb-row { display: flex; flex-direction: row; flex-wrap: wrap; justify-content: flex-start; width: 100% }\n",
       "    .wandb-col { display: flex; flex-direction: column; flex-basis: 100%; flex: 1; padding: 10px; }\n",
       "    </style>\n",
       "<div class=\"wandb-row\"><div class=\"wandb-col\"><h3>Run history:</h3><br/><table class=\"wandb\"><tr><td>diease_outputs_accuracy</td><td>▁▄▅▆▇▇▇███</td></tr><tr><td>diease_outputs_loss</td><td>█▆▄▄▃▂▂▂▁▁</td></tr><tr><td>epoch</td><td>▁▂▃▃▄▅▆▆▇█</td></tr><tr><td>grow_outputs_accuracy</td><td>▁▄▆▆▇▇████</td></tr><tr><td>grow_outputs_loss</td><td>█▆▄▄▃▂▂▂▁▁</td></tr><tr><td>loss</td><td>█▆▄▄▃▂▂▂▁▁</td></tr><tr><td>val_diease_outputs_accuracy</td><td>▁▄▅▆▇▇████</td></tr><tr><td>val_diease_outputs_loss</td><td>█▆▅▄▃▂▂▂▁▁</td></tr><tr><td>val_grow_outputs_accuracy</td><td>▁▃▄▆▇▇████</td></tr><tr><td>val_grow_outputs_loss</td><td>█▆▅▄▃▂▂▂▁▁</td></tr><tr><td>val_loss</td><td>█▆▅▄▃▂▂▂▁▁</td></tr></table><br/></div><div class=\"wandb-col\"><h3>Run summary:</h3><br/><table class=\"wandb\"><tr><td>best_epoch</td><td>9</td></tr><tr><td>best_val_loss</td><td>1.72694</td></tr><tr><td>diease_outputs_accuracy</td><td>0.70746</td></tr><tr><td>diease_outputs_loss</td><td>0.77849</td></tr><tr><td>epoch</td><td>9</td></tr><tr><td>grow_outputs_accuracy</td><td>0.58493</td></tr><tr><td>grow_outputs_loss</td><td>1.02529</td></tr><tr><td>loss</td><td>1.80379</td></tr><tr><td>val_diease_outputs_accuracy</td><td>0.71756</td></tr><tr><td>val_diease_outputs_loss</td><td>0.74701</td></tr><tr><td>val_grow_outputs_accuracy</td><td>0.60685</td></tr><tr><td>val_grow_outputs_loss</td><td>0.97993</td></tr><tr><td>val_loss</td><td>1.72694</td></tr></table><br/></div></div>"
      ],
      "text/plain": [
       "<IPython.core.display.HTML object>"
      ]
     },
     "metadata": {},
     "output_type": "display_data"
    },
    {
     "data": {
      "text/html": [
       "Synced <strong style=\"color:#cdcd00\">happy-sweep-21</strong>: <a href=\"https://wandb.ai/hkleee/strawberry/runs/5cknzwzm\" target=\"_blank\">https://wandb.ai/hkleee/strawberry/runs/5cknzwzm</a><br/>Synced 6 W&B file(s), 1 media file(s), 0 artifact file(s) and 1 other file(s)"
      ],
      "text/plain": [
       "<IPython.core.display.HTML object>"
      ]
     },
     "metadata": {},
     "output_type": "display_data"
    },
    {
     "data": {
      "text/html": [
       "Find logs at: <code>./wandb/run-20220618_062447-5cknzwzm/logs</code>"
      ],
      "text/plain": [
       "<IPython.core.display.HTML object>"
      ]
     },
     "metadata": {},
     "output_type": "display_data"
    },
    {
     "name": "stderr",
     "output_type": "stream",
     "text": [
      "\u001b[34m\u001b[1mwandb\u001b[0m: Agent Starting Run: lr8n375l with config:\n",
      "\u001b[34m\u001b[1mwandb\u001b[0m: \tactivation: softmax\n",
      "\u001b[34m\u001b[1mwandb\u001b[0m: \tbatch_size: 20\n",
      "\u001b[34m\u001b[1mwandb\u001b[0m: \tdense: 1024\n",
      "\u001b[34m\u001b[1mwandb\u001b[0m: \tdropout: 0.5\n",
      "\u001b[34m\u001b[1mwandb\u001b[0m: \tlearning_rate: 0.01\n",
      "\u001b[34m\u001b[1mwandb\u001b[0m: \toptimizer: rmsprop\n",
      "\u001b[34m\u001b[1mwandb\u001b[0m: \tpretrain_net: inception\n",
      "Failed to detect the name of this notebook, you can set it manually with the WANDB_NOTEBOOK_NAME environment variable to enable code saving.\n"
     ]
    },
    {
     "data": {
      "text/html": [
       "Tracking run with wandb version 0.12.18"
      ],
      "text/plain": [
       "<IPython.core.display.HTML object>"
      ]
     },
     "metadata": {},
     "output_type": "display_data"
    },
    {
     "data": {
      "text/html": [
       "Run data is saved locally in <code>/home/lab38/Multi_proj_6/model/multi-output/strawberry/sweep/wandb/run-20220618_071747-lr8n375l</code>"
      ],
      "text/plain": [
       "<IPython.core.display.HTML object>"
      ]
     },
     "metadata": {},
     "output_type": "display_data"
    },
    {
     "data": {
      "text/html": [
       "Syncing run <strong><a href=\"https://wandb.ai/hkleee/strawberry/runs/lr8n375l\" target=\"_blank\">neat-sweep-22</a></strong> to <a href=\"https://wandb.ai/hkleee/strawberry\" target=\"_blank\">Weights & Biases</a> (<a href=\"https://wandb.me/run\" target=\"_blank\">docs</a>)<br/>Sweep page:  <a href=\"https://wandb.ai/hkleee/strawberry/sweeps/natutesf\" target=\"_blank\">https://wandb.ai/hkleee/strawberry/sweeps/natutesf</a>"
      ],
      "text/plain": [
       "<IPython.core.display.HTML object>"
      ]
     },
     "metadata": {},
     "output_type": "display_data"
    },
    {
     "data": {
      "text/html": [
       "Finishing last run (ID:lr8n375l) before initializing another..."
      ],
      "text/plain": [
       "<IPython.core.display.HTML object>"
      ]
     },
     "metadata": {},
     "output_type": "display_data"
    },
    {
     "data": {
      "text/html": [
       "Waiting for W&B process to finish... <strong style=\"color:green\">(success).</strong>"
      ],
      "text/plain": [
       "<IPython.core.display.HTML object>"
      ]
     },
     "metadata": {},
     "output_type": "display_data"
    },
    {
     "data": {
      "text/html": [
       "Synced <strong style=\"color:#cdcd00\">neat-sweep-22</strong>: <a href=\"https://wandb.ai/hkleee/strawberry/runs/lr8n375l\" target=\"_blank\">https://wandb.ai/hkleee/strawberry/runs/lr8n375l</a><br/>Synced 5 W&B file(s), 0 media file(s), 0 artifact file(s) and 0 other file(s)"
      ],
      "text/plain": [
       "<IPython.core.display.HTML object>"
      ]
     },
     "metadata": {},
     "output_type": "display_data"
    },
    {
     "data": {
      "text/html": [
       "Find logs at: <code>./wandb/run-20220618_071747-lr8n375l/logs</code>"
      ],
      "text/plain": [
       "<IPython.core.display.HTML object>"
      ]
     },
     "metadata": {},
     "output_type": "display_data"
    },
    {
     "data": {
      "text/html": [
       "Successfully finished last run (ID:lr8n375l). Initializing new run:<br/>"
      ],
      "text/plain": [
       "<IPython.core.display.HTML object>"
      ]
     },
     "metadata": {},
     "output_type": "display_data"
    },
    {
     "data": {
      "text/html": [
       "Tracking run with wandb version 0.12.18"
      ],
      "text/plain": [
       "<IPython.core.display.HTML object>"
      ]
     },
     "metadata": {},
     "output_type": "display_data"
    },
    {
     "data": {
      "text/html": [
       "Run data is saved locally in <code>/home/lab38/Multi_proj_6/model/multi-output/strawberry/sweep/wandb/run-20220618_071751-lr8n375l</code>"
      ],
      "text/plain": [
       "<IPython.core.display.HTML object>"
      ]
     },
     "metadata": {},
     "output_type": "display_data"
    },
    {
     "data": {
      "text/html": [
       "Syncing run <strong><a href=\"https://wandb.ai/hkleee/strawberry/runs/lr8n375l\" target=\"_blank\">neat-sweep-22</a></strong> to <a href=\"https://wandb.ai/hkleee/strawberry\" target=\"_blank\">Weights & Biases</a> (<a href=\"https://wandb.me/run\" target=\"_blank\">docs</a>)<br/>Sweep page:  <a href=\"https://wandb.ai/hkleee/strawberry/sweeps/natutesf\" target=\"_blank\">https://wandb.ai/hkleee/strawberry/sweeps/natutesf</a>"
      ],
      "text/plain": [
       "<IPython.core.display.HTML object>"
      ]
     },
     "metadata": {},
     "output_type": "display_data"
    },
    {
     "name": "stdout",
     "output_type": "stream",
     "text": [
      "Found 13437 validated image filenames.\n",
      "Found 3360 validated image filenames.\n",
      "Epoch 1/10\n",
      "671/671 [==============================] - 321s 467ms/step - loss: 2.5984 - diease_outputs_loss: 1.1455 - grow_outputs_loss: 1.4529 - diease_outputs_accuracy: 0.4355 - grow_outputs_accuracy: 0.3786 - val_loss: 2.1054 - val_diease_outputs_loss: 0.9296 - val_grow_outputs_loss: 1.1758 - val_diease_outputs_accuracy: 0.6149 - val_grow_outputs_accuracy: 0.5262\n",
      "Epoch 2/10\n",
      "671/671 [==============================] - 307s 458ms/step - loss: 2.0465 - diease_outputs_loss: 0.9179 - grow_outputs_loss: 1.1286 - diease_outputs_accuracy: 0.6172 - grow_outputs_accuracy: 0.5056 - val_loss: 1.9314 - val_diease_outputs_loss: 0.8975 - val_grow_outputs_loss: 1.0339 - val_diease_outputs_accuracy: 0.6399 - val_grow_outputs_accuracy: 0.5268\n",
      "Epoch 3/10\n",
      "671/671 [==============================] - 308s 459ms/step - loss: 1.9126 - diease_outputs_loss: 0.8503 - grow_outputs_loss: 1.0623 - diease_outputs_accuracy: 0.6658 - grow_outputs_accuracy: 0.5085 - val_loss: 1.8165 - val_diease_outputs_loss: 0.7796 - val_grow_outputs_loss: 1.0369 - val_diease_outputs_accuracy: 0.7250 - val_grow_outputs_accuracy: 0.5247\n",
      "Epoch 4/10\n",
      "671/671 [==============================] - 309s 460ms/step - loss: 1.8665 - diease_outputs_loss: 0.8178 - grow_outputs_loss: 1.0487 - diease_outputs_accuracy: 0.6918 - grow_outputs_accuracy: 0.5224 - val_loss: 1.7718 - val_diease_outputs_loss: 0.7741 - val_grow_outputs_loss: 0.9977 - val_diease_outputs_accuracy: 0.7080 - val_grow_outputs_accuracy: 0.5164\n",
      "Epoch 5/10\n",
      "671/671 [==============================] - 311s 463ms/step - loss: 1.8992 - diease_outputs_loss: 0.8416 - grow_outputs_loss: 1.0576 - diease_outputs_accuracy: 0.6770 - grow_outputs_accuracy: 0.5107 - val_loss: 1.7810 - val_diease_outputs_loss: 0.7828 - val_grow_outputs_loss: 0.9982 - val_diease_outputs_accuracy: 0.7009 - val_grow_outputs_accuracy: 0.5315\n",
      "Epoch 6/10\n",
      "671/671 [==============================] - 311s 463ms/step - loss: 1.8943 - diease_outputs_loss: 0.8338 - grow_outputs_loss: 1.0606 - diease_outputs_accuracy: 0.6806 - grow_outputs_accuracy: 0.5113 - val_loss: 1.7551 - val_diease_outputs_loss: 0.7493 - val_grow_outputs_loss: 1.0057 - val_diease_outputs_accuracy: 0.7262 - val_grow_outputs_accuracy: 0.5312\n",
      "Epoch 7/10\n",
      "671/671 [==============================] - 308s 459ms/step - loss: 1.8937 - diease_outputs_loss: 0.8150 - grow_outputs_loss: 1.0788 - diease_outputs_accuracy: 0.6894 - grow_outputs_accuracy: 0.5057 - val_loss: 1.8144 - val_diease_outputs_loss: 0.8049 - val_grow_outputs_loss: 1.0095 - val_diease_outputs_accuracy: 0.7000 - val_grow_outputs_accuracy: 0.5301\n",
      "Epoch 8/10\n",
      "671/671 [==============================] - 309s 460ms/step - loss: 1.8563 - diease_outputs_loss: 0.8180 - grow_outputs_loss: 1.0383 - diease_outputs_accuracy: 0.6802 - grow_outputs_accuracy: 0.5176 - val_loss: 1.7482 - val_diease_outputs_loss: 0.7697 - val_grow_outputs_loss: 0.9785 - val_diease_outputs_accuracy: 0.7083 - val_grow_outputs_accuracy: 0.5342\n",
      "Epoch 9/10\n",
      "671/671 [==============================] - 308s 459ms/step - loss: 1.8485 - diease_outputs_loss: 0.8220 - grow_outputs_loss: 1.0265 - diease_outputs_accuracy: 0.6813 - grow_outputs_accuracy: 0.5299 - val_loss: 1.7461 - val_diease_outputs_loss: 0.7637 - val_grow_outputs_loss: 0.9824 - val_diease_outputs_accuracy: 0.7086 - val_grow_outputs_accuracy: 0.5286\n",
      "Epoch 10/10\n",
      "671/671 [==============================] - 308s 460ms/step - loss: 1.8660 - diease_outputs_loss: 0.8178 - grow_outputs_loss: 1.0483 - diease_outputs_accuracy: 0.6850 - grow_outputs_accuracy: 0.5059 - val_loss: 1.7377 - val_diease_outputs_loss: 0.7523 - val_grow_outputs_loss: 0.9854 - val_diease_outputs_accuracy: 0.7170 - val_grow_outputs_accuracy: 0.5327\n"
     ]
    },
    {
     "data": {
      "text/html": [
       "Waiting for W&B process to finish... <strong style=\"color:green\">(success).</strong>"
      ],
      "text/plain": [
       "<IPython.core.display.HTML object>"
      ]
     },
     "metadata": {},
     "output_type": "display_data"
    },
    {
     "data": {
      "text/html": [
       "<style>\n",
       "    table.wandb td:nth-child(1) { padding: 0 10px; text-align: left ; width: auto;} td:nth-child(2) {text-align: left ; width: 100%}\n",
       "    .wandb-row { display: flex; flex-direction: row; flex-wrap: wrap; justify-content: flex-start; width: 100% }\n",
       "    .wandb-col { display: flex; flex-direction: column; flex-basis: 100%; flex: 1; padding: 10px; }\n",
       "    </style>\n",
       "<div class=\"wandb-row\"><div class=\"wandb-col\"><h3>Run history:</h3><br/><table class=\"wandb\"><tr><td>diease_outputs_accuracy</td><td>▁▇▇███████</td></tr><tr><td>diease_outputs_loss</td><td>█▃▂▁▁▁▁▁▁▁</td></tr><tr><td>epoch</td><td>▁▂▃▃▄▅▆▆▇█</td></tr><tr><td>grow_outputs_accuracy</td><td>▁▇▇█▇▇▇▇█▇</td></tr><tr><td>grow_outputs_loss</td><td>█▂▁▁▁▁▁▁▁▁</td></tr><tr><td>loss</td><td>█▂▂▁▁▁▁▁▁▁</td></tr><tr><td>val_diease_outputs_accuracy</td><td>▁▃█▇▆█▆▇▇▇</td></tr><tr><td>val_diease_outputs_loss</td><td>█▇▂▂▂▁▃▂▂▁</td></tr><tr><td>val_grow_outputs_accuracy</td><td>▅▅▄▁▇▇▆█▆▇</td></tr><tr><td>val_grow_outputs_loss</td><td>█▃▃▂▂▂▂▁▁▁</td></tr><tr><td>val_loss</td><td>█▅▃▂▂▁▂▁▁▁</td></tr></table><br/></div><div class=\"wandb-col\"><h3>Run summary:</h3><br/><table class=\"wandb\"><tr><td>best_epoch</td><td>9</td></tr><tr><td>best_val_loss</td><td>1.73767</td></tr><tr><td>diease_outputs_accuracy</td><td>0.68704</td></tr><tr><td>diease_outputs_loss</td><td>0.82164</td></tr><tr><td>epoch</td><td>9</td></tr><tr><td>grow_outputs_accuracy</td><td>0.51099</td></tr><tr><td>grow_outputs_loss</td><td>1.04658</td></tr><tr><td>loss</td><td>1.86822</td></tr><tr><td>val_diease_outputs_accuracy</td><td>0.71696</td></tr><tr><td>val_diease_outputs_loss</td><td>0.7523</td></tr><tr><td>val_grow_outputs_accuracy</td><td>0.53274</td></tr><tr><td>val_grow_outputs_loss</td><td>0.98537</td></tr><tr><td>val_loss</td><td>1.73767</td></tr></table><br/></div></div>"
      ],
      "text/plain": [
       "<IPython.core.display.HTML object>"
      ]
     },
     "metadata": {},
     "output_type": "display_data"
    },
    {
     "data": {
      "text/html": [
       "Synced <strong style=\"color:#cdcd00\">neat-sweep-22</strong>: <a href=\"https://wandb.ai/hkleee/strawberry/runs/lr8n375l\" target=\"_blank\">https://wandb.ai/hkleee/strawberry/runs/lr8n375l</a><br/>Synced 6 W&B file(s), 1 media file(s), 0 artifact file(s) and 1 other file(s)"
      ],
      "text/plain": [
       "<IPython.core.display.HTML object>"
      ]
     },
     "metadata": {},
     "output_type": "display_data"
    },
    {
     "data": {
      "text/html": [
       "Find logs at: <code>./wandb/run-20220618_071751-lr8n375l/logs</code>"
      ],
      "text/plain": [
       "<IPython.core.display.HTML object>"
      ]
     },
     "metadata": {},
     "output_type": "display_data"
    },
    {
     "name": "stderr",
     "output_type": "stream",
     "text": [
      "\u001b[34m\u001b[1mwandb\u001b[0m: Sweep Agent: Waiting for job.\n",
      "\u001b[34m\u001b[1mwandb\u001b[0m: Job received.\n",
      "\u001b[34m\u001b[1mwandb\u001b[0m: Agent Starting Run: kgqk8hkn with config:\n",
      "\u001b[34m\u001b[1mwandb\u001b[0m: \tactivation: softmax\n",
      "\u001b[34m\u001b[1mwandb\u001b[0m: \tbatch_size: 50\n",
      "\u001b[34m\u001b[1mwandb\u001b[0m: \tdense: 256\n",
      "\u001b[34m\u001b[1mwandb\u001b[0m: \tdropout: 0.2\n",
      "\u001b[34m\u001b[1mwandb\u001b[0m: \tlearning_rate: 0.0001\n",
      "\u001b[34m\u001b[1mwandb\u001b[0m: \toptimizer: rmsprop\n",
      "\u001b[34m\u001b[1mwandb\u001b[0m: \tpretrain_net: inception\n",
      "Failed to detect the name of this notebook, you can set it manually with the WANDB_NOTEBOOK_NAME environment variable to enable code saving.\n"
     ]
    },
    {
     "data": {
      "text/html": [
       "Tracking run with wandb version 0.12.18"
      ],
      "text/plain": [
       "<IPython.core.display.HTML object>"
      ]
     },
     "metadata": {},
     "output_type": "display_data"
    },
    {
     "data": {
      "text/html": [
       "Run data is saved locally in <code>/home/lab38/Multi_proj_6/model/multi-output/strawberry/sweep/wandb/run-20220618_081022-kgqk8hkn</code>"
      ],
      "text/plain": [
       "<IPython.core.display.HTML object>"
      ]
     },
     "metadata": {},
     "output_type": "display_data"
    },
    {
     "data": {
      "text/html": [
       "Syncing run <strong><a href=\"https://wandb.ai/hkleee/strawberry/runs/kgqk8hkn\" target=\"_blank\">northern-sweep-23</a></strong> to <a href=\"https://wandb.ai/hkleee/strawberry\" target=\"_blank\">Weights & Biases</a> (<a href=\"https://wandb.me/run\" target=\"_blank\">docs</a>)<br/>Sweep page:  <a href=\"https://wandb.ai/hkleee/strawberry/sweeps/natutesf\" target=\"_blank\">https://wandb.ai/hkleee/strawberry/sweeps/natutesf</a>"
      ],
      "text/plain": [
       "<IPython.core.display.HTML object>"
      ]
     },
     "metadata": {},
     "output_type": "display_data"
    },
    {
     "data": {
      "text/html": [
       "Finishing last run (ID:kgqk8hkn) before initializing another..."
      ],
      "text/plain": [
       "<IPython.core.display.HTML object>"
      ]
     },
     "metadata": {},
     "output_type": "display_data"
    },
    {
     "data": {
      "text/html": [
       "Waiting for W&B process to finish... <strong style=\"color:green\">(success).</strong>"
      ],
      "text/plain": [
       "<IPython.core.display.HTML object>"
      ]
     },
     "metadata": {},
     "output_type": "display_data"
    },
    {
     "data": {
      "text/html": [
       "Synced <strong style=\"color:#cdcd00\">northern-sweep-23</strong>: <a href=\"https://wandb.ai/hkleee/strawberry/runs/kgqk8hkn\" target=\"_blank\">https://wandb.ai/hkleee/strawberry/runs/kgqk8hkn</a><br/>Synced 5 W&B file(s), 0 media file(s), 0 artifact file(s) and 0 other file(s)"
      ],
      "text/plain": [
       "<IPython.core.display.HTML object>"
      ]
     },
     "metadata": {},
     "output_type": "display_data"
    },
    {
     "data": {
      "text/html": [
       "Find logs at: <code>./wandb/run-20220618_081022-kgqk8hkn/logs</code>"
      ],
      "text/plain": [
       "<IPython.core.display.HTML object>"
      ]
     },
     "metadata": {},
     "output_type": "display_data"
    },
    {
     "data": {
      "text/html": [
       "Successfully finished last run (ID:kgqk8hkn). Initializing new run:<br/>"
      ],
      "text/plain": [
       "<IPython.core.display.HTML object>"
      ]
     },
     "metadata": {},
     "output_type": "display_data"
    },
    {
     "data": {
      "text/html": [
       "Tracking run with wandb version 0.12.18"
      ],
      "text/plain": [
       "<IPython.core.display.HTML object>"
      ]
     },
     "metadata": {},
     "output_type": "display_data"
    },
    {
     "data": {
      "text/html": [
       "Run data is saved locally in <code>/home/lab38/Multi_proj_6/model/multi-output/strawberry/sweep/wandb/run-20220618_081027-kgqk8hkn</code>"
      ],
      "text/plain": [
       "<IPython.core.display.HTML object>"
      ]
     },
     "metadata": {},
     "output_type": "display_data"
    },
    {
     "data": {
      "text/html": [
       "Syncing run <strong><a href=\"https://wandb.ai/hkleee/strawberry/runs/kgqk8hkn\" target=\"_blank\">northern-sweep-23</a></strong> to <a href=\"https://wandb.ai/hkleee/strawberry\" target=\"_blank\">Weights & Biases</a> (<a href=\"https://wandb.me/run\" target=\"_blank\">docs</a>)<br/>Sweep page:  <a href=\"https://wandb.ai/hkleee/strawberry/sweeps/natutesf\" target=\"_blank\">https://wandb.ai/hkleee/strawberry/sweeps/natutesf</a>"
      ],
      "text/plain": [
       "<IPython.core.display.HTML object>"
      ]
     },
     "metadata": {},
     "output_type": "display_data"
    },
    {
     "name": "stdout",
     "output_type": "stream",
     "text": [
      "Found 13437 validated image filenames.\n",
      "Found 3360 validated image filenames.\n",
      "Epoch 1/10\n",
      "268/268 [==============================] - 332s 1s/step - loss: 2.9378 - diease_outputs_loss: 1.3496 - grow_outputs_loss: 1.5882 - diease_outputs_accuracy: 0.5024 - grow_outputs_accuracy: 0.3757 - val_loss: 2.8474 - val_diease_outputs_loss: 1.3028 - val_grow_outputs_loss: 1.5447 - val_diease_outputs_accuracy: 0.6012 - val_grow_outputs_accuracy: 0.4994\n",
      "Epoch 2/10\n",
      "268/268 [==============================] - 318s 1s/step - loss: 2.8289 - diease_outputs_loss: 1.2947 - grow_outputs_loss: 1.5342 - diease_outputs_accuracy: 0.6083 - grow_outputs_accuracy: 0.5144 - val_loss: 2.7715 - val_diease_outputs_loss: 1.2661 - val_grow_outputs_loss: 1.5054 - val_diease_outputs_accuracy: 0.6244 - val_grow_outputs_accuracy: 0.5774\n",
      "Epoch 3/10\n",
      "268/268 [==============================] - 321s 1s/step - loss: 2.7560 - diease_outputs_loss: 1.2578 - grow_outputs_loss: 1.4981 - diease_outputs_accuracy: 0.6290 - grow_outputs_accuracy: 0.5825 - val_loss: 2.7099 - val_diease_outputs_loss: 1.2290 - val_grow_outputs_loss: 1.4809 - val_diease_outputs_accuracy: 0.6399 - val_grow_outputs_accuracy: 0.5833\n",
      "Epoch 4/10\n",
      "268/268 [==============================] - 318s 1s/step - loss: 2.6944 - diease_outputs_loss: 1.2195 - grow_outputs_loss: 1.4749 - diease_outputs_accuracy: 0.6507 - grow_outputs_accuracy: 0.5874 - val_loss: 2.6497 - val_diease_outputs_loss: 1.1961 - val_grow_outputs_loss: 1.4536 - val_diease_outputs_accuracy: 0.6384 - val_grow_outputs_accuracy: 0.5967\n",
      "Epoch 5/10\n",
      "268/268 [==============================] - 318s 1s/step - loss: 2.6363 - diease_outputs_loss: 1.1899 - grow_outputs_loss: 1.4464 - diease_outputs_accuracy: 0.6475 - grow_outputs_accuracy: 0.6030 - val_loss: 2.5938 - val_diease_outputs_loss: 1.1671 - val_grow_outputs_loss: 1.4267 - val_diease_outputs_accuracy: 0.6506 - val_grow_outputs_accuracy: 0.5982\n",
      "Epoch 6/10\n",
      "268/268 [==============================] - 315s 1s/step - loss: 2.5819 - diease_outputs_loss: 1.1624 - grow_outputs_loss: 1.4196 - diease_outputs_accuracy: 0.6568 - grow_outputs_accuracy: 0.6061 - val_loss: 2.5386 - val_diease_outputs_loss: 1.1397 - val_grow_outputs_loss: 1.3989 - val_diease_outputs_accuracy: 0.6562 - val_grow_outputs_accuracy: 0.6054\n",
      "Epoch 7/10\n",
      "268/268 [==============================] - 317s 1s/step - loss: 2.5264 - diease_outputs_loss: 1.1346 - grow_outputs_loss: 1.3918 - diease_outputs_accuracy: 0.6722 - grow_outputs_accuracy: 0.6100 - val_loss: 2.4874 - val_diease_outputs_loss: 1.1111 - val_grow_outputs_loss: 1.3763 - val_diease_outputs_accuracy: 0.7182 - val_grow_outputs_accuracy: 0.6051\n",
      "Epoch 8/10\n",
      "268/268 [==============================] - 320s 1s/step - loss: 2.4827 - diease_outputs_loss: 1.1084 - grow_outputs_loss: 1.3744 - diease_outputs_accuracy: 0.7222 - grow_outputs_accuracy: 0.6016 - val_loss: 2.4371 - val_diease_outputs_loss: 1.0835 - val_grow_outputs_loss: 1.3536 - val_diease_outputs_accuracy: 0.7414 - val_grow_outputs_accuracy: 0.6077\n",
      "Epoch 9/10\n",
      "268/268 [==============================] - 319s 1s/step - loss: 2.4315 - diease_outputs_loss: 1.0795 - grow_outputs_loss: 1.3521 - diease_outputs_accuracy: 0.7394 - grow_outputs_accuracy: 0.6051 - val_loss: 2.3889 - val_diease_outputs_loss: 1.0558 - val_grow_outputs_loss: 1.3331 - val_diease_outputs_accuracy: 0.7509 - val_grow_outputs_accuracy: 0.6077\n",
      "Epoch 10/10\n",
      "268/268 [==============================] - 320s 1s/step - loss: 2.3804 - diease_outputs_loss: 1.0513 - grow_outputs_loss: 1.3291 - diease_outputs_accuracy: 0.7522 - grow_outputs_accuracy: 0.6070 - val_loss: 2.3417 - val_diease_outputs_loss: 1.0300 - val_grow_outputs_loss: 1.3117 - val_diease_outputs_accuracy: 0.7518 - val_grow_outputs_accuracy: 0.6101\n"
     ]
    },
    {
     "data": {
      "text/html": [
       "Waiting for W&B process to finish... <strong style=\"color:green\">(success).</strong>"
      ],
      "text/plain": [
       "<IPython.core.display.HTML object>"
      ]
     },
     "metadata": {},
     "output_type": "display_data"
    },
    {
     "data": {
      "text/html": [
       "<style>\n",
       "    table.wandb td:nth-child(1) { padding: 0 10px; text-align: left ; width: auto;} td:nth-child(2) {text-align: left ; width: 100%}\n",
       "    .wandb-row { display: flex; flex-direction: row; flex-wrap: wrap; justify-content: flex-start; width: 100% }\n",
       "    .wandb-col { display: flex; flex-direction: column; flex-basis: 100%; flex: 1; padding: 10px; }\n",
       "    </style>\n",
       "<div class=\"wandb-row\"><div class=\"wandb-col\"><h3>Run history:</h3><br/><table class=\"wandb\"><tr><td>diease_outputs_accuracy</td><td>▁▃▄▄▄▅▆▇██</td></tr><tr><td>diease_outputs_loss</td><td>█▇▆▅▄▄▃▂▂▁</td></tr><tr><td>epoch</td><td>▁▂▃▃▄▅▆▆▇█</td></tr><tr><td>grow_outputs_accuracy</td><td>▁▅▇▇██████</td></tr><tr><td>grow_outputs_loss</td><td>█▇▆▅▄▄▃▂▂▁</td></tr><tr><td>loss</td><td>█▇▆▅▄▄▃▂▂▁</td></tr><tr><td>val_diease_outputs_accuracy</td><td>▁▂▃▃▃▄▆███</td></tr><tr><td>val_diease_outputs_loss</td><td>█▇▆▅▅▄▃▂▂▁</td></tr><tr><td>val_grow_outputs_accuracy</td><td>▁▆▆▇▇█████</td></tr><tr><td>val_grow_outputs_loss</td><td>█▇▆▅▄▄▃▂▂▁</td></tr><tr><td>val_loss</td><td>█▇▆▅▄▄▃▂▂▁</td></tr></table><br/></div><div class=\"wandb-col\"><h3>Run summary:</h3><br/><table class=\"wandb\"><tr><td>best_epoch</td><td>9</td></tr><tr><td>best_val_loss</td><td>2.3417</td></tr><tr><td>diease_outputs_accuracy</td><td>0.75006</td></tr><tr><td>diease_outputs_loss</td><td>1.04678</td></tr><tr><td>epoch</td><td>9</td></tr><tr><td>grow_outputs_accuracy</td><td>0.61358</td></tr><tr><td>grow_outputs_loss</td><td>1.32201</td></tr><tr><td>loss</td><td>2.36878</td></tr><tr><td>val_diease_outputs_accuracy</td><td>0.75179</td></tr><tr><td>val_diease_outputs_loss</td><td>1.03001</td></tr><tr><td>val_grow_outputs_accuracy</td><td>0.61012</td></tr><tr><td>val_grow_outputs_loss</td><td>1.3117</td></tr><tr><td>val_loss</td><td>2.3417</td></tr></table><br/></div></div>"
      ],
      "text/plain": [
       "<IPython.core.display.HTML object>"
      ]
     },
     "metadata": {},
     "output_type": "display_data"
    },
    {
     "data": {
      "text/html": [
       "Synced <strong style=\"color:#cdcd00\">northern-sweep-23</strong>: <a href=\"https://wandb.ai/hkleee/strawberry/runs/kgqk8hkn\" target=\"_blank\">https://wandb.ai/hkleee/strawberry/runs/kgqk8hkn</a><br/>Synced 6 W&B file(s), 1 media file(s), 0 artifact file(s) and 1 other file(s)"
      ],
      "text/plain": [
       "<IPython.core.display.HTML object>"
      ]
     },
     "metadata": {},
     "output_type": "display_data"
    },
    {
     "data": {
      "text/html": [
       "Find logs at: <code>./wandb/run-20220618_081027-kgqk8hkn/logs</code>"
      ],
      "text/plain": [
       "<IPython.core.display.HTML object>"
      ]
     },
     "metadata": {},
     "output_type": "display_data"
    },
    {
     "name": "stderr",
     "output_type": "stream",
     "text": [
      "\u001b[34m\u001b[1mwandb\u001b[0m: Agent Starting Run: y3mrlkcy with config:\n",
      "\u001b[34m\u001b[1mwandb\u001b[0m: \tactivation: softmax\n",
      "\u001b[34m\u001b[1mwandb\u001b[0m: \tbatch_size: 50\n",
      "\u001b[34m\u001b[1mwandb\u001b[0m: \tdense: 32\n",
      "\u001b[34m\u001b[1mwandb\u001b[0m: \tdropout: 0.5\n",
      "\u001b[34m\u001b[1mwandb\u001b[0m: \tlearning_rate: 0.0001\n",
      "\u001b[34m\u001b[1mwandb\u001b[0m: \toptimizer: sgd\n",
      "\u001b[34m\u001b[1mwandb\u001b[0m: \tpretrain_net: resnet\n",
      "Failed to detect the name of this notebook, you can set it manually with the WANDB_NOTEBOOK_NAME environment variable to enable code saving.\n"
     ]
    },
    {
     "data": {
      "text/html": [
       "Tracking run with wandb version 0.12.18"
      ],
      "text/plain": [
       "<IPython.core.display.HTML object>"
      ]
     },
     "metadata": {},
     "output_type": "display_data"
    },
    {
     "data": {
      "text/html": [
       "Run data is saved locally in <code>/home/lab38/Multi_proj_6/model/multi-output/strawberry/sweep/wandb/run-20220618_090429-y3mrlkcy</code>"
      ],
      "text/plain": [
       "<IPython.core.display.HTML object>"
      ]
     },
     "metadata": {},
     "output_type": "display_data"
    },
    {
     "data": {
      "text/html": [
       "Syncing run <strong><a href=\"https://wandb.ai/hkleee/strawberry/runs/y3mrlkcy\" target=\"_blank\">splendid-sweep-24</a></strong> to <a href=\"https://wandb.ai/hkleee/strawberry\" target=\"_blank\">Weights & Biases</a> (<a href=\"https://wandb.me/run\" target=\"_blank\">docs</a>)<br/>Sweep page:  <a href=\"https://wandb.ai/hkleee/strawberry/sweeps/natutesf\" target=\"_blank\">https://wandb.ai/hkleee/strawberry/sweeps/natutesf</a>"
      ],
      "text/plain": [
       "<IPython.core.display.HTML object>"
      ]
     },
     "metadata": {},
     "output_type": "display_data"
    },
    {
     "data": {
      "text/html": [
       "Finishing last run (ID:y3mrlkcy) before initializing another..."
      ],
      "text/plain": [
       "<IPython.core.display.HTML object>"
      ]
     },
     "metadata": {},
     "output_type": "display_data"
    },
    {
     "data": {
      "text/html": [
       "Waiting for W&B process to finish... <strong style=\"color:green\">(success).</strong>"
      ],
      "text/plain": [
       "<IPython.core.display.HTML object>"
      ]
     },
     "metadata": {},
     "output_type": "display_data"
    },
    {
     "data": {
      "text/html": [
       "Synced <strong style=\"color:#cdcd00\">splendid-sweep-24</strong>: <a href=\"https://wandb.ai/hkleee/strawberry/runs/y3mrlkcy\" target=\"_blank\">https://wandb.ai/hkleee/strawberry/runs/y3mrlkcy</a><br/>Synced 5 W&B file(s), 0 media file(s), 0 artifact file(s) and 0 other file(s)"
      ],
      "text/plain": [
       "<IPython.core.display.HTML object>"
      ]
     },
     "metadata": {},
     "output_type": "display_data"
    },
    {
     "data": {
      "text/html": [
       "Find logs at: <code>./wandb/run-20220618_090429-y3mrlkcy/logs</code>"
      ],
      "text/plain": [
       "<IPython.core.display.HTML object>"
      ]
     },
     "metadata": {},
     "output_type": "display_data"
    },
    {
     "data": {
      "text/html": [
       "Successfully finished last run (ID:y3mrlkcy). Initializing new run:<br/>"
      ],
      "text/plain": [
       "<IPython.core.display.HTML object>"
      ]
     },
     "metadata": {},
     "output_type": "display_data"
    },
    {
     "data": {
      "text/html": [
       "Tracking run with wandb version 0.12.18"
      ],
      "text/plain": [
       "<IPython.core.display.HTML object>"
      ]
     },
     "metadata": {},
     "output_type": "display_data"
    },
    {
     "data": {
      "text/html": [
       "Run data is saved locally in <code>/home/lab38/Multi_proj_6/model/multi-output/strawberry/sweep/wandb/run-20220618_090434-y3mrlkcy</code>"
      ],
      "text/plain": [
       "<IPython.core.display.HTML object>"
      ]
     },
     "metadata": {},
     "output_type": "display_data"
    },
    {
     "data": {
      "text/html": [
       "Syncing run <strong><a href=\"https://wandb.ai/hkleee/strawberry/runs/y3mrlkcy\" target=\"_blank\">splendid-sweep-24</a></strong> to <a href=\"https://wandb.ai/hkleee/strawberry\" target=\"_blank\">Weights & Biases</a> (<a href=\"https://wandb.me/run\" target=\"_blank\">docs</a>)<br/>Sweep page:  <a href=\"https://wandb.ai/hkleee/strawberry/sweeps/natutesf\" target=\"_blank\">https://wandb.ai/hkleee/strawberry/sweeps/natutesf</a>"
      ],
      "text/plain": [
       "<IPython.core.display.HTML object>"
      ]
     },
     "metadata": {},
     "output_type": "display_data"
    },
    {
     "name": "stdout",
     "output_type": "stream",
     "text": [
      "Found 13437 validated image filenames.\n",
      "Found 3360 validated image filenames.\n",
      "Epoch 1/10\n",
      "246/268 [==========================>...] - ETA: 23s - loss: 3.0004 - diease_outputs_loss: 1.3778 - grow_outputs_loss: 1.6226 - diease_outputs_accuracy: 0.2767 - grow_outputs_accuracy: 0.1779"
     ]
    },
    {
     "name": "stderr",
     "output_type": "stream",
     "text": [
      "wandb: ERROR Dropped streaming file chunk (see wandb/debug-internal.log)\n",
      "ERROR:root:dropped chunk 404 Client Error: Not Found for url: https://api.wandb.ai/files/hkleee/strawberry/y3mrlkcy/file_stream\n",
      "NoneType: None\n"
     ]
    },
    {
     "name": "stdout",
     "output_type": "stream",
     "text": [
      "255/268 [===========================>..] - ETA: 13s - loss: 3.0003 - diease_outputs_loss: 1.3778 - grow_outputs_loss: 1.6226 - diease_outputs_accuracy: 0.2765 - grow_outputs_accuracy: 0.1780"
     ]
    },
    {
     "name": "stderr",
     "output_type": "stream",
     "text": [
      "wandb: ERROR Dropped streaming file chunk (see wandb/debug-internal.log)\n",
      "ERROR:root:dropped chunk 404 Client Error: Not Found for url: https://api.wandb.ai/files/hkleee/strawberry/y3mrlkcy/file_stream\n",
      "NoneType: None\n"
     ]
    },
    {
     "name": "stdout",
     "output_type": "stream",
     "text": [
      "265/268 [============================>.] - ETA: 3s - loss: 3.0003 - diease_outputs_loss: 1.3778 - grow_outputs_loss: 1.6225 - diease_outputs_accuracy: 0.2763 - grow_outputs_accuracy: 0.1781"
     ]
    },
    {
     "name": "stderr",
     "output_type": "stream",
     "text": [
      "wandb: ERROR Dropped streaming file chunk (see wandb/debug-internal.log)\n",
      "ERROR:root:dropped chunk 404 Client Error: Not Found for url: https://api.wandb.ai/files/hkleee/strawberry/y3mrlkcy/file_stream\n",
      "NoneType: None\n",
      "wandb: ERROR Dropped streaming file chunk (see wandb/debug-internal.log)\n",
      "ERROR:root:dropped chunk 404 Client Error: Not Found for url: https://api.wandb.ai/files/hkleee/strawberry/y3mrlkcy/file_stream\n",
      "NoneType: None\n"
     ]
    },
    {
     "name": "stdout",
     "output_type": "stream",
     "text": [
      "268/268 [==============================] - 300s 1s/step - loss: 3.0003 - diease_outputs_loss: 1.3778 - grow_outputs_loss: 1.6225 - diease_outputs_accuracy: 0.2763 - grow_outputs_accuracy: 0.1781 - val_loss: 2.9932 - val_diease_outputs_loss: 1.3745 - val_grow_outputs_loss: 1.6187 - val_diease_outputs_accuracy: 0.2658 - val_grow_outputs_accuracy: 0.2295\n",
      "Epoch 2/10\n"
     ]
    },
    {
     "name": "stderr",
     "output_type": "stream",
     "text": [
      "Exception in thread Thread-13:\n",
      "Traceback (most recent call last):\n",
      "  File \"/home/ubuntu/anaconda3/envs/smartpot/lib/python3.9/site-packages/wandb/apis/normalize.py\", line 22, in wrapper\n",
      "    return func(*args, **kwargs)\n",
      "  File \"/home/ubuntu/anaconda3/envs/smartpot/lib/python3.9/site-packages/wandb/sdk/internal/internal_api.py\", line 1434, in upload_urls\n",
      "    raise CommError(f\"Run does not exist {entity}/{project}/{run_id}.\")\n",
      "wandb.errors.CommError: Run does not exist hkleee/strawberry/y3mrlkcy.\n",
      "\n",
      "During handling of the above exception, another exception occurred:\n",
      "\n",
      "Traceback (most recent call last):\n",
      "  File \"/home/ubuntu/anaconda3/envs/smartpot/lib/python3.9/threading.py\", line 973, in _bootstrap_inner\n",
      "    self.run()\n",
      "  File \"/home/ubuntu/anaconda3/envs/smartpot/lib/python3.9/site-packages/wandb/filesync/upload_job.py\", line 56, in run\n",
      "    success = self.push()\n",
      "  File \"/home/ubuntu/anaconda3/envs/smartpot/lib/python3.9/site-packages/wandb/filesync/upload_job.py\", line 107, in push\n",
      "    _, upload_headers, result = self._api.upload_urls(project, [self.save_name])\n",
      "  File \"/home/ubuntu/anaconda3/envs/smartpot/lib/python3.9/site-packages/wandb/apis/normalize.py\", line 58, in wrapper\n",
      "    raise CommError(message, err).with_traceback(sys.exc_info()[2])\n",
      "  File \"/home/ubuntu/anaconda3/envs/smartpot/lib/python3.9/site-packages/wandb/apis/normalize.py\", line 22, in wrapper\n",
      "    return func(*args, **kwargs)\n",
      "  File \"/home/ubuntu/anaconda3/envs/smartpot/lib/python3.9/site-packages/wandb/sdk/internal/internal_api.py\", line 1434, in upload_urls\n",
      "    raise CommError(f\"Run does not exist {entity}/{project}/{run_id}.\")\n",
      "wandb.errors.CommError: Run does not exist hkleee/strawberry/y3mrlkcy.\n"
     ]
    },
    {
     "name": "stdout",
     "output_type": "stream",
     "text": [
      " 11/268 [>.............................] - ETA: 4:31 - loss: 2.9962 - diease_outputs_loss: 1.3716 - grow_outputs_loss: 1.6247 - diease_outputs_accuracy: 0.2883 - grow_outputs_accuracy: 0.1501"
     ]
    },
    {
     "name": "stderr",
     "output_type": "stream",
     "text": [
      "wandb: ERROR Dropped streaming file chunk (see wandb/debug-internal.log)\n",
      "ERROR:root:dropped chunk 404 Client Error: Not Found for url: https://api.wandb.ai/files/hkleee/strawberry/y3mrlkcy/file_stream\n",
      "NoneType: None\n",
      "wandb: ERROR Dropped streaming file chunk (see wandb/debug-internal.log)\n",
      "ERROR:root:dropped chunk 404 Client Error: Not Found for url: https://api.wandb.ai/files/hkleee/strawberry/y3mrlkcy/file_stream\n",
      "NoneType: None\n"
     ]
    },
    {
     "name": "stdout",
     "output_type": "stream",
     "text": [
      " 39/268 [===>..........................] - ETA: 4:01 - loss: 2.9957 - diease_outputs_loss: 1.3718 - grow_outputs_loss: 1.6239 - diease_outputs_accuracy: 0.2846 - grow_outputs_accuracy: 0.1615"
     ]
    },
    {
     "name": "stderr",
     "output_type": "stream",
     "text": [
      "wandb: ERROR Dropped streaming file chunk (see wandb/debug-internal.log)\n",
      "ERROR:root:dropped chunk 404 Client Error: Not Found for url: https://api.wandb.ai/files/hkleee/strawberry/y3mrlkcy/file_stream\n",
      "NoneType: None\n"
     ]
    },
    {
     "name": "stdout",
     "output_type": "stream",
     "text": [
      " 68/268 [======>.......................] - ETA: 3:30 - loss: 2.9959 - diease_outputs_loss: 1.3725 - grow_outputs_loss: 1.6234 - diease_outputs_accuracy: 0.2823 - grow_outputs_accuracy: 0.1644"
     ]
    },
    {
     "name": "stderr",
     "output_type": "stream",
     "text": [
      "wandb: ERROR Dropped streaming file chunk (see wandb/debug-internal.log)\n",
      "ERROR:root:dropped chunk 404 Client Error: Not Found for url: https://api.wandb.ai/files/hkleee/strawberry/y3mrlkcy/file_stream\n",
      "NoneType: None\n",
      "wandb: ERROR Dropped streaming file chunk (see wandb/debug-internal.log)\n",
      "ERROR:root:dropped chunk 404 Client Error: Not Found for url: https://api.wandb.ai/files/hkleee/strawberry/y3mrlkcy/file_stream\n",
      "NoneType: None\n"
     ]
    },
    {
     "name": "stdout",
     "output_type": "stream",
     "text": [
      " 96/268 [=========>....................] - ETA: 3:01 - loss: 2.9959 - diease_outputs_loss: 1.3728 - grow_outputs_loss: 1.6231 - diease_outputs_accuracy: 0.2813 - grow_outputs_accuracy: 0.1678"
     ]
    },
    {
     "name": "stderr",
     "output_type": "stream",
     "text": [
      "wandb: ERROR Dropped streaming file chunk (see wandb/debug-internal.log)\n",
      "ERROR:root:dropped chunk 404 Client Error: Not Found for url: https://api.wandb.ai/files/hkleee/strawberry/y3mrlkcy/file_stream\n",
      "NoneType: None\n",
      "wandb: ERROR Dropped streaming file chunk (see wandb/debug-internal.log)\n",
      "ERROR:root:dropped chunk 404 Client Error: Not Found for url: https://api.wandb.ai/files/hkleee/strawberry/y3mrlkcy/file_stream\n",
      "NoneType: None\n"
     ]
    },
    {
     "name": "stdout",
     "output_type": "stream",
     "text": [
      "125/268 [============>.................] - ETA: 2:30 - loss: 2.9957 - diease_outputs_loss: 1.3729 - grow_outputs_loss: 1.6227 - diease_outputs_accuracy: 0.2804 - grow_outputs_accuracy: 0.1706"
     ]
    },
    {
     "name": "stderr",
     "output_type": "stream",
     "text": [
      "wandb: ERROR Dropped streaming file chunk (see wandb/debug-internal.log)\n",
      "ERROR:root:dropped chunk 404 Client Error: Not Found for url: https://api.wandb.ai/files/hkleee/strawberry/y3mrlkcy/file_stream\n",
      "NoneType: None\n",
      "wandb: ERROR Dropped streaming file chunk (see wandb/debug-internal.log)\n",
      "ERROR:root:dropped chunk 404 Client Error: Not Found for url: https://api.wandb.ai/files/hkleee/strawberry/y3mrlkcy/file_stream\n",
      "NoneType: None\n"
     ]
    },
    {
     "name": "stdout",
     "output_type": "stream",
     "text": [
      "154/268 [================>.............] - ETA: 1:59 - loss: 2.9954 - diease_outputs_loss: 1.3729 - grow_outputs_loss: 1.6225 - diease_outputs_accuracy: 0.2801 - grow_outputs_accuracy: 0.1725"
     ]
    },
    {
     "name": "stderr",
     "output_type": "stream",
     "text": [
      "wandb: ERROR Dropped streaming file chunk (see wandb/debug-internal.log)\n",
      "ERROR:root:dropped chunk 404 Client Error: Not Found for url: https://api.wandb.ai/files/hkleee/strawberry/y3mrlkcy/file_stream\n",
      "NoneType: None\n",
      "wandb: ERROR Dropped streaming file chunk (see wandb/debug-internal.log)\n",
      "ERROR:root:dropped chunk 404 Client Error: Not Found for url: https://api.wandb.ai/files/hkleee/strawberry/y3mrlkcy/file_stream\n",
      "NoneType: None\n"
     ]
    },
    {
     "name": "stdout",
     "output_type": "stream",
     "text": [
      "182/268 [===================>..........] - ETA: 1:30 - loss: 2.9952 - diease_outputs_loss: 1.3730 - grow_outputs_loss: 1.6222 - diease_outputs_accuracy: 0.2795 - grow_outputs_accuracy: 0.1743"
     ]
    },
    {
     "name": "stderr",
     "output_type": "stream",
     "text": [
      "wandb: ERROR Dropped streaming file chunk (see wandb/debug-internal.log)\n",
      "ERROR:root:dropped chunk 404 Client Error: Not Found for url: https://api.wandb.ai/files/hkleee/strawberry/y3mrlkcy/file_stream\n",
      "NoneType: None\n",
      "wandb: ERROR Dropped streaming file chunk (see wandb/debug-internal.log)\n",
      "ERROR:root:dropped chunk 404 Client Error: Not Found for url: https://api.wandb.ai/files/hkleee/strawberry/y3mrlkcy/file_stream\n",
      "NoneType: None\n"
     ]
    },
    {
     "name": "stdout",
     "output_type": "stream",
     "text": [
      "210/268 [======================>.......] - ETA: 1:01 - loss: 2.9949 - diease_outputs_loss: 1.3729 - grow_outputs_loss: 1.6220 - diease_outputs_accuracy: 0.2793 - grow_outputs_accuracy: 0.1757"
     ]
    },
    {
     "name": "stderr",
     "output_type": "stream",
     "text": [
      "wandb: ERROR Dropped streaming file chunk (see wandb/debug-internal.log)\n",
      "ERROR:root:dropped chunk 404 Client Error: Not Found for url: https://api.wandb.ai/files/hkleee/strawberry/y3mrlkcy/file_stream\n",
      "NoneType: None\n",
      "wandb: ERROR Dropped streaming file chunk (see wandb/debug-internal.log)\n",
      "ERROR:root:dropped chunk 404 Client Error: Not Found for url: https://api.wandb.ai/files/hkleee/strawberry/y3mrlkcy/file_stream\n",
      "NoneType: None\n"
     ]
    },
    {
     "name": "stdout",
     "output_type": "stream",
     "text": [
      "239/268 [=========================>....] - ETA: 30s - loss: 2.9946 - diease_outputs_loss: 1.3729 - grow_outputs_loss: 1.6217 - diease_outputs_accuracy: 0.2792 - grow_outputs_accuracy: 0.1769"
     ]
    },
    {
     "name": "stderr",
     "output_type": "stream",
     "text": [
      "wandb: ERROR Dropped streaming file chunk (see wandb/debug-internal.log)\n",
      "ERROR:root:dropped chunk 404 Client Error: Not Found for url: https://api.wandb.ai/files/hkleee/strawberry/y3mrlkcy/file_stream\n",
      "NoneType: None\n",
      "wandb: ERROR Dropped streaming file chunk (see wandb/debug-internal.log)\n",
      "ERROR:root:dropped chunk 404 Client Error: Not Found for url: https://api.wandb.ai/files/hkleee/strawberry/y3mrlkcy/file_stream\n",
      "NoneType: None\n"
     ]
    },
    {
     "name": "stdout",
     "output_type": "stream",
     "text": [
      "267/268 [============================>.] - ETA: 1s - loss: 2.9944 - diease_outputs_loss: 1.3728 - grow_outputs_loss: 1.6215 - diease_outputs_accuracy: 0.2791 - grow_outputs_accuracy: 0.1780"
     ]
    },
    {
     "name": "stderr",
     "output_type": "stream",
     "text": [
      "wandb: ERROR Dropped streaming file chunk (see wandb/debug-internal.log)\n",
      "ERROR:root:dropped chunk 404 Client Error: Not Found for url: https://api.wandb.ai/files/hkleee/strawberry/y3mrlkcy/file_stream\n",
      "NoneType: None\n",
      "wandb: ERROR Dropped streaming file chunk (see wandb/debug-internal.log)\n",
      "ERROR:root:dropped chunk 404 Client Error: Not Found for url: https://api.wandb.ai/files/hkleee/strawberry/y3mrlkcy/file_stream\n",
      "NoneType: None\n"
     ]
    },
    {
     "name": "stdout",
     "output_type": "stream",
     "text": [
      "268/268 [==============================] - 297s 1s/step - loss: 2.9944 - diease_outputs_loss: 1.3728 - grow_outputs_loss: 1.6215 - diease_outputs_accuracy: 0.2791 - grow_outputs_accuracy: 0.1781 - val_loss: 2.9862 - val_diease_outputs_loss: 1.3709 - val_grow_outputs_loss: 1.6153 - val_diease_outputs_accuracy: 0.2658 - val_grow_outputs_accuracy: 0.2295\n",
      "Epoch 3/10\n",
      " 14/268 [>.............................] - ETA: 4:25 - loss: 2.9772 - diease_outputs_loss: 1.3681 - grow_outputs_loss: 1.6091 - diease_outputs_accuracy: 0.3023 - grow_outputs_accuracy: 0.2381"
     ]
    },
    {
     "name": "stderr",
     "output_type": "stream",
     "text": [
      "wandb: ERROR Dropped streaming file chunk (see wandb/debug-internal.log)\n",
      "ERROR:root:dropped chunk 404 Client Error: Not Found for url: https://api.wandb.ai/files/hkleee/strawberry/y3mrlkcy/file_stream\n",
      "NoneType: None\n",
      "wandb: ERROR Dropped streaming file chunk (see wandb/debug-internal.log)\n",
      "ERROR:root:dropped chunk 404 Client Error: Not Found for url: https://api.wandb.ai/files/hkleee/strawberry/y3mrlkcy/file_stream\n",
      "NoneType: None\n"
     ]
    },
    {
     "name": "stdout",
     "output_type": "stream",
     "text": [
      " 43/268 [===>..........................] - ETA: 3:54 - loss: 2.9819 - diease_outputs_loss: 1.3679 - grow_outputs_loss: 1.6139 - diease_outputs_accuracy: 0.3045 - grow_outputs_accuracy: 0.2151"
     ]
    },
    {
     "name": "stderr",
     "output_type": "stream",
     "text": [
      "wandb: ERROR Dropped streaming file chunk (see wandb/debug-internal.log)\n",
      "ERROR:root:dropped chunk 404 Client Error: Not Found for url: https://api.wandb.ai/files/hkleee/strawberry/y3mrlkcy/file_stream\n",
      "NoneType: None\n"
     ]
    },
    {
     "name": "stdout",
     "output_type": "stream",
     "text": [
      " 71/268 [======>.......................] - ETA: 3:26 - loss: 2.9836 - diease_outputs_loss: 1.3683 - grow_outputs_loss: 1.6153 - diease_outputs_accuracy: 0.3014 - grow_outputs_accuracy: 0.2077"
     ]
    },
    {
     "name": "stderr",
     "output_type": "stream",
     "text": [
      "wandb: ERROR Dropped streaming file chunk (see wandb/debug-internal.log)\n",
      "ERROR:root:dropped chunk 404 Client Error: Not Found for url: https://api.wandb.ai/files/hkleee/strawberry/y3mrlkcy/file_stream\n",
      "NoneType: None\n"
     ]
    },
    {
     "name": "stdout",
     "output_type": "stream",
     "text": [
      "\b\b\b\b\b\b\b\b\b\b\b\b\b\b\b\b\b\b\b\b\b\b\b\b\b\b\b\b\b\b\b\b\b\b\b\b\b\b\b\b\b\b\b\b\b\b\b\b\b\b\b\b\b\b\b\b\b\b\b\b\b\b\b\b\b\b\b\b\b\b\b\b\b\b\b\b\b\b\b\b\b\b\b\b\b\b\b\b\b\b\b\b\b\b\b\b\b\b\b\b\b\b\b\b\b\b\b\b\b\b\b\b\b\b\b\b\b\b\b\b\b\b\b\b\b\b\b\b\b\b\b\b\b\b\b\b\b\b\b\b\b\b\b\b\b\b\b\b\b\b\b\b\b\b\b\b\b\b\b\b\b\b\b\b\b\b\b\b\b\b\b\b\b\b\b\b\b\b\b\b\b\b\b\b\b\b\b\b\b\b\b\r",
      " 72/268 [=======>......................] - ETA: 3:24 - loss: 2.9837 - diease_outputs_loss: 1.3683 - grow_outputs_loss: 1.6154 - diease_outputs_accuracy: 0.3013 - grow_outputs_accuracy: 0.2075"
     ]
    },
    {
     "name": "stderr",
     "output_type": "stream",
     "text": [
      "wandb: ERROR Dropped streaming file chunk (see wandb/debug-internal.log)\n",
      "ERROR:root:dropped chunk 404 Client Error: Not Found for url: https://api.wandb.ai/files/hkleee/strawberry/y3mrlkcy/file_stream\n",
      "NoneType: None\n"
     ]
    },
    {
     "name": "stdout",
     "output_type": "stream",
     "text": [
      "100/268 [==========>...................] - ETA: 2:55 - loss: 2.9844 - diease_outputs_loss: 1.3686 - grow_outputs_loss: 1.6159 - diease_outputs_accuracy: 0.2983 - grow_outputs_accuracy: 0.2046"
     ]
    },
    {
     "name": "stderr",
     "output_type": "stream",
     "text": [
      "wandb: ERROR Dropped streaming file chunk (see wandb/debug-internal.log)\n",
      "ERROR:root:dropped chunk 404 Client Error: Not Found for url: https://api.wandb.ai/files/hkleee/strawberry/y3mrlkcy/file_stream\n",
      "NoneType: None\n",
      "wandb: ERROR Dropped streaming file chunk (see wandb/debug-internal.log)\n",
      "ERROR:root:dropped chunk 404 Client Error: Not Found for url: https://api.wandb.ai/files/hkleee/strawberry/y3mrlkcy/file_stream\n",
      "NoneType: None\n"
     ]
    },
    {
     "name": "stdout",
     "output_type": "stream",
     "text": [
      "129/268 [=============>................] - ETA: 2:24 - loss: 2.9847 - diease_outputs_loss: 1.3687 - grow_outputs_loss: 1.6160 - diease_outputs_accuracy: 0.2963 - grow_outputs_accuracy: 0.2032"
     ]
    },
    {
     "name": "stderr",
     "output_type": "stream",
     "text": [
      "wandb: ERROR Dropped streaming file chunk (see wandb/debug-internal.log)\n",
      "ERROR:root:dropped chunk 404 Client Error: Not Found for url: https://api.wandb.ai/files/hkleee/strawberry/y3mrlkcy/file_stream\n",
      "NoneType: None\n",
      "wandb: ERROR Dropped streaming file chunk (see wandb/debug-internal.log)\n",
      "ERROR:root:dropped chunk 404 Client Error: Not Found for url: https://api.wandb.ai/files/hkleee/strawberry/y3mrlkcy/file_stream\n",
      "NoneType: None\n"
     ]
    },
    {
     "name": "stdout",
     "output_type": "stream",
     "text": [
      "158/268 [================>.............] - ETA: 1:54 - loss: 2.9848 - diease_outputs_loss: 1.3687 - grow_outputs_loss: 1.6161 - diease_outputs_accuracy: 0.2948 - grow_outputs_accuracy: 0.2022"
     ]
    },
    {
     "name": "stderr",
     "output_type": "stream",
     "text": [
      "wandb: ERROR Dropped streaming file chunk (see wandb/debug-internal.log)\n",
      "ERROR:root:dropped chunk 404 Client Error: Not Found for url: https://api.wandb.ai/files/hkleee/strawberry/y3mrlkcy/file_stream\n",
      "NoneType: None\n",
      "wandb: ERROR Dropped streaming file chunk (see wandb/debug-internal.log)\n",
      "ERROR:root:dropped chunk 404 Client Error: Not Found for url: https://api.wandb.ai/files/hkleee/strawberry/y3mrlkcy/file_stream\n",
      "NoneType: None\n"
     ]
    },
    {
     "name": "stdout",
     "output_type": "stream",
     "text": [
      "187/268 [===================>..........] - ETA: 1:24 - loss: 2.9850 - diease_outputs_loss: 1.3688 - grow_outputs_loss: 1.6162 - diease_outputs_accuracy: 0.2931 - grow_outputs_accuracy: 0.2014"
     ]
    },
    {
     "name": "stderr",
     "output_type": "stream",
     "text": [
      "wandb: ERROR Dropped streaming file chunk (see wandb/debug-internal.log)\n",
      "ERROR:root:dropped chunk 404 Client Error: Not Found for url: https://api.wandb.ai/files/hkleee/strawberry/y3mrlkcy/file_stream\n",
      "NoneType: None\n",
      "wandb: ERROR Dropped streaming file chunk (see wandb/debug-internal.log)\n",
      "ERROR:root:dropped chunk 404 Client Error: Not Found for url: https://api.wandb.ai/files/hkleee/strawberry/y3mrlkcy/file_stream\n",
      "NoneType: None\n"
     ]
    },
    {
     "name": "stdout",
     "output_type": "stream",
     "text": [
      "216/268 [=======================>......] - ETA: 54s - loss: 2.9852 - diease_outputs_loss: 1.3689 - grow_outputs_loss: 1.6163 - diease_outputs_accuracy: 0.2914 - grow_outputs_accuracy: 0.2009"
     ]
    },
    {
     "name": "stderr",
     "output_type": "stream",
     "text": [
      "wandb: ERROR Dropped streaming file chunk (see wandb/debug-internal.log)\n",
      "ERROR:root:dropped chunk 404 Client Error: Not Found for url: https://api.wandb.ai/files/hkleee/strawberry/y3mrlkcy/file_stream\n",
      "NoneType: None\n",
      "wandb: ERROR Dropped streaming file chunk (see wandb/debug-internal.log)\n",
      "ERROR:root:dropped chunk 404 Client Error: Not Found for url: https://api.wandb.ai/files/hkleee/strawberry/y3mrlkcy/file_stream\n",
      "NoneType: None\n"
     ]
    },
    {
     "name": "stdout",
     "output_type": "stream",
     "text": [
      "244/268 [==========================>...] - ETA: 25s - loss: 2.9852 - diease_outputs_loss: 1.3690 - grow_outputs_loss: 1.6163 - diease_outputs_accuracy: 0.2900 - grow_outputs_accuracy: 0.2007"
     ]
    },
    {
     "name": "stderr",
     "output_type": "stream",
     "text": [
      "wandb: ERROR Dropped streaming file chunk (see wandb/debug-internal.log)\n",
      "ERROR:root:dropped chunk 404 Client Error: Not Found for url: https://api.wandb.ai/files/hkleee/strawberry/y3mrlkcy/file_stream\n",
      "NoneType: None\n",
      "wandb: ERROR Dropped streaming file chunk (see wandb/debug-internal.log)\n",
      "ERROR:root:dropped chunk 404 Client Error: Not Found for url: https://api.wandb.ai/files/hkleee/strawberry/y3mrlkcy/file_stream\n",
      "NoneType: None\n"
     ]
    },
    {
     "name": "stdout",
     "output_type": "stream",
     "text": [
      "268/268 [==============================] - 295s 1s/step - loss: 2.9853 - diease_outputs_loss: 1.3690 - grow_outputs_loss: 1.6163 - diease_outputs_accuracy: 0.2890 - grow_outputs_accuracy: 0.2006 - val_loss: 2.9793 - val_diease_outputs_loss: 1.3672 - val_grow_outputs_loss: 1.6122 - val_diease_outputs_accuracy: 0.2658 - val_grow_outputs_accuracy: 0.2295\n"
     ]
    },
    {
     "name": "stderr",
     "output_type": "stream",
     "text": [
      "wandb: ERROR Dropped streaming file chunk (see wandb/debug-internal.log)\n",
      "ERROR:root:dropped chunk 404 Client Error: Not Found for url: https://api.wandb.ai/files/hkleee/strawberry/y3mrlkcy/file_stream\n",
      "NoneType: None\n",
      "wandb: ERROR Dropped streaming file chunk (see wandb/debug-internal.log)\n",
      "ERROR:root:dropped chunk 404 Client Error: Not Found for url: https://api.wandb.ai/files/hkleee/strawberry/y3mrlkcy/file_stream\n",
      "NoneType: None\n"
     ]
    },
    {
     "name": "stdout",
     "output_type": "stream",
     "text": [
      "Epoch 4/10\n",
      " 28/268 [==>...........................] - ETA: 4:12 - loss: 2.9843 - diease_outputs_loss: 1.3673 - grow_outputs_loss: 1.6170 - diease_outputs_accuracy: 0.2724 - grow_outputs_accuracy: 0.2121"
     ]
    },
    {
     "name": "stderr",
     "output_type": "stream",
     "text": [
      "wandb: ERROR Dropped streaming file chunk (see wandb/debug-internal.log)\n",
      "ERROR:root:dropped chunk 404 Client Error: Not Found for url: https://api.wandb.ai/files/hkleee/strawberry/y3mrlkcy/file_stream\n",
      "NoneType: None\n",
      "wandb: ERROR Dropped streaming file chunk (see wandb/debug-internal.log)\n"
     ]
    },
    {
     "name": "stdout",
     "output_type": "stream",
     "text": [
      "\b\b\b\b\b\b\b\b\b\b\b\b\b\b\b\b\b\b\b\b\b\b\b\b\b\b\b\b\b\b\b\b\b\b\b\b\b\b\b\b\b\b\b\b\b\b\b\b\b\b\b\b\b\b\b\b\b\b\b\b\b\b\b\b\b\b\b\b\b\b\b\b\b\b\b\b\b\b\b\b\b\b\b\b\b\b\b\b\b\b\b\b\b\b\b\b\b\b\b\b\b\b\b\b\b\b\b\b\b\b\b\b\b\b\b\b\b\b\b\b\b\b\b\b\b\b\b\b\b\b\b\b\b\b\b\b\b\b\b\b\b\b\b\b\b\b\b\b\b\b\b\b\b\b\b\b\b\b\b\b\b\b\b\b\b\b\b\b\b\b\b\b\b\b\b\b\b\b\b\b\b\b\b\b\b\b\b\b\b\b\b\r",
      " 29/268 [==>...........................] - ETA: 4:11 - loss: 2.9842 - diease_outputs_loss: 1.3673 - grow_outputs_loss: 1.6169 - diease_outputs_accuracy: 0.2723 - grow_outputs_accuracy: 0.2122"
     ]
    },
    {
     "name": "stderr",
     "output_type": "stream",
     "text": [
      "ERROR:root:dropped chunk 404 Client Error: Not Found for url: https://api.wandb.ai/files/hkleee/strawberry/y3mrlkcy/file_stream\n",
      "NoneType: None\n"
     ]
    },
    {
     "name": "stdout",
     "output_type": "stream",
     "text": [
      " 57/268 [=====>........................] - ETA: 3:42 - loss: 2.9824 - diease_outputs_loss: 1.3672 - grow_outputs_loss: 1.6152 - diease_outputs_accuracy: 0.2718 - grow_outputs_accuracy: 0.2150"
     ]
    },
    {
     "name": "stderr",
     "output_type": "stream",
     "text": [
      "wandb: ERROR Dropped streaming file chunk (see wandb/debug-internal.log)\n",
      "ERROR:root:dropped chunk 404 Client Error: Not Found for url: https://api.wandb.ai/files/hkleee/strawberry/y3mrlkcy/file_stream\n",
      "NoneType: None\n",
      "wandb: ERROR Dropped streaming file chunk (see wandb/debug-internal.log)\n",
      "ERROR:root:dropped chunk 404 Client Error: Not Found for url: https://api.wandb.ai/files/hkleee/strawberry/y3mrlkcy/file_stream\n",
      "NoneType: None\n"
     ]
    },
    {
     "name": "stdout",
     "output_type": "stream",
     "text": [
      " 86/268 [========>.....................] - ETA: 3:11 - loss: 2.9824 - diease_outputs_loss: 1.3673 - grow_outputs_loss: 1.6151 - diease_outputs_accuracy: 0.2718 - grow_outputs_accuracy: 0.2137"
     ]
    },
    {
     "name": "stderr",
     "output_type": "stream",
     "text": [
      "wandb: ERROR Dropped streaming file chunk (see wandb/debug-internal.log)\n",
      "ERROR:root:dropped chunk 404 Client Error: Not Found for url: https://api.wandb.ai/files/hkleee/strawberry/y3mrlkcy/file_stream\n",
      "NoneType: None\n",
      "wandb: ERROR Dropped streaming file chunk (see wandb/debug-internal.log)\n",
      "ERROR:root:dropped chunk 404 Client Error: Not Found for url: https://api.wandb.ai/files/hkleee/strawberry/y3mrlkcy/file_stream\n",
      "NoneType: None\n"
     ]
    },
    {
     "name": "stdout",
     "output_type": "stream",
     "text": [
      "114/268 [===========>..................] - ETA: 2:41 - loss: 2.9819 - diease_outputs_loss: 1.3671 - grow_outputs_loss: 1.6149 - diease_outputs_accuracy: 0.2729 - grow_outputs_accuracy: 0.2133"
     ]
    },
    {
     "name": "stderr",
     "output_type": "stream",
     "text": [
      "wandb: ERROR Dropped streaming file chunk (see wandb/debug-internal.log)\n",
      "ERROR:root:dropped chunk 404 Client Error: Not Found for url: https://api.wandb.ai/files/hkleee/strawberry/y3mrlkcy/file_stream\n",
      "NoneType: None\n",
      "wandb: ERROR Dropped streaming file chunk (see wandb/debug-internal.log)\n",
      "ERROR:root:dropped chunk 404 Client Error: Not Found for url: https://api.wandb.ai/files/hkleee/strawberry/y3mrlkcy/file_stream\n",
      "NoneType: None\n"
     ]
    },
    {
     "name": "stdout",
     "output_type": "stream",
     "text": [
      "143/268 [===============>..............] - ETA: 2:11 - loss: 2.9816 - diease_outputs_loss: 1.3668 - grow_outputs_loss: 1.6147 - diease_outputs_accuracy: 0.2736 - grow_outputs_accuracy: 0.2128"
     ]
    },
    {
     "name": "stderr",
     "output_type": "stream",
     "text": [
      "wandb: ERROR Dropped streaming file chunk (see wandb/debug-internal.log)\n",
      "ERROR:root:dropped chunk 404 Client Error: Not Found for url: https://api.wandb.ai/files/hkleee/strawberry/y3mrlkcy/file_stream\n",
      "NoneType: None\n",
      "wandb: ERROR Dropped streaming file chunk (see wandb/debug-internal.log)\n",
      "ERROR:root:dropped chunk 404 Client Error: Not Found for url: https://api.wandb.ai/files/hkleee/strawberry/y3mrlkcy/file_stream\n",
      "NoneType: None\n"
     ]
    },
    {
     "name": "stdout",
     "output_type": "stream",
     "text": [
      "172/268 [==================>...........] - ETA: 1:40 - loss: 2.9813 - diease_outputs_loss: 1.3667 - grow_outputs_loss: 1.6147 - diease_outputs_accuracy: 0.2745 - grow_outputs_accuracy: 0.2126"
     ]
    },
    {
     "name": "stderr",
     "output_type": "stream",
     "text": [
      "wandb: ERROR Dropped streaming file chunk (see wandb/debug-internal.log)\n",
      "ERROR:root:dropped chunk 404 Client Error: Not Found for url: https://api.wandb.ai/files/hkleee/strawberry/y3mrlkcy/file_stream\n",
      "NoneType: None\n",
      "wandb: ERROR Dropped streaming file chunk (see wandb/debug-internal.log)\n",
      "ERROR:root:dropped chunk 404 Client Error: Not Found for url: https://api.wandb.ai/files/hkleee/strawberry/y3mrlkcy/file_stream\n",
      "NoneType: None\n"
     ]
    },
    {
     "name": "stdout",
     "output_type": "stream",
     "text": [
      "200/268 [=====================>........] - ETA: 1:11 - loss: 2.9811 - diease_outputs_loss: 1.3665 - grow_outputs_loss: 1.6146 - diease_outputs_accuracy: 0.2752 - grow_outputs_accuracy: 0.2125"
     ]
    },
    {
     "name": "stderr",
     "output_type": "stream",
     "text": [
      "wandb: ERROR Dropped streaming file chunk (see wandb/debug-internal.log)\n",
      "ERROR:root:dropped chunk 404 Client Error: Not Found for url: https://api.wandb.ai/files/hkleee/strawberry/y3mrlkcy/file_stream\n",
      "NoneType: None\n",
      "wandb: ERROR Dropped streaming file chunk (see wandb/debug-internal.log)\n",
      "ERROR:root:dropped chunk 404 Client Error: Not Found for url: https://api.wandb.ai/files/hkleee/strawberry/y3mrlkcy/file_stream\n",
      "NoneType: None\n"
     ]
    },
    {
     "name": "stdout",
     "output_type": "stream",
     "text": [
      "229/268 [========================>.....] - ETA: 40s - loss: 2.9809 - diease_outputs_loss: 1.3664 - grow_outputs_loss: 1.6146 - diease_outputs_accuracy: 0.2756 - grow_outputs_accuracy: 0.2123"
     ]
    },
    {
     "name": "stderr",
     "output_type": "stream",
     "text": [
      "wandb: ERROR Dropped streaming file chunk (see wandb/debug-internal.log)\n",
      "ERROR:root:dropped chunk 404 Client Error: Not Found for url: https://api.wandb.ai/files/hkleee/strawberry/y3mrlkcy/file_stream\n",
      "NoneType: None\n",
      "wandb: ERROR Dropped streaming file chunk (see wandb/debug-internal.log)\n",
      "ERROR:root:dropped chunk 404 Client Error: Not Found for url: https://api.wandb.ai/files/hkleee/strawberry/y3mrlkcy/file_stream\n",
      "NoneType: None\n"
     ]
    },
    {
     "name": "stdout",
     "output_type": "stream",
     "text": [
      "257/268 [===========================>..] - ETA: 11s - loss: 2.9808 - diease_outputs_loss: 1.3663 - grow_outputs_loss: 1.6145 - diease_outputs_accuracy: 0.2756 - grow_outputs_accuracy: 0.2123"
     ]
    },
    {
     "name": "stderr",
     "output_type": "stream",
     "text": [
      "wandb: ERROR Dropped streaming file chunk (see wandb/debug-internal.log)\n",
      "ERROR:root:dropped chunk 404 Client Error: Not Found for url: https://api.wandb.ai/files/hkleee/strawberry/y3mrlkcy/file_stream\n",
      "NoneType: None\n"
     ]
    },
    {
     "name": "stdout",
     "output_type": "stream",
     "text": [
      "\b\b\b\b\b\b\b\b\b\b\b\b\b\b\b\b\b\b\b\b\b\b\b\b\b\b\b\b\b\b\b\b\b\b\b\b\b\b\b\b\b\b\b\b\b\b\b\b\b\b\b\b\b\b\b\b\b\b\b\b\b\b\b\b\b\b\b\b\b\b\b\b\b\b\b\b\b\b\b\b\b\b\b\b\b\b\b\b\b\b\b\b\b\b\b\b\b\b\b\b\b\b\b\b\b\b\b\b\b\b\b\b\b\b\b\b\b\b\b\b\b\b\b\b\b\b\b\b\b\b\b\b\b\b\b\b\b\b\b\b\b\b\b\b\b\b\b\b\b\b\b\b\b\b\b\b\b\b\b\b\b\b\b\b\b\b\b\b\b\b\b\b\b\b\b\b\b\b\b\b\b\b\b\b\b\b\b\b\b\b\r",
      "258/268 [===========================>..] - ETA: 10s - loss: 2.9808 - diease_outputs_loss: 1.3663 - grow_outputs_loss: 1.6145 - diease_outputs_accuracy: 0.2756 - grow_outputs_accuracy: 0.2123"
     ]
    },
    {
     "name": "stderr",
     "output_type": "stream",
     "text": [
      "wandb: ERROR Dropped streaming file chunk (see wandb/debug-internal.log)\n",
      "ERROR:root:dropped chunk 404 Client Error: Not Found for url: https://api.wandb.ai/files/hkleee/strawberry/y3mrlkcy/file_stream\n",
      "NoneType: None\n"
     ]
    },
    {
     "name": "stdout",
     "output_type": "stream",
     "text": [
      "268/268 [==============================] - 296s 1s/step - loss: 2.9807 - diease_outputs_loss: 1.3662 - grow_outputs_loss: 1.6144 - diease_outputs_accuracy: 0.2756 - grow_outputs_accuracy: 0.2123 - val_loss: 2.9726 - val_diease_outputs_loss: 1.3635 - val_grow_outputs_loss: 1.6091 - val_diease_outputs_accuracy: 0.2658 - val_grow_outputs_accuracy: 0.2295\n",
      "Epoch 5/10\n",
      "  4/268 [..............................] - ETA: 4:36 - loss: 2.9719 - diease_outputs_loss: 1.3645 - grow_outputs_loss: 1.6074 - diease_outputs_accuracy: 0.2900 - grow_outputs_accuracy: 0.2333"
     ]
    },
    {
     "name": "stderr",
     "output_type": "stream",
     "text": [
      "wandb: ERROR Dropped streaming file chunk (see wandb/debug-internal.log)\n",
      "ERROR:root:dropped chunk 404 Client Error: Not Found for url: https://api.wandb.ai/files/hkleee/strawberry/y3mrlkcy/file_stream\n",
      "NoneType: None\n",
      "wandb: ERROR Dropped streaming file chunk (see wandb/debug-internal.log)\n",
      "ERROR:root:dropped chunk 404 Client Error: Not Found for url: https://api.wandb.ai/files/hkleee/strawberry/y3mrlkcy/file_stream\n",
      "NoneType: None\n"
     ]
    },
    {
     "name": "stdout",
     "output_type": "stream",
     "text": [
      " 32/268 [==>...........................] - ETA: 4:08 - loss: 2.9749 - diease_outputs_loss: 1.3651 - grow_outputs_loss: 1.6098 - diease_outputs_accuracy: 0.2683 - grow_outputs_accuracy: 0.2245"
     ]
    },
    {
     "name": "stderr",
     "output_type": "stream",
     "text": [
      "wandb: ERROR Dropped streaming file chunk (see wandb/debug-internal.log)\n",
      "ERROR:root:dropped chunk 404 Client Error: Not Found for url: https://api.wandb.ai/files/hkleee/strawberry/y3mrlkcy/file_stream\n",
      "NoneType: None\n",
      "wandb: ERROR Dropped streaming file chunk (see wandb/debug-internal.log)\n",
      "ERROR:root:dropped chunk 404 Client Error: Not Found for url: https://api.wandb.ai/files/hkleee/strawberry/y3mrlkcy/file_stream\n",
      "NoneType: None\n"
     ]
    },
    {
     "name": "stdout",
     "output_type": "stream",
     "text": [
      " 61/268 [=====>........................] - ETA: 3:37 - loss: 2.9746 - diease_outputs_loss: 1.3643 - grow_outputs_loss: 1.6103 - diease_outputs_accuracy: 0.2669 - grow_outputs_accuracy: 0.2228"
     ]
    },
    {
     "name": "stderr",
     "output_type": "stream",
     "text": [
      "wandb: ERROR Dropped streaming file chunk (see wandb/debug-internal.log)\n",
      "ERROR:root:dropped chunk 404 Client Error: Not Found for url: https://api.wandb.ai/files/hkleee/strawberry/y3mrlkcy/file_stream\n",
      "NoneType: None\n",
      "wandb: ERROR Dropped streaming file chunk (see wandb/debug-internal.log)\n",
      "ERROR:root:dropped chunk 404 Client Error: Not Found for url: https://api.wandb.ai/files/hkleee/strawberry/y3mrlkcy/file_stream\n",
      "NoneType: None\n"
     ]
    },
    {
     "name": "stdout",
     "output_type": "stream",
     "text": [
      " 90/268 [=========>....................] - ETA: 3:07 - loss: 2.9747 - diease_outputs_loss: 1.3639 - grow_outputs_loss: 1.6108 - diease_outputs_accuracy: 0.2674 - grow_outputs_accuracy: 0.2205"
     ]
    },
    {
     "name": "stderr",
     "output_type": "stream",
     "text": [
      "wandb: ERROR Dropped streaming file chunk (see wandb/debug-internal.log)\n",
      "ERROR:root:dropped chunk 404 Client Error: Not Found for url: https://api.wandb.ai/files/hkleee/strawberry/y3mrlkcy/file_stream\n",
      "NoneType: None\n",
      "wandb: ERROR Dropped streaming file chunk (see wandb/debug-internal.log)\n",
      "ERROR:root:dropped chunk 404 Client Error: Not Found for url: https://api.wandb.ai/files/hkleee/strawberry/y3mrlkcy/file_stream\n",
      "NoneType: None\n"
     ]
    },
    {
     "name": "stdout",
     "output_type": "stream",
     "text": [
      "118/268 [============>.................] - ETA: 2:37 - loss: 2.9747 - diease_outputs_loss: 1.3636 - grow_outputs_loss: 1.6111 - diease_outputs_accuracy: 0.2685 - grow_outputs_accuracy: 0.2191"
     ]
    },
    {
     "name": "stderr",
     "output_type": "stream",
     "text": [
      "wandb: ERROR Dropped streaming file chunk (see wandb/debug-internal.log)\n",
      "ERROR:root:dropped chunk 404 Client Error: Not Found for url: https://api.wandb.ai/files/hkleee/strawberry/y3mrlkcy/file_stream\n",
      "NoneType: None\n",
      "wandb: ERROR Dropped streaming file chunk (see wandb/debug-internal.log)\n",
      "ERROR:root:dropped chunk 404 Client Error: Not Found for url: https://api.wandb.ai/files/hkleee/strawberry/y3mrlkcy/file_stream\n",
      "NoneType: None\n"
     ]
    },
    {
     "name": "stdout",
     "output_type": "stream",
     "text": [
      "147/268 [===============>..............] - ETA: 2:07 - loss: 2.9745 - diease_outputs_loss: 1.3634 - grow_outputs_loss: 1.6111 - diease_outputs_accuracy: 0.2701 - grow_outputs_accuracy: 0.2187"
     ]
    },
    {
     "name": "stderr",
     "output_type": "stream",
     "text": [
      "wandb: ERROR Dropped streaming file chunk (see wandb/debug-internal.log)\n",
      "ERROR:root:dropped chunk 404 Client Error: Not Found for url: https://api.wandb.ai/files/hkleee/strawberry/y3mrlkcy/file_stream\n",
      "NoneType: None\n",
      "wandb: ERROR Dropped streaming file chunk (see wandb/debug-internal.log)\n",
      "ERROR:root:dropped chunk 404 Client Error: Not Found for url: https://api.wandb.ai/files/hkleee/strawberry/y3mrlkcy/file_stream\n",
      "NoneType: None\n"
     ]
    },
    {
     "name": "stdout",
     "output_type": "stream",
     "text": [
      "175/268 [==================>...........] - ETA: 1:37 - loss: 2.9742 - diease_outputs_loss: 1.3631 - grow_outputs_loss: 1.6111 - diease_outputs_accuracy: 0.2712 - grow_outputs_accuracy: 0.2187"
     ]
    },
    {
     "name": "stderr",
     "output_type": "stream",
     "text": [
      "wandb: ERROR Dropped streaming file chunk (see wandb/debug-internal.log)\n",
      "ERROR:root:dropped chunk 404 Client Error: Not Found for url: https://api.wandb.ai/files/hkleee/strawberry/y3mrlkcy/file_stream\n",
      "NoneType: None\n",
      "wandb: ERROR Dropped streaming file chunk (see wandb/debug-internal.log)\n",
      "ERROR:root:dropped chunk 404 Client Error: Not Found for url: https://api.wandb.ai/files/hkleee/strawberry/y3mrlkcy/file_stream\n",
      "NoneType: None\n"
     ]
    },
    {
     "name": "stdout",
     "output_type": "stream",
     "text": [
      "204/268 [=====================>........] - ETA: 1:07 - loss: 2.9739 - diease_outputs_loss: 1.3629 - grow_outputs_loss: 1.6110 - diease_outputs_accuracy: 0.2722 - grow_outputs_accuracy: 0.2189"
     ]
    },
    {
     "name": "stderr",
     "output_type": "stream",
     "text": [
      "wandb: ERROR Dropped streaming file chunk (see wandb/debug-internal.log)\n",
      "ERROR:root:dropped chunk 404 Client Error: Not Found for url: https://api.wandb.ai/files/hkleee/strawberry/y3mrlkcy/file_stream\n",
      "NoneType: None\n",
      "wandb: ERROR Dropped streaming file chunk (see wandb/debug-internal.log)\n",
      "ERROR:root:dropped chunk 404 Client Error: Not Found for url: https://api.wandb.ai/files/hkleee/strawberry/y3mrlkcy/file_stream\n",
      "NoneType: None\n"
     ]
    },
    {
     "name": "stdout",
     "output_type": "stream",
     "text": [
      "232/268 [========================>.....] - ETA: 37s - loss: 2.9736 - diease_outputs_loss: 1.3627 - grow_outputs_loss: 1.6109 - diease_outputs_accuracy: 0.2730 - grow_outputs_accuracy: 0.2191"
     ]
    },
    {
     "name": "stderr",
     "output_type": "stream",
     "text": [
      "wandb: ERROR Dropped streaming file chunk (see wandb/debug-internal.log)\n",
      "ERROR:root:dropped chunk 404 Client Error: Not Found for url: https://api.wandb.ai/files/hkleee/strawberry/y3mrlkcy/file_stream\n",
      "NoneType: None\n",
      "wandb: ERROR Dropped streaming file chunk (see wandb/debug-internal.log)\n",
      "ERROR:root:dropped chunk 404 Client Error: Not Found for url: https://api.wandb.ai/files/hkleee/strawberry/y3mrlkcy/file_stream\n",
      "NoneType: None\n"
     ]
    },
    {
     "name": "stdout",
     "output_type": "stream",
     "text": [
      "261/268 [============================>.] - ETA: 7s - loss: 2.9734 - diease_outputs_loss: 1.3625 - grow_outputs_loss: 1.6109 - diease_outputs_accuracy: 0.2735 - grow_outputs_accuracy: 0.2192"
     ]
    },
    {
     "name": "stderr",
     "output_type": "stream",
     "text": [
      "wandb: ERROR Dropped streaming file chunk (see wandb/debug-internal.log)\n",
      "ERROR:root:dropped chunk 404 Client Error: Not Found for url: https://api.wandb.ai/files/hkleee/strawberry/y3mrlkcy/file_stream\n",
      "NoneType: None\n",
      "wandb: ERROR Dropped streaming file chunk (see wandb/debug-internal.log)\n",
      "ERROR:root:dropped chunk 404 Client Error: Not Found for url: https://api.wandb.ai/files/hkleee/strawberry/y3mrlkcy/file_stream\n",
      "NoneType: None\n"
     ]
    },
    {
     "name": "stdout",
     "output_type": "stream",
     "text": [
      "268/268 [==============================] - 296s 1s/step - loss: 2.9733 - diease_outputs_loss: 1.3625 - grow_outputs_loss: 1.6108 - diease_outputs_accuracy: 0.2736 - grow_outputs_accuracy: 0.2193 - val_loss: 2.9662 - val_diease_outputs_loss: 1.3597 - val_grow_outputs_loss: 1.6065 - val_diease_outputs_accuracy: 0.2655 - val_grow_outputs_accuracy: 0.2295\n",
      "Epoch 6/10\n",
      "  8/268 [..............................] - ETA: 4:33 - loss: 2.9601 - diease_outputs_loss: 1.3583 - grow_outputs_loss: 1.6018 - diease_outputs_accuracy: 0.2772 - grow_outputs_accuracy: 0.2320"
     ]
    },
    {
     "name": "stderr",
     "output_type": "stream",
     "text": [
      "wandb: ERROR Dropped streaming file chunk (see wandb/debug-internal.log)\n",
      "ERROR:root:dropped chunk 404 Client Error: Not Found for url: https://api.wandb.ai/files/hkleee/strawberry/y3mrlkcy/file_stream\n",
      "NoneType: None\n",
      "wandb: ERROR Dropped streaming file chunk (see wandb/debug-internal.log)\n",
      "ERROR:root:dropped chunk 404 Client Error: Not Found for url: https://api.wandb.ai/files/hkleee/strawberry/y3mrlkcy/file_stream\n",
      "NoneType: None\n"
     ]
    },
    {
     "name": "stdout",
     "output_type": "stream",
     "text": [
      " 36/268 [===>..........................] - ETA: 4:04 - loss: 2.9696 - diease_outputs_loss: 1.3619 - grow_outputs_loss: 1.6077 - diease_outputs_accuracy: 0.2672 - grow_outputs_accuracy: 0.2233"
     ]
    },
    {
     "name": "stderr",
     "output_type": "stream",
     "text": [
      "wandb: ERROR Dropped streaming file chunk (see wandb/debug-internal.log)\n",
      "ERROR:root:dropped chunk 404 Client Error: Not Found for url: https://api.wandb.ai/files/hkleee/strawberry/y3mrlkcy/file_stream\n",
      "NoneType: None\n"
     ]
    },
    {
     "name": "stdout",
     "output_type": "stream",
     "text": [
      " 65/268 [======>.......................] - ETA: 3:32 - loss: 2.9703 - diease_outputs_loss: 1.3617 - grow_outputs_loss: 1.6086 - diease_outputs_accuracy: 0.2693 - grow_outputs_accuracy: 0.2237"
     ]
    },
    {
     "name": "stderr",
     "output_type": "stream",
     "text": [
      "wandb: ERROR Dropped streaming file chunk (see wandb/debug-internal.log)\n",
      "ERROR:root:dropped chunk 404 Client Error: Not Found for url: https://api.wandb.ai/files/hkleee/strawberry/y3mrlkcy/file_stream\n",
      "NoneType: None\n",
      "wandb: ERROR Dropped streaming file chunk (see wandb/debug-internal.log)\n",
      "ERROR:root:dropped chunk 404 Client Error: Not Found for url: https://api.wandb.ai/files/hkleee/strawberry/y3mrlkcy/file_stream\n",
      "NoneType: None\n"
     ]
    },
    {
     "name": "stdout",
     "output_type": "stream",
     "text": [
      " 93/268 [=========>....................] - ETA: 3:03 - loss: 2.9702 - diease_outputs_loss: 1.3612 - grow_outputs_loss: 1.6090 - diease_outputs_accuracy: 0.2732 - grow_outputs_accuracy: 0.2236"
     ]
    },
    {
     "name": "stderr",
     "output_type": "stream",
     "text": [
      "wandb: ERROR Dropped streaming file chunk (see wandb/debug-internal.log)\n",
      "ERROR:root:dropped chunk 404 Client Error: Not Found for url: https://api.wandb.ai/files/hkleee/strawberry/y3mrlkcy/file_stream\n",
      "NoneType: None\n",
      "wandb: ERROR Dropped streaming file chunk (see wandb/debug-internal.log)\n",
      "ERROR:root:dropped chunk 404 Client Error: Not Found for url: https://api.wandb.ai/files/hkleee/strawberry/y3mrlkcy/file_stream\n",
      "NoneType: None\n"
     ]
    },
    {
     "name": "stdout",
     "output_type": "stream",
     "text": [
      "122/268 [============>.................] - ETA: 2:33 - loss: 2.9699 - diease_outputs_loss: 1.3607 - grow_outputs_loss: 1.6092 - diease_outputs_accuracy: 0.2758 - grow_outputs_accuracy: 0.2231"
     ]
    },
    {
     "name": "stderr",
     "output_type": "stream",
     "text": [
      "wandb: ERROR Dropped streaming file chunk (see wandb/debug-internal.log)\n",
      "ERROR:root:dropped chunk 404 Client Error: Not Found for url: https://api.wandb.ai/files/hkleee/strawberry/y3mrlkcy/file_stream\n",
      "NoneType: None\n",
      "wandb: ERROR Dropped streaming file chunk (see wandb/debug-internal.log)\n",
      "ERROR:root:dropped chunk 404 Client Error: Not Found for url: https://api.wandb.ai/files/hkleee/strawberry/y3mrlkcy/file_stream\n",
      "NoneType: None\n"
     ]
    },
    {
     "name": "stdout",
     "output_type": "stream",
     "text": [
      "150/268 [===============>..............] - ETA: 2:04 - loss: 2.9695 - diease_outputs_loss: 1.3603 - grow_outputs_loss: 1.6092 - diease_outputs_accuracy: 0.2770 - grow_outputs_accuracy: 0.2235"
     ]
    },
    {
     "name": "stderr",
     "output_type": "stream",
     "text": [
      "wandb: ERROR Dropped streaming file chunk (see wandb/debug-internal.log)\n",
      "ERROR:root:dropped chunk 404 Client Error: Not Found for url: https://api.wandb.ai/files/hkleee/strawberry/y3mrlkcy/file_stream\n",
      "NoneType: None\n"
     ]
    },
    {
     "name": "stdout",
     "output_type": "stream",
     "text": [
      "\b\b\b\b\b\b\b\b\b\b\b\b\b\b\b\b\b\b\b\b\b\b\b\b\b\b\b\b\b\b\b\b\b\b\b\b\b\b\b\b\b\b\b\b\b\b\b\b\b\b\b\b\b\b\b\b\b\b\b\b\b\b\b\b\b\b\b\b\b\b\b\b\b\b\b\b\b\b\b\b\b\b\b\b\b\b\b\b\b\b\b\b\b\b\b\b\b\b\b\b\b\b\b\b\b\b\b\b\b\b\b\b\b\b\b\b\b\b\b\b\b\b\b\b\b\b\b\b\b\b\b\b\b\b\b\b\b\b\b\b\b\b\b\b\b\b\b\b\b\b\b\b\b\b\b\b\b\b\b\b\b\b\b\b\b\b\b\b\b\b\b\b\b\b\b\b\b\b\b\b\b\b\b\b\b\b\b\b\b\b\b\r",
      "151/268 [===============>..............] - ETA: 2:03 - loss: 2.9695 - diease_outputs_loss: 1.3603 - grow_outputs_loss: 1.6092 - diease_outputs_accuracy: 0.2770 - grow_outputs_accuracy: 0.2235"
     ]
    },
    {
     "name": "stderr",
     "output_type": "stream",
     "text": [
      "wandb: ERROR Dropped streaming file chunk (see wandb/debug-internal.log)\n",
      "ERROR:root:dropped chunk 404 Client Error: Not Found for url: https://api.wandb.ai/files/hkleee/strawberry/y3mrlkcy/file_stream\n",
      "NoneType: None\n"
     ]
    },
    {
     "name": "stdout",
     "output_type": "stream",
     "text": [
      "179/268 [===================>..........] - ETA: 1:33 - loss: 2.9691 - diease_outputs_loss: 1.3600 - grow_outputs_loss: 1.6091 - diease_outputs_accuracy: 0.2780 - grow_outputs_accuracy: 0.2243"
     ]
    },
    {
     "name": "stderr",
     "output_type": "stream",
     "text": [
      "wandb: ERROR Dropped streaming file chunk (see wandb/debug-internal.log)\n",
      "ERROR:root:dropped chunk 404 Client Error: Not Found for url: https://api.wandb.ai/files/hkleee/strawberry/y3mrlkcy/file_stream\n",
      "NoneType: None\n",
      "wandb: ERROR Dropped streaming file chunk (see wandb/debug-internal.log)\n",
      "ERROR:root:dropped chunk 404 Client Error: Not Found for url: https://api.wandb.ai/files/hkleee/strawberry/y3mrlkcy/file_stream\n",
      "NoneType: None\n"
     ]
    },
    {
     "name": "stdout",
     "output_type": "stream",
     "text": [
      "207/268 [======================>.......] - ETA: 1:04 - loss: 2.9687 - diease_outputs_loss: 1.3598 - grow_outputs_loss: 1.6089 - diease_outputs_accuracy: 0.2789 - grow_outputs_accuracy: 0.2251"
     ]
    },
    {
     "name": "stderr",
     "output_type": "stream",
     "text": [
      "wandb: ERROR Dropped streaming file chunk (see wandb/debug-internal.log)\n",
      "ERROR:root:dropped chunk 404 Client Error: Not Found for url: https://api.wandb.ai/files/hkleee/strawberry/y3mrlkcy/file_stream\n",
      "NoneType: None\n",
      "wandb: ERROR Dropped streaming file chunk (see wandb/debug-internal.log)\n",
      "ERROR:root:dropped chunk 404 Client Error: Not Found for url: https://api.wandb.ai/files/hkleee/strawberry/y3mrlkcy/file_stream\n",
      "NoneType: None\n"
     ]
    },
    {
     "name": "stdout",
     "output_type": "stream",
     "text": [
      "236/268 [=========================>....] - ETA: 33s - loss: 2.9684 - diease_outputs_loss: 1.3595 - grow_outputs_loss: 1.6089 - diease_outputs_accuracy: 0.2794 - grow_outputs_accuracy: 0.2255"
     ]
    },
    {
     "name": "stderr",
     "output_type": "stream",
     "text": [
      "wandb: ERROR Dropped streaming file chunk (see wandb/debug-internal.log)\n",
      "ERROR:root:dropped chunk 404 Client Error: Not Found for url: https://api.wandb.ai/files/hkleee/strawberry/y3mrlkcy/file_stream\n",
      "NoneType: None\n",
      "wandb: ERROR Dropped streaming file chunk (see wandb/debug-internal.log)\n",
      "ERROR:root:dropped chunk 404 Client Error: Not Found for url: https://api.wandb.ai/files/hkleee/strawberry/y3mrlkcy/file_stream\n",
      "NoneType: None\n"
     ]
    },
    {
     "name": "stdout",
     "output_type": "stream",
     "text": [
      "264/268 [============================>.] - ETA: 4s - loss: 2.9682 - diease_outputs_loss: 1.3593 - grow_outputs_loss: 1.6089 - diease_outputs_accuracy: 0.2798 - grow_outputs_accuracy: 0.2256"
     ]
    },
    {
     "name": "stderr",
     "output_type": "stream",
     "text": [
      "wandb: ERROR Dropped streaming file chunk (see wandb/debug-internal.log)\n",
      "ERROR:root:dropped chunk 404 Client Error: Not Found for url: https://api.wandb.ai/files/hkleee/strawberry/y3mrlkcy/file_stream\n",
      "NoneType: None\n"
     ]
    },
    {
     "name": "stdout",
     "output_type": "stream",
     "text": [
      "\b\b\b\b\b\b\b\b\b\b\b\b\b\b\b\b\b\b\b\b\b\b\b\b\b\b\b\b\b\b\b\b\b\b\b\b\b\b\b\b\b\b\b\b\b\b\b\b\b\b\b\b\b\b\b\b\b\b\b\b\b\b\b\b\b\b\b\b\b\b\b\b\b\b\b\b\b\b\b\b\b\b\b\b\b\b\b\b\b\b\b\b\b\b\b\b\b\b\b\b\b\b\b\b\b\b\b\b\b\b\b\b\b\b\b\b\b\b\b\b\b\b\b\b\b\b\b\b\b\b\b\b\b\b\b\b\b\b\b\b\b\b\b\b\b\b\b\b\b\b\b\b\b\b\b\b\b\b\b\b\b\b\b\b\b\b\b\b\b\b\b\b\b\b\b\b\b\b\b\b\b\b\b\b\b\b\b\b\b\r",
      "265/268 [============================>.] - ETA: 3s - loss: 2.9682 - diease_outputs_loss: 1.3593 - grow_outputs_loss: 1.6089 - diease_outputs_accuracy: 0.2798 - grow_outputs_accuracy: 0.2256"
     ]
    },
    {
     "name": "stderr",
     "output_type": "stream",
     "text": [
      "wandb: ERROR Dropped streaming file chunk (see wandb/debug-internal.log)\n",
      "ERROR:root:dropped chunk 404 Client Error: Not Found for url: https://api.wandb.ai/files/hkleee/strawberry/y3mrlkcy/file_stream\n",
      "NoneType: None\n"
     ]
    },
    {
     "name": "stdout",
     "output_type": "stream",
     "text": [
      "268/268 [==============================] - 297s 1s/step - loss: 2.9682 - diease_outputs_loss: 1.3593 - grow_outputs_loss: 1.6089 - diease_outputs_accuracy: 0.2799 - grow_outputs_accuracy: 0.2256 - val_loss: 2.9599 - val_diease_outputs_loss: 1.3558 - val_grow_outputs_loss: 1.6041 - val_diease_outputs_accuracy: 0.2688 - val_grow_outputs_accuracy: 0.2295\n",
      "Epoch 7/10\n",
      " 11/268 [>.............................] - ETA: 4:30 - loss: 2.9631 - diease_outputs_loss: 1.3581 - grow_outputs_loss: 1.6050 - diease_outputs_accuracy: 0.2524 - grow_outputs_accuracy: 0.2657"
     ]
    },
    {
     "name": "stderr",
     "output_type": "stream",
     "text": [
      "wandb: ERROR Dropped streaming file chunk (see wandb/debug-internal.log)\n",
      "ERROR:root:dropped chunk 404 Client Error: Not Found for url: https://api.wandb.ai/files/hkleee/strawberry/y3mrlkcy/file_stream\n",
      "NoneType: None\n",
      "wandb: ERROR Dropped streaming file chunk (see wandb/debug-internal.log)\n",
      "ERROR:root:dropped chunk 404 Client Error: Not Found for url: https://api.wandb.ai/files/hkleee/strawberry/y3mrlkcy/file_stream\n",
      "NoneType: None\n"
     ]
    },
    {
     "name": "stdout",
     "output_type": "stream",
     "text": [
      " 40/268 [===>..........................] - ETA: 3:59 - loss: 2.9631 - diease_outputs_loss: 1.3560 - grow_outputs_loss: 1.6071 - diease_outputs_accuracy: 0.2659 - grow_outputs_accuracy: 0.2419"
     ]
    },
    {
     "name": "stderr",
     "output_type": "stream",
     "text": [
      "wandb: ERROR Dropped streaming file chunk (see wandb/debug-internal.log)\n",
      "ERROR:root:dropped chunk 404 Client Error: Not Found for url: https://api.wandb.ai/files/hkleee/strawberry/y3mrlkcy/file_stream\n",
      "NoneType: None\n"
     ]
    },
    {
     "name": "stdout",
     "output_type": "stream",
     "text": [
      " 68/268 [======>.......................] - ETA: 3:30 - loss: 2.9634 - diease_outputs_loss: 1.3556 - grow_outputs_loss: 1.6078 - diease_outputs_accuracy: 0.2684 - grow_outputs_accuracy: 0.2349"
     ]
    },
    {
     "name": "stderr",
     "output_type": "stream",
     "text": [
      "wandb: ERROR Dropped streaming file chunk (see wandb/debug-internal.log)\n",
      "ERROR:root:dropped chunk 404 Client Error: Not Found for url: https://api.wandb.ai/files/hkleee/strawberry/y3mrlkcy/file_stream\n",
      "NoneType: None\n",
      "wandb: ERROR Dropped streaming file chunk (see wandb/debug-internal.log)\n",
      "ERROR:root:dropped chunk 404 Client Error: Not Found for url: https://api.wandb.ai/files/hkleee/strawberry/y3mrlkcy/file_stream\n",
      "NoneType: None\n"
     ]
    },
    {
     "name": "stdout",
     "output_type": "stream",
     "text": [
      " 97/268 [=========>....................] - ETA: 2:59 - loss: 2.9634 - diease_outputs_loss: 1.3555 - grow_outputs_loss: 1.6078 - diease_outputs_accuracy: 0.2693 - grow_outputs_accuracy: 0.2330"
     ]
    },
    {
     "name": "stderr",
     "output_type": "stream",
     "text": [
      "wandb: ERROR Dropped streaming file chunk (see wandb/debug-internal.log)\n",
      "ERROR:root:dropped chunk 404 Client Error: Not Found for url: https://api.wandb.ai/files/hkleee/strawberry/y3mrlkcy/file_stream\n",
      "NoneType: None\n",
      "wandb: ERROR Dropped streaming file chunk (see wandb/debug-internal.log)\n",
      "ERROR:root:dropped chunk 404 Client Error: Not Found for url: https://api.wandb.ai/files/hkleee/strawberry/y3mrlkcy/file_stream\n",
      "NoneType: None\n"
     ]
    },
    {
     "name": "stdout",
     "output_type": "stream",
     "text": [
      "126/268 [=============>................] - ETA: 2:29 - loss: 2.9630 - diease_outputs_loss: 1.3554 - grow_outputs_loss: 1.6076 - diease_outputs_accuracy: 0.2702 - grow_outputs_accuracy: 0.2331"
     ]
    },
    {
     "name": "stderr",
     "output_type": "stream",
     "text": [
      "wandb: ERROR Dropped streaming file chunk (see wandb/debug-internal.log)\n",
      "ERROR:root:dropped chunk 404 Client Error: Not Found for url: https://api.wandb.ai/files/hkleee/strawberry/y3mrlkcy/file_stream\n",
      "NoneType: None\n",
      "wandb: ERROR Dropped streaming file chunk (see wandb/debug-internal.log)\n",
      "ERROR:root:dropped chunk 404 Client Error: Not Found for url: https://api.wandb.ai/files/hkleee/strawberry/y3mrlkcy/file_stream\n",
      "NoneType: None\n"
     ]
    },
    {
     "name": "stdout",
     "output_type": "stream",
     "text": [
      "154/268 [================>.............] - ETA: 1:59 - loss: 2.9626 - diease_outputs_loss: 1.3552 - grow_outputs_loss: 1.6074 - diease_outputs_accuracy: 0.2711 - grow_outputs_accuracy: 0.2328"
     ]
    },
    {
     "name": "stderr",
     "output_type": "stream",
     "text": [
      "wandb: ERROR Dropped streaming file chunk (see wandb/debug-internal.log)\n",
      "ERROR:root:dropped chunk 404 Client Error: Not Found for url: https://api.wandb.ai/files/hkleee/strawberry/y3mrlkcy/file_stream\n",
      "NoneType: None\n",
      "wandb: ERROR Dropped streaming file chunk (see wandb/debug-internal.log)\n",
      "ERROR:root:dropped chunk 404 Client Error: Not Found for url: https://api.wandb.ai/files/hkleee/strawberry/y3mrlkcy/file_stream\n",
      "NoneType: None\n"
     ]
    },
    {
     "name": "stdout",
     "output_type": "stream",
     "text": [
      "183/268 [===================>..........] - ETA: 1:29 - loss: 2.9624 - diease_outputs_loss: 1.3551 - grow_outputs_loss: 1.6073 - diease_outputs_accuracy: 0.2714 - grow_outputs_accuracy: 0.2327"
     ]
    },
    {
     "name": "stderr",
     "output_type": "stream",
     "text": [
      "wandb: ERROR Dropped streaming file chunk (see wandb/debug-internal.log)\n",
      "ERROR:root:dropped chunk 404 Client Error: Not Found for url: https://api.wandb.ai/files/hkleee/strawberry/y3mrlkcy/file_stream\n",
      "NoneType: None\n",
      "wandb: ERROR Dropped streaming file chunk (see wandb/debug-internal.log)\n",
      "ERROR:root:dropped chunk 404 Client Error: Not Found for url: https://api.wandb.ai/files/hkleee/strawberry/y3mrlkcy/file_stream\n",
      "NoneType: None\n"
     ]
    },
    {
     "name": "stdout",
     "output_type": "stream",
     "text": [
      "211/268 [======================>.......] - ETA: 59s - loss: 2.9621 - diease_outputs_loss: 1.3549 - grow_outputs_loss: 1.6072 - diease_outputs_accuracy: 0.2718 - grow_outputs_accuracy: 0.2324 "
     ]
    },
    {
     "name": "stderr",
     "output_type": "stream",
     "text": [
      "wandb: ERROR Dropped streaming file chunk (see wandb/debug-internal.log)\n",
      "ERROR:root:dropped chunk 404 Client Error: Not Found for url: https://api.wandb.ai/files/hkleee/strawberry/y3mrlkcy/file_stream\n",
      "NoneType: None\n"
     ]
    },
    {
     "name": "stdout",
     "output_type": "stream",
     "text": [
      "\b\b\b\b\b\b\b\b\b\b\b\b\b\b\b\b\b\b\b\b\b\b\b\b\b\b\b\b\b\b\b\b\b\b\b\b\b\b\b\b\b\b\b\b\b\b\b\b\b\b\b\b\b\b\b\b\b\b\b\b\b\b\b\b\b\b\b\b\b\b\b\b\b\b\b\b\b\b\b\b\b\b\b\b\b\b\b\b\b\b\b\b\b\b\b\b\b\b\b\b\b\b\b\b\b\b\b\b\b\b\b\b\b\b\b\b\b\b\b\b\b\b\b\b\b\b\b\b\b\b\b\b\b\b\b\b\b\b\b\b\b\b\b\b\b\b\b\b\b\b\b\b\b\b\b\b\b\b\b\b\b\b\b\b\b\b\b\b\b\b\b\b\b\b\b\b\b\b\b\b\b\b\b\b\b\b\b\b\b\b\r",
      "212/268 [======================>.......] - ETA: 58s - loss: 2.9621 - diease_outputs_loss: 1.3549 - grow_outputs_loss: 1.6072 - diease_outputs_accuracy: 0.2718 - grow_outputs_accuracy: 0.2324"
     ]
    },
    {
     "name": "stderr",
     "output_type": "stream",
     "text": [
      "wandb: ERROR Dropped streaming file chunk (see wandb/debug-internal.log)\n",
      "ERROR:root:dropped chunk 404 Client Error: Not Found for url: https://api.wandb.ai/files/hkleee/strawberry/y3mrlkcy/file_stream\n",
      "NoneType: None\n"
     ]
    },
    {
     "name": "stdout",
     "output_type": "stream",
     "text": [
      "240/268 [=========================>....] - ETA: 29s - loss: 2.9619 - diease_outputs_loss: 1.3547 - grow_outputs_loss: 1.6072 - diease_outputs_accuracy: 0.2721 - grow_outputs_accuracy: 0.2322"
     ]
    },
    {
     "name": "stderr",
     "output_type": "stream",
     "text": [
      "wandb: ERROR Dropped streaming file chunk (see wandb/debug-internal.log)\n",
      "ERROR:root:dropped chunk 404 Client Error: Not Found for url: https://api.wandb.ai/files/hkleee/strawberry/y3mrlkcy/file_stream\n",
      "NoneType: None\n",
      "wandb: ERROR Dropped streaming file chunk (see wandb/debug-internal.log)\n",
      "ERROR:root:dropped chunk 404 Client Error: Not Found for url: https://api.wandb.ai/files/hkleee/strawberry/y3mrlkcy/file_stream\n",
      "NoneType: None\n"
     ]
    },
    {
     "name": "stdout",
     "output_type": "stream",
     "text": [
      "268/268 [==============================] - ETA: 0s - loss: 2.9617 - diease_outputs_loss: 1.3546 - grow_outputs_loss: 1.6072 - diease_outputs_accuracy: 0.2723 - grow_outputs_accuracy: 0.2319"
     ]
    },
    {
     "name": "stderr",
     "output_type": "stream",
     "text": [
      "wandb: ERROR Dropped streaming file chunk (see wandb/debug-internal.log)\n",
      "ERROR:root:dropped chunk 404 Client Error: Not Found for url: https://api.wandb.ai/files/hkleee/strawberry/y3mrlkcy/file_stream\n",
      "NoneType: None\n",
      "wandb: ERROR Dropped streaming file chunk (see wandb/debug-internal.log)\n",
      "ERROR:root:dropped chunk 404 Client Error: Not Found for url: https://api.wandb.ai/files/hkleee/strawberry/y3mrlkcy/file_stream\n",
      "NoneType: None\n"
     ]
    },
    {
     "name": "stdout",
     "output_type": "stream",
     "text": [
      "268/268 [==============================] - 296s 1s/step - loss: 2.9617 - diease_outputs_loss: 1.3546 - grow_outputs_loss: 1.6072 - diease_outputs_accuracy: 0.2723 - grow_outputs_accuracy: 0.2318 - val_loss: 2.9538 - val_diease_outputs_loss: 1.3518 - val_grow_outputs_loss: 1.6019 - val_diease_outputs_accuracy: 0.2756 - val_grow_outputs_accuracy: 0.2295\n",
      "Epoch 8/10\n",
      " 15/268 [>.............................] - ETA: 4:27 - loss: 2.9564 - diease_outputs_loss: 1.3526 - grow_outputs_loss: 1.6038 - diease_outputs_accuracy: 0.2480 - grow_outputs_accuracy: 0.2313"
     ]
    },
    {
     "name": "stderr",
     "output_type": "stream",
     "text": [
      "wandb: ERROR Dropped streaming file chunk (see wandb/debug-internal.log)\n",
      "ERROR:root:dropped chunk 404 Client Error: Not Found for url: https://api.wandb.ai/files/hkleee/strawberry/y3mrlkcy/file_stream\n",
      "NoneType: None\n",
      "wandb: ERROR Dropped streaming file chunk (see wandb/debug-internal.log)\n",
      "ERROR:root:dropped chunk 404 Client Error: Not Found for url: https://api.wandb.ai/files/hkleee/strawberry/y3mrlkcy/file_stream\n",
      "NoneType: None\n"
     ]
    },
    {
     "name": "stdout",
     "output_type": "stream",
     "text": [
      " 44/268 [===>..........................] - ETA: 3:56 - loss: 2.9585 - diease_outputs_loss: 1.3526 - grow_outputs_loss: 1.6059 - diease_outputs_accuracy: 0.2612 - grow_outputs_accuracy: 0.2220"
     ]
    },
    {
     "name": "stderr",
     "output_type": "stream",
     "text": [
      "wandb: ERROR Dropped streaming file chunk (see wandb/debug-internal.log)\n",
      "ERROR:root:dropped chunk 404 Client Error: Not Found for url: https://api.wandb.ai/files/hkleee/strawberry/y3mrlkcy/file_stream\n",
      "NoneType: None\n",
      "wandb: ERROR Dropped streaming file chunk (see wandb/debug-internal.log)\n",
      "ERROR:root:dropped chunk 404 Client Error: Not Found for url: https://api.wandb.ai/files/hkleee/strawberry/y3mrlkcy/file_stream\n",
      "NoneType: None\n"
     ]
    },
    {
     "name": "stdout",
     "output_type": "stream",
     "text": [
      " 72/268 [=======>......................] - ETA: 3:25 - loss: 2.9579 - diease_outputs_loss: 1.3524 - grow_outputs_loss: 1.6055 - diease_outputs_accuracy: 0.2642 - grow_outputs_accuracy: 0.2238"
     ]
    },
    {
     "name": "stderr",
     "output_type": "stream",
     "text": [
      "wandb: ERROR Dropped streaming file chunk (see wandb/debug-internal.log)\n",
      "ERROR:root:dropped chunk 404 Client Error: Not Found for url: https://api.wandb.ai/files/hkleee/strawberry/y3mrlkcy/file_stream\n",
      "NoneType: None\n"
     ]
    },
    {
     "name": "stdout",
     "output_type": "stream",
     "text": [
      "\b\b\b\b\b\b\b\b\b\b\b\b\b\b\b\b\b\b\b\b\b\b\b\b\b\b\b\b\b\b\b\b\b\b\b\b\b\b\b\b\b\b\b\b\b\b\b\b\b\b\b\b\b\b\b\b\b\b\b\b\b\b\b\b\b\b\b\b\b\b\b\b\b\b\b\b\b\b\b\b\b\b\b\b\b\b\b\b\b\b\b\b\b\b\b\b\b\b\b\b\b\b\b\b\b\b\b\b\b\b\b\b\b\b\b\b\b\b\b\b\b\b\b\b\b\b\b\b\b\b\b\b\b\b\b\b\b\b\b\b\b\b\b\b\b\b\b\b\b\b\b\b\b\b\b\b\b\b\b\b\b\b\b\b\b\b\b\b\b\b\b\b\b\b\b\b\b\b\b\b\b\b\b\b\b\b\b\b\b\b\b\r",
      " 73/268 [=======>......................] - ETA: 3:24 - loss: 2.9579 - diease_outputs_loss: 1.3524 - grow_outputs_loss: 1.6055 - diease_outputs_accuracy: 0.2643 - grow_outputs_accuracy: 0.2239"
     ]
    },
    {
     "name": "stderr",
     "output_type": "stream",
     "text": [
      "wandb: ERROR Dropped streaming file chunk (see wandb/debug-internal.log)\n",
      "ERROR:root:dropped chunk 404 Client Error: Not Found for url: https://api.wandb.ai/files/hkleee/strawberry/y3mrlkcy/file_stream\n",
      "NoneType: None\n"
     ]
    },
    {
     "name": "stdout",
     "output_type": "stream",
     "text": [
      "101/268 [==========>...................] - ETA: 2:55 - loss: 2.9572 - diease_outputs_loss: 1.3522 - grow_outputs_loss: 1.6050 - diease_outputs_accuracy: 0.2671 - grow_outputs_accuracy: 0.2259"
     ]
    },
    {
     "name": "stderr",
     "output_type": "stream",
     "text": [
      "wandb: ERROR Dropped streaming file chunk (see wandb/debug-internal.log)\n",
      "ERROR:root:dropped chunk 404 Client Error: Not Found for url: https://api.wandb.ai/files/hkleee/strawberry/y3mrlkcy/file_stream\n",
      "NoneType: None\n",
      "wandb: ERROR Dropped streaming file chunk (see wandb/debug-internal.log)\n",
      "ERROR:root:dropped chunk 404 Client Error: Not Found for url: https://api.wandb.ai/files/hkleee/strawberry/y3mrlkcy/file_stream\n",
      "NoneType: None\n"
     ]
    },
    {
     "name": "stdout",
     "output_type": "stream",
     "text": [
      "129/268 [=============>................] - ETA: 2:26 - loss: 2.9568 - diease_outputs_loss: 1.3519 - grow_outputs_loss: 1.6049 - diease_outputs_accuracy: 0.2700 - grow_outputs_accuracy: 0.2262"
     ]
    },
    {
     "name": "stderr",
     "output_type": "stream",
     "text": [
      "wandb: ERROR Dropped streaming file chunk (see wandb/debug-internal.log)\n",
      "ERROR:root:dropped chunk 404 Client Error: Not Found for url: https://api.wandb.ai/files/hkleee/strawberry/y3mrlkcy/file_stream\n",
      "NoneType: None\n"
     ]
    },
    {
     "name": "stdout",
     "output_type": "stream",
     "text": [
      "\b\b\b\b\b\b\b\b\b\b\b\b\b\b\b\b\b\b\b\b\b\b\b\b\b\b\b\b\b\b\b\b\b\b\b\b\b\b\b\b\b\b\b\b\b\b\b\b\b\b\b\b\b\b\b\b\b\b\b\b\b\b\b\b\b\b\b\b\b\b\b\b\b\b\b\b\b\b\b\b\b\b\b\b\b\b\b\b\b\b\b\b\b\b\b\b\b\b\b\b\b\b\b\b\b\b\b\b\b\b\b\b\b\b\b\b\b\b\b\b\b\b\b\b\b\b\b\b\b\b\b\b\b\b\b\b\b\b\b\b\b\b\b\b\b\b\b\b\b\b\b\b\b\b\b\b\b\b\b\b\b\b\b\b\b\b\b\b\b\b\b\b\b\b\b\b\b\b\b\b\b\b\b\b\b\b\b\b\b\b\b\r",
      "130/268 [=============>................] - ETA: 2:25 - loss: 2.9568 - diease_outputs_loss: 1.3519 - grow_outputs_loss: 1.6049 - diease_outputs_accuracy: 0.2702 - grow_outputs_accuracy: 0.2262"
     ]
    },
    {
     "name": "stderr",
     "output_type": "stream",
     "text": [
      "wandb: ERROR Dropped streaming file chunk (see wandb/debug-internal.log)\n",
      "ERROR:root:dropped chunk 404 Client Error: Not Found for url: https://api.wandb.ai/files/hkleee/strawberry/y3mrlkcy/file_stream\n",
      "NoneType: None\n"
     ]
    },
    {
     "name": "stdout",
     "output_type": "stream",
     "text": [
      "158/268 [================>.............] - ETA: 1:55 - loss: 2.9565 - diease_outputs_loss: 1.3516 - grow_outputs_loss: 1.6048 - diease_outputs_accuracy: 0.2726 - grow_outputs_accuracy: 0.2261"
     ]
    },
    {
     "name": "stderr",
     "output_type": "stream",
     "text": [
      "wandb: ERROR Dropped streaming file chunk (see wandb/debug-internal.log)\n",
      "ERROR:root:dropped chunk 404 Client Error: Not Found for url: https://api.wandb.ai/files/hkleee/strawberry/y3mrlkcy/file_stream\n",
      "NoneType: None\n",
      "wandb: ERROR Dropped streaming file chunk (see wandb/debug-internal.log)\n",
      "ERROR:root:dropped chunk 404 Client Error: Not Found for url: https://api.wandb.ai/files/hkleee/strawberry/y3mrlkcy/file_stream\n",
      "NoneType: None\n"
     ]
    },
    {
     "name": "stdout",
     "output_type": "stream",
     "text": [
      "186/268 [===================>..........] - ETA: 1:26 - loss: 2.9562 - diease_outputs_loss: 1.3514 - grow_outputs_loss: 1.6049 - diease_outputs_accuracy: 0.2744 - grow_outputs_accuracy: 0.2259"
     ]
    },
    {
     "name": "stderr",
     "output_type": "stream",
     "text": [
      "wandb: ERROR Dropped streaming file chunk (see wandb/debug-internal.log)\n",
      "ERROR:root:dropped chunk 404 Client Error: Not Found for url: https://api.wandb.ai/files/hkleee/strawberry/y3mrlkcy/file_stream\n",
      "NoneType: None\n"
     ]
    },
    {
     "name": "stdout",
     "output_type": "stream",
     "text": [
      "\b\b\b\b\b\b\b\b\b\b\b\b\b\b\b\b\b\b\b\b\b\b\b\b\b\b\b\b\b\b\b\b\b\b\b\b\b\b\b\b\b\b\b\b\b\b\b\b\b\b\b\b\b\b\b\b\b\b\b\b\b\b\b\b\b\b\b\b\b\b\b\b\b\b\b\b\b\b\b\b\b\b\b\b\b\b\b\b\b\b\b\b\b\b\b\b\b\b\b\b\b\b\b\b\b\b\b\b\b\b\b\b\b\b\b\b\b\b\b\b\b\b\b\b\b\b\b\b\b\b\b\b\b\b\b\b\b\b\b\b\b\b\b\b\b\b\b\b\b\b\b\b\b\b\b\b\b\b\b\b\b\b\b\b\b\b\b\b\b\b\b\b\b\b\b\b\b\b\b\b\b\b\b\b\b\b\b\b\b\b\b\r",
      "187/268 [===================>..........] - ETA: 1:25 - loss: 2.9562 - diease_outputs_loss: 1.3514 - grow_outputs_loss: 1.6049 - diease_outputs_accuracy: 0.2745 - grow_outputs_accuracy: 0.2259"
     ]
    },
    {
     "name": "stderr",
     "output_type": "stream",
     "text": [
      "wandb: ERROR Dropped streaming file chunk (see wandb/debug-internal.log)\n",
      "ERROR:root:dropped chunk 404 Client Error: Not Found for url: https://api.wandb.ai/files/hkleee/strawberry/y3mrlkcy/file_stream\n",
      "NoneType: None\n"
     ]
    },
    {
     "name": "stdout",
     "output_type": "stream",
     "text": [
      "215/268 [=======================>......] - ETA: 55s - loss: 2.9561 - diease_outputs_loss: 1.3512 - grow_outputs_loss: 1.6049 - diease_outputs_accuracy: 0.2754 - grow_outputs_accuracy: 0.2258"
     ]
    },
    {
     "name": "stderr",
     "output_type": "stream",
     "text": [
      "wandb: ERROR Dropped streaming file chunk (see wandb/debug-internal.log)\n",
      "ERROR:root:dropped chunk 404 Client Error: Not Found for url: https://api.wandb.ai/files/hkleee/strawberry/y3mrlkcy/file_stream\n",
      "NoneType: None\n",
      "wandb: ERROR Dropped streaming file chunk (see wandb/debug-internal.log)\n",
      "ERROR:root:dropped chunk 404 Client Error: Not Found for url: https://api.wandb.ai/files/hkleee/strawberry/y3mrlkcy/file_stream\n",
      "NoneType: None\n"
     ]
    },
    {
     "name": "stdout",
     "output_type": "stream",
     "text": [
      "244/268 [==========================>...] - ETA: 25s - loss: 2.9559 - diease_outputs_loss: 1.3510 - grow_outputs_loss: 1.6048 - diease_outputs_accuracy: 0.2760 - grow_outputs_accuracy: 0.2259"
     ]
    },
    {
     "name": "stderr",
     "output_type": "stream",
     "text": [
      "wandb: ERROR Dropped streaming file chunk (see wandb/debug-internal.log)\n",
      "ERROR:root:dropped chunk 404 Client Error: Not Found for url: https://api.wandb.ai/files/hkleee/strawberry/y3mrlkcy/file_stream\n",
      "NoneType: None\n",
      "wandb: ERROR Dropped streaming file chunk (see wandb/debug-internal.log)\n",
      "ERROR:root:dropped chunk 404 Client Error: Not Found for url: https://api.wandb.ai/files/hkleee/strawberry/y3mrlkcy/file_stream\n",
      "NoneType: None\n"
     ]
    },
    {
     "name": "stdout",
     "output_type": "stream",
     "text": [
      "268/268 [==============================] - ETA: 0s - loss: 2.9557 - diease_outputs_loss: 1.3509 - grow_outputs_loss: 1.6048 - diease_outputs_accuracy: 0.2765 - grow_outputs_accuracy: 0.2261"
     ]
    },
    {
     "name": "stderr",
     "output_type": "stream",
     "text": [
      "wandb: ERROR Dropped streaming file chunk (see wandb/debug-internal.log)\n",
      "ERROR:root:dropped chunk 404 Client Error: Not Found for url: https://api.wandb.ai/files/hkleee/strawberry/y3mrlkcy/file_stream\n",
      "NoneType: None\n",
      "wandb: ERROR Dropped streaming file chunk (see wandb/debug-internal.log)\n",
      "ERROR:root:dropped chunk 404 Client Error: Not Found for url: https://api.wandb.ai/files/hkleee/strawberry/y3mrlkcy/file_stream\n",
      "NoneType: None\n"
     ]
    },
    {
     "name": "stdout",
     "output_type": "stream",
     "text": [
      "268/268 [==============================] - 296s 1s/step - loss: 2.9557 - diease_outputs_loss: 1.3509 - grow_outputs_loss: 1.6048 - diease_outputs_accuracy: 0.2765 - grow_outputs_accuracy: 0.2261 - val_loss: 2.9478 - val_diease_outputs_loss: 1.3478 - val_grow_outputs_loss: 1.5999 - val_diease_outputs_accuracy: 0.2854 - val_grow_outputs_accuracy: 0.2295\n",
      "Epoch 9/10\n",
      " 27/268 [==>...........................] - ETA: 4:13 - loss: 2.9498 - diease_outputs_loss: 1.3494 - grow_outputs_loss: 1.6004 - diease_outputs_accuracy: 0.2760 - grow_outputs_accuracy: 0.2472"
     ]
    },
    {
     "name": "stderr",
     "output_type": "stream",
     "text": [
      "wandb: ERROR Dropped streaming file chunk (see wandb/debug-internal.log)\n",
      "ERROR:root:dropped chunk 404 Client Error: Not Found for url: https://api.wandb.ai/files/hkleee/strawberry/y3mrlkcy/file_stream\n",
      "NoneType: None\n",
      "wandb: ERROR Dropped streaming file chunk (see wandb/debug-internal.log)\n",
      "ERROR:root:dropped chunk 404 Client Error: Not Found for url: https://api.wandb.ai/files/hkleee/strawberry/y3mrlkcy/file_stream\n",
      "NoneType: None\n"
     ]
    },
    {
     "name": "stdout",
     "output_type": "stream",
     "text": [
      " 56/268 [=====>........................] - ETA: 3:43 - loss: 2.9507 - diease_outputs_loss: 1.3483 - grow_outputs_loss: 1.6024 - diease_outputs_accuracy: 0.2815 - grow_outputs_accuracy: 0.2382"
     ]
    },
    {
     "name": "stderr",
     "output_type": "stream",
     "text": [
      "wandb: ERROR Dropped streaming file chunk (see wandb/debug-internal.log)\n",
      "ERROR:root:dropped chunk 404 Client Error: Not Found for url: https://api.wandb.ai/files/hkleee/strawberry/y3mrlkcy/file_stream\n",
      "NoneType: None\n"
     ]
    },
    {
     "name": "stdout",
     "output_type": "stream",
     "text": [
      " 85/268 [========>.....................] - ETA: 3:12 - loss: 2.9514 - diease_outputs_loss: 1.3478 - grow_outputs_loss: 1.6036 - diease_outputs_accuracy: 0.2842 - grow_outputs_accuracy: 0.2321"
     ]
    },
    {
     "name": "stderr",
     "output_type": "stream",
     "text": [
      "wandb: ERROR Dropped streaming file chunk (see wandb/debug-internal.log)\n",
      "ERROR:root:dropped chunk 404 Client Error: Not Found for url: https://api.wandb.ai/files/hkleee/strawberry/y3mrlkcy/file_stream\n",
      "NoneType: None\n"
     ]
    },
    {
     "name": "stdout",
     "output_type": "stream",
     "text": [
      "\b\b\b\b\b\b\b\b\b\b\b\b\b\b\b\b\b\b\b\b\b\b\b\b\b\b\b\b\b\b\b\b\b\b\b\b\b\b\b\b\b\b\b\b\b\b\b\b\b\b\b\b\b\b\b\b\b\b\b\b\b\b\b\b\b\b\b\b\b\b\b\b\b\b\b\b\b\b\b\b\b\b\b\b\b\b\b\b\b\b\b\b\b\b\b\b\b\b\b\b\b\b\b\b\b\b\b\b\b\b\b\b\b\b\b\b\b\b\b\b\b\b\b\b\b\b\b\b\b\b\b\b\b\b\b\b\b\b\b\b\b\b\b\b\b\b\b\b\b\b\b\b\b\b\b\b\b\b\b\b\b\b\b\b\b\b\b\b\b\b\b\b\b\b\b\b\b\b\b\b\b\b\b\b\b\b\b\b\b\b\b\r",
      " 86/268 [========>.....................] - ETA: 3:11 - loss: 2.9514 - diease_outputs_loss: 1.3478 - grow_outputs_loss: 1.6036 - diease_outputs_accuracy: 0.2843 - grow_outputs_accuracy: 0.2320"
     ]
    },
    {
     "name": "stderr",
     "output_type": "stream",
     "text": [
      "wandb: ERROR Dropped streaming file chunk (see wandb/debug-internal.log)\n",
      "ERROR:root:dropped chunk 404 Client Error: Not Found for url: https://api.wandb.ai/files/hkleee/strawberry/y3mrlkcy/file_stream\n",
      "NoneType: None\n"
     ]
    },
    {
     "name": "stdout",
     "output_type": "stream",
     "text": [
      "114/268 [===========>..................] - ETA: 2:42 - loss: 2.9512 - diease_outputs_loss: 1.3474 - grow_outputs_loss: 1.6039 - diease_outputs_accuracy: 0.2860 - grow_outputs_accuracy: 0.2305"
     ]
    },
    {
     "name": "stderr",
     "output_type": "stream",
     "text": [
      "wandb: ERROR Dropped streaming file chunk (see wandb/debug-internal.log)\n",
      "ERROR:root:dropped chunk 404 Client Error: Not Found for url: https://api.wandb.ai/files/hkleee/strawberry/y3mrlkcy/file_stream\n",
      "NoneType: None\n",
      "wandb: ERROR Dropped streaming file chunk (see wandb/debug-internal.log)\n",
      "ERROR:root:dropped chunk 404 Client Error: Not Found for url: https://api.wandb.ai/files/hkleee/strawberry/y3mrlkcy/file_stream\n",
      "NoneType: None\n"
     ]
    },
    {
     "name": "stdout",
     "output_type": "stream",
     "text": [
      "143/268 [===============>..............] - ETA: 2:11 - loss: 2.9509 - diease_outputs_loss: 1.3471 - grow_outputs_loss: 1.6038 - diease_outputs_accuracy: 0.2864 - grow_outputs_accuracy: 0.2303"
     ]
    },
    {
     "name": "stderr",
     "output_type": "stream",
     "text": [
      "wandb: ERROR Dropped streaming file chunk (see wandb/debug-internal.log)\n",
      "ERROR:root:dropped chunk 404 Client Error: Not Found for url: https://api.wandb.ai/files/hkleee/strawberry/y3mrlkcy/file_stream\n",
      "NoneType: None\n",
      "wandb: ERROR Dropped streaming file chunk (see wandb/debug-internal.log)\n",
      "ERROR:root:dropped chunk 404 Client Error: Not Found for url: https://api.wandb.ai/files/hkleee/strawberry/y3mrlkcy/file_stream\n",
      "NoneType: None\n"
     ]
    },
    {
     "name": "stdout",
     "output_type": "stream",
     "text": [
      "171/268 [==================>...........] - ETA: 1:41 - loss: 2.9506 - diease_outputs_loss: 1.3468 - grow_outputs_loss: 1.6038 - diease_outputs_accuracy: 0.2864 - grow_outputs_accuracy: 0.2301"
     ]
    },
    {
     "name": "stderr",
     "output_type": "stream",
     "text": [
      "wandb: ERROR Dropped streaming file chunk (see wandb/debug-internal.log)\n",
      "ERROR:root:dropped chunk 404 Client Error: Not Found for url: https://api.wandb.ai/files/hkleee/strawberry/y3mrlkcy/file_stream\n",
      "NoneType: None\n"
     ]
    },
    {
     "name": "stdout",
     "output_type": "stream",
     "text": [
      "\b\b\b\b\b\b\b\b\b\b\b\b\b\b\b\b\b\b\b\b\b\b\b\b\b\b\b\b\b\b\b\b\b\b\b\b\b\b\b\b\b\b\b\b\b\b\b\b\b\b\b\b\b\b\b\b\b\b\b\b\b\b\b\b\b\b\b\b\b\b\b\b\b\b\b\b\b\b\b\b\b\b\b\b\b\b\b\b\b\b\b\b\b\b\b\b\b\b\b\b\b\b\b\b\b\b\b\b\b\b\b\b\b\b\b\b\b\b\b\b\b\b\b\b\b\b\b\b\b\b\b\b\b\b\b\b\b\b\b\b\b\b\b\b\b\b\b\b\b\b\b\b\b\b\b\b\b\b\b\b\b\b\b\b\b\b\b\b\b\b\b\b\b\b\b\b\b\b\b\b\b\b\b\b\b\b\b\b\b\b\b\r",
      "172/268 [==================>...........] - ETA: 1:40 - loss: 2.9506 - diease_outputs_loss: 1.3468 - grow_outputs_loss: 1.6038 - diease_outputs_accuracy: 0.2864 - grow_outputs_accuracy: 0.2301"
     ]
    },
    {
     "name": "stderr",
     "output_type": "stream",
     "text": [
      "wandb: ERROR Dropped streaming file chunk (see wandb/debug-internal.log)\n",
      "ERROR:root:dropped chunk 404 Client Error: Not Found for url: https://api.wandb.ai/files/hkleee/strawberry/y3mrlkcy/file_stream\n",
      "NoneType: None\n"
     ]
    },
    {
     "name": "stdout",
     "output_type": "stream",
     "text": [
      "200/268 [=====================>........] - ETA: 1:11 - loss: 2.9504 - diease_outputs_loss: 1.3466 - grow_outputs_loss: 1.6038 - diease_outputs_accuracy: 0.2863 - grow_outputs_accuracy: 0.2301"
     ]
    },
    {
     "name": "stderr",
     "output_type": "stream",
     "text": [
      "wandb: ERROR Dropped streaming file chunk (see wandb/debug-internal.log)\n",
      "ERROR:root:dropped chunk 404 Client Error: Not Found for url: https://api.wandb.ai/files/hkleee/strawberry/y3mrlkcy/file_stream\n",
      "NoneType: None\n",
      "wandb: ERROR Dropped streaming file chunk (see wandb/debug-internal.log)\n",
      "ERROR:root:dropped chunk 404 Client Error: Not Found for url: https://api.wandb.ai/files/hkleee/strawberry/y3mrlkcy/file_stream\n",
      "NoneType: None\n"
     ]
    },
    {
     "name": "stdout",
     "output_type": "stream",
     "text": [
      "228/268 [========================>.....] - ETA: 42s - loss: 2.9502 - diease_outputs_loss: 1.3465 - grow_outputs_loss: 1.6037 - diease_outputs_accuracy: 0.2861 - grow_outputs_accuracy: 0.2303"
     ]
    },
    {
     "name": "stderr",
     "output_type": "stream",
     "text": [
      "wandb: ERROR Dropped streaming file chunk (see wandb/debug-internal.log)\n",
      "ERROR:root:dropped chunk 404 Client Error: Not Found for url: https://api.wandb.ai/files/hkleee/strawberry/y3mrlkcy/file_stream\n",
      "NoneType: None\n",
      "wandb: ERROR Dropped streaming file chunk (see wandb/debug-internal.log)\n",
      "ERROR:root:dropped chunk 404 Client Error: Not Found for url: https://api.wandb.ai/files/hkleee/strawberry/y3mrlkcy/file_stream\n",
      "NoneType: None\n"
     ]
    },
    {
     "name": "stdout",
     "output_type": "stream",
     "text": [
      "257/268 [===========================>..] - ETA: 11s - loss: 2.9500 - diease_outputs_loss: 1.3463 - grow_outputs_loss: 1.6037 - diease_outputs_accuracy: 0.2861 - grow_outputs_accuracy: 0.2306"
     ]
    },
    {
     "name": "stderr",
     "output_type": "stream",
     "text": [
      "wandb: ERROR Dropped streaming file chunk (see wandb/debug-internal.log)\n",
      "ERROR:root:dropped chunk 404 Client Error: Not Found for url: https://api.wandb.ai/files/hkleee/strawberry/y3mrlkcy/file_stream\n",
      "NoneType: None\n",
      "wandb: ERROR Dropped streaming file chunk (see wandb/debug-internal.log)\n",
      "ERROR:root:dropped chunk 404 Client Error: Not Found for url: https://api.wandb.ai/files/hkleee/strawberry/y3mrlkcy/file_stream\n",
      "NoneType: None\n"
     ]
    },
    {
     "name": "stdout",
     "output_type": "stream",
     "text": [
      "268/268 [==============================] - 296s 1s/step - loss: 2.9499 - diease_outputs_loss: 1.3463 - grow_outputs_loss: 1.6037 - diease_outputs_accuracy: 0.2860 - grow_outputs_accuracy: 0.2306 - val_loss: 2.9419 - val_diease_outputs_loss: 1.3436 - val_grow_outputs_loss: 1.5983 - val_diease_outputs_accuracy: 0.2848 - val_grow_outputs_accuracy: 0.2295\n",
      "Epoch 10/10\n",
      "  4/268 [..............................] - ETA: 4:37 - loss: 2.9408 - diease_outputs_loss: 1.3451 - grow_outputs_loss: 1.5957 - diease_outputs_accuracy: 0.2675 - grow_outputs_accuracy: 0.2821"
     ]
    },
    {
     "name": "stderr",
     "output_type": "stream",
     "text": [
      "wandb: ERROR Dropped streaming file chunk (see wandb/debug-internal.log)\n",
      "ERROR:root:dropped chunk 404 Client Error: Not Found for url: https://api.wandb.ai/files/hkleee/strawberry/y3mrlkcy/file_stream\n",
      "NoneType: None\n",
      "wandb: ERROR Dropped streaming file chunk (see wandb/debug-internal.log)\n",
      "ERROR:root:dropped chunk 404 Client Error: Not Found for url: https://api.wandb.ai/files/hkleee/strawberry/y3mrlkcy/file_stream\n",
      "NoneType: None\n"
     ]
    },
    {
     "name": "stdout",
     "output_type": "stream",
     "text": [
      " 32/268 [==>...........................] - ETA: 4:08 - loss: 2.9454 - diease_outputs_loss: 1.3429 - grow_outputs_loss: 1.6025 - diease_outputs_accuracy: 0.2689 - grow_outputs_accuracy: 0.2379"
     ]
    },
    {
     "name": "stderr",
     "output_type": "stream",
     "text": [
      "wandb: ERROR Dropped streaming file chunk (see wandb/debug-internal.log)\n",
      "ERROR:root:dropped chunk 404 Client Error: Not Found for url: https://api.wandb.ai/files/hkleee/strawberry/y3mrlkcy/file_stream\n",
      "NoneType: None\n"
     ]
    },
    {
     "name": "stdout",
     "output_type": "stream",
     "text": [
      " 61/268 [=====>........................] - ETA: 3:37 - loss: 2.9454 - diease_outputs_loss: 1.3429 - grow_outputs_loss: 1.6025 - diease_outputs_accuracy: 0.2743 - grow_outputs_accuracy: 0.2349"
     ]
    },
    {
     "name": "stderr",
     "output_type": "stream",
     "text": [
      "wandb: ERROR Dropped streaming file chunk (see wandb/debug-internal.log)\n",
      "ERROR:root:dropped chunk 404 Client Error: Not Found for url: https://api.wandb.ai/files/hkleee/strawberry/y3mrlkcy/file_stream\n",
      "NoneType: None\n",
      "wandb: ERROR Dropped streaming file chunk (see wandb/debug-internal.log)\n",
      "ERROR:root:dropped chunk 404 Client Error: Not Found for url: https://api.wandb.ai/files/hkleee/strawberry/y3mrlkcy/file_stream\n",
      "NoneType: None\n"
     ]
    },
    {
     "name": "stdout",
     "output_type": "stream",
     "text": [
      " 89/268 [========>.....................] - ETA: 3:08 - loss: 2.9449 - diease_outputs_loss: 1.3430 - grow_outputs_loss: 1.6019 - diease_outputs_accuracy: 0.2761 - grow_outputs_accuracy: 0.2354"
     ]
    },
    {
     "name": "stderr",
     "output_type": "stream",
     "text": [
      "wandb: ERROR Dropped streaming file chunk (see wandb/debug-internal.log)\n",
      "ERROR:root:dropped chunk 404 Client Error: Not Found for url: https://api.wandb.ai/files/hkleee/strawberry/y3mrlkcy/file_stream\n",
      "NoneType: None\n",
      "wandb: ERROR Dropped streaming file chunk (see wandb/debug-internal.log)\n",
      "ERROR:root:dropped chunk 404 Client Error: Not Found for url: https://api.wandb.ai/files/hkleee/strawberry/y3mrlkcy/file_stream\n",
      "NoneType: None\n"
     ]
    },
    {
     "name": "stdout",
     "output_type": "stream",
     "text": [
      "118/268 [============>.................] - ETA: 2:37 - loss: 2.9444 - diease_outputs_loss: 1.3429 - grow_outputs_loss: 1.6015 - diease_outputs_accuracy: 0.2775 - grow_outputs_accuracy: 0.2363"
     ]
    },
    {
     "name": "stderr",
     "output_type": "stream",
     "text": [
      "wandb: ERROR Dropped streaming file chunk (see wandb/debug-internal.log)\n",
      "ERROR:root:dropped chunk 404 Client Error: Not Found for url: https://api.wandb.ai/files/hkleee/strawberry/y3mrlkcy/file_stream\n",
      "NoneType: None\n",
      "wandb: ERROR Dropped streaming file chunk (see wandb/debug-internal.log)\n",
      "ERROR:root:dropped chunk 404 Client Error: Not Found for url: https://api.wandb.ai/files/hkleee/strawberry/y3mrlkcy/file_stream\n",
      "NoneType: None\n"
     ]
    },
    {
     "name": "stdout",
     "output_type": "stream",
     "text": [
      "146/268 [===============>..............] - ETA: 2:08 - loss: 2.9439 - diease_outputs_loss: 1.3427 - grow_outputs_loss: 1.6012 - diease_outputs_accuracy: 0.2789 - grow_outputs_accuracy: 0.2369"
     ]
    },
    {
     "name": "stderr",
     "output_type": "stream",
     "text": [
      "wandb: ERROR Dropped streaming file chunk (see wandb/debug-internal.log)\n",
      "ERROR:root:dropped chunk 404 Client Error: Not Found for url: https://api.wandb.ai/files/hkleee/strawberry/y3mrlkcy/file_stream\n",
      "NoneType: None\n"
     ]
    },
    {
     "name": "stdout",
     "output_type": "stream",
     "text": [
      "\b\b\b\b\b\b\b\b\b\b\b\b\b\b\b\b\b\b\b\b\b\b\b\b\b\b\b\b\b\b\b\b\b\b\b\b\b\b\b\b\b\b\b\b\b\b\b\b\b\b\b\b\b\b\b\b\b\b\b\b\b\b\b\b\b\b\b\b\b\b\b\b\b\b\b\b\b\b\b\b\b\b\b\b\b\b\b\b\b\b\b\b\b\b\b\b\b\b\b\b\b\b\b\b\b\b\b\b\b\b\b\b\b\b\b\b\b\b\b\b\b\b\b\b\b\b\b\b\b\b\b\b\b\b\b\b\b\b\b\b\b\b\b\b\b\b\b\b\b\b\b\b\b\b\b\b\b\b\b\b\b\b\b\b\b\b\b\b\b\b\b\b\b\b\b\b\b\b\b\b\b\b\b\b\b\b\b\b\b\b\b\r",
      "147/268 [===============>..............] - ETA: 2:07 - loss: 2.9439 - diease_outputs_loss: 1.3427 - grow_outputs_loss: 1.6012 - diease_outputs_accuracy: 0.2789 - grow_outputs_accuracy: 0.2370"
     ]
    },
    {
     "name": "stderr",
     "output_type": "stream",
     "text": [
      "wandb: ERROR Dropped streaming file chunk (see wandb/debug-internal.log)\n",
      "ERROR:root:dropped chunk 404 Client Error: Not Found for url: https://api.wandb.ai/files/hkleee/strawberry/y3mrlkcy/file_stream\n",
      "NoneType: None\n"
     ]
    },
    {
     "name": "stdout",
     "output_type": "stream",
     "text": [
      "175/268 [==================>...........] - ETA: 1:37 - loss: 2.9434 - diease_outputs_loss: 1.3424 - grow_outputs_loss: 1.6010 - diease_outputs_accuracy: 0.2804 - grow_outputs_accuracy: 0.2374"
     ]
    },
    {
     "name": "stderr",
     "output_type": "stream",
     "text": [
      "wandb: ERROR Dropped streaming file chunk (see wandb/debug-internal.log)\n",
      "ERROR:root:dropped chunk 404 Client Error: Not Found for url: https://api.wandb.ai/files/hkleee/strawberry/y3mrlkcy/file_stream\n",
      "NoneType: None\n",
      "wandb: ERROR Dropped streaming file chunk (see wandb/debug-internal.log)\n",
      "ERROR:root:dropped chunk 404 Client Error: Not Found for url: https://api.wandb.ai/files/hkleee/strawberry/y3mrlkcy/file_stream\n",
      "NoneType: None\n"
     ]
    },
    {
     "name": "stdout",
     "output_type": "stream",
     "text": [
      "204/268 [=====================>........] - ETA: 1:07 - loss: 2.9432 - diease_outputs_loss: 1.3423 - grow_outputs_loss: 1.6009 - diease_outputs_accuracy: 0.2814 - grow_outputs_accuracy: 0.2371"
     ]
    },
    {
     "name": "stderr",
     "output_type": "stream",
     "text": [
      "wandb: ERROR Dropped streaming file chunk (see wandb/debug-internal.log)\n",
      "ERROR:root:dropped chunk 404 Client Error: Not Found for url: https://api.wandb.ai/files/hkleee/strawberry/y3mrlkcy/file_stream\n",
      "NoneType: None\n",
      "wandb: ERROR Dropped streaming file chunk (see wandb/debug-internal.log)\n",
      "ERROR:root:dropped chunk 404 Client Error: Not Found for url: https://api.wandb.ai/files/hkleee/strawberry/y3mrlkcy/file_stream\n",
      "NoneType: None\n"
     ]
    },
    {
     "name": "stdout",
     "output_type": "stream",
     "text": [
      "232/268 [========================>.....] - ETA: 37s - loss: 2.9430 - diease_outputs_loss: 1.3421 - grow_outputs_loss: 1.6009 - diease_outputs_accuracy: 0.2821 - grow_outputs_accuracy: 0.2367"
     ]
    },
    {
     "name": "stderr",
     "output_type": "stream",
     "text": [
      "wandb: ERROR Dropped streaming file chunk (see wandb/debug-internal.log)\n",
      "ERROR:root:dropped chunk 404 Client Error: Not Found for url: https://api.wandb.ai/files/hkleee/strawberry/y3mrlkcy/file_stream\n",
      "NoneType: None\n"
     ]
    },
    {
     "name": "stdout",
     "output_type": "stream",
     "text": [
      "\b\b\b\b\b\b\b\b\b\b\b\b\b\b\b\b\b\b\b\b\b\b\b\b\b\b\b\b\b\b\b\b\b\b\b\b\b\b\b\b\b\b\b\b\b\b\b\b\b\b\b\b\b\b\b\b\b\b\b\b\b\b\b\b\b\b\b\b\b\b\b\b\b\b\b\b\b\b\b\b\b\b\b\b\b\b\b\b\b\b\b\b\b\b\b\b\b\b\b\b\b\b\b\b\b\b\b\b\b\b\b\b\b\b\b\b\b\b\b\b\b\b\b\b\b\b\b\b\b\b\b\b\b\b\b\b\b\b\b\b\b\b\b\b\b\b\b\b\b\b\b\b\b\b\b\b\b\b\b\b\b\b\b\b\b\b\b\b\b\b\b\b\b\b\b\b\b\b\b\b\b\b\b\b\b\b\b\b\b\b\r",
      "233/268 [=========================>....] - ETA: 36s - loss: 2.9430 - diease_outputs_loss: 1.3421 - grow_outputs_loss: 1.6009 - diease_outputs_accuracy: 0.2821 - grow_outputs_accuracy: 0.2367"
     ]
    },
    {
     "name": "stderr",
     "output_type": "stream",
     "text": [
      "wandb: ERROR Dropped streaming file chunk (see wandb/debug-internal.log)\n",
      "ERROR:root:dropped chunk 404 Client Error: Not Found for url: https://api.wandb.ai/files/hkleee/strawberry/y3mrlkcy/file_stream\n",
      "NoneType: None\n"
     ]
    },
    {
     "name": "stdout",
     "output_type": "stream",
     "text": [
      "261/268 [============================>.] - ETA: 7s - loss: 2.9428 - diease_outputs_loss: 1.3420 - grow_outputs_loss: 1.6008 - diease_outputs_accuracy: 0.2826 - grow_outputs_accuracy: 0.2365"
     ]
    },
    {
     "name": "stderr",
     "output_type": "stream",
     "text": [
      "wandb: ERROR Dropped streaming file chunk (see wandb/debug-internal.log)\n",
      "ERROR:root:dropped chunk 404 Client Error: Not Found for url: https://api.wandb.ai/files/hkleee/strawberry/y3mrlkcy/file_stream\n",
      "NoneType: None\n",
      "wandb: ERROR Dropped streaming file chunk (see wandb/debug-internal.log)\n",
      "ERROR:root:dropped chunk 404 Client Error: Not Found for url: https://api.wandb.ai/files/hkleee/strawberry/y3mrlkcy/file_stream\n",
      "NoneType: None\n"
     ]
    },
    {
     "name": "stdout",
     "output_type": "stream",
     "text": [
      "268/268 [==============================] - 296s 1s/step - loss: 2.9427 - diease_outputs_loss: 1.3419 - grow_outputs_loss: 1.6008 - diease_outputs_accuracy: 0.2828 - grow_outputs_accuracy: 0.2364 - val_loss: 2.9363 - val_diease_outputs_loss: 1.3393 - val_grow_outputs_loss: 1.5970 - val_diease_outputs_accuracy: 0.2845 - val_grow_outputs_accuracy: 0.2295\n"
     ]
    },
    {
     "data": {
      "text/html": [
       "Waiting for W&B process to finish... <strong style=\"color:green\">(success).</strong>"
      ],
      "text/plain": [
       "<IPython.core.display.HTML object>"
      ]
     },
     "metadata": {},
     "output_type": "display_data"
    },
    {
     "name": "stderr",
     "output_type": "stream",
     "text": [
      "wandb: ERROR Error while calling W&B API: Error 1062: Duplicate entry '1049529-y3mrlkcy' for key 'PRIMARY' (<Response [409]>)\n",
      "Thread SenderThread:\n",
      "Traceback (most recent call last):\n",
      "  File \"/home/ubuntu/anaconda3/envs/smartpot/lib/python3.9/site-packages/wandb/apis/normalize.py\", line 22, in wrapper\n",
      "    return func(*args, **kwargs)\n",
      "  File \"/home/ubuntu/anaconda3/envs/smartpot/lib/python3.9/site-packages/wandb/sdk/internal/internal_api.py\", line 1319, in upsert_run\n",
      "    response = self.gql(mutation, variable_values=variable_values, **kwargs)\n",
      "  File \"/home/ubuntu/anaconda3/envs/smartpot/lib/python3.9/site-packages/wandb/sdk/lib/retry.py\", line 102, in __call__\n",
      "    result = self._call_fn(*args, **kwargs)\n",
      "  File \"/home/ubuntu/anaconda3/envs/smartpot/lib/python3.9/site-packages/wandb/sdk/internal/internal_api.py\", line 140, in execute\n",
      "    return self.client.execute(*args, **kwargs)\n",
      "  File \"/home/ubuntu/anaconda3/envs/smartpot/lib/python3.9/site-packages/wandb/vendor/gql-0.2.0/wandb_gql/client.py\", line 52, in execute\n",
      "    result = self._get_result(document, *args, **kwargs)\n",
      "  File \"/home/ubuntu/anaconda3/envs/smartpot/lib/python3.9/site-packages/wandb/vendor/gql-0.2.0/wandb_gql/client.py\", line 60, in _get_result\n",
      "    return self.transport.execute(document, *args, **kwargs)\n",
      "  File \"/home/ubuntu/anaconda3/envs/smartpot/lib/python3.9/site-packages/wandb/vendor/gql-0.2.0/wandb_gql/transport/requests.py\", line 39, in execute\n",
      "    request.raise_for_status()\n",
      "  File \"/home/ubuntu/anaconda3/envs/smartpot/lib/python3.9/site-packages/requests/models.py\", line 960, in raise_for_status\n",
      "    raise HTTPError(http_error_msg, response=self)\n",
      "requests.exceptions.HTTPError: 409 Client Error: Conflict for url: https://api.wandb.ai/graphql\n",
      "\n",
      "During handling of the above exception, another exception occurred:\n",
      "\n",
      "Traceback (most recent call last):\n",
      "  File \"/home/ubuntu/anaconda3/envs/smartpot/lib/python3.9/site-packages/wandb/sdk/internal/internal_util.py\", line 51, in run\n",
      "    self._run()\n",
      "  File \"/home/ubuntu/anaconda3/envs/smartpot/lib/python3.9/site-packages/wandb/sdk/internal/internal_util.py\", line 102, in _run\n",
      "    self._process(record)\n",
      "  File \"/home/ubuntu/anaconda3/envs/smartpot/lib/python3.9/site-packages/wandb/sdk/internal/internal.py\", line 310, in _process\n",
      "    self._sm.send(record)\n",
      "  File \"/home/ubuntu/anaconda3/envs/smartpot/lib/python3.9/site-packages/wandb/sdk/internal/sender.py\", line 237, in send\n",
      "    send_handler(record)\n",
      "  File \"/home/ubuntu/anaconda3/envs/smartpot/lib/python3.9/site-packages/wandb/sdk/internal/sender.py\", line 251, in send_request\n",
      "    send_handler(record)\n",
      "  File \"/home/ubuntu/anaconda3/envs/smartpot/lib/python3.9/site-packages/wandb/sdk/internal/sender.py\", line 411, in send_request_defer\n",
      "    self.debounce()\n",
      "  File \"/home/ubuntu/anaconda3/envs/smartpot/lib/python3.9/site-packages/wandb/sdk/internal/sender.py\", line 320, in debounce\n",
      "    self._debounce_config()\n",
      "  File \"/home/ubuntu/anaconda3/envs/smartpot/lib/python3.9/site-packages/wandb/sdk/internal/sender.py\", line 326, in _debounce_config\n",
      "    self._api.upsert_run(\n",
      "  File \"/home/ubuntu/anaconda3/envs/smartpot/lib/python3.9/site-packages/wandb/apis/normalize.py\", line 24, in wrapper\n",
      "    raise CommError(err.response, err)\n",
      "wandb.errors.CommError: <Response [409]>\n",
      "wandb: ERROR Internal wandb error: file data was not synced\n",
      "Run y3mrlkcy errored: Exception('The wandb backend process has shutdown')\n",
      "\u001b[34m\u001b[1mwandb\u001b[0m: \u001b[32m\u001b[41mERROR\u001b[0m Run y3mrlkcy errored: Exception('The wandb backend process has shutdown')\n",
      "\u001b[34m\u001b[1mwandb\u001b[0m: Agent Starting Run: 9pfvitch with config:\n",
      "\u001b[34m\u001b[1mwandb\u001b[0m: \tactivation: softmax\n",
      "\u001b[34m\u001b[1mwandb\u001b[0m: \tbatch_size: 50\n",
      "\u001b[34m\u001b[1mwandb\u001b[0m: \tdense: 32\n",
      "\u001b[34m\u001b[1mwandb\u001b[0m: \tdropout: 0.2\n",
      "\u001b[34m\u001b[1mwandb\u001b[0m: \tlearning_rate: 0.001\n",
      "\u001b[34m\u001b[1mwandb\u001b[0m: \toptimizer: rmsprop\n",
      "\u001b[34m\u001b[1mwandb\u001b[0m: \tpretrain_net: resnet\n",
      "Failed to detect the name of this notebook, you can set it manually with the WANDB_NOTEBOOK_NAME environment variable to enable code saving.\n"
     ]
    },
    {
     "data": {
      "text/html": [
       "Tracking run with wandb version 0.12.18"
      ],
      "text/plain": [
       "<IPython.core.display.HTML object>"
      ]
     },
     "metadata": {},
     "output_type": "display_data"
    },
    {
     "data": {
      "text/html": [
       "Run data is saved locally in <code>/home/lab38/Multi_proj_6/model/multi-output/strawberry/sweep/wandb/run-20220618_095426-9pfvitch</code>"
      ],
      "text/plain": [
       "<IPython.core.display.HTML object>"
      ]
     },
     "metadata": {},
     "output_type": "display_data"
    },
    {
     "data": {
      "text/html": [
       "Syncing run <strong><a href=\"https://wandb.ai/hkleee/strawberry/runs/9pfvitch\" target=\"_blank\">atomic-sweep-24</a></strong> to <a href=\"https://wandb.ai/hkleee/strawberry\" target=\"_blank\">Weights & Biases</a> (<a href=\"https://wandb.me/run\" target=\"_blank\">docs</a>)<br/>Sweep page:  <a href=\"https://wandb.ai/hkleee/strawberry/sweeps/natutesf\" target=\"_blank\">https://wandb.ai/hkleee/strawberry/sweeps/natutesf</a>"
      ],
      "text/plain": [
       "<IPython.core.display.HTML object>"
      ]
     },
     "metadata": {},
     "output_type": "display_data"
    },
    {
     "data": {
      "text/html": [
       "Finishing last run (ID:9pfvitch) before initializing another..."
      ],
      "text/plain": [
       "<IPython.core.display.HTML object>"
      ]
     },
     "metadata": {},
     "output_type": "display_data"
    },
    {
     "data": {
      "text/html": [
       "Waiting for W&B process to finish... <strong style=\"color:green\">(success).</strong>"
      ],
      "text/plain": [
       "<IPython.core.display.HTML object>"
      ]
     },
     "metadata": {},
     "output_type": "display_data"
    },
    {
     "data": {
      "text/html": [
       "Synced <strong style=\"color:#cdcd00\">atomic-sweep-24</strong>: <a href=\"https://wandb.ai/hkleee/strawberry/runs/9pfvitch\" target=\"_blank\">https://wandb.ai/hkleee/strawberry/runs/9pfvitch</a><br/>Synced 5 W&B file(s), 0 media file(s), 0 artifact file(s) and 0 other file(s)"
      ],
      "text/plain": [
       "<IPython.core.display.HTML object>"
      ]
     },
     "metadata": {},
     "output_type": "display_data"
    },
    {
     "data": {
      "text/html": [
       "Find logs at: <code>./wandb/run-20220618_095426-9pfvitch/logs</code>"
      ],
      "text/plain": [
       "<IPython.core.display.HTML object>"
      ]
     },
     "metadata": {},
     "output_type": "display_data"
    },
    {
     "data": {
      "text/html": [
       "Successfully finished last run (ID:9pfvitch). Initializing new run:<br/>"
      ],
      "text/plain": [
       "<IPython.core.display.HTML object>"
      ]
     },
     "metadata": {},
     "output_type": "display_data"
    },
    {
     "data": {
      "text/html": [
       "Tracking run with wandb version 0.12.18"
      ],
      "text/plain": [
       "<IPython.core.display.HTML object>"
      ]
     },
     "metadata": {},
     "output_type": "display_data"
    },
    {
     "data": {
      "text/html": [
       "Run data is saved locally in <code>/home/lab38/Multi_proj_6/model/multi-output/strawberry/sweep/wandb/run-20220618_095430-9pfvitch</code>"
      ],
      "text/plain": [
       "<IPython.core.display.HTML object>"
      ]
     },
     "metadata": {},
     "output_type": "display_data"
    },
    {
     "data": {
      "text/html": [
       "Syncing run <strong><a href=\"https://wandb.ai/hkleee/strawberry/runs/9pfvitch\" target=\"_blank\">atomic-sweep-24</a></strong> to <a href=\"https://wandb.ai/hkleee/strawberry\" target=\"_blank\">Weights & Biases</a> (<a href=\"https://wandb.me/run\" target=\"_blank\">docs</a>)<br/>Sweep page:  <a href=\"https://wandb.ai/hkleee/strawberry/sweeps/natutesf\" target=\"_blank\">https://wandb.ai/hkleee/strawberry/sweeps/natutesf</a>"
      ],
      "text/plain": [
       "<IPython.core.display.HTML object>"
      ]
     },
     "metadata": {},
     "output_type": "display_data"
    },
    {
     "name": "stdout",
     "output_type": "stream",
     "text": [
      "Found 13437 validated image filenames.\n",
      "Found 3360 validated image filenames.\n",
      "Epoch 1/10\n",
      "268/268 [==============================] - 300s 1s/step - loss: 2.8031 - diease_outputs_loss: 1.2555 - grow_outputs_loss: 1.5476 - diease_outputs_accuracy: 0.4363 - grow_outputs_accuracy: 0.3262 - val_loss: 2.6687 - val_diease_outputs_loss: 1.1753 - val_grow_outputs_loss: 1.4934 - val_diease_outputs_accuracy: 0.4387 - val_grow_outputs_accuracy: 0.3336\n",
      "Epoch 2/10\n",
      "268/268 [==============================] - 296s 1s/step - loss: 2.6491 - diease_outputs_loss: 1.1682 - grow_outputs_loss: 1.4810 - diease_outputs_accuracy: 0.4334 - grow_outputs_accuracy: 0.3380 - val_loss: 2.5888 - val_diease_outputs_loss: 1.1309 - val_grow_outputs_loss: 1.4579 - val_diease_outputs_accuracy: 0.4387 - val_grow_outputs_accuracy: 0.3336\n",
      "Epoch 3/10\n",
      "268/268 [==============================] - 296s 1s/step - loss: 2.5770 - diease_outputs_loss: 1.1219 - grow_outputs_loss: 1.4551 - diease_outputs_accuracy: 0.4424 - grow_outputs_accuracy: 0.3327 - val_loss: 2.5443 - val_diease_outputs_loss: 1.1067 - val_grow_outputs_loss: 1.4375 - val_diease_outputs_accuracy: 0.4387 - val_grow_outputs_accuracy: 0.3452\n",
      "Epoch 4/10\n",
      "268/268 [==============================] - 296s 1s/step - loss: 2.5420 - diease_outputs_loss: 1.1049 - grow_outputs_loss: 1.4371 - diease_outputs_accuracy: 0.4441 - grow_outputs_accuracy: 0.3515 - val_loss: 2.5105 - val_diease_outputs_loss: 1.0945 - val_grow_outputs_loss: 1.4160 - val_diease_outputs_accuracy: 0.4387 - val_grow_outputs_accuracy: 0.3750\n",
      "Epoch 5/10\n",
      "268/268 [==============================] - 296s 1s/step - loss: 2.5198 - diease_outputs_loss: 1.0990 - grow_outputs_loss: 1.4208 - diease_outputs_accuracy: 0.4356 - grow_outputs_accuracy: 0.3823 - val_loss: 2.4827 - val_diease_outputs_loss: 1.0854 - val_grow_outputs_loss: 1.3973 - val_diease_outputs_accuracy: 0.4387 - val_grow_outputs_accuracy: 0.4137\n",
      "Epoch 6/10\n",
      "268/268 [==============================] - 296s 1s/step - loss: 2.4975 - diease_outputs_loss: 1.0884 - grow_outputs_loss: 1.4092 - diease_outputs_accuracy: 0.4465 - grow_outputs_accuracy: 0.3954 - val_loss: 2.4549 - val_diease_outputs_loss: 1.0765 - val_grow_outputs_loss: 1.3784 - val_diease_outputs_accuracy: 0.4387 - val_grow_outputs_accuracy: 0.4324\n",
      "Epoch 7/10\n",
      "268/268 [==============================] - 294s 1s/step - loss: 2.4782 - diease_outputs_loss: 1.0876 - grow_outputs_loss: 1.3906 - diease_outputs_accuracy: 0.4424 - grow_outputs_accuracy: 0.4140 - val_loss: 2.4258 - val_diease_outputs_loss: 1.0661 - val_grow_outputs_loss: 1.3597 - val_diease_outputs_accuracy: 0.4500 - val_grow_outputs_accuracy: 0.4586\n",
      "Epoch 8/10\n",
      "268/268 [==============================] - 296s 1s/step - loss: 2.4438 - diease_outputs_loss: 1.0721 - grow_outputs_loss: 1.3717 - diease_outputs_accuracy: 0.4486 - grow_outputs_accuracy: 0.4327 - val_loss: 2.3993 - val_diease_outputs_loss: 1.0564 - val_grow_outputs_loss: 1.3429 - val_diease_outputs_accuracy: 0.4560 - val_grow_outputs_accuracy: 0.4711\n",
      "Epoch 9/10\n",
      "268/268 [==============================] - 296s 1s/step - loss: 2.4394 - diease_outputs_loss: 1.0734 - grow_outputs_loss: 1.3661 - diease_outputs_accuracy: 0.4549 - grow_outputs_accuracy: 0.4311 - val_loss: 2.3797 - val_diease_outputs_loss: 1.0493 - val_grow_outputs_loss: 1.3304 - val_diease_outputs_accuracy: 0.4542 - val_grow_outputs_accuracy: 0.4792\n",
      "Epoch 10/10\n",
      "268/268 [==============================] - 296s 1s/step - loss: 2.4150 - diease_outputs_loss: 1.0635 - grow_outputs_loss: 1.3515 - diease_outputs_accuracy: 0.4577 - grow_outputs_accuracy: 0.4438 - val_loss: 2.3683 - val_diease_outputs_loss: 1.0446 - val_grow_outputs_loss: 1.3237 - val_diease_outputs_accuracy: 0.4539 - val_grow_outputs_accuracy: 0.4759\n"
     ]
    },
    {
     "data": {
      "text/html": [
       "Waiting for W&B process to finish... <strong style=\"color:green\">(success).</strong>"
      ],
      "text/plain": [
       "<IPython.core.display.HTML object>"
      ]
     },
     "metadata": {},
     "output_type": "display_data"
    },
    {
     "data": {
      "text/html": [
       "<style>\n",
       "    table.wandb td:nth-child(1) { padding: 0 10px; text-align: left ; width: auto;} td:nth-child(2) {text-align: left ; width: 100%}\n",
       "    .wandb-row { display: flex; flex-direction: row; flex-wrap: wrap; justify-content: flex-start; width: 100% }\n",
       "    .wandb-col { display: flex; flex-direction: column; flex-basis: 100%; flex: 1; padding: 10px; }\n",
       "    </style>\n",
       "<div class=\"wandb-row\"><div class=\"wandb-col\"><h3>Run history:</h3><br/><table class=\"wandb\"><tr><td>diease_outputs_accuracy</td><td>▁▁▁▁▁▁▂▃▄█</td></tr><tr><td>diease_outputs_loss</td><td>█▅▃▃▂▂▂▁▁▁</td></tr><tr><td>epoch</td><td>▁▂▃▃▄▅▆▆▇█</td></tr><tr><td>grow_outputs_accuracy</td><td>▁▁▁▂▄▅▆▇▇█</td></tr><tr><td>grow_outputs_loss</td><td>█▆▅▄▄▃▂▂▁▁</td></tr><tr><td>loss</td><td>█▅▄▄▃▃▂▂▁▁</td></tr><tr><td>val_diease_outputs_accuracy</td><td>▁▁▁▁▁▁▆█▇▇</td></tr><tr><td>val_diease_outputs_loss</td><td>█▆▄▄▃▃▂▂▁▁</td></tr><tr><td>val_grow_outputs_accuracy</td><td>▁▁▂▃▅▆▇███</td></tr><tr><td>val_grow_outputs_loss</td><td>█▇▆▅▄▃▂▂▁▁</td></tr><tr><td>val_loss</td><td>█▆▅▄▄▃▂▂▁▁</td></tr></table><br/></div><div class=\"wandb-col\"><h3>Run summary:</h3><br/><table class=\"wandb\"><tr><td>best_epoch</td><td>9</td></tr><tr><td>best_val_loss</td><td>2.36831</td></tr><tr><td>diease_outputs_accuracy</td><td>0.46052</td></tr><tr><td>diease_outputs_loss</td><td>1.06266</td></tr><tr><td>epoch</td><td>9</td></tr><tr><td>grow_outputs_accuracy</td><td>0.44461</td></tr><tr><td>grow_outputs_loss</td><td>1.35411</td></tr><tr><td>loss</td><td>2.41677</td></tr><tr><td>val_diease_outputs_accuracy</td><td>0.45387</td></tr><tr><td>val_diease_outputs_loss</td><td>1.04462</td></tr><tr><td>val_grow_outputs_accuracy</td><td>0.47589</td></tr><tr><td>val_grow_outputs_loss</td><td>1.32369</td></tr><tr><td>val_loss</td><td>2.36831</td></tr></table><br/></div></div>"
      ],
      "text/plain": [
       "<IPython.core.display.HTML object>"
      ]
     },
     "metadata": {},
     "output_type": "display_data"
    },
    {
     "data": {
      "text/html": [
       "Synced <strong style=\"color:#cdcd00\">atomic-sweep-24</strong>: <a href=\"https://wandb.ai/hkleee/strawberry/runs/9pfvitch\" target=\"_blank\">https://wandb.ai/hkleee/strawberry/runs/9pfvitch</a><br/>Synced 6 W&B file(s), 1 media file(s), 0 artifact file(s) and 1 other file(s)"
      ],
      "text/plain": [
       "<IPython.core.display.HTML object>"
      ]
     },
     "metadata": {},
     "output_type": "display_data"
    },
    {
     "data": {
      "text/html": [
       "Find logs at: <code>./wandb/run-20220618_095430-9pfvitch/logs</code>"
      ],
      "text/plain": [
       "<IPython.core.display.HTML object>"
      ]
     },
     "metadata": {},
     "output_type": "display_data"
    },
    {
     "name": "stderr",
     "output_type": "stream",
     "text": [
      "\u001b[34m\u001b[1mwandb\u001b[0m: Agent Starting Run: h2m8svrv with config:\n",
      "\u001b[34m\u001b[1mwandb\u001b[0m: \tactivation: relu\n",
      "\u001b[34m\u001b[1mwandb\u001b[0m: \tbatch_size: 20\n",
      "\u001b[34m\u001b[1mwandb\u001b[0m: \tdense: 1024\n",
      "\u001b[34m\u001b[1mwandb\u001b[0m: \tdropout: 0.2\n",
      "\u001b[34m\u001b[1mwandb\u001b[0m: \tlearning_rate: 3e-05\n",
      "\u001b[34m\u001b[1mwandb\u001b[0m: \toptimizer: rmsprop\n",
      "\u001b[34m\u001b[1mwandb\u001b[0m: \tpretrain_net: resnet\n",
      "Failed to detect the name of this notebook, you can set it manually with the WANDB_NOTEBOOK_NAME environment variable to enable code saving.\n"
     ]
    },
    {
     "data": {
      "text/html": [
       "Tracking run with wandb version 0.12.18"
      ],
      "text/plain": [
       "<IPython.core.display.HTML object>"
      ]
     },
     "metadata": {},
     "output_type": "display_data"
    },
    {
     "data": {
      "text/html": [
       "Run data is saved locally in <code>/home/lab38/Multi_proj_6/model/multi-output/strawberry/sweep/wandb/run-20220618_104421-h2m8svrv</code>"
      ],
      "text/plain": [
       "<IPython.core.display.HTML object>"
      ]
     },
     "metadata": {},
     "output_type": "display_data"
    },
    {
     "data": {
      "text/html": [
       "Syncing run <strong><a href=\"https://wandb.ai/hkleee/strawberry/runs/h2m8svrv\" target=\"_blank\">stoic-sweep-25</a></strong> to <a href=\"https://wandb.ai/hkleee/strawberry\" target=\"_blank\">Weights & Biases</a> (<a href=\"https://wandb.me/run\" target=\"_blank\">docs</a>)<br/>Sweep page:  <a href=\"https://wandb.ai/hkleee/strawberry/sweeps/natutesf\" target=\"_blank\">https://wandb.ai/hkleee/strawberry/sweeps/natutesf</a>"
      ],
      "text/plain": [
       "<IPython.core.display.HTML object>"
      ]
     },
     "metadata": {},
     "output_type": "display_data"
    },
    {
     "data": {
      "text/html": [
       "Finishing last run (ID:h2m8svrv) before initializing another..."
      ],
      "text/plain": [
       "<IPython.core.display.HTML object>"
      ]
     },
     "metadata": {},
     "output_type": "display_data"
    },
    {
     "data": {
      "text/html": [
       "Waiting for W&B process to finish... <strong style=\"color:green\">(success).</strong>"
      ],
      "text/plain": [
       "<IPython.core.display.HTML object>"
      ]
     },
     "metadata": {},
     "output_type": "display_data"
    },
    {
     "data": {
      "text/html": [
       "Synced <strong style=\"color:#cdcd00\">stoic-sweep-25</strong>: <a href=\"https://wandb.ai/hkleee/strawberry/runs/h2m8svrv\" target=\"_blank\">https://wandb.ai/hkleee/strawberry/runs/h2m8svrv</a><br/>Synced 5 W&B file(s), 0 media file(s), 0 artifact file(s) and 0 other file(s)"
      ],
      "text/plain": [
       "<IPython.core.display.HTML object>"
      ]
     },
     "metadata": {},
     "output_type": "display_data"
    },
    {
     "data": {
      "text/html": [
       "Find logs at: <code>./wandb/run-20220618_104421-h2m8svrv/logs</code>"
      ],
      "text/plain": [
       "<IPython.core.display.HTML object>"
      ]
     },
     "metadata": {},
     "output_type": "display_data"
    },
    {
     "data": {
      "text/html": [
       "Successfully finished last run (ID:h2m8svrv). Initializing new run:<br/>"
      ],
      "text/plain": [
       "<IPython.core.display.HTML object>"
      ]
     },
     "metadata": {},
     "output_type": "display_data"
    },
    {
     "data": {
      "text/html": [
       "Tracking run with wandb version 0.12.18"
      ],
      "text/plain": [
       "<IPython.core.display.HTML object>"
      ]
     },
     "metadata": {},
     "output_type": "display_data"
    },
    {
     "data": {
      "text/html": [
       "Run data is saved locally in <code>/home/lab38/Multi_proj_6/model/multi-output/strawberry/sweep/wandb/run-20220618_104426-h2m8svrv</code>"
      ],
      "text/plain": [
       "<IPython.core.display.HTML object>"
      ]
     },
     "metadata": {},
     "output_type": "display_data"
    },
    {
     "data": {
      "text/html": [
       "Syncing run <strong><a href=\"https://wandb.ai/hkleee/strawberry/runs/h2m8svrv\" target=\"_blank\">stoic-sweep-25</a></strong> to <a href=\"https://wandb.ai/hkleee/strawberry\" target=\"_blank\">Weights & Biases</a> (<a href=\"https://wandb.me/run\" target=\"_blank\">docs</a>)<br/>Sweep page:  <a href=\"https://wandb.ai/hkleee/strawberry/sweeps/natutesf\" target=\"_blank\">https://wandb.ai/hkleee/strawberry/sweeps/natutesf</a>"
      ],
      "text/plain": [
       "<IPython.core.display.HTML object>"
      ]
     },
     "metadata": {},
     "output_type": "display_data"
    },
    {
     "name": "stdout",
     "output_type": "stream",
     "text": [
      "Found 13437 validated image filenames.\n",
      "Found 3360 validated image filenames.\n",
      "Epoch 1/10\n",
      "671/671 [==============================] - 281s 416ms/step - loss: 2.6788 - diease_outputs_loss: 1.1527 - grow_outputs_loss: 1.5262 - diease_outputs_accuracy: 0.4181 - grow_outputs_accuracy: 0.3133 - val_loss: 2.5107 - val_diease_outputs_loss: 1.0824 - val_grow_outputs_loss: 1.4283 - val_diease_outputs_accuracy: 0.4387 - val_grow_outputs_accuracy: 0.3574\n",
      "Epoch 2/10\n",
      "671/671 [==============================] - 278s 415ms/step - loss: 2.5394 - diease_outputs_loss: 1.0965 - grow_outputs_loss: 1.4429 - diease_outputs_accuracy: 0.4510 - grow_outputs_accuracy: 0.3661 - val_loss: 2.4709 - val_diease_outputs_loss: 1.0655 - val_grow_outputs_loss: 1.4054 - val_diease_outputs_accuracy: 0.4765 - val_grow_outputs_accuracy: 0.3545\n",
      "Epoch 3/10\n",
      "671/671 [==============================] - 277s 413ms/step - loss: 2.4980 - diease_outputs_loss: 1.0831 - grow_outputs_loss: 1.4149 - diease_outputs_accuracy: 0.4515 - grow_outputs_accuracy: 0.3795 - val_loss: 2.4032 - val_diease_outputs_loss: 1.0425 - val_grow_outputs_loss: 1.3607 - val_diease_outputs_accuracy: 0.5036 - val_grow_outputs_accuracy: 0.4390\n",
      "Epoch 4/10\n",
      "671/671 [==============================] - 278s 414ms/step - loss: 2.4693 - diease_outputs_loss: 1.0739 - grow_outputs_loss: 1.3953 - diease_outputs_accuracy: 0.4659 - grow_outputs_accuracy: 0.4017 - val_loss: 2.3805 - val_diease_outputs_loss: 1.0362 - val_grow_outputs_loss: 1.3443 - val_diease_outputs_accuracy: 0.5125 - val_grow_outputs_accuracy: 0.4765\n",
      "Epoch 5/10\n",
      "671/671 [==============================] - 278s 415ms/step - loss: 2.4304 - diease_outputs_loss: 1.0573 - grow_outputs_loss: 1.3732 - diease_outputs_accuracy: 0.4744 - grow_outputs_accuracy: 0.4226 - val_loss: 2.3396 - val_diease_outputs_loss: 1.0211 - val_grow_outputs_loss: 1.3185 - val_diease_outputs_accuracy: 0.4970 - val_grow_outputs_accuracy: 0.5021\n",
      "Epoch 6/10\n",
      "671/671 [==============================] - 278s 414ms/step - loss: 2.4057 - diease_outputs_loss: 1.0474 - grow_outputs_loss: 1.3583 - diease_outputs_accuracy: 0.4899 - grow_outputs_accuracy: 0.4307 - val_loss: 2.3262 - val_diease_outputs_loss: 1.0155 - val_grow_outputs_loss: 1.3107 - val_diease_outputs_accuracy: 0.5399 - val_grow_outputs_accuracy: 0.4991\n",
      "Epoch 7/10\n",
      "671/671 [==============================] - 277s 413ms/step - loss: 2.3962 - diease_outputs_loss: 1.0425 - grow_outputs_loss: 1.3537 - diease_outputs_accuracy: 0.4917 - grow_outputs_accuracy: 0.4318 - val_loss: 2.2869 - val_diease_outputs_loss: 1.0011 - val_grow_outputs_loss: 1.2859 - val_diease_outputs_accuracy: 0.5321 - val_grow_outputs_accuracy: 0.5128\n",
      "Epoch 8/10\n",
      "671/671 [==============================] - 278s 414ms/step - loss: 2.3636 - diease_outputs_loss: 1.0402 - grow_outputs_loss: 1.3234 - diease_outputs_accuracy: 0.4954 - grow_outputs_accuracy: 0.4535 - val_loss: 2.2887 - val_diease_outputs_loss: 0.9946 - val_grow_outputs_loss: 1.2941 - val_diease_outputs_accuracy: 0.5402 - val_grow_outputs_accuracy: 0.4917\n",
      "Epoch 9/10\n",
      "671/671 [==============================] - 279s 416ms/step - loss: 2.3572 - diease_outputs_loss: 1.0304 - grow_outputs_loss: 1.3268 - diease_outputs_accuracy: 0.5016 - grow_outputs_accuracy: 0.4516 - val_loss: 2.2643 - val_diease_outputs_loss: 0.9906 - val_grow_outputs_loss: 1.2737 - val_diease_outputs_accuracy: 0.5259 - val_grow_outputs_accuracy: 0.5027\n",
      "Epoch 10/10\n",
      "671/671 [==============================] - 280s 418ms/step - loss: 2.3487 - diease_outputs_loss: 1.0248 - grow_outputs_loss: 1.3239 - diease_outputs_accuracy: 0.5069 - grow_outputs_accuracy: 0.4543 - val_loss: 2.2432 - val_diease_outputs_loss: 0.9847 - val_grow_outputs_loss: 1.2586 - val_diease_outputs_accuracy: 0.5292 - val_grow_outputs_accuracy: 0.5214\n"
     ]
    },
    {
     "data": {
      "text/html": [
       "Waiting for W&B process to finish... <strong style=\"color:green\">(success).</strong>"
      ],
      "text/plain": [
       "<IPython.core.display.HTML object>"
      ]
     },
     "metadata": {},
     "output_type": "display_data"
    },
    {
     "data": {
      "text/html": [
       "<style>\n",
       "    table.wandb td:nth-child(1) { padding: 0 10px; text-align: left ; width: auto;} td:nth-child(2) {text-align: left ; width: 100%}\n",
       "    .wandb-row { display: flex; flex-direction: row; flex-wrap: wrap; justify-content: flex-start; width: 100% }\n",
       "    .wandb-col { display: flex; flex-direction: column; flex-basis: 100%; flex: 1; padding: 10px; }\n",
       "    </style>\n",
       "<div class=\"wandb-row\"><div class=\"wandb-col\"><h3>Run history:</h3><br/><table class=\"wandb\"><tr><td>diease_outputs_accuracy</td><td>▁▃▄▅▅▆▇█▇█</td></tr><tr><td>diease_outputs_loss</td><td>█▆▅▄▃▂▂▂▁▁</td></tr><tr><td>epoch</td><td>▁▂▃▃▄▅▆▆▇█</td></tr><tr><td>grow_outputs_accuracy</td><td>▁▃▄▅▆▇▇▇██</td></tr><tr><td>grow_outputs_loss</td><td>█▆▅▄▃▃▂▂▁▁</td></tr><tr><td>loss</td><td>█▆▅▄▃▃▂▂▁▁</td></tr><tr><td>val_diease_outputs_accuracy</td><td>▁▄▅▆▅█▇█▇▇</td></tr><tr><td>val_diease_outputs_loss</td><td>█▇▅▅▄▃▂▂▁▁</td></tr><tr><td>val_grow_outputs_accuracy</td><td>▁▁▅▆▇▇█▇▇█</td></tr><tr><td>val_grow_outputs_loss</td><td>█▇▅▅▃▃▂▂▂▁</td></tr><tr><td>val_loss</td><td>█▇▅▅▄▃▂▂▂▁</td></tr></table><br/></div><div class=\"wandb-col\"><h3>Run summary:</h3><br/><table class=\"wandb\"><tr><td>best_epoch</td><td>9</td></tr><tr><td>best_val_loss</td><td>2.24325</td></tr><tr><td>diease_outputs_accuracy</td><td>0.50309</td></tr><tr><td>diease_outputs_loss</td><td>1.02617</td></tr><tr><td>epoch</td><td>9</td></tr><tr><td>grow_outputs_accuracy</td><td>0.45927</td></tr><tr><td>grow_outputs_loss</td><td>1.31371</td></tr><tr><td>loss</td><td>2.33988</td></tr><tr><td>val_diease_outputs_accuracy</td><td>0.52917</td></tr><tr><td>val_diease_outputs_loss</td><td>0.98465</td></tr><tr><td>val_grow_outputs_accuracy</td><td>0.52143</td></tr><tr><td>val_grow_outputs_loss</td><td>1.25859</td></tr><tr><td>val_loss</td><td>2.24325</td></tr></table><br/></div></div>"
      ],
      "text/plain": [
       "<IPython.core.display.HTML object>"
      ]
     },
     "metadata": {},
     "output_type": "display_data"
    },
    {
     "data": {
      "text/html": [
       "Synced <strong style=\"color:#cdcd00\">stoic-sweep-25</strong>: <a href=\"https://wandb.ai/hkleee/strawberry/runs/h2m8svrv\" target=\"_blank\">https://wandb.ai/hkleee/strawberry/runs/h2m8svrv</a><br/>Synced 6 W&B file(s), 1 media file(s), 0 artifact file(s) and 1 other file(s)"
      ],
      "text/plain": [
       "<IPython.core.display.HTML object>"
      ]
     },
     "metadata": {},
     "output_type": "display_data"
    },
    {
     "data": {
      "text/html": [
       "Find logs at: <code>./wandb/run-20220618_104426-h2m8svrv/logs</code>"
      ],
      "text/plain": [
       "<IPython.core.display.HTML object>"
      ]
     },
     "metadata": {},
     "output_type": "display_data"
    },
    {
     "name": "stderr",
     "output_type": "stream",
     "text": [
      "\u001b[34m\u001b[1mwandb\u001b[0m: Agent Starting Run: oqm9ypzr with config:\n",
      "\u001b[34m\u001b[1mwandb\u001b[0m: \tactivation: softmax\n",
      "\u001b[34m\u001b[1mwandb\u001b[0m: \tbatch_size: 20\n",
      "\u001b[34m\u001b[1mwandb\u001b[0m: \tdense: 32\n",
      "\u001b[34m\u001b[1mwandb\u001b[0m: \tdropout: 0.2\n",
      "\u001b[34m\u001b[1mwandb\u001b[0m: \tlearning_rate: 0.001\n",
      "\u001b[34m\u001b[1mwandb\u001b[0m: \toptimizer: sgd\n",
      "\u001b[34m\u001b[1mwandb\u001b[0m: \tpretrain_net: resnet\n",
      "Failed to detect the name of this notebook, you can set it manually with the WANDB_NOTEBOOK_NAME environment variable to enable code saving.\n"
     ]
    },
    {
     "data": {
      "text/html": [
       "Tracking run with wandb version 0.12.18"
      ],
      "text/plain": [
       "<IPython.core.display.HTML object>"
      ]
     },
     "metadata": {},
     "output_type": "display_data"
    },
    {
     "data": {
      "text/html": [
       "Run data is saved locally in <code>/home/lab38/Multi_proj_6/model/multi-output/strawberry/sweep/wandb/run-20220618_113119-oqm9ypzr</code>"
      ],
      "text/plain": [
       "<IPython.core.display.HTML object>"
      ]
     },
     "metadata": {},
     "output_type": "display_data"
    },
    {
     "data": {
      "text/html": [
       "Syncing run <strong><a href=\"https://wandb.ai/hkleee/strawberry/runs/oqm9ypzr\" target=\"_blank\">desert-sweep-26</a></strong> to <a href=\"https://wandb.ai/hkleee/strawberry\" target=\"_blank\">Weights & Biases</a> (<a href=\"https://wandb.me/run\" target=\"_blank\">docs</a>)<br/>Sweep page:  <a href=\"https://wandb.ai/hkleee/strawberry/sweeps/natutesf\" target=\"_blank\">https://wandb.ai/hkleee/strawberry/sweeps/natutesf</a>"
      ],
      "text/plain": [
       "<IPython.core.display.HTML object>"
      ]
     },
     "metadata": {},
     "output_type": "display_data"
    },
    {
     "data": {
      "text/html": [
       "Finishing last run (ID:oqm9ypzr) before initializing another..."
      ],
      "text/plain": [
       "<IPython.core.display.HTML object>"
      ]
     },
     "metadata": {},
     "output_type": "display_data"
    },
    {
     "data": {
      "text/html": [
       "Waiting for W&B process to finish... <strong style=\"color:green\">(success).</strong>"
      ],
      "text/plain": [
       "<IPython.core.display.HTML object>"
      ]
     },
     "metadata": {},
     "output_type": "display_data"
    },
    {
     "data": {
      "text/html": [
       "Synced <strong style=\"color:#cdcd00\">desert-sweep-26</strong>: <a href=\"https://wandb.ai/hkleee/strawberry/runs/oqm9ypzr\" target=\"_blank\">https://wandb.ai/hkleee/strawberry/runs/oqm9ypzr</a><br/>Synced 5 W&B file(s), 0 media file(s), 0 artifact file(s) and 0 other file(s)"
      ],
      "text/plain": [
       "<IPython.core.display.HTML object>"
      ]
     },
     "metadata": {},
     "output_type": "display_data"
    },
    {
     "data": {
      "text/html": [
       "Find logs at: <code>./wandb/run-20220618_113119-oqm9ypzr/logs</code>"
      ],
      "text/plain": [
       "<IPython.core.display.HTML object>"
      ]
     },
     "metadata": {},
     "output_type": "display_data"
    },
    {
     "data": {
      "text/html": [
       "Successfully finished last run (ID:oqm9ypzr). Initializing new run:<br/>"
      ],
      "text/plain": [
       "<IPython.core.display.HTML object>"
      ]
     },
     "metadata": {},
     "output_type": "display_data"
    },
    {
     "data": {
      "text/html": [
       "Tracking run with wandb version 0.12.18"
      ],
      "text/plain": [
       "<IPython.core.display.HTML object>"
      ]
     },
     "metadata": {},
     "output_type": "display_data"
    },
    {
     "data": {
      "text/html": [
       "Run data is saved locally in <code>/home/lab38/Multi_proj_6/model/multi-output/strawberry/sweep/wandb/run-20220618_113124-oqm9ypzr</code>"
      ],
      "text/plain": [
       "<IPython.core.display.HTML object>"
      ]
     },
     "metadata": {},
     "output_type": "display_data"
    },
    {
     "data": {
      "text/html": [
       "Syncing run <strong><a href=\"https://wandb.ai/hkleee/strawberry/runs/oqm9ypzr\" target=\"_blank\">desert-sweep-26</a></strong> to <a href=\"https://wandb.ai/hkleee/strawberry\" target=\"_blank\">Weights & Biases</a> (<a href=\"https://wandb.me/run\" target=\"_blank\">docs</a>)<br/>Sweep page:  <a href=\"https://wandb.ai/hkleee/strawberry/sweeps/natutesf\" target=\"_blank\">https://wandb.ai/hkleee/strawberry/sweeps/natutesf</a>"
      ],
      "text/plain": [
       "<IPython.core.display.HTML object>"
      ]
     },
     "metadata": {},
     "output_type": "display_data"
    },
    {
     "name": "stdout",
     "output_type": "stream",
     "text": [
      "Found 13437 validated image filenames.\n",
      "Found 3360 validated image filenames.\n",
      "Epoch 1/10\n",
      "671/671 [==============================] - 282s 417ms/step - loss: 2.9336 - diease_outputs_loss: 1.3403 - grow_outputs_loss: 1.5933 - diease_outputs_accuracy: 0.3392 - grow_outputs_accuracy: 0.2091 - val_loss: 2.8359 - val_diease_outputs_loss: 1.2823 - val_grow_outputs_loss: 1.5535 - val_diease_outputs_accuracy: 0.4387 - val_grow_outputs_accuracy: 0.3324\n",
      "Epoch 2/10\n",
      "671/671 [==============================] - 275s 410ms/step - loss: 2.8233 - diease_outputs_loss: 1.2710 - grow_outputs_loss: 1.5523 - diease_outputs_accuracy: 0.4423 - grow_outputs_accuracy: 0.2991 - val_loss: 2.7808 - val_diease_outputs_loss: 1.2455 - val_grow_outputs_loss: 1.5353 - val_diease_outputs_accuracy: 0.4387 - val_grow_outputs_accuracy: 0.3336\n",
      "Epoch 3/10\n",
      "671/671 [==============================] - 278s 414ms/step - loss: 2.7748 - diease_outputs_loss: 1.2390 - grow_outputs_loss: 1.5358 - diease_outputs_accuracy: 0.4433 - grow_outputs_accuracy: 0.3151 - val_loss: 2.7446 - val_diease_outputs_loss: 1.2199 - val_grow_outputs_loss: 1.5247 - val_diease_outputs_accuracy: 0.4387 - val_grow_outputs_accuracy: 0.3336\n",
      "Epoch 4/10\n",
      "671/671 [==============================] - 277s 413ms/step - loss: 2.7425 - diease_outputs_loss: 1.2163 - grow_outputs_loss: 1.5261 - diease_outputs_accuracy: 0.4379 - grow_outputs_accuracy: 0.3306 - val_loss: 2.7159 - val_diease_outputs_loss: 1.2019 - val_grow_outputs_loss: 1.5141 - val_diease_outputs_accuracy: 0.4387 - val_grow_outputs_accuracy: 0.3336\n",
      "Epoch 5/10\n",
      "671/671 [==============================] - 282s 420ms/step - loss: 2.7122 - diease_outputs_loss: 1.1958 - grow_outputs_loss: 1.5163 - diease_outputs_accuracy: 0.4407 - grow_outputs_accuracy: 0.3241 - val_loss: 2.6979 - val_diease_outputs_loss: 1.1887 - val_grow_outputs_loss: 1.5092 - val_diease_outputs_accuracy: 0.4387 - val_grow_outputs_accuracy: 0.3336\n",
      "Epoch 6/10\n",
      "671/671 [==============================] - 276s 412ms/step - loss: 2.6971 - diease_outputs_loss: 1.1850 - grow_outputs_loss: 1.5121 - diease_outputs_accuracy: 0.4425 - grow_outputs_accuracy: 0.3313 - val_loss: 2.6817 - val_diease_outputs_loss: 1.1785 - val_grow_outputs_loss: 1.5033 - val_diease_outputs_accuracy: 0.4387 - val_grow_outputs_accuracy: 0.3336\n",
      "Epoch 7/10\n",
      "671/671 [==============================] - 276s 412ms/step - loss: 2.6878 - diease_outputs_loss: 1.1773 - grow_outputs_loss: 1.5105 - diease_outputs_accuracy: 0.4383 - grow_outputs_accuracy: 0.3234 - val_loss: 2.6713 - val_diease_outputs_loss: 1.1706 - val_grow_outputs_loss: 1.5008 - val_diease_outputs_accuracy: 0.4387 - val_grow_outputs_accuracy: 0.3336\n",
      "Epoch 8/10\n",
      "671/671 [==============================] - 276s 412ms/step - loss: 2.6737 - diease_outputs_loss: 1.1728 - grow_outputs_loss: 1.5009 - diease_outputs_accuracy: 0.4388 - grow_outputs_accuracy: 0.3333 - val_loss: 2.6614 - val_diease_outputs_loss: 1.1642 - val_grow_outputs_loss: 1.4971 - val_diease_outputs_accuracy: 0.4387 - val_grow_outputs_accuracy: 0.3336\n",
      "Epoch 9/10\n",
      "671/671 [==============================] - 279s 415ms/step - loss: 2.6619 - diease_outputs_loss: 1.1662 - grow_outputs_loss: 1.4956 - diease_outputs_accuracy: 0.4291 - grow_outputs_accuracy: 0.3340 - val_loss: 2.6538 - val_diease_outputs_loss: 1.1590 - val_grow_outputs_loss: 1.4947 - val_diease_outputs_accuracy: 0.4387 - val_grow_outputs_accuracy: 0.3336\n",
      "Epoch 10/10\n",
      "671/671 [==============================] - 279s 416ms/step - loss: 2.6567 - diease_outputs_loss: 1.1567 - grow_outputs_loss: 1.5000 - diease_outputs_accuracy: 0.4406 - grow_outputs_accuracy: 0.3288 - val_loss: 2.6478 - val_diease_outputs_loss: 1.1547 - val_grow_outputs_loss: 1.4931 - val_diease_outputs_accuracy: 0.4387 - val_grow_outputs_accuracy: 0.3336\n"
     ]
    },
    {
     "data": {
      "text/html": [
       "Waiting for W&B process to finish... <strong style=\"color:green\">(success).</strong>"
      ],
      "text/plain": [
       "<IPython.core.display.HTML object>"
      ]
     },
     "metadata": {},
     "output_type": "display_data"
    },
    {
     "data": {
      "text/html": [
       "<style>\n",
       "    table.wandb td:nth-child(1) { padding: 0 10px; text-align: left ; width: auto;} td:nth-child(2) {text-align: left ; width: 100%}\n",
       "    .wandb-row { display: flex; flex-direction: row; flex-wrap: wrap; justify-content: flex-start; width: 100% }\n",
       "    .wandb-col { display: flex; flex-direction: column; flex-basis: 100%; flex: 1; padding: 10px; }\n",
       "    </style>\n",
       "<div class=\"wandb-row\"><div class=\"wandb-col\"><h3>Run history:</h3><br/><table class=\"wandb\"><tr><td>diease_outputs_accuracy</td><td>▁█████████</td></tr><tr><td>diease_outputs_loss</td><td>█▆▄▃▃▂▂▁▁▁</td></tr><tr><td>epoch</td><td>▁▂▃▃▄▅▆▆▇█</td></tr><tr><td>grow_outputs_accuracy</td><td>▁▆▇███████</td></tr><tr><td>grow_outputs_loss</td><td>█▅▄▃▂▂▂▁▁▁</td></tr><tr><td>loss</td><td>█▆▄▃▃▂▂▁▁▁</td></tr><tr><td>val_diease_outputs_accuracy</td><td>▁▁▁▁▁▁▁▁▁▁</td></tr><tr><td>val_diease_outputs_loss</td><td>█▆▅▄▃▂▂▂▁▁</td></tr><tr><td>val_grow_outputs_accuracy</td><td>▁█████████</td></tr><tr><td>val_grow_outputs_loss</td><td>█▆▅▃▃▂▂▁▁▁</td></tr><tr><td>val_loss</td><td>█▆▅▄▃▂▂▂▁▁</td></tr></table><br/></div><div class=\"wandb-col\"><h3>Run summary:</h3><br/><table class=\"wandb\"><tr><td>best_epoch</td><td>9</td></tr><tr><td>best_val_loss</td><td>2.64782</td></tr><tr><td>diease_outputs_accuracy</td><td>0.43907</td></tr><tr><td>diease_outputs_loss</td><td>1.15688</td></tr><tr><td>epoch</td><td>9</td></tr><tr><td>grow_outputs_accuracy</td><td>0.33331</td></tr><tr><td>grow_outputs_loss</td><td>1.49699</td></tr><tr><td>loss</td><td>2.65387</td></tr><tr><td>val_diease_outputs_accuracy</td><td>0.43869</td></tr><tr><td>val_diease_outputs_loss</td><td>1.15473</td></tr><tr><td>val_grow_outputs_accuracy</td><td>0.33363</td></tr><tr><td>val_grow_outputs_loss</td><td>1.49309</td></tr><tr><td>val_loss</td><td>2.64782</td></tr></table><br/></div></div>"
      ],
      "text/plain": [
       "<IPython.core.display.HTML object>"
      ]
     },
     "metadata": {},
     "output_type": "display_data"
    },
    {
     "data": {
      "text/html": [
       "Synced <strong style=\"color:#cdcd00\">desert-sweep-26</strong>: <a href=\"https://wandb.ai/hkleee/strawberry/runs/oqm9ypzr\" target=\"_blank\">https://wandb.ai/hkleee/strawberry/runs/oqm9ypzr</a><br/>Synced 6 W&B file(s), 1 media file(s), 0 artifact file(s) and 1 other file(s)"
      ],
      "text/plain": [
       "<IPython.core.display.HTML object>"
      ]
     },
     "metadata": {},
     "output_type": "display_data"
    },
    {
     "data": {
      "text/html": [
       "Find logs at: <code>./wandb/run-20220618_113124-oqm9ypzr/logs</code>"
      ],
      "text/plain": [
       "<IPython.core.display.HTML object>"
      ]
     },
     "metadata": {},
     "output_type": "display_data"
    },
    {
     "name": "stderr",
     "output_type": "stream",
     "text": [
      "\u001b[34m\u001b[1mwandb\u001b[0m: Agent Starting Run: nfyq30ca with config:\n",
      "\u001b[34m\u001b[1mwandb\u001b[0m: \tactivation: elu\n",
      "\u001b[34m\u001b[1mwandb\u001b[0m: \tbatch_size: 20\n",
      "\u001b[34m\u001b[1mwandb\u001b[0m: \tdense: 1024\n",
      "\u001b[34m\u001b[1mwandb\u001b[0m: \tdropout: 0.2\n",
      "\u001b[34m\u001b[1mwandb\u001b[0m: \tlearning_rate: 0.01\n",
      "\u001b[34m\u001b[1mwandb\u001b[0m: \toptimizer: adam\n",
      "\u001b[34m\u001b[1mwandb\u001b[0m: \tpretrain_net: resnet\n",
      "Failed to detect the name of this notebook, you can set it manually with the WANDB_NOTEBOOK_NAME environment variable to enable code saving.\n"
     ]
    },
    {
     "data": {
      "text/html": [
       "Tracking run with wandb version 0.12.18"
      ],
      "text/plain": [
       "<IPython.core.display.HTML object>"
      ]
     },
     "metadata": {},
     "output_type": "display_data"
    },
    {
     "data": {
      "text/html": [
       "Run data is saved locally in <code>/home/lab38/Multi_proj_6/model/multi-output/strawberry/sweep/wandb/run-20220618_121815-nfyq30ca</code>"
      ],
      "text/plain": [
       "<IPython.core.display.HTML object>"
      ]
     },
     "metadata": {},
     "output_type": "display_data"
    },
    {
     "data": {
      "text/html": [
       "Syncing run <strong><a href=\"https://wandb.ai/hkleee/strawberry/runs/nfyq30ca\" target=\"_blank\">hardy-sweep-27</a></strong> to <a href=\"https://wandb.ai/hkleee/strawberry\" target=\"_blank\">Weights & Biases</a> (<a href=\"https://wandb.me/run\" target=\"_blank\">docs</a>)<br/>Sweep page:  <a href=\"https://wandb.ai/hkleee/strawberry/sweeps/natutesf\" target=\"_blank\">https://wandb.ai/hkleee/strawberry/sweeps/natutesf</a>"
      ],
      "text/plain": [
       "<IPython.core.display.HTML object>"
      ]
     },
     "metadata": {},
     "output_type": "display_data"
    },
    {
     "data": {
      "text/html": [
       "Finishing last run (ID:nfyq30ca) before initializing another..."
      ],
      "text/plain": [
       "<IPython.core.display.HTML object>"
      ]
     },
     "metadata": {},
     "output_type": "display_data"
    },
    {
     "data": {
      "text/html": [
       "Waiting for W&B process to finish... <strong style=\"color:green\">(success).</strong>"
      ],
      "text/plain": [
       "<IPython.core.display.HTML object>"
      ]
     },
     "metadata": {},
     "output_type": "display_data"
    },
    {
     "data": {
      "text/html": [
       "Synced <strong style=\"color:#cdcd00\">hardy-sweep-27</strong>: <a href=\"https://wandb.ai/hkleee/strawberry/runs/nfyq30ca\" target=\"_blank\">https://wandb.ai/hkleee/strawberry/runs/nfyq30ca</a><br/>Synced 5 W&B file(s), 0 media file(s), 0 artifact file(s) and 0 other file(s)"
      ],
      "text/plain": [
       "<IPython.core.display.HTML object>"
      ]
     },
     "metadata": {},
     "output_type": "display_data"
    },
    {
     "data": {
      "text/html": [
       "Find logs at: <code>./wandb/run-20220618_121815-nfyq30ca/logs</code>"
      ],
      "text/plain": [
       "<IPython.core.display.HTML object>"
      ]
     },
     "metadata": {},
     "output_type": "display_data"
    },
    {
     "data": {
      "text/html": [
       "Successfully finished last run (ID:nfyq30ca). Initializing new run:<br/>"
      ],
      "text/plain": [
       "<IPython.core.display.HTML object>"
      ]
     },
     "metadata": {},
     "output_type": "display_data"
    },
    {
     "data": {
      "text/html": [
       "Tracking run with wandb version 0.12.18"
      ],
      "text/plain": [
       "<IPython.core.display.HTML object>"
      ]
     },
     "metadata": {},
     "output_type": "display_data"
    },
    {
     "data": {
      "text/html": [
       "Run data is saved locally in <code>/home/lab38/Multi_proj_6/model/multi-output/strawberry/sweep/wandb/run-20220618_121819-nfyq30ca</code>"
      ],
      "text/plain": [
       "<IPython.core.display.HTML object>"
      ]
     },
     "metadata": {},
     "output_type": "display_data"
    },
    {
     "data": {
      "text/html": [
       "Syncing run <strong><a href=\"https://wandb.ai/hkleee/strawberry/runs/nfyq30ca\" target=\"_blank\">hardy-sweep-27</a></strong> to <a href=\"https://wandb.ai/hkleee/strawberry\" target=\"_blank\">Weights & Biases</a> (<a href=\"https://wandb.me/run\" target=\"_blank\">docs</a>)<br/>Sweep page:  <a href=\"https://wandb.ai/hkleee/strawberry/sweeps/natutesf\" target=\"_blank\">https://wandb.ai/hkleee/strawberry/sweeps/natutesf</a>"
      ],
      "text/plain": [
       "<IPython.core.display.HTML object>"
      ]
     },
     "metadata": {},
     "output_type": "display_data"
    },
    {
     "name": "stdout",
     "output_type": "stream",
     "text": [
      "Found 13437 validated image filenames.\n",
      "Found 3360 validated image filenames.\n",
      "Epoch 1/10\n",
      "671/671 [==============================] - 279s 413ms/step - loss: 6.5745 - diease_outputs_loss: 2.8496 - grow_outputs_loss: 3.7249 - diease_outputs_accuracy: 0.3596 - grow_outputs_accuracy: 0.2716 - val_loss: 2.8988 - val_diease_outputs_loss: 1.3399 - val_grow_outputs_loss: 1.5589 - val_diease_outputs_accuracy: 0.2848 - val_grow_outputs_accuracy: 0.3717\n",
      "Epoch 2/10\n",
      "671/671 [==============================] - 275s 410ms/step - loss: 3.4883 - diease_outputs_loss: 1.4331 - grow_outputs_loss: 2.0552 - diease_outputs_accuracy: 0.4166 - grow_outputs_accuracy: 0.3350 - val_loss: 3.3322 - val_diease_outputs_loss: 1.2729 - val_grow_outputs_loss: 2.0593 - val_diease_outputs_accuracy: 0.4586 - val_grow_outputs_accuracy: 0.3616\n",
      "Epoch 3/10\n",
      "671/671 [==============================] - 275s 410ms/step - loss: 3.6931 - diease_outputs_loss: 1.5609 - grow_outputs_loss: 2.1322 - diease_outputs_accuracy: 0.4270 - grow_outputs_accuracy: 0.3541 - val_loss: 4.9214 - val_diease_outputs_loss: 2.6354 - val_grow_outputs_loss: 2.2860 - val_diease_outputs_accuracy: 0.4387 - val_grow_outputs_accuracy: 0.3202\n",
      "Epoch 4/10\n",
      "671/671 [==============================] - 275s 410ms/step - loss: 3.8581 - diease_outputs_loss: 1.7830 - grow_outputs_loss: 2.0751 - diease_outputs_accuracy: 0.4203 - grow_outputs_accuracy: 0.3659 - val_loss: 4.4296 - val_diease_outputs_loss: 1.4969 - val_grow_outputs_loss: 2.9327 - val_diease_outputs_accuracy: 0.4390 - val_grow_outputs_accuracy: 0.4015\n",
      "Epoch 5/10\n",
      "671/671 [==============================] - 278s 415ms/step - loss: 3.6032 - diease_outputs_loss: 1.4652 - grow_outputs_loss: 2.1380 - diease_outputs_accuracy: 0.4359 - grow_outputs_accuracy: 0.3570 - val_loss: 3.2069 - val_diease_outputs_loss: 1.5700 - val_grow_outputs_loss: 1.6369 - val_diease_outputs_accuracy: 0.4089 - val_grow_outputs_accuracy: 0.4860\n",
      "Epoch 6/10\n",
      "671/671 [==============================] - 279s 416ms/step - loss: 3.3411 - diease_outputs_loss: 1.4935 - grow_outputs_loss: 1.8477 - diease_outputs_accuracy: 0.4449 - grow_outputs_accuracy: 0.3852 - val_loss: 4.2201 - val_diease_outputs_loss: 2.0445 - val_grow_outputs_loss: 2.1756 - val_diease_outputs_accuracy: 0.4387 - val_grow_outputs_accuracy: 0.3628\n",
      "Epoch 7/10\n",
      "671/671 [==============================] - 279s 415ms/step - loss: 3.5027 - diease_outputs_loss: 1.4567 - grow_outputs_loss: 2.0460 - diease_outputs_accuracy: 0.4484 - grow_outputs_accuracy: 0.3736 - val_loss: 2.9210 - val_diease_outputs_loss: 1.4496 - val_grow_outputs_loss: 1.4713 - val_diease_outputs_accuracy: 0.4655 - val_grow_outputs_accuracy: 0.4140\n",
      "Epoch 8/10\n",
      "671/671 [==============================] - 278s 414ms/step - loss: 3.6113 - diease_outputs_loss: 1.6187 - grow_outputs_loss: 1.9926 - diease_outputs_accuracy: 0.4430 - grow_outputs_accuracy: 0.3805 - val_loss: 3.3215 - val_diease_outputs_loss: 1.1155 - val_grow_outputs_loss: 2.2060 - val_diease_outputs_accuracy: 0.5408 - val_grow_outputs_accuracy: 0.3765\n",
      "Epoch 9/10\n",
      "671/671 [==============================] - 278s 415ms/step - loss: 3.4174 - diease_outputs_loss: 1.5095 - grow_outputs_loss: 1.9079 - diease_outputs_accuracy: 0.4507 - grow_outputs_accuracy: 0.3992 - val_loss: 3.1672 - val_diease_outputs_loss: 1.0849 - val_grow_outputs_loss: 2.0823 - val_diease_outputs_accuracy: 0.5518 - val_grow_outputs_accuracy: 0.4795\n",
      "Epoch 10/10\n",
      "671/671 [==============================] - 279s 415ms/step - loss: 3.5859 - diease_outputs_loss: 1.3602 - grow_outputs_loss: 2.2257 - diease_outputs_accuracy: 0.4789 - grow_outputs_accuracy: 0.3746 - val_loss: 3.0887 - val_diease_outputs_loss: 1.6145 - val_grow_outputs_loss: 1.4742 - val_diease_outputs_accuracy: 0.3381 - val_grow_outputs_accuracy: 0.4789\n"
     ]
    },
    {
     "data": {
      "text/html": [
       "Waiting for W&B process to finish... <strong style=\"color:green\">(success).</strong>"
      ],
      "text/plain": [
       "<IPython.core.display.HTML object>"
      ]
     },
     "metadata": {},
     "output_type": "display_data"
    },
    {
     "data": {
      "text/html": [
       "<style>\n",
       "    table.wandb td:nth-child(1) { padding: 0 10px; text-align: left ; width: auto;} td:nth-child(2) {text-align: left ; width: 100%}\n",
       "    .wandb-row { display: flex; flex-direction: row; flex-wrap: wrap; justify-content: flex-start; width: 100% }\n",
       "    .wandb-col { display: flex; flex-direction: column; flex-basis: 100%; flex: 1; padding: 10px; }\n",
       "    </style>\n",
       "<div class=\"wandb-row\"><div class=\"wandb-col\"><h3>Run history:</h3><br/><table class=\"wandb\"><tr><td>diease_outputs_accuracy</td><td>▁▄▅▄▆▆▆▆▆█</td></tr><tr><td>diease_outputs_loss</td><td>█▃▄▅▃▂▁▃▃▁</td></tr><tr><td>epoch</td><td>▁▂▃▃▄▅▆▆▇█</td></tr><tr><td>grow_outputs_accuracy</td><td>▁▄▅▆▆▇▇▇█▇</td></tr><tr><td>grow_outputs_loss</td><td>█▃▄▂▄▁▃▂▂▄</td></tr><tr><td>loss</td><td>█▃▄▃▃▁▂▂▂▃</td></tr><tr><td>val_diease_outputs_accuracy</td><td>▁▆▅▅▄▅▆██▂</td></tr><tr><td>val_diease_outputs_loss</td><td>▂▂█▃▃▅▃▁▁▃</td></tr><tr><td>val_grow_outputs_accuracy</td><td>▃▃▁▄█▃▅▃██</td></tr><tr><td>val_grow_outputs_loss</td><td>▁▄▅█▂▄▁▅▄▁</td></tr><tr><td>val_loss</td><td>▁▂█▆▂▆▁▂▂▂</td></tr></table><br/></div><div class=\"wandb-col\"><h3>Run summary:</h3><br/><table class=\"wandb\"><tr><td>best_epoch</td><td>0</td></tr><tr><td>best_val_loss</td><td>2.89884</td></tr><tr><td>diease_outputs_accuracy</td><td>0.47388</td></tr><tr><td>diease_outputs_loss</td><td>1.44511</td></tr><tr><td>epoch</td><td>9</td></tr><tr><td>grow_outputs_accuracy</td><td>0.37758</td></tr><tr><td>grow_outputs_loss</td><td>2.14685</td></tr><tr><td>loss</td><td>3.59196</td></tr><tr><td>val_diease_outputs_accuracy</td><td>0.3381</td></tr><tr><td>val_diease_outputs_loss</td><td>1.6145</td></tr><tr><td>val_grow_outputs_accuracy</td><td>0.47887</td></tr><tr><td>val_grow_outputs_loss</td><td>1.47423</td></tr><tr><td>val_loss</td><td>3.08873</td></tr></table><br/></div></div>"
      ],
      "text/plain": [
       "<IPython.core.display.HTML object>"
      ]
     },
     "metadata": {},
     "output_type": "display_data"
    },
    {
     "data": {
      "text/html": [
       "Synced <strong style=\"color:#cdcd00\">hardy-sweep-27</strong>: <a href=\"https://wandb.ai/hkleee/strawberry/runs/nfyq30ca\" target=\"_blank\">https://wandb.ai/hkleee/strawberry/runs/nfyq30ca</a><br/>Synced 6 W&B file(s), 1 media file(s), 0 artifact file(s) and 1 other file(s)"
      ],
      "text/plain": [
       "<IPython.core.display.HTML object>"
      ]
     },
     "metadata": {},
     "output_type": "display_data"
    },
    {
     "data": {
      "text/html": [
       "Find logs at: <code>./wandb/run-20220618_121819-nfyq30ca/logs</code>"
      ],
      "text/plain": [
       "<IPython.core.display.HTML object>"
      ]
     },
     "metadata": {},
     "output_type": "display_data"
    },
    {
     "name": "stderr",
     "output_type": "stream",
     "text": [
      "\u001b[34m\u001b[1mwandb\u001b[0m: Agent Starting Run: w0ducgj3 with config:\n",
      "\u001b[34m\u001b[1mwandb\u001b[0m: \tactivation: elu\n",
      "\u001b[34m\u001b[1mwandb\u001b[0m: \tbatch_size: 50\n",
      "\u001b[34m\u001b[1mwandb\u001b[0m: \tdense: 1024\n",
      "\u001b[34m\u001b[1mwandb\u001b[0m: \tdropout: 0.5\n",
      "\u001b[34m\u001b[1mwandb\u001b[0m: \tlearning_rate: 3e-05\n",
      "\u001b[34m\u001b[1mwandb\u001b[0m: \toptimizer: rmsprop\n",
      "\u001b[34m\u001b[1mwandb\u001b[0m: \tpretrain_net: inception\n",
      "Failed to detect the name of this notebook, you can set it manually with the WANDB_NOTEBOOK_NAME environment variable to enable code saving.\n"
     ]
    },
    {
     "data": {
      "text/html": [
       "Tracking run with wandb version 0.12.18"
      ],
      "text/plain": [
       "<IPython.core.display.HTML object>"
      ]
     },
     "metadata": {},
     "output_type": "display_data"
    },
    {
     "data": {
      "text/html": [
       "Run data is saved locally in <code>/home/lab38/Multi_proj_6/model/multi-output/strawberry/sweep/wandb/run-20220618_130455-w0ducgj3</code>"
      ],
      "text/plain": [
       "<IPython.core.display.HTML object>"
      ]
     },
     "metadata": {},
     "output_type": "display_data"
    },
    {
     "data": {
      "text/html": [
       "Syncing run <strong><a href=\"https://wandb.ai/hkleee/strawberry/runs/w0ducgj3\" target=\"_blank\">swift-sweep-28</a></strong> to <a href=\"https://wandb.ai/hkleee/strawberry\" target=\"_blank\">Weights & Biases</a> (<a href=\"https://wandb.me/run\" target=\"_blank\">docs</a>)<br/>Sweep page:  <a href=\"https://wandb.ai/hkleee/strawberry/sweeps/natutesf\" target=\"_blank\">https://wandb.ai/hkleee/strawberry/sweeps/natutesf</a>"
      ],
      "text/plain": [
       "<IPython.core.display.HTML object>"
      ]
     },
     "metadata": {},
     "output_type": "display_data"
    },
    {
     "data": {
      "text/html": [
       "Finishing last run (ID:w0ducgj3) before initializing another..."
      ],
      "text/plain": [
       "<IPython.core.display.HTML object>"
      ]
     },
     "metadata": {},
     "output_type": "display_data"
    },
    {
     "data": {
      "text/html": [
       "Waiting for W&B process to finish... <strong style=\"color:green\">(success).</strong>"
      ],
      "text/plain": [
       "<IPython.core.display.HTML object>"
      ]
     },
     "metadata": {},
     "output_type": "display_data"
    },
    {
     "data": {
      "text/html": [
       "Synced <strong style=\"color:#cdcd00\">swift-sweep-28</strong>: <a href=\"https://wandb.ai/hkleee/strawberry/runs/w0ducgj3\" target=\"_blank\">https://wandb.ai/hkleee/strawberry/runs/w0ducgj3</a><br/>Synced 5 W&B file(s), 0 media file(s), 0 artifact file(s) and 0 other file(s)"
      ],
      "text/plain": [
       "<IPython.core.display.HTML object>"
      ]
     },
     "metadata": {},
     "output_type": "display_data"
    },
    {
     "data": {
      "text/html": [
       "Find logs at: <code>./wandb/run-20220618_130455-w0ducgj3/logs</code>"
      ],
      "text/plain": [
       "<IPython.core.display.HTML object>"
      ]
     },
     "metadata": {},
     "output_type": "display_data"
    },
    {
     "data": {
      "text/html": [
       "Successfully finished last run (ID:w0ducgj3). Initializing new run:<br/>"
      ],
      "text/plain": [
       "<IPython.core.display.HTML object>"
      ]
     },
     "metadata": {},
     "output_type": "display_data"
    },
    {
     "data": {
      "text/html": [
       "Tracking run with wandb version 0.12.18"
      ],
      "text/plain": [
       "<IPython.core.display.HTML object>"
      ]
     },
     "metadata": {},
     "output_type": "display_data"
    },
    {
     "data": {
      "text/html": [
       "Run data is saved locally in <code>/home/lab38/Multi_proj_6/model/multi-output/strawberry/sweep/wandb/run-20220618_130459-w0ducgj3</code>"
      ],
      "text/plain": [
       "<IPython.core.display.HTML object>"
      ]
     },
     "metadata": {},
     "output_type": "display_data"
    },
    {
     "data": {
      "text/html": [
       "Syncing run <strong><a href=\"https://wandb.ai/hkleee/strawberry/runs/w0ducgj3\" target=\"_blank\">swift-sweep-28</a></strong> to <a href=\"https://wandb.ai/hkleee/strawberry\" target=\"_blank\">Weights & Biases</a> (<a href=\"https://wandb.me/run\" target=\"_blank\">docs</a>)<br/>Sweep page:  <a href=\"https://wandb.ai/hkleee/strawberry/sweeps/natutesf\" target=\"_blank\">https://wandb.ai/hkleee/strawberry/sweeps/natutesf</a>"
      ],
      "text/plain": [
       "<IPython.core.display.HTML object>"
      ]
     },
     "metadata": {},
     "output_type": "display_data"
    },
    {
     "name": "stdout",
     "output_type": "stream",
     "text": [
      "Found 13437 validated image filenames.\n",
      "Found 3360 validated image filenames.\n",
      "Epoch 1/10\n",
      "268/268 [==============================] - 328s 1s/step - loss: 2.2939 - diease_outputs_loss: 1.0112 - grow_outputs_loss: 1.2827 - diease_outputs_accuracy: 0.5507 - grow_outputs_accuracy: 0.4547 - val_loss: 1.5125 - val_diease_outputs_loss: 0.6341 - val_grow_outputs_loss: 0.8784 - val_diease_outputs_accuracy: 0.7563 - val_grow_outputs_accuracy: 0.6220\n",
      "Epoch 2/10\n",
      "268/268 [==============================] - 320s 1s/step - loss: 1.6407 - diease_outputs_loss: 0.6989 - grow_outputs_loss: 0.9418 - diease_outputs_accuracy: 0.7271 - grow_outputs_accuracy: 0.6073 - val_loss: 1.3633 - val_diease_outputs_loss: 0.5436 - val_grow_outputs_loss: 0.8197 - val_diease_outputs_accuracy: 0.8009 - val_grow_outputs_accuracy: 0.6542\n",
      "Epoch 3/10\n",
      "268/268 [==============================] - 319s 1s/step - loss: 1.5106 - diease_outputs_loss: 0.6158 - grow_outputs_loss: 0.8948 - diease_outputs_accuracy: 0.7664 - grow_outputs_accuracy: 0.6225 - val_loss: 1.3066 - val_diease_outputs_loss: 0.5137 - val_grow_outputs_loss: 0.7930 - val_diease_outputs_accuracy: 0.8143 - val_grow_outputs_accuracy: 0.6646\n",
      "Epoch 4/10\n",
      "268/268 [==============================] - 319s 1s/step - loss: 1.4232 - diease_outputs_loss: 0.5751 - grow_outputs_loss: 0.8481 - diease_outputs_accuracy: 0.7724 - grow_outputs_accuracy: 0.6449 - val_loss: 1.2445 - val_diease_outputs_loss: 0.4814 - val_grow_outputs_loss: 0.7631 - val_diease_outputs_accuracy: 0.8307 - val_grow_outputs_accuracy: 0.6801\n",
      "Epoch 5/10\n",
      "268/268 [==============================] - 318s 1s/step - loss: 1.3867 - diease_outputs_loss: 0.5422 - grow_outputs_loss: 0.8446 - diease_outputs_accuracy: 0.7891 - grow_outputs_accuracy: 0.6416 - val_loss: 1.2072 - val_diease_outputs_loss: 0.4578 - val_grow_outputs_loss: 0.7494 - val_diease_outputs_accuracy: 0.8384 - val_grow_outputs_accuracy: 0.6839\n",
      "Epoch 6/10\n",
      "268/268 [==============================] - 318s 1s/step - loss: 1.3757 - diease_outputs_loss: 0.5421 - grow_outputs_loss: 0.8335 - diease_outputs_accuracy: 0.7878 - grow_outputs_accuracy: 0.6486 - val_loss: 1.1800 - val_diease_outputs_loss: 0.4427 - val_grow_outputs_loss: 0.7372 - val_diease_outputs_accuracy: 0.8387 - val_grow_outputs_accuracy: 0.6860\n",
      "Epoch 7/10\n",
      "268/268 [==============================] - 317s 1s/step - loss: 1.3059 - diease_outputs_loss: 0.5056 - grow_outputs_loss: 0.8002 - diease_outputs_accuracy: 0.8038 - grow_outputs_accuracy: 0.6664 - val_loss: 1.1622 - val_diease_outputs_loss: 0.4369 - val_grow_outputs_loss: 0.7253 - val_diease_outputs_accuracy: 0.8357 - val_grow_outputs_accuracy: 0.6964\n",
      "Epoch 8/10\n",
      "268/268 [==============================] - 318s 1s/step - loss: 1.3219 - diease_outputs_loss: 0.5128 - grow_outputs_loss: 0.8091 - diease_outputs_accuracy: 0.8041 - grow_outputs_accuracy: 0.6655 - val_loss: 1.1525 - val_diease_outputs_loss: 0.4231 - val_grow_outputs_loss: 0.7293 - val_diease_outputs_accuracy: 0.8449 - val_grow_outputs_accuracy: 0.6946\n",
      "Epoch 9/10\n",
      "268/268 [==============================] - 316s 1s/step - loss: 1.3122 - diease_outputs_loss: 0.5080 - grow_outputs_loss: 0.8043 - diease_outputs_accuracy: 0.8083 - grow_outputs_accuracy: 0.6722 - val_loss: 1.1285 - val_diease_outputs_loss: 0.4131 - val_grow_outputs_loss: 0.7154 - val_diease_outputs_accuracy: 0.8494 - val_grow_outputs_accuracy: 0.6964\n",
      "Epoch 10/10\n",
      "268/268 [==============================] - 320s 1s/step - loss: 1.2822 - diease_outputs_loss: 0.4846 - grow_outputs_loss: 0.7976 - diease_outputs_accuracy: 0.8137 - grow_outputs_accuracy: 0.6608 - val_loss: 1.1166 - val_diease_outputs_loss: 0.4098 - val_grow_outputs_loss: 0.7068 - val_diease_outputs_accuracy: 0.8497 - val_grow_outputs_accuracy: 0.7051\n"
     ]
    },
    {
     "data": {
      "text/html": [
       "Waiting for W&B process to finish... <strong style=\"color:green\">(success).</strong>"
      ],
      "text/plain": [
       "<IPython.core.display.HTML object>"
      ]
     },
     "metadata": {},
     "output_type": "display_data"
    },
    {
     "data": {
      "text/html": [
       "<style>\n",
       "    table.wandb td:nth-child(1) { padding: 0 10px; text-align: left ; width: auto;} td:nth-child(2) {text-align: left ; width: 100%}\n",
       "    .wandb-row { display: flex; flex-direction: row; flex-wrap: wrap; justify-content: flex-start; width: 100% }\n",
       "    .wandb-col { display: flex; flex-direction: column; flex-basis: 100%; flex: 1; padding: 10px; }\n",
       "    </style>\n",
       "<div class=\"wandb-row\"><div class=\"wandb-col\"><h3>Run history:</h3><br/><table class=\"wandb\"><tr><td>diease_outputs_accuracy</td><td>▁▅▆▇▇▇████</td></tr><tr><td>diease_outputs_loss</td><td>█▄▃▂▂▂▁▁▁▁</td></tr><tr><td>epoch</td><td>▁▂▃▃▄▅▆▆▇█</td></tr><tr><td>grow_outputs_accuracy</td><td>▁▅▆▇▇▇████</td></tr><tr><td>grow_outputs_loss</td><td>█▄▃▂▂▂▁▁▁▁</td></tr><tr><td>loss</td><td>█▄▃▂▂▂▁▁▁▁</td></tr><tr><td>val_diease_outputs_accuracy</td><td>▁▄▅▇▇▇▇███</td></tr><tr><td>val_diease_outputs_loss</td><td>█▅▄▃▂▂▂▁▁▁</td></tr><tr><td>val_grow_outputs_accuracy</td><td>▁▄▅▆▆▆▇▇▇█</td></tr><tr><td>val_grow_outputs_loss</td><td>█▆▅▃▃▂▂▂▁▁</td></tr><tr><td>val_loss</td><td>█▅▄▃▃▂▂▂▁▁</td></tr></table><br/></div><div class=\"wandb-col\"><h3>Run summary:</h3><br/><table class=\"wandb\"><tr><td>best_epoch</td><td>9</td></tr><tr><td>best_val_loss</td><td>1.11661</td></tr><tr><td>diease_outputs_accuracy</td><td>0.80675</td></tr><tr><td>diease_outputs_loss</td><td>0.49234</td></tr><tr><td>epoch</td><td>9</td></tr><tr><td>grow_outputs_accuracy</td><td>0.66199</td></tr><tr><td>grow_outputs_loss</td><td>0.80098</td></tr><tr><td>loss</td><td>1.29332</td></tr><tr><td>val_diease_outputs_accuracy</td><td>0.8497</td></tr><tr><td>val_diease_outputs_loss</td><td>0.40981</td></tr><tr><td>val_grow_outputs_accuracy</td><td>0.70506</td></tr><tr><td>val_grow_outputs_loss</td><td>0.70679</td></tr><tr><td>val_loss</td><td>1.11661</td></tr></table><br/></div></div>"
      ],
      "text/plain": [
       "<IPython.core.display.HTML object>"
      ]
     },
     "metadata": {},
     "output_type": "display_data"
    },
    {
     "data": {
      "text/html": [
       "Synced <strong style=\"color:#cdcd00\">swift-sweep-28</strong>: <a href=\"https://wandb.ai/hkleee/strawberry/runs/w0ducgj3\" target=\"_blank\">https://wandb.ai/hkleee/strawberry/runs/w0ducgj3</a><br/>Synced 6 W&B file(s), 1 media file(s), 0 artifact file(s) and 1 other file(s)"
      ],
      "text/plain": [
       "<IPython.core.display.HTML object>"
      ]
     },
     "metadata": {},
     "output_type": "display_data"
    },
    {
     "data": {
      "text/html": [
       "Find logs at: <code>./wandb/run-20220618_130459-w0ducgj3/logs</code>"
      ],
      "text/plain": [
       "<IPython.core.display.HTML object>"
      ]
     },
     "metadata": {},
     "output_type": "display_data"
    },
    {
     "name": "stderr",
     "output_type": "stream",
     "text": [
      "\u001b[34m\u001b[1mwandb\u001b[0m: Agent Starting Run: ajc83lh8 with config:\n",
      "\u001b[34m\u001b[1mwandb\u001b[0m: \tactivation: elu\n",
      "\u001b[34m\u001b[1mwandb\u001b[0m: \tbatch_size: 20\n",
      "\u001b[34m\u001b[1mwandb\u001b[0m: \tdense: 32\n",
      "\u001b[34m\u001b[1mwandb\u001b[0m: \tdropout: 0.2\n",
      "\u001b[34m\u001b[1mwandb\u001b[0m: \tlearning_rate: 0.01\n",
      "\u001b[34m\u001b[1mwandb\u001b[0m: \toptimizer: rmsprop\n",
      "\u001b[34m\u001b[1mwandb\u001b[0m: \tpretrain_net: resnet\n",
      "Failed to detect the name of this notebook, you can set it manually with the WANDB_NOTEBOOK_NAME environment variable to enable code saving.\n"
     ]
    },
    {
     "data": {
      "text/html": [
       "Tracking run with wandb version 0.12.18"
      ],
      "text/plain": [
       "<IPython.core.display.HTML object>"
      ]
     },
     "metadata": {},
     "output_type": "display_data"
    },
    {
     "data": {
      "text/html": [
       "Run data is saved locally in <code>/home/lab38/Multi_proj_6/model/multi-output/strawberry/sweep/wandb/run-20220618_135856-ajc83lh8</code>"
      ],
      "text/plain": [
       "<IPython.core.display.HTML object>"
      ]
     },
     "metadata": {},
     "output_type": "display_data"
    },
    {
     "data": {
      "text/html": [
       "Syncing run <strong><a href=\"https://wandb.ai/hkleee/strawberry/runs/ajc83lh8\" target=\"_blank\">glorious-sweep-29</a></strong> to <a href=\"https://wandb.ai/hkleee/strawberry\" target=\"_blank\">Weights & Biases</a> (<a href=\"https://wandb.me/run\" target=\"_blank\">docs</a>)<br/>Sweep page:  <a href=\"https://wandb.ai/hkleee/strawberry/sweeps/natutesf\" target=\"_blank\">https://wandb.ai/hkleee/strawberry/sweeps/natutesf</a>"
      ],
      "text/plain": [
       "<IPython.core.display.HTML object>"
      ]
     },
     "metadata": {},
     "output_type": "display_data"
    },
    {
     "data": {
      "text/html": [
       "Finishing last run (ID:ajc83lh8) before initializing another..."
      ],
      "text/plain": [
       "<IPython.core.display.HTML object>"
      ]
     },
     "metadata": {},
     "output_type": "display_data"
    },
    {
     "data": {
      "text/html": [
       "Waiting for W&B process to finish... <strong style=\"color:green\">(success).</strong>"
      ],
      "text/plain": [
       "<IPython.core.display.HTML object>"
      ]
     },
     "metadata": {},
     "output_type": "display_data"
    },
    {
     "data": {
      "text/html": [
       "Synced <strong style=\"color:#cdcd00\">glorious-sweep-29</strong>: <a href=\"https://wandb.ai/hkleee/strawberry/runs/ajc83lh8\" target=\"_blank\">https://wandb.ai/hkleee/strawberry/runs/ajc83lh8</a><br/>Synced 5 W&B file(s), 0 media file(s), 0 artifact file(s) and 0 other file(s)"
      ],
      "text/plain": [
       "<IPython.core.display.HTML object>"
      ]
     },
     "metadata": {},
     "output_type": "display_data"
    },
    {
     "data": {
      "text/html": [
       "Find logs at: <code>./wandb/run-20220618_135856-ajc83lh8/logs</code>"
      ],
      "text/plain": [
       "<IPython.core.display.HTML object>"
      ]
     },
     "metadata": {},
     "output_type": "display_data"
    },
    {
     "data": {
      "text/html": [
       "Successfully finished last run (ID:ajc83lh8). Initializing new run:<br/>"
      ],
      "text/plain": [
       "<IPython.core.display.HTML object>"
      ]
     },
     "metadata": {},
     "output_type": "display_data"
    },
    {
     "data": {
      "text/html": [
       "Tracking run with wandb version 0.12.18"
      ],
      "text/plain": [
       "<IPython.core.display.HTML object>"
      ]
     },
     "metadata": {},
     "output_type": "display_data"
    },
    {
     "data": {
      "text/html": [
       "Run data is saved locally in <code>/home/lab38/Multi_proj_6/model/multi-output/strawberry/sweep/wandb/run-20220618_135900-ajc83lh8</code>"
      ],
      "text/plain": [
       "<IPython.core.display.HTML object>"
      ]
     },
     "metadata": {},
     "output_type": "display_data"
    },
    {
     "data": {
      "text/html": [
       "Syncing run <strong><a href=\"https://wandb.ai/hkleee/strawberry/runs/ajc83lh8\" target=\"_blank\">glorious-sweep-29</a></strong> to <a href=\"https://wandb.ai/hkleee/strawberry\" target=\"_blank\">Weights & Biases</a> (<a href=\"https://wandb.me/run\" target=\"_blank\">docs</a>)<br/>Sweep page:  <a href=\"https://wandb.ai/hkleee/strawberry/sweeps/natutesf\" target=\"_blank\">https://wandb.ai/hkleee/strawberry/sweeps/natutesf</a>"
      ],
      "text/plain": [
       "<IPython.core.display.HTML object>"
      ]
     },
     "metadata": {},
     "output_type": "display_data"
    },
    {
     "name": "stdout",
     "output_type": "stream",
     "text": [
      "Found 13437 validated image filenames.\n",
      "Found 3360 validated image filenames.\n",
      "Epoch 1/10\n",
      "671/671 [==============================] - 285s 420ms/step - loss: 2.9600 - diease_outputs_loss: 1.2404 - grow_outputs_loss: 1.7196 - diease_outputs_accuracy: 0.3890 - grow_outputs_accuracy: 0.2961 - val_loss: 2.5511 - val_diease_outputs_loss: 1.0955 - val_grow_outputs_loss: 1.4556 - val_diease_outputs_accuracy: 0.4387 - val_grow_outputs_accuracy: 0.3402\n",
      "Epoch 2/10\n",
      "671/671 [==============================] - 279s 416ms/step - loss: 2.5637 - diease_outputs_loss: 1.1239 - grow_outputs_loss: 1.4397 - diease_outputs_accuracy: 0.4141 - grow_outputs_accuracy: 0.3810 - val_loss: 2.4248 - val_diease_outputs_loss: 1.0766 - val_grow_outputs_loss: 1.3482 - val_diease_outputs_accuracy: 0.4134 - val_grow_outputs_accuracy: 0.4899\n",
      "Epoch 3/10\n",
      "671/671 [==============================] - 278s 415ms/step - loss: 2.4789 - diease_outputs_loss: 1.0851 - grow_outputs_loss: 1.3939 - diease_outputs_accuracy: 0.4474 - grow_outputs_accuracy: 0.4131 - val_loss: 2.6084 - val_diease_outputs_loss: 1.1651 - val_grow_outputs_loss: 1.4433 - val_diease_outputs_accuracy: 0.4015 - val_grow_outputs_accuracy: 0.3750\n",
      "Epoch 4/10\n",
      "671/671 [==============================] - 279s 416ms/step - loss: 2.4751 - diease_outputs_loss: 1.0867 - grow_outputs_loss: 1.3883 - diease_outputs_accuracy: 0.4441 - grow_outputs_accuracy: 0.4120 - val_loss: 2.3497 - val_diease_outputs_loss: 1.0000 - val_grow_outputs_loss: 1.3497 - val_diease_outputs_accuracy: 0.5027 - val_grow_outputs_accuracy: 0.4313\n",
      "Epoch 5/10\n",
      "671/671 [==============================] - 274s 409ms/step - loss: 2.4279 - diease_outputs_loss: 1.0645 - grow_outputs_loss: 1.3635 - diease_outputs_accuracy: 0.4557 - grow_outputs_accuracy: 0.4322 - val_loss: 2.2971 - val_diease_outputs_loss: 1.0038 - val_grow_outputs_loss: 1.2933 - val_diease_outputs_accuracy: 0.5265 - val_grow_outputs_accuracy: 0.4604\n",
      "Epoch 6/10\n",
      "671/671 [==============================] - 278s 414ms/step - loss: 2.3972 - diease_outputs_loss: 1.0512 - grow_outputs_loss: 1.3460 - diease_outputs_accuracy: 0.4705 - grow_outputs_accuracy: 0.4449 - val_loss: 2.1474 - val_diease_outputs_loss: 0.9489 - val_grow_outputs_loss: 1.1985 - val_diease_outputs_accuracy: 0.5402 - val_grow_outputs_accuracy: 0.5068\n",
      "Epoch 7/10\n",
      "671/671 [==============================] - 279s 415ms/step - loss: 2.4045 - diease_outputs_loss: 1.0517 - grow_outputs_loss: 1.3528 - diease_outputs_accuracy: 0.4831 - grow_outputs_accuracy: 0.4356 - val_loss: 2.3948 - val_diease_outputs_loss: 1.0249 - val_grow_outputs_loss: 1.3698 - val_diease_outputs_accuracy: 0.4655 - val_grow_outputs_accuracy: 0.3932\n",
      "Epoch 8/10\n",
      "671/671 [==============================] - 278s 415ms/step - loss: 2.3898 - diease_outputs_loss: 1.0558 - grow_outputs_loss: 1.3340 - diease_outputs_accuracy: 0.4685 - grow_outputs_accuracy: 0.4548 - val_loss: 2.3250 - val_diease_outputs_loss: 0.9904 - val_grow_outputs_loss: 1.3346 - val_diease_outputs_accuracy: 0.5357 - val_grow_outputs_accuracy: 0.4577\n",
      "Epoch 9/10\n",
      "671/671 [==============================] - 280s 417ms/step - loss: 2.3634 - diease_outputs_loss: 1.0388 - grow_outputs_loss: 1.3247 - diease_outputs_accuracy: 0.4874 - grow_outputs_accuracy: 0.4529 - val_loss: 2.4845 - val_diease_outputs_loss: 1.0906 - val_grow_outputs_loss: 1.3939 - val_diease_outputs_accuracy: 0.4461 - val_grow_outputs_accuracy: 0.4298\n",
      "Epoch 10/10\n",
      "671/671 [==============================] - 279s 416ms/step - loss: 2.3548 - diease_outputs_loss: 1.0272 - grow_outputs_loss: 1.3276 - diease_outputs_accuracy: 0.4947 - grow_outputs_accuracy: 0.4626 - val_loss: 2.1760 - val_diease_outputs_loss: 0.9492 - val_grow_outputs_loss: 1.2268 - val_diease_outputs_accuracy: 0.5399 - val_grow_outputs_accuracy: 0.5351\n"
     ]
    },
    {
     "data": {
      "text/html": [
       "Waiting for W&B process to finish... <strong style=\"color:green\">(success).</strong>"
      ],
      "text/plain": [
       "<IPython.core.display.HTML object>"
      ]
     },
     "metadata": {},
     "output_type": "display_data"
    },
    {
     "data": {
      "text/html": [
       "<style>\n",
       "    table.wandb td:nth-child(1) { padding: 0 10px; text-align: left ; width: auto;} td:nth-child(2) {text-align: left ; width: 100%}\n",
       "    .wandb-row { display: flex; flex-direction: row; flex-wrap: wrap; justify-content: flex-start; width: 100% }\n",
       "    .wandb-col { display: flex; flex-direction: column; flex-basis: 100%; flex: 1; padding: 10px; }\n",
       "    </style>\n",
       "<div class=\"wandb-row\"><div class=\"wandb-col\"><h3>Run history:</h3><br/><table class=\"wandb\"><tr><td>diease_outputs_accuracy</td><td>▁▃▅▅▆▆▇▇██</td></tr><tr><td>diease_outputs_loss</td><td>█▅▃▃▂▂▂▁▁▁</td></tr><tr><td>epoch</td><td>▁▂▃▃▄▅▆▆▇█</td></tr><tr><td>grow_outputs_accuracy</td><td>▁▄▆▆▇▇▇███</td></tr><tr><td>grow_outputs_loss</td><td>█▄▃▃▂▂▁▁▁▁</td></tr><tr><td>loss</td><td>█▅▃▃▂▂▁▁▁▁</td></tr><tr><td>val_diease_outputs_accuracy</td><td>▃▂▁▆▇█▄█▃█</td></tr><tr><td>val_diease_outputs_loss</td><td>▆▅█▃▃▁▃▂▆▁</td></tr><tr><td>val_grow_outputs_accuracy</td><td>▁▆▂▄▅▇▃▅▄█</td></tr><tr><td>val_grow_outputs_loss</td><td>█▅█▅▄▁▆▅▆▂</td></tr><tr><td>val_loss</td><td>▇▅█▄▃▁▅▄▆▁</td></tr></table><br/></div><div class=\"wandb-col\"><h3>Run summary:</h3><br/><table class=\"wandb\"><tr><td>best_epoch</td><td>5</td></tr><tr><td>best_val_loss</td><td>2.1474</td></tr><tr><td>diease_outputs_accuracy</td><td>0.49303</td></tr><tr><td>diease_outputs_loss</td><td>1.03655</td></tr><tr><td>epoch</td><td>9</td></tr><tr><td>grow_outputs_accuracy</td><td>0.45867</td></tr><tr><td>grow_outputs_loss</td><td>1.32565</td></tr><tr><td>loss</td><td>2.36219</td></tr><tr><td>val_diease_outputs_accuracy</td><td>0.53988</td></tr><tr><td>val_diease_outputs_loss</td><td>0.94923</td></tr><tr><td>val_grow_outputs_accuracy</td><td>0.53512</td></tr><tr><td>val_grow_outputs_loss</td><td>1.22679</td></tr><tr><td>val_loss</td><td>2.17603</td></tr></table><br/></div></div>"
      ],
      "text/plain": [
       "<IPython.core.display.HTML object>"
      ]
     },
     "metadata": {},
     "output_type": "display_data"
    },
    {
     "data": {
      "text/html": [
       "Synced <strong style=\"color:#cdcd00\">glorious-sweep-29</strong>: <a href=\"https://wandb.ai/hkleee/strawberry/runs/ajc83lh8\" target=\"_blank\">https://wandb.ai/hkleee/strawberry/runs/ajc83lh8</a><br/>Synced 6 W&B file(s), 1 media file(s), 0 artifact file(s) and 1 other file(s)"
      ],
      "text/plain": [
       "<IPython.core.display.HTML object>"
      ]
     },
     "metadata": {},
     "output_type": "display_data"
    },
    {
     "data": {
      "text/html": [
       "Find logs at: <code>./wandb/run-20220618_135900-ajc83lh8/logs</code>"
      ],
      "text/plain": [
       "<IPython.core.display.HTML object>"
      ]
     },
     "metadata": {},
     "output_type": "display_data"
    },
    {
     "name": "stderr",
     "output_type": "stream",
     "text": [
      "\u001b[34m\u001b[1mwandb\u001b[0m: Sweep Agent: Waiting for job.\n",
      "\u001b[34m\u001b[1mwandb\u001b[0m: Job received.\n",
      "\u001b[34m\u001b[1mwandb\u001b[0m: Agent Starting Run: dqn7fp68 with config:\n",
      "\u001b[34m\u001b[1mwandb\u001b[0m: \tactivation: relu\n",
      "\u001b[34m\u001b[1mwandb\u001b[0m: \tbatch_size: 50\n",
      "\u001b[34m\u001b[1mwandb\u001b[0m: \tdense: 32\n",
      "\u001b[34m\u001b[1mwandb\u001b[0m: \tdropout: 0.2\n",
      "\u001b[34m\u001b[1mwandb\u001b[0m: \tlearning_rate: 0.001\n",
      "\u001b[34m\u001b[1mwandb\u001b[0m: \toptimizer: rmsprop\n",
      "\u001b[34m\u001b[1mwandb\u001b[0m: \tpretrain_net: inception\n",
      "Failed to detect the name of this notebook, you can set it manually with the WANDB_NOTEBOOK_NAME environment variable to enable code saving.\n"
     ]
    },
    {
     "data": {
      "text/html": [
       "Tracking run with wandb version 0.12.18"
      ],
      "text/plain": [
       "<IPython.core.display.HTML object>"
      ]
     },
     "metadata": {},
     "output_type": "display_data"
    },
    {
     "data": {
      "text/html": [
       "Run data is saved locally in <code>/home/lab38/Multi_proj_6/model/multi-output/strawberry/sweep/wandb/run-20220618_144602-dqn7fp68</code>"
      ],
      "text/plain": [
       "<IPython.core.display.HTML object>"
      ]
     },
     "metadata": {},
     "output_type": "display_data"
    },
    {
     "data": {
      "text/html": [
       "Syncing run <strong><a href=\"https://wandb.ai/hkleee/strawberry/runs/dqn7fp68\" target=\"_blank\">fearless-sweep-30</a></strong> to <a href=\"https://wandb.ai/hkleee/strawberry\" target=\"_blank\">Weights & Biases</a> (<a href=\"https://wandb.me/run\" target=\"_blank\">docs</a>)<br/>Sweep page:  <a href=\"https://wandb.ai/hkleee/strawberry/sweeps/natutesf\" target=\"_blank\">https://wandb.ai/hkleee/strawberry/sweeps/natutesf</a>"
      ],
      "text/plain": [
       "<IPython.core.display.HTML object>"
      ]
     },
     "metadata": {},
     "output_type": "display_data"
    },
    {
     "data": {
      "text/html": [
       "Finishing last run (ID:dqn7fp68) before initializing another..."
      ],
      "text/plain": [
       "<IPython.core.display.HTML object>"
      ]
     },
     "metadata": {},
     "output_type": "display_data"
    },
    {
     "data": {
      "text/html": [
       "Waiting for W&B process to finish... <strong style=\"color:green\">(success).</strong>"
      ],
      "text/plain": [
       "<IPython.core.display.HTML object>"
      ]
     },
     "metadata": {},
     "output_type": "display_data"
    },
    {
     "data": {
      "text/html": [
       "Synced <strong style=\"color:#cdcd00\">fearless-sweep-30</strong>: <a href=\"https://wandb.ai/hkleee/strawberry/runs/dqn7fp68\" target=\"_blank\">https://wandb.ai/hkleee/strawberry/runs/dqn7fp68</a><br/>Synced 5 W&B file(s), 0 media file(s), 0 artifact file(s) and 0 other file(s)"
      ],
      "text/plain": [
       "<IPython.core.display.HTML object>"
      ]
     },
     "metadata": {},
     "output_type": "display_data"
    },
    {
     "data": {
      "text/html": [
       "Find logs at: <code>./wandb/run-20220618_144602-dqn7fp68/logs</code>"
      ],
      "text/plain": [
       "<IPython.core.display.HTML object>"
      ]
     },
     "metadata": {},
     "output_type": "display_data"
    },
    {
     "data": {
      "text/html": [
       "Successfully finished last run (ID:dqn7fp68). Initializing new run:<br/>"
      ],
      "text/plain": [
       "<IPython.core.display.HTML object>"
      ]
     },
     "metadata": {},
     "output_type": "display_data"
    },
    {
     "data": {
      "text/html": [
       "Tracking run with wandb version 0.12.18"
      ],
      "text/plain": [
       "<IPython.core.display.HTML object>"
      ]
     },
     "metadata": {},
     "output_type": "display_data"
    },
    {
     "data": {
      "text/html": [
       "Run data is saved locally in <code>/home/lab38/Multi_proj_6/model/multi-output/strawberry/sweep/wandb/run-20220618_144606-dqn7fp68</code>"
      ],
      "text/plain": [
       "<IPython.core.display.HTML object>"
      ]
     },
     "metadata": {},
     "output_type": "display_data"
    },
    {
     "data": {
      "text/html": [
       "Syncing run <strong><a href=\"https://wandb.ai/hkleee/strawberry/runs/dqn7fp68\" target=\"_blank\">fearless-sweep-30</a></strong> to <a href=\"https://wandb.ai/hkleee/strawberry\" target=\"_blank\">Weights & Biases</a> (<a href=\"https://wandb.me/run\" target=\"_blank\">docs</a>)<br/>Sweep page:  <a href=\"https://wandb.ai/hkleee/strawberry/sweeps/natutesf\" target=\"_blank\">https://wandb.ai/hkleee/strawberry/sweeps/natutesf</a>"
      ],
      "text/plain": [
       "<IPython.core.display.HTML object>"
      ]
     },
     "metadata": {},
     "output_type": "display_data"
    },
    {
     "name": "stdout",
     "output_type": "stream",
     "text": [
      "Found 13437 validated image filenames.\n",
      "Found 3360 validated image filenames.\n",
      "Epoch 1/10\n",
      "268/268 [==============================] - 332s 1s/step - loss: 1.9548 - diease_outputs_loss: 0.8450 - grow_outputs_loss: 1.1097 - diease_outputs_accuracy: 0.6371 - grow_outputs_accuracy: 0.5305 - val_loss: 1.2805 - val_diease_outputs_loss: 0.4990 - val_grow_outputs_loss: 0.7815 - val_diease_outputs_accuracy: 0.8086 - val_grow_outputs_accuracy: 0.6655\n",
      "Epoch 2/10\n",
      "268/268 [==============================] - 320s 1s/step - loss: 1.3329 - diease_outputs_loss: 0.5168 - grow_outputs_loss: 0.8161 - diease_outputs_accuracy: 0.8022 - grow_outputs_accuracy: 0.6522 - val_loss: 1.1047 - val_diease_outputs_loss: 0.4023 - val_grow_outputs_loss: 0.7025 - val_diease_outputs_accuracy: 0.8536 - val_grow_outputs_accuracy: 0.6970\n",
      "Epoch 3/10\n",
      "268/268 [==============================] - 321s 1s/step - loss: 1.1810 - diease_outputs_loss: 0.4319 - grow_outputs_loss: 0.7491 - diease_outputs_accuracy: 0.8359 - grow_outputs_accuracy: 0.6779 - val_loss: 1.0483 - val_diease_outputs_loss: 0.3666 - val_grow_outputs_loss: 0.6817 - val_diease_outputs_accuracy: 0.8646 - val_grow_outputs_accuracy: 0.7107\n",
      "Epoch 4/10\n",
      "268/268 [==============================] - 321s 1s/step - loss: 1.1268 - diease_outputs_loss: 0.3965 - grow_outputs_loss: 0.7303 - diease_outputs_accuracy: 0.8451 - grow_outputs_accuracy: 0.6924 - val_loss: 1.0326 - val_diease_outputs_loss: 0.3817 - val_grow_outputs_loss: 0.6509 - val_diease_outputs_accuracy: 0.8506 - val_grow_outputs_accuracy: 0.7289\n",
      "Epoch 5/10\n",
      "268/268 [==============================] - 321s 1s/step - loss: 1.0680 - diease_outputs_loss: 0.3811 - grow_outputs_loss: 0.6869 - diease_outputs_accuracy: 0.8497 - grow_outputs_accuracy: 0.7098 - val_loss: 0.9565 - val_diease_outputs_loss: 0.3071 - val_grow_outputs_loss: 0.6493 - val_diease_outputs_accuracy: 0.8854 - val_grow_outputs_accuracy: 0.7292\n",
      "Epoch 6/10\n",
      "268/268 [==============================] - 317s 1s/step - loss: 1.0415 - diease_outputs_loss: 0.3613 - grow_outputs_loss: 0.6802 - diease_outputs_accuracy: 0.8656 - grow_outputs_accuracy: 0.7136 - val_loss: 0.9530 - val_diease_outputs_loss: 0.3144 - val_grow_outputs_loss: 0.6386 - val_diease_outputs_accuracy: 0.8833 - val_grow_outputs_accuracy: 0.7384\n",
      "Epoch 7/10\n",
      "268/268 [==============================] - 319s 1s/step - loss: 0.9920 - diease_outputs_loss: 0.3310 - grow_outputs_loss: 0.6610 - diease_outputs_accuracy: 0.8712 - grow_outputs_accuracy: 0.7207 - val_loss: 0.8953 - val_diease_outputs_loss: 0.2786 - val_grow_outputs_loss: 0.6167 - val_diease_outputs_accuracy: 0.9042 - val_grow_outputs_accuracy: 0.7461\n",
      "Epoch 8/10\n",
      "268/268 [==============================] - 322s 1s/step - loss: 1.0005 - diease_outputs_loss: 0.3389 - grow_outputs_loss: 0.6617 - diease_outputs_accuracy: 0.8696 - grow_outputs_accuracy: 0.7201 - val_loss: 0.8722 - val_diease_outputs_loss: 0.2743 - val_grow_outputs_loss: 0.5979 - val_diease_outputs_accuracy: 0.8970 - val_grow_outputs_accuracy: 0.7548\n",
      "Epoch 9/10\n",
      "268/268 [==============================] - 322s 1s/step - loss: 0.9605 - diease_outputs_loss: 0.3135 - grow_outputs_loss: 0.6469 - diease_outputs_accuracy: 0.8796 - grow_outputs_accuracy: 0.7236 - val_loss: 0.8399 - val_diease_outputs_loss: 0.2565 - val_grow_outputs_loss: 0.5834 - val_diease_outputs_accuracy: 0.9030 - val_grow_outputs_accuracy: 0.7637\n",
      "Epoch 10/10\n",
      "268/268 [==============================] - 343s 1s/step - loss: 0.9635 - diease_outputs_loss: 0.3175 - grow_outputs_loss: 0.6460 - diease_outputs_accuracy: 0.8756 - grow_outputs_accuracy: 0.7309 - val_loss: 0.8378 - val_diease_outputs_loss: 0.2577 - val_grow_outputs_loss: 0.5801 - val_diease_outputs_accuracy: 0.9086 - val_grow_outputs_accuracy: 0.7634\n"
     ]
    },
    {
     "data": {
      "text/html": [
       "Waiting for W&B process to finish... <strong style=\"color:green\">(success).</strong>"
      ],
      "text/plain": [
       "<IPython.core.display.HTML object>"
      ]
     },
     "metadata": {},
     "output_type": "display_data"
    },
    {
     "data": {
      "text/html": [
       "<style>\n",
       "    table.wandb td:nth-child(1) { padding: 0 10px; text-align: left ; width: auto;} td:nth-child(2) {text-align: left ; width: 100%}\n",
       "    .wandb-row { display: flex; flex-direction: row; flex-wrap: wrap; justify-content: flex-start; width: 100% }\n",
       "    .wandb-col { display: flex; flex-direction: column; flex-basis: 100%; flex: 1; padding: 10px; }\n",
       "    </style>\n",
       "<div class=\"wandb-row\"><div class=\"wandb-col\"><h3>Run history:</h3><br/><table class=\"wandb\"><tr><td>diease_outputs_accuracy</td><td>▁▅▆▇▇▇████</td></tr><tr><td>diease_outputs_loss</td><td>█▄▃▂▂▂▁▁▁▁</td></tr><tr><td>epoch</td><td>▁▂▃▃▄▅▆▆▇█</td></tr><tr><td>grow_outputs_accuracy</td><td>▁▅▆▆▇▇▇▇██</td></tr><tr><td>grow_outputs_loss</td><td>█▄▃▃▂▂▂▁▁▁</td></tr><tr><td>loss</td><td>█▄▃▃▂▂▁▁▁▁</td></tr><tr><td>val_diease_outputs_accuracy</td><td>▁▄▅▄▆▆█▇██</td></tr><tr><td>val_diease_outputs_loss</td><td>█▅▄▅▂▃▂▂▁▁</td></tr><tr><td>val_grow_outputs_accuracy</td><td>▁▃▄▆▆▆▇▇██</td></tr><tr><td>val_grow_outputs_loss</td><td>█▅▅▃▃▃▂▂▁▁</td></tr><tr><td>val_loss</td><td>█▅▄▄▃▃▂▂▁▁</td></tr></table><br/></div><div class=\"wandb-col\"><h3>Run summary:</h3><br/><table class=\"wandb\"><tr><td>best_epoch</td><td>9</td></tr><tr><td>best_val_loss</td><td>0.83778</td></tr><tr><td>diease_outputs_accuracy</td><td>0.87809</td></tr><tr><td>diease_outputs_loss</td><td>0.31313</td></tr><tr><td>epoch</td><td>9</td></tr><tr><td>grow_outputs_accuracy</td><td>0.72772</td></tr><tr><td>grow_outputs_loss</td><td>0.64485</td></tr><tr><td>loss</td><td>0.95798</td></tr><tr><td>val_diease_outputs_accuracy</td><td>0.90863</td></tr><tr><td>val_diease_outputs_loss</td><td>0.25772</td></tr><tr><td>val_grow_outputs_accuracy</td><td>0.76339</td></tr><tr><td>val_grow_outputs_loss</td><td>0.58006</td></tr><tr><td>val_loss</td><td>0.83778</td></tr></table><br/></div></div>"
      ],
      "text/plain": [
       "<IPython.core.display.HTML object>"
      ]
     },
     "metadata": {},
     "output_type": "display_data"
    },
    {
     "data": {
      "text/html": [
       "Synced <strong style=\"color:#cdcd00\">fearless-sweep-30</strong>: <a href=\"https://wandb.ai/hkleee/strawberry/runs/dqn7fp68\" target=\"_blank\">https://wandb.ai/hkleee/strawberry/runs/dqn7fp68</a><br/>Synced 6 W&B file(s), 1 media file(s), 0 artifact file(s) and 1 other file(s)"
      ],
      "text/plain": [
       "<IPython.core.display.HTML object>"
      ]
     },
     "metadata": {},
     "output_type": "display_data"
    },
    {
     "data": {
      "text/html": [
       "Find logs at: <code>./wandb/run-20220618_144606-dqn7fp68/logs</code>"
      ],
      "text/plain": [
       "<IPython.core.display.HTML object>"
      ]
     },
     "metadata": {},
     "output_type": "display_data"
    },
    {
     "name": "stderr",
     "output_type": "stream",
     "text": [
      "\u001b[34m\u001b[1mwandb\u001b[0m: Agent Starting Run: 1mmww7fq with config:\n",
      "\u001b[34m\u001b[1mwandb\u001b[0m: \tactivation: elu\n",
      "\u001b[34m\u001b[1mwandb\u001b[0m: \tbatch_size: 20\n",
      "\u001b[34m\u001b[1mwandb\u001b[0m: \tdense: 1024\n",
      "\u001b[34m\u001b[1mwandb\u001b[0m: \tdropout: 0.2\n",
      "\u001b[34m\u001b[1mwandb\u001b[0m: \tlearning_rate: 0.001\n",
      "\u001b[34m\u001b[1mwandb\u001b[0m: \toptimizer: rmsprop\n",
      "\u001b[34m\u001b[1mwandb\u001b[0m: \tpretrain_net: inception\n",
      "Failed to detect the name of this notebook, you can set it manually with the WANDB_NOTEBOOK_NAME environment variable to enable code saving.\n"
     ]
    },
    {
     "data": {
      "text/html": [
       "Tracking run with wandb version 0.12.18"
      ],
      "text/plain": [
       "<IPython.core.display.HTML object>"
      ]
     },
     "metadata": {},
     "output_type": "display_data"
    },
    {
     "data": {
      "text/html": [
       "Run data is saved locally in <code>/home/lab38/Multi_proj_6/model/multi-output/strawberry/sweep/wandb/run-20220618_154050-1mmww7fq</code>"
      ],
      "text/plain": [
       "<IPython.core.display.HTML object>"
      ]
     },
     "metadata": {},
     "output_type": "display_data"
    },
    {
     "data": {
      "text/html": [
       "Syncing run <strong><a href=\"https://wandb.ai/hkleee/strawberry/runs/1mmww7fq\" target=\"_blank\">atomic-sweep-31</a></strong> to <a href=\"https://wandb.ai/hkleee/strawberry\" target=\"_blank\">Weights & Biases</a> (<a href=\"https://wandb.me/run\" target=\"_blank\">docs</a>)<br/>Sweep page:  <a href=\"https://wandb.ai/hkleee/strawberry/sweeps/natutesf\" target=\"_blank\">https://wandb.ai/hkleee/strawberry/sweeps/natutesf</a>"
      ],
      "text/plain": [
       "<IPython.core.display.HTML object>"
      ]
     },
     "metadata": {},
     "output_type": "display_data"
    },
    {
     "data": {
      "text/html": [
       "Finishing last run (ID:1mmww7fq) before initializing another..."
      ],
      "text/plain": [
       "<IPython.core.display.HTML object>"
      ]
     },
     "metadata": {},
     "output_type": "display_data"
    },
    {
     "data": {
      "text/html": [
       "Waiting for W&B process to finish... <strong style=\"color:green\">(success).</strong>"
      ],
      "text/plain": [
       "<IPython.core.display.HTML object>"
      ]
     },
     "metadata": {},
     "output_type": "display_data"
    },
    {
     "data": {
      "text/html": [
       "Synced <strong style=\"color:#cdcd00\">atomic-sweep-31</strong>: <a href=\"https://wandb.ai/hkleee/strawberry/runs/1mmww7fq\" target=\"_blank\">https://wandb.ai/hkleee/strawberry/runs/1mmww7fq</a><br/>Synced 5 W&B file(s), 0 media file(s), 0 artifact file(s) and 0 other file(s)"
      ],
      "text/plain": [
       "<IPython.core.display.HTML object>"
      ]
     },
     "metadata": {},
     "output_type": "display_data"
    },
    {
     "data": {
      "text/html": [
       "Find logs at: <code>./wandb/run-20220618_154050-1mmww7fq/logs</code>"
      ],
      "text/plain": [
       "<IPython.core.display.HTML object>"
      ]
     },
     "metadata": {},
     "output_type": "display_data"
    },
    {
     "data": {
      "text/html": [
       "Successfully finished last run (ID:1mmww7fq). Initializing new run:<br/>"
      ],
      "text/plain": [
       "<IPython.core.display.HTML object>"
      ]
     },
     "metadata": {},
     "output_type": "display_data"
    },
    {
     "data": {
      "text/html": [
       "Tracking run with wandb version 0.12.18"
      ],
      "text/plain": [
       "<IPython.core.display.HTML object>"
      ]
     },
     "metadata": {},
     "output_type": "display_data"
    },
    {
     "data": {
      "text/html": [
       "Run data is saved locally in <code>/home/lab38/Multi_proj_6/model/multi-output/strawberry/sweep/wandb/run-20220618_154055-1mmww7fq</code>"
      ],
      "text/plain": [
       "<IPython.core.display.HTML object>"
      ]
     },
     "metadata": {},
     "output_type": "display_data"
    },
    {
     "data": {
      "text/html": [
       "Syncing run <strong><a href=\"https://wandb.ai/hkleee/strawberry/runs/1mmww7fq\" target=\"_blank\">atomic-sweep-31</a></strong> to <a href=\"https://wandb.ai/hkleee/strawberry\" target=\"_blank\">Weights & Biases</a> (<a href=\"https://wandb.me/run\" target=\"_blank\">docs</a>)<br/>Sweep page:  <a href=\"https://wandb.ai/hkleee/strawberry/sweeps/natutesf\" target=\"_blank\">https://wandb.ai/hkleee/strawberry/sweeps/natutesf</a>"
      ],
      "text/plain": [
       "<IPython.core.display.HTML object>"
      ]
     },
     "metadata": {},
     "output_type": "display_data"
    },
    {
     "name": "stdout",
     "output_type": "stream",
     "text": [
      "Found 13437 validated image filenames.\n",
      "Found 3360 validated image filenames.\n",
      "Epoch 1/10\n",
      "671/671 [==============================] - 369s 535ms/step - loss: 3.2210 - diease_outputs_loss: 1.4421 - grow_outputs_loss: 1.7789 - diease_outputs_accuracy: 0.6316 - grow_outputs_accuracy: 0.5207 - val_loss: 1.1798 - val_diease_outputs_loss: 0.3786 - val_grow_outputs_loss: 0.8012 - val_diease_outputs_accuracy: 0.8568 - val_grow_outputs_accuracy: 0.6589\n",
      "Epoch 2/10\n",
      "671/671 [==============================] - 361s 538ms/step - loss: 1.3920 - diease_outputs_loss: 0.5091 - grow_outputs_loss: 0.8829 - diease_outputs_accuracy: 0.8030 - grow_outputs_accuracy: 0.6430 - val_loss: 1.2485 - val_diease_outputs_loss: 0.4286 - val_grow_outputs_loss: 0.8199 - val_diease_outputs_accuracy: 0.8485 - val_grow_outputs_accuracy: 0.6521\n",
      "Epoch 3/10\n",
      "671/671 [==============================] - 363s 541ms/step - loss: 1.2366 - diease_outputs_loss: 0.4200 - grow_outputs_loss: 0.8166 - diease_outputs_accuracy: 0.8446 - grow_outputs_accuracy: 0.6663 - val_loss: 1.0676 - val_diease_outputs_loss: 0.2939 - val_grow_outputs_loss: 0.7737 - val_diease_outputs_accuracy: 0.8920 - val_grow_outputs_accuracy: 0.6818\n",
      "Epoch 4/10\n",
      "671/671 [==============================] - 328s 488ms/step - loss: 1.1257 - diease_outputs_loss: 0.3955 - grow_outputs_loss: 0.7302 - diease_outputs_accuracy: 0.8544 - grow_outputs_accuracy: 0.7092 - val_loss: 1.1506 - val_diease_outputs_loss: 0.4816 - val_grow_outputs_loss: 0.6690 - val_diease_outputs_accuracy: 0.8262 - val_grow_outputs_accuracy: 0.7122\n",
      "Epoch 5/10\n",
      "671/671 [==============================] - 309s 460ms/step - loss: 1.0668 - diease_outputs_loss: 0.3306 - grow_outputs_loss: 0.7361 - diease_outputs_accuracy: 0.8771 - grow_outputs_accuracy: 0.6974 - val_loss: 1.0204 - val_diease_outputs_loss: 0.2667 - val_grow_outputs_loss: 0.7537 - val_diease_outputs_accuracy: 0.8982 - val_grow_outputs_accuracy: 0.6845\n",
      "Epoch 6/10\n",
      "671/671 [==============================] - 309s 460ms/step - loss: 1.0278 - diease_outputs_loss: 0.3376 - grow_outputs_loss: 0.6903 - diease_outputs_accuracy: 0.8742 - grow_outputs_accuracy: 0.7244 - val_loss: 0.8033 - val_diease_outputs_loss: 0.2356 - val_grow_outputs_loss: 0.5676 - val_diease_outputs_accuracy: 0.9152 - val_grow_outputs_accuracy: 0.7646\n",
      "Epoch 7/10\n",
      "671/671 [==============================] - 310s 462ms/step - loss: 0.9898 - diease_outputs_loss: 0.3190 - grow_outputs_loss: 0.6707 - diease_outputs_accuracy: 0.8824 - grow_outputs_accuracy: 0.7295 - val_loss: 0.8281 - val_diease_outputs_loss: 0.2687 - val_grow_outputs_loss: 0.5594 - val_diease_outputs_accuracy: 0.9131 - val_grow_outputs_accuracy: 0.7750\n",
      "Epoch 8/10\n",
      "671/671 [==============================] - 307s 457ms/step - loss: 0.9346 - diease_outputs_loss: 0.2956 - grow_outputs_loss: 0.6390 - diease_outputs_accuracy: 0.8896 - grow_outputs_accuracy: 0.7385 - val_loss: 0.7860 - val_diease_outputs_loss: 0.2126 - val_grow_outputs_loss: 0.5734 - val_diease_outputs_accuracy: 0.9274 - val_grow_outputs_accuracy: 0.7670\n",
      "Epoch 9/10\n",
      "671/671 [==============================] - 310s 461ms/step - loss: 0.9236 - diease_outputs_loss: 0.2779 - grow_outputs_loss: 0.6457 - diease_outputs_accuracy: 0.9012 - grow_outputs_accuracy: 0.7399 - val_loss: 0.7269 - val_diease_outputs_loss: 0.1984 - val_grow_outputs_loss: 0.5286 - val_diease_outputs_accuracy: 0.9375 - val_grow_outputs_accuracy: 0.7848\n",
      "Epoch 10/10\n",
      "671/671 [==============================] - 310s 462ms/step - loss: 0.8991 - diease_outputs_loss: 0.2710 - grow_outputs_loss: 0.6281 - diease_outputs_accuracy: 0.8977 - grow_outputs_accuracy: 0.7438 - val_loss: 0.9248 - val_diease_outputs_loss: 0.2168 - val_grow_outputs_loss: 0.7080 - val_diease_outputs_accuracy: 0.9342 - val_grow_outputs_accuracy: 0.7158\n"
     ]
    },
    {
     "data": {
      "text/html": [
       "Waiting for W&B process to finish... <strong style=\"color:green\">(success).</strong>"
      ],
      "text/plain": [
       "<IPython.core.display.HTML object>"
      ]
     },
     "metadata": {},
     "output_type": "display_data"
    },
    {
     "data": {
      "text/html": [
       "<style>\n",
       "    table.wandb td:nth-child(1) { padding: 0 10px; text-align: left ; width: auto;} td:nth-child(2) {text-align: left ; width: 100%}\n",
       "    .wandb-row { display: flex; flex-direction: row; flex-wrap: wrap; justify-content: flex-start; width: 100% }\n",
       "    .wandb-col { display: flex; flex-direction: column; flex-basis: 100%; flex: 1; padding: 10px; }\n",
       "    </style>\n",
       "<div class=\"wandb-row\"><div class=\"wandb-col\"><h3>Run history:</h3><br/><table class=\"wandb\"><tr><td>diease_outputs_accuracy</td><td>▁▅▆▇▇▇▇███</td></tr><tr><td>diease_outputs_loss</td><td>█▄▃▂▂▂▂▁▁▁</td></tr><tr><td>epoch</td><td>▁▂▃▃▄▅▆▆▇█</td></tr><tr><td>grow_outputs_accuracy</td><td>▁▄▅▆▆▇▇███</td></tr><tr><td>grow_outputs_loss</td><td>█▄▃▃▂▂▂▁▁▁</td></tr><tr><td>loss</td><td>█▄▃▂▂▂▂▁▁▁</td></tr><tr><td>val_diease_outputs_accuracy</td><td>▃▂▅▁▆▇▆▇██</td></tr><tr><td>val_diease_outputs_loss</td><td>▅▇▃█▃▂▃▁▁▁</td></tr><tr><td>val_grow_outputs_accuracy</td><td>▁▁▃▄▃▇▇▇█▄</td></tr><tr><td>val_grow_outputs_loss</td><td>██▇▄▆▂▂▂▁▅</td></tr><tr><td>val_loss</td><td>▇█▆▇▅▂▂▂▁▄</td></tr></table><br/></div><div class=\"wandb-col\"><h3>Run summary:</h3><br/><table class=\"wandb\"><tr><td>best_epoch</td><td>8</td></tr><tr><td>best_val_loss</td><td>0.72693</td></tr><tr><td>diease_outputs_accuracy</td><td>0.89819</td></tr><tr><td>diease_outputs_loss</td><td>0.27239</td></tr><tr><td>epoch</td><td>9</td></tr><tr><td>grow_outputs_accuracy</td><td>0.74778</td></tr><tr><td>grow_outputs_loss</td><td>0.62696</td></tr><tr><td>loss</td><td>0.89934</td></tr><tr><td>val_diease_outputs_accuracy</td><td>0.93423</td></tr><tr><td>val_diease_outputs_loss</td><td>0.21683</td></tr><tr><td>val_grow_outputs_accuracy</td><td>0.71577</td></tr><tr><td>val_grow_outputs_loss</td><td>0.70801</td></tr><tr><td>val_loss</td><td>0.92483</td></tr></table><br/></div></div>"
      ],
      "text/plain": [
       "<IPython.core.display.HTML object>"
      ]
     },
     "metadata": {},
     "output_type": "display_data"
    },
    {
     "data": {
      "text/html": [
       "Synced <strong style=\"color:#cdcd00\">atomic-sweep-31</strong>: <a href=\"https://wandb.ai/hkleee/strawberry/runs/1mmww7fq\" target=\"_blank\">https://wandb.ai/hkleee/strawberry/runs/1mmww7fq</a><br/>Synced 6 W&B file(s), 1 media file(s), 0 artifact file(s) and 1 other file(s)"
      ],
      "text/plain": [
       "<IPython.core.display.HTML object>"
      ]
     },
     "metadata": {},
     "output_type": "display_data"
    },
    {
     "data": {
      "text/html": [
       "Find logs at: <code>./wandb/run-20220618_154055-1mmww7fq/logs</code>"
      ],
      "text/plain": [
       "<IPython.core.display.HTML object>"
      ]
     },
     "metadata": {},
     "output_type": "display_data"
    },
    {
     "name": "stderr",
     "output_type": "stream",
     "text": [
      "\u001b[34m\u001b[1mwandb\u001b[0m: Agent Starting Run: x17d6o5k with config:\n",
      "\u001b[34m\u001b[1mwandb\u001b[0m: \tactivation: relu\n",
      "\u001b[34m\u001b[1mwandb\u001b[0m: \tbatch_size: 50\n",
      "\u001b[34m\u001b[1mwandb\u001b[0m: \tdense: 1024\n",
      "\u001b[34m\u001b[1mwandb\u001b[0m: \tdropout: 0.2\n",
      "\u001b[34m\u001b[1mwandb\u001b[0m: \tlearning_rate: 0.001\n",
      "\u001b[34m\u001b[1mwandb\u001b[0m: \toptimizer: rmsprop\n",
      "\u001b[34m\u001b[1mwandb\u001b[0m: \tpretrain_net: inception\n",
      "Failed to detect the name of this notebook, you can set it manually with the WANDB_NOTEBOOK_NAME environment variable to enable code saving.\n"
     ]
    },
    {
     "data": {
      "text/html": [
       "Tracking run with wandb version 0.12.18"
      ],
      "text/plain": [
       "<IPython.core.display.HTML object>"
      ]
     },
     "metadata": {},
     "output_type": "display_data"
    },
    {
     "data": {
      "text/html": [
       "Run data is saved locally in <code>/home/lab38/Multi_proj_6/model/multi-output/strawberry/sweep/wandb/run-20220618_163613-x17d6o5k</code>"
      ],
      "text/plain": [
       "<IPython.core.display.HTML object>"
      ]
     },
     "metadata": {},
     "output_type": "display_data"
    },
    {
     "data": {
      "text/html": [
       "Syncing run <strong><a href=\"https://wandb.ai/hkleee/strawberry/runs/x17d6o5k\" target=\"_blank\">giddy-sweep-32</a></strong> to <a href=\"https://wandb.ai/hkleee/strawberry\" target=\"_blank\">Weights & Biases</a> (<a href=\"https://wandb.me/run\" target=\"_blank\">docs</a>)<br/>Sweep page:  <a href=\"https://wandb.ai/hkleee/strawberry/sweeps/natutesf\" target=\"_blank\">https://wandb.ai/hkleee/strawberry/sweeps/natutesf</a>"
      ],
      "text/plain": [
       "<IPython.core.display.HTML object>"
      ]
     },
     "metadata": {},
     "output_type": "display_data"
    },
    {
     "data": {
      "text/html": [
       "Finishing last run (ID:x17d6o5k) before initializing another..."
      ],
      "text/plain": [
       "<IPython.core.display.HTML object>"
      ]
     },
     "metadata": {},
     "output_type": "display_data"
    },
    {
     "data": {
      "text/html": [
       "Waiting for W&B process to finish... <strong style=\"color:green\">(success).</strong>"
      ],
      "text/plain": [
       "<IPython.core.display.HTML object>"
      ]
     },
     "metadata": {},
     "output_type": "display_data"
    },
    {
     "data": {
      "text/html": [
       "Synced <strong style=\"color:#cdcd00\">giddy-sweep-32</strong>: <a href=\"https://wandb.ai/hkleee/strawberry/runs/x17d6o5k\" target=\"_blank\">https://wandb.ai/hkleee/strawberry/runs/x17d6o5k</a><br/>Synced 5 W&B file(s), 0 media file(s), 0 artifact file(s) and 0 other file(s)"
      ],
      "text/plain": [
       "<IPython.core.display.HTML object>"
      ]
     },
     "metadata": {},
     "output_type": "display_data"
    },
    {
     "data": {
      "text/html": [
       "Find logs at: <code>./wandb/run-20220618_163613-x17d6o5k/logs</code>"
      ],
      "text/plain": [
       "<IPython.core.display.HTML object>"
      ]
     },
     "metadata": {},
     "output_type": "display_data"
    },
    {
     "data": {
      "text/html": [
       "Successfully finished last run (ID:x17d6o5k). Initializing new run:<br/>"
      ],
      "text/plain": [
       "<IPython.core.display.HTML object>"
      ]
     },
     "metadata": {},
     "output_type": "display_data"
    },
    {
     "data": {
      "text/html": [
       "Tracking run with wandb version 0.12.18"
      ],
      "text/plain": [
       "<IPython.core.display.HTML object>"
      ]
     },
     "metadata": {},
     "output_type": "display_data"
    },
    {
     "data": {
      "text/html": [
       "Run data is saved locally in <code>/home/lab38/Multi_proj_6/model/multi-output/strawberry/sweep/wandb/run-20220618_163617-x17d6o5k</code>"
      ],
      "text/plain": [
       "<IPython.core.display.HTML object>"
      ]
     },
     "metadata": {},
     "output_type": "display_data"
    },
    {
     "data": {
      "text/html": [
       "Syncing run <strong><a href=\"https://wandb.ai/hkleee/strawberry/runs/x17d6o5k\" target=\"_blank\">giddy-sweep-32</a></strong> to <a href=\"https://wandb.ai/hkleee/strawberry\" target=\"_blank\">Weights & Biases</a> (<a href=\"https://wandb.me/run\" target=\"_blank\">docs</a>)<br/>Sweep page:  <a href=\"https://wandb.ai/hkleee/strawberry/sweeps/natutesf\" target=\"_blank\">https://wandb.ai/hkleee/strawberry/sweeps/natutesf</a>"
      ],
      "text/plain": [
       "<IPython.core.display.HTML object>"
      ]
     },
     "metadata": {},
     "output_type": "display_data"
    },
    {
     "name": "stdout",
     "output_type": "stream",
     "text": [
      "Found 13437 validated image filenames.\n",
      "Found 3360 validated image filenames.\n",
      "Epoch 1/10\n",
      "268/268 [==============================] - 331s 1s/step - loss: 2.6244 - diease_outputs_loss: 1.1737 - grow_outputs_loss: 1.4506 - diease_outputs_accuracy: 0.6410 - grow_outputs_accuracy: 0.5252 - val_loss: 1.2366 - val_diease_outputs_loss: 0.4511 - val_grow_outputs_loss: 0.7856 - val_diease_outputs_accuracy: 0.8339 - val_grow_outputs_accuracy: 0.6524\n",
      "Epoch 2/10\n",
      "268/268 [==============================] - 317s 1s/step - loss: 1.2553 - diease_outputs_loss: 0.4529 - grow_outputs_loss: 0.8025 - diease_outputs_accuracy: 0.8252 - grow_outputs_accuracy: 0.6506 - val_loss: 1.1090 - val_diease_outputs_loss: 0.4109 - val_grow_outputs_loss: 0.6982 - val_diease_outputs_accuracy: 0.8360 - val_grow_outputs_accuracy: 0.6920\n",
      "Epoch 3/10\n",
      "268/268 [==============================] - 319s 1s/step - loss: 1.1238 - diease_outputs_loss: 0.3974 - grow_outputs_loss: 0.7264 - diease_outputs_accuracy: 0.8421 - grow_outputs_accuracy: 0.6916 - val_loss: 0.9630 - val_diease_outputs_loss: 0.2970 - val_grow_outputs_loss: 0.6660 - val_diease_outputs_accuracy: 0.8896 - val_grow_outputs_accuracy: 0.7161\n",
      "Epoch 4/10\n",
      "268/268 [==============================] - 317s 1s/step - loss: 1.0499 - diease_outputs_loss: 0.3415 - grow_outputs_loss: 0.7084 - diease_outputs_accuracy: 0.8639 - grow_outputs_accuracy: 0.6922 - val_loss: 0.8516 - val_diease_outputs_loss: 0.2545 - val_grow_outputs_loss: 0.5971 - val_diease_outputs_accuracy: 0.9193 - val_grow_outputs_accuracy: 0.7628\n",
      "Epoch 5/10\n",
      "268/268 [==============================] - 321s 1s/step - loss: 0.9854 - diease_outputs_loss: 0.3228 - grow_outputs_loss: 0.6626 - diease_outputs_accuracy: 0.8766 - grow_outputs_accuracy: 0.7101 - val_loss: 0.8189 - val_diease_outputs_loss: 0.2497 - val_grow_outputs_loss: 0.5691 - val_diease_outputs_accuracy: 0.9137 - val_grow_outputs_accuracy: 0.7670\n",
      "Epoch 6/10\n",
      "268/268 [==============================] - 321s 1s/step - loss: 0.9433 - diease_outputs_loss: 0.3161 - grow_outputs_loss: 0.6272 - diease_outputs_accuracy: 0.8779 - grow_outputs_accuracy: 0.7356 - val_loss: 0.8022 - val_diease_outputs_loss: 0.2510 - val_grow_outputs_loss: 0.5511 - val_diease_outputs_accuracy: 0.9095 - val_grow_outputs_accuracy: 0.7720\n",
      "Epoch 7/10\n",
      "239/268 [=========================>....] - ETA: 31s - loss: 0.8975 - diease_outputs_loss: 0.2787 - grow_outputs_loss: 0.6188 - diease_outputs_accuracy: 0.8946 - grow_outputs_accuracy: 0.7399"
     ]
    }
   ],
   "source": [
    "#wandb.agent('natutesf', train)"
   ]
  },
  {
   "cell_type": "code",
   "execution_count": null,
   "id": "a07e7344",
   "metadata": {
    "collapsed": true
   },
   "outputs": [
    {
     "name": "stderr",
     "output_type": "stream",
     "text": [
      "\u001b[34m\u001b[1mwandb\u001b[0m: Agent Starting Run: 76pv49f3 with config:\n",
      "\u001b[34m\u001b[1mwandb\u001b[0m: \tactivation: selu\n",
      "\u001b[34m\u001b[1mwandb\u001b[0m: \tbatch_size: 20\n",
      "\u001b[34m\u001b[1mwandb\u001b[0m: \tdense: 256\n",
      "\u001b[34m\u001b[1mwandb\u001b[0m: \tdropout: 0.2\n",
      "\u001b[34m\u001b[1mwandb\u001b[0m: \tlearning_rate: 0.01\n",
      "\u001b[34m\u001b[1mwandb\u001b[0m: \toptimizer: sgd\n",
      "\u001b[34m\u001b[1mwandb\u001b[0m: \tpretrain_net: inception\n",
      "Failed to detect the name of this notebook, you can set it manually with the WANDB_NOTEBOOK_NAME environment variable to enable code saving.\n",
      "\u001b[34m\u001b[1mwandb\u001b[0m: Currently logged in as: \u001b[33mhkleee\u001b[0m. Use \u001b[1m`wandb login --relogin`\u001b[0m to force relogin\n"
     ]
    },
    {
     "data": {
      "text/html": [
       "Tracking run with wandb version 0.12.18"
      ],
      "text/plain": [
       "<IPython.core.display.HTML object>"
      ]
     },
     "metadata": {},
     "output_type": "display_data"
    },
    {
     "data": {
      "text/html": [
       "Run data is saved locally in <code>/home/lab38/Multi_proj_6/model/multi-output/strawberry/sweep/wandb/run-20220618_172337-76pv49f3</code>"
      ],
      "text/plain": [
       "<IPython.core.display.HTML object>"
      ]
     },
     "metadata": {},
     "output_type": "display_data"
    },
    {
     "data": {
      "text/html": [
       "Syncing run <strong><a href=\"https://wandb.ai/hkleee/strawberry/runs/76pv49f3\" target=\"_blank\">dainty-sweep-33</a></strong> to <a href=\"https://wandb.ai/hkleee/strawberry\" target=\"_blank\">Weights & Biases</a> (<a href=\"https://wandb.me/run\" target=\"_blank\">docs</a>)<br/>Sweep page:  <a href=\"https://wandb.ai/hkleee/strawberry/sweeps/natutesf\" target=\"_blank\">https://wandb.ai/hkleee/strawberry/sweeps/natutesf</a>"
      ],
      "text/plain": [
       "<IPython.core.display.HTML object>"
      ]
     },
     "metadata": {},
     "output_type": "display_data"
    },
    {
     "data": {
      "text/html": [
       "Finishing last run (ID:76pv49f3) before initializing another..."
      ],
      "text/plain": [
       "<IPython.core.display.HTML object>"
      ]
     },
     "metadata": {},
     "output_type": "display_data"
    },
    {
     "data": {
      "text/html": [
       "Waiting for W&B process to finish... <strong style=\"color:green\">(success).</strong>"
      ],
      "text/plain": [
       "<IPython.core.display.HTML object>"
      ]
     },
     "metadata": {},
     "output_type": "display_data"
    },
    {
     "data": {
      "text/html": [
       "Synced <strong style=\"color:#cdcd00\">dainty-sweep-33</strong>: <a href=\"https://wandb.ai/hkleee/strawberry/runs/76pv49f3\" target=\"_blank\">https://wandb.ai/hkleee/strawberry/runs/76pv49f3</a><br/>Synced 5 W&B file(s), 0 media file(s), 0 artifact file(s) and 0 other file(s)"
      ],
      "text/plain": [
       "<IPython.core.display.HTML object>"
      ]
     },
     "metadata": {},
     "output_type": "display_data"
    },
    {
     "data": {
      "text/html": [
       "Find logs at: <code>./wandb/run-20220618_172337-76pv49f3/logs</code>"
      ],
      "text/plain": [
       "<IPython.core.display.HTML object>"
      ]
     },
     "metadata": {},
     "output_type": "display_data"
    },
    {
     "data": {
      "text/html": [
       "Successfully finished last run (ID:76pv49f3). Initializing new run:<br/>"
      ],
      "text/plain": [
       "<IPython.core.display.HTML object>"
      ]
     },
     "metadata": {},
     "output_type": "display_data"
    },
    {
     "data": {
      "text/html": [
       "Tracking run with wandb version 0.12.18"
      ],
      "text/plain": [
       "<IPython.core.display.HTML object>"
      ]
     },
     "metadata": {},
     "output_type": "display_data"
    },
    {
     "data": {
      "text/html": [
       "Run data is saved locally in <code>/home/lab38/Multi_proj_6/model/multi-output/strawberry/sweep/wandb/run-20220618_172342-76pv49f3</code>"
      ],
      "text/plain": [
       "<IPython.core.display.HTML object>"
      ]
     },
     "metadata": {},
     "output_type": "display_data"
    },
    {
     "data": {
      "text/html": [
       "Syncing run <strong><a href=\"https://wandb.ai/hkleee/strawberry/runs/76pv49f3\" target=\"_blank\">dainty-sweep-33</a></strong> to <a href=\"https://wandb.ai/hkleee/strawberry\" target=\"_blank\">Weights & Biases</a> (<a href=\"https://wandb.me/run\" target=\"_blank\">docs</a>)<br/>Sweep page:  <a href=\"https://wandb.ai/hkleee/strawberry/sweeps/natutesf\" target=\"_blank\">https://wandb.ai/hkleee/strawberry/sweeps/natutesf</a>"
      ],
      "text/plain": [
       "<IPython.core.display.HTML object>"
      ]
     },
     "metadata": {},
     "output_type": "display_data"
    },
    {
     "name": "stdout",
     "output_type": "stream",
     "text": [
      "Found 13437 validated image filenames.\n",
      "Found 3360 validated image filenames.\n"
     ]
    },
    {
     "name": "stderr",
     "output_type": "stream",
     "text": [
      "2022-06-18 17:23:51.123500: I tensorflow/compiler/jit/xla_cpu_device.cc:41] Not creating XLA devices, tf_xla_enable_xla_devices not set\n",
      "2022-06-18 17:23:51.124672: I tensorflow/stream_executor/platform/default/dso_loader.cc:49] Successfully opened dynamic library libcuda.so.1\n",
      "2022-06-18 17:23:51.171422: I tensorflow/stream_executor/cuda/cuda_gpu_executor.cc:941] successful NUMA node read from SysFS had negative value (-1), but there must be at least one NUMA node, so returning NUMA node zero\n",
      "2022-06-18 17:23:51.172071: I tensorflow/core/common_runtime/gpu/gpu_device.cc:1720] Found device 0 with properties: \n",
      "pciBusID: 0000:00:1e.0 name: Tesla T4 computeCapability: 7.5\n",
      "coreClock: 1.59GHz coreCount: 40 deviceMemorySize: 14.75GiB deviceMemoryBandwidth: 298.08GiB/s\n",
      "2022-06-18 17:23:51.172115: I tensorflow/stream_executor/platform/default/dso_loader.cc:49] Successfully opened dynamic library libcudart.so.10.1\n",
      "2022-06-18 17:23:51.254355: I tensorflow/stream_executor/platform/default/dso_loader.cc:49] Successfully opened dynamic library libcublas.so.10\n",
      "2022-06-18 17:23:51.254503: I tensorflow/stream_executor/platform/default/dso_loader.cc:49] Successfully opened dynamic library libcublasLt.so.10\n",
      "2022-06-18 17:23:51.296915: I tensorflow/stream_executor/platform/default/dso_loader.cc:49] Successfully opened dynamic library libcufft.so.10\n",
      "2022-06-18 17:23:51.309664: I tensorflow/stream_executor/platform/default/dso_loader.cc:49] Successfully opened dynamic library libcurand.so.10\n",
      "2022-06-18 17:23:51.393621: I tensorflow/stream_executor/platform/default/dso_loader.cc:49] Successfully opened dynamic library libcusolver.so.10\n",
      "2022-06-18 17:23:51.406175: I tensorflow/stream_executor/platform/default/dso_loader.cc:49] Successfully opened dynamic library libcusparse.so.10\n",
      "2022-06-18 17:23:51.545656: I tensorflow/stream_executor/platform/default/dso_loader.cc:49] Successfully opened dynamic library libcudnn.so.7\n",
      "2022-06-18 17:23:51.545927: I tensorflow/stream_executor/cuda/cuda_gpu_executor.cc:941] successful NUMA node read from SysFS had negative value (-1), but there must be at least one NUMA node, so returning NUMA node zero\n",
      "2022-06-18 17:23:51.546640: I tensorflow/stream_executor/cuda/cuda_gpu_executor.cc:941] successful NUMA node read from SysFS had negative value (-1), but there must be at least one NUMA node, so returning NUMA node zero\n",
      "2022-06-18 17:23:51.547193: I tensorflow/core/common_runtime/gpu/gpu_device.cc:1862] Adding visible gpu devices: 0\n",
      "2022-06-18 17:23:51.548315: I tensorflow/core/platform/cpu_feature_guard.cc:142] This TensorFlow binary is optimized with oneAPI Deep Neural Network Library (oneDNN) to use the following CPU instructions in performance-critical operations:  SSE4.1 SSE4.2 AVX AVX2 AVX512F FMA\n",
      "To enable them in other operations, rebuild TensorFlow with the appropriate compiler flags.\n",
      "2022-06-18 17:23:51.548594: I tensorflow/compiler/jit/xla_gpu_device.cc:99] Not creating XLA devices, tf_xla_enable_xla_devices not set\n",
      "2022-06-18 17:23:51.548744: I tensorflow/stream_executor/cuda/cuda_gpu_executor.cc:941] successful NUMA node read from SysFS had negative value (-1), but there must be at least one NUMA node, so returning NUMA node zero\n",
      "2022-06-18 17:23:51.549316: I tensorflow/core/common_runtime/gpu/gpu_device.cc:1720] Found device 0 with properties: \n",
      "pciBusID: 0000:00:1e.0 name: Tesla T4 computeCapability: 7.5\n",
      "coreClock: 1.59GHz coreCount: 40 deviceMemorySize: 14.75GiB deviceMemoryBandwidth: 298.08GiB/s\n",
      "2022-06-18 17:23:51.549376: I tensorflow/stream_executor/platform/default/dso_loader.cc:49] Successfully opened dynamic library libcudart.so.10.1\n",
      "2022-06-18 17:23:51.549406: I tensorflow/stream_executor/platform/default/dso_loader.cc:49] Successfully opened dynamic library libcublas.so.10\n",
      "2022-06-18 17:23:51.549422: I tensorflow/stream_executor/platform/default/dso_loader.cc:49] Successfully opened dynamic library libcublasLt.so.10\n",
      "2022-06-18 17:23:51.549437: I tensorflow/stream_executor/platform/default/dso_loader.cc:49] Successfully opened dynamic library libcufft.so.10\n",
      "2022-06-18 17:23:51.549452: I tensorflow/stream_executor/platform/default/dso_loader.cc:49] Successfully opened dynamic library libcurand.so.10\n",
      "2022-06-18 17:23:51.549467: I tensorflow/stream_executor/platform/default/dso_loader.cc:49] Successfully opened dynamic library libcusolver.so.10\n",
      "2022-06-18 17:23:51.549483: I tensorflow/stream_executor/platform/default/dso_loader.cc:49] Successfully opened dynamic library libcusparse.so.10\n",
      "2022-06-18 17:23:51.549499: I tensorflow/stream_executor/platform/default/dso_loader.cc:49] Successfully opened dynamic library libcudnn.so.7\n",
      "2022-06-18 17:23:51.549567: I tensorflow/stream_executor/cuda/cuda_gpu_executor.cc:941] successful NUMA node read from SysFS had negative value (-1), but there must be at least one NUMA node, so returning NUMA node zero\n",
      "2022-06-18 17:23:51.550154: I tensorflow/stream_executor/cuda/cuda_gpu_executor.cc:941] successful NUMA node read from SysFS had negative value (-1), but there must be at least one NUMA node, so returning NUMA node zero\n",
      "2022-06-18 17:23:51.550683: I tensorflow/core/common_runtime/gpu/gpu_device.cc:1862] Adding visible gpu devices: 0\n",
      "2022-06-18 17:23:51.552390: I tensorflow/stream_executor/platform/default/dso_loader.cc:49] Successfully opened dynamic library libcudart.so.10.1\n",
      "2022-06-18 17:23:53.538346: I tensorflow/core/common_runtime/gpu/gpu_device.cc:1261] Device interconnect StreamExecutor with strength 1 edge matrix:\n",
      "2022-06-18 17:23:53.538376: I tensorflow/core/common_runtime/gpu/gpu_device.cc:1267]      0 \n",
      "2022-06-18 17:23:53.538383: I tensorflow/core/common_runtime/gpu/gpu_device.cc:1280] 0:   N \n",
      "2022-06-18 17:23:53.539462: I tensorflow/stream_executor/cuda/cuda_gpu_executor.cc:941] successful NUMA node read from SysFS had negative value (-1), but there must be at least one NUMA node, so returning NUMA node zero\n",
      "2022-06-18 17:23:53.540103: I tensorflow/stream_executor/cuda/cuda_gpu_executor.cc:941] successful NUMA node read from SysFS had negative value (-1), but there must be at least one NUMA node, so returning NUMA node zero\n",
      "2022-06-18 17:23:53.540717: I tensorflow/stream_executor/cuda/cuda_gpu_executor.cc:941] successful NUMA node read from SysFS had negative value (-1), but there must be at least one NUMA node, so returning NUMA node zero\n",
      "2022-06-18 17:23:53.541273: I tensorflow/core/common_runtime/gpu/gpu_device.cc:1406] Created TensorFlow device (/job:localhost/replica:0/task:0/device:GPU:0 with 13970 MB memory) -> physical GPU (device: 0, name: Tesla T4, pci bus id: 0000:00:1e.0, compute capability: 7.5)\n",
      "\u001b[34m\u001b[1mwandb\u001b[0m: \u001b[33mWARNING\u001b[0m The save_model argument by default saves the model in the HDF5 format that cannot save custom objects like subclassed models and custom layers. This behavior will be deprecated in a future release in favor of the SavedModel format. Meanwhile, the HDF5 model is saved as W&B files and the SavedModel as W&B Artifacts.\n",
      "2022-06-18 17:24:00.256296: I tensorflow/compiler/mlir/mlir_graph_optimization_pass.cc:116] None of the MLIR optimization passes are enabled (registered 2)\n",
      "2022-06-18 17:24:00.276682: I tensorflow/core/platform/profile_utils/cpu_utils.cc:112] CPU Frequency: 2499995000 Hz\n"
     ]
    },
    {
     "name": "stdout",
     "output_type": "stream",
     "text": [
      "Epoch 1/10\n"
     ]
    },
    {
     "name": "stderr",
     "output_type": "stream",
     "text": [
      "2022-06-18 17:24:07.934218: I tensorflow/stream_executor/platform/default/dso_loader.cc:49] Successfully opened dynamic library libcublas.so.10\n",
      "2022-06-18 17:24:08.563391: I tensorflow/stream_executor/platform/default/dso_loader.cc:49] Successfully opened dynamic library libcudnn.so.7\n"
     ]
    },
    {
     "name": "stdout",
     "output_type": "stream",
     "text": [
      "671/671 [==============================] - 332s 477ms/step - loss: 1.9475 - diease_outputs_loss: 0.8307 - grow_outputs_loss: 1.1168 - diease_outputs_accuracy: 0.6697 - grow_outputs_accuracy: 0.5429 - val_loss: 1.2931 - val_diease_outputs_loss: 0.4649 - val_grow_outputs_loss: 0.8282 - val_diease_outputs_accuracy: 0.8253 - val_grow_outputs_accuracy: 0.6592\n",
      "Epoch 2/10\n",
      "671/671 [==============================] - 311s 463ms/step - loss: 1.3464 - diease_outputs_loss: 0.5133 - grow_outputs_loss: 0.8331 - diease_outputs_accuracy: 0.7990 - grow_outputs_accuracy: 0.6485 - val_loss: 1.2183 - val_diease_outputs_loss: 0.4157 - val_grow_outputs_loss: 0.8027 - val_diease_outputs_accuracy: 0.8381 - val_grow_outputs_accuracy: 0.6601\n",
      "Epoch 3/10\n",
      "671/671 [==============================] - 310s 462ms/step - loss: 1.2412 - diease_outputs_loss: 0.4515 - grow_outputs_loss: 0.7897 - diease_outputs_accuracy: 0.8246 - grow_outputs_accuracy: 0.6694 - val_loss: 1.0847 - val_diease_outputs_loss: 0.3589 - val_grow_outputs_loss: 0.7258 - val_diease_outputs_accuracy: 0.8670 - val_grow_outputs_accuracy: 0.7015\n",
      "Epoch 4/10\n",
      "671/671 [==============================] - 310s 462ms/step - loss: 1.1847 - diease_outputs_loss: 0.4330 - grow_outputs_loss: 0.7517 - diease_outputs_accuracy: 0.8355 - grow_outputs_accuracy: 0.6926 - val_loss: 1.0867 - val_diease_outputs_loss: 0.3554 - val_grow_outputs_loss: 0.7313 - val_diease_outputs_accuracy: 0.8607 - val_grow_outputs_accuracy: 0.6932\n",
      "Epoch 5/10\n",
      "671/671 [==============================] - 311s 463ms/step - loss: 1.1624 - diease_outputs_loss: 0.4286 - grow_outputs_loss: 0.7339 - diease_outputs_accuracy: 0.8359 - grow_outputs_accuracy: 0.7004 - val_loss: 1.0301 - val_diease_outputs_loss: 0.3416 - val_grow_outputs_loss: 0.6885 - val_diease_outputs_accuracy: 0.8652 - val_grow_outputs_accuracy: 0.7116\n",
      "Epoch 6/10\n",
      "671/671 [==============================] - 309s 461ms/step - loss: 1.1227 - diease_outputs_loss: 0.4029 - grow_outputs_loss: 0.7198 - diease_outputs_accuracy: 0.8466 - grow_outputs_accuracy: 0.7009 - val_loss: 1.0306 - val_diease_outputs_loss: 0.3234 - val_grow_outputs_loss: 0.7072 - val_diease_outputs_accuracy: 0.8705 - val_grow_outputs_accuracy: 0.7104\n",
      "Epoch 7/10\n",
      "671/671 [==============================] - 307s 457ms/step - loss: 1.1007 - diease_outputs_loss: 0.3927 - grow_outputs_loss: 0.7080 - diease_outputs_accuracy: 0.8500 - grow_outputs_accuracy: 0.7099 - val_loss: 1.0334 - val_diease_outputs_loss: 0.3142 - val_grow_outputs_loss: 0.7192 - val_diease_outputs_accuracy: 0.8777 - val_grow_outputs_accuracy: 0.6994\n",
      "Epoch 8/10\n",
      "671/671 [==============================] - 305s 454ms/step - loss: 1.0647 - diease_outputs_loss: 0.3732 - grow_outputs_loss: 0.6915 - diease_outputs_accuracy: 0.8581 - grow_outputs_accuracy: 0.7117 - val_loss: 0.9943 - val_diease_outputs_loss: 0.3214 - val_grow_outputs_loss: 0.6729 - val_diease_outputs_accuracy: 0.8717 - val_grow_outputs_accuracy: 0.7298\n",
      "Epoch 9/10\n",
      "671/671 [==============================] - 307s 457ms/step - loss: 1.0549 - diease_outputs_loss: 0.3615 - grow_outputs_loss: 0.6934 - diease_outputs_accuracy: 0.8613 - grow_outputs_accuracy: 0.7069 - val_loss: 0.9830 - val_diease_outputs_loss: 0.3026 - val_grow_outputs_loss: 0.6804 - val_diease_outputs_accuracy: 0.8810 - val_grow_outputs_accuracy: 0.7060\n",
      "Epoch 10/10\n",
      "671/671 [==============================] - 309s 461ms/step - loss: 1.0336 - diease_outputs_loss: 0.3528 - grow_outputs_loss: 0.6808 - diease_outputs_accuracy: 0.8643 - grow_outputs_accuracy: 0.7130 - val_loss: 1.0059 - val_diease_outputs_loss: 0.3140 - val_grow_outputs_loss: 0.6919 - val_diease_outputs_accuracy: 0.8783 - val_grow_outputs_accuracy: 0.7060\n"
     ]
    },
    {
     "data": {
      "text/html": [
       "Waiting for W&B process to finish... <strong style=\"color:green\">(success).</strong>"
      ],
      "text/plain": [
       "<IPython.core.display.HTML object>"
      ]
     },
     "metadata": {},
     "output_type": "display_data"
    },
    {
     "data": {
      "text/html": [
       "<style>\n",
       "    table.wandb td:nth-child(1) { padding: 0 10px; text-align: left ; width: auto;} td:nth-child(2) {text-align: left ; width: 100%}\n",
       "    .wandb-row { display: flex; flex-direction: row; flex-wrap: wrap; justify-content: flex-start; width: 100% }\n",
       "    .wandb-col { display: flex; flex-direction: column; flex-basis: 100%; flex: 1; padding: 10px; }\n",
       "    </style>\n",
       "<div class=\"wandb-row\"><div class=\"wandb-col\"><h3>Run history:</h3><br/><table class=\"wandb\"><tr><td>diease_outputs_accuracy</td><td>▁▅▆▆▇▇████</td></tr><tr><td>diease_outputs_loss</td><td>█▄▃▃▂▂▂▁▁▁</td></tr><tr><td>epoch</td><td>▁▂▃▃▄▅▆▆▇█</td></tr><tr><td>grow_outputs_accuracy</td><td>▁▅▆▇▇▇████</td></tr><tr><td>grow_outputs_loss</td><td>█▄▄▃▂▂▁▁▁▁</td></tr><tr><td>loss</td><td>█▄▃▃▂▂▁▁▁▁</td></tr><tr><td>val_diease_outputs_accuracy</td><td>▁▃▆▅▆▇█▇██</td></tr><tr><td>val_diease_outputs_loss</td><td>█▆▃▃▃▂▁▂▁▁</td></tr><tr><td>val_grow_outputs_accuracy</td><td>▁▁▅▄▆▆▅█▆▆</td></tr><tr><td>val_grow_outputs_loss</td><td>█▇▃▄▂▃▃▁▁▂</td></tr><tr><td>val_loss</td><td>█▆▃▃▂▂▂▁▁▂</td></tr></table><br/></div><div class=\"wandb-col\"><h3>Run summary:</h3><br/><table class=\"wandb\"><tr><td>best_epoch</td><td>8</td></tr><tr><td>best_val_loss</td><td>0.98301</td></tr><tr><td>diease_outputs_accuracy</td><td>0.8645</td></tr><tr><td>diease_outputs_loss</td><td>0.35345</td></tr><tr><td>epoch</td><td>9</td></tr><tr><td>grow_outputs_accuracy</td><td>0.71573</td></tr><tr><td>grow_outputs_loss</td><td>0.68128</td></tr><tr><td>loss</td><td>1.03473</td></tr><tr><td>val_diease_outputs_accuracy</td><td>0.87827</td></tr><tr><td>val_diease_outputs_loss</td><td>0.31398</td></tr><tr><td>val_grow_outputs_accuracy</td><td>0.70595</td></tr><tr><td>val_grow_outputs_loss</td><td>0.69192</td></tr><tr><td>val_loss</td><td>1.0059</td></tr></table><br/></div></div>"
      ],
      "text/plain": [
       "<IPython.core.display.HTML object>"
      ]
     },
     "metadata": {},
     "output_type": "display_data"
    },
    {
     "data": {
      "text/html": [
       "Synced <strong style=\"color:#cdcd00\">dainty-sweep-33</strong>: <a href=\"https://wandb.ai/hkleee/strawberry/runs/76pv49f3\" target=\"_blank\">https://wandb.ai/hkleee/strawberry/runs/76pv49f3</a><br/>Synced 6 W&B file(s), 1 media file(s), 0 artifact file(s) and 1 other file(s)"
      ],
      "text/plain": [
       "<IPython.core.display.HTML object>"
      ]
     },
     "metadata": {},
     "output_type": "display_data"
    },
    {
     "data": {
      "text/html": [
       "Find logs at: <code>./wandb/run-20220618_172342-76pv49f3/logs</code>"
      ],
      "text/plain": [
       "<IPython.core.display.HTML object>"
      ]
     },
     "metadata": {},
     "output_type": "display_data"
    },
    {
     "name": "stderr",
     "output_type": "stream",
     "text": [
      "\u001b[34m\u001b[1mwandb\u001b[0m: Agent Starting Run: izly5ftl with config:\n",
      "\u001b[34m\u001b[1mwandb\u001b[0m: \tactivation: relu\n",
      "\u001b[34m\u001b[1mwandb\u001b[0m: \tbatch_size: 20\n",
      "\u001b[34m\u001b[1mwandb\u001b[0m: \tdense: 256\n",
      "\u001b[34m\u001b[1mwandb\u001b[0m: \tdropout: 0.5\n",
      "\u001b[34m\u001b[1mwandb\u001b[0m: \tlearning_rate: 0.001\n",
      "\u001b[34m\u001b[1mwandb\u001b[0m: \toptimizer: adam\n",
      "\u001b[34m\u001b[1mwandb\u001b[0m: \tpretrain_net: inception\n",
      "Failed to detect the name of this notebook, you can set it manually with the WANDB_NOTEBOOK_NAME environment variable to enable code saving.\n"
     ]
    },
    {
     "data": {
      "text/html": [
       "Tracking run with wandb version 0.12.18"
      ],
      "text/plain": [
       "<IPython.core.display.HTML object>"
      ]
     },
     "metadata": {},
     "output_type": "display_data"
    },
    {
     "data": {
      "text/html": [
       "Run data is saved locally in <code>/home/lab38/Multi_proj_6/model/multi-output/strawberry/sweep/wandb/run-20220618_181616-izly5ftl</code>"
      ],
      "text/plain": [
       "<IPython.core.display.HTML object>"
      ]
     },
     "metadata": {},
     "output_type": "display_data"
    },
    {
     "data": {
      "text/html": [
       "Syncing run <strong><a href=\"https://wandb.ai/hkleee/strawberry/runs/izly5ftl\" target=\"_blank\">fresh-sweep-34</a></strong> to <a href=\"https://wandb.ai/hkleee/strawberry\" target=\"_blank\">Weights & Biases</a> (<a href=\"https://wandb.me/run\" target=\"_blank\">docs</a>)<br/>Sweep page:  <a href=\"https://wandb.ai/hkleee/strawberry/sweeps/natutesf\" target=\"_blank\">https://wandb.ai/hkleee/strawberry/sweeps/natutesf</a>"
      ],
      "text/plain": [
       "<IPython.core.display.HTML object>"
      ]
     },
     "metadata": {},
     "output_type": "display_data"
    },
    {
     "data": {
      "text/html": [
       "Finishing last run (ID:izly5ftl) before initializing another..."
      ],
      "text/plain": [
       "<IPython.core.display.HTML object>"
      ]
     },
     "metadata": {},
     "output_type": "display_data"
    },
    {
     "data": {
      "text/html": [
       "Waiting for W&B process to finish... <strong style=\"color:green\">(success).</strong>"
      ],
      "text/plain": [
       "<IPython.core.display.HTML object>"
      ]
     },
     "metadata": {},
     "output_type": "display_data"
    },
    {
     "data": {
      "text/html": [
       "Synced <strong style=\"color:#cdcd00\">fresh-sweep-34</strong>: <a href=\"https://wandb.ai/hkleee/strawberry/runs/izly5ftl\" target=\"_blank\">https://wandb.ai/hkleee/strawberry/runs/izly5ftl</a><br/>Synced 5 W&B file(s), 0 media file(s), 0 artifact file(s) and 0 other file(s)"
      ],
      "text/plain": [
       "<IPython.core.display.HTML object>"
      ]
     },
     "metadata": {},
     "output_type": "display_data"
    },
    {
     "data": {
      "text/html": [
       "Find logs at: <code>./wandb/run-20220618_181616-izly5ftl/logs</code>"
      ],
      "text/plain": [
       "<IPython.core.display.HTML object>"
      ]
     },
     "metadata": {},
     "output_type": "display_data"
    },
    {
     "data": {
      "text/html": [
       "Successfully finished last run (ID:izly5ftl). Initializing new run:<br/>"
      ],
      "text/plain": [
       "<IPython.core.display.HTML object>"
      ]
     },
     "metadata": {},
     "output_type": "display_data"
    },
    {
     "data": {
      "text/html": [
       "Tracking run with wandb version 0.12.18"
      ],
      "text/plain": [
       "<IPython.core.display.HTML object>"
      ]
     },
     "metadata": {},
     "output_type": "display_data"
    },
    {
     "data": {
      "text/html": [
       "Run data is saved locally in <code>/home/lab38/Multi_proj_6/model/multi-output/strawberry/sweep/wandb/run-20220618_181620-izly5ftl</code>"
      ],
      "text/plain": [
       "<IPython.core.display.HTML object>"
      ]
     },
     "metadata": {},
     "output_type": "display_data"
    },
    {
     "data": {
      "text/html": [
       "Syncing run <strong><a href=\"https://wandb.ai/hkleee/strawberry/runs/izly5ftl\" target=\"_blank\">fresh-sweep-34</a></strong> to <a href=\"https://wandb.ai/hkleee/strawberry\" target=\"_blank\">Weights & Biases</a> (<a href=\"https://wandb.me/run\" target=\"_blank\">docs</a>)<br/>Sweep page:  <a href=\"https://wandb.ai/hkleee/strawberry/sweeps/natutesf\" target=\"_blank\">https://wandb.ai/hkleee/strawberry/sweeps/natutesf</a>"
      ],
      "text/plain": [
       "<IPython.core.display.HTML object>"
      ]
     },
     "metadata": {},
     "output_type": "display_data"
    },
    {
     "name": "stdout",
     "output_type": "stream",
     "text": [
      "Found 13437 validated image filenames.\n",
      "Found 3360 validated image filenames.\n",
      "Epoch 1/10\n",
      "671/671 [==============================] - 316s 459ms/step - loss: 1.7791 - diease_outputs_loss: 0.7459 - grow_outputs_loss: 1.0331 - diease_outputs_accuracy: 0.6976 - grow_outputs_accuracy: 0.5623 - val_loss: 1.1558 - val_diease_outputs_loss: 0.3987 - val_grow_outputs_loss: 0.7571 - val_diease_outputs_accuracy: 0.8432 - val_grow_outputs_accuracy: 0.6750\n",
      "Epoch 2/10\n",
      "671/671 [==============================] - 305s 454ms/step - loss: 1.2936 - diease_outputs_loss: 0.5030 - grow_outputs_loss: 0.7906 - diease_outputs_accuracy: 0.8014 - grow_outputs_accuracy: 0.6571 - val_loss: 1.0708 - val_diease_outputs_loss: 0.3653 - val_grow_outputs_loss: 0.7055 - val_diease_outputs_accuracy: 0.8509 - val_grow_outputs_accuracy: 0.6926\n",
      "Epoch 3/10\n",
      "335/671 [=============>................] - ETA: 2:14 - loss: 1.1658 - diease_outputs_loss: 0.4179 - grow_outputs_loss: 0.7480 - diease_outputs_accuracy: 0.8327 - grow_outputs_accuracy: 0.6755"
     ]
    }
   ],
   "source": [
    "#wandb.agent('natutesf', train)"
   ]
  },
  {
   "cell_type": "code",
   "execution_count": null,
   "id": "366aca74",
   "metadata": {
    "collapsed": true
   },
   "outputs": [
    {
     "name": "stderr",
     "output_type": "stream",
     "text": [
      "\u001b[34m\u001b[1mwandb\u001b[0m: Agent Starting Run: s8pzh9tx with config:\n",
      "\u001b[34m\u001b[1mwandb\u001b[0m: \tactivation: elu\n",
      "\u001b[34m\u001b[1mwandb\u001b[0m: \tbatch_size: 20\n",
      "\u001b[34m\u001b[1mwandb\u001b[0m: \tdense: 32\n",
      "\u001b[34m\u001b[1mwandb\u001b[0m: \tdropout: 0.2\n",
      "\u001b[34m\u001b[1mwandb\u001b[0m: \tlearning_rate: 0.001\n",
      "\u001b[34m\u001b[1mwandb\u001b[0m: \toptimizer: adam\n",
      "\u001b[34m\u001b[1mwandb\u001b[0m: \tpretrain_net: inception\n",
      "Failed to detect the name of this notebook, you can set it manually with the WANDB_NOTEBOOK_NAME environment variable to enable code saving.\n",
      "\u001b[34m\u001b[1mwandb\u001b[0m: Currently logged in as: \u001b[33mhkleee\u001b[0m. Use \u001b[1m`wandb login --relogin`\u001b[0m to force relogin\n"
     ]
    },
    {
     "data": {
      "text/html": [
       "Tracking run with wandb version 0.12.18"
      ],
      "text/plain": [
       "<IPython.core.display.HTML object>"
      ]
     },
     "metadata": {},
     "output_type": "display_data"
    },
    {
     "data": {
      "text/html": [
       "Run data is saved locally in <code>/home/lab38/Multi_proj_6/model/multi-output/strawberry/sweep/wandb/run-20220618_204945-s8pzh9tx</code>"
      ],
      "text/plain": [
       "<IPython.core.display.HTML object>"
      ]
     },
     "metadata": {},
     "output_type": "display_data"
    },
    {
     "data": {
      "text/html": [
       "Syncing run <strong><a href=\"https://wandb.ai/hkleee/strawberry/runs/s8pzh9tx\" target=\"_blank\">dainty-sweep-35</a></strong> to <a href=\"https://wandb.ai/hkleee/strawberry\" target=\"_blank\">Weights & Biases</a> (<a href=\"https://wandb.me/run\" target=\"_blank\">docs</a>)<br/>Sweep page:  <a href=\"https://wandb.ai/hkleee/strawberry/sweeps/natutesf\" target=\"_blank\">https://wandb.ai/hkleee/strawberry/sweeps/natutesf</a>"
      ],
      "text/plain": [
       "<IPython.core.display.HTML object>"
      ]
     },
     "metadata": {},
     "output_type": "display_data"
    },
    {
     "data": {
      "text/html": [
       "Finishing last run (ID:s8pzh9tx) before initializing another..."
      ],
      "text/plain": [
       "<IPython.core.display.HTML object>"
      ]
     },
     "metadata": {},
     "output_type": "display_data"
    },
    {
     "data": {
      "text/html": [
       "Waiting for W&B process to finish... <strong style=\"color:green\">(success).</strong>"
      ],
      "text/plain": [
       "<IPython.core.display.HTML object>"
      ]
     },
     "metadata": {},
     "output_type": "display_data"
    },
    {
     "data": {
      "text/html": [
       "Synced <strong style=\"color:#cdcd00\">dainty-sweep-35</strong>: <a href=\"https://wandb.ai/hkleee/strawberry/runs/s8pzh9tx\" target=\"_blank\">https://wandb.ai/hkleee/strawberry/runs/s8pzh9tx</a><br/>Synced 5 W&B file(s), 0 media file(s), 0 artifact file(s) and 0 other file(s)"
      ],
      "text/plain": [
       "<IPython.core.display.HTML object>"
      ]
     },
     "metadata": {},
     "output_type": "display_data"
    },
    {
     "data": {
      "text/html": [
       "Find logs at: <code>./wandb/run-20220618_204945-s8pzh9tx/logs</code>"
      ],
      "text/plain": [
       "<IPython.core.display.HTML object>"
      ]
     },
     "metadata": {},
     "output_type": "display_data"
    },
    {
     "data": {
      "text/html": [
       "Successfully finished last run (ID:s8pzh9tx). Initializing new run:<br/>"
      ],
      "text/plain": [
       "<IPython.core.display.HTML object>"
      ]
     },
     "metadata": {},
     "output_type": "display_data"
    },
    {
     "data": {
      "text/html": [
       "Tracking run with wandb version 0.12.18"
      ],
      "text/plain": [
       "<IPython.core.display.HTML object>"
      ]
     },
     "metadata": {},
     "output_type": "display_data"
    },
    {
     "data": {
      "text/html": [
       "Run data is saved locally in <code>/home/lab38/Multi_proj_6/model/multi-output/strawberry/sweep/wandb/run-20220618_204950-s8pzh9tx</code>"
      ],
      "text/plain": [
       "<IPython.core.display.HTML object>"
      ]
     },
     "metadata": {},
     "output_type": "display_data"
    },
    {
     "data": {
      "text/html": [
       "Syncing run <strong><a href=\"https://wandb.ai/hkleee/strawberry/runs/s8pzh9tx\" target=\"_blank\">dainty-sweep-35</a></strong> to <a href=\"https://wandb.ai/hkleee/strawberry\" target=\"_blank\">Weights & Biases</a> (<a href=\"https://wandb.me/run\" target=\"_blank\">docs</a>)<br/>Sweep page:  <a href=\"https://wandb.ai/hkleee/strawberry/sweeps/natutesf\" target=\"_blank\">https://wandb.ai/hkleee/strawberry/sweeps/natutesf</a>"
      ],
      "text/plain": [
       "<IPython.core.display.HTML object>"
      ]
     },
     "metadata": {},
     "output_type": "display_data"
    },
    {
     "name": "stdout",
     "output_type": "stream",
     "text": [
      "Found 13437 validated image filenames.\n",
      "Found 3360 validated image filenames.\n"
     ]
    },
    {
     "name": "stderr",
     "output_type": "stream",
     "text": [
      "2022-06-18 20:49:59.282088: I tensorflow/compiler/jit/xla_cpu_device.cc:41] Not creating XLA devices, tf_xla_enable_xla_devices not set\n",
      "2022-06-18 20:49:59.283242: I tensorflow/stream_executor/platform/default/dso_loader.cc:49] Successfully opened dynamic library libcuda.so.1\n",
      "2022-06-18 20:49:59.330269: I tensorflow/stream_executor/cuda/cuda_gpu_executor.cc:941] successful NUMA node read from SysFS had negative value (-1), but there must be at least one NUMA node, so returning NUMA node zero\n",
      "2022-06-18 20:49:59.330925: I tensorflow/core/common_runtime/gpu/gpu_device.cc:1720] Found device 0 with properties: \n",
      "pciBusID: 0000:00:1e.0 name: Tesla T4 computeCapability: 7.5\n",
      "coreClock: 1.59GHz coreCount: 40 deviceMemorySize: 14.75GiB deviceMemoryBandwidth: 298.08GiB/s\n",
      "2022-06-18 20:49:59.330969: I tensorflow/stream_executor/platform/default/dso_loader.cc:49] Successfully opened dynamic library libcudart.so.10.1\n",
      "2022-06-18 20:49:59.408766: I tensorflow/stream_executor/platform/default/dso_loader.cc:49] Successfully opened dynamic library libcublas.so.10\n",
      "2022-06-18 20:49:59.408913: I tensorflow/stream_executor/platform/default/dso_loader.cc:49] Successfully opened dynamic library libcublasLt.so.10\n",
      "2022-06-18 20:49:59.449113: I tensorflow/stream_executor/platform/default/dso_loader.cc:49] Successfully opened dynamic library libcufft.so.10\n",
      "2022-06-18 20:49:59.459473: I tensorflow/stream_executor/platform/default/dso_loader.cc:49] Successfully opened dynamic library libcurand.so.10\n",
      "2022-06-18 20:49:59.533115: I tensorflow/stream_executor/platform/default/dso_loader.cc:49] Successfully opened dynamic library libcusolver.so.10\n",
      "2022-06-18 20:49:59.543652: I tensorflow/stream_executor/platform/default/dso_loader.cc:49] Successfully opened dynamic library libcusparse.so.10\n",
      "2022-06-18 20:49:59.676900: I tensorflow/stream_executor/platform/default/dso_loader.cc:49] Successfully opened dynamic library libcudnn.so.7\n",
      "2022-06-18 20:49:59.677174: I tensorflow/stream_executor/cuda/cuda_gpu_executor.cc:941] successful NUMA node read from SysFS had negative value (-1), but there must be at least one NUMA node, so returning NUMA node zero\n",
      "2022-06-18 20:49:59.677913: I tensorflow/stream_executor/cuda/cuda_gpu_executor.cc:941] successful NUMA node read from SysFS had negative value (-1), but there must be at least one NUMA node, so returning NUMA node zero\n",
      "2022-06-18 20:49:59.678457: I tensorflow/core/common_runtime/gpu/gpu_device.cc:1862] Adding visible gpu devices: 0\n",
      "2022-06-18 20:49:59.679610: I tensorflow/core/platform/cpu_feature_guard.cc:142] This TensorFlow binary is optimized with oneAPI Deep Neural Network Library (oneDNN) to use the following CPU instructions in performance-critical operations:  SSE4.1 SSE4.2 AVX AVX2 AVX512F FMA\n",
      "To enable them in other operations, rebuild TensorFlow with the appropriate compiler flags.\n",
      "2022-06-18 20:49:59.679837: I tensorflow/compiler/jit/xla_gpu_device.cc:99] Not creating XLA devices, tf_xla_enable_xla_devices not set\n",
      "2022-06-18 20:49:59.679982: I tensorflow/stream_executor/cuda/cuda_gpu_executor.cc:941] successful NUMA node read from SysFS had negative value (-1), but there must be at least one NUMA node, so returning NUMA node zero\n",
      "2022-06-18 20:49:59.680553: I tensorflow/core/common_runtime/gpu/gpu_device.cc:1720] Found device 0 with properties: \n",
      "pciBusID: 0000:00:1e.0 name: Tesla T4 computeCapability: 7.5\n",
      "coreClock: 1.59GHz coreCount: 40 deviceMemorySize: 14.75GiB deviceMemoryBandwidth: 298.08GiB/s\n",
      "2022-06-18 20:49:59.680616: I tensorflow/stream_executor/platform/default/dso_loader.cc:49] Successfully opened dynamic library libcudart.so.10.1\n",
      "2022-06-18 20:49:59.680644: I tensorflow/stream_executor/platform/default/dso_loader.cc:49] Successfully opened dynamic library libcublas.so.10\n",
      "2022-06-18 20:49:59.680660: I tensorflow/stream_executor/platform/default/dso_loader.cc:49] Successfully opened dynamic library libcublasLt.so.10\n",
      "2022-06-18 20:49:59.680675: I tensorflow/stream_executor/platform/default/dso_loader.cc:49] Successfully opened dynamic library libcufft.so.10\n",
      "2022-06-18 20:49:59.680690: I tensorflow/stream_executor/platform/default/dso_loader.cc:49] Successfully opened dynamic library libcurand.so.10\n",
      "2022-06-18 20:49:59.680706: I tensorflow/stream_executor/platform/default/dso_loader.cc:49] Successfully opened dynamic library libcusolver.so.10\n",
      "2022-06-18 20:49:59.680722: I tensorflow/stream_executor/platform/default/dso_loader.cc:49] Successfully opened dynamic library libcusparse.so.10\n",
      "2022-06-18 20:49:59.680737: I tensorflow/stream_executor/platform/default/dso_loader.cc:49] Successfully opened dynamic library libcudnn.so.7\n",
      "2022-06-18 20:49:59.680801: I tensorflow/stream_executor/cuda/cuda_gpu_executor.cc:941] successful NUMA node read from SysFS had negative value (-1), but there must be at least one NUMA node, so returning NUMA node zero\n",
      "2022-06-18 20:49:59.681400: I tensorflow/stream_executor/cuda/cuda_gpu_executor.cc:941] successful NUMA node read from SysFS had negative value (-1), but there must be at least one NUMA node, so returning NUMA node zero\n",
      "2022-06-18 20:49:59.681930: I tensorflow/core/common_runtime/gpu/gpu_device.cc:1862] Adding visible gpu devices: 0\n",
      "2022-06-18 20:49:59.682858: I tensorflow/stream_executor/platform/default/dso_loader.cc:49] Successfully opened dynamic library libcudart.so.10.1\n",
      "2022-06-18 20:50:01.656178: I tensorflow/core/common_runtime/gpu/gpu_device.cc:1261] Device interconnect StreamExecutor with strength 1 edge matrix:\n",
      "2022-06-18 20:50:01.656210: I tensorflow/core/common_runtime/gpu/gpu_device.cc:1267]      0 \n",
      "2022-06-18 20:50:01.656217: I tensorflow/core/common_runtime/gpu/gpu_device.cc:1280] 0:   N \n",
      "2022-06-18 20:50:01.657430: I tensorflow/stream_executor/cuda/cuda_gpu_executor.cc:941] successful NUMA node read from SysFS had negative value (-1), but there must be at least one NUMA node, so returning NUMA node zero\n",
      "2022-06-18 20:50:01.658107: I tensorflow/stream_executor/cuda/cuda_gpu_executor.cc:941] successful NUMA node read from SysFS had negative value (-1), but there must be at least one NUMA node, so returning NUMA node zero\n",
      "2022-06-18 20:50:01.658688: I tensorflow/stream_executor/cuda/cuda_gpu_executor.cc:941] successful NUMA node read from SysFS had negative value (-1), but there must be at least one NUMA node, so returning NUMA node zero\n",
      "2022-06-18 20:50:01.659226: I tensorflow/core/common_runtime/gpu/gpu_device.cc:1406] Created TensorFlow device (/job:localhost/replica:0/task:0/device:GPU:0 with 13970 MB memory) -> physical GPU (device: 0, name: Tesla T4, pci bus id: 0000:00:1e.0, compute capability: 7.5)\n",
      "\u001b[34m\u001b[1mwandb\u001b[0m: \u001b[33mWARNING\u001b[0m The save_model argument by default saves the model in the HDF5 format that cannot save custom objects like subclassed models and custom layers. This behavior will be deprecated in a future release in favor of the SavedModel format. Meanwhile, the HDF5 model is saved as W&B files and the SavedModel as W&B Artifacts.\n",
      "2022-06-18 20:50:08.727622: I tensorflow/compiler/mlir/mlir_graph_optimization_pass.cc:116] None of the MLIR optimization passes are enabled (registered 2)\n",
      "2022-06-18 20:50:08.730857: I tensorflow/core/platform/profile_utils/cpu_utils.cc:112] CPU Frequency: 2499995000 Hz\n"
     ]
    },
    {
     "name": "stdout",
     "output_type": "stream",
     "text": [
      "Epoch 1/10\n"
     ]
    },
    {
     "name": "stderr",
     "output_type": "stream",
     "text": [
      "2022-06-18 20:50:17.031704: I tensorflow/stream_executor/platform/default/dso_loader.cc:49] Successfully opened dynamic library libcublas.so.10\n",
      "2022-06-18 20:50:17.683322: I tensorflow/stream_executor/platform/default/dso_loader.cc:49] Successfully opened dynamic library libcudnn.so.7\n"
     ]
    },
    {
     "name": "stdout",
     "output_type": "stream",
     "text": [
      "671/671 [==============================] - 347s 499ms/step - loss: 1.7026 - diease_outputs_loss: 0.7120 - grow_outputs_loss: 0.9906 - diease_outputs_accuracy: 0.7126 - grow_outputs_accuracy: 0.5807 - val_loss: 1.2099 - val_diease_outputs_loss: 0.4677 - val_grow_outputs_loss: 0.7421 - val_diease_outputs_accuracy: 0.8074 - val_grow_outputs_accuracy: 0.6807\n",
      "Epoch 2/10\n",
      "671/671 [==============================] - 320s 476ms/step - loss: 1.1966 - diease_outputs_loss: 0.4448 - grow_outputs_loss: 0.7518 - diease_outputs_accuracy: 0.8254 - grow_outputs_accuracy: 0.6827 - val_loss: 1.0472 - val_diease_outputs_loss: 0.3547 - val_grow_outputs_loss: 0.6925 - val_diease_outputs_accuracy: 0.8577 - val_grow_outputs_accuracy: 0.6938\n",
      "Epoch 3/10\n",
      "671/671 [==============================] - 323s 481ms/step - loss: 1.0984 - diease_outputs_loss: 0.3970 - grow_outputs_loss: 0.7013 - diease_outputs_accuracy: 0.8524 - grow_outputs_accuracy: 0.7068 - val_loss: 0.9822 - val_diease_outputs_loss: 0.3431 - val_grow_outputs_loss: 0.6392 - val_diease_outputs_accuracy: 0.8679 - val_grow_outputs_accuracy: 0.7312\n",
      "Epoch 4/10\n",
      "671/671 [==============================] - 327s 487ms/step - loss: 1.0689 - diease_outputs_loss: 0.3762 - grow_outputs_loss: 0.6927 - diease_outputs_accuracy: 0.8537 - grow_outputs_accuracy: 0.7128 - val_loss: 0.9091 - val_diease_outputs_loss: 0.2889 - val_grow_outputs_loss: 0.6202 - val_diease_outputs_accuracy: 0.8887 - val_grow_outputs_accuracy: 0.7479\n",
      "Epoch 5/10\n",
      "671/671 [==============================] - 320s 477ms/step - loss: 1.0170 - diease_outputs_loss: 0.3529 - grow_outputs_loss: 0.6641 - diease_outputs_accuracy: 0.8650 - grow_outputs_accuracy: 0.7227 - val_loss: 0.9452 - val_diease_outputs_loss: 0.3225 - val_grow_outputs_loss: 0.6228 - val_diease_outputs_accuracy: 0.8685 - val_grow_outputs_accuracy: 0.7232\n",
      "Epoch 6/10\n",
      "671/671 [==============================] - 320s 477ms/step - loss: 1.0005 - diease_outputs_loss: 0.3356 - grow_outputs_loss: 0.6649 - diease_outputs_accuracy: 0.8740 - grow_outputs_accuracy: 0.7226 - val_loss: 0.9142 - val_diease_outputs_loss: 0.2699 - val_grow_outputs_loss: 0.6443 - val_diease_outputs_accuracy: 0.8970 - val_grow_outputs_accuracy: 0.7188\n",
      "Epoch 7/10\n",
      "671/671 [==============================] - 320s 477ms/step - loss: 0.9715 - diease_outputs_loss: 0.3258 - grow_outputs_loss: 0.6457 - diease_outputs_accuracy: 0.8763 - grow_outputs_accuracy: 0.7310 - val_loss: 0.8167 - val_diease_outputs_loss: 0.2444 - val_grow_outputs_loss: 0.5723 - val_diease_outputs_accuracy: 0.9042 - val_grow_outputs_accuracy: 0.7658\n",
      "Epoch 8/10\n",
      "671/671 [==============================] - 320s 477ms/step - loss: 0.9344 - diease_outputs_loss: 0.3154 - grow_outputs_loss: 0.6190 - diease_outputs_accuracy: 0.8803 - grow_outputs_accuracy: 0.7381 - val_loss: 0.8333 - val_diease_outputs_loss: 0.2364 - val_grow_outputs_loss: 0.5969 - val_diease_outputs_accuracy: 0.9098 - val_grow_outputs_accuracy: 0.7449\n",
      "Epoch 9/10\n",
      "671/671 [==============================] - 323s 482ms/step - loss: 0.9156 - diease_outputs_loss: 0.2937 - grow_outputs_loss: 0.6220 - diease_outputs_accuracy: 0.8888 - grow_outputs_accuracy: 0.7363 - val_loss: 0.8078 - val_diease_outputs_loss: 0.2482 - val_grow_outputs_loss: 0.5596 - val_diease_outputs_accuracy: 0.9045 - val_grow_outputs_accuracy: 0.7661\n",
      "Epoch 10/10\n",
      "671/671 [==============================] - 322s 480ms/step - loss: 0.9006 - diease_outputs_loss: 0.2950 - grow_outputs_loss: 0.6056 - diease_outputs_accuracy: 0.8911 - grow_outputs_accuracy: 0.7522 - val_loss: 0.7877 - val_diease_outputs_loss: 0.2271 - val_grow_outputs_loss: 0.5606 - val_diease_outputs_accuracy: 0.9164 - val_grow_outputs_accuracy: 0.7696\n"
     ]
    },
    {
     "data": {
      "text/html": [
       "Waiting for W&B process to finish... <strong style=\"color:green\">(success).</strong>"
      ],
      "text/plain": [
       "<IPython.core.display.HTML object>"
      ]
     },
     "metadata": {},
     "output_type": "display_data"
    },
    {
     "data": {
      "text/html": [
       "<style>\n",
       "    table.wandb td:nth-child(1) { padding: 0 10px; text-align: left ; width: auto;} td:nth-child(2) {text-align: left ; width: 100%}\n",
       "    .wandb-row { display: flex; flex-direction: row; flex-wrap: wrap; justify-content: flex-start; width: 100% }\n",
       "    .wandb-col { display: flex; flex-direction: column; flex-basis: 100%; flex: 1; padding: 10px; }\n",
       "    </style>\n",
       "<div class=\"wandb-row\"><div class=\"wandb-col\"><h3>Run history:</h3><br/><table class=\"wandb\"><tr><td>diease_outputs_accuracy</td><td>▁▅▆▆▇▇▇▇██</td></tr><tr><td>diease_outputs_loss</td><td>█▄▃▃▃▂▂▂▁▁</td></tr><tr><td>epoch</td><td>▁▂▃▃▄▅▆▆▇█</td></tr><tr><td>grow_outputs_accuracy</td><td>▁▄▅▆▆▇▇▇▇█</td></tr><tr><td>grow_outputs_loss</td><td>█▅▄▃▃▂▂▂▁▁</td></tr><tr><td>loss</td><td>█▄▄▃▃▂▂▂▁▁</td></tr><tr><td>val_diease_outputs_accuracy</td><td>▁▄▅▆▅▇▇█▇█</td></tr><tr><td>val_diease_outputs_loss</td><td>█▅▄▃▄▂▂▁▂▁</td></tr><tr><td>val_grow_outputs_accuracy</td><td>▁▂▅▆▄▄█▆██</td></tr><tr><td>val_grow_outputs_loss</td><td>█▆▄▃▃▄▁▂▁▁</td></tr><tr><td>val_loss</td><td>█▅▄▃▄▃▁▂▁▁</td></tr></table><br/></div><div class=\"wandb-col\"><h3>Run summary:</h3><br/><table class=\"wandb\"><tr><td>best_epoch</td><td>9</td></tr><tr><td>best_val_loss</td><td>0.78773</td></tr><tr><td>diease_outputs_accuracy</td><td>0.8923</td></tr><tr><td>diease_outputs_loss</td><td>0.28754</td></tr><tr><td>epoch</td><td>9</td></tr><tr><td>grow_outputs_accuracy</td><td>0.7527</td></tr><tr><td>grow_outputs_loss</td><td>0.60179</td></tr><tr><td>loss</td><td>0.88933</td></tr><tr><td>val_diease_outputs_accuracy</td><td>0.91637</td></tr><tr><td>val_diease_outputs_loss</td><td>0.22712</td></tr><tr><td>val_grow_outputs_accuracy</td><td>0.76964</td></tr><tr><td>val_grow_outputs_loss</td><td>0.56061</td></tr><tr><td>val_loss</td><td>0.78773</td></tr></table><br/></div></div>"
      ],
      "text/plain": [
       "<IPython.core.display.HTML object>"
      ]
     },
     "metadata": {},
     "output_type": "display_data"
    },
    {
     "data": {
      "text/html": [
       "Synced <strong style=\"color:#cdcd00\">dainty-sweep-35</strong>: <a href=\"https://wandb.ai/hkleee/strawberry/runs/s8pzh9tx\" target=\"_blank\">https://wandb.ai/hkleee/strawberry/runs/s8pzh9tx</a><br/>Synced 6 W&B file(s), 1 media file(s), 0 artifact file(s) and 1 other file(s)"
      ],
      "text/plain": [
       "<IPython.core.display.HTML object>"
      ]
     },
     "metadata": {},
     "output_type": "display_data"
    },
    {
     "data": {
      "text/html": [
       "Find logs at: <code>./wandb/run-20220618_204950-s8pzh9tx/logs</code>"
      ],
      "text/plain": [
       "<IPython.core.display.HTML object>"
      ]
     },
     "metadata": {},
     "output_type": "display_data"
    },
    {
     "name": "stderr",
     "output_type": "stream",
     "text": [
      "\u001b[34m\u001b[1mwandb\u001b[0m: Agent Starting Run: 3qxqsocj with config:\n",
      "\u001b[34m\u001b[1mwandb\u001b[0m: \tactivation: relu\n",
      "\u001b[34m\u001b[1mwandb\u001b[0m: \tbatch_size: 50\n",
      "\u001b[34m\u001b[1mwandb\u001b[0m: \tdense: 1024\n",
      "\u001b[34m\u001b[1mwandb\u001b[0m: \tdropout: 0.2\n",
      "\u001b[34m\u001b[1mwandb\u001b[0m: \tlearning_rate: 0.01\n",
      "\u001b[34m\u001b[1mwandb\u001b[0m: \toptimizer: adam\n",
      "\u001b[34m\u001b[1mwandb\u001b[0m: \tpretrain_net: inception\n",
      "Failed to detect the name of this notebook, you can set it manually with the WANDB_NOTEBOOK_NAME environment variable to enable code saving.\n"
     ]
    },
    {
     "data": {
      "text/html": [
       "Tracking run with wandb version 0.12.18"
      ],
      "text/plain": [
       "<IPython.core.display.HTML object>"
      ]
     },
     "metadata": {},
     "output_type": "display_data"
    },
    {
     "data": {
      "text/html": [
       "Run data is saved locally in <code>/home/lab38/Multi_proj_6/model/multi-output/strawberry/sweep/wandb/run-20220618_214438-3qxqsocj</code>"
      ],
      "text/plain": [
       "<IPython.core.display.HTML object>"
      ]
     },
     "metadata": {},
     "output_type": "display_data"
    },
    {
     "data": {
      "text/html": [
       "Syncing run <strong><a href=\"https://wandb.ai/hkleee/strawberry/runs/3qxqsocj\" target=\"_blank\">swept-sweep-36</a></strong> to <a href=\"https://wandb.ai/hkleee/strawberry\" target=\"_blank\">Weights & Biases</a> (<a href=\"https://wandb.me/run\" target=\"_blank\">docs</a>)<br/>Sweep page:  <a href=\"https://wandb.ai/hkleee/strawberry/sweeps/natutesf\" target=\"_blank\">https://wandb.ai/hkleee/strawberry/sweeps/natutesf</a>"
      ],
      "text/plain": [
       "<IPython.core.display.HTML object>"
      ]
     },
     "metadata": {},
     "output_type": "display_data"
    },
    {
     "data": {
      "text/html": [
       "Finishing last run (ID:3qxqsocj) before initializing another..."
      ],
      "text/plain": [
       "<IPython.core.display.HTML object>"
      ]
     },
     "metadata": {},
     "output_type": "display_data"
    },
    {
     "data": {
      "text/html": [
       "Waiting for W&B process to finish... <strong style=\"color:green\">(success).</strong>"
      ],
      "text/plain": [
       "<IPython.core.display.HTML object>"
      ]
     },
     "metadata": {},
     "output_type": "display_data"
    },
    {
     "data": {
      "text/html": [
       "Synced <strong style=\"color:#cdcd00\">swept-sweep-36</strong>: <a href=\"https://wandb.ai/hkleee/strawberry/runs/3qxqsocj\" target=\"_blank\">https://wandb.ai/hkleee/strawberry/runs/3qxqsocj</a><br/>Synced 5 W&B file(s), 0 media file(s), 0 artifact file(s) and 0 other file(s)"
      ],
      "text/plain": [
       "<IPython.core.display.HTML object>"
      ]
     },
     "metadata": {},
     "output_type": "display_data"
    },
    {
     "data": {
      "text/html": [
       "Find logs at: <code>./wandb/run-20220618_214438-3qxqsocj/logs</code>"
      ],
      "text/plain": [
       "<IPython.core.display.HTML object>"
      ]
     },
     "metadata": {},
     "output_type": "display_data"
    },
    {
     "data": {
      "text/html": [
       "Successfully finished last run (ID:3qxqsocj). Initializing new run:<br/>"
      ],
      "text/plain": [
       "<IPython.core.display.HTML object>"
      ]
     },
     "metadata": {},
     "output_type": "display_data"
    },
    {
     "data": {
      "text/html": [
       "Tracking run with wandb version 0.12.18"
      ],
      "text/plain": [
       "<IPython.core.display.HTML object>"
      ]
     },
     "metadata": {},
     "output_type": "display_data"
    },
    {
     "data": {
      "text/html": [
       "Run data is saved locally in <code>/home/lab38/Multi_proj_6/model/multi-output/strawberry/sweep/wandb/run-20220618_214443-3qxqsocj</code>"
      ],
      "text/plain": [
       "<IPython.core.display.HTML object>"
      ]
     },
     "metadata": {},
     "output_type": "display_data"
    },
    {
     "data": {
      "text/html": [
       "Syncing run <strong><a href=\"https://wandb.ai/hkleee/strawberry/runs/3qxqsocj\" target=\"_blank\">swept-sweep-36</a></strong> to <a href=\"https://wandb.ai/hkleee/strawberry\" target=\"_blank\">Weights & Biases</a> (<a href=\"https://wandb.me/run\" target=\"_blank\">docs</a>)<br/>Sweep page:  <a href=\"https://wandb.ai/hkleee/strawberry/sweeps/natutesf\" target=\"_blank\">https://wandb.ai/hkleee/strawberry/sweeps/natutesf</a>"
      ],
      "text/plain": [
       "<IPython.core.display.HTML object>"
      ]
     },
     "metadata": {},
     "output_type": "display_data"
    },
    {
     "name": "stdout",
     "output_type": "stream",
     "text": [
      "Found 13437 validated image filenames.\n",
      "Found 3360 validated image filenames.\n",
      "Epoch 1/10\n",
      "268/268 [==============================] - 350s 1s/step - loss: 6.3235 - diease_outputs_loss: 2.3241 - grow_outputs_loss: 3.9994 - diease_outputs_accuracy: 0.6572 - grow_outputs_accuracy: 0.5261 - val_loss: 1.0909 - val_diease_outputs_loss: 0.3622 - val_grow_outputs_loss: 0.7287 - val_diease_outputs_accuracy: 0.8655 - val_grow_outputs_accuracy: 0.6801\n",
      "Epoch 2/10\n",
      "268/268 [==============================] - 338s 1s/step - loss: 1.2096 - diease_outputs_loss: 0.4305 - grow_outputs_loss: 0.7791 - diease_outputs_accuracy: 0.8350 - grow_outputs_accuracy: 0.6702 - val_loss: 1.1584 - val_diease_outputs_loss: 0.4152 - val_grow_outputs_loss: 0.7431 - val_diease_outputs_accuracy: 0.8432 - val_grow_outputs_accuracy: 0.6815\n",
      "Epoch 3/10\n",
      "189/268 [====================>.........] - ETA: 1:28 - loss: 1.1259 - diease_outputs_loss: 0.3902 - grow_outputs_loss: 0.7357 - diease_outputs_accuracy: 0.8523 - grow_outputs_accuracy: 0.6900"
     ]
    }
   ],
   "source": [
    "#wandb.agent('natutesf', train)"
   ]
  },
  {
   "cell_type": "code",
   "execution_count": null,
   "id": "a9157cf9",
   "metadata": {},
   "outputs": [
    {
     "name": "stderr",
     "output_type": "stream",
     "text": [
      "\u001b[34m\u001b[1mwandb\u001b[0m: Agent Starting Run: d2zycd95 with config:\n",
      "\u001b[34m\u001b[1mwandb\u001b[0m: \tactivation: elu\n",
      "\u001b[34m\u001b[1mwandb\u001b[0m: \tbatch_size: 20\n",
      "\u001b[34m\u001b[1mwandb\u001b[0m: \tdense: 256\n",
      "\u001b[34m\u001b[1mwandb\u001b[0m: \tdropout: 0.5\n",
      "\u001b[34m\u001b[1mwandb\u001b[0m: \tlearning_rate: 0.0001\n",
      "\u001b[34m\u001b[1mwandb\u001b[0m: \toptimizer: rmsprop\n",
      "\u001b[34m\u001b[1mwandb\u001b[0m: \tpretrain_net: resnet\n",
      "Failed to detect the name of this notebook, you can set it manually with the WANDB_NOTEBOOK_NAME environment variable to enable code saving.\n",
      "\u001b[34m\u001b[1mwandb\u001b[0m: Currently logged in as: \u001b[33mhkleee\u001b[0m. Use \u001b[1m`wandb login --relogin`\u001b[0m to force relogin\n"
     ]
    },
    {
     "data": {
      "text/html": [
       "Tracking run with wandb version 0.12.18"
      ],
      "text/plain": [
       "<IPython.core.display.HTML object>"
      ]
     },
     "metadata": {},
     "output_type": "display_data"
    },
    {
     "data": {
      "text/html": [
       "Run data is saved locally in <code>/home/lab38/Multi_proj_6/model/multi-output/strawberry/sweep/wandb/run-20220618_220431-d2zycd95</code>"
      ],
      "text/plain": [
       "<IPython.core.display.HTML object>"
      ]
     },
     "metadata": {},
     "output_type": "display_data"
    },
    {
     "data": {
      "text/html": [
       "Syncing run <strong><a href=\"https://wandb.ai/hkleee/strawberry/runs/d2zycd95\" target=\"_blank\">fancy-sweep-37</a></strong> to <a href=\"https://wandb.ai/hkleee/strawberry\" target=\"_blank\">Weights & Biases</a> (<a href=\"https://wandb.me/run\" target=\"_blank\">docs</a>)<br/>Sweep page:  <a href=\"https://wandb.ai/hkleee/strawberry/sweeps/natutesf\" target=\"_blank\">https://wandb.ai/hkleee/strawberry/sweeps/natutesf</a>"
      ],
      "text/plain": [
       "<IPython.core.display.HTML object>"
      ]
     },
     "metadata": {},
     "output_type": "display_data"
    },
    {
     "data": {
      "text/html": [
       "Finishing last run (ID:d2zycd95) before initializing another..."
      ],
      "text/plain": [
       "<IPython.core.display.HTML object>"
      ]
     },
     "metadata": {},
     "output_type": "display_data"
    },
    {
     "data": {
      "text/html": [
       "Waiting for W&B process to finish... <strong style=\"color:green\">(success).</strong>"
      ],
      "text/plain": [
       "<IPython.core.display.HTML object>"
      ]
     },
     "metadata": {},
     "output_type": "display_data"
    },
    {
     "data": {
      "text/html": [
       "Synced <strong style=\"color:#cdcd00\">fancy-sweep-37</strong>: <a href=\"https://wandb.ai/hkleee/strawberry/runs/d2zycd95\" target=\"_blank\">https://wandb.ai/hkleee/strawberry/runs/d2zycd95</a><br/>Synced 5 W&B file(s), 0 media file(s), 0 artifact file(s) and 0 other file(s)"
      ],
      "text/plain": [
       "<IPython.core.display.HTML object>"
      ]
     },
     "metadata": {},
     "output_type": "display_data"
    },
    {
     "data": {
      "text/html": [
       "Find logs at: <code>./wandb/run-20220618_220431-d2zycd95/logs</code>"
      ],
      "text/plain": [
       "<IPython.core.display.HTML object>"
      ]
     },
     "metadata": {},
     "output_type": "display_data"
    },
    {
     "data": {
      "text/html": [
       "Successfully finished last run (ID:d2zycd95). Initializing new run:<br/>"
      ],
      "text/plain": [
       "<IPython.core.display.HTML object>"
      ]
     },
     "metadata": {},
     "output_type": "display_data"
    },
    {
     "data": {
      "text/html": [
       "Tracking run with wandb version 0.12.18"
      ],
      "text/plain": [
       "<IPython.core.display.HTML object>"
      ]
     },
     "metadata": {},
     "output_type": "display_data"
    },
    {
     "data": {
      "text/html": [
       "Run data is saved locally in <code>/home/lab38/Multi_proj_6/model/multi-output/strawberry/sweep/wandb/run-20220618_220435-d2zycd95</code>"
      ],
      "text/plain": [
       "<IPython.core.display.HTML object>"
      ]
     },
     "metadata": {},
     "output_type": "display_data"
    },
    {
     "data": {
      "text/html": [
       "Syncing run <strong><a href=\"https://wandb.ai/hkleee/strawberry/runs/d2zycd95\" target=\"_blank\">fancy-sweep-37</a></strong> to <a href=\"https://wandb.ai/hkleee/strawberry\" target=\"_blank\">Weights & Biases</a> (<a href=\"https://wandb.me/run\" target=\"_blank\">docs</a>)<br/>Sweep page:  <a href=\"https://wandb.ai/hkleee/strawberry/sweeps/natutesf\" target=\"_blank\">https://wandb.ai/hkleee/strawberry/sweeps/natutesf</a>"
      ],
      "text/plain": [
       "<IPython.core.display.HTML object>"
      ]
     },
     "metadata": {},
     "output_type": "display_data"
    },
    {
     "name": "stdout",
     "output_type": "stream",
     "text": [
      "Found 13437 validated image filenames.\n",
      "Found 3360 validated image filenames.\n"
     ]
    },
    {
     "name": "stderr",
     "output_type": "stream",
     "text": [
      "2022-06-18 22:04:49.476294: I tensorflow/compiler/jit/xla_cpu_device.cc:41] Not creating XLA devices, tf_xla_enable_xla_devices not set\n",
      "2022-06-18 22:04:49.477431: I tensorflow/stream_executor/platform/default/dso_loader.cc:49] Successfully opened dynamic library libcuda.so.1\n",
      "2022-06-18 22:04:49.521924: I tensorflow/stream_executor/cuda/cuda_gpu_executor.cc:941] successful NUMA node read from SysFS had negative value (-1), but there must be at least one NUMA node, so returning NUMA node zero\n",
      "2022-06-18 22:04:49.522542: I tensorflow/core/common_runtime/gpu/gpu_device.cc:1720] Found device 0 with properties: \n",
      "pciBusID: 0000:00:1e.0 name: Tesla T4 computeCapability: 7.5\n",
      "coreClock: 1.59GHz coreCount: 40 deviceMemorySize: 14.75GiB deviceMemoryBandwidth: 298.08GiB/s\n",
      "2022-06-18 22:04:49.522590: I tensorflow/stream_executor/platform/default/dso_loader.cc:49] Successfully opened dynamic library libcudart.so.10.1\n",
      "2022-06-18 22:04:49.600824: I tensorflow/stream_executor/platform/default/dso_loader.cc:49] Successfully opened dynamic library libcublas.so.10\n",
      "2022-06-18 22:04:49.600934: I tensorflow/stream_executor/platform/default/dso_loader.cc:49] Successfully opened dynamic library libcublasLt.so.10\n",
      "2022-06-18 22:04:49.647056: I tensorflow/stream_executor/platform/default/dso_loader.cc:49] Successfully opened dynamic library libcufft.so.10\n",
      "2022-06-18 22:04:49.658668: I tensorflow/stream_executor/platform/default/dso_loader.cc:49] Successfully opened dynamic library libcurand.so.10\n",
      "2022-06-18 22:04:49.735108: I tensorflow/stream_executor/platform/default/dso_loader.cc:49] Successfully opened dynamic library libcusolver.so.10\n",
      "2022-06-18 22:04:49.745232: I tensorflow/stream_executor/platform/default/dso_loader.cc:49] Successfully opened dynamic library libcusparse.so.10\n",
      "2022-06-18 22:04:49.878643: I tensorflow/stream_executor/platform/default/dso_loader.cc:49] Successfully opened dynamic library libcudnn.so.7\n",
      "2022-06-18 22:04:49.878826: I tensorflow/stream_executor/cuda/cuda_gpu_executor.cc:941] successful NUMA node read from SysFS had negative value (-1), but there must be at least one NUMA node, so returning NUMA node zero\n",
      "2022-06-18 22:04:49.879469: I tensorflow/stream_executor/cuda/cuda_gpu_executor.cc:941] successful NUMA node read from SysFS had negative value (-1), but there must be at least one NUMA node, so returning NUMA node zero\n",
      "2022-06-18 22:04:49.880016: I tensorflow/core/common_runtime/gpu/gpu_device.cc:1862] Adding visible gpu devices: 0\n",
      "2022-06-18 22:04:49.881155: I tensorflow/core/platform/cpu_feature_guard.cc:142] This TensorFlow binary is optimized with oneAPI Deep Neural Network Library (oneDNN) to use the following CPU instructions in performance-critical operations:  SSE4.1 SSE4.2 AVX AVX2 AVX512F FMA\n",
      "To enable them in other operations, rebuild TensorFlow with the appropriate compiler flags.\n",
      "2022-06-18 22:04:49.881377: I tensorflow/compiler/jit/xla_gpu_device.cc:99] Not creating XLA devices, tf_xla_enable_xla_devices not set\n",
      "2022-06-18 22:04:49.881511: I tensorflow/stream_executor/cuda/cuda_gpu_executor.cc:941] successful NUMA node read from SysFS had negative value (-1), but there must be at least one NUMA node, so returning NUMA node zero\n",
      "2022-06-18 22:04:49.882055: I tensorflow/core/common_runtime/gpu/gpu_device.cc:1720] Found device 0 with properties: \n",
      "pciBusID: 0000:00:1e.0 name: Tesla T4 computeCapability: 7.5\n",
      "coreClock: 1.59GHz coreCount: 40 deviceMemorySize: 14.75GiB deviceMemoryBandwidth: 298.08GiB/s\n",
      "2022-06-18 22:04:49.882096: I tensorflow/stream_executor/platform/default/dso_loader.cc:49] Successfully opened dynamic library libcudart.so.10.1\n",
      "2022-06-18 22:04:49.882119: I tensorflow/stream_executor/platform/default/dso_loader.cc:49] Successfully opened dynamic library libcublas.so.10\n",
      "2022-06-18 22:04:49.882135: I tensorflow/stream_executor/platform/default/dso_loader.cc:49] Successfully opened dynamic library libcublasLt.so.10\n",
      "2022-06-18 22:04:49.882149: I tensorflow/stream_executor/platform/default/dso_loader.cc:49] Successfully opened dynamic library libcufft.so.10\n",
      "2022-06-18 22:04:49.882163: I tensorflow/stream_executor/platform/default/dso_loader.cc:49] Successfully opened dynamic library libcurand.so.10\n",
      "2022-06-18 22:04:49.882178: I tensorflow/stream_executor/platform/default/dso_loader.cc:49] Successfully opened dynamic library libcusolver.so.10\n",
      "2022-06-18 22:04:49.882194: I tensorflow/stream_executor/platform/default/dso_loader.cc:49] Successfully opened dynamic library libcusparse.so.10\n",
      "2022-06-18 22:04:49.882208: I tensorflow/stream_executor/platform/default/dso_loader.cc:49] Successfully opened dynamic library libcudnn.so.7\n",
      "2022-06-18 22:04:49.882276: I tensorflow/stream_executor/cuda/cuda_gpu_executor.cc:941] successful NUMA node read from SysFS had negative value (-1), but there must be at least one NUMA node, so returning NUMA node zero\n",
      "2022-06-18 22:04:49.882834: I tensorflow/stream_executor/cuda/cuda_gpu_executor.cc:941] successful NUMA node read from SysFS had negative value (-1), but there must be at least one NUMA node, so returning NUMA node zero\n",
      "2022-06-18 22:04:49.883337: I tensorflow/core/common_runtime/gpu/gpu_device.cc:1862] Adding visible gpu devices: 0\n",
      "2022-06-18 22:04:49.884343: I tensorflow/stream_executor/platform/default/dso_loader.cc:49] Successfully opened dynamic library libcudart.so.10.1\n",
      "2022-06-18 22:04:51.811041: I tensorflow/core/common_runtime/gpu/gpu_device.cc:1261] Device interconnect StreamExecutor with strength 1 edge matrix:\n",
      "2022-06-18 22:04:51.811072: I tensorflow/core/common_runtime/gpu/gpu_device.cc:1267]      0 \n",
      "2022-06-18 22:04:51.811078: I tensorflow/core/common_runtime/gpu/gpu_device.cc:1280] 0:   N \n",
      "2022-06-18 22:04:51.812150: I tensorflow/stream_executor/cuda/cuda_gpu_executor.cc:941] successful NUMA node read from SysFS had negative value (-1), but there must be at least one NUMA node, so returning NUMA node zero\n",
      "2022-06-18 22:04:51.812796: I tensorflow/stream_executor/cuda/cuda_gpu_executor.cc:941] successful NUMA node read from SysFS had negative value (-1), but there must be at least one NUMA node, so returning NUMA node zero\n",
      "2022-06-18 22:04:51.813397: I tensorflow/stream_executor/cuda/cuda_gpu_executor.cc:941] successful NUMA node read from SysFS had negative value (-1), but there must be at least one NUMA node, so returning NUMA node zero\n",
      "2022-06-18 22:04:51.813912: I tensorflow/core/common_runtime/gpu/gpu_device.cc:1406] Created TensorFlow device (/job:localhost/replica:0/task:0/device:GPU:0 with 13970 MB memory) -> physical GPU (device: 0, name: Tesla T4, pci bus id: 0000:00:1e.0, compute capability: 7.5)\n",
      "\u001b[34m\u001b[1mwandb\u001b[0m: \u001b[33mWARNING\u001b[0m The save_model argument by default saves the model in the HDF5 format that cannot save custom objects like subclassed models and custom layers. This behavior will be deprecated in a future release in favor of the SavedModel format. Meanwhile, the HDF5 model is saved as W&B files and the SavedModel as W&B Artifacts.\n",
      "2022-06-18 22:04:54.478031: I tensorflow/compiler/mlir/mlir_graph_optimization_pass.cc:116] None of the MLIR optimization passes are enabled (registered 2)\n",
      "2022-06-18 22:04:54.499606: I tensorflow/core/platform/profile_utils/cpu_utils.cc:112] CPU Frequency: 2499995000 Hz\n"
     ]
    },
    {
     "name": "stdout",
     "output_type": "stream",
     "text": [
      "Epoch 1/10\n"
     ]
    },
    {
     "name": "stderr",
     "output_type": "stream",
     "text": [
      "2022-06-18 22:04:57.030035: I tensorflow/stream_executor/platform/default/dso_loader.cc:49] Successfully opened dynamic library libcublas.so.10\n",
      "2022-06-18 22:04:57.644610: I tensorflow/stream_executor/platform/default/dso_loader.cc:49] Successfully opened dynamic library libcudnn.so.7\n"
     ]
    },
    {
     "name": "stdout",
     "output_type": "stream",
     "text": [
      "671/671 [==============================] - 290s 424ms/step - loss: 2.8193 - diease_outputs_loss: 1.2213 - grow_outputs_loss: 1.5980 - diease_outputs_accuracy: 0.3844 - grow_outputs_accuracy: 0.3022 - val_loss: 2.4948 - val_diease_outputs_loss: 1.0813 - val_grow_outputs_loss: 1.4135 - val_diease_outputs_accuracy: 0.4390 - val_grow_outputs_accuracy: 0.4256\n",
      "Epoch 2/10\n",
      "671/671 [==============================] - 276s 411ms/step - loss: 2.5678 - diease_outputs_loss: 1.1185 - grow_outputs_loss: 1.4493 - diease_outputs_accuracy: 0.4316 - grow_outputs_accuracy: 0.3615 - val_loss: 2.4843 - val_diease_outputs_loss: 1.1130 - val_grow_outputs_loss: 1.3713 - val_diease_outputs_accuracy: 0.4399 - val_grow_outputs_accuracy: 0.4015\n",
      "Epoch 3/10\n",
      "671/671 [==============================] - 276s 411ms/step - loss: 2.5065 - diease_outputs_loss: 1.0963 - grow_outputs_loss: 1.4102 - diease_outputs_accuracy: 0.4461 - grow_outputs_accuracy: 0.3875 - val_loss: 2.3808 - val_diease_outputs_loss: 1.0276 - val_grow_outputs_loss: 1.3532 - val_diease_outputs_accuracy: 0.4952 - val_grow_outputs_accuracy: 0.4509\n",
      "Epoch 4/10\n",
      "671/671 [==============================] - 278s 415ms/step - loss: 2.4644 - diease_outputs_loss: 1.0745 - grow_outputs_loss: 1.3899 - diease_outputs_accuracy: 0.4637 - grow_outputs_accuracy: 0.3953 - val_loss: 2.3505 - val_diease_outputs_loss: 1.0401 - val_grow_outputs_loss: 1.3105 - val_diease_outputs_accuracy: 0.4682 - val_grow_outputs_accuracy: 0.5051\n",
      "Epoch 5/10\n",
      "671/671 [==============================] - 278s 414ms/step - loss: 2.4474 - diease_outputs_loss: 1.0661 - grow_outputs_loss: 1.3812 - diease_outputs_accuracy: 0.4679 - grow_outputs_accuracy: 0.4028 - val_loss: 2.3905 - val_diease_outputs_loss: 1.0631 - val_grow_outputs_loss: 1.3274 - val_diease_outputs_accuracy: 0.4426 - val_grow_outputs_accuracy: 0.4253\n",
      "Epoch 6/10\n",
      "671/671 [==============================] - 278s 414ms/step - loss: 2.4336 - diease_outputs_loss: 1.0581 - grow_outputs_loss: 1.3755 - diease_outputs_accuracy: 0.4749 - grow_outputs_accuracy: 0.4164 - val_loss: 2.3088 - val_diease_outputs_loss: 1.0036 - val_grow_outputs_loss: 1.3053 - val_diease_outputs_accuracy: 0.5512 - val_grow_outputs_accuracy: 0.4952\n",
      "Epoch 7/10\n",
      "671/671 [==============================] - 278s 415ms/step - loss: 2.4015 - diease_outputs_loss: 1.0487 - grow_outputs_loss: 1.3528 - diease_outputs_accuracy: 0.4814 - grow_outputs_accuracy: 0.4318 - val_loss: 2.2680 - val_diease_outputs_loss: 0.9913 - val_grow_outputs_loss: 1.2767 - val_diease_outputs_accuracy: 0.5414 - val_grow_outputs_accuracy: 0.5074\n",
      "Epoch 8/10\n",
      "671/671 [==============================] - 279s 416ms/step - loss: 2.3891 - diease_outputs_loss: 1.0417 - grow_outputs_loss: 1.3475 - diease_outputs_accuracy: 0.4880 - grow_outputs_accuracy: 0.4323 - val_loss: 2.2981 - val_diease_outputs_loss: 1.0140 - val_grow_outputs_loss: 1.2841 - val_diease_outputs_accuracy: 0.4771 - val_grow_outputs_accuracy: 0.4830\n",
      "Epoch 9/10\n",
      "671/671 [==============================] - 280s 417ms/step - loss: 2.3792 - diease_outputs_loss: 1.0432 - grow_outputs_loss: 1.3360 - diease_outputs_accuracy: 0.4888 - grow_outputs_accuracy: 0.4410 - val_loss: 2.2786 - val_diease_outputs_loss: 0.9824 - val_grow_outputs_loss: 1.2962 - val_diease_outputs_accuracy: 0.5265 - val_grow_outputs_accuracy: 0.4652\n",
      "Epoch 10/10\n",
      "671/671 [==============================] - 280s 417ms/step - loss: 2.3934 - diease_outputs_loss: 1.0442 - grow_outputs_loss: 1.3492 - diease_outputs_accuracy: 0.4917 - grow_outputs_accuracy: 0.4298 - val_loss: 2.2176 - val_diease_outputs_loss: 0.9825 - val_grow_outputs_loss: 1.2351 - val_diease_outputs_accuracy: 0.5193 - val_grow_outputs_accuracy: 0.5369\n"
     ]
    },
    {
     "data": {
      "text/html": [
       "Waiting for W&B process to finish... <strong style=\"color:green\">(success).</strong>"
      ],
      "text/plain": [
       "<IPython.core.display.HTML object>"
      ]
     },
     "metadata": {},
     "output_type": "display_data"
    },
    {
     "data": {
      "text/html": [
       "<style>\n",
       "    table.wandb td:nth-child(1) { padding: 0 10px; text-align: left ; width: auto;} td:nth-child(2) {text-align: left ; width: 100%}\n",
       "    .wandb-row { display: flex; flex-direction: row; flex-wrap: wrap; justify-content: flex-start; width: 100% }\n",
       "    .wandb-col { display: flex; flex-direction: column; flex-basis: 100%; flex: 1; padding: 10px; }\n",
       "    </style>\n",
       "<div class=\"wandb-row\"><div class=\"wandb-col\"><h3>Run history:</h3><br/><table class=\"wandb\"><tr><td>diease_outputs_accuracy</td><td>▁▄▅▅▆▇▇▇▇█</td></tr><tr><td>diease_outputs_loss</td><td>█▅▄▃▂▂▂▁▁▁</td></tr><tr><td>epoch</td><td>▁▂▃▃▄▅▆▆▇█</td></tr><tr><td>grow_outputs_accuracy</td><td>▁▄▅▆▇▇▇███</td></tr><tr><td>grow_outputs_loss</td><td>█▅▄▃▂▂▂▁▁▁</td></tr><tr><td>loss</td><td>█▅▄▃▂▂▂▁▁▁</td></tr><tr><td>val_diease_outputs_accuracy</td><td>▁▁▅▃▁█▇▃▆▆</td></tr><tr><td>val_diease_outputs_loss</td><td>▆█▃▄▅▂▁▃▁▁</td></tr><tr><td>val_grow_outputs_accuracy</td><td>▂▁▄▆▂▆▆▅▄█</td></tr><tr><td>val_grow_outputs_loss</td><td>█▆▆▄▅▄▃▃▃▁</td></tr><tr><td>val_loss</td><td>██▅▄▅▃▂▃▃▁</td></tr></table><br/></div><div class=\"wandb-col\"><h3>Run summary:</h3><br/><table class=\"wandb\"><tr><td>best_epoch</td><td>9</td></tr><tr><td>best_val_loss</td><td>2.21759</td></tr><tr><td>diease_outputs_accuracy</td><td>0.49512</td></tr><tr><td>diease_outputs_loss</td><td>1.04092</td></tr><tr><td>epoch</td><td>9</td></tr><tr><td>grow_outputs_accuracy</td><td>0.43795</td></tr><tr><td>grow_outputs_loss</td><td>1.33979</td></tr><tr><td>loss</td><td>2.38072</td></tr><tr><td>val_diease_outputs_accuracy</td><td>0.51935</td></tr><tr><td>val_diease_outputs_loss</td><td>0.98251</td></tr><tr><td>val_grow_outputs_accuracy</td><td>0.5369</td></tr><tr><td>val_grow_outputs_loss</td><td>1.23508</td></tr><tr><td>val_loss</td><td>2.21759</td></tr></table><br/></div></div>"
      ],
      "text/plain": [
       "<IPython.core.display.HTML object>"
      ]
     },
     "metadata": {},
     "output_type": "display_data"
    },
    {
     "data": {
      "text/html": [
       "Synced <strong style=\"color:#cdcd00\">fancy-sweep-37</strong>: <a href=\"https://wandb.ai/hkleee/strawberry/runs/d2zycd95\" target=\"_blank\">https://wandb.ai/hkleee/strawberry/runs/d2zycd95</a><br/>Synced 6 W&B file(s), 1 media file(s), 0 artifact file(s) and 1 other file(s)"
      ],
      "text/plain": [
       "<IPython.core.display.HTML object>"
      ]
     },
     "metadata": {},
     "output_type": "display_data"
    },
    {
     "data": {
      "text/html": [
       "Find logs at: <code>./wandb/run-20220618_220435-d2zycd95/logs</code>"
      ],
      "text/plain": [
       "<IPython.core.display.HTML object>"
      ]
     },
     "metadata": {},
     "output_type": "display_data"
    },
    {
     "name": "stderr",
     "output_type": "stream",
     "text": [
      "\u001b[34m\u001b[1mwandb\u001b[0m: Agent Starting Run: uwq1766q with config:\n",
      "\u001b[34m\u001b[1mwandb\u001b[0m: \tactivation: selu\n",
      "\u001b[34m\u001b[1mwandb\u001b[0m: \tbatch_size: 20\n",
      "\u001b[34m\u001b[1mwandb\u001b[0m: \tdense: 1024\n",
      "\u001b[34m\u001b[1mwandb\u001b[0m: \tdropout: 0.5\n",
      "\u001b[34m\u001b[1mwandb\u001b[0m: \tlearning_rate: 0.001\n",
      "\u001b[34m\u001b[1mwandb\u001b[0m: \toptimizer: adam\n",
      "\u001b[34m\u001b[1mwandb\u001b[0m: \tpretrain_net: inception\n",
      "Failed to detect the name of this notebook, you can set it manually with the WANDB_NOTEBOOK_NAME environment variable to enable code saving.\n"
     ]
    },
    {
     "data": {
      "text/html": [
       "Tracking run with wandb version 0.12.18"
      ],
      "text/plain": [
       "<IPython.core.display.HTML object>"
      ]
     },
     "metadata": {},
     "output_type": "display_data"
    },
    {
     "data": {
      "text/html": [
       "Run data is saved locally in <code>/home/lab38/Multi_proj_6/model/multi-output/strawberry/sweep/wandb/run-20220618_225141-uwq1766q</code>"
      ],
      "text/plain": [
       "<IPython.core.display.HTML object>"
      ]
     },
     "metadata": {},
     "output_type": "display_data"
    },
    {
     "data": {
      "text/html": [
       "Syncing run <strong><a href=\"https://wandb.ai/hkleee/strawberry/runs/uwq1766q\" target=\"_blank\">genial-sweep-38</a></strong> to <a href=\"https://wandb.ai/hkleee/strawberry\" target=\"_blank\">Weights & Biases</a> (<a href=\"https://wandb.me/run\" target=\"_blank\">docs</a>)<br/>Sweep page:  <a href=\"https://wandb.ai/hkleee/strawberry/sweeps/natutesf\" target=\"_blank\">https://wandb.ai/hkleee/strawberry/sweeps/natutesf</a>"
      ],
      "text/plain": [
       "<IPython.core.display.HTML object>"
      ]
     },
     "metadata": {},
     "output_type": "display_data"
    },
    {
     "data": {
      "text/html": [
       "Finishing last run (ID:uwq1766q) before initializing another..."
      ],
      "text/plain": [
       "<IPython.core.display.HTML object>"
      ]
     },
     "metadata": {},
     "output_type": "display_data"
    },
    {
     "data": {
      "text/html": [
       "Waiting for W&B process to finish... <strong style=\"color:green\">(success).</strong>"
      ],
      "text/plain": [
       "<IPython.core.display.HTML object>"
      ]
     },
     "metadata": {},
     "output_type": "display_data"
    },
    {
     "data": {
      "text/html": [
       "Synced <strong style=\"color:#cdcd00\">genial-sweep-38</strong>: <a href=\"https://wandb.ai/hkleee/strawberry/runs/uwq1766q\" target=\"_blank\">https://wandb.ai/hkleee/strawberry/runs/uwq1766q</a><br/>Synced 5 W&B file(s), 0 media file(s), 0 artifact file(s) and 0 other file(s)"
      ],
      "text/plain": [
       "<IPython.core.display.HTML object>"
      ]
     },
     "metadata": {},
     "output_type": "display_data"
    },
    {
     "data": {
      "text/html": [
       "Find logs at: <code>./wandb/run-20220618_225141-uwq1766q/logs</code>"
      ],
      "text/plain": [
       "<IPython.core.display.HTML object>"
      ]
     },
     "metadata": {},
     "output_type": "display_data"
    },
    {
     "data": {
      "text/html": [
       "Successfully finished last run (ID:uwq1766q). Initializing new run:<br/>"
      ],
      "text/plain": [
       "<IPython.core.display.HTML object>"
      ]
     },
     "metadata": {},
     "output_type": "display_data"
    },
    {
     "data": {
      "text/html": [
       "Tracking run with wandb version 0.12.18"
      ],
      "text/plain": [
       "<IPython.core.display.HTML object>"
      ]
     },
     "metadata": {},
     "output_type": "display_data"
    },
    {
     "data": {
      "text/html": [
       "Run data is saved locally in <code>/home/lab38/Multi_proj_6/model/multi-output/strawberry/sweep/wandb/run-20220618_225145-uwq1766q</code>"
      ],
      "text/plain": [
       "<IPython.core.display.HTML object>"
      ]
     },
     "metadata": {},
     "output_type": "display_data"
    },
    {
     "data": {
      "text/html": [
       "Syncing run <strong><a href=\"https://wandb.ai/hkleee/strawberry/runs/uwq1766q\" target=\"_blank\">genial-sweep-38</a></strong> to <a href=\"https://wandb.ai/hkleee/strawberry\" target=\"_blank\">Weights & Biases</a> (<a href=\"https://wandb.me/run\" target=\"_blank\">docs</a>)<br/>Sweep page:  <a href=\"https://wandb.ai/hkleee/strawberry/sweeps/natutesf\" target=\"_blank\">https://wandb.ai/hkleee/strawberry/sweeps/natutesf</a>"
      ],
      "text/plain": [
       "<IPython.core.display.HTML object>"
      ]
     },
     "metadata": {},
     "output_type": "display_data"
    },
    {
     "name": "stdout",
     "output_type": "stream",
     "text": [
      "Found 13437 validated image filenames.\n",
      "Found 3360 validated image filenames.\n",
      "Epoch 1/10\n",
      "671/671 [==============================] - 320s 465ms/step - loss: 2.4553 - diease_outputs_loss: 1.0244 - grow_outputs_loss: 1.4309 - diease_outputs_accuracy: 0.6804 - grow_outputs_accuracy: 0.5491 - val_loss: 1.2446 - val_diease_outputs_loss: 0.4912 - val_grow_outputs_loss: 0.7534 - val_diease_outputs_accuracy: 0.8086 - val_grow_outputs_accuracy: 0.6747\n",
      "Epoch 2/10\n",
      "671/671 [==============================] - 311s 463ms/step - loss: 1.4702 - diease_outputs_loss: 0.5842 - grow_outputs_loss: 0.8860 - diease_outputs_accuracy: 0.7726 - grow_outputs_accuracy: 0.6316 - val_loss: 1.2840 - val_diease_outputs_loss: 0.4591 - val_grow_outputs_loss: 0.8249 - val_diease_outputs_accuracy: 0.8262 - val_grow_outputs_accuracy: 0.6664\n",
      "Epoch 3/10\n",
      "671/671 [==============================] - 311s 463ms/step - loss: 1.3923 - diease_outputs_loss: 0.5406 - grow_outputs_loss: 0.8517 - diease_outputs_accuracy: 0.7899 - grow_outputs_accuracy: 0.6435 - val_loss: 1.0560 - val_diease_outputs_loss: 0.3782 - val_grow_outputs_loss: 0.6777 - val_diease_outputs_accuracy: 0.8560 - val_grow_outputs_accuracy: 0.7179\n",
      "Epoch 4/10\n",
      "671/671 [==============================] - 311s 464ms/step - loss: 1.3147 - diease_outputs_loss: 0.4798 - grow_outputs_loss: 0.8349 - diease_outputs_accuracy: 0.8146 - grow_outputs_accuracy: 0.6533 - val_loss: 0.9491 - val_diease_outputs_loss: 0.2867 - val_grow_outputs_loss: 0.6624 - val_diease_outputs_accuracy: 0.8952 - val_grow_outputs_accuracy: 0.7185\n",
      "Epoch 5/10\n",
      "671/671 [==============================] - 310s 462ms/step - loss: 1.2316 - diease_outputs_loss: 0.4361 - grow_outputs_loss: 0.7956 - diease_outputs_accuracy: 0.8370 - grow_outputs_accuracy: 0.6627 - val_loss: 1.2063 - val_diease_outputs_loss: 0.2935 - val_grow_outputs_loss: 0.9128 - val_diease_outputs_accuracy: 0.8902 - val_grow_outputs_accuracy: 0.6366\n",
      "Epoch 6/10\n",
      "671/671 [==============================] - 310s 461ms/step - loss: 1.2389 - diease_outputs_loss: 0.4415 - grow_outputs_loss: 0.7974 - diease_outputs_accuracy: 0.8344 - grow_outputs_accuracy: 0.6754 - val_loss: 0.9171 - val_diease_outputs_loss: 0.2915 - val_grow_outputs_loss: 0.6255 - val_diease_outputs_accuracy: 0.8908 - val_grow_outputs_accuracy: 0.7443\n",
      "Epoch 7/10\n",
      "671/671 [==============================] - 311s 463ms/step - loss: 1.1966 - diease_outputs_loss: 0.4344 - grow_outputs_loss: 0.7622 - diease_outputs_accuracy: 0.8293 - grow_outputs_accuracy: 0.6808 - val_loss: 0.9566 - val_diease_outputs_loss: 0.3268 - val_grow_outputs_loss: 0.6298 - val_diease_outputs_accuracy: 0.8768 - val_grow_outputs_accuracy: 0.7533\n",
      "Epoch 8/10\n",
      "671/671 [==============================] - 315s 469ms/step - loss: 1.1553 - diease_outputs_loss: 0.4216 - grow_outputs_loss: 0.7337 - diease_outputs_accuracy: 0.8458 - grow_outputs_accuracy: 0.7015 - val_loss: 0.9611 - val_diease_outputs_loss: 0.2457 - val_grow_outputs_loss: 0.7155 - val_diease_outputs_accuracy: 0.9143 - val_grow_outputs_accuracy: 0.7137\n",
      "Epoch 9/10\n",
      "671/671 [==============================] - 312s 465ms/step - loss: 1.1661 - diease_outputs_loss: 0.4003 - grow_outputs_loss: 0.7658 - diease_outputs_accuracy: 0.8469 - grow_outputs_accuracy: 0.6815 - val_loss: 1.0897 - val_diease_outputs_loss: 0.2991 - val_grow_outputs_loss: 0.7906 - val_diease_outputs_accuracy: 0.9009 - val_grow_outputs_accuracy: 0.6994\n",
      "Epoch 10/10\n",
      "671/671 [==============================] - 312s 465ms/step - loss: 1.1742 - diease_outputs_loss: 0.4060 - grow_outputs_loss: 0.7682 - diease_outputs_accuracy: 0.8497 - grow_outputs_accuracy: 0.6849 - val_loss: 1.0272 - val_diease_outputs_loss: 0.4048 - val_grow_outputs_loss: 0.6224 - val_diease_outputs_accuracy: 0.8548 - val_grow_outputs_accuracy: 0.7482\n"
     ]
    },
    {
     "data": {
      "text/html": [
       "Waiting for W&B process to finish... <strong style=\"color:green\">(success).</strong>"
      ],
      "text/plain": [
       "<IPython.core.display.HTML object>"
      ]
     },
     "metadata": {},
     "output_type": "display_data"
    },
    {
     "data": {
      "text/html": [
       "<style>\n",
       "    table.wandb td:nth-child(1) { padding: 0 10px; text-align: left ; width: auto;} td:nth-child(2) {text-align: left ; width: 100%}\n",
       "    .wandb-row { display: flex; flex-direction: row; flex-wrap: wrap; justify-content: flex-start; width: 100% }\n",
       "    .wandb-col { display: flex; flex-direction: column; flex-basis: 100%; flex: 1; padding: 10px; }\n",
       "    </style>\n",
       "<div class=\"wandb-row\"><div class=\"wandb-col\"><h3>Run history:</h3><br/><table class=\"wandb\"><tr><td>diease_outputs_accuracy</td><td>▁▄▅▆▇▇▇███</td></tr><tr><td>diease_outputs_loss</td><td>█▄▃▂▂▂▁▁▁▁</td></tr><tr><td>epoch</td><td>▁▂▃▃▄▅▆▆▇█</td></tr><tr><td>grow_outputs_accuracy</td><td>▁▄▅▆▆▇▇███</td></tr><tr><td>grow_outputs_loss</td><td>█▃▃▂▂▂▁▁▁▁</td></tr><tr><td>loss</td><td>█▄▃▂▂▂▁▁▁▁</td></tr><tr><td>val_diease_outputs_accuracy</td><td>▁▂▄▇▆▆▆█▇▄</td></tr><tr><td>val_diease_outputs_loss</td><td>█▇▅▂▂▂▃▁▃▆</td></tr><tr><td>val_grow_outputs_accuracy</td><td>▃▃▆▆▁▇█▆▅█</td></tr><tr><td>val_grow_outputs_loss</td><td>▄▆▂▂█▁▁▃▅▁</td></tr><tr><td>val_loss</td><td>▇█▄▂▇▁▂▂▄▃</td></tr></table><br/></div><div class=\"wandb-col\"><h3>Run summary:</h3><br/><table class=\"wandb\"><tr><td>best_epoch</td><td>5</td></tr><tr><td>best_val_loss</td><td>0.91708</td></tr><tr><td>diease_outputs_accuracy</td><td>0.8484</td></tr><tr><td>diease_outputs_loss</td><td>0.40585</td></tr><tr><td>epoch</td><td>9</td></tr><tr><td>grow_outputs_accuracy</td><td>0.68898</td></tr><tr><td>grow_outputs_loss</td><td>0.75834</td></tr><tr><td>loss</td><td>1.16419</td></tr><tr><td>val_diease_outputs_accuracy</td><td>0.85476</td></tr><tr><td>val_diease_outputs_loss</td><td>0.40482</td></tr><tr><td>val_grow_outputs_accuracy</td><td>0.74821</td></tr><tr><td>val_grow_outputs_loss</td><td>0.6224</td></tr><tr><td>val_loss</td><td>1.02722</td></tr></table><br/></div></div>"
      ],
      "text/plain": [
       "<IPython.core.display.HTML object>"
      ]
     },
     "metadata": {},
     "output_type": "display_data"
    },
    {
     "data": {
      "text/html": [
       "Synced <strong style=\"color:#cdcd00\">genial-sweep-38</strong>: <a href=\"https://wandb.ai/hkleee/strawberry/runs/uwq1766q\" target=\"_blank\">https://wandb.ai/hkleee/strawberry/runs/uwq1766q</a><br/>Synced 6 W&B file(s), 1 media file(s), 0 artifact file(s) and 1 other file(s)"
      ],
      "text/plain": [
       "<IPython.core.display.HTML object>"
      ]
     },
     "metadata": {},
     "output_type": "display_data"
    },
    {
     "data": {
      "text/html": [
       "Find logs at: <code>./wandb/run-20220618_225145-uwq1766q/logs</code>"
      ],
      "text/plain": [
       "<IPython.core.display.HTML object>"
      ]
     },
     "metadata": {},
     "output_type": "display_data"
    },
    {
     "name": "stderr",
     "output_type": "stream",
     "text": [
      "\u001b[34m\u001b[1mwandb\u001b[0m: Sweep Agent: Waiting for job.\n",
      "\u001b[34m\u001b[1mwandb\u001b[0m: Job received.\n",
      "\u001b[34m\u001b[1mwandb\u001b[0m: Agent Starting Run: wggn7g4j with config:\n",
      "\u001b[34m\u001b[1mwandb\u001b[0m: \tactivation: elu\n",
      "\u001b[34m\u001b[1mwandb\u001b[0m: \tbatch_size: 50\n",
      "\u001b[34m\u001b[1mwandb\u001b[0m: \tdense: 256\n",
      "\u001b[34m\u001b[1mwandb\u001b[0m: \tdropout: 0.2\n",
      "\u001b[34m\u001b[1mwandb\u001b[0m: \tlearning_rate: 0.0001\n",
      "\u001b[34m\u001b[1mwandb\u001b[0m: \toptimizer: rmsprop\n",
      "\u001b[34m\u001b[1mwandb\u001b[0m: \tpretrain_net: inception\n",
      "Failed to detect the name of this notebook, you can set it manually with the WANDB_NOTEBOOK_NAME environment variable to enable code saving.\n"
     ]
    },
    {
     "data": {
      "text/html": [
       "Tracking run with wandb version 0.12.18"
      ],
      "text/plain": [
       "<IPython.core.display.HTML object>"
      ]
     },
     "metadata": {},
     "output_type": "display_data"
    },
    {
     "data": {
      "text/html": [
       "Run data is saved locally in <code>/home/lab38/Multi_proj_6/model/multi-output/strawberry/sweep/wandb/run-20220618_234434-wggn7g4j</code>"
      ],
      "text/plain": [
       "<IPython.core.display.HTML object>"
      ]
     },
     "metadata": {},
     "output_type": "display_data"
    },
    {
     "data": {
      "text/html": [
       "Syncing run <strong><a href=\"https://wandb.ai/hkleee/strawberry/runs/wggn7g4j\" target=\"_blank\">deft-sweep-39</a></strong> to <a href=\"https://wandb.ai/hkleee/strawberry\" target=\"_blank\">Weights & Biases</a> (<a href=\"https://wandb.me/run\" target=\"_blank\">docs</a>)<br/>Sweep page:  <a href=\"https://wandb.ai/hkleee/strawberry/sweeps/natutesf\" target=\"_blank\">https://wandb.ai/hkleee/strawberry/sweeps/natutesf</a>"
      ],
      "text/plain": [
       "<IPython.core.display.HTML object>"
      ]
     },
     "metadata": {},
     "output_type": "display_data"
    },
    {
     "data": {
      "text/html": [
       "Finishing last run (ID:wggn7g4j) before initializing another..."
      ],
      "text/plain": [
       "<IPython.core.display.HTML object>"
      ]
     },
     "metadata": {},
     "output_type": "display_data"
    },
    {
     "data": {
      "text/html": [
       "Waiting for W&B process to finish... <strong style=\"color:green\">(success).</strong>"
      ],
      "text/plain": [
       "<IPython.core.display.HTML object>"
      ]
     },
     "metadata": {},
     "output_type": "display_data"
    },
    {
     "data": {
      "text/html": [
       "Synced <strong style=\"color:#cdcd00\">deft-sweep-39</strong>: <a href=\"https://wandb.ai/hkleee/strawberry/runs/wggn7g4j\" target=\"_blank\">https://wandb.ai/hkleee/strawberry/runs/wggn7g4j</a><br/>Synced 5 W&B file(s), 0 media file(s), 0 artifact file(s) and 0 other file(s)"
      ],
      "text/plain": [
       "<IPython.core.display.HTML object>"
      ]
     },
     "metadata": {},
     "output_type": "display_data"
    },
    {
     "data": {
      "text/html": [
       "Find logs at: <code>./wandb/run-20220618_234434-wggn7g4j/logs</code>"
      ],
      "text/plain": [
       "<IPython.core.display.HTML object>"
      ]
     },
     "metadata": {},
     "output_type": "display_data"
    },
    {
     "data": {
      "text/html": [
       "Successfully finished last run (ID:wggn7g4j). Initializing new run:<br/>"
      ],
      "text/plain": [
       "<IPython.core.display.HTML object>"
      ]
     },
     "metadata": {},
     "output_type": "display_data"
    },
    {
     "data": {
      "text/html": [
       "Tracking run with wandb version 0.12.18"
      ],
      "text/plain": [
       "<IPython.core.display.HTML object>"
      ]
     },
     "metadata": {},
     "output_type": "display_data"
    },
    {
     "data": {
      "text/html": [
       "Run data is saved locally in <code>/home/lab38/Multi_proj_6/model/multi-output/strawberry/sweep/wandb/run-20220618_234438-wggn7g4j</code>"
      ],
      "text/plain": [
       "<IPython.core.display.HTML object>"
      ]
     },
     "metadata": {},
     "output_type": "display_data"
    },
    {
     "data": {
      "text/html": [
       "Syncing run <strong><a href=\"https://wandb.ai/hkleee/strawberry/runs/wggn7g4j\" target=\"_blank\">deft-sweep-39</a></strong> to <a href=\"https://wandb.ai/hkleee/strawberry\" target=\"_blank\">Weights & Biases</a> (<a href=\"https://wandb.me/run\" target=\"_blank\">docs</a>)<br/>Sweep page:  <a href=\"https://wandb.ai/hkleee/strawberry/sweeps/natutesf\" target=\"_blank\">https://wandb.ai/hkleee/strawberry/sweeps/natutesf</a>"
      ],
      "text/plain": [
       "<IPython.core.display.HTML object>"
      ]
     },
     "metadata": {},
     "output_type": "display_data"
    },
    {
     "name": "stdout",
     "output_type": "stream",
     "text": [
      "Found 13437 validated image filenames.\n",
      "Found 3360 validated image filenames.\n",
      "Epoch 1/10\n",
      "268/268 [==============================] - 333s 1s/step - loss: 2.0327 - diease_outputs_loss: 0.8806 - grow_outputs_loss: 1.1521 - diease_outputs_accuracy: 0.6265 - grow_outputs_accuracy: 0.5063 - val_loss: 1.3729 - val_diease_outputs_loss: 0.5382 - val_grow_outputs_loss: 0.8346 - val_diease_outputs_accuracy: 0.8015 - val_grow_outputs_accuracy: 0.6393\n",
      "Epoch 2/10\n",
      "268/268 [==============================] - 321s 1s/step - loss: 1.4167 - diease_outputs_loss: 0.5709 - grow_outputs_loss: 0.8458 - diease_outputs_accuracy: 0.7837 - grow_outputs_accuracy: 0.6491 - val_loss: 1.2412 - val_diease_outputs_loss: 0.4477 - val_grow_outputs_loss: 0.7935 - val_diease_outputs_accuracy: 0.8396 - val_grow_outputs_accuracy: 0.6613\n",
      "Epoch 3/10\n",
      "268/268 [==============================] - 319s 1s/step - loss: 1.2888 - diease_outputs_loss: 0.4884 - grow_outputs_loss: 0.8004 - diease_outputs_accuracy: 0.8144 - grow_outputs_accuracy: 0.6621 - val_loss: 1.1759 - val_diease_outputs_loss: 0.4040 - val_grow_outputs_loss: 0.7719 - val_diease_outputs_accuracy: 0.8515 - val_grow_outputs_accuracy: 0.6795\n",
      "Epoch 4/10\n",
      "268/268 [==============================] - 325s 1s/step - loss: 1.2184 - diease_outputs_loss: 0.4529 - grow_outputs_loss: 0.7655 - diease_outputs_accuracy: 0.8295 - grow_outputs_accuracy: 0.6775 - val_loss: 1.1106 - val_diease_outputs_loss: 0.3816 - val_grow_outputs_loss: 0.7290 - val_diease_outputs_accuracy: 0.8619 - val_grow_outputs_accuracy: 0.6946\n",
      "Epoch 5/10\n",
      "268/268 [==============================] - 328s 1s/step - loss: 1.1854 - diease_outputs_loss: 0.4385 - grow_outputs_loss: 0.7469 - diease_outputs_accuracy: 0.8353 - grow_outputs_accuracy: 0.6936 - val_loss: 1.1023 - val_diease_outputs_loss: 0.3760 - val_grow_outputs_loss: 0.7262 - val_diease_outputs_accuracy: 0.8610 - val_grow_outputs_accuracy: 0.7003\n",
      "Epoch 6/10\n",
      "268/268 [==============================] - 324s 1s/step - loss: 1.1495 - diease_outputs_loss: 0.4102 - grow_outputs_loss: 0.7393 - diease_outputs_accuracy: 0.8486 - grow_outputs_accuracy: 0.6921 - val_loss: 1.0454 - val_diease_outputs_loss: 0.3520 - val_grow_outputs_loss: 0.6934 - val_diease_outputs_accuracy: 0.8667 - val_grow_outputs_accuracy: 0.7140\n",
      "Epoch 7/10\n",
      "268/268 [==============================] - 320s 1s/step - loss: 1.1255 - diease_outputs_loss: 0.4000 - grow_outputs_loss: 0.7254 - diease_outputs_accuracy: 0.8492 - grow_outputs_accuracy: 0.7010 - val_loss: 1.0288 - val_diease_outputs_loss: 0.3559 - val_grow_outputs_loss: 0.6729 - val_diease_outputs_accuracy: 0.8771 - val_grow_outputs_accuracy: 0.7330\n",
      "Epoch 8/10\n",
      "268/268 [==============================] - 323s 1s/step - loss: 1.0984 - diease_outputs_loss: 0.3945 - grow_outputs_loss: 0.7039 - diease_outputs_accuracy: 0.8538 - grow_outputs_accuracy: 0.7111 - val_loss: 1.0213 - val_diease_outputs_loss: 0.3282 - val_grow_outputs_loss: 0.6931 - val_diease_outputs_accuracy: 0.8789 - val_grow_outputs_accuracy: 0.7161\n",
      "Epoch 9/10\n",
      "268/268 [==============================] - 325s 1s/step - loss: 1.0831 - diease_outputs_loss: 0.3741 - grow_outputs_loss: 0.7090 - diease_outputs_accuracy: 0.8626 - grow_outputs_accuracy: 0.7074 - val_loss: 1.0225 - val_diease_outputs_loss: 0.3191 - val_grow_outputs_loss: 0.7034 - val_diease_outputs_accuracy: 0.8780 - val_grow_outputs_accuracy: 0.7155\n",
      "Epoch 10/10\n",
      "196/268 [====================>.........] - ETA: 1:17 - loss: 1.0768 - diease_outputs_loss: 0.3821 - grow_outputs_loss: 0.6948 - diease_outputs_accuracy: 0.8561 - grow_outputs_accuracy: 0.7112"
     ]
    }
   ],
   "source": [
    "wandb.agent('natutesf', train)"
   ]
  },
  {
   "cell_type": "code",
   "execution_count": null,
   "id": "f964e377",
   "metadata": {},
   "outputs": [],
   "source": []
  }
 ],
 "metadata": {
  "kernelspec": {
   "display_name": "Python [conda env:smartpot]",
   "language": "python",
   "name": "conda-env-smartpot-py"
  },
  "language_info": {
   "codemirror_mode": {
    "name": "ipython",
    "version": 3
   },
   "file_extension": ".py",
   "mimetype": "text/x-python",
   "name": "python",
   "nbconvert_exporter": "python",
   "pygments_lexer": "ipython3",
   "version": "3.9.12"
  }
 },
 "nbformat": 4,
 "nbformat_minor": 5
}
